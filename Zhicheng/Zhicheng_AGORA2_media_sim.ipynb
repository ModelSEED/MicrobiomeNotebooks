{
 "cells": [
  {
   "cell_type": "markdown",
   "metadata": {},
   "source": [
    "# load the AGORA2 models and media"
   ]
  },
  {
   "cell_type": "code",
   "execution_count": 2,
   "metadata": {},
   "outputs": [
    {
     "name": "stdout",
     "output_type": "stream",
     "text": [
      "['__class__', '__delattr__', '__dict__', '__dir__', '__doc__', '__eq__', '__format__', '__ge__', '__getattribute__', '__getstate__', '__gt__', '__hash__', '__init__', '__init_subclass__', '__le__', '__lt__', '__module__', '__ne__', '__new__', '__reduce__', '__reduce_ex__', '__repr__', '__setattr__', '__sizeof__', '__str__', '__subclasshook__', '__weakref__', '_annotation', '_bound', '_id', '_model', '_reaction', '_repr_html_', '_set_id_with_model', 'abbr', 'annotation', 'charge', 'compartment', 'constraint', 'copy', 'delta_g', 'delta_g_error', 'elements', 'flags', 'formula', 'formula_weight', 'id', 'inchi', 'inchi_key', 'is_abstract', 'is_cofactor', 'is_core', 'is_obsolete', 'linked_compound', 'mass', 'model', 'name', 'names', 'notes', 'pka', 'pkb', 'reactions', 'remove_from_model', 'seed_id', 'shadow_price', 'smiles', 'source', 'summary', 'to_template_compartment_compound', 'y']\n"
     ]
    }
   ],
   "source": [
    "from modelseedpy.biochem import from_local\n",
    "\n",
    "msdb = from_local(\"../../ModelSEEDDatabase/\")\n",
    "print(dir(msdb.compounds[0]))"
   ]
  },
  {
   "cell_type": "code",
   "execution_count": 3,
   "metadata": {},
   "outputs": [
    {
     "name": "stdout",
     "output_type": "stream",
     "text": [
      "../../AGORA2_models/Klebsiella_aerogenes_CAV1320.xml\n"
     ]
    }
   ],
   "source": [
    "from cobra.io import read_sbml_model\n",
    "from glob import glob\n",
    "\n",
    "def get_model(path):\n",
    "    try:  model = read_sbml_model(path)\n",
    "    except:  return\n",
    "\n",
    "# models = []\n",
    "# for model in glob(\"../../AGORA2_models/*.xml\"):\n",
    "#     try:     models.append(read_sbml_model(model))\n",
    "#     except:  print(model, \" is broken\")\n",
    "\n",
    "from multiprocess import Pool\n",
    "pool = Pool(24)\n",
    "args = glob(\"../../AGORA2_models/*.xml\")\n",
    "print(args[0])\n",
    "pool.map(get_model, args)"
   ]
  },
  {
   "cell_type": "markdown",
   "metadata": {},
   "source": [
    "# simulate the community"
   ]
  },
  {
   "cell_type": "code",
   "execution_count": null,
   "metadata": {},
   "outputs": [],
   "source": [
    "%run ../../ModelSEEDpy/modelseedpy/community/MSCommunity.py\n"
   ]
  },
  {
   "cell_type": "markdown",
   "metadata": {},
   "source": [
    "# "
   ]
  },
  {
   "cell_type": "code",
   "execution_count": null,
   "metadata": {},
   "outputs": [],
   "source": [
    "ws_client = util.ws_client()\n",
    "output = ws_client.list_objects({\"ids\":[178418]})\n",
    "genome_hash = {}\n",
    "for item in output:\n",
    "    genome_hash[item[1]] = item\n",
    "asvssets_with_missing_genomes = {}\n",
    "missing_genomes = {}\n",
    "asvset_genomes = util.load(\"asvset_genomes\")\n",
    "for asvset in asvset_genomes:\n",
    "    for genomeid in asvset_genomes[asvset]:\n",
    "        if genomeid not in genome_hash and genomeid+\".RAST\" not in genome_hash:\n",
    "            if genomeid not in missing_genomes:\n",
    "                missing_genomes[genomeid] = []\n",
    "            if asvset not in missing_genomes[genomeid]:\n",
    "                missing_genomes[genomeid].append(asvset)\n",
    "            if asvset not in asvssets_with_missing_genomes:\n",
    "                asvssets_with_missing_genomes[asvset] = []\n",
    "            if genomeid not in asvssets_with_missing_genomes[asvset]:\n",
    "                asvssets_with_missing_genomes[asvset].append(genomeid)\n",
    "util.save(\"missing_genomes\", missing_genomes)\n",
    "util.save(\"asvssets_with_missing_genomes\", asvssets_with_missing_genomes)\n",
    "for genomeid in missing_genomes:\n",
    "    print(genomeid,len(missing_genomes[genomeid]))\n",
    "for asvset in asvssets_with_missing_genomes:\n",
    "    print(asvset,len(asvssets_with_missing_genomes[asvset]),len(asvset_genomes[asvset]))\n",
    "    if len(asvset_genomes[asvset]) <= 2:\n",
    "        for genomeid in asvset_genomes[asvset]:\n",
    "            if genomeid in missing_genomes:\n",
    "                print(genomeid)"
   ]
  }
 ],
 "metadata": {
  "kernelspec": {
   "display_name": "Python 3 (ipykernel)",
   "language": "python",
   "name": "python3"
  },
  "language_info": {
   "codemirror_mode": {
    "name": "ipython",
    "version": 3
   },
   "file_extension": ".py",
   "mimetype": "text/x-python",
   "name": "python",
   "nbconvert_exporter": "python",
   "pygments_lexer": "ipython3",
   "version": "3.11.1"
  }
 },
 "nbformat": 4,
 "nbformat_minor": 4
}
