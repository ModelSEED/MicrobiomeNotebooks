{
 "cells": [
  {
   "cell_type": "markdown",
   "metadata": {},
   "source": [
    "# load the AGORA2 models and media"
   ]
  },
  {
   "cell_type": "code",
   "execution_count": 1,
   "metadata": {},
   "outputs": [
    {
     "data": {
      "text/html": [
       "<div>\n",
       "<style scoped>\n",
       "    .dataframe tbody tr th:only-of-type {\n",
       "        vertical-align: middle;\n",
       "    }\n",
       "\n",
       "    .dataframe tbody tr th {\n",
       "        vertical-align: top;\n",
       "    }\n",
       "\n",
       "    .dataframe thead th {\n",
       "        text-align: right;\n",
       "    }\n",
       "</style>\n",
       "<table border=\"1\" class=\"dataframe\">\n",
       "  <thead>\n",
       "    <tr style=\"text-align: right;\">\n",
       "      <th></th>\n",
       "      <th>name</th>\n",
       "      <th>CAS</th>\n",
       "      <th>SMILES</th>\n",
       "    </tr>\n",
       "  </thead>\n",
       "  <tbody>\n",
       "    <tr>\n",
       "      <th>0</th>\n",
       "      <td>adrenic acid</td>\n",
       "      <td>28874-58-0</td>\n",
       "      <td>CCCCC/C=C\\C/C=C\\C/C=C\\C/C=C\\CCCCCC(=O)O</td>\n",
       "    </tr>\n",
       "    <tr>\n",
       "      <th>1</th>\n",
       "      <td>acetic acid</td>\n",
       "      <td>64-19-7</td>\n",
       "      <td>CC(=O)O</td>\n",
       "    </tr>\n",
       "    <tr>\n",
       "      <th>2</th>\n",
       "      <td>alanine</td>\n",
       "      <td>56-41-7</td>\n",
       "      <td>C[C@@H](C(=O)O)N</td>\n",
       "    </tr>\n",
       "    <tr>\n",
       "      <th>3</th>\n",
       "      <td>alcohol</td>\n",
       "      <td>64-17-5</td>\n",
       "      <td>CCO</td>\n",
       "    </tr>\n",
       "    <tr>\n",
       "      <th>4</th>\n",
       "      <td>alpha-carotene</td>\n",
       "      <td>7488-99-5</td>\n",
       "      <td>CC1=C(C(CCC1)(C)C)/C=C/C(=C/C=C/C(=C/C=C/C=C(\\...</td>\n",
       "    </tr>\n",
       "    <tr>\n",
       "      <th>...</th>\n",
       "      <td>...</td>\n",
       "      <td>...</td>\n",
       "      <td>...</td>\n",
       "    </tr>\n",
       "    <tr>\n",
       "      <th>115</th>\n",
       "      <td>vitamin d3</td>\n",
       "      <td>67-97-0</td>\n",
       "      <td>C[C@H](CCCC(C)C)[C@H]1CC[C@@H]\\2[C@@]1(CCC/C2=...</td>\n",
       "    </tr>\n",
       "    <tr>\n",
       "      <th>116</th>\n",
       "      <td>vitamin k</td>\n",
       "      <td>12001-79-5</td>\n",
       "      <td>CC1=C(C(=O)C2=CC=CC=C2C1=O)CC=C(C)CCCC(C)CCCC(...</td>\n",
       "    </tr>\n",
       "    <tr>\n",
       "      <th>117</th>\n",
       "      <td>xylitol</td>\n",
       "      <td>87-99-0</td>\n",
       "      <td>C(C(C(C(CO)O)O)O)O</td>\n",
       "    </tr>\n",
       "    <tr>\n",
       "      <th>118</th>\n",
       "      <td>xylose</td>\n",
       "      <td>10257-31-5</td>\n",
       "      <td>C1[C@H]([C@@H]([C@H](C(O1)O)O)O)O</td>\n",
       "    </tr>\n",
       "    <tr>\n",
       "      <th>119</th>\n",
       "      <td>zeaxanthin</td>\n",
       "      <td>144-68-3</td>\n",
       "      <td>CC1=C(C(C[C@@H](C1)O)(C)C)/C=C/C(=C/C=C/C(=C/C...</td>\n",
       "    </tr>\n",
       "  </tbody>\n",
       "</table>\n",
       "<p>120 rows × 3 columns</p>\n",
       "</div>"
      ],
      "text/plain": [
       "               name         CAS  \\\n",
       "0      adrenic acid  28874-58-0   \n",
       "1       acetic acid     64-19-7   \n",
       "2           alanine     56-41-7   \n",
       "3           alcohol     64-17-5   \n",
       "4    alpha-carotene   7488-99-5   \n",
       "..              ...         ...   \n",
       "115      vitamin d3     67-97-0   \n",
       "116       vitamin k  12001-79-5   \n",
       "117         xylitol     87-99-0   \n",
       "118          xylose  10257-31-5   \n",
       "119      zeaxanthin    144-68-3   \n",
       "\n",
       "                                                SMILES  \n",
       "0              CCCCC/C=C\\C/C=C\\C/C=C\\C/C=C\\CCCCCC(=O)O  \n",
       "1                                              CC(=O)O  \n",
       "2                                   C[C@@H](C(=O)O)N    \n",
       "3                                                CCO    \n",
       "4    CC1=C(C(CCC1)(C)C)/C=C/C(=C/C=C/C(=C/C=C/C=C(\\...  \n",
       "..                                                 ...  \n",
       "115  C[C@H](CCCC(C)C)[C@H]1CC[C@@H]\\2[C@@]1(CCC/C2=...  \n",
       "116  CC1=C(C(=O)C2=CC=CC=C2C1=O)CC=C(C)CCCC(C)CCCC(...  \n",
       "117                                 C(C(C(C(CO)O)O)O)O  \n",
       "118                  C1[C@H]([C@@H]([C@H](C(O1)O)O)O)O  \n",
       "119  CC1=C(C(C[C@@H](C1)O)(C)C)/C=C/C(=C/C=C/C(=C/C...  \n",
       "\n",
       "[120 rows x 3 columns]"
      ]
     },
     "metadata": {},
     "output_type": "display_data"
    }
   ],
   "source": [
    "from pandas import read_excel\n",
    "\n",
    "nutrients_tbl = read_excel(\"nutrient list_20231219.xlsx\")\n",
    "display(nutrients_tbl)"
   ]
  },
  {
   "cell_type": "code",
   "execution_count": 2,
   "metadata": {},
   "outputs": [
    {
     "name": "stdout",
     "output_type": "stream",
     "text": [
      "['__class__', '__delattr__', '__dict__', '__dir__', '__doc__', '__eq__', '__format__', '__ge__', '__getattribute__', '__getstate__', '__gt__', '__hash__', '__init__', '__init_subclass__', '__le__', '__lt__', '__module__', '__ne__', '__new__', '__reduce__', '__reduce_ex__', '__repr__', '__setattr__', '__sizeof__', '__str__', '__subclasshook__', '__weakref__', '_annotation', '_bound', '_id', '_model', '_reaction', '_repr_html_', '_set_id_with_model', 'abbr', 'annotation', 'charge', 'compartment', 'constraint', 'copy', 'delta_g', 'delta_g_error', 'elements', 'flags', 'formula', 'formula_weight', 'id', 'inchi', 'inchi_key', 'is_abstract', 'is_cofactor', 'is_core', 'is_obsolete', 'linked_compound', 'mass', 'model', 'name', 'names', 'notes', 'pka', 'pkb', 'reactions', 'remove_from_model', 'seed_id', 'shadow_price', 'smiles', 'source', 'summary', 'to_template_compartment_compound', 'y']\n"
     ]
    }
   ],
   "source": [
    "from modelseedpy.biochem import from_local\n",
    "\n",
    "msdb = from_local(\"../../ModelSEEDDatabase/\")\n",
    "print(dir(msdb.compounds[0]))"
   ]
  },
  {
   "cell_type": "code",
   "execution_count": 3,
   "metadata": {},
   "outputs": [
    {
     "name": "stdout",
     "output_type": "stream",
     "text": [
      "../../AGORA2_models/Klebsiella_aerogenes_CAV1320.xml\n"
     ]
    }
   ],
   "source": [
    "from cobra.io import read_sbml_model\n",
    "from glob import glob\n",
    "\n",
    "def get_model(path):\n",
    "    try:  model = read_sbml_model(path)\n",
    "    except:  return\n",
    "\n",
    "# models = []\n",
    "# for model in glob(\"../../AGORA2_models/*.xml\"):\n",
    "#     try:     models.append(read_sbml_model(model))\n",
    "#     except:  print(model, \" is broken\")\n",
    "\n",
    "from multiprocess import Pool\n",
    "pool = Pool(24)\n",
    "args = glob(\"../../AGORA2_models/*.xml\")\n",
    "print(args[0])\n",
    "pool.map(get_model, args)"
   ]
  },
  {
   "cell_type": "markdown",
   "metadata": {},
   "source": [
    "# simulate the community"
   ]
  },
  {
   "cell_type": "code",
   "execution_count": null,
   "metadata": {},
   "outputs": [],
   "source": [
    "%run ../../ModelSEEDpy/modelseedpy/community/MSCommunity.py\n"
   ]
  }
 ],
 "metadata": {
  "kernelspec": {
   "display_name": "Python 3",
   "language": "python",
   "name": "python3"
  },
  "language_info": {
   "codemirror_mode": {
    "name": "ipython",
    "version": 3
   },
   "file_extension": ".py",
   "mimetype": "text/x-python",
   "name": "python",
   "nbconvert_exporter": "python",
   "pygments_lexer": "ipython3",
   "version": "3.9.6"
  }
 },
 "nbformat": 4,
 "nbformat_minor": 2
}
