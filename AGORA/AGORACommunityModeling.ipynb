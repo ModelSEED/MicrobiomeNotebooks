{
 "cells": [
  {
   "cell_type": "markdown",
   "metadata": {},
   "source": [
    "# Configure KBase Jupyter Dev Environment"
   ]
  },
  {
   "cell_type": "code",
   "execution_count": 2,
   "metadata": {
    "tags": []
   },
   "outputs": [],
   "source": [
    "from json import load\n",
    "with open(\"averaged_asv_abundances_interday_mapping.json\", 'r') as jsonIn:  asv_dict = load(jsonIn)\n",
    "\n",
    "from pandas import read_csv\n",
    "changes_df = read_csv(\"metabolomics differences.csv\").set_index(\"day_diet diff\") if \"changes_df\" not in locals() else changes_df\n",
    "\n",
    "# from cobra.io import read_sbml_model#, write_sbml_model\n",
    "# from glob import glob\n",
    "\n",
    "# models = []\n",
    "# skip = True\n",
    "# for model_path in glob(\"*.xml\"):\n",
    "#     if \"_comm\" in model_path:  continue\n",
    "#     if skip:  skip = False ; continue\n",
    "#     print(model_path)\n",
    "#     try:   models.append(read_sbml_model(model_path))\n",
    "#     except:  print(f\"FAIL:   {model_path}\") ; continue\n",
    "#     display(models[-1].optimize())    \n",
    "#     # if len(models) == 10:  break"
   ]
  },
  {
   "cell_type": "markdown",
   "metadata": {},
   "source": [
    "# Loading ASV abundances for all samples"
   ]
  },
  {
   "cell_type": "code",
   "execution_count": 55,
   "metadata": {
    "tags": []
   },
   "outputs": [],
   "source": [
    "# asv_abundances = {interday: {model.id: asv_dict[model.id][interday]\n",
    "#                              for model in models if abs(asv_dict[model.id][interday]) != 0}\n",
    "#                              for interday in changes_df.index if \"RC\" in interday}\n",
    "# #Normalizing abundance\n",
    "# for sample in asv_abundances:\n",
    "#     total_abundance = sum(asv_abundances[sample].values())\n",
    "#     for asv in asv_abundances[sample]:\n",
    "#         asv_abundances[sample][asv] = asv_abundances[sample][asv]/total_abundance\n",
    "\n",
    "# from json import dump\n",
    "# with open(\"normalized_asv_abundances.json\", \"w\") as jsonOut:  dump(asv_abundances, jsonOut, indent=3)"
   ]
  },
  {
   "cell_type": "markdown",
   "metadata": {},
   "source": [
    "# Merging models to produce community models for all samples"
   ]
  },
  {
   "cell_type": "code",
   "execution_count": 23,
   "metadata": {
    "tags": []
   },
   "outputs": [
    {
     "name": "stderr",
     "output_type": "stream",
     "text": [
      "'ASV00002;seqs=7303020;samples=1403' is not a valid SBML 'SId'.\n"
     ]
    },
    {
     "name": "stdout",
     "output_type": "stream",
     "text": [
      "Processing sample: RC-ABX_-1.5\n",
      "Processing ASV: ASV00002;seqs=7303020;samples=1403 with abundance: 9.299297903008323e-05 in sample RC-ABX_-1.5\n",
      "<Solution 151.387 at 0x7efbeff57910>\n"
     ]
    },
    {
     "name": "stderr",
     "output_type": "stream",
     "text": [
      "'ASV00003;seqs=7068340;samples=1916' is not a valid SBML 'SId'.\n"
     ]
    },
    {
     "name": "stdout",
     "output_type": "stream",
     "text": [
      "Processing ASV: ASV00003;seqs=7068340;samples=1916 with abundance: 0.001264704514809132 in sample RC-ABX_-1.5\n",
      "<Solution 280.109 at 0x7efbee4f4070>\n",
      "Processing ASV: ASV00004;seqs=6473178;samples=1764 with abundance: 0.06621100106941925 in sample RC-ABX_-1.5\n"
     ]
    },
    {
     "name": "stderr",
     "output_type": "stream",
     "text": [
      "'ASV00004;seqs=6473178;samples=1764' is not a valid SBML 'SId'.\n"
     ]
    },
    {
     "name": "stdout",
     "output_type": "stream",
     "text": [
      "<Solution 57.494 at 0x7efbe712cc70>\n"
     ]
    },
    {
     "name": "stderr",
     "output_type": "stream",
     "text": [
      "'ASV00005;seqs=5940024;samples=3018' is not a valid SBML 'SId'.\n"
     ]
    },
    {
     "name": "stdout",
     "output_type": "stream",
     "text": [
      "Processing ASV: ASV00005;seqs=5940024;samples=3018 with abundance: 0.0008958323646564685 in sample RC-ABX_-1.5\n",
      "<Solution 150.594 at 0x7efbe603d780>\n"
     ]
    },
    {
     "name": "stderr",
     "output_type": "stream",
     "text": [
      "'ASV00006;seqs=5698377;samples=2075' is not a valid SBML 'SId'.\n"
     ]
    },
    {
     "name": "stdout",
     "output_type": "stream",
     "text": [
      "Processing ASV: ASV00006;seqs=5698377;samples=2075 with abundance: 0.011258349994575409 in sample RC-ABX_-1.5\n",
      "<Solution 149.949 at 0x7efbe321e2c0>\n",
      "Processing ASV: ASV00008;seqs=3358093;samples=2591 with abundance: 0.0905503634475597 in sample RC-ABX_-1.5\n"
     ]
    },
    {
     "name": "stderr",
     "output_type": "stream",
     "text": [
      "'ASV00008;seqs=3358093;samples=2591' is not a valid SBML 'SId'.\n"
     ]
    },
    {
     "name": "stdout",
     "output_type": "stream",
     "text": [
      "<Solution 98.284 at 0x7efbe1178070>\n"
     ]
    },
    {
     "name": "stderr",
     "output_type": "stream",
     "text": [
      "'ASV00011;seqs=3029063;samples=663' is not a valid SBML 'SId'.\n"
     ]
    },
    {
     "name": "stdout",
     "output_type": "stream",
     "text": [
      "Processing ASV: ASV00011;seqs=3029063;samples=663 with abundance: 0.0002789789370902497 in sample RC-ABX_-1.5\n",
      "<Solution 70.880 at 0x7efbdf73e0e0>\n"
     ]
    },
    {
     "name": "stderr",
     "output_type": "stream",
     "text": [
      "'ASV00012;seqs=3022236;samples=1865' is not a valid SBML 'SId'.\n"
     ]
    },
    {
     "name": "stdout",
     "output_type": "stream",
     "text": [
      "Processing ASV: ASV00012;seqs=3022236;samples=1865 with abundance: 8.679344709474435e-05 in sample RC-ABX_-1.5\n",
      "<Solution 84.446 at 0x7efbde5c4070>\n"
     ]
    },
    {
     "name": "stderr",
     "output_type": "stream",
     "text": [
      "'ASV00017;seqs=1396481;samples=730' is not a valid SBML 'SId'.\n"
     ]
    },
    {
     "name": "stdout",
     "output_type": "stream",
     "text": [
      "Processing ASV: ASV00017;seqs=1396481;samples=730 with abundance: 0.00010539204290076098 in sample RC-ABX_-1.5\n",
      "<Solution 158.571 at 0x7efbdcfd4100>\n"
     ]
    },
    {
     "name": "stderr",
     "output_type": "stream",
     "text": [
      "'ASV00030;seqs=967751;samples=1354' is not a valid SBML 'SId'.\n"
     ]
    },
    {
     "name": "stdout",
     "output_type": "stream",
     "text": [
      "Processing ASV: ASV00030;seqs=967751;samples=1354 with abundance: 0.14191348553184235 in sample RC-ABX_-1.5\n",
      "<Solution 52.674 at 0x7efbdacd8100>\n"
     ]
    },
    {
     "name": "stderr",
     "output_type": "stream",
     "text": [
      "'ASV00045;seqs=682529;samples=872' is not a valid SBML 'SId'.\n"
     ]
    },
    {
     "name": "stdout",
     "output_type": "stream",
     "text": [
      "Processing ASV: ASV00045;seqs=682529;samples=872 with abundance: 3.409742564436385e-05 in sample RC-ABX_-1.5\n",
      "<Solution 135.292 at 0x7efbd9aac100>\n",
      "Processing ASV: ASV00057;seqs=537929;samples=1455 with abundance: 0.06522527549170037 in sample RC-ABX_-1.5\n"
     ]
    },
    {
     "name": "stderr",
     "output_type": "stream",
     "text": [
      "'ASV00057;seqs=537929;samples=1455' is not a valid SBML 'SId'.\n"
     ]
    },
    {
     "name": "stdout",
     "output_type": "stream",
     "text": [
      "<Solution 178.201 at 0x7efbd763c100>\n"
     ]
    },
    {
     "name": "stderr",
     "output_type": "stream",
     "text": [
      "'ASV00061;seqs=520349;samples=687' is not a valid SBML 'SId'.\n"
     ]
    },
    {
     "name": "stdout",
     "output_type": "stream",
     "text": [
      "Processing ASV: ASV00061;seqs=520349;samples=687 with abundance: 0.01324220021388385 in sample RC-ABX_-1.5\n",
      "<Solution 121.127 at 0x7efbd5c0d270>\n"
     ]
    },
    {
     "name": "stderr",
     "output_type": "stream",
     "text": [
      "'ASV00079;seqs=432109;samples=775' is not a valid SBML 'SId'.\n"
     ]
    },
    {
     "name": "stdout",
     "output_type": "stream",
     "text": [
      "Processing ASV: ASV00079;seqs=432109;samples=775 with abundance: 0.011930999209559676 in sample RC-ABX_-1.5\n",
      "<Solution 90.875 at 0x7efbd3ac4100>\n"
     ]
    },
    {
     "name": "stderr",
     "output_type": "stream",
     "text": [
      "'ASV00081;seqs=422495;samples=841' is not a valid SBML 'SId'.\n"
     ]
    },
    {
     "name": "stdout",
     "output_type": "stream",
     "text": [
      "Processing ASV: ASV00081;seqs=422495;samples=841 with abundance: 2.1698361773686086e-05 in sample RC-ABX_-1.5\n",
      "<Solution 84.173 at 0x7efbd20e81f0>\n"
     ]
    },
    {
     "name": "stderr",
     "output_type": "stream",
     "text": [
      "'ASV00117;seqs=253103;samples=1167' is not a valid SBML 'SId'.\n"
     ]
    },
    {
     "name": "stdout",
     "output_type": "stream",
     "text": [
      "Processing ASV: ASV00117;seqs=253103;samples=1167 with abundance: 0.008573952666573674 in sample RC-ABX_-1.5\n",
      "<Solution 114.166 at 0x7efbd585c6d0>\n"
     ]
    },
    {
     "name": "stderr",
     "output_type": "stream",
     "text": [
      "'ASV00122;seqs=247627;samples=247' is not a valid SBML 'SId'.\n"
     ]
    },
    {
     "name": "stdout",
     "output_type": "stream",
     "text": [
      "Processing ASV: ASV00122;seqs=247627;samples=247 with abundance: 6.199531935338882e-05 in sample RC-ABX_-1.5\n",
      "<Solution 246.263 at 0x7efc81246a40>\n",
      "Processing ASV: ASV00125;seqs=240088;samples=1074 with abundance: 1.5498829838347205e-05 in sample RC-ABX_-1.5\n"
     ]
    },
    {
     "name": "stderr",
     "output_type": "stream",
     "text": [
      "'ASV00125;seqs=240088;samples=1074' is not a valid SBML 'SId'.\n"
     ]
    },
    {
     "name": "stdout",
     "output_type": "stream",
     "text": [
      "<Solution 57.112 at 0x7efcb2be2fb0>\n",
      "Processing ASV: ASV00131;seqs=228350;samples=476 with abundance: 0.33169355713643617 in sample RC-ABX_-1.5\n"
     ]
    },
    {
     "name": "stderr",
     "output_type": "stream",
     "text": [
      "'ASV00131;seqs=228350;samples=476' is not a valid SBML 'SId'.\n"
     ]
    },
    {
     "name": "stdout",
     "output_type": "stream",
     "text": [
      "<Solution 181.408 at 0x7efc0adc0310>\n"
     ]
    },
    {
     "name": "stderr",
     "output_type": "stream",
     "text": [
      "'ASV00170;seqs=173585;samples=145' is not a valid SBML 'SId'.\n"
     ]
    },
    {
     "name": "stdout",
     "output_type": "stream",
     "text": [
      "Processing ASV: ASV00170;seqs=173585;samples=145 with abundance: 0.0012740038127121399 in sample RC-ABX_-1.5\n",
      "<Solution 70.850 at 0x7efcad774c10>\n",
      "Processing ASV: ASV00174;seqs=168097;samples=70 with abundance: 0.0007377443003053268 in sample RC-ABX_-1.5\n"
     ]
    },
    {
     "name": "stderr",
     "output_type": "stream",
     "text": [
      "'ASV00174;seqs=168097;samples=70' is not a valid SBML 'SId'.\n"
     ]
    },
    {
     "name": "stdout",
     "output_type": "stream",
     "text": [
      "<Solution 123.952 at 0x7efc8894cd60>\n",
      "Processing ASV: ASV00178;seqs=166167;samples=748 with abundance: 0.1098030098727546 in sample RC-ABX_-1.5\n"
     ]
    },
    {
     "name": "stderr",
     "output_type": "stream",
     "text": [
      "'ASV00178;seqs=166167;samples=748' is not a valid SBML 'SId'.\n"
     ]
    },
    {
     "name": "stdout",
     "output_type": "stream",
     "text": [
      "<Solution 66.455 at 0x7efc7c1f9900>\n",
      "Processing ASV: ASV00198;seqs=145630;samples=376 with abundance: 0.00013948946854512484 in sample RC-ABX_-1.5\n"
     ]
    },
    {
     "name": "stderr",
     "output_type": "stream",
     "text": [
      "'ASV00198;seqs=145630;samples=376' is not a valid SBML 'SId'.\n"
     ]
    },
    {
     "name": "stdout",
     "output_type": "stream",
     "text": [
      "<Solution 44.274 at 0x7efc7648bee0>\n",
      "Processing ASV: ASV00240;seqs=106587;samples=647 with abundance: 0.0002045845538661831 in sample RC-ABX_-1.5\n"
     ]
    },
    {
     "name": "stderr",
     "output_type": "stream",
     "text": [
      "'ASV00240;seqs=106587;samples=647' is not a valid SBML 'SId'.\n"
     ]
    },
    {
     "name": "stdout",
     "output_type": "stream",
     "text": [
      "<Solution 83.176 at 0x7efc6f2de230>\n"
     ]
    },
    {
     "name": "stderr",
     "output_type": "stream",
     "text": [
      "'ASV00242;seqs=106523;samples=69' is not a valid SBML 'SId'.\n"
     ]
    },
    {
     "name": "stdout",
     "output_type": "stream",
     "text": [
      "Processing ASV: ASV00242;seqs=106523;samples=69 with abundance: 0.0002696796391872413 in sample RC-ABX_-1.5\n",
      "<Solution 131.493 at 0x7efc6349bd90>\n"
     ]
    },
    {
     "name": "stderr",
     "output_type": "stream",
     "text": [
      "'ASV00254;seqs=102784;samples=1130' is not a valid SBML 'SId'.\n"
     ]
    },
    {
     "name": "stdout",
     "output_type": "stream",
     "text": [
      "Processing ASV: ASV00254;seqs=102784;samples=1130 with abundance: 0.005238604485361357 in sample RC-ABX_-1.5\n",
      "<Solution 24.792 at 0x7efc5d3683a0>\n"
     ]
    },
    {
     "name": "stderr",
     "output_type": "stream",
     "text": [
      "'ASV00260;seqs=100236;samples=73' is not a valid SBML 'SId'.\n"
     ]
    },
    {
     "name": "stdout",
     "output_type": "stream",
     "text": [
      "Processing ASV: ASV00260;seqs=100236;samples=73 with abundance: 0.00010229227693309155 in sample RC-ABX_-1.5\n",
      "<Solution 69.057 at 0x7efc5792b2b0>\n"
     ]
    },
    {
     "name": "stderr",
     "output_type": "stream",
     "text": [
      "'ASV00302;seqs=78715;samples=316' is not a valid SBML 'SId'.\n"
     ]
    },
    {
     "name": "stdout",
     "output_type": "stream",
     "text": [
      "Processing ASV: ASV00302;seqs=78715;samples=316 with abundance: 0.0002758791711225803 in sample RC-ABX_-1.5\n",
      "<Solution 135.685 at 0x7efc9b9628c0>\n",
      "Processing ASV: ASV00325;seqs=72251;samples=398 with abundance: 0.018074735357480512 in sample RC-ABX_-1.5\n"
     ]
    },
    {
     "name": "stderr",
     "output_type": "stream",
     "text": [
      "'ASV00325;seqs=72251;samples=398' is not a valid SBML 'SId'.\n"
     ]
    },
    {
     "name": "stdout",
     "output_type": "stream",
     "text": [
      "<Solution 83.146 at 0x7efc64577ee0>\n"
     ]
    },
    {
     "name": "stderr",
     "output_type": "stream",
     "text": [
      "'ASV00403;seqs=52913;samples=142' is not a valid SBML 'SId'.\n"
     ]
    },
    {
     "name": "stdout",
     "output_type": "stream",
     "text": [
      "Processing ASV: ASV00403;seqs=52913;samples=142 with abundance: 0.00010849180886843043 in sample RC-ABX_-1.5\n",
      "<Solution 87.820 at 0x7efc621ec070>\n"
     ]
    },
    {
     "name": "stderr",
     "output_type": "stream",
     "text": [
      "'ASV00410;seqs=51580;samples=142' is not a valid SBML 'SId'.\n"
     ]
    },
    {
     "name": "stdout",
     "output_type": "stream",
     "text": [
      "Processing ASV: ASV00410;seqs=51580;samples=142 with abundance: 0.0003843709799910107 in sample RC-ABX_-1.5\n",
      "<Solution 42.652 at 0x7efc82760070>\n"
     ]
    },
    {
     "name": "stderr",
     "output_type": "stream",
     "text": [
      "'ASV00519;seqs=37787;samples=49' is not a valid SBML 'SId'.\n"
     ]
    },
    {
     "name": "stdout",
     "output_type": "stream",
     "text": [
      "Processing ASV: ASV00519;seqs=37787;samples=49 with abundance: 2.1698361773686086e-05 in sample RC-ABX_-1.5\n",
      "<Solution 213.171 at 0x7efc432cc070>\n",
      "Processing ASV: ASV00555;seqs=34715;samples=589 with abundance: 0.004392368376187598 in sample RC-ABX_-1.5\n"
     ]
    },
    {
     "name": "stderr",
     "output_type": "stream",
     "text": [
      "'ASV00555;seqs=34715;samples=589' is not a valid SBML 'SId'.\n"
     ]
    },
    {
     "name": "stdout",
     "output_type": "stream",
     "text": [
      "<Solution 10.662 at 0x7efc69c44220>\n"
     ]
    },
    {
     "name": "stderr",
     "output_type": "stream",
     "text": [
      "'ASV00564;seqs=33773;samples=37' is not a valid SBML 'SId'.\n"
     ]
    },
    {
     "name": "stdout",
     "output_type": "stream",
     "text": [
      "Processing ASV: ASV00564;seqs=33773;samples=37 with abundance: 3.719719161203329e-05 in sample RC-ABX_-1.5\n",
      "<Solution 119.745 at 0x7efcab6459c0>\n"
     ]
    },
    {
     "name": "stderr",
     "output_type": "stream",
     "text": [
      "'ASV00725;seqs=22660;samples=94' is not a valid SBML 'SId'.\n"
     ]
    },
    {
     "name": "stdout",
     "output_type": "stream",
     "text": [
      "Processing ASV: ASV00725;seqs=22660;samples=94 with abundance: 0.06652717719812154 in sample RC-ABX_-1.5\n",
      "<Solution 83.146 at 0x7efc2eddd5a0>\n"
     ]
    },
    {
     "name": "stderr",
     "output_type": "stream",
     "text": [
      "'ASV00825;seqs=18015;samples=10' is not a valid SBML 'SId'.\n"
     ]
    },
    {
     "name": "stdout",
     "output_type": "stream",
     "text": [
      "Processing ASV: ASV00825;seqs=18015;samples=10 with abundance: 9.919251096542211e-05 in sample RC-ABX_-1.5\n",
      "<Solution 144.348 at 0x7efc7bda48b0>\n",
      "Processing ASV: ASV00895;seqs=15764;samples=276 with abundance: 0.004851133739402675 in sample RC-ABX_-1.5\n"
     ]
    },
    {
     "name": "stderr",
     "output_type": "stream",
     "text": [
      "'ASV00895;seqs=15764;samples=276' is not a valid SBML 'SId'.\n"
     ]
    },
    {
     "name": "stdout",
     "output_type": "stream",
     "text": [
      "<Solution 62.508 at 0x7efc8354c100>\n",
      "Processing ASV: ASV00903;seqs=15426;samples=48 with abundance: 0.0002820787030579191 in sample RC-ABX_-1.5\n"
     ]
    },
    {
     "name": "stderr",
     "output_type": "stream",
     "text": [
      "'ASV00903;seqs=15426;samples=48' is not a valid SBML 'SId'.\n"
     ]
    },
    {
     "name": "stdout",
     "output_type": "stream",
     "text": [
      "<Solution 85.571 at 0x7efc659545e0>\n"
     ]
    },
    {
     "name": "stderr",
     "output_type": "stream",
     "text": [
      "'ASV00913;seqs=15231;samples=26' is not a valid SBML 'SId'.\n"
     ]
    },
    {
     "name": "stdout",
     "output_type": "stream",
     "text": [
      "Processing ASV: ASV00913;seqs=15231;samples=26 with abundance: 0.03507385192417972 in sample RC-ABX_-1.5\n",
      "<Solution 78.399 at 0x7efc86b64100>\n"
     ]
    },
    {
     "name": "stderr",
     "output_type": "stream",
     "text": [
      "'ASV01125;seqs=10675;samples=14' is not a valid SBML 'SId'.\n"
     ]
    },
    {
     "name": "stdout",
     "output_type": "stream",
     "text": [
      "Processing ASV: ASV01125;seqs=10675;samples=14 with abundance: 3.409742564436385e-05 in sample RC-ABX_-1.5\n",
      "<Solution 72.933 at 0x7efc10780100>\n",
      "Processing ASV: ASV01569;seqs=5738;samples=61 with abundance: 0.0010725190248136265 in sample RC-ABX_-1.5\n"
     ]
    },
    {
     "name": "stderr",
     "output_type": "stream",
     "text": [
      "'ASV01569;seqs=5738;samples=61' is not a valid SBML 'SId'.\n"
     ]
    },
    {
     "name": "stdout",
     "output_type": "stream",
     "text": [
      "<Solution 103.437 at 0x7efc5c4c0100>\n",
      "Processing ASV: ASV02079;seqs=3176;samples=69 with abundance: 0.0004432665333767301 in sample RC-ABX_-1.5\n"
     ]
    },
    {
     "name": "stderr",
     "output_type": "stream",
     "text": [
      "'ASV02079;seqs=3176;samples=69' is not a valid SBML 'SId'.\n"
     ]
    },
    {
     "name": "stdout",
     "output_type": "stream",
     "text": [
      "<Solution 208.921 at 0x7efc32436f20>\n",
      "Processing ASV: ASV02112;seqs=3053;samples=100 with abundance: 0.0030098727546070273 in sample RC-ABX_-1.5\n"
     ]
    },
    {
     "name": "stderr",
     "output_type": "stream",
     "text": [
      "'ASV02112;seqs=3053;samples=100' is not a valid SBML 'SId'.\n"
     ]
    },
    {
     "name": "stdout",
     "output_type": "stream",
     "text": [
      "<Solution 38.492 at 0x7efbf2dd41f0>\n"
     ]
    },
    {
     "name": "stderr",
     "output_type": "stream",
     "text": [
      "'ASV03716;seqs=853;samples=24' is not a valid SBML 'SId'.\n"
     ]
    },
    {
     "name": "stdout",
     "output_type": "stream",
     "text": [
      "Processing ASV: ASV03716;seqs=853;samples=24 with abundance: 8.059391515940547e-05 in sample RC-ABX_-1.5\n",
      "<Solution 98.542 at 0x7efc0660c100>\n"
     ]
    },
    {
     "name": "stderr",
     "output_type": "stream",
     "text": [
      "'ASV03800;seqs=800;samples=27' is not a valid SBML 'SId'.\n"
     ]
    },
    {
     "name": "stdout",
     "output_type": "stream",
     "text": [
      "Processing ASV: ASV03800;seqs=800;samples=27 with abundance: 0.0001952852559631748 in sample RC-ABX_-1.5\n",
      "<Solution 29.187 at 0x7efbfd428a60>\n"
     ]
    },
    {
     "name": "stderr",
     "output_type": "stream",
     "text": [
      "'ASV03883;seqs=765;samples=32' is not a valid SBML 'SId'.\n"
     ]
    },
    {
     "name": "stdout",
     "output_type": "stream",
     "text": [
      "Processing ASV: ASV03883;seqs=765;samples=32 with abundance: 0.000892732598688799 in sample RC-ABX_-1.5\n",
      "<Solution 85.229 at 0x7efc87676470>\n",
      "Processing ASV: ASV04165;seqs=643;samples=20 with abundance: 0.00038747074595868014 in sample RC-ABX_-1.5\n"
     ]
    },
    {
     "name": "stderr",
     "output_type": "stream",
     "text": [
      "'ASV04165;seqs=643;samples=20' is not a valid SBML 'SId'.\n"
     ]
    },
    {
     "name": "stdout",
     "output_type": "stream",
     "text": [
      "<Solution 81.828 at 0x7efc5ffba440>\n"
     ]
    },
    {
     "name": "stderr",
     "output_type": "stream",
     "text": [
      "'ASV04297;seqs=595;samples=13' is not a valid SBML 'SId'.\n"
     ]
    },
    {
     "name": "stdout",
     "output_type": "stream",
     "text": [
      "Processing ASV: ASV04297;seqs=595;samples=13 with abundance: 0.0015901799414144231 in sample RC-ABX_-1.5\n",
      "<Solution 48.227 at 0x7efc7d270dc0>\n"
     ]
    },
    {
     "name": "stderr",
     "output_type": "stream",
     "text": [
      "'ASV05516;seqs=336;samples=8' is not a valid SBML 'SId'.\n"
     ]
    },
    {
     "name": "stdout",
     "output_type": "stream",
     "text": [
      "Processing ASV: ASV05516;seqs=336;samples=8 with abundance: 8.679344709474435e-05 in sample RC-ABX_-1.5\n",
      "<Solution 71.373 at 0x7efc69abb6a0>\n"
     ]
    },
    {
     "name": "stderr",
     "output_type": "stream",
     "text": [
      "'ASV05771;seqs=299;samples=17' is not a valid SBML 'SId'.\n"
     ]
    },
    {
     "name": "stdout",
     "output_type": "stream",
     "text": [
      "Processing ASV: ASV05771;seqs=299;samples=17 with abundance: 0.0001952852559631748 in sample RC-ABX_-1.5\n",
      "<Solution 40.831 at 0x7efc8b5e2080>\n",
      "Processing ASV: ASV06113;seqs=258;samples=9 with abundance: 0.0002758791711225803 in sample RC-ABX_-1.5\n"
     ]
    },
    {
     "name": "stderr",
     "output_type": "stream",
     "text": [
      "'ASV06113;seqs=258;samples=9' is not a valid SBML 'SId'.\n"
     ]
    },
    {
     "name": "stdout",
     "output_type": "stream",
     "text": [
      "<Solution 138.511 at 0x7efc6e14abc0>\n",
      "Processing ASV: ASV08434;seqs=114;samples=10 with abundance: 9.919251096542211e-05 in sample RC-ABX_-1.5\n"
     ]
    },
    {
     "name": "stderr",
     "output_type": "stream",
     "text": [
      "'ASV08434;seqs=114;samples=10' is not a valid SBML 'SId'.\n"
     ]
    },
    {
     "name": "stdout",
     "output_type": "stream",
     "text": [
      "<Solution 79.273 at 0x7efc768b2b60>\n",
      "Processing ASV: ASV08468;seqs=113;samples=4 with abundance: 7.439438322406658e-05 in sample RC-ABX_-1.5\n"
     ]
    },
    {
     "name": "stderr",
     "output_type": "stream",
     "text": [
      "'ASV08468;seqs=113;samples=4' is not a valid SBML 'SId'.\n"
     ]
    },
    {
     "name": "stdout",
     "output_type": "stream",
     "text": [
      "<Solution 68.384 at 0x7efc5dde1f60>\n"
     ]
    },
    {
     "name": "stderr",
     "output_type": "stream",
     "text": [
      "'ASV09422;seqs=85;samples=3' is not a valid SBML 'SId'.\n"
     ]
    },
    {
     "name": "stdout",
     "output_type": "stream",
     "text": [
      "Processing ASV: ASV09422;seqs=85;samples=3 with abundance: 0.00011159157483609987 in sample RC-ABX_-1.5\n",
      "<Solution 150.797 at 0x7efc83f53fd0>\n",
      "Processing ASV: ASV09528;seqs=83;samples=7 with abundance: 1.2399063870677764e-05 in sample RC-ABX_-1.5\n"
     ]
    },
    {
     "name": "stderr",
     "output_type": "stream",
     "text": [
      "'ASV09528;seqs=83;samples=7' is not a valid SBML 'SId'.\n"
     ]
    },
    {
     "name": "stdout",
     "output_type": "stream",
     "text": [
      "<Solution 84.173 at 0x7efc87fec100>\n",
      "Processing ASV: ASV15074;seqs=17;samples=1 with abundance: 5.269602145038049e-05 in sample RC-ABX_-1.5\n"
     ]
    },
    {
     "name": "stderr",
     "output_type": "stream",
     "text": [
      "'ASV15074;seqs=17;samples=1' is not a valid SBML 'SId'.\n"
     ]
    },
    {
     "name": "stdout",
     "output_type": "stream",
     "text": [
      "<Solution 87.514 at 0x7efc468eee30>\n"
     ]
    },
    {
     "name": "stderr",
     "output_type": "stream",
     "text": [
      "'ASV16539;seqs=10;samples=1' is not a valid SBML 'SId'.\n"
     ]
    },
    {
     "name": "stdout",
     "output_type": "stream",
     "text": [
      "Processing ASV: ASV16539;seqs=10;samples=1 with abundance: 3.099765967669441e-05 in sample RC-ABX_-1.5\n",
      "<Solution 68.765 at 0x7efc30427790>\n",
      "EX_biomass(e)_ASV00002 100.0\n",
      "EX_biomass(e)_ASV00003 100.0\n",
      "EX_biomass(e)_ASV00004 59.690226007154564\n",
      "EX_biomass(e)_ASV00005 100.0\n",
      "EX_biomass(e)_ASV00006 100.0\n",
      "EX_biomass(e)_ASV00008 98.28409296635559\n",
      "EX_biomass(e)_ASV00011 100.0\n",
      "EX_biomass(e)_ASV00012 84.44640468007022\n",
      "EX_biomass(e)_ASV00017 100.0\n",
      "EX_biomass(e)_ASV00030 52.67417101767237\n",
      "EX_biomass(e)_ASV00045 100.0\n",
      "EX_biomass(e)_ASV00057 100.0\n",
      "EX_biomass(e)_ASV00061 100.0\n",
      "EX_biomass(e)_ASV00079 90.87465854414627\n",
      "EX_biomass(e)_ASV00081 84.17280573484817\n",
      "EX_biomass(e)_ASV00117 100.0\n",
      "EX_biomass(e)_ASV00122 100.0\n",
      "EX_biomass(e)_ASV00125 58.19823725898061\n",
      "EX_biomass(e)_ASV00131 100.0\n",
      "EX_biomass(e)_ASV00170 73.99819758831292\n",
      "EX_biomass(e)_ASV00174 100.0\n",
      "EX_biomass(e)_ASV00178 66.45503985386294\n",
      "EX_biomass(e)_ASV00198 69.0020576186826\n",
      "EX_biomass(e)_ASV00240 83.17577225497074\n",
      "EX_biomass(e)_ASV00242 100.0\n",
      "EX_biomass(e)_ASV00254 24.792049863952414\n",
      "EX_biomass(e)_ASV00260 74.38740921329274\n",
      "EX_biomass(e)_ASV00302 100.0\n",
      "EX_biomass(e)_ASV00325 83.14636141752742\n",
      "EX_biomass(e)_ASV00403 87.81964609102636\n",
      "EX_biomass(e)_ASV00410 69.49957152489952\n",
      "EX_biomass(e)_ASV00519 100.0\n",
      "EX_biomass(e)_ASV00555 10.66150024580089\n",
      "EX_biomass(e)_ASV00564 100.0\n",
      "EX_biomass(e)_ASV00725 83.14636141752742\n",
      "EX_biomass(e)_ASV00825 100.0\n",
      "EX_biomass(e)_ASV00895 62.50756406637243\n",
      "EX_biomass(e)_ASV00903 85.57058702749053\n",
      "EX_biomass(e)_ASV00913 78.39912898567692\n",
      "EX_biomass(e)_ASV01125 77.94427311059097\n",
      "EX_biomass(e)_ASV01569 100.0\n",
      "EX_biomass(e)_ASV02079 100.0\n",
      "EX_biomass(e)_ASV02112 38.49191728725833\n",
      "EX_biomass(e)_ASV03716 98.54205725535545\n",
      "EX_biomass(e)_ASV03800 29.964027036921102\n",
      "EX_biomass(e)_ASV03883 85.22875061075719\n",
      "EX_biomass(e)_ASV04165 90.64535961762257\n",
      "EX_biomass(e)_ASV04297 59.46178775926801\n",
      "EX_biomass(e)_ASV05516 80.58549439302544\n",
      "EX_biomass(e)_ASV05771 40.83119137581954\n",
      "EX_biomass(e)_ASV06113 100.0\n",
      "EX_biomass(e)_ASV08434 79.27268312072538\n",
      "EX_biomass(e)_ASV08468 72.58139969176682\n",
      "EX_biomass(e)_ASV09422 100.0\n",
      "EX_biomass(e)_ASV09528 84.17278323978464\n",
      "EX_biomass(e)_ASV15074 87.51441280334116\n",
      "EX_biomass(e)_ASV16539 73.47916548894298\n",
      "<Solution 100.000 at 0x7efc7598bac0> \n",
      "\n",
      "\n",
      "Processing sample: RC-ABX_5.5\n",
      "Processing ASV: ASV00002;seqs=7303020;samples=1403 with abundance: 0.00010666666666666664 in sample RC-ABX_5.5\n"
     ]
    },
    {
     "name": "stderr",
     "output_type": "stream",
     "text": [
      "'ASV00002;seqs=7303020;samples=1403' is not a valid SBML 'SId'.\n"
     ]
    },
    {
     "name": "stdout",
     "output_type": "stream",
     "text": [
      "<Solution 151.387 at 0x7efc39e4ded0>\n"
     ]
    },
    {
     "name": "stderr",
     "output_type": "stream",
     "text": [
      "'ASV00003;seqs=7068340;samples=1916' is not a valid SBML 'SId'.\n"
     ]
    },
    {
     "name": "stdout",
     "output_type": "stream",
     "text": [
      "Processing ASV: ASV00003;seqs=7068340;samples=1916 with abundance: 0.0014506666666666663 in sample RC-ABX_5.5\n",
      "<Solution 280.109 at 0x7efc78904070>\n",
      "Processing ASV: ASV00004;seqs=6473178;samples=1764 with abundance: 0.043509333333333323 in sample RC-ABX_5.5\n"
     ]
    },
    {
     "name": "stderr",
     "output_type": "stream",
     "text": [
      "'ASV00004;seqs=6473178;samples=1764' is not a valid SBML 'SId'.\n"
     ]
    },
    {
     "name": "stdout",
     "output_type": "stream",
     "text": [
      "<Solution 57.494 at 0x7efc7afec070>\n"
     ]
    },
    {
     "name": "stderr",
     "output_type": "stream",
     "text": [
      "'ASV00005;seqs=5940024;samples=3018' is not a valid SBML 'SId'.\n"
     ]
    },
    {
     "name": "stdout",
     "output_type": "stream",
     "text": [
      "Processing ASV: ASV00005;seqs=5940024;samples=3018 with abundance: 0.0010275555555555552 in sample RC-ABX_5.5\n",
      "<Solution 150.594 at 0x7efc00cf8a60>\n"
     ]
    },
    {
     "name": "stderr",
     "output_type": "stream",
     "text": [
      "'ASV00006;seqs=5698377;samples=2075' is not a valid SBML 'SId'.\n"
     ]
    },
    {
     "name": "stdout",
     "output_type": "stream",
     "text": [
      "Processing ASV: ASV00006;seqs=5698377;samples=2075 with abundance: 0.01305244444444444 in sample RC-ABX_5.5\n",
      "<Solution 149.949 at 0x7efbd09474f0>\n",
      "Processing ASV: ASV00008;seqs=3358093;samples=2591 with abundance: 0.0060622222222222215 in sample RC-ABX_5.5\n"
     ]
    },
    {
     "name": "stderr",
     "output_type": "stream",
     "text": [
      "'ASV00008;seqs=3358093;samples=2591' is not a valid SBML 'SId'.\n"
     ]
    },
    {
     "name": "stdout",
     "output_type": "stream",
     "text": [
      "<Solution 98.284 at 0x7efbce9c8100>\n",
      "Processing ASV: ASV00011;seqs=3029063;samples=663 with abundance: 0.0003733333333333332 in sample RC-ABX_5.5\n"
     ]
    },
    {
     "name": "stderr",
     "output_type": "stream",
     "text": [
      "'ASV00011;seqs=3029063;samples=663' is not a valid SBML 'SId'.\n"
     ]
    },
    {
     "name": "stdout",
     "output_type": "stream",
     "text": [
      "<Solution 70.880 at 0x7efbccf11f30>\n"
     ]
    },
    {
     "name": "stderr",
     "output_type": "stream",
     "text": [
      "'ASV00012;seqs=3022236;samples=1865' is not a valid SBML 'SId'.\n"
     ]
    },
    {
     "name": "stdout",
     "output_type": "stream",
     "text": [
      "Processing ASV: ASV00012;seqs=3022236;samples=1865 with abundance: 9.955555555555552e-05 in sample RC-ABX_5.5\n",
      "<Solution 84.446 at 0x7efbcbd0bf10>\n"
     ]
    },
    {
     "name": "stderr",
     "output_type": "stream",
     "text": [
      "'ASV00017;seqs=1396481;samples=730' is not a valid SBML 'SId'.\n"
     ]
    },
    {
     "name": "stdout",
     "output_type": "stream",
     "text": [
      "Processing ASV: ASV00017;seqs=1396481;samples=730 with abundance: 0.00012088888888888884 in sample RC-ABX_5.5\n",
      "<Solution 158.571 at 0x7efbca8e8100>\n",
      "Processing ASV: ASV00029;seqs=1026187;samples=847 with abundance: 4.266666666666665e-05 in sample RC-ABX_5.5\n"
     ]
    },
    {
     "name": "stderr",
     "output_type": "stream",
     "text": [
      "'ASV00029;seqs=1026187;samples=847' is not a valid SBML 'SId'.\n"
     ]
    },
    {
     "name": "stdout",
     "output_type": "stream",
     "text": [
      "<Solution 56.141 at 0x7efbc8422aa0>\n"
     ]
    },
    {
     "name": "stderr",
     "output_type": "stream",
     "text": [
      "'ASV00030;seqs=967751;samples=1354' is not a valid SBML 'SId'.\n"
     ]
    },
    {
     "name": "stdout",
     "output_type": "stream",
     "text": [
      "Processing ASV: ASV00030;seqs=967751;samples=1354 with abundance: 0.07176177777777776 in sample RC-ABX_5.5\n",
      "<Solution 52.674 at 0x7efbc7520070>\n"
     ]
    },
    {
     "name": "stderr",
     "output_type": "stream",
     "text": [
      "'ASV00045;seqs=682529;samples=872' is not a valid SBML 'SId'.\n"
     ]
    },
    {
     "name": "stdout",
     "output_type": "stream",
     "text": [
      "Processing ASV: ASV00045;seqs=682529;samples=872 with abundance: 3.91111111111111e-05 in sample RC-ABX_5.5\n",
      "<Solution 135.292 at 0x7efbc634c100>\n",
      "Processing ASV: ASV00057;seqs=537929;samples=1455 with abundance: 0.1255253333333333 in sample RC-ABX_5.5\n"
     ]
    },
    {
     "name": "stderr",
     "output_type": "stream",
     "text": [
      "'ASV00057;seqs=537929;samples=1455' is not a valid SBML 'SId'.\n"
     ]
    },
    {
     "name": "stdout",
     "output_type": "stream",
     "text": [
      "<Solution 178.201 at 0x7efbc3f30070>\n"
     ]
    },
    {
     "name": "stderr",
     "output_type": "stream",
     "text": [
      "'ASV00081;seqs=422495;samples=841' is not a valid SBML 'SId'.\n"
     ]
    },
    {
     "name": "stdout",
     "output_type": "stream",
     "text": [
      "Processing ASV: ASV00081;seqs=422495;samples=841 with abundance: 2.488888888888888e-05 in sample RC-ABX_5.5\n",
      "<Solution 84.173 at 0x7efbc22513f0>\n"
     ]
    },
    {
     "name": "stderr",
     "output_type": "stream",
     "text": [
      "'ASV00122;seqs=247627;samples=247' is not a valid SBML 'SId'.\n"
     ]
    },
    {
     "name": "stdout",
     "output_type": "stream",
     "text": [
      "Processing ASV: ASV00122;seqs=247627;samples=247 with abundance: 7.111111111111109e-05 in sample RC-ABX_5.5\n",
      "<Solution 246.263 at 0x7efbc02e0760>\n",
      "Processing ASV: ASV00125;seqs=240088;samples=1074 with abundance: 1.7777777777777773e-05 in sample RC-ABX_5.5\n"
     ]
    },
    {
     "name": "stderr",
     "output_type": "stream",
     "text": [
      "'ASV00125;seqs=240088;samples=1074' is not a valid SBML 'SId'.\n"
     ]
    },
    {
     "name": "stdout",
     "output_type": "stream",
     "text": [
      "<Solution 57.112 at 0x7efbbf4168f0>\n",
      "Processing ASV: ASV00131;seqs=228350;samples=476 with abundance: 0.38042311111111093 in sample RC-ABX_5.5\n"
     ]
    },
    {
     "name": "stderr",
     "output_type": "stream",
     "text": [
      "'ASV00131;seqs=228350;samples=476' is not a valid SBML 'SId'.\n"
     ]
    },
    {
     "name": "stdout",
     "output_type": "stream",
     "text": [
      "<Solution 181.408 at 0x7efbbccd4b80>\n",
      "Processing ASV: ASV00170;seqs=173585;samples=145 with abundance: 0.0014613333333333325 in sample RC-ABX_5.5\n"
     ]
    },
    {
     "name": "stderr",
     "output_type": "stream",
     "text": [
      "'ASV00170;seqs=173585;samples=145' is not a valid SBML 'SId'.\n"
     ]
    },
    {
     "name": "stdout",
     "output_type": "stream",
     "text": [
      "<Solution 70.850 at 0x7efbbb521000>\n",
      "Processing ASV: ASV00174;seqs=168097;samples=70 with abundance: 0.0008462222222222217 in sample RC-ABX_5.5\n"
     ]
    },
    {
     "name": "stderr",
     "output_type": "stream",
     "text": [
      "'ASV00174;seqs=168097;samples=70' is not a valid SBML 'SId'.\n"
     ]
    },
    {
     "name": "stdout",
     "output_type": "stream",
     "text": [
      "<Solution 123.952 at 0x7efbbab76b60>\n",
      "Processing ASV: ASV00178;seqs=166167;samples=748 with abundance: 0.0007751111111111109 in sample RC-ABX_5.5\n"
     ]
    },
    {
     "name": "stderr",
     "output_type": "stream",
     "text": [
      "'ASV00178;seqs=166167;samples=748' is not a valid SBML 'SId'.\n"
     ]
    },
    {
     "name": "stdout",
     "output_type": "stream",
     "text": [
      "<Solution 66.455 at 0x7efbb8fe4910>\n"
     ]
    },
    {
     "name": "stderr",
     "output_type": "stream",
     "text": [
      "'ASV00198;seqs=145630;samples=376' is not a valid SBML 'SId'.\n"
     ]
    },
    {
     "name": "stdout",
     "output_type": "stream",
     "text": [
      "Processing ASV: ASV00198;seqs=145630;samples=376 with abundance: 0.00015999999999999993 in sample RC-ABX_5.5\n",
      "<Solution 44.274 at 0x7efbb781a620>\n",
      "Processing ASV: ASV00240;seqs=106587;samples=647 with abundance: 0.2744106666666666 in sample RC-ABX_5.5\n"
     ]
    },
    {
     "name": "stderr",
     "output_type": "stream",
     "text": [
      "'ASV00240;seqs=106587;samples=647' is not a valid SBML 'SId'.\n"
     ]
    },
    {
     "name": "stdout",
     "output_type": "stream",
     "text": [
      "<Solution 83.176 at 0x7efbd065f6a0>\n"
     ]
    },
    {
     "name": "stderr",
     "output_type": "stream",
     "text": [
      "'ASV00242;seqs=106523;samples=69' is not a valid SBML 'SId'.\n"
     ]
    },
    {
     "name": "stdout",
     "output_type": "stream",
     "text": [
      "Processing ASV: ASV00242;seqs=106523;samples=69 with abundance: 0.0003093333333333332 in sample RC-ABX_5.5\n",
      "<Solution 131.493 at 0x7efca3b39f60>\n",
      "Processing ASV: ASV00254;seqs=102784;samples=1130 with abundance: 0.011320888888888886 in sample RC-ABX_5.5\n"
     ]
    },
    {
     "name": "stderr",
     "output_type": "stream",
     "text": [
      "'ASV00254;seqs=102784;samples=1130' is not a valid SBML 'SId'.\n"
     ]
    },
    {
     "name": "stdout",
     "output_type": "stream",
     "text": [
      "<Solution 24.792 at 0x7efc6719c820>\n"
     ]
    },
    {
     "name": "stderr",
     "output_type": "stream",
     "text": [
      "'ASV00260;seqs=100236;samples=73' is not a valid SBML 'SId'.\n"
     ]
    },
    {
     "name": "stdout",
     "output_type": "stream",
     "text": [
      "Processing ASV: ASV00260;seqs=100236;samples=73 with abundance: 0.00011733333333333329 in sample RC-ABX_5.5\n",
      "<Solution 69.057 at 0x7efca25f2a40>\n"
     ]
    },
    {
     "name": "stderr",
     "output_type": "stream",
     "text": [
      "'ASV00302;seqs=78715;samples=316' is not a valid SBML 'SId'.\n"
     ]
    },
    {
     "name": "stdout",
     "output_type": "stream",
     "text": [
      "Processing ASV: ASV00302;seqs=78715;samples=316 with abundance: 0.00031644444444444434 in sample RC-ABX_5.5\n",
      "<Solution 135.685 at 0x7efbb6e82680>\n",
      "Processing ASV: ASV00325;seqs=72251;samples=398 with abundance: 0.0001244444444444444 in sample RC-ABX_5.5\n"
     ]
    },
    {
     "name": "stderr",
     "output_type": "stream",
     "text": [
      "'ASV00325;seqs=72251;samples=398' is not a valid SBML 'SId'.\n"
     ]
    },
    {
     "name": "stdout",
     "output_type": "stream",
     "text": [
      "<Solution 83.146 at 0x7efbb61971f0>\n"
     ]
    },
    {
     "name": "stderr",
     "output_type": "stream",
     "text": [
      "'ASV00403;seqs=52913;samples=142' is not a valid SBML 'SId'.\n"
     ]
    },
    {
     "name": "stdout",
     "output_type": "stream",
     "text": [
      "Processing ASV: ASV00403;seqs=52913;samples=142 with abundance: 0.0001244444444444444 in sample RC-ABX_5.5\n",
      "<Solution 87.820 at 0x7efbb412bc70>\n"
     ]
    },
    {
     "name": "stderr",
     "output_type": "stream",
     "text": [
      "'ASV00410;seqs=51580;samples=142' is not a valid SBML 'SId'.\n"
     ]
    },
    {
     "name": "stdout",
     "output_type": "stream",
     "text": [
      "Processing ASV: ASV00410;seqs=51580;samples=142 with abundance: 0.0004408888888888888 in sample RC-ABX_5.5\n",
      "<Solution 42.652 at 0x7efbb30d5d50>\n",
      "Processing ASV: ASV00519;seqs=37787;samples=49 with abundance: 2.488888888888888e-05 in sample RC-ABX_5.5\n"
     ]
    },
    {
     "name": "stderr",
     "output_type": "stream",
     "text": [
      "'ASV00519;seqs=37787;samples=49' is not a valid SBML 'SId'.\n"
     ]
    },
    {
     "name": "stdout",
     "output_type": "stream",
     "text": [
      "<Solution 213.171 at 0x7efbb14053c0>\n",
      "Processing ASV: ASV00555;seqs=34715;samples=589 with abundance: 0.011832888888888882 in sample RC-ABX_5.5\n"
     ]
    },
    {
     "name": "stderr",
     "output_type": "stream",
     "text": [
      "'ASV00555;seqs=34715;samples=589' is not a valid SBML 'SId'.\n"
     ]
    },
    {
     "name": "stdout",
     "output_type": "stream",
     "text": [
      "<Solution 10.662 at 0x7efbaff3dde0>\n",
      "Processing ASV: ASV00564;seqs=33773;samples=37 with abundance: 4.266666666666665e-05 in sample RC-ABX_5.5\n"
     ]
    },
    {
     "name": "stderr",
     "output_type": "stream",
     "text": [
      "'ASV00564;seqs=33773;samples=37' is not a valid SBML 'SId'.\n"
     ]
    },
    {
     "name": "stdout",
     "output_type": "stream",
     "text": [
      "<Solution 119.745 at 0x7efbae803f10>\n"
     ]
    },
    {
     "name": "stderr",
     "output_type": "stream",
     "text": [
      "'ASV00825;seqs=18015;samples=10' is not a valid SBML 'SId'.\n"
     ]
    },
    {
     "name": "stdout",
     "output_type": "stream",
     "text": [
      "Processing ASV: ASV00825;seqs=18015;samples=10 with abundance: 0.00011377777777777773 in sample RC-ABX_5.5\n",
      "<Solution 144.348 at 0x7efbacaf1930>\n",
      "Processing ASV: ASV00839;seqs=17688;samples=366 with abundance: 0.0007786666666666663 in sample RC-ABX_5.5\n"
     ]
    },
    {
     "name": "stderr",
     "output_type": "stream",
     "text": [
      "'ASV00839;seqs=17688;samples=366' is not a valid SBML 'SId'.\n"
     ]
    },
    {
     "name": "stdout",
     "output_type": "stream",
     "text": [
      "<Solution 29.187 at 0x7efbaba11090>\n",
      "Processing ASV: ASV00895;seqs=15764;samples=276 with abundance: 0.005564444444444442 in sample RC-ABX_5.5\n"
     ]
    },
    {
     "name": "stderr",
     "output_type": "stream",
     "text": [
      "'ASV00895;seqs=15764;samples=276' is not a valid SBML 'SId'.\n"
     ]
    },
    {
     "name": "stdout",
     "output_type": "stream",
     "text": [
      "<Solution 62.508 at 0x7efbab32df90>\n"
     ]
    },
    {
     "name": "stderr",
     "output_type": "stream",
     "text": [
      "'ASV00903;seqs=15426;samples=48' is not a valid SBML 'SId'.\n"
     ]
    },
    {
     "name": "stdout",
     "output_type": "stream",
     "text": [
      "Processing ASV: ASV00903;seqs=15426;samples=48 with abundance: 0.00032355555555555545 in sample RC-ABX_5.5\n",
      "<Solution 85.571 at 0x7efbaa109ea0>\n",
      "Processing ASV: ASV00913;seqs=15231;samples=26 with abundance: 0.04023111111111109 in sample RC-ABX_5.5\n"
     ]
    },
    {
     "name": "stderr",
     "output_type": "stream",
     "text": [
      "'ASV00913;seqs=15231;samples=26' is not a valid SBML 'SId'.\n"
     ]
    },
    {
     "name": "stdout",
     "output_type": "stream",
     "text": [
      "<Solution 78.399 at 0x7efba8e737f0>\n"
     ]
    },
    {
     "name": "stderr",
     "output_type": "stream",
     "text": [
      "'ASV01125;seqs=10675;samples=14' is not a valid SBML 'SId'.\n"
     ]
    },
    {
     "name": "stdout",
     "output_type": "stream",
     "text": [
      "Processing ASV: ASV01125;seqs=10675;samples=14 with abundance: 3.91111111111111e-05 in sample RC-ABX_5.5\n",
      "<Solution 72.933 at 0x7efba73dfb80>\n"
     ]
    },
    {
     "name": "stderr",
     "output_type": "stream",
     "text": [
      "'ASV01569;seqs=5738;samples=61' is not a valid SBML 'SId'.\n"
     ]
    },
    {
     "name": "stdout",
     "output_type": "stream",
     "text": [
      "Processing ASV: ASV01569;seqs=5738;samples=61 with abundance: 0.0012302222222222217 in sample RC-ABX_5.5\n",
      "<Solution 103.437 at 0x7efba5aa9c90>\n"
     ]
    },
    {
     "name": "stderr",
     "output_type": "stream",
     "text": [
      "'ASV02079;seqs=3176;samples=69' is not a valid SBML 'SId'.\n"
     ]
    },
    {
     "name": "stdout",
     "output_type": "stream",
     "text": [
      "Processing ASV: ASV02079;seqs=3176;samples=69 with abundance: 0.0005084444444444443 in sample RC-ABX_5.5\n",
      "<Solution 208.921 at 0x7efba392f1c0>\n",
      "Processing ASV: ASV02112;seqs=3053;samples=100 with abundance: 0.0007324444444444442 in sample RC-ABX_5.5\n"
     ]
    },
    {
     "name": "stderr",
     "output_type": "stream",
     "text": [
      "'ASV02112;seqs=3053;samples=100' is not a valid SBML 'SId'.\n"
     ]
    },
    {
     "name": "stdout",
     "output_type": "stream",
     "text": [
      "<Solution 38.492 at 0x7efba2e75090>\n"
     ]
    },
    {
     "name": "stderr",
     "output_type": "stream",
     "text": [
      "'ASV03716;seqs=853;samples=24' is not a valid SBML 'SId'.\n"
     ]
    },
    {
     "name": "stdout",
     "output_type": "stream",
     "text": [
      "Processing ASV: ASV03716;seqs=853;samples=24 with abundance: 9.244444444444441e-05 in sample RC-ABX_5.5\n",
      "<Solution 98.542 at 0x7efba13e6bf0>\n",
      "Processing ASV: ASV03883;seqs=765;samples=32 with abundance: 0.0010239999999999997 in sample RC-ABX_5.5\n"
     ]
    },
    {
     "name": "stderr",
     "output_type": "stream",
     "text": [
      "'ASV03883;seqs=765;samples=32' is not a valid SBML 'SId'.\n"
     ]
    },
    {
     "name": "stdout",
     "output_type": "stream",
     "text": [
      "<Solution 85.229 at 0x7efb9fc99960>\n"
     ]
    },
    {
     "name": "stderr",
     "output_type": "stream",
     "text": [
      "'ASV04165;seqs=643;samples=20' is not a valid SBML 'SId'.\n"
     ]
    },
    {
     "name": "stdout",
     "output_type": "stream",
     "text": [
      "Processing ASV: ASV04165;seqs=643;samples=20 with abundance: 0.0004444444444444443 in sample RC-ABX_5.5\n",
      "<Solution 81.828 at 0x7efb9e553070>\n"
     ]
    },
    {
     "name": "stderr",
     "output_type": "stream",
     "text": [
      "'ASV04297;seqs=595;samples=13' is not a valid SBML 'SId'.\n"
     ]
    },
    {
     "name": "stdout",
     "output_type": "stream",
     "text": [
      "Processing ASV: ASV04297;seqs=595;samples=13 with abundance: 0.0018239999999999994 in sample RC-ABX_5.5\n",
      "<Solution 48.227 at 0x7efb9d6208b0>\n",
      "Processing ASV: ASV05516;seqs=336;samples=8 with abundance: 9.955555555555552e-05 in sample RC-ABX_5.5\n"
     ]
    },
    {
     "name": "stderr",
     "output_type": "stream",
     "text": [
      "'ASV05516;seqs=336;samples=8' is not a valid SBML 'SId'.\n"
     ]
    },
    {
     "name": "stdout",
     "output_type": "stream",
     "text": [
      "<Solution 71.373 at 0x7efb9c2d5b40>\n"
     ]
    },
    {
     "name": "stderr",
     "output_type": "stream",
     "text": [
      "'ASV05771;seqs=299;samples=17' is not a valid SBML 'SId'.\n"
     ]
    },
    {
     "name": "stdout",
     "output_type": "stream",
     "text": [
      "Processing ASV: ASV05771;seqs=299;samples=17 with abundance: 0.00022399999999999992 in sample RC-ABX_5.5\n",
      "<Solution 40.831 at 0x7efb9ae5a380>\n"
     ]
    },
    {
     "name": "stderr",
     "output_type": "stream",
     "text": [
      "'ASV06113;seqs=258;samples=9' is not a valid SBML 'SId'.\n"
     ]
    },
    {
     "name": "stdout",
     "output_type": "stream",
     "text": [
      "Processing ASV: ASV06113;seqs=258;samples=9 with abundance: 0.00031644444444444434 in sample RC-ABX_5.5\n",
      "<Solution 138.511 at 0x7efb9905e620>\n",
      "Processing ASV: ASV08434;seqs=114;samples=10 with abundance: 0.00011377777777777773 in sample RC-ABX_5.5\n"
     ]
    },
    {
     "name": "stderr",
     "output_type": "stream",
     "text": [
      "'ASV08434;seqs=114;samples=10' is not a valid SBML 'SId'.\n"
     ]
    },
    {
     "name": "stdout",
     "output_type": "stream",
     "text": [
      "<Solution 79.273 at 0x7efb97b99870>\n",
      "Processing ASV: ASV08468;seqs=113;samples=4 with abundance: 8.53333333333333e-05 in sample RC-ABX_5.5\n"
     ]
    },
    {
     "name": "stderr",
     "output_type": "stream",
     "text": [
      "'ASV08468;seqs=113;samples=4' is not a valid SBML 'SId'.\n"
     ]
    },
    {
     "name": "stdout",
     "output_type": "stream",
     "text": [
      "<Solution 68.384 at 0x7efb96853b50>\n",
      "Processing ASV: ASV09422;seqs=85;samples=3 with abundance: 0.00012799999999999997 in sample RC-ABX_5.5\n"
     ]
    },
    {
     "name": "stderr",
     "output_type": "stream",
     "text": [
      "'ASV09422;seqs=85;samples=3' is not a valid SBML 'SId'.\n"
     ]
    },
    {
     "name": "stdout",
     "output_type": "stream",
     "text": [
      "<Solution 150.797 at 0x7efb961f2b30>\n"
     ]
    },
    {
     "name": "stderr",
     "output_type": "stream",
     "text": [
      "'ASV09528;seqs=83;samples=7' is not a valid SBML 'SId'.\n"
     ]
    },
    {
     "name": "stdout",
     "output_type": "stream",
     "text": [
      "Processing ASV: ASV09528;seqs=83;samples=7 with abundance: 1.4222222222222217e-05 in sample RC-ABX_5.5\n",
      "<Solution 84.173 at 0x7efbc631cd60>\n"
     ]
    },
    {
     "name": "stderr",
     "output_type": "stream",
     "text": [
      "'ASV15074;seqs=17;samples=1' is not a valid SBML 'SId'.\n"
     ]
    },
    {
     "name": "stdout",
     "output_type": "stream",
     "text": [
      "Processing ASV: ASV15074;seqs=17;samples=1 with abundance: 6.044444444444442e-05 in sample RC-ABX_5.5\n",
      "<Solution 87.514 at 0x7efc02e081c0>\n",
      "Processing ASV: ASV16539;seqs=10;samples=1 with abundance: 3.5555555555555546e-05 in sample RC-ABX_5.5\n"
     ]
    },
    {
     "name": "stderr",
     "output_type": "stream",
     "text": [
      "'ASV16539;seqs=10;samples=1' is not a valid SBML 'SId'.\n"
     ]
    },
    {
     "name": "stdout",
     "output_type": "stream",
     "text": [
      "<Solution 68.765 at 0x7efcb57f5750>\n",
      "EX_biomass(e)_ASV00002 100.0\n",
      "EX_biomass(e)_ASV00003 100.0\n",
      "EX_biomass(e)_ASV00004 59.690226007154564\n",
      "EX_biomass(e)_ASV00005 100.0\n",
      "EX_biomass(e)_ASV00006 100.0\n",
      "EX_biomass(e)_ASV00008 98.28409296635535\n",
      "EX_biomass(e)_ASV00011 100.0\n",
      "EX_biomass(e)_ASV00012 84.44640468007037\n",
      "EX_biomass(e)_ASV00017 100.0\n",
      "EX_biomass(e)_ASV00029 56.14140830554302\n",
      "EX_biomass(e)_ASV00030 52.67417101767259\n",
      "EX_biomass(e)_ASV00045 100.0\n",
      "EX_biomass(e)_ASV00057 100.0\n",
      "EX_biomass(e)_ASV00081 84.17280573484828\n",
      "EX_biomass(e)_ASV00122 100.0\n",
      "EX_biomass(e)_ASV00125 58.198237258980555\n",
      "EX_biomass(e)_ASV00131 100.0\n",
      "EX_biomass(e)_ASV00170 73.99819758831288\n",
      "EX_biomass(e)_ASV00174 100.0\n",
      "EX_biomass(e)_ASV00178 66.45503985386244\n",
      "EX_biomass(e)_ASV00198 69.00205761868257\n",
      "EX_biomass(e)_ASV00240 83.17577225497071\n",
      "EX_biomass(e)_ASV00242 100.0\n",
      "EX_biomass(e)_ASV00254 24.792049863952396\n",
      "EX_biomass(e)_ASV00260 74.38740921329283\n",
      "EX_biomass(e)_ASV00302 100.0\n",
      "EX_biomass(e)_ASV00325 83.14636141752743\n",
      "EX_biomass(e)_ASV00403 87.81964609102634\n",
      "EX_biomass(e)_ASV00410 69.49957152489948\n",
      "EX_biomass(e)_ASV00519 100.0\n",
      "EX_biomass(e)_ASV00555 10.661500245800884\n",
      "EX_biomass(e)_ASV00564 100.0\n",
      "EX_biomass(e)_ASV00825 100.0\n",
      "EX_biomass(e)_ASV00839 29.964027036921163\n",
      "EX_biomass(e)_ASV00895 62.50756406637253\n",
      "EX_biomass(e)_ASV00903 85.57058702749052\n",
      "EX_biomass(e)_ASV00913 78.39912898567695\n",
      "EX_biomass(e)_ASV01125 77.944273110591\n",
      "EX_biomass(e)_ASV01569 100.0\n",
      "EX_biomass(e)_ASV02079 100.0\n",
      "EX_biomass(e)_ASV02112 38.491917287258275\n",
      "EX_biomass(e)_ASV03716 98.54205725535546\n",
      "EX_biomass(e)_ASV03883 85.22875061075722\n",
      "EX_biomass(e)_ASV04165 90.64535961762263\n",
      "EX_biomass(e)_ASV04297 59.461787759268205\n",
      "EX_biomass(e)_ASV05516 80.5854943930255\n",
      "EX_biomass(e)_ASV05771 40.83119137581942\n",
      "EX_biomass(e)_ASV06113 100.0\n",
      "EX_biomass(e)_ASV08434 79.27268312072539\n",
      "EX_biomass(e)_ASV08468 72.58139969176672\n",
      "EX_biomass(e)_ASV09422 100.0\n",
      "EX_biomass(e)_ASV09528 84.17278323978465\n",
      "EX_biomass(e)_ASV15074 87.5144128033411\n",
      "EX_biomass(e)_ASV16539 73.479165488943\n",
      "<Solution 100.000 at 0x7efc4a94bd90> \n",
      "\n",
      "\n",
      "Processing sample: RC-ABX_4.0\n",
      "Processing ASV: ASV00003;seqs=7068340;samples=1916 with abundance: 0.0001429611308038161 in sample RC-ABX_4.0\n"
     ]
    },
    {
     "name": "stderr",
     "output_type": "stream",
     "text": [
      "'ASV00003;seqs=7068340;samples=1916' is not a valid SBML 'SId'.\n"
     ]
    },
    {
     "name": "stdout",
     "output_type": "stream",
     "text": [
      "<Solution 280.109 at 0x7efca2b264d0>\n",
      "Processing ASV: ASV00004;seqs=6473178;samples=1764 with abundance: 0.5126455050897907 in sample RC-ABX_4.0\n"
     ]
    },
    {
     "name": "stderr",
     "output_type": "stream",
     "text": [
      "'ASV00004;seqs=6473178;samples=1764' is not a valid SBML 'SId'.\n"
     ]
    },
    {
     "name": "stdout",
     "output_type": "stream",
     "text": [
      "<Solution 57.494 at 0x7efc9bfc0ac0>\n"
     ]
    },
    {
     "name": "stderr",
     "output_type": "stream",
     "text": [
      "'ASV00005;seqs=5940024;samples=3018' is not a valid SBML 'SId'.\n"
     ]
    },
    {
     "name": "stdout",
     "output_type": "stream",
     "text": [
      "Processing ASV: ASV00005;seqs=5940024;samples=3018 with abundance: 6.367701022702727e-05 in sample RC-ABX_4.0\n",
      "<Solution 150.594 at 0x7efc94138640>\n",
      "Processing ASV: ASV00006;seqs=5698377;samples=2075 with abundance: 0.15348719030810928 in sample RC-ABX_4.0\n"
     ]
    },
    {
     "name": "stderr",
     "output_type": "stream",
     "text": [
      "'ASV00006;seqs=5698377;samples=2075' is not a valid SBML 'SId'.\n"
     ]
    },
    {
     "name": "stdout",
     "output_type": "stream",
     "text": [
      "<Solution 149.949 at 0x7efca98a29e0>\n"
     ]
    },
    {
     "name": "stderr",
     "output_type": "stream",
     "text": [
      "'ASV00008;seqs=3358093;samples=2591' is not a valid SBML 'SId'.\n"
     ]
    },
    {
     "name": "stdout",
     "output_type": "stream",
     "text": [
      "Processing ASV: ASV00008;seqs=3358093;samples=2591 with abundance: 0.0003939234652279824 in sample RC-ABX_4.0\n",
      "<Solution 98.284 at 0x7efc9de46980>\n",
      "Processing ASV: ASV00011;seqs=3029063;samples=663 with abundance: 6.242844139904633e-05 in sample RC-ABX_4.0\n"
     ]
    },
    {
     "name": "stderr",
     "output_type": "stream",
     "text": [
      "'ASV00011;seqs=3029063;samples=663' is not a valid SBML 'SId'.\n"
     ]
    },
    {
     "name": "stdout",
     "output_type": "stream",
     "text": [
      "<Solution 70.880 at 0x7efca1decf40>\n",
      "Processing ASV: ASV00030;seqs=967751;samples=1354 with abundance: 0.0004157734197176486 in sample RC-ABX_4.0\n"
     ]
    },
    {
     "name": "stderr",
     "output_type": "stream",
     "text": [
      "'ASV00030;seqs=967751;samples=1354' is not a valid SBML 'SId'.\n"
     ]
    },
    {
     "name": "stdout",
     "output_type": "stream",
     "text": [
      "<Solution 52.674 at 0x7efca207cac0>\n"
     ]
    },
    {
     "name": "stderr",
     "output_type": "stream",
     "text": [
      "'ASV00037;seqs=790233;samples=478' is not a valid SBML 'SId'.\n"
     ]
    },
    {
     "name": "stdout",
     "output_type": "stream",
     "text": [
      "Processing ASV: ASV00037;seqs=790233;samples=478 with abundance: 0.2804791258020493 in sample RC-ABX_4.0\n",
      "<Solution 141.587 at 0x7efcb7e4a2f0>\n",
      "Processing ASV: ASV00041;seqs=738577;samples=964 with abundance: 1.87285324197139e-06 in sample RC-ABX_4.0\n"
     ]
    },
    {
     "name": "stderr",
     "output_type": "stream",
     "text": [
      "'ASV00041;seqs=738577;samples=964' is not a valid SBML 'SId'.\n"
     ]
    },
    {
     "name": "stdout",
     "output_type": "stream",
     "text": [
      "<Solution 24.070 at 0x7efca5732350>\n"
     ]
    },
    {
     "name": "stderr",
     "output_type": "stream",
     "text": [
      "'ASV00057;seqs=537929;samples=1455' is not a valid SBML 'SId'.\n"
     ]
    },
    {
     "name": "stdout",
     "output_type": "stream",
     "text": [
      "Processing ASV: ASV00057;seqs=537929;samples=1455 with abundance: 0.02398188576344365 in sample RC-ABX_4.0\n",
      "<Solution 178.201 at 0x7efb9413aec0>\n"
     ]
    },
    {
     "name": "stderr",
     "output_type": "stream",
     "text": [
      "'ASV00131;seqs=228350;samples=476' is not a valid SBML 'SId'.\n"
     ]
    },
    {
     "name": "stdout",
     "output_type": "stream",
     "text": [
      "Processing ASV: ASV00131;seqs=228350;samples=476 with abundance: 0.02370907347452982 in sample RC-ABX_4.0\n",
      "<Solution 181.408 at 0x7efb91da8940>\n"
     ]
    },
    {
     "name": "stderr",
     "output_type": "stream",
     "text": [
      "'ASV00170;seqs=173585;samples=145' is not a valid SBML 'SId'.\n"
     ]
    },
    {
     "name": "stdout",
     "output_type": "stream",
     "text": [
      "Processing ASV: ASV00170;seqs=173585;samples=145 with abundance: 7.179270760890328e-05 in sample RC-ABX_4.0\n",
      "<Solution 70.850 at 0x7efb9077b2e0>\n",
      "Processing ASV: ASV00174;seqs=168097;samples=70 with abundance: 4.682133104928475e-05 in sample RC-ABX_4.0\n"
     ]
    },
    {
     "name": "stderr",
     "output_type": "stream",
     "text": [
      "'ASV00174;seqs=168097;samples=70' is not a valid SBML 'SId'.\n"
     ]
    },
    {
     "name": "stdout",
     "output_type": "stream",
     "text": [
      "<Solution 123.952 at 0x7efb8ec0b5e0>\n",
      "Processing ASV: ASV00192;seqs=153897;samples=185 with abundance: 5.61855972591417e-06 in sample RC-ABX_4.0\n"
     ]
    },
    {
     "name": "stderr",
     "output_type": "stream",
     "text": [
      "'ASV00192;seqs=153897;samples=185' is not a valid SBML 'SId'.\n"
     ]
    },
    {
     "name": "stdout",
     "output_type": "stream",
     "text": [
      "<Solution 84.276 at 0x7efb8d70ff40>\n",
      "Processing ASV: ASV00240;seqs=106587;samples=647 with abundance: 6.8671285538950966e-06 in sample RC-ABX_4.0\n"
     ]
    },
    {
     "name": "stderr",
     "output_type": "stream",
     "text": [
      "'ASV00240;seqs=106587;samples=647' is not a valid SBML 'SId'.\n"
     ]
    },
    {
     "name": "stdout",
     "output_type": "stream",
     "text": [
      "<Solution 83.176 at 0x7efb8c702080>\n"
     ]
    },
    {
     "name": "stderr",
     "output_type": "stream",
     "text": [
      "'ASV00242;seqs=106523;samples=69' is not a valid SBML 'SId'.\n"
     ]
    },
    {
     "name": "stdout",
     "output_type": "stream",
     "text": [
      "Processing ASV: ASV00242;seqs=106523;samples=69 with abundance: 1.123711945182834e-05 in sample RC-ABX_4.0\n",
      "<Solution 131.493 at 0x7efb8a9a14e0>\n"
     ]
    },
    {
     "name": "stderr",
     "output_type": "stream",
     "text": [
      "'ASV00302;seqs=78715;samples=316' is not a valid SBML 'SId'.\n"
     ]
    },
    {
     "name": "stdout",
     "output_type": "stream",
     "text": [
      "Processing ASV: ASV00302;seqs=78715;samples=316 with abundance: 2.6844229801589923e-05 in sample RC-ABX_4.0\n",
      "<Solution 135.685 at 0x7efb8877ded0>\n"
     ]
    },
    {
     "name": "stderr",
     "output_type": "stream",
     "text": [
      "'ASV00410;seqs=51580;samples=142' is not a valid SBML 'SId'.\n"
     ]
    },
    {
     "name": "stdout",
     "output_type": "stream",
     "text": [
      "Processing ASV: ASV00410;seqs=51580;samples=142 with abundance: 2.1849954489666216e-05 in sample RC-ABX_4.0\n",
      "<Solution 42.652 at 0x7efb879389d0>\n",
      "Processing ASV: ASV00519;seqs=37787;samples=49 with abundance: 1.498282593577112e-05 in sample RC-ABX_4.0\n"
     ]
    },
    {
     "name": "stderr",
     "output_type": "stream",
     "text": [
      "'ASV00519;seqs=37787;samples=49' is not a valid SBML 'SId'.\n"
     ]
    },
    {
     "name": "stdout",
     "output_type": "stream",
     "text": [
      "<Solution 213.171 at 0x7efb8687d360>\n"
     ]
    },
    {
     "name": "stderr",
     "output_type": "stream",
     "text": [
      "'ASV00555;seqs=34715;samples=589' is not a valid SBML 'SId'.\n"
     ]
    },
    {
     "name": "stdout",
     "output_type": "stream",
     "text": [
      "Processing ASV: ASV00555;seqs=34715;samples=589 with abundance: 0.001409009922376476 in sample RC-ABX_4.0\n",
      "<Solution 10.662 at 0x7efb84c7fc70>\n"
     ]
    },
    {
     "name": "stderr",
     "output_type": "stream",
     "text": [
      "'ASV00895;seqs=15764;samples=276' is not a valid SBML 'SId'.\n"
     ]
    },
    {
     "name": "stdout",
     "output_type": "stream",
     "text": [
      "Processing ASV: ASV00895;seqs=15764;samples=276 with abundance: 0.0002472166279402235 in sample RC-ABX_4.0\n",
      "<Solution 62.508 at 0x7efb82e8b340>\n",
      "Processing ASV: ASV00903;seqs=15426;samples=48 with abundance: 3.121422069952316e-06 in sample RC-ABX_4.0\n"
     ]
    },
    {
     "name": "stderr",
     "output_type": "stream",
     "text": [
      "'ASV00903;seqs=15426;samples=48' is not a valid SBML 'SId'.\n"
     ]
    },
    {
     "name": "stdout",
     "output_type": "stream",
     "text": [
      "<Solution 85.571 at 0x7efb81de8040>\n"
     ]
    },
    {
     "name": "stderr",
     "output_type": "stream",
     "text": [
      "'ASV00913;seqs=15231;samples=26' is not a valid SBML 'SId'.\n"
     ]
    },
    {
     "name": "stdout",
     "output_type": "stream",
     "text": [
      "Processing ASV: ASV00913;seqs=15231;samples=26 with abundance: 0.0024409520587027117 in sample RC-ABX_4.0\n",
      "<Solution 78.399 at 0x7efb8022b610>\n",
      "Processing ASV: ASV01569;seqs=5738;samples=61 with abundance: 0.00011112262569030248 in sample RC-ABX_4.0\n"
     ]
    },
    {
     "name": "stderr",
     "output_type": "stream",
     "text": [
      "'ASV01569;seqs=5738;samples=61' is not a valid SBML 'SId'.\n"
     ]
    },
    {
     "name": "stdout",
     "output_type": "stream",
     "text": [
      "<Solution 103.437 at 0x7efb7eb258d0>\n",
      "Processing ASV: ASV02079;seqs=3176;samples=69 with abundance: 9.988550623847412e-06 in sample RC-ABX_4.0\n"
     ]
    },
    {
     "name": "stderr",
     "output_type": "stream",
     "text": [
      "'ASV02079;seqs=3176;samples=69' is not a valid SBML 'SId'.\n"
     ]
    },
    {
     "name": "stdout",
     "output_type": "stream",
     "text": [
      "<Solution 208.921 at 0x7efc87efde10>\n"
     ]
    },
    {
     "name": "stderr",
     "output_type": "stream",
     "text": [
      "'ASV03716;seqs=853;samples=24' is not a valid SBML 'SId'.\n"
     ]
    },
    {
     "name": "stdout",
     "output_type": "stream",
     "text": [
      "Processing ASV: ASV03716;seqs=853;samples=24 with abundance: 8.739981795866488e-06 in sample RC-ABX_4.0\n",
      "<Solution 98.542 at 0x7efc29d9f6d0>\n",
      "Processing ASV: ASV03883;seqs=765;samples=32 with abundance: 1.8728532419713902e-05 in sample RC-ABX_4.0\n"
     ]
    },
    {
     "name": "stderr",
     "output_type": "stream",
     "text": [
      "'ASV03883;seqs=765;samples=32' is not a valid SBML 'SId'.\n"
     ]
    },
    {
     "name": "stdout",
     "output_type": "stream",
     "text": [
      "<Solution 85.229 at 0x7efc32c5f700>\n",
      "Processing ASV: ASV04165;seqs=643;samples=20 with abundance: 2.434709214562807e-05 in sample RC-ABX_4.0\n"
     ]
    },
    {
     "name": "stderr",
     "output_type": "stream",
     "text": [
      "'ASV04165;seqs=643;samples=20' is not a valid SBML 'SId'.\n"
     ]
    },
    {
     "name": "stdout",
     "output_type": "stream",
     "text": [
      "<Solution 81.828 at 0x7efc3b3920b0>\n"
     ]
    },
    {
     "name": "stderr",
     "output_type": "stream",
     "text": [
      "'ASV04297;seqs=595;samples=13' is not a valid SBML 'SId'.\n"
     ]
    },
    {
     "name": "stdout",
     "output_type": "stream",
     "text": [
      "Processing ASV: ASV04297;seqs=595;samples=13 with abundance: 5.1191321947217995e-05 in sample RC-ABX_4.0\n",
      "<Solution 48.227 at 0x7efc415db5e0>\n"
     ]
    },
    {
     "name": "stderr",
     "output_type": "stream",
     "text": [
      "'ASV05771;seqs=299;samples=17' is not a valid SBML 'SId'.\n"
     ]
    },
    {
     "name": "stdout",
     "output_type": "stream",
     "text": [
      "Processing ASV: ASV05771;seqs=299;samples=17 with abundance: 6.8671285538950966e-06 in sample RC-ABX_4.0\n",
      "<Solution 40.831 at 0x7efc60988580>\n",
      "Processing ASV: ASV06060;seqs=263;samples=10 with abundance: 8.739981795866488e-06 in sample RC-ABX_4.0\n"
     ]
    },
    {
     "name": "stderr",
     "output_type": "stream",
     "text": [
      "'ASV06060;seqs=263;samples=10' is not a valid SBML 'SId'.\n"
     ]
    },
    {
     "name": "stdout",
     "output_type": "stream",
     "text": [
      "<Solution 48.534 at 0x7efc486d1210>\n",
      "Processing ASV: ASV06113;seqs=258;samples=9 with abundance: 1.1861403865818803e-05 in sample RC-ABX_4.0\n"
     ]
    },
    {
     "name": "stderr",
     "output_type": "stream",
     "text": [
      "'ASV06113;seqs=258;samples=9' is not a valid SBML 'SId'.\n"
     ]
    },
    {
     "name": "stdout",
     "output_type": "stream",
     "text": [
      "<Solution 138.511 at 0x7efc53148580>\n",
      "Processing ASV: ASV08110;seqs=126;samples=7 with abundance: 2.3098523317647146e-05 in sample RC-ABX_4.0\n"
     ]
    },
    {
     "name": "stderr",
     "output_type": "stream",
     "text": [
      "'ASV08110;seqs=126;samples=7' is not a valid SBML 'SId'.\n"
     ]
    },
    {
     "name": "stdout",
     "output_type": "stream",
     "text": [
      "<Solution 18.889 at 0x7efc5a35e290>\n"
     ]
    },
    {
     "name": "stderr",
     "output_type": "stream",
     "text": [
      "'ASV08433;seqs=114;samples=6' is not a valid SBML 'SId'.\n"
     ]
    },
    {
     "name": "stdout",
     "output_type": "stream",
     "text": [
      "Processing ASV: ASV08433;seqs=114;samples=6 with abundance: 8.115697381876023e-06 in sample RC-ABX_4.0\n",
      "<Solution 79.795 at 0x7efc61a2bb80>\n",
      "Processing ASV: ASV09422;seqs=85;samples=3 with abundance: 6.242844139904634e-06 in sample RC-ABX_4.0\n"
     ]
    },
    {
     "name": "stderr",
     "output_type": "stream",
     "text": [
      "'ASV09422;seqs=85;samples=3' is not a valid SBML 'SId'.\n"
     ]
    },
    {
     "name": "stdout",
     "output_type": "stream",
     "text": [
      "<Solution 150.797 at 0x7efc6a745780>\n"
     ]
    },
    {
     "name": "stderr",
     "output_type": "stream",
     "text": [
      "'ASV10516;seqs=64;samples=3' is not a valid SBML 'SId'.\n"
     ]
    },
    {
     "name": "stdout",
     "output_type": "stream",
     "text": [
      "Processing ASV: ASV10516;seqs=64;samples=3 with abundance: 1.7479963591732976e-05 in sample RC-ABX_4.0\n",
      "<Solution 66.558 at 0x7efc7067d360>\n"
     ]
    },
    {
     "name": "stderr",
     "output_type": "stream",
     "text": [
      "'ASV10593;seqs=63;samples=4' is not a valid SBML 'SId'.\n"
     ]
    },
    {
     "name": "stdout",
     "output_type": "stream",
     "text": [
      "Processing ASV: ASV10593;seqs=63;samples=4 with abundance: 3.74570648394278e-06 in sample RC-ABX_4.0\n",
      "<Solution 84.853 at 0x7efc7655d630>\n",
      "EX_biomass(e)_ASV00003 100.0\n",
      "EX_biomass(e)_ASV00004 59.69022600715458\n",
      "EX_biomass(e)_ASV00005 100.0\n",
      "EX_biomass(e)_ASV00006 100.0\n",
      "EX_biomass(e)_ASV00008 98.28409296635552\n",
      "EX_biomass(e)_ASV00011 100.0\n",
      "EX_biomass(e)_ASV00030 52.6741710176726\n",
      "EX_biomass(e)_ASV00037 100.0\n",
      "EX_biomass(e)_ASV00041 24.06992422471034\n",
      "EX_biomass(e)_ASV00057 100.0\n",
      "EX_biomass(e)_ASV00131 100.0\n",
      "EX_biomass(e)_ASV00170 73.99819758831292\n",
      "EX_biomass(e)_ASV00174 100.0\n",
      "EX_biomass(e)_ASV00192 84.27552545595235\n",
      "EX_biomass(e)_ASV00240 83.17577225497078\n",
      "EX_biomass(e)_ASV00242 100.0\n",
      "EX_biomass(e)_ASV00302 100.0\n",
      "EX_biomass(e)_ASV00410 69.49957152489952\n",
      "EX_biomass(e)_ASV00519 100.0\n",
      "EX_biomass(e)_ASV00555 10.661500245800895\n",
      "EX_biomass(e)_ASV00895 62.50756406637237\n",
      "EX_biomass(e)_ASV00903 85.57058702749052\n",
      "EX_biomass(e)_ASV00913 78.39912898567692\n",
      "EX_biomass(e)_ASV01569 100.0\n",
      "EX_biomass(e)_ASV02079 100.0\n",
      "EX_biomass(e)_ASV03716 98.54205026376935\n",
      "EX_biomass(e)_ASV03883 85.22875061075716\n",
      "EX_biomass(e)_ASV04165 90.6453596176227\n",
      "EX_biomass(e)_ASV04297 59.461787759267985\n",
      "EX_biomass(e)_ASV05771 40.831191375819515\n",
      "EX_biomass(e)_ASV06060 54.295709299371914\n",
      "EX_biomass(e)_ASV06113 100.0\n",
      "EX_biomass(e)_ASV08110 18.889123560014212\n",
      "EX_biomass(e)_ASV08433 79.79451396558136\n",
      "EX_biomass(e)_ASV09422 100.0\n",
      "EX_biomass(e)_ASV10516 79.73665563497943\n",
      "EX_biomass(e)_ASV10593 87.1187795190414\n",
      "<Solution 100.000 at 0x7efbecbcc160> \n",
      "\n",
      "\n",
      "Processing sample: RC-ABX_6.0\n",
      "Processing ASV: ASV00004;seqs=6473178;samples=1764 with abundance: 0.488333860333025 in sample RC-ABX_6.0\n"
     ]
    },
    {
     "name": "stderr",
     "output_type": "stream",
     "text": [
      "'ASV00004;seqs=6473178;samples=1764' is not a valid SBML 'SId'.\n"
     ]
    },
    {
     "name": "stdout",
     "output_type": "stream",
     "text": [
      "<Solution 57.494 at 0x7efc797d5660>\n",
      "Processing ASV: ASV00006;seqs=5698377;samples=2075 with abundance: 0.01267249516657663 in sample RC-ABX_6.0\n"
     ]
    },
    {
     "name": "stderr",
     "output_type": "stream",
     "text": [
      "'ASV00006;seqs=5698377;samples=2075' is not a valid SBML 'SId'.\n"
     ]
    },
    {
     "name": "stdout",
     "output_type": "stream",
     "text": [
      "<Solution 149.949 at 0x7efc7fa3d060>\n",
      "Processing ASV: ASV00030;seqs=967751;samples=1354 with abundance: 0.00041070972273593364 in sample RC-ABX_6.0\n"
     ]
    },
    {
     "name": "stderr",
     "output_type": "stream",
     "text": [
      "'ASV00030;seqs=967751;samples=1354' is not a valid SBML 'SId'.\n"
     ]
    },
    {
     "name": "stdout",
     "output_type": "stream",
     "text": [
      "<Solution 52.674 at 0x7efc8dd22aa0>\n",
      "Processing ASV: ASV00037;seqs=790233;samples=478 with abundance: 0.42803653916385576 in sample RC-ABX_6.0\n"
     ]
    },
    {
     "name": "stderr",
     "output_type": "stream",
     "text": [
      "'ASV00037;seqs=790233;samples=478' is not a valid SBML 'SId'.\n"
     ]
    },
    {
     "name": "stdout",
     "output_type": "stream",
     "text": [
      "<Solution 141.587 at 0x7efc7f4281c0>\n",
      "Processing ASV: ASV00057;seqs=537929;samples=1455 with abundance: 0.04019238016785427 in sample RC-ABX_6.0\n"
     ]
    },
    {
     "name": "stderr",
     "output_type": "stream",
     "text": [
      "'ASV00057;seqs=537929;samples=1455' is not a valid SBML 'SId'.\n"
     ]
    },
    {
     "name": "stdout",
     "output_type": "stream",
     "text": [
      "<Solution 178.201 at 0x7efc0f917a00>\n"
     ]
    },
    {
     "name": "stderr",
     "output_type": "stream",
     "text": [
      "'ASV00086;seqs=386275;samples=304' is not a valid SBML 'SId'.\n"
     ]
    },
    {
     "name": "stdout",
     "output_type": "stream",
     "text": [
      "Processing ASV: ASV00086;seqs=386275;samples=304 with abundance: 0.0014503187084112653 in sample RC-ABX_6.0\n",
      "<Solution 137.509 at 0x7efc86670d00>\n",
      "Processing ASV: ASV00131;seqs=228350;samples=476 with abundance: 0.0008120851335915051 in sample RC-ABX_6.0\n"
     ]
    },
    {
     "name": "stderr",
     "output_type": "stream",
     "text": [
      "'ASV00131;seqs=228350;samples=476' is not a valid SBML 'SId'.\n"
     ]
    },
    {
     "name": "stdout",
     "output_type": "stream",
     "text": [
      "<Solution 181.408 at 0x7efc4c5d51e0>\n",
      "Processing ASV: ASV00240;seqs=106587;samples=647 with abundance: 0.016918440283156352 in sample RC-ABX_6.0\n"
     ]
    },
    {
     "name": "stderr",
     "output_type": "stream",
     "text": [
      "'ASV00240;seqs=106587;samples=647' is not a valid SBML 'SId'.\n"
     ]
    },
    {
     "name": "stdout",
     "output_type": "stream",
     "text": [
      "<Solution 83.176 at 0x7efc63698430>\n",
      "Processing ASV: ASV00254;seqs=102784;samples=1130 with abundance: 0.0007490785283990605 in sample RC-ABX_6.0\n"
     ]
    },
    {
     "name": "stderr",
     "output_type": "stream",
     "text": [
      "'ASV00254;seqs=102784;samples=1130' is not a valid SBML 'SId'.\n"
     ]
    },
    {
     "name": "stdout",
     "output_type": "stream",
     "text": [
      "<Solution 24.792 at 0x7efc45092d40>\n",
      "Processing ASV: ASV00555;seqs=34715;samples=589 with abundance: 0.010424092792394405 in sample RC-ABX_6.0\n"
     ]
    },
    {
     "name": "stderr",
     "output_type": "stream",
     "text": [
      "'ASV00555;seqs=34715;samples=589' is not a valid SBML 'SId'.\n"
     ]
    },
    {
     "name": "stdout",
     "output_type": "stream",
     "text": [
      "<Solution 10.662 at 0x7efc53c19390>\n",
      "EX_biomass(e)_ASV00004 59.69022600715454\n",
      "EX_biomass(e)_ASV00006 100.0\n",
      "EX_biomass(e)_ASV00030 52.67417101767252\n",
      "EX_biomass(e)_ASV00037 100.0\n",
      "EX_biomass(e)_ASV00057 100.0\n",
      "EX_biomass(e)_ASV00086 100.0\n",
      "EX_biomass(e)_ASV00131 100.0\n",
      "EX_biomass(e)_ASV00240 83.17577225497077\n",
      "EX_biomass(e)_ASV00254 24.792049863952403\n",
      "EX_biomass(e)_ASV00555 10.66150024580091\n",
      "<Solution 100.000 at 0x7efbecbcf6a0> \n",
      "\n",
      "\n",
      "Processing sample: RC-ABX_12.5\n",
      "Processing ASV: ASV00004;seqs=6473178;samples=1764 with abundance: 0.07053859176578492 in sample RC-ABX_12.5\n"
     ]
    },
    {
     "name": "stderr",
     "output_type": "stream",
     "text": [
      "'ASV00004;seqs=6473178;samples=1764' is not a valid SBML 'SId'.\n"
     ]
    },
    {
     "name": "stdout",
     "output_type": "stream",
     "text": [
      "<Solution 57.494 at 0x7efc528bfb50>\n"
     ]
    },
    {
     "name": "stderr",
     "output_type": "stream",
     "text": [
      "'ASV00004;seqs=7856150;samples=2507' is not a valid SBML 'SId'.\n"
     ]
    },
    {
     "name": "stdout",
     "output_type": "stream",
     "text": [
      "Processing ASV: ASV00004;seqs=7856150;samples=2507 with abundance: 1.631327284130086e-05 in sample RC-ABX_12.5\n",
      "<Solution 149.949 at 0x7efc9e467cd0>\n",
      "Processing ASV: ASV00006;seqs=5698377;samples=2075 with abundance: 0.00018850893061058771 in sample RC-ABX_12.5\n"
     ]
    },
    {
     "name": "stderr",
     "output_type": "stream",
     "text": [
      "'ASV00006;seqs=5698377;samples=2075' is not a valid SBML 'SId'.\n"
     ]
    },
    {
     "name": "stdout",
     "output_type": "stream",
     "text": [
      "<Solution 149.949 at 0x7efb7df747c0>\n",
      "Processing ASV: ASV00006;seqs=7202691;samples=2041 with abundance: 0.007009269564145603 in sample RC-ABX_12.5\n"
     ]
    },
    {
     "name": "stderr",
     "output_type": "stream",
     "text": [
      "'ASV00006;seqs=7202691;samples=2041' is not a valid SBML 'SId'.\n"
     ]
    },
    {
     "name": "stdout",
     "output_type": "stream",
     "text": [
      "<Solution 57.494 at 0x7efb7d2da980>\n",
      "Processing ASV: ASV00007;seqs=4733995;samples=2456 with abundance: 1.0875515227533907e-05 in sample RC-ABX_12.5\n"
     ]
    },
    {
     "name": "stderr",
     "output_type": "stream",
     "text": [
      "'ASV00007;seqs=4733995;samples=2456' is not a valid SBML 'SId'.\n"
     ]
    },
    {
     "name": "stdout",
     "output_type": "stream",
     "text": [
      "<Solution 87.312 at 0x7efb7c96c5b0>\n"
     ]
    },
    {
     "name": "stderr",
     "output_type": "stream",
     "text": [
      "'ASV00007;seqs=5884804;samples=2791' is not a valid SBML 'SId'.\n"
     ]
    },
    {
     "name": "stdout",
     "output_type": "stream",
     "text": [
      "Processing ASV: ASV00007;seqs=5884804;samples=2791 with abundance: 1.0875515227533907e-05 in sample RC-ABX_12.5\n",
      "<Solution 87.312 at 0x7efb7bdd70d0>\n",
      "Processing ASV: ASV00011;seqs=3029063;samples=663 with abundance: 7.250343485022605e-05 in sample RC-ABX_12.5\n"
     ]
    },
    {
     "name": "stderr",
     "output_type": "stream",
     "text": [
      "'ASV00011;seqs=3029063;samples=663' is not a valid SBML 'SId'.\n"
     ]
    },
    {
     "name": "stdout",
     "output_type": "stream",
     "text": [
      "<Solution 70.880 at 0x7efb7bb00c70>\n"
     ]
    },
    {
     "name": "stderr",
     "output_type": "stream",
     "text": [
      "'ASV00029;seqs=1026187;samples=847' is not a valid SBML 'SId'.\n"
     ]
    },
    {
     "name": "stdout",
     "output_type": "stream",
     "text": [
      "Processing ASV: ASV00029;seqs=1026187;samples=847 with abundance: 5.800274788018084e-05 in sample RC-ABX_12.5\n",
      "<Solution 56.141 at 0x7efc65e43cd0>\n"
     ]
    },
    {
     "name": "stderr",
     "output_type": "stream",
     "text": [
      "'ASV00030;seqs=1023078;samples=1476' is not a valid SBML 'SId'.\n"
     ]
    },
    {
     "name": "stdout",
     "output_type": "stream",
     "text": [
      "Processing ASV: ASV00030;seqs=1023078;samples=1476 with abundance: 0.009488887036023333 in sample RC-ABX_12.5\n",
      "<Solution 52.674 at 0x7efbf2d8a8c0>\n",
      "Processing ASV: ASV00030;seqs=967751;samples=1354 with abundance: 0.1344993094047831 in sample RC-ABX_12.5\n"
     ]
    },
    {
     "name": "stderr",
     "output_type": "stream",
     "text": [
      "'ASV00030;seqs=967751;samples=1354' is not a valid SBML 'SId'.\n"
     ]
    },
    {
     "name": "stdout",
     "output_type": "stream",
     "text": [
      "<Solution 52.674 at 0x7efbf78e1fc0>\n"
     ]
    },
    {
     "name": "stderr",
     "output_type": "stream",
     "text": [
      "'ASV00057;seqs=537929;samples=1455' is not a valid SBML 'SId'.\n"
     ]
    },
    {
     "name": "stdout",
     "output_type": "stream",
     "text": [
      "Processing ASV: ASV00057;seqs=537929;samples=1455 with abundance: 0.22707169502155167 in sample RC-ABX_12.5\n",
      "<Solution 178.201 at 0x7efbf88ed390>\n",
      "Processing ASV: ASV00058;seqs=641221;samples=1619 with abundance: 0.006258859013445764 in sample RC-ABX_12.5\n"
     ]
    },
    {
     "name": "stderr",
     "output_type": "stream",
     "text": [
      "'ASV00058;seqs=641221;samples=1619' is not a valid SBML 'SId'.\n"
     ]
    },
    {
     "name": "stdout",
     "output_type": "stream",
     "text": [
      "<Solution 178.201 at 0x7efc00268a60>\n"
     ]
    },
    {
     "name": "stderr",
     "output_type": "stream",
     "text": [
      "'ASV00109;seqs=292857;samples=522' is not a valid SBML 'SId'.\n"
     ]
    },
    {
     "name": "stdout",
     "output_type": "stream",
     "text": [
      "Processing ASV: ASV00109;seqs=292857;samples=522 with abundance: 3.806430329636868e-05 in sample RC-ABX_12.5\n",
      "<Solution 181.408 at 0x7efc0cc6b9a0>\n"
     ]
    },
    {
     "name": "stderr",
     "output_type": "stream",
     "text": [
      "'ASV00131;seqs=228350;samples=476' is not a valid SBML 'SId'.\n"
     ]
    },
    {
     "name": "stdout",
     "output_type": "stream",
     "text": [
      "Processing ASV: ASV00131;seqs=228350;samples=476 with abundance: 0.0023291728445635116 in sample RC-ABX_12.5\n",
      "<Solution 181.408 at 0x7efbfc022020>\n",
      "Processing ASV: ASV00208;seqs=147389;samples=777 with abundance: 0.022327432762127113 in sample RC-ABX_12.5\n"
     ]
    },
    {
     "name": "stderr",
     "output_type": "stream",
     "text": [
      "'ASV00208;seqs=147389;samples=777' is not a valid SBML 'SId'.\n"
     ]
    },
    {
     "name": "stdout",
     "output_type": "stream",
     "text": [
      "<Solution 83.176 at 0x7efc1a9929b0>\n"
     ]
    },
    {
     "name": "stderr",
     "output_type": "stream",
     "text": [
      "'ASV00239;seqs=120783;samples=1230' is not a valid SBML 'SId'.\n"
     ]
    },
    {
     "name": "stdout",
     "output_type": "stream",
     "text": [
      "Processing ASV: ASV00239;seqs=120783;samples=1230 with abundance: 0.01952698759103713 in sample RC-ABX_12.5\n",
      "<Solution 24.792 at 0x7efb7d7286d0>\n"
     ]
    },
    {
     "name": "stderr",
     "output_type": "stream",
     "text": [
      "'ASV00240;seqs=106587;samples=647' is not a valid SBML 'SId'.\n"
     ]
    },
    {
     "name": "stdout",
     "output_type": "stream",
     "text": [
      "Processing ASV: ASV00240;seqs=106587;samples=647 with abundance: 0.43398562256886936 in sample RC-ABX_12.5\n",
      "<Solution 83.176 at 0x7efb7ae81120>\n"
     ]
    },
    {
     "name": "stderr",
     "output_type": "stream",
     "text": [
      "'ASV00254;seqs=102784;samples=1130' is not a valid SBML 'SId'.\n"
     ]
    },
    {
     "name": "stdout",
     "output_type": "stream",
     "text": [
      "Processing ASV: ASV00254;seqs=102784;samples=1130 with abundance: 0.03605595815101741 in sample RC-ABX_12.5\n",
      "<Solution 24.792 at 0x7efb7a99c970>\n",
      "Processing ASV: ASV00555;seqs=34715;samples=589 with abundance: 0.026838958995682425 in sample RC-ABX_12.5\n"
     ]
    },
    {
     "name": "stderr",
     "output_type": "stream",
     "text": [
      "'ASV00555;seqs=34715;samples=589' is not a valid SBML 'SId'.\n"
     ]
    },
    {
     "name": "stdout",
     "output_type": "stream",
     "text": [
      "<Solution 10.662 at 0x7efb7998e8c0>\n",
      "Processing ASV: ASV00564;seqs=36645;samples=643 with abundance: 0.0017835844973155609 in sample RC-ABX_12.5\n"
     ]
    },
    {
     "name": "stderr",
     "output_type": "stream",
     "text": [
      "'ASV00564;seqs=36645;samples=643' is not a valid SBML 'SId'.\n"
     ]
    },
    {
     "name": "stdout",
     "output_type": "stream",
     "text": [
      "<Solution 10.662 at 0x7efb7872af50>\n"
     ]
    },
    {
     "name": "stderr",
     "output_type": "stream",
     "text": [
      "'ASV00839;seqs=17688;samples=366' is not a valid SBML 'SId'.\n"
     ]
    },
    {
     "name": "stdout",
     "output_type": "stream",
     "text": [
      "Processing ASV: ASV00839;seqs=17688;samples=366 with abundance: 0.0018524627604232754 in sample RC-ABX_12.5\n",
      "<Solution 29.187 at 0x7efb77c57280>\n",
      "Processing ASV: ASV00898;seqs=17757;samples=377 with abundance: 3.806430329636868e-05 in sample RC-ABX_12.5\n"
     ]
    },
    {
     "name": "stderr",
     "output_type": "stream",
     "text": [
      "'ASV00898;seqs=17757;samples=377' is not a valid SBML 'SId'.\n"
     ]
    },
    {
     "name": "stdout",
     "output_type": "stream",
     "text": [
      "<Solution 29.187 at 0x7efb773e5720>\n",
      "EX_biomass(e)_ASV00004 100.0\n",
      "EX_biomass(e)_ASV00006 100.0\n",
      "EX_biomass(e)_ASV00007 87.3118315433465\n",
      "EX_biomass(e)_ASV00011 100.0\n",
      "EX_biomass(e)_ASV00029 56.141408305543116\n",
      "EX_biomass(e)_ASV00030 52.67417101767277\n",
      "EX_biomass(e)_ASV00057 100.0\n",
      "EX_biomass(e)_ASV00058 100.0\n",
      "EX_biomass(e)_ASV00109 100.0\n",
      "EX_biomass(e)_ASV00131 100.0\n",
      "EX_biomass(e)_ASV00208 83.17577225497075\n",
      "EX_biomass(e)_ASV00239 24.792049863952357\n",
      "EX_biomass(e)_ASV00240 83.17577225497078\n",
      "EX_biomass(e)_ASV00254 24.7920498639523\n",
      "EX_biomass(e)_ASV00555 10.66150024580089\n",
      "EX_biomass(e)_ASV00564 10.661500245800893\n",
      "EX_biomass(e)_ASV00839 29.964027036921138\n",
      "EX_biomass(e)_ASV00898 29.964027036921138\n",
      "<Solution 100.000 at 0x7efc834405b0> \n",
      "\n",
      "\n",
      "Processing sample: RC-ABX_21.0\n",
      "Processing ASV: ASV00004;seqs=6473178;samples=1764 with abundance: 0.03696830227896964 in sample RC-ABX_21.0\n"
     ]
    },
    {
     "name": "stderr",
     "output_type": "stream",
     "text": [
      "'ASV00004;seqs=6473178;samples=1764' is not a valid SBML 'SId'.\n"
     ]
    },
    {
     "name": "stdout",
     "output_type": "stream",
     "text": [
      "<Solution 57.494 at 0x7efb7664ebf0>\n",
      "Processing ASV: ASV00004;seqs=7856150;samples=2507 with abundance: 3.7116769356395217e-05 in sample RC-ABX_21.0\n"
     ]
    },
    {
     "name": "stderr",
     "output_type": "stream",
     "text": [
      "'ASV00004;seqs=7856150;samples=2507' is not a valid SBML 'SId'.\n"
     ]
    },
    {
     "name": "stdout",
     "output_type": "stream",
     "text": [
      "<Solution 149.949 at 0x7efb742308b0>\n",
      "Processing ASV: ASV00006;seqs=7202691;samples=2041 with abundance: 0.02851805112216366 in sample RC-ABX_21.0\n"
     ]
    },
    {
     "name": "stderr",
     "output_type": "stream",
     "text": [
      "'ASV00006;seqs=7202691;samples=2041' is not a valid SBML 'SId'.\n"
     ]
    },
    {
     "name": "stdout",
     "output_type": "stream",
     "text": [
      "<Solution 57.494 at 0x7efb73053370>\n"
     ]
    },
    {
     "name": "stderr",
     "output_type": "stream",
     "text": [
      "'ASV00007;seqs=4733995;samples=2456' is not a valid SBML 'SId'.\n"
     ]
    },
    {
     "name": "stdout",
     "output_type": "stream",
     "text": [
      "Processing ASV: ASV00007;seqs=4733995;samples=2456 with abundance: 2.474451290426348e-05 in sample RC-ABX_21.0\n",
      "<Solution 87.312 at 0x7efb721d90c0>\n"
     ]
    },
    {
     "name": "stderr",
     "output_type": "stream",
     "text": [
      "'ASV00007;seqs=5884804;samples=2791' is not a valid SBML 'SId'.\n"
     ]
    },
    {
     "name": "stdout",
     "output_type": "stream",
     "text": [
      "Processing ASV: ASV00007;seqs=5884804;samples=2791 with abundance: 2.474451290426348e-05 in sample RC-ABX_21.0\n",
      "<Solution 87.312 at 0x7efb70f476a0>\n"
     ]
    },
    {
     "name": "stderr",
     "output_type": "stream",
     "text": [
      "'ASV00030;seqs=1023078;samples=1476' is not a valid SBML 'SId'.\n"
     ]
    },
    {
     "name": "stdout",
     "output_type": "stream",
     "text": [
      "Processing ASV: ASV00030;seqs=1023078;samples=1476 with abundance: 0.0968623957637394 in sample RC-ABX_21.0\n",
      "<Solution 52.674 at 0x7efb70569510>\n",
      "Processing ASV: ASV00030;seqs=967751;samples=1354 with abundance: 0.11641056095810753 in sample RC-ABX_21.0\n"
     ]
    },
    {
     "name": "stderr",
     "output_type": "stream",
     "text": [
      "'ASV00030;seqs=967751;samples=1354' is not a valid SBML 'SId'.\n"
     ]
    },
    {
     "name": "stdout",
     "output_type": "stream",
     "text": [
      "<Solution 52.674 at 0x7efb6fe56a70>\n"
     ]
    },
    {
     "name": "stderr",
     "output_type": "stream",
     "text": [
      "'ASV00057;seqs=537929;samples=1455' is not a valid SBML 'SId'.\n"
     ]
    },
    {
     "name": "stdout",
     "output_type": "stream",
     "text": [
      "Processing ASV: ASV00057;seqs=537929;samples=1455 with abundance: 0.16164353054710118 in sample RC-ABX_21.0\n",
      "<Solution 178.201 at 0x7efb6f244d30>\n"
     ]
    },
    {
     "name": "stderr",
     "output_type": "stream",
     "text": [
      "'ASV00058;seqs=641221;samples=1619' is not a valid SBML 'SId'.\n"
     ]
    },
    {
     "name": "stdout",
     "output_type": "stream",
     "text": [
      "Processing ASV: ASV00058;seqs=641221;samples=1619 with abundance: 0.07095489075297552 in sample RC-ABX_21.0\n",
      "<Solution 178.201 at 0x7efb6ccbbf70>\n"
     ]
    },
    {
     "name": "stderr",
     "output_type": "stream",
     "text": [
      "'ASV00099;seqs=324118;samples=535' is not a valid SBML 'SId'.\n"
     ]
    },
    {
     "name": "stdout",
     "output_type": "stream",
     "text": [
      "Processing ASV: ASV00099;seqs=324118;samples=535 with abundance: 4.948902580852696e-05 in sample RC-ABX_21.0\n",
      "<Solution 50.002 at 0x7efb6c10d990>\n",
      "Processing ASV: ASV00109;seqs=292857;samples=522 with abundance: 0.00013609482097344915 in sample RC-ABX_21.0\n"
     ]
    },
    {
     "name": "stderr",
     "output_type": "stream",
     "text": [
      "'ASV00109;seqs=292857;samples=522' is not a valid SBML 'SId'.\n"
     ]
    },
    {
     "name": "stdout",
     "output_type": "stream",
     "text": [
      "<Solution 181.408 at 0x7efb69114970>\n"
     ]
    },
    {
     "name": "stderr",
     "output_type": "stream",
     "text": [
      "'ASV00131;seqs=228350;samples=476' is not a valid SBML 'SId'.\n"
     ]
    },
    {
     "name": "stdout",
     "output_type": "stream",
     "text": [
      "Processing ASV: ASV00131;seqs=228350;samples=476 with abundance: 0.001472298517803677 in sample RC-ABX_21.0\n",
      "<Solution 181.408 at 0x7efb66a6ee90>\n",
      "Processing ASV: ASV00142;seqs=232340;samples=215 with abundance: 4.948902580852696e-05 in sample RC-ABX_21.0\n"
     ]
    },
    {
     "name": "stderr",
     "output_type": "stream",
     "text": [
      "'ASV00142;seqs=232340;samples=215' is not a valid SBML 'SId'.\n"
     ]
    },
    {
     "name": "stdout",
     "output_type": "stream",
     "text": [
      "<Solution 82.814 at 0x7efb651eb8b0>\n"
     ]
    },
    {
     "name": "stderr",
     "output_type": "stream",
     "text": [
      "'ASV00208;seqs=147389;samples=777' is not a valid SBML 'SId'.\n"
     ]
    },
    {
     "name": "stdout",
     "output_type": "stream",
     "text": [
      "Processing ASV: ASV00208;seqs=147389;samples=777 with abundance: 0.1591567070002227 in sample RC-ABX_21.0\n",
      "<Solution 83.176 at 0x7efb63f434c0>\n"
     ]
    },
    {
     "name": "stderr",
     "output_type": "stream",
     "text": [
      "'ASV00239;seqs=120783;samples=1230' is not a valid SBML 'SId'.\n"
     ]
    },
    {
     "name": "stdout",
     "output_type": "stream",
     "text": [
      "Processing ASV: ASV00239;seqs=120783;samples=1230 with abundance: 0.10391458194145448 in sample RC-ABX_21.0\n",
      "<Solution 24.792 at 0x7efb6314b070>\n",
      "Processing ASV: ASV00240;seqs=106587;samples=647 with abundance: 0.13865587805904042 in sample RC-ABX_21.0\n"
     ]
    },
    {
     "name": "stderr",
     "output_type": "stream",
     "text": [
      "'ASV00240;seqs=106587;samples=647' is not a valid SBML 'SId'.\n"
     ]
    },
    {
     "name": "stdout",
     "output_type": "stream",
     "text": [
      "<Solution 83.176 at 0x7efb623cb670>\n"
     ]
    },
    {
     "name": "stderr",
     "output_type": "stream",
     "text": [
      "'ASV00254;seqs=102784;samples=1130' is not a valid SBML 'SId'.\n"
     ]
    },
    {
     "name": "stdout",
     "output_type": "stream",
     "text": [
      "Processing ASV: ASV00254;seqs=102784;samples=1130 with abundance: 0.047163041595526194 in sample RC-ABX_21.0\n",
      "<Solution 24.792 at 0x7efb615a5b70>\n",
      "Processing ASV: ASV00555;seqs=34715;samples=589 with abundance: 0.02460841808329003 in sample RC-ABX_21.0\n"
     ]
    },
    {
     "name": "stderr",
     "output_type": "stream",
     "text": [
      "'ASV00555;seqs=34715;samples=589' is not a valid SBML 'SId'.\n"
     ]
    },
    {
     "name": "stdout",
     "output_type": "stream",
     "text": [
      "<Solution 10.662 at 0x7efb6029ecb0>\n"
     ]
    },
    {
     "name": "stderr",
     "output_type": "stream",
     "text": [
      "'ASV00564;seqs=36645;samples=643' is not a valid SBML 'SId'.\n"
     ]
    },
    {
     "name": "stdout",
     "output_type": "stream",
     "text": [
      "Processing ASV: ASV00564;seqs=36645;samples=643 with abundance: 0.011456709474673992 in sample RC-ABX_21.0\n",
      "<Solution 10.662 at 0x7efb5f6be020>\n"
     ]
    },
    {
     "name": "stderr",
     "output_type": "stream",
     "text": [
      "'ASV00839;seqs=17688;samples=366' is not a valid SBML 'SId'.\n"
     ]
    },
    {
     "name": "stdout",
     "output_type": "stream",
     "text": [
      "Processing ASV: ASV00839;seqs=17688;samples=366 with abundance: 0.001806349442011234 in sample RC-ABX_21.0\n",
      "<Solution 29.187 at 0x7efb5dffc2b0>\n"
     ]
    },
    {
     "name": "stderr",
     "output_type": "stream",
     "text": [
      "'ASV00898;seqs=17757;samples=377' is not a valid SBML 'SId'.\n"
     ]
    },
    {
     "name": "stdout",
     "output_type": "stream",
     "text": [
      "Processing ASV: ASV00898;seqs=17757;samples=377 with abundance: 8.660579516492218e-05 in sample RC-ABX_21.0\n",
      "<Solution 29.187 at 0x7efb5d501bd0>\n",
      "EX_biomass(e)_ASV00004 100.0\n",
      "EX_biomass(e)_ASV00006 59.69022600715457\n",
      "EX_biomass(e)_ASV00007 87.31183154334614\n",
      "EX_biomass(e)_ASV00030 52.67417101767263\n",
      "EX_biomass(e)_ASV00057 100.0\n",
      "EX_biomass(e)_ASV00058 100.0\n",
      "EX_biomass(e)_ASV00099 85.94553646400325\n",
      "EX_biomass(e)_ASV00109 100.0\n",
      "EX_biomass(e)_ASV00131 100.0\n",
      "EX_biomass(e)_ASV00142 82.8136526888718\n",
      "EX_biomass(e)_ASV00208 83.17577225497077\n",
      "EX_biomass(e)_ASV00239 24.792049863952403\n",
      "EX_biomass(e)_ASV00240 83.17577225497077\n",
      "EX_biomass(e)_ASV00254 24.792049863952364\n",
      "EX_biomass(e)_ASV00555 10.6615002458009\n",
      "EX_biomass(e)_ASV00564 10.661500245800895\n",
      "EX_biomass(e)_ASV00839 29.964027036921138\n",
      "EX_biomass(e)_ASV00898 29.964027036921113\n",
      "<Solution 100.000 at 0x7efc6e85fe20> \n",
      "\n",
      "\n",
      "Processing sample: RC-ABX_15.5\n",
      "Processing ASV: ASV00003;seqs=7068340;samples=1916 with abundance: 0.0002984662224863669 in sample RC-ABX_15.5\n"
     ]
    },
    {
     "name": "stderr",
     "output_type": "stream",
     "text": [
      "'ASV00003;seqs=7068340;samples=1916' is not a valid SBML 'SId'.\n"
     ]
    },
    {
     "name": "stdout",
     "output_type": "stream",
     "text": [
      "<Solution 280.109 at 0x7efb5cb3c370>\n"
     ]
    },
    {
     "name": "stderr",
     "output_type": "stream",
     "text": [
      "'ASV00004;seqs=6473178;samples=1764' is not a valid SBML 'SId'.\n"
     ]
    },
    {
     "name": "stdout",
     "output_type": "stream",
     "text": [
      "Processing ASV: ASV00004;seqs=6473178;samples=1764 with abundance: 0.42671155390117493 in sample RC-ABX_15.5\n",
      "<Solution 57.494 at 0x7efc0e833010>\n",
      "Processing ASV: ASV00005;seqs=5940024;samples=3018 with abundance: 0.00013294128687165688 in sample RC-ABX_15.5\n"
     ]
    },
    {
     "name": "stderr",
     "output_type": "stream",
     "text": [
      "'ASV00005;seqs=5940024;samples=3018' is not a valid SBML 'SId'.\n"
     ]
    },
    {
     "name": "stdout",
     "output_type": "stream",
     "text": [
      "<Solution 150.594 at 0x7efc642b6b30>\n"
     ]
    },
    {
     "name": "stderr",
     "output_type": "stream",
     "text": [
      "'ASV00006;seqs=5698377;samples=2075' is not a valid SBML 'SId'.\n"
     ]
    },
    {
     "name": "stdout",
     "output_type": "stream",
     "text": [
      "Processing ASV: ASV00006;seqs=5698377;samples=2075 with abundance: 0.303404600289864 in sample RC-ABX_15.5\n",
      "<Solution 149.949 at 0x7efcb0a10c70>\n",
      "Processing ASV: ASV00006;seqs=7202691;samples=2041 with abundance: 0.0019862992273765204 in sample RC-ABX_15.5\n"
     ]
    },
    {
     "name": "stderr",
     "output_type": "stream",
     "text": [
      "'ASV00006;seqs=7202691;samples=2041' is not a valid SBML 'SId'.\n"
     ]
    },
    {
     "name": "stdout",
     "output_type": "stream",
     "text": [
      "<Solution 57.494 at 0x7efc3fc525f0>\n",
      "Processing ASV: ASV00008;seqs=3358093;samples=2591 with abundance: 0.0008224112942746617 in sample RC-ABX_15.5\n"
     ]
    },
    {
     "name": "stderr",
     "output_type": "stream",
     "text": [
      "'ASV00008;seqs=3358093;samples=2591' is not a valid SBML 'SId'.\n"
     ]
    },
    {
     "name": "stdout",
     "output_type": "stream",
     "text": [
      "<Solution 98.284 at 0x7efc6885bb50>\n",
      "Processing ASV: ASV00011;seqs=3029063;samples=663 with abundance: 0.00013033459497221263 in sample RC-ABX_15.5\n"
     ]
    },
    {
     "name": "stderr",
     "output_type": "stream",
     "text": [
      "'ASV00011;seqs=3029063;samples=663' is not a valid SBML 'SId'.\n"
     ]
    },
    {
     "name": "stdout",
     "output_type": "stream",
     "text": [
      "<Solution 70.880 at 0x7efc89c6e3e0>\n"
     ]
    },
    {
     "name": "stderr",
     "output_type": "stream",
     "text": [
      "'ASV00030;seqs=1023078;samples=1476' is not a valid SBML 'SId'.\n"
     ]
    },
    {
     "name": "stdout",
     "output_type": "stream",
     "text": [
      "Processing ASV: ASV00030;seqs=1023078;samples=1476 with abundance: 0.011894335137164124 in sample RC-ABX_15.5\n",
      "<Solution 52.674 at 0x7efc8427e1a0>\n",
      "Processing ASV: ASV00030;seqs=967751;samples=1354 with abundance: 0.0008680284025149361 in sample RC-ABX_15.5\n"
     ]
    },
    {
     "name": "stderr",
     "output_type": "stream",
     "text": [
      "'ASV00030;seqs=967751;samples=1354' is not a valid SBML 'SId'.\n"
     ]
    },
    {
     "name": "stdout",
     "output_type": "stream",
     "text": [
      "<Solution 52.674 at 0x7efc54a73be0>\n"
     ]
    },
    {
     "name": "stderr",
     "output_type": "stream",
     "text": [
      "'ASV00037;seqs=790233;samples=478' is not a valid SBML 'SId'.\n"
     ]
    },
    {
     "name": "stdout",
     "output_type": "stream",
     "text": [
      "Processing ASV: ASV00037;seqs=790233;samples=478 with abundance: 0.12822969126341138 in sample RC-ABX_15.5\n",
      "<Solution 141.587 at 0x7efc63372bf0>\n"
     ]
    },
    {
     "name": "stderr",
     "output_type": "stream",
     "text": [
      "'ASV00041;seqs=738577;samples=964' is not a valid SBML 'SId'.\n"
     ]
    },
    {
     "name": "stdout",
     "output_type": "stream",
     "text": [
      "Processing ASV: ASV00041;seqs=738577;samples=964 with abundance: 3.910037849166379e-06 in sample RC-ABX_15.5\n",
      "<Solution 24.070 at 0x7efc7acf8160>\n",
      "Processing ASV: ASV00057;seqs=537929;samples=1455 with abundance: 0.03352596786470226 in sample RC-ABX_15.5\n"
     ]
    },
    {
     "name": "stderr",
     "output_type": "stream",
     "text": [
      "'ASV00057;seqs=537929;samples=1455' is not a valid SBML 'SId'.\n"
     ]
    },
    {
     "name": "stdout",
     "output_type": "stream",
     "text": [
      "<Solution 178.201 at 0x7efc83eb9e40>\n",
      "Processing ASV: ASV00058;seqs=641221;samples=1619 with abundance: 0.00896180675028934 in sample RC-ABX_15.5\n"
     ]
    },
    {
     "name": "stderr",
     "output_type": "stream",
     "text": [
      "'ASV00058;seqs=641221;samples=1619' is not a valid SBML 'SId'.\n"
     ]
    },
    {
     "name": "stdout",
     "output_type": "stream",
     "text": [
      "<Solution 178.201 at 0x7efc056d8490>\n"
     ]
    },
    {
     "name": "stderr",
     "output_type": "stream",
     "text": [
      "'ASV00099;seqs=324118;samples=535' is not a valid SBML 'SId'.\n"
     ]
    },
    {
     "name": "stdout",
     "output_type": "stream",
     "text": [
      "Processing ASV: ASV00099;seqs=324118;samples=535 with abundance: 7.820075698332757e-06 in sample RC-ABX_15.5\n",
      "<Solution 50.002 at 0x7efc218e1e70>\n"
     ]
    },
    {
     "name": "stderr",
     "output_type": "stream",
     "text": [
      "'ASV00109;seqs=292857;samples=522' is not a valid SBML 'SId'.\n"
     ]
    },
    {
     "name": "stdout",
     "output_type": "stream",
     "text": [
      "Processing ASV: ASV00109;seqs=292857;samples=522 with abundance: 7.820075698332757e-06 in sample RC-ABX_15.5\n",
      "<Solution 181.408 at 0x7efbd5b51ff0>\n",
      "Processing ASV: ASV00131;seqs=228350;samples=476 with abundance: 0.048554850010948086 in sample RC-ABX_15.5\n"
     ]
    },
    {
     "name": "stderr",
     "output_type": "stream",
     "text": [
      "'ASV00131;seqs=228350;samples=476' is not a valid SBML 'SId'.\n"
     ]
    },
    {
     "name": "stdout",
     "output_type": "stream",
     "text": [
      "<Solution 181.408 at 0x7efbe6e64d60>\n",
      "Processing ASV: ASV00142;seqs=232340;samples=215 with abundance: 7.820075698332757e-06 in sample RC-ABX_15.5\n"
     ]
    },
    {
     "name": "stderr",
     "output_type": "stream",
     "text": [
      "'ASV00142;seqs=232340;samples=215' is not a valid SBML 'SId'.\n"
     ]
    },
    {
     "name": "stdout",
     "output_type": "stream",
     "text": [
      "<Solution 82.814 at 0x7efc59285ae0>\n",
      "Processing ASV: ASV00170;seqs=173585;samples=145 with abundance: 0.0001498847842180445 in sample RC-ABX_15.5\n"
     ]
    },
    {
     "name": "stderr",
     "output_type": "stream",
     "text": [
      "'ASV00170;seqs=173585;samples=145' is not a valid SBML 'SId'.\n"
     ]
    },
    {
     "name": "stdout",
     "output_type": "stream",
     "text": [
      "<Solution 70.850 at 0x7efbd84c7b80>\n"
     ]
    },
    {
     "name": "stderr",
     "output_type": "stream",
     "text": [
      "'ASV00174;seqs=168097;samples=70' is not a valid SBML 'SId'.\n"
     ]
    },
    {
     "name": "stdout",
     "output_type": "stream",
     "text": [
      "Processing ASV: ASV00174;seqs=168097;samples=70 with abundance: 9.775094622915947e-05 in sample RC-ABX_15.5\n",
      "<Solution 123.952 at 0x7efbd2b82530>\n",
      "Processing ASV: ASV00192;seqs=153897;samples=185 with abundance: 1.1730113547499136e-05 in sample RC-ABX_15.5\n"
     ]
    },
    {
     "name": "stderr",
     "output_type": "stream",
     "text": [
      "'ASV00192;seqs=153897;samples=185' is not a valid SBML 'SId'.\n"
     ]
    },
    {
     "name": "stdout",
     "output_type": "stream",
     "text": [
      "<Solution 84.276 at 0x7efbec9bb3d0>\n",
      "Processing ASV: ASV00208;seqs=147389;samples=777 with abundance: 0.01712205574149957 in sample RC-ABX_15.5\n"
     ]
    },
    {
     "name": "stderr",
     "output_type": "stream",
     "text": [
      "'ASV00208;seqs=147389;samples=777' is not a valid SBML 'SId'.\n"
     ]
    },
    {
     "name": "stdout",
     "output_type": "stream",
     "text": [
      "<Solution 83.176 at 0x7efb58d664d0>\n",
      "Processing ASV: ASV00239;seqs=120783;samples=1230 with abundance: 0.009399730989395973 in sample RC-ABX_15.5\n"
     ]
    },
    {
     "name": "stderr",
     "output_type": "stream",
     "text": [
      "'ASV00239;seqs=120783;samples=1230' is not a valid SBML 'SId'.\n"
     ]
    },
    {
     "name": "stdout",
     "output_type": "stream",
     "text": [
      "<Solution 24.792 at 0x7efb588d4070>\n"
     ]
    },
    {
     "name": "stderr",
     "output_type": "stream",
     "text": [
      "'ASV00240;seqs=106587;samples=647' is not a valid SBML 'SId'.\n"
     ]
    },
    {
     "name": "stdout",
     "output_type": "stream",
     "text": [
      "Processing ASV: ASV00240;seqs=106587;samples=647 with abundance: 1.4336805446943387e-05 in sample RC-ABX_15.5\n",
      "<Solution 83.176 at 0x7efb57829060>\n",
      "Processing ASV: ASV00242;seqs=106523;samples=69 with abundance: 2.3460227094998272e-05 in sample RC-ABX_15.5\n"
     ]
    },
    {
     "name": "stderr",
     "output_type": "stream",
     "text": [
      "'ASV00242;seqs=106523;samples=69' is not a valid SBML 'SId'.\n"
     ]
    },
    {
     "name": "stdout",
     "output_type": "stream",
     "text": [
      "<Solution 131.493 at 0x7efb55f9ccd0>\n"
     ]
    },
    {
     "name": "stderr",
     "output_type": "stream",
     "text": [
      "'ASV00302;seqs=78715;samples=316' is not a valid SBML 'SId'.\n"
     ]
    },
    {
     "name": "stdout",
     "output_type": "stream",
     "text": [
      "Processing ASV: ASV00302;seqs=78715;samples=316 with abundance: 5.604387583805143e-05 in sample RC-ABX_15.5\n",
      "<Solution 135.685 at 0x7efb53df5d20>\n",
      "Processing ASV: ASV00410;seqs=51580;samples=142 with abundance: 4.561710824027442e-05 in sample RC-ABX_15.5\n"
     ]
    },
    {
     "name": "stderr",
     "output_type": "stream",
     "text": [
      "'ASV00410;seqs=51580;samples=142' is not a valid SBML 'SId'.\n"
     ]
    },
    {
     "name": "stdout",
     "output_type": "stream",
     "text": [
      "<Solution 42.652 at 0x7efb5290e2c0>\n"
     ]
    },
    {
     "name": "stderr",
     "output_type": "stream",
     "text": [
      "'ASV00519;seqs=37787;samples=49' is not a valid SBML 'SId'.\n"
     ]
    },
    {
     "name": "stdout",
     "output_type": "stream",
     "text": [
      "Processing ASV: ASV00519;seqs=37787;samples=49 with abundance: 3.128030279333103e-05 in sample RC-ABX_15.5\n",
      "<Solution 213.171 at 0x7efb50f21840>\n"
     ]
    },
    {
     "name": "stderr",
     "output_type": "stream",
     "text": [
      "'ASV00555;seqs=34715;samples=589' is not a valid SBML 'SId'.\n"
     ]
    },
    {
     "name": "stdout",
     "output_type": "stream",
     "text": [
      "Processing ASV: ASV00555;seqs=34715;samples=589 with abundance: 6.386395153638417e-05 in sample RC-ABX_15.5\n",
      "<Solution 10.662 at 0x7efb4fa8e830>\n",
      "Processing ASV: ASV00564;seqs=36645;samples=643 with abundance: 0.0011691013169007473 in sample RC-ABX_15.5\n"
     ]
    },
    {
     "name": "stderr",
     "output_type": "stream",
     "text": [
      "'ASV00564;seqs=36645;samples=643' is not a valid SBML 'SId'.\n"
     ]
    },
    {
     "name": "stdout",
     "output_type": "stream",
     "text": [
      "<Solution 10.662 at 0x7efb4e47ae60>\n"
     ]
    },
    {
     "name": "stderr",
     "output_type": "stream",
     "text": [
      "'ASV00895;seqs=15764;samples=276' is not a valid SBML 'SId'.\n"
     ]
    },
    {
     "name": "stdout",
     "output_type": "stream",
     "text": [
      "Processing ASV: ASV00895;seqs=15764;samples=276 with abundance: 0.000516124996089962 in sample RC-ABX_15.5\n",
      "<Solution 62.508 at 0x7efb4d927c10>\n"
     ]
    },
    {
     "name": "stderr",
     "output_type": "stream",
     "text": [
      "'ASV00903;seqs=15426;samples=48' is not a valid SBML 'SId'.\n"
     ]
    },
    {
     "name": "stdout",
     "output_type": "stream",
     "text": [
      "Processing ASV: ASV00903;seqs=15426;samples=48 with abundance: 6.516729748610629e-06 in sample RC-ABX_15.5\n",
      "<Solution 85.571 at 0x7efb4be6fc70>\n",
      "Processing ASV: ASV00913;seqs=15231;samples=26 with abundance: 0.005096082663413513 in sample RC-ABX_15.5\n"
     ]
    },
    {
     "name": "stderr",
     "output_type": "stream",
     "text": [
      "'ASV00913;seqs=15231;samples=26' is not a valid SBML 'SId'.\n"
     ]
    },
    {
     "name": "stdout",
     "output_type": "stream",
     "text": [
      "<Solution 78.399 at 0x7efb4b31cfa0>\n"
     ]
    },
    {
     "name": "stderr",
     "output_type": "stream",
     "text": [
      "'ASV01569;seqs=5738;samples=61' is not a valid SBML 'SId'.\n"
     ]
    },
    {
     "name": "stdout",
     "output_type": "stream",
     "text": [
      "Processing ASV: ASV01569;seqs=5738;samples=61 with abundance: 0.00023199557905053848 in sample RC-ABX_15.5\n",
      "<Solution 103.437 at 0x7efb48daf4c0>\n"
     ]
    },
    {
     "name": "stderr",
     "output_type": "stream",
     "text": [
      "'ASV02079;seqs=3176;samples=69' is not a valid SBML 'SId'.\n"
     ]
    },
    {
     "name": "stdout",
     "output_type": "stream",
     "text": [
      "Processing ASV: ASV02079;seqs=3176;samples=69 with abundance: 2.0853535195554017e-05 in sample RC-ABX_15.5\n",
      "<Solution 208.921 at 0x7efb46c5db40>\n",
      "Processing ASV: ASV03716;seqs=853;samples=24 with abundance: 1.824684329610977e-05 in sample RC-ABX_15.5\n"
     ]
    },
    {
     "name": "stderr",
     "output_type": "stream",
     "text": [
      "'ASV03716;seqs=853;samples=24' is not a valid SBML 'SId'.\n"
     ]
    },
    {
     "name": "stdout",
     "output_type": "stream",
     "text": [
      "<Solution 98.542 at 0x7efb7d5b5f00>\n",
      "Processing ASV: ASV03883;seqs=765;samples=32 with abundance: 3.910037849166379e-05 in sample RC-ABX_15.5\n"
     ]
    },
    {
     "name": "stderr",
     "output_type": "stream",
     "text": [
      "'ASV03883;seqs=765;samples=32' is not a valid SBML 'SId'.\n"
     ]
    },
    {
     "name": "stdout",
     "output_type": "stream",
     "text": [
      "<Solution 85.229 at 0x7efb45febc70>\n",
      "Processing ASV: ASV04165;seqs=643;samples=20 with abundance: 5.083049203916292e-05 in sample RC-ABX_15.5\n"
     ]
    },
    {
     "name": "stderr",
     "output_type": "stream",
     "text": [
      "'ASV04165;seqs=643;samples=20' is not a valid SBML 'SId'.\n"
     ]
    },
    {
     "name": "stdout",
     "output_type": "stream",
     "text": [
      "<Solution 81.828 at 0x7efb520c77f0>\n"
     ]
    },
    {
     "name": "stderr",
     "output_type": "stream",
     "text": [
      "'ASV04297;seqs=595;samples=13' is not a valid SBML 'SId'.\n"
     ]
    },
    {
     "name": "stdout",
     "output_type": "stream",
     "text": [
      "Processing ASV: ASV04297;seqs=595;samples=13 with abundance: 0.00010687436787721435 in sample RC-ABX_15.5\n",
      "<Solution 48.227 at 0x7efb459fec20>\n"
     ]
    },
    {
     "name": "stderr",
     "output_type": "stream",
     "text": [
      "'ASV05771;seqs=299;samples=17' is not a valid SBML 'SId'.\n"
     ]
    },
    {
     "name": "stdout",
     "output_type": "stream",
     "text": [
      "Processing ASV: ASV05771;seqs=299;samples=17 with abundance: 1.4336805446943387e-05 in sample RC-ABX_15.5\n",
      "<Solution 40.831 at 0x7efb44f05210>\n",
      "Processing ASV: ASV06060;seqs=263;samples=10 with abundance: 1.824684329610977e-05 in sample RC-ABX_15.5\n"
     ]
    },
    {
     "name": "stderr",
     "output_type": "stream",
     "text": [
      "'ASV06060;seqs=263;samples=10' is not a valid SBML 'SId'.\n"
     ]
    },
    {
     "name": "stdout",
     "output_type": "stream",
     "text": [
      "<Solution 48.534 at 0x7efb44113f40>\n"
     ]
    },
    {
     "name": "stderr",
     "output_type": "stream",
     "text": [
      "'ASV06113;seqs=258;samples=9' is not a valid SBML 'SId'.\n"
     ]
    },
    {
     "name": "stdout",
     "output_type": "stream",
     "text": [
      "Processing ASV: ASV06113;seqs=258;samples=9 with abundance: 2.4763573044720396e-05 in sample RC-ABX_15.5\n",
      "<Solution 138.511 at 0x7efb426c2e60>\n",
      "Processing ASV: ASV08110;seqs=126;samples=7 with abundance: 4.822380013971867e-05 in sample RC-ABX_15.5\n"
     ]
    },
    {
     "name": "stderr",
     "output_type": "stream",
     "text": [
      "'ASV08110;seqs=126;samples=7' is not a valid SBML 'SId'.\n"
     ]
    },
    {
     "name": "stdout",
     "output_type": "stream",
     "text": [
      "<Solution 18.889 at 0x7efb41963160>\n"
     ]
    },
    {
     "name": "stderr",
     "output_type": "stream",
     "text": [
      "'ASV08433;seqs=114;samples=6' is not a valid SBML 'SId'.\n"
     ]
    },
    {
     "name": "stdout",
     "output_type": "stream",
     "text": [
      "Processing ASV: ASV08433;seqs=114;samples=6 with abundance: 1.694349734638764e-05 in sample RC-ABX_15.5\n",
      "<Solution 79.795 at 0x7efb40492140>\n"
     ]
    },
    {
     "name": "stderr",
     "output_type": "stream",
     "text": [
      "'ASV09422;seqs=85;samples=3' is not a valid SBML 'SId'.\n"
     ]
    },
    {
     "name": "stdout",
     "output_type": "stream",
     "text": [
      "Processing ASV: ASV09422;seqs=85;samples=3 with abundance: 1.3033459497221263e-05 in sample RC-ABX_15.5\n",
      "<Solution 150.797 at 0x7efb3dd0a590>\n",
      "Processing ASV: ASV10516;seqs=64;samples=3 with abundance: 3.649368659221954e-05 in sample RC-ABX_15.5\n"
     ]
    },
    {
     "name": "stderr",
     "output_type": "stream",
     "text": [
      "'ASV10516;seqs=64;samples=3' is not a valid SBML 'SId'.\n"
     ]
    },
    {
     "name": "stdout",
     "output_type": "stream",
     "text": [
      "<Solution 66.558 at 0x7efb3cbbbcd0>\n"
     ]
    },
    {
     "name": "stderr",
     "output_type": "stream",
     "text": [
      "'ASV10593;seqs=63;samples=4' is not a valid SBML 'SId'.\n"
     ]
    },
    {
     "name": "stdout",
     "output_type": "stream",
     "text": [
      "Processing ASV: ASV10593;seqs=63;samples=4 with abundance: 7.820075698332757e-06 in sample RC-ABX_15.5\n",
      "<Solution 84.853 at 0x7efb3b674820>\n",
      "EX_biomass(e)_ASV00003 100.0\n",
      "EX_biomass(e)_ASV00004 59.69022600715457\n",
      "EX_biomass(e)_ASV00005 100.0\n",
      "EX_biomass(e)_ASV00006 100.0\n",
      "EX_biomass(e)_ASV00008 98.28409296635522\n",
      "EX_biomass(e)_ASV00011 100.0\n",
      "EX_biomass(e)_ASV00030 52.67417101767242\n",
      "EX_biomass(e)_ASV00037 100.0\n",
      "EX_biomass(e)_ASV00041 24.069924224710423\n",
      "EX_biomass(e)_ASV00057 100.0\n",
      "EX_biomass(e)_ASV00058 100.0\n",
      "EX_biomass(e)_ASV00099 85.94553646400325\n",
      "EX_biomass(e)_ASV00109 100.0\n",
      "EX_biomass(e)_ASV00131 100.0\n",
      "EX_biomass(e)_ASV00142 82.81365268887217\n",
      "EX_biomass(e)_ASV00170 73.99819758831286\n",
      "EX_biomass(e)_ASV00174 100.0\n",
      "EX_biomass(e)_ASV00192 84.27552545595229\n",
      "EX_biomass(e)_ASV00208 83.1757722549707\n",
      "EX_biomass(e)_ASV00239 24.792049863952318\n",
      "EX_biomass(e)_ASV00240 83.17577225497075\n",
      "EX_biomass(e)_ASV00242 100.0\n",
      "EX_biomass(e)_ASV00302 100.0\n",
      "EX_biomass(e)_ASV00410 69.4995715248995\n",
      "EX_biomass(e)_ASV00519 100.0\n",
      "EX_biomass(e)_ASV00555 10.66150024580088\n",
      "EX_biomass(e)_ASV00564 10.661500245800893\n",
      "EX_biomass(e)_ASV00895 62.507564066372574\n",
      "EX_biomass(e)_ASV00903 85.57058702749052\n",
      "EX_biomass(e)_ASV00913 78.39912898567688\n",
      "EX_biomass(e)_ASV01569 100.0\n",
      "EX_biomass(e)_ASV02079 100.0\n",
      "EX_biomass(e)_ASV03716 98.5420572553555\n",
      "EX_biomass(e)_ASV03883 85.2287506107572\n",
      "EX_biomass(e)_ASV04165 90.64535961762266\n",
      "EX_biomass(e)_ASV04297 59.461787759268134\n",
      "EX_biomass(e)_ASV05771 40.83119137581955\n",
      "EX_biomass(e)_ASV06060 54.29570929937189\n",
      "EX_biomass(e)_ASV06113 100.0\n",
      "EX_biomass(e)_ASV08110 18.889123560014223\n",
      "EX_biomass(e)_ASV08433 79.79451396558099\n",
      "EX_biomass(e)_ASV09422 100.0\n",
      "EX_biomass(e)_ASV10516 79.73665563497921\n",
      "EX_biomass(e)_ASV10593 87.11877951904135\n",
      "<Solution 100.000 at 0x7efc9cacbc40> \n",
      "\n",
      "\n"
     ]
    }
   ],
   "source": [
    "# from cobra.io import read_sbml_model, write_sbml_model\n",
    "# from cobra import Model, Reaction, Metabolite\n",
    "# from json import load\n",
    "\n",
    "# with open(\"normalized_asv_abundances.json\", \"r\") as jsonIn:   asv_abundances = load(jsonIn)\n",
    "\n",
    "# models, constraints, biomass_compounds, biomass_exchange_ids = {}, {}, {}, {}\n",
    "# abundance_by_name, species_reactions, newmodels = {}, {}, {}\n",
    "# for sample, abundances in asv_abundances.items():\n",
    "#     print(\"Processing sample: \"+sample)\n",
    "#     newmodels[sample] = Model(sample,sample)\n",
    "#     constraints[sample], biomass_exchange_ids[sample] = {}, []\n",
    "#     species_reactions[sample], biomass_compounds[sample] = {}, {}\n",
    "#     for asv, abundance in abundances.items():\n",
    "#         print(\"Processing ASV: \"+asv+\" with abundance: \"+str(abundance)+\" in sample \"+sample)\n",
    "#         asv_name = asv.split(\";\")[0]\n",
    "#         species_reactions[sample][asv_name] = []\n",
    "#         # if asv not in models:\n",
    "#         model = read_sbml_model(asv+'.xml')\n",
    "#         #     models[asv] = model\n",
    "#         # else:   model = models[asv]\n",
    "#         model.objective = \"EX_biomass(e)\"\n",
    "#         solution = model.optimize()\n",
    "#         print(solution)\n",
    "#         new_metabolites, new_reactions = [], []\n",
    "#         for met in model.metabolites:\n",
    "#             if met.compartment != \"e\":    met.id += f\"_{asv_name}\"\n",
    "#             if met.id not in newmodels[sample].metabolites:\n",
    "#                 new_metabolites.append(met)\n",
    "#                 if \"biomass\" in met.id:\n",
    "#                     biomass_compounds[sample][asv] = met.id\n",
    "#         for rxn in model.reactions:\n",
    "#             if rxn.id[0:3] == \"EX_\":\n",
    "#                 if \"biomass\" in rxn.id:\n",
    "#                     rxn.id += f\"_{asv_name}\"\n",
    "#                     if rxn.id not in biomass_exchange_ids[sample]:  biomass_exchange_ids[sample].append(rxn.id)\n",
    "#             else:\n",
    "#                 rxn.id += f\"_{asv_name}\"\n",
    "#                 species_reactions[sample][asv_name].append(rxn.id)\n",
    "#             if rxn.id not in newmodels[sample].reactions:  new_reactions.append(rxn)\n",
    "#         # Adding new reactions and compounds to base model\n",
    "#         newmodels[sample].add_reactions(new_reactions)\n",
    "#         newmodels[sample].add_metabolites(new_metabolites)\n",
    "#     # Create community biomass\n",
    "#     comm_biomass = Metabolite(\"community_biomass\", None, \"Community biomass\", 0, \"c\")\n",
    "#     metabolites = {comm_biomass: 1}\n",
    "#     drainmet = {comm_biomass: -1}\n",
    "#     for asv in biomass_compounds[sample]:\n",
    "#         met = newmodels[sample].metabolites.get_by_id(biomass_compounds[sample][asv])\n",
    "#         metabolites[met] = -abundances[asv]\n",
    "#     comm_biorxn = Reaction(id=\"bio1\", name=\"bio1\", lower_bound=0, upper_bound=100)\n",
    "#     comm_biorxn.add_metabolites(metabolites)\n",
    "#     comm_drain = Reaction(id=\"EX_community_biomass\", name=\"EX_community_biomass\", lower_bound=0, upper_bound=100)\n",
    "#     comm_drain.add_metabolites(drainmet)\n",
    "#     newmodels[sample].add_reactions([comm_biorxn,comm_drain])\n",
    "#     for bioex_id in biomass_exchange_ids[sample]:\n",
    "#         rxn = newmodels[sample].reactions.get_by_id(bioex_id)\n",
    "#         rxn.lower_bound = rxn.upper_bound = 0\n",
    "#     for bioex_id in biomass_exchange_ids[sample]:\n",
    "#         rxn = newmodels[sample].reactions.get_by_id(bioex_id)\n",
    "#         rxn.lower_bound, rxn.upper_bound  = 0, 100\n",
    "#         newmodels[sample].objective = bioex_id\n",
    "#         solution = newmodels[sample].optimize()\n",
    "#         print(bioex_id,solution.objective_value)\n",
    "#         rxn.lower_bound = rxn.upper_bound = 0\n",
    "#     newmodels[sample].objective = \"bio1\"\n",
    "#     solution = newmodels[sample].optimize()\n",
    "#     print(solution, \"\\n\\n\")\n",
    "#     write_sbml_model(newmodels[sample], f\"{sample}_comm.xml\")\n",
    "\n",
    "\n",
    "# from json import dump\n",
    "# with open(\"constraints.json\", \"w\") as jsonOut:   dump(constraints, jsonOut)\n",
    "# with open(\"biomass_compounds.json\", \"w\") as jsonOut:   dump(biomass_compounds, jsonOut)\n",
    "# with open(\"species_reactions.json\", \"w\") as jsonOut:   dump(species_reactions, jsonOut)\n",
    "# with open(\"biomass_exchange_ids.json\", \"w\") as jsonOut:   dump(biomass_exchange_ids, jsonOut)"
   ]
  },
  {
   "cell_type": "markdown",
   "metadata": {},
   "source": [
    "## load previously-constructed models and metabolomics data"
   ]
  },
  {
   "cell_type": "code",
   "execution_count": 1,
   "metadata": {},
   "outputs": [
    {
     "name": "stderr",
     "output_type": "stream",
     "text": [
      "'' is not a valid SBML 'SId'.\n"
     ]
    },
    {
     "name": "stdout",
     "output_type": "stream",
     "text": [
      "Set parameter TSPort to value 27070\n",
      "Set parameter TokenServer to value \"lic-vmw-01.cels.anl.gov\"\n"
     ]
    },
    {
     "name": "stderr",
     "output_type": "stream",
     "text": [
      "'' is not a valid SBML 'SId'.\n",
      "'' is not a valid SBML 'SId'.\n",
      "'' is not a valid SBML 'SId'.\n",
      "'' is not a valid SBML 'SId'.\n",
      "'' is not a valid SBML 'SId'.\n",
      "'' is not a valid SBML 'SId'.\n"
     ]
    },
    {
     "name": "stdout",
     "output_type": "stream",
     "text": [
      "RC-ABX_-1.5 100.0\n",
      "RC-ABX_5.5 100.0\n",
      "RC-ABX_4.0 100.0\n",
      "RC-ABX_6.0 100.0\n",
      "RC-ABX_12.5 100.0\n",
      "RC-ABX_21.0 100.0\n",
      "RC-ABX_15.5 100.0\n"
     ]
    }
   ],
   "source": [
    "# load abundances\n",
    "from json import load\n",
    "with open(\"normalized_asv_abundances.json\", \"r\") as jsonIn:  asv_abundances = load(jsonIn)\n",
    "asv_abundances\n",
    "\n",
    "# load metabolomics data\n",
    "from pandas import read_csv\n",
    "metabolomics_data = read_csv('metabolomics differences.csv').set_index(\"day_diet diff\").T.to_dict()\n",
    "# load models\n",
    "from cobra.io import read_sbml_model\n",
    "newmodels = {sample: read_sbml_model(f\"{sample}_comm.xml\")\n",
    "            for sample in metabolomics_data if \"RC\" in sample} #if \"newmodels\" not in globals() else newmodels\n",
    "# newmodels = {\"RC-ABX_6.0\": read_sbml_model(\"RC-ABX_6.0_comm.xml\")}\n",
    "# print(newmodels[\"RC-ABX_6.0\"].optimize().fluxes.bio1)\n",
    "for sample, model in newmodels.items():\n",
    "    print(sample, model.optimize().fluxes.bio1)"
   ]
  },
  {
   "cell_type": "markdown",
   "metadata": {},
   "source": [
    "# Add elementalUptake constraint"
   ]
  },
  {
   "cell_type": "code",
   "execution_count": 2,
   "metadata": {},
   "outputs": [
    {
     "name": "stdout",
     "output_type": "stream",
     "text": [
      "{'RC-ABX_-1.5': {}, 'RC-ABX_5.5': {}, 'RC-ABX_4.0': {}, 'RC-ABX_6.0': {}, 'RC-ABX_12.5': {}, 'RC-ABX_21.0': {}, 'RC-ABX_15.5': {}}\n",
      "34.657449105575104\n",
      "70.85873318108693\n",
      "76.64633335508003\n",
      "73.88330950819449\n",
      "44.280418595068454\n",
      "53.06355290679919\n",
      "92.07763099734271\n",
      "{'RC-ABX_-1.5': {'elements': {'C': <optlang.gurobi_interface.Constraint object at 0x7f5aadc60e50>}}, 'RC-ABX_5.5': {'elements': {'C': <optlang.gurobi_interface.Constraint object at 0x7f5955709f60>}}, 'RC-ABX_4.0': {'elements': {'C': <optlang.gurobi_interface.Constraint object at 0x7f5932ee9f90>}}, 'RC-ABX_6.0': {'elements': {'C': <optlang.gurobi_interface.Constraint object at 0x7f5b74646cb0>}}, 'RC-ABX_12.5': {'elements': {'C': <optlang.gurobi_interface.Constraint object at 0x7f5b74646ce0>}}, 'RC-ABX_21.0': {'elements': {'C': <optlang.gurobi_interface.Constraint object at 0x7f5b74646680>}}, 'RC-ABX_15.5': {'elements': {'C': <optlang.gurobi_interface.Constraint object at 0x7f5b74647430>}}}\n"
     ]
    }
   ],
   "source": [
    "from optlang.symbolics import Zero\n",
    "from json import load\n",
    "\n",
    "with open(\"constraints.json\", \"r\") as jsonIn:   constraints = load(jsonIn)\n",
    "\n",
    "print(constraints)\n",
    "\n",
    "element_parameters = {\"C\":100}\n",
    "for sample in asv_abundances:\n",
    "    if sample not in newmodels:  continue\n",
    "    #Removing constraints if they're there\n",
    "    if \"elements\" in constraints[sample]:\n",
    "        for element in constraints[sample][\"elements\"]:\n",
    "            newmodels[sample].remove_cons_vars(constraints[sample][\"elements\"][element])\n",
    "    constraints[sample][\"elements\"] = {}\n",
    "    for element, value in element_parameters.items():\n",
    "        constraints[sample][\"elements\"][element] = {}\n",
    "        coef = {}\n",
    "        for rxn in newmodels[sample].reactions:\n",
    "            if rxn.id[0:3] == \"EX_\":\n",
    "                total = 0\n",
    "                for metabolite in rxn.metabolites:\n",
    "                    if element in metabolite.elements:\n",
    "                        total += metabolite.elements[element] * rxn.metabolites[metabolite]\n",
    "                if total < 0:    coef[rxn.reverse_variable] = -total\n",
    "                elif total > 0:  coef[rxn.forward_variable] = total\n",
    "        constraints[sample][\"elements\"][element] = newmodels[sample].problem.Constraint(Zero, lb=None, ub=value, name=element+\"_element_uptake\")\n",
    "        newmodels[sample].add_cons_vars(constraints[sample][\"elements\"][element])\n",
    "        newmodels[sample].solver.update()\n",
    "        if len(coef) > 0:\n",
    "            constraints[sample][\"elements\"][element].set_linear_coefficients(coef)\n",
    "            newmodels[sample].solver.update()\n",
    "        print(newmodels[sample].optimize().fluxes.bio1)\n",
    "\n",
    "print(constraints)\n",
    "# print(newmodels[\"RC-ABX_6.0\"].optimize().fluxes.bio1)"
   ]
  },
  {
   "cell_type": "markdown",
   "metadata": {
    "tags": []
   },
   "source": [
    "# Add CommKinetics"
   ]
  },
  {
   "cell_type": "code",
   "execution_count": 10,
   "metadata": {},
   "outputs": [
    {
     "name": "stdout",
     "output_type": "stream",
     "text": [
      "yes\n",
      "C_element_uptake: 39.0*EX_12dgr180(e)_reverse_444f8 + 24.0*EX_12dhchol(e)_reverse_fd2a1 + 3.0*EX_12ppd_S(e)_reverse_cd54b + 3.0*EX_13ppd(e)_reverse_6a60e + 5.0*EX_15dap(e)_reverse_08f1f + 13.0*EX_1hibup_S(e)_reverse_5a074 + 19.0*EX_1hibupglu_S(e)_reverse_be826 + 24.0*EX_1hmdgluc(e)_reverse_37d5c + 18.0*EX_1ohmdz(e)_reverse_e4df8 + 7.0*EX_26dap_M(e)_reverse_07325 + 6.0*EX_2ddglcn(e)_reverse_075d4 + 50.0*EX_2dmmq8(e)_reverse_c9064 + 33.0*EX_2hatvacid(e)_reverse_5cfc7 + 39.0*EX_2hatvacidgluc(e)_reverse_79552 + 33.0*EX_2hatvlac(e)_reverse_dbd14 + 39.0*EX_2hatvlacgluc(e)_reverse_b5919 + 13.0*EX_2hibup_S(e)_reverse_a9630 + 19.0*EX_2hibupglu_S(e)_reverse_b6ab7 + 8.0*EX_2hyoxplac(e)_reverse_9e6b0 + 5.0*EX_2mbut(e)_reverse_d9cae + 4.0*EX_2obut(e)_reverse_236a3 + 15.0*EX_2oh_cbz(e)_reverse_67425 + 21.0*EX_2oh_cbz_glc(e)_reverse_68f30 + 6.0*EX_2oh_mtz(e)_reverse_efde2 + 12.0*EX_2oh_mtz_glc(e)_reverse_95f8a + 7.0*EX_2omfuc(e)_reverse_dcdb6 + 6.0*EX_2omxyl(e)_reverse_38205 + 3.0*EX_2ppoh(e)_reverse_fe09c + 11.0*EX_2shchc(e)_reverse_12304 + 8.0*EX_34dhpha(e)_reverse_63bf7 + 9.0*EX_34dhphe(e)_reverse_6e995 + 7.0*EX_3ddlhept(e)_reverse_23b03 + 24.0*EX_3dhcdchol(e)_reverse_a260c + 24.0*EX_3dhchol(e)_reverse_0d60e + 13.0*EX_3hibup_S(e)_reverse_705ab + 19.0*EX_3hibupglu_S(e)_reverse_b3436 + 8.0*EX_3hphac(e)_reverse_91824 + 9.0*EX_3meacmp(e)_reverse_e06d5 + 6.0*EX_3mop(e)_reverse_c6ff1 + 15.0*EX_3oh_cbz(e)_reverse_fc003 + 21.0*EX_3oh_cbz_glc(e)_reverse_e76ab + 19.0*EX_3oh_dlor(e)_reverse_50a8c + 25.0*EX_3oh_dlor_glc(e)_reverse_9c211 + 23.0*EX_3oh_mdea(e)_reverse_8e124 + 29.0*EX_3oh_mdea_glc(e)_reverse_d143e + 16.0*EX_3oh_mxn(e)_reverse_42715 + 22.0*EX_3oh_mxn_glc(e)_reverse_d20eb + 4.0*EX_4abut(e)_reverse_fae3d + 7.0*EX_4abz(e)_reverse_57a47 + 6.0*EX_4ahmmp(e)_reverse_90dee + 9.0*EX_4dh_tpno(e)_reverse_cb177 + 15.0*EX_4dh_tpno_1glc(e)_reverse_11be9 + 7.0*EX_4hbz(e)_reverse_b19b1 + 24.0*EX_4hmdgluc(e)_reverse_9247b + 8.0*EX_4hoxpacd(e)_reverse_676d5 + 8.0*EX_4hphac(e)_reverse_58eff + 5.0*EX_4hpro_LT(e)_reverse_4f69c + 14.0*EX_4oh_dcf(e)_reverse_ceda2 + 20.0*EX_4oh_dcf_glc(e)_reverse_7f050 + 16.0*EX_4oh_kp(e)_reverse_8a318 + 22.0*EX_4oh_kp_glc(e)_reverse_cbbc4 + 11.0*EX_4oh_levole(e)_reverse_87bee + 17.0*EX_4oh_levole_glc(e)_reverse_4417e + 10.0*EX_4oh_meth(e)_reverse_34144 + 16.0*EX_4oh_meth_glc(e)_reverse_328e1 + 16.0*EX_4oh_propl(e)_reverse_c3ffe + 22.0*EX_4oh_propl_glc(e)_reverse_f316e + 17.0*EX_4oh_trz(e)_reverse_ff0c8 + 23.0*EX_4oh_trz_glc(e)_reverse_1b1e3 + 16.0*EX_4oh_vcz(e)_reverse_04d13 + 22.0*EX_4oh_vcz_glc(e)_reverse_674e5 + 18.0*EX_4ohmdz(e)_reverse_63a4d + 5.0*EX_5aptn(e)_reverse_b19f1 + 7.0*EX_5asa(e)_reverse_8adff + 4.0*EX_5fura(e)_reverse_0438c + 11.0*EX_5htrp(e)_reverse_20439 + 11.0*EX_5mta(e)_reverse_88f68 + 20.0*EX_5mthf(e)_reverse_61698 + 11.0*EX_5oh_sulfp(e)_reverse_89a30 + 17.0*EX_5oh_sulfp_glc(e)_reverse_9abb2 + 24.0*EX_5ohfvs(e)_reverse_c3bf5 + 30.0*EX_5ohfvsglu(e)_reverse_25425 + 15.0*EX_6bhglz(e)_reverse_8414f + 21.0*EX_6bhglzglc(e)_reverse_08298 + 24.0*EX_6ohfvs(e)_reverse_87d4f + 30.0*EX_6ohfvsglu(e)_reverse_3586d + 15.0*EX_7a_czp(e)_reverse_8f5d9 + 15.0*EX_7bhglz(e)_reverse_51e31 + 21.0*EX_7bhglzglc(e)_reverse_383d5 + 24.0*EX_7dhcdchol(e)_reverse_9a97d + 24.0*EX_7ocholate(e)_reverse_80b76 + 14.0*EX_7oh_efv(e)_reverse_781f4 + 20.0*EX_7oh_efv_glc(e)_reverse_1f825 + 14.0*EX_814dioh_efv(e)_reverse_09cf4 + 20.0*EX_814dioh_efv_glc(e)_reverse_c37f3 + 14.0*EX_8oh_efv(e)_reverse_a53e2 + 20.0*EX_8oh_efv_glc(e)_reverse_b12c8 + 4.0*EX_C02356(e)_reverse_b1b55 + 24.0*EX_C02528(e)_reverse_91841 + 6.0*EX_Cit_Mg(e)_reverse_4335a + 3.0*EX_HC00319(e)_reverse_ad54f + 24.0*EX_HC02191(e)_reverse_3cc90 + 26.0*EX_HC02192(e)_reverse_e2f3a + 26.0*EX_HC02193(e)_reverse_32325 + 3.0*EX_Lcyst(e)_reverse_0e887 + 10.0*EX_Lkynr[e]_reverse_2cbfe + 26.0*EX_M01989(e)_reverse_d0c40 + 5.0*EX_M03134(e)_reverse_16911 + 10.0*EX_N_oh_phtn(e)_reverse_ba86b + 16.0*EX_N_oh_phtn_glc(e)_reverse_77de2 + 19.0*EX_R_6oh_warf(e)_reverse_088e7 + 25.0*EX_R_6oh_warf_glc(e)_reverse_1307f + 19.0*EX_R_7oh_warf(e)_reverse_1a8da + 25.0*EX_R_7oh_warf_glc(e)_reverse_8bc42 + 19.0*EX_R_8oh_warf(e)_reverse_ddd79 + 25.0*EX_R_8oh_warf_glc(e)_reverse_4da1f + 19.0*EX_S_4oh_warf(e)_reverse_9f4de + 25.0*EX_S_4oh_warf_glc(e)_reverse_4c246 + 19.0*EX_S_6oh_warf(e)_reverse_4913b + 25.0*EX_S_6oh_warf_glc(e)_reverse_78468 + 14.0*EX_T_antigen(e)_reverse_c294d + 8.0*EX_Tn_antigen(e)_reverse_ee3e0 + 10.0*EX_abz_ala_b(e)_reverse_f0363 + 2.0*EX_ac(e)_reverse_a8135 + 9.0*EX_ac5asa(e)_reverse_36fd3 + 11.0*EX_ac_amn_b_gly(e)_reverse_126c6 + 17.0*EX_ac_amn_b_gly_glc(e)_reverse_4ee85 + 4.0*EX_acac(e)_reverse_fc5a0 + 2.0*EX_acald(e)_reverse_d5ac0 + 6.0*EX_acerA(e)_reverse_927ff + 3.0*EX_acetone(e)_reverse_ac932 + 8.0*EX_acgal(e)_reverse_c135b + 14.0*EX_acgalglcur(e)_reverse_f0605 + 14.0*EX_acgalidour(e)_reverse_a09e2 + 14.0*EX_acgalidour2s(e)_reverse_4d058 + 8.0*EX_acgam(e)_reverse_7fece + 8.0*EX_acisnzd(e)_reverse_d1522 + 8.0*EX_acmp(e)_reverse_cf408 + 14.0*EX_acmp_glc(e)_reverse_e1a76 + 14.0*EX_acmpglu(e)_reverse_fbcd2 + 11.0*EX_acnam(e)_reverse_dc5d3 + 4.0*EX_actn_R(e)_reverse_a2da8 + 5.0*EX_ade(e)_reverse_a0dec + 10.0*EX_adn(e)_reverse_7aa0f + 72.0*EX_adocbl(e)_reverse_f73a6 + 5.0*EX_akg(e)_reverse_c069d + 3.0*EX_ala_D(e)_reverse_14f33 + 3.0*EX_ala_L(e)_reverse_cb8e7 + 7.0*EX_alaasp(e)_reverse_87d53 + 8.0*EX_alagln(e)_reverse_18d20 + 8.0*EX_alaglu(e)_reverse_4ec24 + 5.0*EX_alagly(e)_reverse_c2e8e + 9.0*EX_alahis(e)_reverse_66ae8 + 9.0*EX_alaleu(e)_reverse_e0326 + 7.0*EX_alathr(e)_reverse_61003 + 4.0*EX_alltn(e)_reverse_a7fca + 17.0*EX_alpz_4oh(e)_reverse_3b36a + 23.0*EX_alpz_4oh_glc(e)_reverse_c3427 + 17.0*EX_alpz_aoh(e)_reverse_25ebd + 23.0*EX_alpz_aoh_glc(e)_reverse_9fe9e + 20.0*EX_am14(e)_reverse_d565a + 26.0*EX_am14_glc(e)_reverse_fc5a6 + 62.0*EX_am1ccs(e)_reverse_1e012 + 68.0*EX_am1cglc(e)_reverse_90225 + 9.0*EX_am5(e)_reverse_b0e66 + 15.0*EX_am5_glc(e)_reverse_6318c + 15.0*EX_am6(e)_reverse_ebbb6 + 21.0*EX_am6_glc(e)_reverse_fa37f + 25.0*EX_amio(e)_reverse_db196 + 25.0*EX_amio_c(e)_reverse_8b384 + 31.0*EX_amio_c_glc(e)_reverse_e458b + 31.0*EX_amio_glc(e)_reverse_71f14 + 9.0*EX_amn_b_gly(e)_reverse_0aeb6 + 15.0*EX_amn_b_gly_glc(e)_reverse_0a0cf + 12.0*EX_amntd_m6(e)_reverse_98428 + 18.0*EX_amntd_m6_glc(e)_reverse_d7c5b + 5400.0*EX_amylopect900(e)_reverse_8390d + 1800.0*EX_amylose300(e)_reverse_352d8 + 15.0*EX_anzp(e)_reverse_cd7ab + 5.0*EX_apio-D(e)_reverse_7e34d + 5.0*EX_arab_D(e)_reverse_e622b + 5.0*EX_arab_L(e)_reverse_69ce9 + 509.0*EX_arabinan101(e)_reverse_e9d73 + 3862.0*EX_arabinogal(e)_reverse_b3655 + 276.0*EX_arabinoxyl(e)_reverse_5c489 + 15.0*EX_arabttr(e)_reverse_89e0e + 12.0*EX_arbt(e)_reverse_2fe66 + 6.0*EX_arg_L(e)_reverse_bebce + 5.0*EX_arsenb(e)_reverse_d7fde + 4.0*EX_asn_L(e)_reverse_46f2c + 4.0*EX_asp_L(e)_reverse_12aca + 33.0*EX_atvacid(e)_reverse_0dfe6 + 39.0*EX_atvacylgluc(e)_reverse_b6101 + 45.0*EX_atvethgluc(e)_reverse_f2a4b + 33.0*EX_atvlac(e)_reverse_8bcf4 + 39.0*EX_atvlacgluc(e)_reverse_c5e28 + 4.0*EX_bhb(e)_reverse_a0fd5 + 18.0*EX_bhpm(e)_reverse_4cc4b + 24.0*EX_bhpm_glc(e)_reverse_b406c + 25.0*EX_bilr_355(e)_reverse_da64f + 31.0*EX_bilr_M10(e)_reverse_0649f + 31.0*EX_bilr_M12(e)_reverse_fb023 + 25.0*EX_bilr_M14(e)_reverse_32153 + 31.0*EX_bilr_M15(e)_reverse_df1a1 + 31.0*EX_bilr_M16(e)_reverse_9f150 + 25.0*EX_bilr_M7(e)_reverse_02764 + 11.0*EX_brv(e)_reverse_d25f9 + 27.0*EX_bsn(e)_reverse_9d976 + 33.0*EX_bsn_glc(e)_reverse_877c7 + 4.0*EX_btd_RR(e)_reverse_0d624 + 10.0*EX_btn(e)_reverse_6970b + 4.0*EX_btoh(e)_reverse_86e9c + 4.0*EX_but(e)_reverse_2edee + 4.0*EX_butso3(e)_reverse_f8dde + 6.0*EX_bvu(e)_reverse_2384c + 7.0*EX_bz(e)_reverse_7c854 + 13.0*EX_bz_glc(e)_reverse_b0cc4 + 7.0*EX_bzam(e)_reverse_8b36d + 17.0*EX_bzd(e)_reverse_c16d6 + 13.0*EX_caribup_s(e)_reverse_db428 + 19.0*EX_caribupglu_S(e)_reverse_83430 + 62.0*EX_cbl1(e)_reverse_4097d + 62.0*EX_cbl2(e)_reverse_84240 + 15.0*EX_cbz(e)_reverse_b45df + 21.0*EX_cbz_glc(e)_reverse_9eac7 + 34.0*EX_cd6168(e)_reverse_db7fc + 40.0*EX_cd6168_glc(e)_reverse_f604f + 12.0*EX_cellb(e)_reverse_6a4b7 + 5.0*EX_cgly(e)_reverse_5f95e + 8.0*EX_chitin(e)_reverse_5b87c + 11.0*EX_chlphncl(e)_reverse_53429 + 17.0*EX_chlphncl_glc(e)_reverse_2125d + 5.0*EX_chol(e)_reverse_56eb7 + 24.0*EX_cholate(e)_reverse_0b6be + 5.0*EX_chols(e)_reverse_a2b7f + 10.0*EX_chor(e)_reverse_cb12b + 27.0*EX_chsterol(e)_reverse_b73b7 + 9.0*EX_cinnm(e)_reverse_061c1 + 6.0*EX_cit(e)_reverse_fac84 + 17.0*EX_clcxb(e)_reverse_1fd42 + 17.0*EX_clcxb_c(e)_reverse_ae9cc + 23.0*EX_clcxb_c_glc(e)_reverse_309de + 23.0*EX_clcxb_glc(e)_reverse_46210 + 15.0*EX_clobi_c(e)_reverse_19195 + 21.0*EX_clobi_glc(e)_reverse_fff42 + 1.0*EX_co2(e)_reverse_23873 + 22.0*EX_core2(e)_reverse_918bb + 16.0*EX_core3(e)_reverse_6e67c + 24.0*EX_core4(e)_reverse_36b48 + 16.0*EX_core5(e)_reverse_a816a + 16.0*EX_core6(e)_reverse_b8163 + 16.0*EX_core7(e)_reverse_ca307 + 14.0*EX_core8(e)_reverse_57dea + 7.0*EX_crn(e)_reverse_30654 + 24.0*EX_crvsm1(e)_reverse_7bb51 + 25.0*EX_crvsm23(e)_reverse_1b64b + 4.0*EX_csn(e)_reverse_b1fa5 + 45.0*EX_cspg_a(e)_reverse_af344 + 14.0*EX_cspg_a_degr(e)_reverse_7fcf2 + 17.0*EX_cspg_ab_rest(e)_reverse_3b545 + 45.0*EX_cspg_b(e)_reverse_a566f + 14.0*EX_cspg_b_degr(e)_reverse_f239c + 45.0*EX_cspg_c(e)_reverse_c1d59 + 14.0*EX_cspg_c_degr(e)_reverse_3c9a2 + 17.0*EX_cspg_c_rest(e)_reverse_bccba + 7.0*EX_ctbt(e)_reverse_d9820 + 30.0*EX_cvm1gluc(e)_reverse_47dc3 + 31.0*EX_cvm23gluc(e)_reverse_4b03a + 1.0*EX_cynt(e)_reverse_75cc5 + 3.0*EX_cys_L(e)_reverse_66a58 + 9.0*EX_cytd(e)_reverse_1f2c9 + 15.0*EX_czp(e)_reverse_6bcd3 + 21.0*EX_daa(e)_reverse_4892a + 27.0*EX_daa_glc(e)_reverse_5bd57 + 10.0*EX_dad_2(e)_reverse_35378 + 14.0*EX_dcf(e)_reverse_67e68 + 20.0*EX_dcf_glc(e)_reverse_6f491 + 24.0*EX_dchac(e)_reverse_9bbb9 + 9.0*EX_dcyt(e)_reverse_9ed9f + 12.0*EX_ddca(e)_reverse_9f3a0 + 21.0*EX_ddea(e)_reverse_4435a + 27.0*EX_ddea_glc(e)_reverse_a665c + 27.0*EX_des_astzl(e)_reverse_5f3af + 33.0*EX_des_astzl_glc(e)_reverse_86c4f + 480.0*EX_dextran40(e)_reverse_9bc82 + 36.0*EX_dextrin(e)_reverse_9d852 + 9.0*EX_dfdcytd(e)_reverse_d2347 + 9.0*EX_dfduri(e)_reverse_0abc1 + 26.0*EX_dgchol(e)_reverse_1c9cd + 10.0*EX_dgsn(e)_reverse_d06a1 + 4.0*EX_dh5fura(e)_reverse_b77ce + 9.0*EX_dhcinnm(e)_reverse_1fee2 + 11.0*EX_dhna(e)_reverse_79dda + 9.0*EX_dhpppn(e)_reverse_31dfb + 4.0*EX_diact(e)_reverse_e504b + 41.0*EX_digoxin(e)_reverse_dad4a + 47.0*EX_digoxin_glc(e)_reverse_cb622 + 10.0*EX_din(e)_reverse_6a986 + 34.0*EX_dlb(e)_reverse_8585f + 40.0*EX_dlb_glc(e)_reverse_4e723 + 2.0*EX_dma(e)_reverse_d6fbf + 2.0*EX_dms(e)_reverse_8910d + 2.0*EX_dmso(e)_reverse_3497a + 23.0*EX_dnpz_5des(e)_reverse_7e241 + 23.0*EX_dnpz_6des(e)_reverse_cbb7c + 29.0*EX_dnpz_m11(e)_reverse_903be + 29.0*EX_dnpz_m12(e)_reverse_f47d2 + 28.0*EX_dnpz_m13(e)_reverse_8a709 + 28.0*EX_dnpz_m14(e)_reverse_c0293 + 22.0*EX_dnpz_m9(e)_reverse_5a253 + 20.0*EX_doh_etr(e)_reverse_9df10 + 26.0*EX_doh_etr_glc(e)_reverse_b2b13 + 16.0*EX_doh_vcz(e)_reverse_baf98 + 22.0*EX_doh_vcz_glc(e)_reverse_1e1f5 + 8.0*EX_dopa(e)_reverse_7ff7d + 21.0*EX_dpcoa(e)_reverse_24486 + 5.0*EX_drib(e)_reverse_a2c02 + 36.0*EX_dsT_antigen(e)_reverse_3e1c1 + 9.0*EX_duri(e)_reverse_8f676 + 17.0*EX_dxo(e)_reverse_d89af + 23.0*EX_dxo_glc(e)_reverse_8b3cf + 14.0*EX_efv(e)_reverse_81bd7 + 20.0*EX_efv_glc(e)_reverse_f2fce + 25.0*EX_eltr(e)_reverse_139e7 + 31.0*EX_eltr_glc(e)_reverse_07a39 + 21.0*EX_eltr_m3(e)_reverse_d35e1 + 18.0*EX_eltr_m4(e)_reverse_4faaf + 18.0*EX_estradiol(e)_reverse_b36d8 + 24.0*EX_estradiolglc(e)_reverse_4ef00 + 18.0*EX_estriol(e)_reverse_afff2 + 24.0*EX_estriolglc(e)_reverse_934cd + 18.0*EX_estrone(e)_reverse_04d67 + 24.0*EX_estroneglc(e)_reverse_87160 + 2.0*EX_etha(e)_reverse_71974 + 4.0*EX_ethrtl(e)_reverse_7f6ce + 2.0*EX_ethso3(e)_reverse_ee6b6 + 2.0*EX_etoh(e)_reverse_6cd37 + 24.0*EX_eztmb(e)_reverse_61c44 + 30.0*EX_eztmb_glc(e)_reverse_3499d + 22.0*EX_f1a(e)_reverse_bde7f + 1.0*EX_fald(e)_reverse_f9e07 + 4.0*EX_fcsn(e)_reverse_32242 + 27.0*EX_fecrm(e)_reverse_1837c + 19.0*EX_fol(e)_reverse_035ce + 1.0*EX_for(e)_reverse_1050b + 6.0*EX_fru(e)_reverse_b73db + 6.0*EX_fruur(e)_reverse_96267 + 6.0*EX_fuc1p_L(e)_reverse_d860b + 6.0*EX_fuc_L(e)_reverse_5ce0e + 4.0*EX_fum(e)_reverse_d6303 + 24.0*EX_fvs(e)_reverse_71ddd + 30.0*EX_fvsgluc(e)_reverse_cca08 + 17.0*EX_fvstet(e)_reverse_cfb34 + 23.0*EX_fvstetglu(e)_reverse_73ef0 + 6.0*EX_g6p(e)_reverse_cccd8 + 6.0*EX_gal(e)_reverse_3e589 + 24.0*EX_galactan(e)_reverse_ee689 + 6.0*EX_galct_D(e)_reverse_8ff3a + 6.0*EX_galctn_D(e)_reverse_0a442 + 6000.0*EX_galmannan(e)_reverse_a9c47 + 6.0*EX_galt(e)_reverse_f94f6 + 6.0*EX_galur(e)_reverse_2e851 + 6.0*EX_gam(e)_reverse_beb3a + 6.0*EX_gam26s(e)_reverse_50677 + 7.0*EX_gbbtn(e)_reverse_5aa16 + 2.0*EX_gcald(e)_reverse_578a9 + 26.0*EX_gchola(e)_reverse_b454a + 14.0*EX_glc3meacp(e)_reverse_97737 + 6.0*EX_glc_D(e)_reverse_ca593 + 2574.0*EX_glcmannan(e)_reverse_4c637 + 6.0*EX_glcn(e)_reverse_bd33f + 6.0*EX_glcr(e)_reverse_52c6d + 6.0*EX_glcur(e)_reverse_34967 + 5.0*EX_gln_L(e)_reverse_75782 + 17.0*EX_gltmn(e)_reverse_f5ff0 + 23.0*EX_gltmn_glc(e)_reverse_ba979 + 5.0*EX_glu_L(e)_reverse_4808a + 5.0*EX_glutar(e)_reverse_d9e0c + 2.0*EX_gly(e)_II_reverse_bed43 + 2.0*EX_gly(e)_reverse_76df0 + 6.0*EX_glyasn(e)_reverse_ac867 + 6.0*EX_glyasp(e)_reverse_204e9 + 5.0*EX_glyb(e)_reverse_488c1 + 3.0*EX_glyc(e)_reverse_3c5e6 + 3.0*EX_glyc3p(e)_reverse_0caaa + 2.0*EX_glyclt(e)_reverse_081cf + 5.0*EX_glycys(e)_reverse_8e71a + 7.0*EX_glygln(e)_reverse_e565e + 7.0*EX_glyglu(e)_reverse_3327d + 66.0*EX_glygn2(e)_reverse_3cd46 + 18.0*EX_glygn4(e)_reverse_1d1d6 + 12.0*EX_glygn5(e)_reverse_00194 + 8.0*EX_glyleu(e)_reverse_3df09 + 7.0*EX_glymet(e)_reverse_84072 + 11.0*EX_glyphe(e)_reverse_d36ba + 7.0*EX_glypro(e)_reverse_e9c5b + 11.0*EX_glytyr(e)_reverse_18f93 + 15.0*EX_gmfl(e)_reverse_09543 + 21.0*EX_gmfl_glc(e)_reverse_04506 + 15.0*EX_gmfl_mI(e)_reverse_81f91 + 15.0*EX_gmfl_mII(e)_reverse_17f6c + 15.0*EX_gmfl_mIII(e)_reverse_13333 + 21.0*EX_gmfl_mIII_glc(e)_reverse_c7054 + 21.0*EX_gmfl_mII_glc(e)_reverse_639ba + 21.0*EX_gmfl_mI_glc(e)_reverse_5cc45 + 22.0*EX_gncore1(e)_reverse_80968 + 30.0*EX_gncore2(e)_reverse_83e80 + 10.0*EX_gsn(e)_reverse_bf148 + 15.0*EX_gtacmp(e)_reverse_535b1 + 20.0*EX_gthox(e)_reverse_3a663 + 10.0*EX_gthrd(e)_reverse_97f8d + 5.0*EX_gua(e)_reverse_b46ea + 28.0*EX_ha(e)_reverse_83de6 + 22.0*EX_ha_deg1(e)_reverse_7cd0a + 14.0*EX_ha_pre1(e)_reverse_f1a8d + 1.0*EX_hco3(e)_reverse_76140 + 16.0*EX_hdca(e)_reverse_a6b4e + 6.0*EX_hexs(e)_reverse_e76d8 + 6.0*EX_his_L(e)_reverse_8bf88 + 5.0*EX_hista(e)_reverse_c8b7f + 660.0*EX_homogal(e)_reverse_cc476 + 79.0*EX_hspg(e)_reverse_74f13 + 24.0*EX_hspg_degr_1(e)_reverse_8d66b + 43.0*EX_hspg_degr_10(e)_reverse_a8b08 + 43.0*EX_hspg_degr_11(e)_reverse_b8d5c + 37.0*EX_hspg_degr_12(e)_reverse_94067 + 31.0*EX_hspg_degr_13(e)_reverse_07543 + 23.0*EX_hspg_degr_14(e)_reverse_82da3 + 17.0*EX_hspg_degr_15(e)_reverse_dd1f8 + 49.0*EX_hspg_degr_2(e)_reverse_97bc1 + 18.0*EX_hspg_degr_3(e)_reverse_dc3ed + 18.0*EX_hspg_degr_4(e)_reverse_a7f93 + 18.0*EX_hspg_degr_5(e)_reverse_4e6c4 + 18.0*EX_hspg_degr_6(e)_reverse_f21d6 + 49.0*EX_hspg_degr_7(e)_reverse_68b7a + 43.0*EX_hspg_degr_8(e)_reverse_685ac + 43.0*EX_hspg_degr_9(e)_reverse_9b266 + 5.0*EX_hspg_rest(e)_reverse_dd624 + 16.0*EX_hst(e)_reverse_5b766 + 28.0*EX_hst_37_diglc(e)_reverse_aa591 + 22.0*EX_hst_3_glc(e)_reverse_d6317 + 16.0*EX_hst_3_s(e)_reverse_83120 + 22.0*EX_hst_3glc_7s(e)_reverse_82cb7 + 22.0*EX_hst_7_glc(e)_reverse_2f180 + 16.0*EX_hst_7_s(e)_reverse_2b674 + 22.0*EX_hst_7glc_3s(e)_reverse_af93d + 5.0*EX_hxan(e)_reverse_9b00f + 13.0*EX_ibup_S(e)_reverse_8b993 + 19.0*EX_ibupgluc(e)_reverse_7a856 + 24.0*EX_icdchol(e)_reverse_1d682 + 10.0*EX_ichor(e)_reverse_6d52e + 6.0*EX_icit[e]_reverse_bd899 + 6.0*EX_idon_L(e)_reverse_ad429 + 6.0*EX_idour(e)_reverse_7f9ee + 6.0*EX_ile_L(e)_reverse_3b181 + 19.0*EX_imn(e)_reverse_94100 + 25.0*EX_imn_glc(e)_reverse_f15c1 + 10.0*EX_ind3ac(e)_reverse_e77b8 + 11.0*EX_ind3ppa(e)_reverse_80f86 + 11.0*EX_indlac(e)_reverse_76fd9 + 8.0*EX_indole(e)_reverse_265b8 + 6.0*EX_inost(e)_reverse_294a0 + 10.0*EX_ins(e)_reverse_9a249 + 180.0*EX_inulin(e)_reverse_69e44 + 36.0*EX_inv(e)_reverse_49e32 + 42.0*EX_inv_m1(e)_reverse_7de67 + 2.0*EX_isetac(e)_reverse_95c32 + 6.0*EX_isnzd(e)_reverse_62d95 + 4.0*EX_isobut(e)_reverse_e35ac + 6.0*EX_isocapr(e)_reverse_f3047 + 24.0*EX_isochol(e)_reverse_9aa54 + 6.0*EX_isosorbide_5mn(e)_reverse_a5320 + 12.0*EX_isosorbide_5mn_glc(e)_reverse_c28eb + 5.0*EX_isoval(e)_reverse_22c9c + 8.0*EX_kdo(e)_reverse_900b4 + 18.0*EX_kesto(e)_reverse_051e1 + 30.0*EX_kestopt(e)_reverse_7f466 + 24.0*EX_kestottr(e)_reverse_b1447 + 16.0*EX_kprofen(e)_reverse_a3e5e + 22.0*EX_kprofen_glc(e)_reverse_f0f3d + 3.0*EX_lac_D(e)_reverse_b1bb0 + 3.0*EX_lac_L(e)_reverse_32b05 + 12.0*EX_lactl(e)_reverse_4f10e + 12.0*EX_lcts(e)_reverse_804b1 + 6.0*EX_leu_L(e)_reverse_3b038 + 6000.0*EX_levan1000(e)_reverse_79dd6 + 12.0*EX_levanb(e)_reverse_747ee + 18.0*EX_levanttr(e)_reverse_c8900 + 24.0*EX_levantttr(e)_reverse_fe2d6 + 1020.0*EX_lichn(e)_reverse_7acb2 + 12.0*EX_lmn2(e)_reverse_f8175 + 180.0*EX_lmn30(e)_reverse_8f371 + 22.0*EX_lst4exp(e)_reverse_45383 + 22.0*EX_lstn(e)_reverse_590fb + 28.0*EX_lstn1gluc(e)_reverse_0e33b + 28.0*EX_lstnm4(e)_reverse_10f04 + 28.0*EX_lstnm7(e)_reverse_d81f7 + 6.0*EX_lys_L(e)_reverse_e4d56 + 4.0*EX_mal_L(e)_reverse_f1218 + 12.0*EX_malt(e)_reverse_6dc6f + 36.0*EX_malthx(e)_reverse_2dfec + 18.0*EX_malttr(e)_reverse_12db2 + 6.0*EX_man(e)_reverse_f0c1f + 6.0*EX_man6p(e)_reverse_17455 + 840.0*EX_mannan(e)_reverse_4b9dc + 18.0*EX_mantr(e)_reverse_0bd47 + 18.0*EX_mdz(e)_reverse_e384d + 24.0*EX_mdz_glc(e)_reverse_909c0 + 24.0*EX_mdzglc(e)_reverse_f66e5 + 12.0*EX_melib(e)_reverse_72520 + 1.0*EX_meoh(e)_reverse_004c0 + 5.0*EX_met_D(e)_reverse_9c1f2 + 5.0*EX_met_L(e)_reverse_52685 + 8.0*EX_metala(e)_reverse_d5002 + 5.0*EX_metsox_R_L(e)_reverse_d52ba + 5.0*EX_metsox_S_L(e)_reverse_eb493 + 7.0*EX_miso(e)_reverse_50b5f + 13.0*EX_miso_glc(e)_reverse_bd209 + 1.0*EX_mma(e)_reverse_3d85e + 6.0*EX_mnl(e)_reverse_cc9d2 + 7.0*EX_mops(e)_reverse_3b9df + 46.0*EX_mqn7(e)_reverse_b2f74 + 51.0*EX_mqn8(e)_reverse_27cbc + 17.0*EX_mrphn(e)_reverse_7e72e + 23.0*EX_mrphn_3glc(e)_reverse_e1c6c + 23.0*EX_mrphn_6glc(e)_reverse_f9f10 + 1.0*EX_mso3(e)_reverse_e2c30 + 6.0*EX_mtz(e)_reverse_384b7 + 12.0*EX_mtz_glc(e)_reverse_f1a94 + 6.0*EX_nac(e)_reverse_b6ee9 + 6.0*EX_ncam(e)_reverse_5213f + 11.0*EX_nchlphncl(e)_reverse_08b34 + 18.0*EX_neopront(e)_reverse_c5e3c + 11.0*EX_nmn(e)_reverse_61ae0 + 19.0*EX_nsldp_m5(e)_reverse_9c12e + 25.0*EX_nsldp_m5_glc(e)_reverse_cc8f4 + 26.0*EX_nverp(e)_reverse_c84de + 32.0*EX_nverp_glc(e)_reverse_72eb8 + 15.0*EX_nzp(e)_reverse_e4491 + 18.0*EX_ocdca(e)_reverse_03de0 + 18.0*EX_ocdcea(e)_reverse_c519f + 16.0*EX_odsm_egltmn(e)_reverse_cc1a5 + 22.0*EX_odsm_egltmn_glc(e)_reverse_e9a3d + 16.0*EX_odsm_gltmn(e)_reverse_8b774 + 22.0*EX_odsm_gltmn_glc(e)_reverse_ca9a8 + 20.0*EX_oh_etr(e)_reverse_f8672 + 26.0*EX_oh_etr_glc(e)_reverse_ed9e2 + 12.0*EX_oh_pbl(e)_reverse_70ff0 + 18.0*EX_oh_pbl_glc(e)_reverse_fcc75 + 14.0*EX_olsa(e)_reverse_acde7 + 5.0*EX_orn(e)_reverse_ae1f8 + 5.0*EX_orot(e)_reverse_e5064 + 2.0*EX_oxa(e)_reverse_bb242 + 8.0*EX_pac(e)_reverse_13484 + 7.0*EX_pcresol(e)_reverse_54ba6 + 2535.0*EX_pect(e)_reverse_da187 + 597.0*EX_pecticgal(e)_reverse_fc3f4 + 9.0*EX_phe_L(e)_reverse_347de + 34.0*EX_pheme(e)_reverse_25bc5 + 6.0*EX_phenol(e)_reverse_f8703 + 9.0*EX_phppa(e)_reverse_17c09 + 15.0*EX_phppa_glc(e)_reverse_5e4fc + 9.0*EX_phpyr(e)_reverse_96d50 + 16.0*EX_phtn_glc(e)_reverse_55e72 + 7.0*EX_pime(e)_reverse_3df0b + 9.0*EX_pnto_R(e)_reverse_01fe1 + 3.0*EX_ppa(e)_reverse_0e385 + 3.0*EX_ppal(e)_reverse_d7cb1 + 3.0*EX_ppoh(e)_reverse_1e07e + 9.0*EX_pppn(e)_reverse_acf2c + 5.0*EX_pro_L(e)_reverse_9e6b2 + 13.0*EX_prob(e)_reverse_9d1d8 + 19.0*EX_prob_glc(e)_reverse_7bcf8 + 12.0*EX_pront(e)_reverse_e37ba + 18.0*EX_pront_glc(e)_reverse_7b9be + 16.0*EX_propl(e)_reverse_f9b2e + 22.0*EX_propl_glc(e)_reverse_73474 + 19.0*EX_prx_mI(e)_reverse_1d072 + 19.0*EX_prx_mII(e)_reverse_9d908 + 25.0*EX_prx_mII_glc(e)_reverse_c8d39 + 25.0*EX_prx_mI_glc(e)_reverse_58a47 + 6.0*EX_psics_D(e)_reverse_f3b82 + 4.0*EX_ptrc(e)_reverse_a1b62 + 50.0*EX_ptvst(e)_reverse_64c2a + 62.0*EX_ptvstgluc(e)_reverse_2d679 + 7200.0*EX_pullulan1200(e)_reverse_284a6 + 23.0*EX_pvs(e)_reverse_b4e6b + 29.0*EX_pvsgluc(e)_reverse_fd0ba + 8.0*EX_pydam(e)_reverse_92a7d + 8.0*EX_pydx(e)_reverse_98825 + 8.0*EX_pydx5p(e)_reverse_fbacf + 8.0*EX_pydxn(e)_reverse_7774e + 3.0*EX_pyr(e)_reverse_a3b84 + 49.0*EX_q8(e)_reverse_9d9e7 + 9.0*EX_r34hpp(e)_reverse_7bd91 + 22.0*EX_r406(e)_reverse_2fb80 + 28.0*EX_r406_glc(e)_reverse_86244 + 21.0*EX_r529(e)_reverse_e8a53 + 27.0*EX_r529_glc(e)_reverse_b2d3e + 23.0*EX_r788(e)_reverse_1fdd8 + 18.0*EX_raffin(e)_reverse_a0ecd + 21.0*EX_regfnb(e)_reverse_79ade + 27.0*EX_regfnb_glc(e)_reverse_cc1e7 + 27.0*EX_rep(e)_reverse_ec4b7 + 33.0*EX_rep_glc(e)_reverse_cf429 + 5840.0*EX_rhamnogalurI(e)_reverse_482bc + 317.0*EX_rhamnogalurII(e)_reverse_85e33 + 5.0*EX_rib_D(e)_reverse_6f616 + 17.0*EX_ribflv(e)_reverse_861c7 + 6.0*EX_rmn(e)_reverse_445f2 + 13.0*EX_rpn_104557(e)_reverse_7c9af + 20.0*EX_rpn_104557_cb_glc(e)_reverse_b7715 + 13.0*EX_rpn_96990(e)_reverse_2fccc + 19.0*EX_rpn_96990_glc(e)_reverse_f2bbc + 16.0*EX_rpn_oh(e)_reverse_0d80b + 22.0*EX_rpn_oh_glc(e)_reverse_0471d + 44.0*EX_rsv(e)_reverse_0889a + 56.0*EX_rsvgluc(e)_reverse_ebc2d + 25.0*EX_sT_antigen(e)_reverse_39dc7 + 19.0*EX_sTn_antigen(e)_reverse_ee67f + 13.0*EX_salcn(e)_reverse_cc422 + 6.0*EX_sanilamide(e)_reverse_ce97a + 13.0*EX_sb_611855(e)_reverse_2bf85 + 12.0*EX_sb_y(e)_reverse_a141a + 6.0*EX_sbt_D(e)_reverse_d21c4 + 6.0*EX_sbt_L(e)_reverse_49b40 + 32.0*EX_sbzcoa(e)_reverse_835c8 + 30.0*EX_sch_488128(e)_reverse_eea0e + 24.0*EX_sch_57871(e)_reverse_7334b + 30.0*EX_sch_57871_glc(e)_reverse_bdd1c + 3.0*EX_ser_D(e)_reverse_6a7bb + 3.0*EX_ser_L(e)_reverse_63838 + 14.0*EX_sfnd_1689(e)_reverse_b46f1 + 20.0*EX_sfnd_1689_glc(e)_reverse_1f112 + 9.0*EX_sftz(e)_reverse_90b9b + 15.0*EX_sftz_glc(e)_reverse_e7903 + 42.0*EX_sheme(e)_reverse_716dd + 31.0*EX_simvgluc(e)_reverse_1198d + 8.0*EX_smap(e)_reverse_c0dd1 + 14.0*EX_smap_glc(e)_reverse_afe63 + 25.0*EX_smvacid(e)_reverse_9044f + 22.0*EX_sn38(e)_reverse_5c3bd + 28.0*EX_sn38g(e)_reverse_9406b + 7.0*EX_spmd(e)_reverse_e8ad4 + 23.0*EX_spz(e)_reverse_cdb6e + 29.0*EX_spz_glc(e)_reverse_77af1 + 23.0*EX_spz_sfn(e)_reverse_0c82e + 29.0*EX_spz_sfn_glc(e)_reverse_86f17 + 10.0*EX_srtn(e)_reverse_82ae9 + 11.0*EX_srv(e)_reverse_d461f + 18.0*EX_ssz(e)_reverse_b4912 + 16.0*EX_stg(e)_reverse_a4cd5 + 22.0*EX_stg_m3(e)_reverse_d342b + 23.0*EX_stg_m4(e)_reverse_4213b + 66.0*EX_strch1(e)_reverse_18bdb + 18.0*EX_strch2(e)_reverse_f929c + 24.0*EX_stys(e)_reverse_9edce + 11.0*EX_sucbz(e)_reverse_56984 + 4.0*EX_succ(e)_reverse_08b08 + 12.0*EX_sucr(e)_reverse_24112 + 2.0*EX_sulfac(e)_reverse_007d1 + 11.0*EX_sulfp(e)_reverse_22e6c + 6.0*EX_tab(e)_reverse_9e171 + 6.0*EX_tagat_D(e)_reverse_0fd19 + 6.0*EX_tagur(e)_reverse_d3528 + 20.0*EX_tat(e)_reverse_1d9d7 + 2.0*EX_taur(e)_reverse_c58c6 + 26.0*EX_tchola(e)_reverse_ffa43 + 26.0*EX_tdchola(e)_reverse_1a0d5 + 26.0*EX_tdechola(e)_reverse_17fa0 + 24.0*EX_tgz(e)_reverse_8ed9d + 30.0*EX_tgz_glc(e)_reverse_6006a + 19.0*EX_thf(e)_reverse_324fe + 12.0*EX_thm(e)_reverse_b251b + 4.0*EX_thr_L(e)_reverse_6db8c + 9.0*EX_thsacmp(e)_reverse_b80f5 + 10.0*EX_thymd(e)_reverse_48add + 14.0*EX_tlf_a(e)_reverse_1f03a + 14.0*EX_tlf_a_1a(e)_reverse_a0c94 + 14.0*EX_tlf_a_1b(e)_reverse_4a66c + 15.0*EX_tlf_a_1x(e)_reverse_21dd7 + 14.0*EX_tlf_a_2(e)_reverse_7c3e4 + 14.0*EX_tlf_a_2a(e)_reverse_10db5 + 14.0*EX_tlf_a_3(e)_reverse_d06f8 + 14.0*EX_tlf_a_4(e)_reverse_cfcb1 + 20.0*EX_tlf_a_m1(e)_reverse_ad78b + 20.0*EX_tlf_a_m2(e)_reverse_70c60 + 20.0*EX_tlf_a_m3(e)_reverse_09d6a + 20.0*EX_tlf_a_m4(e)_reverse_72c98 + 20.0*EX_tlf_a_m4a(e)_reverse_38dd3 + 20.0*EX_tlf_a_m5(e)_reverse_ac20c + 20.0*EX_tlf_a_m5a(e)_reverse_dfc6b + 26.0*EX_tlf_a_m5b(e)_reverse_e0904 + 20.0*EX_tlf_a_m6(e)_reverse_1f052 + 21.0*EX_tlf_a_m9(e)_reverse_1cc3c + 33.0*EX_tlms(e)_reverse_01b87 + 39.0*EX_tlms_glc(e)_reverse_4e9ca + 3.0*EX_tma(e)_reverse_b8e31 + 9.0*EX_tmacmp(e)_reverse_962fb + 3.0*EX_tmao(e)_reverse_e9256 + 14.0*EX_tolcp(e)_reverse_2f5f8 + 16.0*EX_tolcp_ac(e)_reverse_99a7e + 22.0*EX_tolcp_ac_glc(e)_reverse_d3baa + 14.0*EX_tolcp_am(e)_reverse_dabb4 + 20.0*EX_tolcp_am_glc(e)_reverse_01259 + 20.0*EX_tolcp_glc(e)_reverse_55266 + 21.0*EX_tpno_1glc_4g(e)_reverse_f8a3d + 15.0*EX_tpno_4g(e)_reverse_0835e + 15.0*EX_tpno_4glc(e)_reverse_44b41 + 9.0*EX_tpnoh(e)_reverse_1c37d + 12.0*EX_tre(e)_reverse_4bd72 + 11.0*EX_trp_L(e)_reverse_547c3 + 10.0*EX_trypta(e)_reverse_80184 + 15.0*EX_tsacmgluc(e)_reverse_1107d + 14.0*EX_ttdca(e)_reverse_f2381 + 12.0*EX_turan_D(e)_reverse_967b1 + 8.0*EX_tym(e)_reverse_5aa10 + 9.0*EX_tyr_L(e)_reverse_c23e2 + 4.0*EX_ura(e)_reverse_9b467 + 1.0*EX_urea(e)_reverse_47c8f + 9.0*EX_uri(e)_reverse_31b3c + 5.0*EX_val_L(e)_reverse_fdb1c + 5.0*EX_xan(e)_reverse_062ac + 10.0*EX_xtsn(e)_reverse_d78ee + 5.0*EX_xyl_D(e)_reverse_54111 + 2640.0*EX_xylan(e)_reverse_0d2bf + 20.0*EX_xylottr(e)_reverse_b1140 + 6438.0*EX_xyluglc(e)_reverse_84250 <= 100\n"
     ]
    }
   ],
   "source": [
    "if \"C_element_uptake\" in newmodels[\"RC-ABX_-1.5\"].constraints:\n",
    "    print(\"yes\")\n",
    "    print(newmodels[\"RC-ABX_-1.5\"].constraints[\"C_element_uptake\"])"
   ]
  },
  {
   "cell_type": "code",
   "execution_count": 3,
   "metadata": {},
   "outputs": [
    {
     "name": "stdout",
     "output_type": "stream",
     "text": [
      "{'ASV00002;seqs=7303020;samples=1403': 9.299297903008323e-05, 'ASV00003;seqs=7068340;samples=1916': 0.001264704514809132, 'ASV00004;seqs=6473178;samples=1764': 0.06621100106941925, 'ASV00005;seqs=5940024;samples=3018': 0.0008958323646564685, 'ASV00006;seqs=5698377;samples=2075': 0.011258349994575409, 'ASV00008;seqs=3358093;samples=2591': 0.0905503634475597, 'ASV00011;seqs=3029063;samples=663': 0.0002789789370902497, 'ASV00012;seqs=3022236;samples=1865': 8.679344709474435e-05, 'ASV00017;seqs=1396481;samples=730': 0.00010539204290076098, 'ASV00030;seqs=967751;samples=1354': 0.14191348553184235, 'ASV00045;seqs=682529;samples=872': 3.409742564436385e-05, 'ASV00057;seqs=537929;samples=1455': 0.06522527549170037, 'ASV00061;seqs=520349;samples=687': 0.01324220021388385, 'ASV00079;seqs=432109;samples=775': 0.011930999209559676, 'ASV00081;seqs=422495;samples=841': 2.1698361773686086e-05, 'ASV00117;seqs=253103;samples=1167': 0.008573952666573674, 'ASV00122;seqs=247627;samples=247': 6.199531935338882e-05, 'ASV00125;seqs=240088;samples=1074': 1.5498829838347205e-05, 'ASV00131;seqs=228350;samples=476': 0.33169355713643617, 'ASV00170;seqs=173585;samples=145': 0.0012740038127121399, 'ASV00174;seqs=168097;samples=70': 0.0007377443003053268, 'ASV00178;seqs=166167;samples=748': 0.1098030098727546, 'ASV00198;seqs=145630;samples=376': 0.00013948946854512484, 'ASV00240;seqs=106587;samples=647': 0.0002045845538661831, 'ASV00242;seqs=106523;samples=69': 0.0002696796391872413, 'ASV00254;seqs=102784;samples=1130': 0.005238604485361357, 'ASV00260;seqs=100236;samples=73': 0.00010229227693309155, 'ASV00302;seqs=78715;samples=316': 0.0002758791711225803, 'ASV00325;seqs=72251;samples=398': 0.018074735357480512, 'ASV00403;seqs=52913;samples=142': 0.00010849180886843043, 'ASV00410;seqs=51580;samples=142': 0.0003843709799910107, 'ASV00519;seqs=37787;samples=49': 2.1698361773686086e-05, 'ASV00555;seqs=34715;samples=589': 0.004392368376187598, 'ASV00564;seqs=33773;samples=37': 3.719719161203329e-05, 'ASV00725;seqs=22660;samples=94': 0.06652717719812154, 'ASV00825;seqs=18015;samples=10': 9.919251096542211e-05, 'ASV00895;seqs=15764;samples=276': 0.004851133739402675, 'ASV00903;seqs=15426;samples=48': 0.0002820787030579191, 'ASV00913;seqs=15231;samples=26': 0.03507385192417972, 'ASV01125;seqs=10675;samples=14': 3.409742564436385e-05, 'ASV01569;seqs=5738;samples=61': 0.0010725190248136265, 'ASV02079;seqs=3176;samples=69': 0.0004432665333767301, 'ASV02112;seqs=3053;samples=100': 0.0030098727546070273, 'ASV03716;seqs=853;samples=24': 8.059391515940547e-05, 'ASV03800;seqs=800;samples=27': 0.0001952852559631748, 'ASV03883;seqs=765;samples=32': 0.000892732598688799, 'ASV04165;seqs=643;samples=20': 0.00038747074595868014, 'ASV04297;seqs=595;samples=13': 0.0015901799414144231, 'ASV05516;seqs=336;samples=8': 8.679344709474435e-05, 'ASV05771;seqs=299;samples=17': 0.0001952852559631748, 'ASV06113;seqs=258;samples=9': 0.0002758791711225803, 'ASV08434;seqs=114;samples=10': 9.919251096542211e-05, 'ASV08468;seqs=113;samples=4': 7.439438322406658e-05, 'ASV09422;seqs=85;samples=3': 0.00011159157483609987, 'ASV09528;seqs=83;samples=7': 1.2399063870677764e-05, 'ASV15074;seqs=17;samples=1': 5.269602145038049e-05, 'ASV16539;seqs=10;samples=1': 3.099765967669441e-05}\n",
      "{'ASV00002;seqs=7303020;samples=1403': 0.00010666666666666664, 'ASV00003;seqs=7068340;samples=1916': 0.0014506666666666663, 'ASV00004;seqs=6473178;samples=1764': 0.043509333333333323, 'ASV00005;seqs=5940024;samples=3018': 0.0010275555555555552, 'ASV00006;seqs=5698377;samples=2075': 0.01305244444444444, 'ASV00008;seqs=3358093;samples=2591': 0.0060622222222222215, 'ASV00011;seqs=3029063;samples=663': 0.0003733333333333332, 'ASV00012;seqs=3022236;samples=1865': 9.955555555555552e-05, 'ASV00017;seqs=1396481;samples=730': 0.00012088888888888884, 'ASV00029;seqs=1026187;samples=847': 4.266666666666665e-05, 'ASV00030;seqs=967751;samples=1354': 0.07176177777777776, 'ASV00045;seqs=682529;samples=872': 3.91111111111111e-05, 'ASV00057;seqs=537929;samples=1455': 0.1255253333333333, 'ASV00081;seqs=422495;samples=841': 2.488888888888888e-05, 'ASV00122;seqs=247627;samples=247': 7.111111111111109e-05, 'ASV00125;seqs=240088;samples=1074': 1.7777777777777773e-05, 'ASV00131;seqs=228350;samples=476': 0.38042311111111093, 'ASV00170;seqs=173585;samples=145': 0.0014613333333333325, 'ASV00174;seqs=168097;samples=70': 0.0008462222222222217, 'ASV00178;seqs=166167;samples=748': 0.0007751111111111109, 'ASV00198;seqs=145630;samples=376': 0.00015999999999999993, 'ASV00240;seqs=106587;samples=647': 0.2744106666666666, 'ASV00242;seqs=106523;samples=69': 0.0003093333333333332, 'ASV00254;seqs=102784;samples=1130': 0.011320888888888886, 'ASV00260;seqs=100236;samples=73': 0.00011733333333333329, 'ASV00302;seqs=78715;samples=316': 0.00031644444444444434, 'ASV00325;seqs=72251;samples=398': 0.0001244444444444444, 'ASV00403;seqs=52913;samples=142': 0.0001244444444444444, 'ASV00410;seqs=51580;samples=142': 0.0004408888888888888, 'ASV00519;seqs=37787;samples=49': 2.488888888888888e-05, 'ASV00555;seqs=34715;samples=589': 0.011832888888888882, 'ASV00564;seqs=33773;samples=37': 4.266666666666665e-05, 'ASV00825;seqs=18015;samples=10': 0.00011377777777777773, 'ASV00839;seqs=17688;samples=366': 0.0007786666666666663, 'ASV00895;seqs=15764;samples=276': 0.005564444444444442, 'ASV00903;seqs=15426;samples=48': 0.00032355555555555545, 'ASV00913;seqs=15231;samples=26': 0.04023111111111109, 'ASV01125;seqs=10675;samples=14': 3.91111111111111e-05, 'ASV01569;seqs=5738;samples=61': 0.0012302222222222217, 'ASV02079;seqs=3176;samples=69': 0.0005084444444444443, 'ASV02112;seqs=3053;samples=100': 0.0007324444444444442, 'ASV03716;seqs=853;samples=24': 9.244444444444441e-05, 'ASV03883;seqs=765;samples=32': 0.0010239999999999997, 'ASV04165;seqs=643;samples=20': 0.0004444444444444443, 'ASV04297;seqs=595;samples=13': 0.0018239999999999994, 'ASV05516;seqs=336;samples=8': 9.955555555555552e-05, 'ASV05771;seqs=299;samples=17': 0.00022399999999999992, 'ASV06113;seqs=258;samples=9': 0.00031644444444444434, 'ASV08434;seqs=114;samples=10': 0.00011377777777777773, 'ASV08468;seqs=113;samples=4': 8.53333333333333e-05, 'ASV09422;seqs=85;samples=3': 0.00012799999999999997, 'ASV09528;seqs=83;samples=7': 1.4222222222222217e-05, 'ASV15074;seqs=17;samples=1': 6.044444444444442e-05, 'ASV16539;seqs=10;samples=1': 3.5555555555555546e-05}\n",
      "{'ASV00003;seqs=7068340;samples=1916': 0.0001429611308038161, 'ASV00004;seqs=6473178;samples=1764': 0.5126455050897907, 'ASV00005;seqs=5940024;samples=3018': 6.367701022702727e-05, 'ASV00006;seqs=5698377;samples=2075': 0.15348719030810928, 'ASV00008;seqs=3358093;samples=2591': 0.0003939234652279824, 'ASV00011;seqs=3029063;samples=663': 6.242844139904633e-05, 'ASV00030;seqs=967751;samples=1354': 0.0004157734197176486, 'ASV00037;seqs=790233;samples=478': 0.2804791258020493, 'ASV00041;seqs=738577;samples=964': 1.87285324197139e-06, 'ASV00057;seqs=537929;samples=1455': 0.02398188576344365, 'ASV00131;seqs=228350;samples=476': 0.02370907347452982, 'ASV00170;seqs=173585;samples=145': 7.179270760890328e-05, 'ASV00174;seqs=168097;samples=70': 4.682133104928475e-05, 'ASV00192;seqs=153897;samples=185': 5.61855972591417e-06, 'ASV00240;seqs=106587;samples=647': 6.8671285538950966e-06, 'ASV00242;seqs=106523;samples=69': 1.123711945182834e-05, 'ASV00302;seqs=78715;samples=316': 2.6844229801589923e-05, 'ASV00410;seqs=51580;samples=142': 2.1849954489666216e-05, 'ASV00519;seqs=37787;samples=49': 1.498282593577112e-05, 'ASV00555;seqs=34715;samples=589': 0.001409009922376476, 'ASV00895;seqs=15764;samples=276': 0.0002472166279402235, 'ASV00903;seqs=15426;samples=48': 3.121422069952316e-06, 'ASV00913;seqs=15231;samples=26': 0.0024409520587027117, 'ASV01569;seqs=5738;samples=61': 0.00011112262569030248, 'ASV02079;seqs=3176;samples=69': 9.988550623847412e-06, 'ASV03716;seqs=853;samples=24': 8.739981795866488e-06, 'ASV03883;seqs=765;samples=32': 1.8728532419713902e-05, 'ASV04165;seqs=643;samples=20': 2.434709214562807e-05, 'ASV04297;seqs=595;samples=13': 5.1191321947217995e-05, 'ASV05771;seqs=299;samples=17': 6.8671285538950966e-06, 'ASV06060;seqs=263;samples=10': 8.739981795866488e-06, 'ASV06113;seqs=258;samples=9': 1.1861403865818803e-05, 'ASV08110;seqs=126;samples=7': 2.3098523317647146e-05, 'ASV08433;seqs=114;samples=6': 8.115697381876023e-06, 'ASV09422;seqs=85;samples=3': 6.242844139904634e-06, 'ASV10516;seqs=64;samples=3': 1.7479963591732976e-05, 'ASV10593;seqs=63;samples=4': 3.74570648394278e-06}\n",
      "{'ASV00004;seqs=6473178;samples=1764': 0.488333860333025, 'ASV00006;seqs=5698377;samples=2075': 0.01267249516657663, 'ASV00030;seqs=967751;samples=1354': 0.00041070972273593364, 'ASV00037;seqs=790233;samples=478': 0.42803653916385576, 'ASV00057;seqs=537929;samples=1455': 0.04019238016785427, 'ASV00086;seqs=386275;samples=304': 0.0014503187084112653, 'ASV00131;seqs=228350;samples=476': 0.0008120851335915051, 'ASV00240;seqs=106587;samples=647': 0.016918440283156352, 'ASV00254;seqs=102784;samples=1130': 0.0007490785283990605, 'ASV00555;seqs=34715;samples=589': 0.010424092792394405}\n",
      "{'ASV00004;seqs=6473178;samples=1764': 0.07053859176578492, 'ASV00004;seqs=7856150;samples=2507': 1.631327284130086e-05, 'ASV00006;seqs=5698377;samples=2075': 0.00018850893061058771, 'ASV00006;seqs=7202691;samples=2041': 0.007009269564145603, 'ASV00007;seqs=4733995;samples=2456': 1.0875515227533907e-05, 'ASV00007;seqs=5884804;samples=2791': 1.0875515227533907e-05, 'ASV00011;seqs=3029063;samples=663': 7.250343485022605e-05, 'ASV00029;seqs=1026187;samples=847': 5.800274788018084e-05, 'ASV00030;seqs=1023078;samples=1476': 0.009488887036023333, 'ASV00030;seqs=967751;samples=1354': 0.1344993094047831, 'ASV00057;seqs=537929;samples=1455': 0.22707169502155167, 'ASV00058;seqs=641221;samples=1619': 0.006258859013445764, 'ASV00109;seqs=292857;samples=522': 3.806430329636868e-05, 'ASV00131;seqs=228350;samples=476': 0.0023291728445635116, 'ASV00208;seqs=147389;samples=777': 0.022327432762127113, 'ASV00239;seqs=120783;samples=1230': 0.01952698759103713, 'ASV00240;seqs=106587;samples=647': 0.43398562256886936, 'ASV00254;seqs=102784;samples=1130': 0.03605595815101741, 'ASV00555;seqs=34715;samples=589': 0.026838958995682425, 'ASV00564;seqs=36645;samples=643': 0.0017835844973155609, 'ASV00839;seqs=17688;samples=366': 0.0018524627604232754, 'ASV00898;seqs=17757;samples=377': 3.806430329636868e-05}\n",
      "{'ASV00004;seqs=6473178;samples=1764': 0.03696830227896964, 'ASV00004;seqs=7856150;samples=2507': 3.7116769356395217e-05, 'ASV00006;seqs=7202691;samples=2041': 0.02851805112216366, 'ASV00007;seqs=4733995;samples=2456': 2.474451290426348e-05, 'ASV00007;seqs=5884804;samples=2791': 2.474451290426348e-05, 'ASV00030;seqs=1023078;samples=1476': 0.0968623957637394, 'ASV00030;seqs=967751;samples=1354': 0.11641056095810753, 'ASV00057;seqs=537929;samples=1455': 0.16164353054710118, 'ASV00058;seqs=641221;samples=1619': 0.07095489075297552, 'ASV00099;seqs=324118;samples=535': 4.948902580852696e-05, 'ASV00109;seqs=292857;samples=522': 0.00013609482097344915, 'ASV00131;seqs=228350;samples=476': 0.001472298517803677, 'ASV00142;seqs=232340;samples=215': 4.948902580852696e-05, 'ASV00208;seqs=147389;samples=777': 0.1591567070002227, 'ASV00239;seqs=120783;samples=1230': 0.10391458194145448, 'ASV00240;seqs=106587;samples=647': 0.13865587805904042, 'ASV00254;seqs=102784;samples=1130': 0.047163041595526194, 'ASV00555;seqs=34715;samples=589': 0.02460841808329003, 'ASV00564;seqs=36645;samples=643': 0.011456709474673992, 'ASV00839;seqs=17688;samples=366': 0.001806349442011234, 'ASV00898;seqs=17757;samples=377': 8.660579516492218e-05}\n",
      "{'ASV00003;seqs=7068340;samples=1916': 0.0002984662224863669, 'ASV00004;seqs=6473178;samples=1764': 0.42671155390117493, 'ASV00005;seqs=5940024;samples=3018': 0.00013294128687165688, 'ASV00006;seqs=5698377;samples=2075': 0.303404600289864, 'ASV00006;seqs=7202691;samples=2041': 0.0019862992273765204, 'ASV00008;seqs=3358093;samples=2591': 0.0008224112942746617, 'ASV00011;seqs=3029063;samples=663': 0.00013033459497221263, 'ASV00030;seqs=1023078;samples=1476': 0.011894335137164124, 'ASV00030;seqs=967751;samples=1354': 0.0008680284025149361, 'ASV00037;seqs=790233;samples=478': 0.12822969126341138, 'ASV00041;seqs=738577;samples=964': 3.910037849166379e-06, 'ASV00057;seqs=537929;samples=1455': 0.03352596786470226, 'ASV00058;seqs=641221;samples=1619': 0.00896180675028934, 'ASV00099;seqs=324118;samples=535': 7.820075698332757e-06, 'ASV00109;seqs=292857;samples=522': 7.820075698332757e-06, 'ASV00131;seqs=228350;samples=476': 0.048554850010948086, 'ASV00142;seqs=232340;samples=215': 7.820075698332757e-06, 'ASV00170;seqs=173585;samples=145': 0.0001498847842180445, 'ASV00174;seqs=168097;samples=70': 9.775094622915947e-05, 'ASV00192;seqs=153897;samples=185': 1.1730113547499136e-05, 'ASV00208;seqs=147389;samples=777': 0.01712205574149957, 'ASV00239;seqs=120783;samples=1230': 0.009399730989395973, 'ASV00240;seqs=106587;samples=647': 1.4336805446943387e-05, 'ASV00242;seqs=106523;samples=69': 2.3460227094998272e-05, 'ASV00302;seqs=78715;samples=316': 5.604387583805143e-05, 'ASV00410;seqs=51580;samples=142': 4.561710824027442e-05, 'ASV00519;seqs=37787;samples=49': 3.128030279333103e-05, 'ASV00555;seqs=34715;samples=589': 6.386395153638417e-05, 'ASV00564;seqs=36645;samples=643': 0.0011691013169007473, 'ASV00895;seqs=15764;samples=276': 0.000516124996089962, 'ASV00903;seqs=15426;samples=48': 6.516729748610629e-06, 'ASV00913;seqs=15231;samples=26': 0.005096082663413513, 'ASV01569;seqs=5738;samples=61': 0.00023199557905053848, 'ASV02079;seqs=3176;samples=69': 2.0853535195554017e-05, 'ASV03716;seqs=853;samples=24': 1.824684329610977e-05, 'ASV03883;seqs=765;samples=32': 3.910037849166379e-05, 'ASV04165;seqs=643;samples=20': 5.083049203916292e-05, 'ASV04297;seqs=595;samples=13': 0.00010687436787721435, 'ASV05771;seqs=299;samples=17': 1.4336805446943387e-05, 'ASV06060;seqs=263;samples=10': 1.824684329610977e-05, 'ASV06113;seqs=258;samples=9': 2.4763573044720396e-05, 'ASV08110;seqs=126;samples=7': 4.822380013971867e-05, 'ASV08433;seqs=114;samples=6': 1.694349734638764e-05, 'ASV09422;seqs=85;samples=3': 1.3033459497221263e-05, 'ASV10516;seqs=64;samples=3': 3.649368659221954e-05, 'ASV10593;seqs=63;samples=4': 7.820075698332757e-06}\n"
     ]
    }
   ],
   "source": [
    "#Removing constraints if they're there\n",
    "kinetic_coef = 400\n",
    "if \"constraints\" not in globals():\n",
    "    with open(\"constraints.json\", \"r\") as jsonIn:   constraints = load(jsonIn)\n",
    "if \"species_reactions\" not in globals():\n",
    "    with open(\"species_reactions.json\", \"r\") as jsonIn:   species_reactions = load(jsonIn)\n",
    "\n",
    "for sample, abundances in asv_abundances.items():\n",
    "    if sample not in newmodels:  continue\n",
    "    if \"kinetic\" in constraints[sample]:\n",
    "        newmodels[sample].remove_cons_vars(list(constraints[sample][\"elements\"].values()))\n",
    "    constraints[sample][\"kinetic\"] = {}\n",
    "    print(abundances)\n",
    "    for asv, abundance in abundances.items():\n",
    "        if asv not in species_reactions[sample]:   continue\n",
    "        biorxn = newmodels[sample].reactions.get_by_id(\"bio1\")\n",
    "        coef = {biorxn.forward_variable:-kinetic_coef*abundance, biorxn.reverse_variable:kinetic_coef*abundance}\n",
    "        for rxn_id in species_reactions[sample][asv]:\n",
    "            rxn = newmodels[sample].reactions.get_by_id(rxn_id)\n",
    "            coef[rxn.forward_variable] = coef[rxn.reverse_variable] = 1\n",
    "        constraints[sample][\"kinetic\"][asv] = newmodels[sample].problem.Constraint(Zero, lb=None, ub=0, name=asv+\"_kinetic\")\n",
    "        if len(coef) > 0:   constraints[sample][\"kinetic\"][asv].set_linear_coefficients(coef) \n",
    "        newmodels[sample].add_cons_vars(constraints[sample][\"kinetic\"][asv])\n",
    "        newmodels[sample].solver.update()\n",
    "        print(newmodels[sample].optimize().fluxes.bio1)\n",
    "        "
   ]
  },
  {
   "cell_type": "code",
   "execution_count": 4,
   "metadata": {},
   "outputs": [
    {
     "name": "stdout",
     "output_type": "stream",
     "text": [
      "RC-ABX_-1.5 3 ['ASV00004;seqs=6473178;samples=1764', 'ASV00006;seqs=5698377;samples=2075', 'ASV00037;seqs=790233;samples=478']\n",
      "RC-ABX_-1.5 {'ASV00003;seqs=7068340;samples=1916': 0.0002984662224863669, 'ASV00004;seqs=6473178;samples=1764': 0.42671155390117493, 'ASV00005;seqs=5940024;samples=3018': 0.00013294128687165688, 'ASV00006;seqs=5698377;samples=2075': 0.303404600289864, 'ASV00006;seqs=7202691;samples=2041': 0.0019862992273765204, 'ASV00008;seqs=3358093;samples=2591': 0.0008224112942746617, 'ASV00011;seqs=3029063;samples=663': 0.00013033459497221263, 'ASV00030;seqs=1023078;samples=1476': 0.011894335137164124, 'ASV00030;seqs=967751;samples=1354': 0.0008680284025149361, 'ASV00037;seqs=790233;samples=478': 0.12822969126341138, 'ASV00041;seqs=738577;samples=964': 3.910037849166379e-06, 'ASV00057;seqs=537929;samples=1455': 0.03352596786470226, 'ASV00058;seqs=641221;samples=1619': 0.00896180675028934, 'ASV00099;seqs=324118;samples=535': 7.820075698332757e-06, 'ASV00109;seqs=292857;samples=522': 7.820075698332757e-06, 'ASV00131;seqs=228350;samples=476': 0.048554850010948086, 'ASV00142;seqs=232340;samples=215': 7.820075698332757e-06, 'ASV00170;seqs=173585;samples=145': 0.0001498847842180445, 'ASV00174;seqs=168097;samples=70': 9.775094622915947e-05, 'ASV00192;seqs=153897;samples=185': 1.1730113547499136e-05, 'ASV00208;seqs=147389;samples=777': 0.01712205574149957, 'ASV00239;seqs=120783;samples=1230': 0.009399730989395973, 'ASV00240;seqs=106587;samples=647': 1.4336805446943387e-05, 'ASV00242;seqs=106523;samples=69': 2.3460227094998272e-05, 'ASV00302;seqs=78715;samples=316': 5.604387583805143e-05, 'ASV00410;seqs=51580;samples=142': 4.561710824027442e-05, 'ASV00519;seqs=37787;samples=49': 3.128030279333103e-05, 'ASV00555;seqs=34715;samples=589': 6.386395153638417e-05, 'ASV00564;seqs=36645;samples=643': 0.0011691013169007473, 'ASV00895;seqs=15764;samples=276': 0.000516124996089962, 'ASV00903;seqs=15426;samples=48': 6.516729748610629e-06, 'ASV00913;seqs=15231;samples=26': 0.005096082663413513, 'ASV01569;seqs=5738;samples=61': 0.00023199557905053848, 'ASV02079;seqs=3176;samples=69': 2.0853535195554017e-05, 'ASV03716;seqs=853;samples=24': 1.824684329610977e-05, 'ASV03883;seqs=765;samples=32': 3.910037849166379e-05, 'ASV04165;seqs=643;samples=20': 5.083049203916292e-05, 'ASV04297;seqs=595;samples=13': 0.00010687436787721435, 'ASV05771;seqs=299;samples=17': 1.4336805446943387e-05, 'ASV06060;seqs=263;samples=10': 1.824684329610977e-05, 'ASV06113;seqs=258;samples=9': 2.4763573044720396e-05, 'ASV08110;seqs=126;samples=7': 4.822380013971867e-05, 'ASV08433;seqs=114;samples=6': 1.694349734638764e-05, 'ASV09422;seqs=85;samples=3': 1.3033459497221263e-05, 'ASV10516;seqs=64;samples=3': 3.649368659221954e-05, 'ASV10593;seqs=63;samples=4': 7.820075698332757e-06}\n",
      "RC-ABX_5.5 3 ['ASV00004;seqs=6473178;samples=1764', 'ASV00006;seqs=5698377;samples=2075', 'ASV00037;seqs=790233;samples=478']\n",
      "RC-ABX_5.5 {'ASV00003;seqs=7068340;samples=1916': 0.0002984662224863669, 'ASV00004;seqs=6473178;samples=1764': 0.42671155390117493, 'ASV00005;seqs=5940024;samples=3018': 0.00013294128687165688, 'ASV00006;seqs=5698377;samples=2075': 0.303404600289864, 'ASV00006;seqs=7202691;samples=2041': 0.0019862992273765204, 'ASV00008;seqs=3358093;samples=2591': 0.0008224112942746617, 'ASV00011;seqs=3029063;samples=663': 0.00013033459497221263, 'ASV00030;seqs=1023078;samples=1476': 0.011894335137164124, 'ASV00030;seqs=967751;samples=1354': 0.0008680284025149361, 'ASV00037;seqs=790233;samples=478': 0.12822969126341138, 'ASV00041;seqs=738577;samples=964': 3.910037849166379e-06, 'ASV00057;seqs=537929;samples=1455': 0.03352596786470226, 'ASV00058;seqs=641221;samples=1619': 0.00896180675028934, 'ASV00099;seqs=324118;samples=535': 7.820075698332757e-06, 'ASV00109;seqs=292857;samples=522': 7.820075698332757e-06, 'ASV00131;seqs=228350;samples=476': 0.048554850010948086, 'ASV00142;seqs=232340;samples=215': 7.820075698332757e-06, 'ASV00170;seqs=173585;samples=145': 0.0001498847842180445, 'ASV00174;seqs=168097;samples=70': 9.775094622915947e-05, 'ASV00192;seqs=153897;samples=185': 1.1730113547499136e-05, 'ASV00208;seqs=147389;samples=777': 0.01712205574149957, 'ASV00239;seqs=120783;samples=1230': 0.009399730989395973, 'ASV00240;seqs=106587;samples=647': 1.4336805446943387e-05, 'ASV00242;seqs=106523;samples=69': 2.3460227094998272e-05, 'ASV00302;seqs=78715;samples=316': 5.604387583805143e-05, 'ASV00410;seqs=51580;samples=142': 4.561710824027442e-05, 'ASV00519;seqs=37787;samples=49': 3.128030279333103e-05, 'ASV00555;seqs=34715;samples=589': 6.386395153638417e-05, 'ASV00564;seqs=36645;samples=643': 0.0011691013169007473, 'ASV00895;seqs=15764;samples=276': 0.000516124996089962, 'ASV00903;seqs=15426;samples=48': 6.516729748610629e-06, 'ASV00913;seqs=15231;samples=26': 0.005096082663413513, 'ASV01569;seqs=5738;samples=61': 0.00023199557905053848, 'ASV02079;seqs=3176;samples=69': 2.0853535195554017e-05, 'ASV03716;seqs=853;samples=24': 1.824684329610977e-05, 'ASV03883;seqs=765;samples=32': 3.910037849166379e-05, 'ASV04165;seqs=643;samples=20': 5.083049203916292e-05, 'ASV04297;seqs=595;samples=13': 0.00010687436787721435, 'ASV05771;seqs=299;samples=17': 1.4336805446943387e-05, 'ASV06060;seqs=263;samples=10': 1.824684329610977e-05, 'ASV06113;seqs=258;samples=9': 2.4763573044720396e-05, 'ASV08110;seqs=126;samples=7': 4.822380013971867e-05, 'ASV08433;seqs=114;samples=6': 1.694349734638764e-05, 'ASV09422;seqs=85;samples=3': 1.3033459497221263e-05, 'ASV10516;seqs=64;samples=3': 3.649368659221954e-05, 'ASV10593;seqs=63;samples=4': 7.820075698332757e-06}\n",
      "RC-ABX_4.0 3 ['ASV00004;seqs=6473178;samples=1764', 'ASV00006;seqs=5698377;samples=2075', 'ASV00037;seqs=790233;samples=478']\n",
      "RC-ABX_4.0 {'ASV00003;seqs=7068340;samples=1916': 0.0002984662224863669, 'ASV00004;seqs=6473178;samples=1764': 0.42671155390117493, 'ASV00005;seqs=5940024;samples=3018': 0.00013294128687165688, 'ASV00006;seqs=5698377;samples=2075': 0.303404600289864, 'ASV00006;seqs=7202691;samples=2041': 0.0019862992273765204, 'ASV00008;seqs=3358093;samples=2591': 0.0008224112942746617, 'ASV00011;seqs=3029063;samples=663': 0.00013033459497221263, 'ASV00030;seqs=1023078;samples=1476': 0.011894335137164124, 'ASV00030;seqs=967751;samples=1354': 0.0008680284025149361, 'ASV00037;seqs=790233;samples=478': 0.12822969126341138, 'ASV00041;seqs=738577;samples=964': 3.910037849166379e-06, 'ASV00057;seqs=537929;samples=1455': 0.03352596786470226, 'ASV00058;seqs=641221;samples=1619': 0.00896180675028934, 'ASV00099;seqs=324118;samples=535': 7.820075698332757e-06, 'ASV00109;seqs=292857;samples=522': 7.820075698332757e-06, 'ASV00131;seqs=228350;samples=476': 0.048554850010948086, 'ASV00142;seqs=232340;samples=215': 7.820075698332757e-06, 'ASV00170;seqs=173585;samples=145': 0.0001498847842180445, 'ASV00174;seqs=168097;samples=70': 9.775094622915947e-05, 'ASV00192;seqs=153897;samples=185': 1.1730113547499136e-05, 'ASV00208;seqs=147389;samples=777': 0.01712205574149957, 'ASV00239;seqs=120783;samples=1230': 0.009399730989395973, 'ASV00240;seqs=106587;samples=647': 1.4336805446943387e-05, 'ASV00242;seqs=106523;samples=69': 2.3460227094998272e-05, 'ASV00302;seqs=78715;samples=316': 5.604387583805143e-05, 'ASV00410;seqs=51580;samples=142': 4.561710824027442e-05, 'ASV00519;seqs=37787;samples=49': 3.128030279333103e-05, 'ASV00555;seqs=34715;samples=589': 6.386395153638417e-05, 'ASV00564;seqs=36645;samples=643': 0.0011691013169007473, 'ASV00895;seqs=15764;samples=276': 0.000516124996089962, 'ASV00903;seqs=15426;samples=48': 6.516729748610629e-06, 'ASV00913;seqs=15231;samples=26': 0.005096082663413513, 'ASV01569;seqs=5738;samples=61': 0.00023199557905053848, 'ASV02079;seqs=3176;samples=69': 2.0853535195554017e-05, 'ASV03716;seqs=853;samples=24': 1.824684329610977e-05, 'ASV03883;seqs=765;samples=32': 3.910037849166379e-05, 'ASV04165;seqs=643;samples=20': 5.083049203916292e-05, 'ASV04297;seqs=595;samples=13': 0.00010687436787721435, 'ASV05771;seqs=299;samples=17': 1.4336805446943387e-05, 'ASV06060;seqs=263;samples=10': 1.824684329610977e-05, 'ASV06113;seqs=258;samples=9': 2.4763573044720396e-05, 'ASV08110;seqs=126;samples=7': 4.822380013971867e-05, 'ASV08433;seqs=114;samples=6': 1.694349734638764e-05, 'ASV09422;seqs=85;samples=3': 1.3033459497221263e-05, 'ASV10516;seqs=64;samples=3': 3.649368659221954e-05, 'ASV10593;seqs=63;samples=4': 7.820075698332757e-06}\n",
      "RC-ABX_6.0 3 ['ASV00004;seqs=6473178;samples=1764', 'ASV00006;seqs=5698377;samples=2075', 'ASV00037;seqs=790233;samples=478']\n",
      "RC-ABX_6.0 {'ASV00003;seqs=7068340;samples=1916': 0.0002984662224863669, 'ASV00004;seqs=6473178;samples=1764': 0.42671155390117493, 'ASV00005;seqs=5940024;samples=3018': 0.00013294128687165688, 'ASV00006;seqs=5698377;samples=2075': 0.303404600289864, 'ASV00006;seqs=7202691;samples=2041': 0.0019862992273765204, 'ASV00008;seqs=3358093;samples=2591': 0.0008224112942746617, 'ASV00011;seqs=3029063;samples=663': 0.00013033459497221263, 'ASV00030;seqs=1023078;samples=1476': 0.011894335137164124, 'ASV00030;seqs=967751;samples=1354': 0.0008680284025149361, 'ASV00037;seqs=790233;samples=478': 0.12822969126341138, 'ASV00041;seqs=738577;samples=964': 3.910037849166379e-06, 'ASV00057;seqs=537929;samples=1455': 0.03352596786470226, 'ASV00058;seqs=641221;samples=1619': 0.00896180675028934, 'ASV00099;seqs=324118;samples=535': 7.820075698332757e-06, 'ASV00109;seqs=292857;samples=522': 7.820075698332757e-06, 'ASV00131;seqs=228350;samples=476': 0.048554850010948086, 'ASV00142;seqs=232340;samples=215': 7.820075698332757e-06, 'ASV00170;seqs=173585;samples=145': 0.0001498847842180445, 'ASV00174;seqs=168097;samples=70': 9.775094622915947e-05, 'ASV00192;seqs=153897;samples=185': 1.1730113547499136e-05, 'ASV00208;seqs=147389;samples=777': 0.01712205574149957, 'ASV00239;seqs=120783;samples=1230': 0.009399730989395973, 'ASV00240;seqs=106587;samples=647': 1.4336805446943387e-05, 'ASV00242;seqs=106523;samples=69': 2.3460227094998272e-05, 'ASV00302;seqs=78715;samples=316': 5.604387583805143e-05, 'ASV00410;seqs=51580;samples=142': 4.561710824027442e-05, 'ASV00519;seqs=37787;samples=49': 3.128030279333103e-05, 'ASV00555;seqs=34715;samples=589': 6.386395153638417e-05, 'ASV00564;seqs=36645;samples=643': 0.0011691013169007473, 'ASV00895;seqs=15764;samples=276': 0.000516124996089962, 'ASV00903;seqs=15426;samples=48': 6.516729748610629e-06, 'ASV00913;seqs=15231;samples=26': 0.005096082663413513, 'ASV01569;seqs=5738;samples=61': 0.00023199557905053848, 'ASV02079;seqs=3176;samples=69': 2.0853535195554017e-05, 'ASV03716;seqs=853;samples=24': 1.824684329610977e-05, 'ASV03883;seqs=765;samples=32': 3.910037849166379e-05, 'ASV04165;seqs=643;samples=20': 5.083049203916292e-05, 'ASV04297;seqs=595;samples=13': 0.00010687436787721435, 'ASV05771;seqs=299;samples=17': 1.4336805446943387e-05, 'ASV06060;seqs=263;samples=10': 1.824684329610977e-05, 'ASV06113;seqs=258;samples=9': 2.4763573044720396e-05, 'ASV08110;seqs=126;samples=7': 4.822380013971867e-05, 'ASV08433;seqs=114;samples=6': 1.694349734638764e-05, 'ASV09422;seqs=85;samples=3': 1.3033459497221263e-05, 'ASV10516;seqs=64;samples=3': 3.649368659221954e-05, 'ASV10593;seqs=63;samples=4': 7.820075698332757e-06}\n",
      "RC-ABX_12.5 3 ['ASV00004;seqs=6473178;samples=1764', 'ASV00006;seqs=5698377;samples=2075', 'ASV00037;seqs=790233;samples=478']\n",
      "RC-ABX_12.5 {'ASV00003;seqs=7068340;samples=1916': 0.0002984662224863669, 'ASV00004;seqs=6473178;samples=1764': 0.42671155390117493, 'ASV00005;seqs=5940024;samples=3018': 0.00013294128687165688, 'ASV00006;seqs=5698377;samples=2075': 0.303404600289864, 'ASV00006;seqs=7202691;samples=2041': 0.0019862992273765204, 'ASV00008;seqs=3358093;samples=2591': 0.0008224112942746617, 'ASV00011;seqs=3029063;samples=663': 0.00013033459497221263, 'ASV00030;seqs=1023078;samples=1476': 0.011894335137164124, 'ASV00030;seqs=967751;samples=1354': 0.0008680284025149361, 'ASV00037;seqs=790233;samples=478': 0.12822969126341138, 'ASV00041;seqs=738577;samples=964': 3.910037849166379e-06, 'ASV00057;seqs=537929;samples=1455': 0.03352596786470226, 'ASV00058;seqs=641221;samples=1619': 0.00896180675028934, 'ASV00099;seqs=324118;samples=535': 7.820075698332757e-06, 'ASV00109;seqs=292857;samples=522': 7.820075698332757e-06, 'ASV00131;seqs=228350;samples=476': 0.048554850010948086, 'ASV00142;seqs=232340;samples=215': 7.820075698332757e-06, 'ASV00170;seqs=173585;samples=145': 0.0001498847842180445, 'ASV00174;seqs=168097;samples=70': 9.775094622915947e-05, 'ASV00192;seqs=153897;samples=185': 1.1730113547499136e-05, 'ASV00208;seqs=147389;samples=777': 0.01712205574149957, 'ASV00239;seqs=120783;samples=1230': 0.009399730989395973, 'ASV00240;seqs=106587;samples=647': 1.4336805446943387e-05, 'ASV00242;seqs=106523;samples=69': 2.3460227094998272e-05, 'ASV00302;seqs=78715;samples=316': 5.604387583805143e-05, 'ASV00410;seqs=51580;samples=142': 4.561710824027442e-05, 'ASV00519;seqs=37787;samples=49': 3.128030279333103e-05, 'ASV00555;seqs=34715;samples=589': 6.386395153638417e-05, 'ASV00564;seqs=36645;samples=643': 0.0011691013169007473, 'ASV00895;seqs=15764;samples=276': 0.000516124996089962, 'ASV00903;seqs=15426;samples=48': 6.516729748610629e-06, 'ASV00913;seqs=15231;samples=26': 0.005096082663413513, 'ASV01569;seqs=5738;samples=61': 0.00023199557905053848, 'ASV02079;seqs=3176;samples=69': 2.0853535195554017e-05, 'ASV03716;seqs=853;samples=24': 1.824684329610977e-05, 'ASV03883;seqs=765;samples=32': 3.910037849166379e-05, 'ASV04165;seqs=643;samples=20': 5.083049203916292e-05, 'ASV04297;seqs=595;samples=13': 0.00010687436787721435, 'ASV05771;seqs=299;samples=17': 1.4336805446943387e-05, 'ASV06060;seqs=263;samples=10': 1.824684329610977e-05, 'ASV06113;seqs=258;samples=9': 2.4763573044720396e-05, 'ASV08110;seqs=126;samples=7': 4.822380013971867e-05, 'ASV08433;seqs=114;samples=6': 1.694349734638764e-05, 'ASV09422;seqs=85;samples=3': 1.3033459497221263e-05, 'ASV10516;seqs=64;samples=3': 3.649368659221954e-05, 'ASV10593;seqs=63;samples=4': 7.820075698332757e-06}\n",
      "RC-ABX_21.0 3 ['ASV00004;seqs=6473178;samples=1764', 'ASV00006;seqs=5698377;samples=2075', 'ASV00037;seqs=790233;samples=478']\n",
      "RC-ABX_21.0 {'ASV00003;seqs=7068340;samples=1916': 0.0002984662224863669, 'ASV00004;seqs=6473178;samples=1764': 0.42671155390117493, 'ASV00005;seqs=5940024;samples=3018': 0.00013294128687165688, 'ASV00006;seqs=5698377;samples=2075': 0.303404600289864, 'ASV00006;seqs=7202691;samples=2041': 0.0019862992273765204, 'ASV00008;seqs=3358093;samples=2591': 0.0008224112942746617, 'ASV00011;seqs=3029063;samples=663': 0.00013033459497221263, 'ASV00030;seqs=1023078;samples=1476': 0.011894335137164124, 'ASV00030;seqs=967751;samples=1354': 0.0008680284025149361, 'ASV00037;seqs=790233;samples=478': 0.12822969126341138, 'ASV00041;seqs=738577;samples=964': 3.910037849166379e-06, 'ASV00057;seqs=537929;samples=1455': 0.03352596786470226, 'ASV00058;seqs=641221;samples=1619': 0.00896180675028934, 'ASV00099;seqs=324118;samples=535': 7.820075698332757e-06, 'ASV00109;seqs=292857;samples=522': 7.820075698332757e-06, 'ASV00131;seqs=228350;samples=476': 0.048554850010948086, 'ASV00142;seqs=232340;samples=215': 7.820075698332757e-06, 'ASV00170;seqs=173585;samples=145': 0.0001498847842180445, 'ASV00174;seqs=168097;samples=70': 9.775094622915947e-05, 'ASV00192;seqs=153897;samples=185': 1.1730113547499136e-05, 'ASV00208;seqs=147389;samples=777': 0.01712205574149957, 'ASV00239;seqs=120783;samples=1230': 0.009399730989395973, 'ASV00240;seqs=106587;samples=647': 1.4336805446943387e-05, 'ASV00242;seqs=106523;samples=69': 2.3460227094998272e-05, 'ASV00302;seqs=78715;samples=316': 5.604387583805143e-05, 'ASV00410;seqs=51580;samples=142': 4.561710824027442e-05, 'ASV00519;seqs=37787;samples=49': 3.128030279333103e-05, 'ASV00555;seqs=34715;samples=589': 6.386395153638417e-05, 'ASV00564;seqs=36645;samples=643': 0.0011691013169007473, 'ASV00895;seqs=15764;samples=276': 0.000516124996089962, 'ASV00903;seqs=15426;samples=48': 6.516729748610629e-06, 'ASV00913;seqs=15231;samples=26': 0.005096082663413513, 'ASV01569;seqs=5738;samples=61': 0.00023199557905053848, 'ASV02079;seqs=3176;samples=69': 2.0853535195554017e-05, 'ASV03716;seqs=853;samples=24': 1.824684329610977e-05, 'ASV03883;seqs=765;samples=32': 3.910037849166379e-05, 'ASV04165;seqs=643;samples=20': 5.083049203916292e-05, 'ASV04297;seqs=595;samples=13': 0.00010687436787721435, 'ASV05771;seqs=299;samples=17': 1.4336805446943387e-05, 'ASV06060;seqs=263;samples=10': 1.824684329610977e-05, 'ASV06113;seqs=258;samples=9': 2.4763573044720396e-05, 'ASV08110;seqs=126;samples=7': 4.822380013971867e-05, 'ASV08433;seqs=114;samples=6': 1.694349734638764e-05, 'ASV09422;seqs=85;samples=3': 1.3033459497221263e-05, 'ASV10516;seqs=64;samples=3': 3.649368659221954e-05, 'ASV10593;seqs=63;samples=4': 7.820075698332757e-06}\n",
      "RC-ABX_15.5 3 ['ASV00004;seqs=6473178;samples=1764', 'ASV00006;seqs=5698377;samples=2075', 'ASV00037;seqs=790233;samples=478']\n",
      "RC-ABX_15.5 {'ASV00003;seqs=7068340;samples=1916': 0.0002984662224863669, 'ASV00004;seqs=6473178;samples=1764': 0.42671155390117493, 'ASV00005;seqs=5940024;samples=3018': 0.00013294128687165688, 'ASV00006;seqs=5698377;samples=2075': 0.303404600289864, 'ASV00006;seqs=7202691;samples=2041': 0.0019862992273765204, 'ASV00008;seqs=3358093;samples=2591': 0.0008224112942746617, 'ASV00011;seqs=3029063;samples=663': 0.00013033459497221263, 'ASV00030;seqs=1023078;samples=1476': 0.011894335137164124, 'ASV00030;seqs=967751;samples=1354': 0.0008680284025149361, 'ASV00037;seqs=790233;samples=478': 0.12822969126341138, 'ASV00041;seqs=738577;samples=964': 3.910037849166379e-06, 'ASV00057;seqs=537929;samples=1455': 0.03352596786470226, 'ASV00058;seqs=641221;samples=1619': 0.00896180675028934, 'ASV00099;seqs=324118;samples=535': 7.820075698332757e-06, 'ASV00109;seqs=292857;samples=522': 7.820075698332757e-06, 'ASV00131;seqs=228350;samples=476': 0.048554850010948086, 'ASV00142;seqs=232340;samples=215': 7.820075698332757e-06, 'ASV00170;seqs=173585;samples=145': 0.0001498847842180445, 'ASV00174;seqs=168097;samples=70': 9.775094622915947e-05, 'ASV00192;seqs=153897;samples=185': 1.1730113547499136e-05, 'ASV00208;seqs=147389;samples=777': 0.01712205574149957, 'ASV00239;seqs=120783;samples=1230': 0.009399730989395973, 'ASV00240;seqs=106587;samples=647': 1.4336805446943387e-05, 'ASV00242;seqs=106523;samples=69': 2.3460227094998272e-05, 'ASV00302;seqs=78715;samples=316': 5.604387583805143e-05, 'ASV00410;seqs=51580;samples=142': 4.561710824027442e-05, 'ASV00519;seqs=37787;samples=49': 3.128030279333103e-05, 'ASV00555;seqs=34715;samples=589': 6.386395153638417e-05, 'ASV00564;seqs=36645;samples=643': 0.0011691013169007473, 'ASV00895;seqs=15764;samples=276': 0.000516124996089962, 'ASV00903;seqs=15426;samples=48': 6.516729748610629e-06, 'ASV00913;seqs=15231;samples=26': 0.005096082663413513, 'ASV01569;seqs=5738;samples=61': 0.00023199557905053848, 'ASV02079;seqs=3176;samples=69': 2.0853535195554017e-05, 'ASV03716;seqs=853;samples=24': 1.824684329610977e-05, 'ASV03883;seqs=765;samples=32': 3.910037849166379e-05, 'ASV04165;seqs=643;samples=20': 5.083049203916292e-05, 'ASV04297;seqs=595;samples=13': 0.00010687436787721435, 'ASV05771;seqs=299;samples=17': 1.4336805446943387e-05, 'ASV06060;seqs=263;samples=10': 1.824684329610977e-05, 'ASV06113;seqs=258;samples=9': 2.4763573044720396e-05, 'ASV08110;seqs=126;samples=7': 4.822380013971867e-05, 'ASV08433;seqs=114;samples=6': 1.694349734638764e-05, 'ASV09422;seqs=85;samples=3': 1.3033459497221263e-05, 'ASV10516;seqs=64;samples=3': 3.649368659221954e-05, 'ASV10593;seqs=63;samples=4': 7.820075698332757e-06}\n"
     ]
    }
   ],
   "source": [
    "for sample, abduances in asv_abundances.items():\n",
    "    print(sample, len([asv for asv, abundance in abundances.items() if abundance >= .1]), [asv for asv, abundance in abundances.items() if abundance >= .1])\n",
    "    print(sample, abundances)"
   ]
  },
  {
   "cell_type": "markdown",
   "metadata": {},
   "source": [
    "# prFBA"
   ]
  },
  {
   "cell_type": "code",
   "execution_count": 5,
   "metadata": {},
   "outputs": [
    {
     "name": "stdout",
     "output_type": "stream",
     "text": [
      "27.725959284460085\n",
      "56.68698654486955\n",
      "61.31706668406403\n",
      "59.10664760655559\n",
      "35.424334876054765\n",
      "42.45084232543935\n",
      "73.66210479787416\n"
     ]
    }
   ],
   "source": [
    "# define fraction of max growth\n",
    "fraction_optimal_growth = 0.8\n",
    "if \"constraints\" not in globals():\n",
    "    with open(\"constraints.json\", \"r\") as jsonIn:   constraints = load(jsonIn)\n",
    "for sample in asv_abundances:\n",
    "    if sample not in newmodels:  continue\n",
    "    if \"objconst\" in constraints[sample]:  newmodels[sample].remove_cons_vars(constraints[sample][\"objconst\"])\n",
    "    obj_value = newmodels[sample].slim_optimize()\n",
    "    coef = newmodels[sample].solver.objective.get_linear_coefficients(newmodels[sample].solver.objective.variables)\n",
    "    constraints[sample][\"objconst\"] = newmodels[sample].problem.Constraint(\n",
    "        Zero, lb=0.8*obj_value, ub=None, name=\"objconst\")\n",
    "    newmodels[sample].add_cons_vars(constraints[sample][\"objconst\"])\n",
    "    newmodels[sample].solver.update()\n",
    "    constraints[sample][\"objconst\"].set_linear_coefficients(coef)\n",
    "\n",
    "# minimizing probability and maximally mapping to metabolomics\n",
    "prob_exp = 1  ;  min_prob = 0.05  ;  ex_weight = 10  ;  media_coef = 100\n",
    "solutions = {}\n",
    "for sample in asv_abundances:\n",
    "    if sample not in newmodels:  continue\n",
    "    coef = {}\n",
    "    row = metabolomics_data[sample]\n",
    "    for rxn in newmodels[sample].reactions:\n",
    "        if rxn.id[0:3] == \"EX_\":\n",
    "            # met_id = \"_\".join(rxn.id.split(\"_\")[1:-1])\n",
    "            met_id = rxn.id[3:-3]\n",
    "            if met_id in row:\n",
    "                if row[met_id] > 0:    coef.update({rxn.forward_variable: -media_coef})\n",
    "                elif row[met_id] < 0:  coef.update({rxn.reverse_variable: -media_coef})\n",
    "            else:\n",
    "                coef.update({rxn.forward_variable: ex_weight})\n",
    "                coef.update({rxn.reverse_variable: ex_weight})\n",
    "        elif \"probability\" in rxn.notes:\n",
    "            prob_coef = max(min_prob, (1 - float(rxn.notes[\"probability\"]) ** prob_exp))\n",
    "            coef.update({rxn.forward_variable: prob_coef})\n",
    "            coef.update({rxn.reverse_variable: prob_coef})\n",
    "    newmodels[sample].objective = newmodels[sample].problem.Objective(Zero, direction=\"min\")\n",
    "    newmodels[sample].objective.set_linear_coefficients(coef)\n",
    "    solutions[sample] = newmodels[sample].optimize().fluxes.to_dict()\n",
    "    print(solutions[sample][\"bio1\"])\n",
    "    with open(f\"{sample}_comm.lp\", \"w\") as out:   out.write(str(newmodels[sample].solver))\n",
    "\n",
    "from json import dump\n",
    "with open(\"solutions.json\", \"w\") as jsonOut:\n",
    "    dump(solutions, jsonOut, indent=3)"
   ]
  },
  {
   "cell_type": "markdown",
   "metadata": {},
   "source": [
    "# Processing the data into CSV form"
   ]
  },
  {
   "cell_type": "code",
   "execution_count": 4,
   "metadata": {},
   "outputs": [
    {
     "data": {
      "text/html": [
       "<div>\n",
       "<style scoped>\n",
       "    .dataframe tbody tr th:only-of-type {\n",
       "        vertical-align: middle;\n",
       "    }\n",
       "\n",
       "    .dataframe tbody tr th {\n",
       "        vertical-align: top;\n",
       "    }\n",
       "\n",
       "    .dataframe thead th {\n",
       "        text-align: right;\n",
       "    }\n",
       "</style>\n",
       "<table border=\"1\" class=\"dataframe\">\n",
       "  <thead>\n",
       "    <tr style=\"text-align: right;\">\n",
       "      <th></th>\n",
       "      <th>RC-ABX_-1.5</th>\n",
       "      <th>RC-ABX_5.5</th>\n",
       "      <th>RC-ABX_4.0</th>\n",
       "      <th>RC-ABX_6.0</th>\n",
       "      <th>RC-ABX_12.5</th>\n",
       "      <th>RC-ABX_21.0</th>\n",
       "      <th>RC-ABX_15.5</th>\n",
       "    </tr>\n",
       "  </thead>\n",
       "  <tbody>\n",
       "    <tr>\n",
       "      <th>26DAPLLATi_ASV00002</th>\n",
       "      <td>0.000005</td>\n",
       "      <td>0.000559</td>\n",
       "      <td>0.0</td>\n",
       "      <td>0.0</td>\n",
       "      <td>0.0</td>\n",
       "      <td>0.000000</td>\n",
       "      <td>0.000000</td>\n",
       "    </tr>\n",
       "    <tr>\n",
       "      <th>2MBCOATA_ASV00002</th>\n",
       "      <td>0.000214</td>\n",
       "      <td>0.000000</td>\n",
       "      <td>0.0</td>\n",
       "      <td>0.0</td>\n",
       "      <td>0.0</td>\n",
       "      <td>0.000000</td>\n",
       "      <td>0.000000</td>\n",
       "    </tr>\n",
       "    <tr>\n",
       "      <th>2OBUTt2r_ASV00002</th>\n",
       "      <td>-0.000061</td>\n",
       "      <td>0.000000</td>\n",
       "      <td>0.0</td>\n",
       "      <td>0.0</td>\n",
       "      <td>0.0</td>\n",
       "      <td>0.000000</td>\n",
       "      <td>0.000000</td>\n",
       "    </tr>\n",
       "    <tr>\n",
       "      <th>3HAD10M12_ASV00002</th>\n",
       "      <td>0.000214</td>\n",
       "      <td>0.000000</td>\n",
       "      <td>0.0</td>\n",
       "      <td>0.0</td>\n",
       "      <td>0.0</td>\n",
       "      <td>0.000000</td>\n",
       "      <td>0.000000</td>\n",
       "    </tr>\n",
       "    <tr>\n",
       "      <th>3HAD11M12_ASV00002</th>\n",
       "      <td>0.000214</td>\n",
       "      <td>0.000000</td>\n",
       "      <td>0.0</td>\n",
       "      <td>0.0</td>\n",
       "      <td>0.0</td>\n",
       "      <td>0.000000</td>\n",
       "      <td>0.000000</td>\n",
       "    </tr>\n",
       "    <tr>\n",
       "      <th>...</th>\n",
       "      <td>...</td>\n",
       "      <td>...</td>\n",
       "      <td>...</td>\n",
       "      <td>...</td>\n",
       "      <td>...</td>\n",
       "      <td>...</td>\n",
       "      <td>...</td>\n",
       "    </tr>\n",
       "    <tr>\n",
       "      <th>ORNtex_ASV00142</th>\n",
       "      <td>0.000000</td>\n",
       "      <td>0.000000</td>\n",
       "      <td>0.0</td>\n",
       "      <td>0.0</td>\n",
       "      <td>0.0</td>\n",
       "      <td>-0.000406</td>\n",
       "      <td>-0.000142</td>\n",
       "    </tr>\n",
       "    <tr>\n",
       "      <th>PROt4pp_ASV00142</th>\n",
       "      <td>0.000000</td>\n",
       "      <td>0.000000</td>\n",
       "      <td>0.0</td>\n",
       "      <td>0.0</td>\n",
       "      <td>0.0</td>\n",
       "      <td>0.000000</td>\n",
       "      <td>0.000106</td>\n",
       "    </tr>\n",
       "    <tr>\n",
       "      <th>SO4t2pp_ASV00142</th>\n",
       "      <td>0.000000</td>\n",
       "      <td>0.000000</td>\n",
       "      <td>0.0</td>\n",
       "      <td>0.0</td>\n",
       "      <td>0.0</td>\n",
       "      <td>0.000017</td>\n",
       "      <td>0.000002</td>\n",
       "    </tr>\n",
       "    <tr>\n",
       "      <th>r1667pp_ASV00142</th>\n",
       "      <td>0.000000</td>\n",
       "      <td>0.000000</td>\n",
       "      <td>0.0</td>\n",
       "      <td>0.0</td>\n",
       "      <td>0.0</td>\n",
       "      <td>0.000406</td>\n",
       "      <td>0.000142</td>\n",
       "    </tr>\n",
       "    <tr>\n",
       "      <th>biomass338_ASV00142</th>\n",
       "      <td>0.000000</td>\n",
       "      <td>0.000000</td>\n",
       "      <td>0.0</td>\n",
       "      <td>0.0</td>\n",
       "      <td>0.0</td>\n",
       "      <td>0.000000</td>\n",
       "      <td>0.000576</td>\n",
       "    </tr>\n",
       "  </tbody>\n",
       "</table>\n",
       "<p>32616 rows × 7 columns</p>\n",
       "</div>"
      ],
      "text/plain": [
       "                     RC-ABX_-1.5  RC-ABX_5.5  ...  RC-ABX_21.0  RC-ABX_15.5\n",
       "26DAPLLATi_ASV00002     0.000005    0.000559  ...     0.000000     0.000000\n",
       "2MBCOATA_ASV00002       0.000214    0.000000  ...     0.000000     0.000000\n",
       "2OBUTt2r_ASV00002      -0.000061    0.000000  ...     0.000000     0.000000\n",
       "3HAD10M12_ASV00002      0.000214    0.000000  ...     0.000000     0.000000\n",
       "3HAD11M12_ASV00002      0.000214    0.000000  ...     0.000000     0.000000\n",
       "...                          ...         ...  ...          ...          ...\n",
       "ORNtex_ASV00142         0.000000    0.000000  ...    -0.000406    -0.000142\n",
       "PROt4pp_ASV00142        0.000000    0.000000  ...     0.000000     0.000106\n",
       "SO4t2pp_ASV00142        0.000000    0.000000  ...     0.000017     0.000002\n",
       "r1667pp_ASV00142        0.000000    0.000000  ...     0.000406     0.000142\n",
       "biomass338_ASV00142     0.000000    0.000000  ...     0.000000     0.000576\n",
       "\n",
       "[32616 rows x 7 columns]"
      ]
     },
     "metadata": {},
     "output_type": "display_data"
    }
   ],
   "source": [
    "from json import load\n",
    "with open(\"solutions.json\") as jsonIn:   solutions = load(jsonIn)\n",
    "\n",
    "from pandas import DataFrame\n",
    "df = DataFrame(solutions).fillna(float(0))\n",
    "df = df.loc[~(df==0).all(axis=1)]\n",
    "display(df)\n",
    "df.to_csv(\"solutions.csv\")"
   ]
  },
  {
   "cell_type": "code",
   "execution_count": null,
   "metadata": {},
   "outputs": [],
   "source": [
    "# TODO\n",
    "## review the solutions to ensure that the exchanges fluxes of metabolomics data have non-zero fluxes, and adjust the media_coef value accordingly\n",
    "## Use Escher maps to visualize the delocalized community interactions among the member pathways"
   ]
  }
 ],
 "metadata": {
  "kernelspec": {
   "display_name": "base",
   "language": "python",
   "name": "python3"
  },
  "language_info": {
   "codemirror_mode": {
    "name": "ipython",
    "version": 3
   },
   "file_extension": ".py",
   "mimetype": "text/x-python",
   "name": "python",
   "nbconvert_exporter": "python",
   "pygments_lexer": "ipython3",
   "version": "3.10.6"
  }
 },
 "nbformat": 4,
 "nbformat_minor": 4
}
