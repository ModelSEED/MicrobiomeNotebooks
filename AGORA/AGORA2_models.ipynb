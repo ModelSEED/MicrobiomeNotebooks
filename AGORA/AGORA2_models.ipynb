{
 "cells": [
  {
   "cell_type": "markdown",
   "metadata": {
    "tags": []
   },
   "source": [
    "# Copying all AGORA genomes into KBase narrative"
   ]
  },
  {
   "cell_type": "code",
   "execution_count": null,
   "metadata": {},
   "outputs": [],
   "source": [
    "ws_client = util.ws_client()\n",
    "workspace_id = 19217\n",
    "done = False\n",
    "skip = 0\n",
    "full_output = {}\n",
    "start_after = None\n",
    "while not done:\n",
    "    input = {\n",
    "        \"ids\":[workspace_id],\n",
    "        \"includeMetadata\":1,\n",
    "        \"type\":\"KBaseGenomes.Genome\"\n",
    "    }\n",
    "    if start_after:\n",
    "        input[\"startafter\"] = start_after\n",
    "    output = ws_client.list_objects(input)\n",
    "    start_after = str(workspace_id)+\"/\"+str(output[-1][0])\n",
    "    for item in output:\n",
    "        full_output[item[1]] = item\n",
    "    print(len(output),\"/\",len(full_output),start_after)\n",
    "    if len(output) < 5000:\n",
    "        done = True\n",
    "with open('genomelist.txt', 'r') as file:\n",
    "    genomelist = [line.strip() for line in file.readlines()]\n",
    "output = ws_client.list_objects({\"ids\":[178418]})\n",
    "model_hash = {}\n",
    "for item in output:\n",
    "    model_hash[item[1]] = item\n",
    "for item in genomelist:\n",
    "    if item in full_output and item not in model_hash:\n",
    "        print(item)\n",
    "        ws_client.copy_object({\n",
    "            \"to\":{\"wsid\":178418,\"name\":item},\n",
    "            \"from\":{\"wsid\":19217,\"name\":item}\n",
    "        })\n",
    "    elif item not in full_output:\n",
    "        print(\"Missing\",item)"
   ]
  },
  {
   "cell_type": "markdown",
   "metadata": {},
   "source": [
    "# compute FVA for all individual AGORA2 models that load (~6/7 of the models)"
   ]
  },
  {
   "cell_type": "code",
   "execution_count": null,
   "metadata": {},
   "outputs": [],
   "source": [
    "from cobra.flux_analysis.variability import flux_variability_analysis\n",
    "from cobra.io import read_sbml_model\n",
    "from glob import glob\n",
    "from os import path\n",
    "\n",
    "def remove_groups(model_path):\n",
    "    # print(f\"{model_path}\\t\\t\\t\\t\\t\", end=\"\\r\")\n",
    "    try:\n",
    "        model = read_sbml_model(model_path)\n",
    "        # if path.exists(f\"AGORA2_fva/{model.id}_fva.csv\"):  pass\n",
    "        # else:\n",
    "        fva_csv = flux_variability_analysis(model)\n",
    "        fva_csv.to_csv(f\"AGORA2_fva/{model.id}_fva.csv\")\n",
    "    except:  print(\"\\t\\t\", model_path)\n",
    "    \n",
    "\n",
    "from datetime import datetime  ;  from multiprocess import Pool\n",
    "pool = Pool(6)\n",
    "pool.map(remove_groups, [model_path for model_path in [model_path for model_path in glob(\"AGORA2/*.xml\")] \n",
    "                         if not path.exists(f\"AGORA2_fva/M_{path.split(model_path)[1].replace('.xml', '')}_fva.csv\")])"
   ]
  },
  {
   "cell_type": "code",
   "execution_count": null,
   "metadata": {},
   "outputs": [],
   "source": [
    "from cobra.flux_analysis.variability import flux_variability_analysis\n",
    "from cobra.io import read_sbml_model\n",
    "from glob import glob\n",
    "from os import path\n",
    "\n",
    "for model_path in glob(\"AGORA2/*.xml\"):\n",
    "    if path.exists(path.join(\"AGORA2_fva\", f\"{path.split(model_path)[1]}_fva.csv\")):  continue\n",
    "    print(f\"{model_path}\\t\\t\\t\\t\\t\", end=\"\\r\")\n",
    "    try:\n",
    "        model = read_sbml_model(model_path)\n",
    "        fva_csv = flux_variability_analysis(model)\n",
    "        fva_csv.to_csv(f\"AGORA2_fva/{model.id}_fva.csv\")\n",
    "    except Exception as e:   print(\"\\t\\t\", model_path)\n"
   ]
  },
  {
   "cell_type": "markdown",
   "metadata": {},
   "source": [
    "# parse metabolite production/consumption from the FVA data"
   ]
  },
  {
   "cell_type": "code",
   "execution_count": null,
   "metadata": {},
   "outputs": [],
   "source": []
  }
 ],
 "metadata": {
  "kernelspec": {
   "display_name": "Python 3 (ipykernel)",
   "language": "python",
   "name": "python3"
  },
  "language_info": {
   "codemirror_mode": {
    "name": "ipython",
    "version": 3
   },
   "file_extension": ".py",
   "mimetype": "text/x-python",
   "name": "python",
   "nbconvert_exporter": "python",
   "pygments_lexer": "ipython3",
   "version": "3.11.1"
  },
  "vscode": {
   "interpreter": {
    "hash": "31f2aee4e71d21fbe5cf8b01ff0e069b9275f58929596ceb00d14d90e3e16cd6"
   }
  }
 },
 "nbformat": 4,
 "nbformat_minor": 4
}
