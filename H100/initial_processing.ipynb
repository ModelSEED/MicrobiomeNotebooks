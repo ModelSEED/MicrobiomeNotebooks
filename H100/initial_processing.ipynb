{
 "cells": [
  {
   "cell_type": "code",
   "execution_count": 1,
   "metadata": {},
   "outputs": [
    {
     "name": "stderr",
     "output_type": "stream",
     "text": [
      "/Users/andrewfreiburger/Library/Python/3.9/lib/python/site-packages/urllib3/__init__.py:35: NotOpenSSLWarning: urllib3 v2 only supports OpenSSL 1.1.1+, currently the 'ssl' module is compiled with 'LibreSSL 2.8.3'. See: https://github.com/urllib3/urllib3/issues/3020\n",
      "  warnings.warn(\n"
     ]
    },
    {
     "name": "stdout",
     "output_type": "stream",
     "text": [
      "modelseedpy 0.3.3\n"
     ]
    },
    {
     "name": "stderr",
     "output_type": "stream",
     "text": [
      "Matplotlib is building the font cache; this may take a moment.\n"
     ]
    }
   ],
   "source": [
    "from modelseedpy.biochem import from_local\n",
    "\n",
    "msdb = from_local(\"../../ModelSEEDDatabase\")"
   ]
  },
  {
   "cell_type": "code",
   "execution_count": 3,
   "metadata": {},
   "outputs": [
    {
     "data": {
      "text/plain": [
       "{'cpd00205': 0.0007401924500370097,\n",
       " 'cpd00009': 0.0007401924500370097,\n",
       " 'cpd00971': 0.015086206896551725,\n",
       " 'cpd00013': 0.009868421052631578,\n",
       " 'cpd00084': 0.004132231404958678,\n",
       " 'cpd00254': 0.00010106382978723403,\n",
       " 'cpd00099': 0.015302880010671647,\n",
       " 'cpd10515': 2.635046113306983e-06,\n",
       " 'cpd00048': 0.009871056098744885,\n",
       " 'cpd01401': 0.0058077742866601235,\n",
       " 'cpd00363': 1.712472885032538e-05,\n",
       " 'cpd00063': 7.272727272727273e-06}"
      ]
     },
     "metadata": {},
     "output_type": "display_data"
    },
    {
     "data": {
      "text/plain": [
       "{'cpd00205': 'potassium phosphate buffer',\n",
       " 'cpd00009': 'potassium phosphate buffer',\n",
       " 'cpd00971': 'NaCl',\n",
       " 'cpd00013': '1.125 g (NH4)2SO4',\n",
       " 'cpd00084': '0.5 g L-cysteine',\n",
       " 'cpd00119': '1.0 mL of histidine-hematin',\n",
       " 'cpd23054': '1.0 mL of histidine-hematin',\n",
       " 'cpd00254': '9.5 mg MgCl2',\n",
       " 'cpd00099': '9.5 mg MgCl2',\n",
       " 'cpd10515': '1 mL of 0.4 mg/mL FeSO4•7H2O',\n",
       " 'cpd00048': '1 mL of 0.4 mg/mL FeSO4•7H2O',\n",
       " 'cpd01401': '1 mL of 1 mg/mL Vitamin K3 (40 mg Vitamin K3 in 40 mL ethanol)',\n",
       " 'cpd00363': '1 mL of 1 mg/mL Vitamin K3 (40 mg Vitamin K3 in 40 mL ethanol)',\n",
       " 'cpd05098': '1 mL of 0.8% w/v CaCl2'}"
      ]
     },
     "metadata": {},
     "output_type": "display_data"
    },
    {
     "data": {
      "text/plain": [
       "{'potassium phosphate buffer': 'cpd00009',\n",
       " 'NaCl': 'cpd00971',\n",
       " '1.125 g (NH4)2SO4': 'cpd00013',\n",
       " '0.5 g L-cysteine': 'cpd00084',\n",
       " '1.0 mL of histidine-hematin': 'cpd23054',\n",
       " '9.5 mg MgCl2': 'cpd00099',\n",
       " '1 mL of 0.4 mg/mL FeSO4•7H2O': 'cpd00048',\n",
       " '1 mL of 1 mg/mL Vitamin K3 (40 mg Vitamin K3 in 40 mL ethanol)': 'cpd00363',\n",
       " '1 mL of 0.8% w/v CaCl2': 'cpd05098'}"
      ]
     },
     "metadata": {},
     "output_type": "display_data"
    },
    {
     "ename": "ImportError",
     "evalue": "Missing optional dependency 'xlrd'. Install xlrd >= 2.0.1 for xls Excel support Use pip or conda to install xlrd.",
     "output_type": "error",
     "traceback": [
      "\u001b[0;31m---------------------------------------------------------------------------\u001b[0m",
      "\u001b[0;31mModuleNotFoundError\u001b[0m                       Traceback (most recent call last)",
      "File \u001b[0;32m~/Library/Python/3.9/lib/python/site-packages/pandas/compat/_optional.py:135\u001b[0m, in \u001b[0;36mimport_optional_dependency\u001b[0;34m(name, extra, errors, min_version)\u001b[0m\n\u001b[1;32m    134\u001b[0m \u001b[38;5;28;01mtry\u001b[39;00m:\n\u001b[0;32m--> 135\u001b[0m     module \u001b[38;5;241m=\u001b[39m \u001b[43mimportlib\u001b[49m\u001b[38;5;241;43m.\u001b[39;49m\u001b[43mimport_module\u001b[49m\u001b[43m(\u001b[49m\u001b[43mname\u001b[49m\u001b[43m)\u001b[49m\n\u001b[1;32m    136\u001b[0m \u001b[38;5;28;01mexcept\u001b[39;00m \u001b[38;5;167;01mImportError\u001b[39;00m:\n",
      "File \u001b[0;32m/Library/Developer/CommandLineTools/Library/Frameworks/Python3.framework/Versions/3.9/lib/python3.9/importlib/__init__.py:127\u001b[0m, in \u001b[0;36mimport_module\u001b[0;34m(name, package)\u001b[0m\n\u001b[1;32m    126\u001b[0m         level \u001b[38;5;241m+\u001b[39m\u001b[38;5;241m=\u001b[39m \u001b[38;5;241m1\u001b[39m\n\u001b[0;32m--> 127\u001b[0m \u001b[38;5;28;01mreturn\u001b[39;00m \u001b[43m_bootstrap\u001b[49m\u001b[38;5;241;43m.\u001b[39;49m\u001b[43m_gcd_import\u001b[49m\u001b[43m(\u001b[49m\u001b[43mname\u001b[49m\u001b[43m[\u001b[49m\u001b[43mlevel\u001b[49m\u001b[43m:\u001b[49m\u001b[43m]\u001b[49m\u001b[43m,\u001b[49m\u001b[43m \u001b[49m\u001b[43mpackage\u001b[49m\u001b[43m,\u001b[49m\u001b[43m \u001b[49m\u001b[43mlevel\u001b[49m\u001b[43m)\u001b[49m\n",
      "File \u001b[0;32m<frozen importlib._bootstrap>:1030\u001b[0m, in \u001b[0;36m_gcd_import\u001b[0;34m(name, package, level)\u001b[0m\n",
      "File \u001b[0;32m<frozen importlib._bootstrap>:1007\u001b[0m, in \u001b[0;36m_find_and_load\u001b[0;34m(name, import_)\u001b[0m\n",
      "File \u001b[0;32m<frozen importlib._bootstrap>:984\u001b[0m, in \u001b[0;36m_find_and_load_unlocked\u001b[0;34m(name, import_)\u001b[0m\n",
      "\u001b[0;31mModuleNotFoundError\u001b[0m: No module named 'xlrd'",
      "\nDuring handling of the above exception, another exception occurred:\n",
      "\u001b[0;31mImportError\u001b[0m                               Traceback (most recent call last)",
      "Cell \u001b[0;32mIn[3], line 76\u001b[0m\n\u001b[1;32m     73\u001b[0m csvs \u001b[38;5;241m=\u001b[39m {}\n\u001b[1;32m     74\u001b[0m \u001b[38;5;28;01mfor\u001b[39;00m xls \u001b[38;5;129;01min\u001b[39;00m glob(\u001b[38;5;124m\"\u001b[39m\u001b[38;5;124m/Users/andrewfreiburger/Documents/MicrobiomeNotebooks/H100/Files for Network Modeling/*.xls\u001b[39m\u001b[38;5;124m\"\u001b[39m):\n\u001b[1;32m     75\u001b[0m     \u001b[38;5;66;03m# print(path.basename(xls))\u001b[39;00m\n\u001b[0;32m---> 76\u001b[0m     csvs[xls] \u001b[38;5;241m=\u001b[39m \u001b[43mread_excel\u001b[49m\u001b[43m(\u001b[49m\u001b[43mxls\u001b[49m\u001b[43m)\u001b[49m\n\u001b[1;32m     77\u001b[0m \u001b[38;5;28;01mfor\u001b[39;00m xlsx \u001b[38;5;129;01min\u001b[39;00m glob(\u001b[38;5;124m\"\u001b[39m\u001b[38;5;124m/Users/andrewfreiburger/Documents/MicrobiomeNotebooks/H100/Files for Network Modeling/*.xlsx\u001b[39m\u001b[38;5;124m\"\u001b[39m):\n\u001b[1;32m     78\u001b[0m     \u001b[38;5;66;03m# print(path.basename(xlsx))\u001b[39;00m\n\u001b[1;32m     79\u001b[0m     excel \u001b[38;5;241m=\u001b[39m read_excel(xlsx)\n",
      "File \u001b[0;32m~/Library/Python/3.9/lib/python/site-packages/pandas/io/excel/_base.py:495\u001b[0m, in \u001b[0;36mread_excel\u001b[0;34m(io, sheet_name, header, names, index_col, usecols, dtype, engine, converters, true_values, false_values, skiprows, nrows, na_values, keep_default_na, na_filter, verbose, parse_dates, date_parser, date_format, thousands, decimal, comment, skipfooter, storage_options, dtype_backend, engine_kwargs)\u001b[0m\n\u001b[1;32m    493\u001b[0m \u001b[38;5;28;01mif\u001b[39;00m \u001b[38;5;129;01mnot\u001b[39;00m \u001b[38;5;28misinstance\u001b[39m(io, ExcelFile):\n\u001b[1;32m    494\u001b[0m     should_close \u001b[38;5;241m=\u001b[39m \u001b[38;5;28;01mTrue\u001b[39;00m\n\u001b[0;32m--> 495\u001b[0m     io \u001b[38;5;241m=\u001b[39m \u001b[43mExcelFile\u001b[49m\u001b[43m(\u001b[49m\n\u001b[1;32m    496\u001b[0m \u001b[43m        \u001b[49m\u001b[43mio\u001b[49m\u001b[43m,\u001b[49m\n\u001b[1;32m    497\u001b[0m \u001b[43m        \u001b[49m\u001b[43mstorage_options\u001b[49m\u001b[38;5;241;43m=\u001b[39;49m\u001b[43mstorage_options\u001b[49m\u001b[43m,\u001b[49m\n\u001b[1;32m    498\u001b[0m \u001b[43m        \u001b[49m\u001b[43mengine\u001b[49m\u001b[38;5;241;43m=\u001b[39;49m\u001b[43mengine\u001b[49m\u001b[43m,\u001b[49m\n\u001b[1;32m    499\u001b[0m \u001b[43m        \u001b[49m\u001b[43mengine_kwargs\u001b[49m\u001b[38;5;241;43m=\u001b[39;49m\u001b[43mengine_kwargs\u001b[49m\u001b[43m,\u001b[49m\n\u001b[1;32m    500\u001b[0m \u001b[43m    \u001b[49m\u001b[43m)\u001b[49m\n\u001b[1;32m    501\u001b[0m \u001b[38;5;28;01melif\u001b[39;00m engine \u001b[38;5;129;01mand\u001b[39;00m engine \u001b[38;5;241m!=\u001b[39m io\u001b[38;5;241m.\u001b[39mengine:\n\u001b[1;32m    502\u001b[0m     \u001b[38;5;28;01mraise\u001b[39;00m \u001b[38;5;167;01mValueError\u001b[39;00m(\n\u001b[1;32m    503\u001b[0m         \u001b[38;5;124m\"\u001b[39m\u001b[38;5;124mEngine should not be specified when passing \u001b[39m\u001b[38;5;124m\"\u001b[39m\n\u001b[1;32m    504\u001b[0m         \u001b[38;5;124m\"\u001b[39m\u001b[38;5;124man ExcelFile - ExcelFile already has the engine set\u001b[39m\u001b[38;5;124m\"\u001b[39m\n\u001b[1;32m    505\u001b[0m     )\n",
      "File \u001b[0;32m~/Library/Python/3.9/lib/python/site-packages/pandas/io/excel/_base.py:1567\u001b[0m, in \u001b[0;36mExcelFile.__init__\u001b[0;34m(self, path_or_buffer, engine, storage_options, engine_kwargs)\u001b[0m\n\u001b[1;32m   1564\u001b[0m \u001b[38;5;28mself\u001b[39m\u001b[38;5;241m.\u001b[39mengine \u001b[38;5;241m=\u001b[39m engine\n\u001b[1;32m   1565\u001b[0m \u001b[38;5;28mself\u001b[39m\u001b[38;5;241m.\u001b[39mstorage_options \u001b[38;5;241m=\u001b[39m storage_options\n\u001b[0;32m-> 1567\u001b[0m \u001b[38;5;28mself\u001b[39m\u001b[38;5;241m.\u001b[39m_reader \u001b[38;5;241m=\u001b[39m \u001b[38;5;28;43mself\u001b[39;49m\u001b[38;5;241;43m.\u001b[39;49m\u001b[43m_engines\u001b[49m\u001b[43m[\u001b[49m\u001b[43mengine\u001b[49m\u001b[43m]\u001b[49m\u001b[43m(\u001b[49m\n\u001b[1;32m   1568\u001b[0m \u001b[43m    \u001b[49m\u001b[38;5;28;43mself\u001b[39;49m\u001b[38;5;241;43m.\u001b[39;49m\u001b[43m_io\u001b[49m\u001b[43m,\u001b[49m\n\u001b[1;32m   1569\u001b[0m \u001b[43m    \u001b[49m\u001b[43mstorage_options\u001b[49m\u001b[38;5;241;43m=\u001b[39;49m\u001b[43mstorage_options\u001b[49m\u001b[43m,\u001b[49m\n\u001b[1;32m   1570\u001b[0m \u001b[43m    \u001b[49m\u001b[43mengine_kwargs\u001b[49m\u001b[38;5;241;43m=\u001b[39;49m\u001b[43mengine_kwargs\u001b[49m\u001b[43m,\u001b[49m\n\u001b[1;32m   1571\u001b[0m \u001b[43m\u001b[49m\u001b[43m)\u001b[49m\n",
      "File \u001b[0;32m~/Library/Python/3.9/lib/python/site-packages/pandas/io/excel/_xlrd.py:45\u001b[0m, in \u001b[0;36mXlrdReader.__init__\u001b[0;34m(self, filepath_or_buffer, storage_options, engine_kwargs)\u001b[0m\n\u001b[1;32m     33\u001b[0m \u001b[38;5;250m\u001b[39m\u001b[38;5;124;03m\"\"\"\u001b[39;00m\n\u001b[1;32m     34\u001b[0m \u001b[38;5;124;03mReader using xlrd engine.\u001b[39;00m\n\u001b[1;32m     35\u001b[0m \n\u001b[0;32m   (...)\u001b[0m\n\u001b[1;32m     42\u001b[0m \u001b[38;5;124;03m    Arbitrary keyword arguments passed to excel engine.\u001b[39;00m\n\u001b[1;32m     43\u001b[0m \u001b[38;5;124;03m\"\"\"\u001b[39;00m\n\u001b[1;32m     44\u001b[0m err_msg \u001b[38;5;241m=\u001b[39m \u001b[38;5;124m\"\u001b[39m\u001b[38;5;124mInstall xlrd >= 2.0.1 for xls Excel support\u001b[39m\u001b[38;5;124m\"\u001b[39m\n\u001b[0;32m---> 45\u001b[0m \u001b[43mimport_optional_dependency\u001b[49m\u001b[43m(\u001b[49m\u001b[38;5;124;43m\"\u001b[39;49m\u001b[38;5;124;43mxlrd\u001b[39;49m\u001b[38;5;124;43m\"\u001b[39;49m\u001b[43m,\u001b[49m\u001b[43m \u001b[49m\u001b[43mextra\u001b[49m\u001b[38;5;241;43m=\u001b[39;49m\u001b[43merr_msg\u001b[49m\u001b[43m)\u001b[49m\n\u001b[1;32m     46\u001b[0m \u001b[38;5;28msuper\u001b[39m()\u001b[38;5;241m.\u001b[39m\u001b[38;5;21m__init__\u001b[39m(\n\u001b[1;32m     47\u001b[0m     filepath_or_buffer,\n\u001b[1;32m     48\u001b[0m     storage_options\u001b[38;5;241m=\u001b[39mstorage_options,\n\u001b[1;32m     49\u001b[0m     engine_kwargs\u001b[38;5;241m=\u001b[39mengine_kwargs,\n\u001b[1;32m     50\u001b[0m )\n",
      "File \u001b[0;32m~/Library/Python/3.9/lib/python/site-packages/pandas/compat/_optional.py:138\u001b[0m, in \u001b[0;36mimport_optional_dependency\u001b[0;34m(name, extra, errors, min_version)\u001b[0m\n\u001b[1;32m    136\u001b[0m \u001b[38;5;28;01mexcept\u001b[39;00m \u001b[38;5;167;01mImportError\u001b[39;00m:\n\u001b[1;32m    137\u001b[0m     \u001b[38;5;28;01mif\u001b[39;00m errors \u001b[38;5;241m==\u001b[39m \u001b[38;5;124m\"\u001b[39m\u001b[38;5;124mraise\u001b[39m\u001b[38;5;124m\"\u001b[39m:\n\u001b[0;32m--> 138\u001b[0m         \u001b[38;5;28;01mraise\u001b[39;00m \u001b[38;5;167;01mImportError\u001b[39;00m(msg)\n\u001b[1;32m    139\u001b[0m     \u001b[38;5;28;01mreturn\u001b[39;00m \u001b[38;5;28;01mNone\u001b[39;00m\n\u001b[1;32m    141\u001b[0m \u001b[38;5;66;03m# Handle submodules: if we have submodule, grab parent module from sys.modules\u001b[39;00m\n",
      "\u001b[0;31mImportError\u001b[0m: Missing optional dependency 'xlrd'. Install xlrd >= 2.0.1 for xls Excel support Use pip or conda to install xlrd."
     ]
    }
   ],
   "source": [
    "from pandas import read_csv, read_excel\n",
    "from os import path\n",
    "from glob import glob\n",
    "\n",
    "descriptions = {\n",
    "    \"20241113_Alice_58_20241111.readFraction.xls\": \"unannotated reads\",\n",
    "    \"24h DNA OD and read fraction.xlsx\": \"DNA concentration (proxy for biomass), OD of community at 3rd passage, and read fractions at 24 hours\",\n",
    "    \"72h DNA OD and read fraction.xlsx\": \"DNA concentration (proxy for biomass), OD of community at 3rd passage, and read fractions at 72 hours\",\n",
    "    \"Inoculum.xlsx\": \"inocula read fractions\",\n",
    "    \"List of Carbohydrates.xlsx\": \"list of fibers and the percent dissolved\\suspended of each fiber\",\n",
    "    \"Mega hCom2 Sequencing read fraction.xls\": \"repeat of reads\",\n",
    "    # \"\"\n",
    "}\n",
    "\n",
    "media_mapping = {\n",
    "    \"cpd00205\": \"potassium phosphate buffer\",   # potassium\n",
    "    \"cpd00009\": \"potassium phosphate buffer\",   # Phosphate\n",
    "\t\"cpd00971\": \"NaCl\", \n",
    "\t\"cpd00013\": \"1.125 g (NH4)2SO4\",\n",
    "\t\"cpd00084\": \"0.5 g L-cysteine\",\n",
    "\t\"cpd00119\": \"1.0 mL of histidine-hematin\",\n",
    "\t\"cpd23054\": \"1.0 mL of histidine-hematin\",   # hematin\n",
    "\t\"cpd00254\": \"9.5 mg MgCl2\",   # Mg+2\n",
    "\t\"cpd00099\": \"9.5 mg MgCl2\",   # Cl\n",
    "\t\"cpd10515\": \"1 mL of 0.4 mg/mL FeSO4•7H2O\",   # Fe+2\n",
    "\t\"cpd00048\": \"1 mL of 0.4 mg/mL FeSO4•7H2O\",   # SO4\n",
    "\t\"cpd01401\": \"1 mL of 1 mg/mL Vitamin K3 (40 mg Vitamin K3 in 40 mL ethanol)\",   # vitamin K1\n",
    "\t\"cpd00363\": \"1 mL of 1 mg/mL Vitamin K3 (40 mg Vitamin K3 in 40 mL ethanol)\",\n",
    "\t\"cpd05098\": \"1 mL of 0.8% w/v CaCl2\",\n",
    "\t# \"10 mL Vitamin Supplement and Trace Mineral Supplement (ATCC)\": \"\",\n",
    "}\n",
    "\n",
    "media_masses = {\n",
    "    \"cpd00205\": ( # potassium\n",
    "        0.1*1 * 39.1/(39.1+96) / 39.1),   # 100 mL of 1 M, pH = 7.2, potassium phosphate buffer\n",
    "    \"cpd00009\": ( # phosphate\n",
    "        0.1*1 * 96/(39.1+96) / 96),    # 100 mL of 1 M, pH = 7.2, potassium phosphate buffer\n",
    "\t\"cpd00971\": ( # sodium\n",
    "        0.875 * 23/(23+35) / 23),      # 0.875 g NaCl\n",
    "\t\"cpd00013\": ( # ammonia\n",
    "        1.125 * 18/(18+96) / 18),      # 1.125 g (NH4)2SO4\n",
    "\t\"cpd00084\": ( # cysteine\n",
    "        0.500/121),    # 0.5 g L-cysteine\n",
    "\t# \"cpd00119\": \"1.0 mL of histidine-hematin\",  # ml, histidine\n",
    "\t# \"cpd23054\": \"1.0 mL of histidine-hematin\",   # ml, hematin\n",
    "\t\"cpd00254\": ( # Mg\n",
    "        .0095 * 24/(24+2*35) / 24),    # 9.5 mg MgCl2\n",
    "\t\"cpd00099\": ( # Cl\n",
    "        (0.875 * 35/(23+35))           # 0.875 g NaCl\n",
    "        + (.0095 * 2*35/(24+2*35))     # 9.5 mg MgCl2\n",
    "        + 1*0.8/1000 * 2*35/(40+2*35)  # 1 mL of 0.8% w/v CaCl2\n",
    "        ) / 35,\n",
    "\t\"cpd10515\": ( # Fe +2\n",
    "        (1*0.4/1000 * 55.8/(55.8+96)) / 55.8),  # 1 mL of 0.4 mg/mL FeSO4•7H2O\n",
    "\t\"cpd00048\": ( # SO4\n",
    "        (1*0.4/1000 * 96/(55.8+96)          # 1 mL of 0.4 mg/mL FeSO4•7H2O\n",
    "         + 1.125 * 96/(18+96)) / 96),       # 1.125 g (NH4)2SO4\n",
    "\t\"cpd01401\": ( # vitamin K3\n",
    "        1*1 / 172.183),  # 1 mL of 1 mg/mL Vitamin K3 (40 mg Vitamin K3 in 40 mL ethanol)\n",
    "\t\"cpd00363\": ( # ethanol\n",
    "        1*0.78945/1000 / 46.1),  # 1 mL of 1 mg/mL Vitamin K3 (40 mg Vitamin K3 in 40 mL ethanol)\n",
    "\t\"cpd00063\": ( # Ca\n",
    "        1*0.8/1000 * 40/(40+2*35) / 40)  # 1 mL of 0.8% w/v CaCl2\n",
    "\t# \"10 mL Vitamin Supplement and Trace Mineral Supplement (ATCC)\": \"\",\n",
    "}\n",
    "\n",
    "display(media_masses)\n",
    "\n",
    "display(media_mapping)\n",
    "mediaCPDs = {v:k for k,v in media_mapping.items()}\n",
    "display(mediaCPDs)\n",
    "\n",
    "csvs = {}\n",
    "for xls in glob(\"/Users/andrewfreiburger/Documents/MicrobiomeNotebooks/H100/Files for Network Modeling/*.xls\"):\n",
    "    # print(path.basename(xls))\n",
    "    csvs[xls] = read_excel(xls)\n",
    "for xlsx in glob(\"/Users/andrewfreiburger/Documents/MicrobiomeNotebooks/H100/Files for Network Modeling/*.xlsx\"):\n",
    "    # print(path.basename(xlsx))\n",
    "    excel = read_excel(xlsx)\n",
    "    # create the mapping\n",
    "    if \"Carbohydrates\" in xlsx:  carbohydrates = dict(zip(\n",
    "        map(int, excel[\"Designated Number\"].to_numpy()), excel[\"Name of Carbohydrate\"].to_numpy()))\n",
    "    # remove the members that Alice specified are erroneously added to the community\n",
    "    elif \"inoculum\" in xlsx:\n",
    "        excel.set_index(\"Strain_Name\", inplace=True)\n",
    "        excel.drop([\"Clostridium-sporogenes-ATCC-15579-MAF-2\",\n",
    "                    \"Ruminococcus-albus-strain-8-MAF-2\", \"Ruminococcus-flavefaciens-FD-1\"], axis=0)\n",
    "    csvs[xlsx] = excel\n",
    "\n",
    "for csv, xlsx in csvs.items():\n",
    "    print(csv)\n",
    "    display(xlsx)"
   ]
  },
  {
   "cell_type": "code",
   "execution_count": 22,
   "metadata": {},
   "outputs": [
    {
     "data": {
      "text/plain": [
       "{1: 'Fucoidan from U. pinnatifida\\xa0',\n",
       " 2: 'Fucoidan from F. versiculosis\\xa0',\n",
       " 3: 'Fucoidan from F. serrestus\\xa0',\n",
       " 4: 'Maltodextrin\\xa0',\n",
       " 5: 'Xylan from Corn Cob\\xa0',\n",
       " 6: 'Arabinogalactan from Larch Wood\\xa0',\n",
       " 7: 'Inulin\\xa0',\n",
       " 8: 'Danisco Pectin\\xa0',\n",
       " 9: 'Amylopectin from Maize\\xa0',\n",
       " 10: 'Acacia Fiber\\xa0',\n",
       " 11: 'α-D-Glucose\\xa0',\n",
       " 12: 'L-Fucose\\xa0',\n",
       " 13: 'Minimal Media Only (Blank)\\xa0',\n",
       " 14: 'Guar Gum\\xa0',\n",
       " 15: 'Xanthan Gum from Xanthonomas campestris',\n",
       " 16: 'Mucin from porcine stomach\\xa0',\n",
       " 17: 'Arabinan from Sugar Beet\\xa0',\n",
       " 18: 'Wheat Arabinoxylan\\xa0',\n",
       " 19: 'Rye Arabinoxylan\\xa0',\n",
       " 20: 'β-Glucan from Barley\\xa0',\n",
       " 21: '1,4-β-D-Mannan\\xa0',\n",
       " 22: 'Rhamnogalacturonan from soy bean pectin fiber',\n",
       " 23: 'Xyloglucan from tamarind seed',\n",
       " 24: 'Yeast β-Glucan',\n",
       " 25: 'Gum Arabic',\n",
       " 26: 'kappa-Carrageenan',\n",
       " 27: 'Galactomannan from Carob',\n",
       " 28: 'Galactan from potato'}"
      ]
     },
     "metadata": {},
     "output_type": "display_data"
    }
   ],
   "source": [
    "from json import dump\n",
    "\n",
    "with open(\"carbohydrate_numbering.json\", 'w') as jsonOut:\n",
    "    dump(carbohydrates, jsonOut, indent=3)\n",
    "\n",
    "display(carbohydrates)"
   ]
  },
  {
   "cell_type": "code",
   "execution_count": null,
   "metadata": {},
   "outputs": [],
   "source": []
  }
 ],
 "metadata": {
  "kernelspec": {
   "display_name": "venv_microbiome",
   "language": "python",
   "name": "venv_microbiome"
  },
  "language_info": {
   "codemirror_mode": {
    "name": "ipython",
    "version": 3
   },
   "file_extension": ".py",
   "mimetype": "text/x-python",
   "name": "python",
   "nbconvert_exporter": "python",
   "pygments_lexer": "ipython3",
   "version": "3.9.6"
  }
 },
 "nbformat": 4,
 "nbformat_minor": 2
}
