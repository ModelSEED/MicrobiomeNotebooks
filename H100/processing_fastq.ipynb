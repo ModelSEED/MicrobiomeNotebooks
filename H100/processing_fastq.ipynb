{
 "cells": [
  {
   "cell_type": "code",
   "execution_count": 23,
   "metadata": {},
   "outputs": [],
   "source": [
    "from pandas import read_csv, set_option\n",
    "from modelseedpy import FBAHelper\n",
    "from glob import glob\n",
    "\n",
    "set_option(\"display.max_rows\", None)\n",
    "template = read_csv(\"fastq_reads_noninterleaved.csv\", header=2).iloc[:1]\n",
    "for fastq in glob(\"../../Cheng_58_gDNA.20241111/*\"):\n",
    "    fastq = fastq.split(\"/\")[-1]\n",
    "    if FBAHelper.isnumber(fastq[:2]):  name = \"_\".join(fastq.split(\"_\")[:4])\n",
    "    elif \"Bacteroides\" in fastq:  name = \"_\".join(fastq.split(\"_\")[:3])\n",
    "    elif fastq[:2] == \"hc\":  name = \"_\".join(fastq.split(\"_\")[:2])\n",
    "    if name in template[\"Reads object name\"].values: continue\n",
    "\n",
    "    if \"_R2_\" in fastq: right = fastq ; left = fastq.replace(\"_R2_\", \"_R1_\")\n",
    "    elif \"_R1_\" in fastq:  left = fastq ; right = fastq.replace(\"_R1_\", \"_R2_\")\n",
    "    template.loc[len(template)] = [left, right, \"Illumina\", name, 1, 0, None, None]\n",
    "\n",
    "template.to_csv(\"all_noninterleaved_genomes.csv\")"
   ]
  },
  {
   "cell_type": "code",
   "execution_count": null,
   "metadata": {},
   "outputs": [],
   "source": []
  }
 ],
 "metadata": {
  "kernelspec": {
   "display_name": "venv_microbiome",
   "language": "python",
   "name": "venv_microbiome"
  },
  "language_info": {
   "codemirror_mode": {
    "name": "ipython",
    "version": 3
   },
   "file_extension": ".py",
   "mimetype": "text/x-python",
   "name": "python",
   "nbconvert_exporter": "python",
   "pygments_lexer": "ipython3",
   "version": "3.9.6"
  }
 },
 "nbformat": 4,
 "nbformat_minor": 2
}
