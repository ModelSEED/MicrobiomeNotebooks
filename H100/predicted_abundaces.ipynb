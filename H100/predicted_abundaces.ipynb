{
 "cells": [
  {
   "cell_type": "markdown",
   "metadata": {},
   "source": [
    "# load models"
   ]
  },
  {
   "cell_type": "markdown",
   "metadata": {},
   "source": [
    "## load CobraKBase"
   ]
  },
  {
   "cell_type": "code",
   "execution_count": 3,
   "metadata": {},
   "outputs": [
    {
     "name": "stdout",
     "output_type": "stream",
     "text": [
      "cobrakbase 0.4.0\n"
     ]
    }
   ],
   "source": [
    "# define the environment path \n",
    "import os\n",
    "local_cobrakbase_path = os.path.join(\"C:\", \"Users\", 'Andrew Freiburger',\"Documents\",\"Argonne\",\"cobrakbase\")\n",
    "os.environ[\"HOME\"] = local_cobrakbase_path\n",
    "\n",
    "# import the KBase\n",
    "import cobrakbase\n",
    "with open(\"/Users/afreiburger/Documents/kbase_token.txt\") as token_file:\n",
    "# with open(\"C:/Users/Andrew Freiburger/Documents/Argonne/kbase_token.txt\") as token_file:\n",
    "    kbase_api = cobrakbase.KBaseAPI(token_file.readline())"
   ]
  },
  {
   "cell_type": "markdown",
   "metadata": {},
   "source": [
    "## load all models from the project Narrative"
   ]
  },
  {
   "cell_type": "code",
   "execution_count": 4,
   "metadata": {},
   "outputs": [],
   "source": [
    "models = [kbase_api.get_from_ws(f\"{mdl[6]}/{mdl[0]}/{mdl[4]}\")\n",
    "          for mdl in kbase_api.list_objects(190263, \"KBaseFBA.FBAModel\")[:5]]"
   ]
  },
  {
   "cell_type": "markdown",
   "metadata": {},
   "source": [
    "# Compute the predicted abundances"
   ]
  },
  {
   "cell_type": "markdown",
   "metadata": {},
   "source": [
    "## create the MSCommunity model and simulate the abundances"
   ]
  },
  {
   "cell_type": "code",
   "execution_count": 5,
   "metadata": {},
   "outputs": [],
   "source": [
    "from json import load\n",
    "\n",
    "carb_info = load(open(\"carb_info.json\", 'r'))\n",
    "inoculum_abundances = load(open(\"inoculum_abundances.json\", 'r'))\n",
    "fiber_day_abundances = load(open(\"fiber_day_abundances.json\", 'r'))\n",
    "media = load(open(\"media_conc.json\", 'r'))\n",
    "carb_numbers = load(open(\"carbohydrate_numbering.json\", 'r'))"
   ]
  },
  {
   "cell_type": "code",
   "execution_count": 9,
   "metadata": {},
   "outputs": [
    {
     "name": "stdout",
     "output_type": "stream",
     "text": [
      "bio1 from Butyricimonas-virosa-DSM-23226-MAF-2.gbff_genome.RAST.mdl becomes bio2\n",
      "bio1 from Bacteroides-sp-3-1-19-MAF-2.gbff_genome.RAST.mdl becomes bio3\n",
      "bio1 from Bacteroides-rodentium-DSM-26882-MAF-2.gbff_genome.RAST.mdl becomes bio4\n",
      "bio1 from Streptococcus-thermophilus-ATCC-19258-MAF-2.gbff_genome.RAST.mdl becomes bio5\n",
      "bio1 from Parabacteroides-merdae-ATCC-43184-MAF-2.gbff_genome.RAST.mdl becomes bio6\n",
      "Community objective 1.0*bio1 - 1.0*bio1_reverse_b18f7\n",
      "Butyricimonas-virosa-DSM-23226-MAF-2.gbff_genome.RAST.mdl biomass compound: cpd11416_c1\n",
      "Bacteroides-sp-3-1-19-MAF-2.gbff_genome.RAST.mdl biomass compound: cpd11416_c2\n",
      "Bacteroides-rodentium-DSM-26882-MAF-2.gbff_genome.RAST.mdl biomass compound: cpd11416_c3\n",
      "Streptococcus-thermophilus-ATCC-19258-MAF-2.gbff_genome.RAST.mdl biomass compound: cpd11416_c4\n",
      "Parabacteroides-merdae-ATCC-43184-MAF-2.gbff_genome.RAST.mdl biomass compound: cpd11416_c5\n",
      "Butyricimonas-virosa-DSM-23226-MAF-2.gbff_genome.RAST.mdl 300 0.2\n",
      "Bacteroides-sp-3-1-19-MAF-2.gbff_genome.RAST.mdl 300 0.2\n",
      "Bacteroides-rodentium-DSM-26882-MAF-2.gbff_genome.RAST.mdl 300 0.2\n",
      "Streptococcus-thermophilus-ATCC-19258-MAF-2.gbff_genome.RAST.mdl 300 0.2\n",
      "Parabacteroides-merdae-ATCC-43184-MAF-2.gbff_genome.RAST.mdl 300 0.2\n",
      "pfba = True\n"
     ]
    }
   ],
   "source": [
    "from mscommunity import MSCommunity\n",
    "\n",
    "comm = MSCommunity(member_models=models)\n",
    "abundances = comm.predict_abundances()"
   ]
  },
  {
   "cell_type": "markdown",
   "metadata": {},
   "source": [
    "## simulate the predicted abundances"
   ]
  },
  {
   "cell_type": "code",
   "execution_count": 7,
   "metadata": {},
   "outputs": [
    {
     "data": {
      "text/plain": [
       "[<FBAModel Butyricimonas-virosa-DSM-23226-MAF-2.gbff_genome.RAST.mdl at 0x13ba9a870>,\n",
       " <FBAModel Bacteroides-sp-3-1-19-MAF-2.gbff_genome.RAST.mdl at 0x13cd1c4d0>,\n",
       " <FBAModel Bacteroides-rodentium-DSM-26882-MAF-2.gbff_genome.RAST.mdl at 0x13be0dac0>,\n",
       " <FBAModel Streptococcus-thermophilus-ATCC-19258-MAF-2.gbff_genome.RAST.mdl at 0x13dcf7860>,\n",
       " <FBAModel Parabacteroides-merdae-ATCC-43184-MAF-2.gbff_genome.RAST.mdl at 0x13d9526c0>]"
      ]
     },
     "execution_count": 7,
     "metadata": {},
     "output_type": "execute_result"
    }
   ],
   "source": [
    "models"
   ]
  },
  {
   "cell_type": "code",
   "execution_count": 11,
   "metadata": {},
   "outputs": [
    {
     "data": {
      "text/plain": [
       "{'Butyricimonas-virosa-DSM-23226-MAF-2.gbff_genome.RAST.mdl': 0.22378370678117623,\n",
       " 'Bacteroides-sp-3-1-19-MAF-2.gbff_genome.RAST.mdl': 0.29279093030822645,\n",
       " 'Bacteroides-rodentium-DSM-26882-MAF-2.gbff_genome.RAST.mdl': 0.1260785089625753,\n",
       " 'Streptococcus-thermophilus-ATCC-19258-MAF-2.gbff_genome.RAST.mdl': 0.14348013717284508,\n",
       " 'Parabacteroides-merdae-ATCC-43184-MAF-2.gbff_genome.RAST.mdl': 0.21386671677517693}"
      ]
     },
     "execution_count": 11,
     "metadata": {},
     "output_type": "execute_result"
    }
   ],
   "source": [
    "abundances"
   ]
  },
  {
   "cell_type": "code",
   "execution_count": 10,
   "metadata": {},
   "outputs": [
    {
     "data": {
      "text/plain": [
       "{'cpd00205': 106.70542635658916,\n",
       " 'cpd00009': 106.66666666666667,\n",
       " 'cpd00099': 50.726077502834656,\n",
       " 'cpd00048': 39.601346506000006,\n",
       " 'cpd00971': 32.327586206896555,\n",
       " 'cpd00254': 25.101063829787236,\n",
       " 'cpd00013': 9.868421052631579,\n",
       " 'cpd01401': 5.807774286660123,\n",
       " 'cpd00084': 4.132231404958678,\n",
       " 'cpd00030': 3.3112582781456954,\n",
       " 'cpd00240': 1.710899111701181,\n",
       " 'cpd00209': 1.092896174863388,\n",
       " 'cpd00063': 0.9163636363636364,\n",
       " 'cpd10515': 0.6605297829554122,\n",
       " 'cpd00034': 0.6211180124223603,\n",
       " 'cpd00149': 0.546448087431694,\n",
       " 'cpd00058': 0.0625,\n",
       " 'cpd00263': 0.05917159763313609,\n",
       " 'cpd00644': 0.045871559633027525,\n",
       " 'cpd00218': 0.040983606557377046,\n",
       " 'cpd24344': 0.03875968992248062,\n",
       " 'cpd00443': 0.03676470588235294,\n",
       " 'cpd00541': 0.024390243902439025,\n",
       " 'cpd00305': 0.01886792452830189,\n",
       " 'cpd00363': 0.01712472885032538,\n",
       " 'cpd00220': 0.013297872340425532,\n",
       " 'cpd00104': 0.00823045267489712,\n",
       " 'cpd00393': 0.004555808656036447,\n",
       " 'cpd00166': 6.333122229259024e-05}"
      ]
     },
     "execution_count": 10,
     "metadata": {},
     "output_type": "execute_result"
    }
   ],
   "source": [
    "media"
   ]
  },
  {
   "cell_type": "code",
   "execution_count": null,
   "metadata": {},
   "outputs": [],
   "source": []
  }
 ],
 "metadata": {
  "kernelspec": {
   "display_name": "Python (venv)",
   "language": "python",
   "name": "venv"
  },
  "language_info": {
   "codemirror_mode": {
    "name": "ipython",
    "version": 3
   },
   "file_extension": ".py",
   "mimetype": "text/x-python",
   "name": "python",
   "nbconvert_exporter": "python",
   "pygments_lexer": "ipython3",
   "version": "3.12.3"
  }
 },
 "nbformat": 4,
 "nbformat_minor": 2
}
