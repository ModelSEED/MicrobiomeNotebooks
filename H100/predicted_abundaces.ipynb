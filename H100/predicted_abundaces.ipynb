{
 "cells": [
  {
   "cell_type": "markdown",
   "metadata": {},
   "source": [
    "# load models"
   ]
  },
  {
   "cell_type": "markdown",
   "metadata": {},
   "source": [
    "## load CobraKBase"
   ]
  },
  {
   "cell_type": "code",
   "execution_count": 1,
   "metadata": {},
   "outputs": [
    {
     "name": "stderr",
     "output_type": "stream",
     "text": [
      "/Users/andrewfreiburger/Library/Python/3.9/lib/python/site-packages/urllib3/__init__.py:35: NotOpenSSLWarning: urllib3 v2 only supports OpenSSL 1.1.1+, currently the 'ssl' module is compiled with 'LibreSSL 2.8.3'. See: https://github.com/urllib3/urllib3/issues/3020\n",
      "  warnings.warn(\n"
     ]
    },
    {
     "name": "stdout",
     "output_type": "stream",
     "text": [
      "modelseedpy 0.3.3\n",
      "cobrakbase 0.4.0\n"
     ]
    }
   ],
   "source": [
    "# define the environment path \n",
    "import os\n",
    "# local_cobrakbase_path = os.path.join(\"C:\", \"Users\", 'Andrew Freiburger',\"Documents\",\"Argonne\",\"cobrakbase\")\n",
    "local_cobrakbase_path = os.path.join(\"/\", \"Users\", 'andrewfreiburger', \"Research\", \"cobrakbase\")\n",
    "os.environ[\"HOME\"] = local_cobrakbase_path\n",
    "\n",
    "# import the KBase\n",
    "import cobrakbase\n",
    "# with open(\"/Users/afreiburger/Documents/kbase_token.txt\") as token_file:\n",
    "# with open(\"C:/Users/Andrew Freiburger/Documents/Argonne/kbase_token.txt\") as token_file:\n",
    "with open(\"/Users/andrewfreiburger/.kbase/token\") as token_file:\n",
    "    kbase_api = cobrakbase.KBaseAPI(token_file.readline().strip())"
   ]
  },
  {
   "cell_type": "markdown",
   "metadata": {},
   "source": [
    "## load all models from the project Narrative"
   ]
  },
  {
   "cell_type": "code",
   "execution_count": null,
   "metadata": {},
   "outputs": [],
   "source": [
    "from cobra.io import write_sbml_model, read_sbml_model\n",
    "from os import path\n",
    "\n",
    "\n",
    "\n",
    "from datetime import datetime\n",
    "from multiprocess import Pool, current_process\n",
    "from os import cpu_count\n",
    "\n",
    "\n",
    "\n",
    "def saveModel(mdl):\n",
    "    name = mdl[1].split('.')[0]\n",
    "    if path.exists(f\"models/{name}\"):  print(f\"{name} already exists\") ; return\n",
    "    write_sbml_model(kbase_api.get_from_ws(f\"{mdl[6]}/{mdl[0]}/{mdl[4]}\"), f\"models/{name}\")\n",
    "    print(current_process().name, \"saved\", name)\n",
    "# print(f\"Loading {int(cpu_count())} workers and computing the scores\", datetime.now())\n",
    "# pool = Pool(int(cpu_count()))  # .map(calculate_scores, [{k: v} for k,v in pairs.items()])\n",
    "# print(f\"Loading 2 workers and computing the scores\", datetime.now())\n",
    "# pool = Pool(2)  # .map(calculate_scores, [{k: v} for k,v in pairs.items()])\n",
    "# args = list(kbase_api.list_objects(190263, \"KBaseFBA.FBAModel\"))\n",
    "# pool.map(loadModel, args)\n",
    "\n",
    "\n",
    "for mdl in kbase_api.list_objects(190263, \"KBaseFBA.FBAModel\"):\n",
    "    saveModel(mdl)\n",
    "\n",
    "\n",
    "\n",
    "def loadModel(mdl):\n",
    "    read\n",
    "\n",
    "\n",
    "print(f\"Loading {int(cpu_count())} workers and computing the scores\", datetime.now())\n",
    "pool = Pool(int(cpu_count()))  # .map(calculate_scores, [{k: v} for k,v in pairs.items()])\n",
    "args = [f\"{mdl[6]}/{mdl[0]}/{mdl[4]}\" for mdl in kbase_api.list_objects(190263, \"KBaseFBA.FBAModel\")]\n",
    "output = pool.map(loadModel, args)\n",
    "total = chain.from_iterable(output)"
   ]
  },
  {
   "cell_type": "code",
   "execution_count": 11,
   "metadata": {},
   "outputs": [
    {
     "name": "stdout",
     "output_type": "stream",
     "text": [
      "Loading 8 workers and computing the scores 2025-03-27 12:10:54.447758\n"
     ]
    },
    {
     "name": "stderr",
     "output_type": "stream",
     "text": [
      "Exception ignored in: <function _releaseLock at 0x104e2a8b0>\n",
      "Traceback (most recent call last):\n",
      "  File \"/Library/Developer/CommandLineTools/Library/Frameworks/Python3.framework/Versions/3.9/lib/python3.9/logging/__init__.py\", line 231, in _releaseLock\n",
      "    if _lock:\n",
      "KeyboardInterrupt: \n"
     ]
    },
    {
     "name": "stdout",
     "output_type": "stream",
     "text": [
      "ForkPoolWorker-122ForkPoolWorker-124ForkPoolWorker-123ForkPoolWorker-120ForkPoolWorker-118ForkPoolWorker-121ForkPoolWorker-125ForkPoolWorker-119        loadingloadingloadingloadingloading  loadingloading 190263/10159/2190263/10170/2\n",
      " 190263/10098/2190263/10135/2\n",
      "\n",
      "\n",
      "  loading 190263/10087/2 190263/10147/2190263/10122/2\n",
      "\n",
      "190263/10110/2\n",
      "\n"
     ]
    },
    {
     "ename": "KeyboardInterrupt",
     "evalue": "",
     "output_type": "error",
     "traceback": [
      "\u001b[0;31m---------------------------------------------------------------------------\u001b[0m",
      "\u001b[0;31mKeyboardInterrupt\u001b[0m                         Traceback (most recent call last)",
      "Cell \u001b[0;32mIn[11], line 16\u001b[0m\n\u001b[1;32m     14\u001b[0m pool \u001b[38;5;241m=\u001b[39m Pool(\u001b[38;5;28mint\u001b[39m(cpu_count()))  \u001b[38;5;66;03m# .map(calculate_scores, [{k: v} for k,v in pairs.items()])\u001b[39;00m\n\u001b[1;32m     15\u001b[0m args \u001b[38;5;241m=\u001b[39m [\u001b[38;5;124mf\u001b[39m\u001b[38;5;124m\"\u001b[39m\u001b[38;5;132;01m{\u001b[39;00mmdl[\u001b[38;5;241m6\u001b[39m]\u001b[38;5;132;01m}\u001b[39;00m\u001b[38;5;124m/\u001b[39m\u001b[38;5;132;01m{\u001b[39;00mmdl[\u001b[38;5;241m0\u001b[39m]\u001b[38;5;132;01m}\u001b[39;00m\u001b[38;5;124m/\u001b[39m\u001b[38;5;132;01m{\u001b[39;00mmdl[\u001b[38;5;241m4\u001b[39m]\u001b[38;5;132;01m}\u001b[39;00m\u001b[38;5;124m\"\u001b[39m \u001b[38;5;28;01mfor\u001b[39;00m mdl \u001b[38;5;129;01min\u001b[39;00m kbase_api\u001b[38;5;241m.\u001b[39mlist_objects(\u001b[38;5;241m190263\u001b[39m, \u001b[38;5;124m\"\u001b[39m\u001b[38;5;124mKBaseFBA.FBAModel\u001b[39m\u001b[38;5;124m\"\u001b[39m)]\n\u001b[0;32m---> 16\u001b[0m output \u001b[38;5;241m=\u001b[39m \u001b[43mpool\u001b[49m\u001b[38;5;241;43m.\u001b[39;49m\u001b[43mmap\u001b[49m\u001b[43m(\u001b[49m\u001b[43mloadModel\u001b[49m\u001b[43m,\u001b[49m\u001b[43m \u001b[49m\u001b[43margs\u001b[49m\u001b[43m)\u001b[49m\n\u001b[1;32m     17\u001b[0m total \u001b[38;5;241m=\u001b[39m chain\u001b[38;5;241m.\u001b[39mfrom_iterable(output)\n\u001b[1;32m     19\u001b[0m \u001b[38;5;28mprint\u001b[39m(total)\n",
      "File \u001b[0;32m/Users/andrewfreiburger/Library/Python/3.9/lib/python/site-packages/multiprocess/pool.py:364\u001b[0m, in \u001b[0;36mPool.map\u001b[0;34m(self, func, iterable, chunksize)\u001b[0m\n\u001b[1;32m    359\u001b[0m \u001b[38;5;28;01mdef\u001b[39;00m \u001b[38;5;21mmap\u001b[39m(\u001b[38;5;28mself\u001b[39m, func, iterable, chunksize\u001b[38;5;241m=\u001b[39m\u001b[38;5;28;01mNone\u001b[39;00m):\n\u001b[1;32m    360\u001b[0m \u001b[38;5;250m    \u001b[39m\u001b[38;5;124;03m'''\u001b[39;00m\n\u001b[1;32m    361\u001b[0m \u001b[38;5;124;03m    Apply `func` to each element in `iterable`, collecting the results\u001b[39;00m\n\u001b[1;32m    362\u001b[0m \u001b[38;5;124;03m    in a list that is returned.\u001b[39;00m\n\u001b[1;32m    363\u001b[0m \u001b[38;5;124;03m    '''\u001b[39;00m\n\u001b[0;32m--> 364\u001b[0m     \u001b[38;5;28;01mreturn\u001b[39;00m \u001b[38;5;28;43mself\u001b[39;49m\u001b[38;5;241;43m.\u001b[39;49m\u001b[43m_map_async\u001b[49m\u001b[43m(\u001b[49m\u001b[43mfunc\u001b[49m\u001b[43m,\u001b[49m\u001b[43m \u001b[49m\u001b[43miterable\u001b[49m\u001b[43m,\u001b[49m\u001b[43m \u001b[49m\u001b[43mmapstar\u001b[49m\u001b[43m,\u001b[49m\u001b[43m \u001b[49m\u001b[43mchunksize\u001b[49m\u001b[43m)\u001b[49m\u001b[38;5;241;43m.\u001b[39;49m\u001b[43mget\u001b[49m\u001b[43m(\u001b[49m\u001b[43m)\u001b[49m\n",
      "File \u001b[0;32m/Users/andrewfreiburger/Library/Python/3.9/lib/python/site-packages/multiprocess/pool.py:765\u001b[0m, in \u001b[0;36mApplyResult.get\u001b[0;34m(self, timeout)\u001b[0m\n\u001b[1;32m    764\u001b[0m \u001b[38;5;28;01mdef\u001b[39;00m \u001b[38;5;21mget\u001b[39m(\u001b[38;5;28mself\u001b[39m, timeout\u001b[38;5;241m=\u001b[39m\u001b[38;5;28;01mNone\u001b[39;00m):\n\u001b[0;32m--> 765\u001b[0m     \u001b[38;5;28;43mself\u001b[39;49m\u001b[38;5;241;43m.\u001b[39;49m\u001b[43mwait\u001b[49m\u001b[43m(\u001b[49m\u001b[43mtimeout\u001b[49m\u001b[43m)\u001b[49m\n\u001b[1;32m    766\u001b[0m     \u001b[38;5;28;01mif\u001b[39;00m \u001b[38;5;129;01mnot\u001b[39;00m \u001b[38;5;28mself\u001b[39m\u001b[38;5;241m.\u001b[39mready():\n\u001b[1;32m    767\u001b[0m         \u001b[38;5;28;01mraise\u001b[39;00m \u001b[38;5;167;01mTimeoutError\u001b[39;00m\n",
      "File \u001b[0;32m/Users/andrewfreiburger/Library/Python/3.9/lib/python/site-packages/multiprocess/pool.py:762\u001b[0m, in \u001b[0;36mApplyResult.wait\u001b[0;34m(self, timeout)\u001b[0m\n\u001b[1;32m    761\u001b[0m \u001b[38;5;28;01mdef\u001b[39;00m \u001b[38;5;21mwait\u001b[39m(\u001b[38;5;28mself\u001b[39m, timeout\u001b[38;5;241m=\u001b[39m\u001b[38;5;28;01mNone\u001b[39;00m):\n\u001b[0;32m--> 762\u001b[0m     \u001b[38;5;28;43mself\u001b[39;49m\u001b[38;5;241;43m.\u001b[39;49m\u001b[43m_event\u001b[49m\u001b[38;5;241;43m.\u001b[39;49m\u001b[43mwait\u001b[49m\u001b[43m(\u001b[49m\u001b[43mtimeout\u001b[49m\u001b[43m)\u001b[49m\n",
      "File \u001b[0;32m/Library/Developer/CommandLineTools/Library/Frameworks/Python3.framework/Versions/3.9/lib/python3.9/threading.py:574\u001b[0m, in \u001b[0;36mEvent.wait\u001b[0;34m(self, timeout)\u001b[0m\n\u001b[1;32m    572\u001b[0m signaled \u001b[38;5;241m=\u001b[39m \u001b[38;5;28mself\u001b[39m\u001b[38;5;241m.\u001b[39m_flag\n\u001b[1;32m    573\u001b[0m \u001b[38;5;28;01mif\u001b[39;00m \u001b[38;5;129;01mnot\u001b[39;00m signaled:\n\u001b[0;32m--> 574\u001b[0m     signaled \u001b[38;5;241m=\u001b[39m \u001b[38;5;28;43mself\u001b[39;49m\u001b[38;5;241;43m.\u001b[39;49m\u001b[43m_cond\u001b[49m\u001b[38;5;241;43m.\u001b[39;49m\u001b[43mwait\u001b[49m\u001b[43m(\u001b[49m\u001b[43mtimeout\u001b[49m\u001b[43m)\u001b[49m\n\u001b[1;32m    575\u001b[0m \u001b[38;5;28;01mreturn\u001b[39;00m signaled\n",
      "File \u001b[0;32m/Library/Developer/CommandLineTools/Library/Frameworks/Python3.framework/Versions/3.9/lib/python3.9/threading.py:312\u001b[0m, in \u001b[0;36mCondition.wait\u001b[0;34m(self, timeout)\u001b[0m\n\u001b[1;32m    310\u001b[0m \u001b[38;5;28;01mtry\u001b[39;00m:    \u001b[38;5;66;03m# restore state no matter what (e.g., KeyboardInterrupt)\u001b[39;00m\n\u001b[1;32m    311\u001b[0m     \u001b[38;5;28;01mif\u001b[39;00m timeout \u001b[38;5;129;01mis\u001b[39;00m \u001b[38;5;28;01mNone\u001b[39;00m:\n\u001b[0;32m--> 312\u001b[0m         \u001b[43mwaiter\u001b[49m\u001b[38;5;241;43m.\u001b[39;49m\u001b[43macquire\u001b[49m\u001b[43m(\u001b[49m\u001b[43m)\u001b[49m\n\u001b[1;32m    313\u001b[0m         gotit \u001b[38;5;241m=\u001b[39m \u001b[38;5;28;01mTrue\u001b[39;00m\n\u001b[1;32m    314\u001b[0m     \u001b[38;5;28;01melse\u001b[39;00m:\n",
      "\u001b[0;31mKeyboardInterrupt\u001b[0m: "
     ]
    }
   ],
   "source": [
    "# TODO parallelize to expedite the loading of all models\n",
    "## a function that loads and returns a model from the path\n",
    "## the list of arguments being list_objects\n",
    "\n",
    "def loadModel(ID):\n",
    "    print(current_process().name, \"loading\", ID)\n",
    "    return kbase_api.get_from_ws(ID)\n",
    "\n",
    "from datetime import datetime\n",
    "from multiprocess import Pool, current_process\n",
    "from os import cpu_count\n",
    "\n",
    "print(f\"Loading {int(cpu_count())} workers and computing the scores\", datetime.now())\n",
    "pool = Pool(int(cpu_count()))  # .map(calculate_scores, [{k: v} for k,v in pairs.items()])\n",
    "args = [f\"{mdl[6]}/{mdl[0]}/{mdl[4]}\" for mdl in kbase_api.list_objects(190263, \"KBaseFBA.FBAModel\")]\n",
    "output = pool.map(loadModel, args)\n",
    "total = chain.from_iterable(output)\n",
    "\n",
    "print(total)"
   ]
  },
  {
   "cell_type": "markdown",
   "metadata": {},
   "source": [
    "# Compute the predicted abundances"
   ]
  },
  {
   "cell_type": "markdown",
   "metadata": {},
   "source": [
    "## create the MSCommunity model and simulate the abundances"
   ]
  },
  {
   "cell_type": "code",
   "execution_count": 5,
   "metadata": {},
   "outputs": [],
   "source": [
    "from json import load\n",
    "\n",
    "carb_info = load(open(\"carb_info.json\", 'r'))\n",
    "inoculum_abundances = load(open(\"inoculum_abundances.json\", 'r'))\n",
    "fiber_day_abundances = load(open(\"fiber_day_abundances.json\", 'r'))\n",
    "media = load(open(\"media_conc.json\", 'r'))\n",
    "carb_numbers = load(open(\"carbohydrate_numbering.json\", 'r'))"
   ]
  },
  {
   "cell_type": "code",
   "execution_count": 9,
   "metadata": {},
   "outputs": [
    {
     "name": "stdout",
     "output_type": "stream",
     "text": [
      "bio1 from Butyricimonas-virosa-DSM-23226-MAF-2.gbff_genome.RAST.mdl becomes bio2\n",
      "bio1 from Bacteroides-sp-3-1-19-MAF-2.gbff_genome.RAST.mdl becomes bio3\n",
      "bio1 from Bacteroides-rodentium-DSM-26882-MAF-2.gbff_genome.RAST.mdl becomes bio4\n",
      "bio1 from Streptococcus-thermophilus-ATCC-19258-MAF-2.gbff_genome.RAST.mdl becomes bio5\n",
      "bio1 from Parabacteroides-merdae-ATCC-43184-MAF-2.gbff_genome.RAST.mdl becomes bio6\n",
      "Community objective 1.0*bio1 - 1.0*bio1_reverse_b18f7\n",
      "Butyricimonas-virosa-DSM-23226-MAF-2.gbff_genome.RAST.mdl biomass compound: cpd11416_c1\n",
      "Bacteroides-sp-3-1-19-MAF-2.gbff_genome.RAST.mdl biomass compound: cpd11416_c2\n",
      "Bacteroides-rodentium-DSM-26882-MAF-2.gbff_genome.RAST.mdl biomass compound: cpd11416_c3\n",
      "Streptococcus-thermophilus-ATCC-19258-MAF-2.gbff_genome.RAST.mdl biomass compound: cpd11416_c4\n",
      "Parabacteroides-merdae-ATCC-43184-MAF-2.gbff_genome.RAST.mdl biomass compound: cpd11416_c5\n",
      "Butyricimonas-virosa-DSM-23226-MAF-2.gbff_genome.RAST.mdl 300 0.2\n",
      "Bacteroides-sp-3-1-19-MAF-2.gbff_genome.RAST.mdl 300 0.2\n",
      "Bacteroides-rodentium-DSM-26882-MAF-2.gbff_genome.RAST.mdl 300 0.2\n",
      "Streptococcus-thermophilus-ATCC-19258-MAF-2.gbff_genome.RAST.mdl 300 0.2\n",
      "Parabacteroides-merdae-ATCC-43184-MAF-2.gbff_genome.RAST.mdl 300 0.2\n",
      "pfba = True\n"
     ]
    }
   ],
   "source": [
    "from mscommunity import MSCommunity\n",
    "\n",
    "comm = MSCommunity(member_models=models)\n",
    "abundances = comm.predict_abundances()"
   ]
  },
  {
   "cell_type": "markdown",
   "metadata": {},
   "source": [
    "## simulate the predicted abundances"
   ]
  },
  {
   "cell_type": "code",
   "execution_count": 7,
   "metadata": {},
   "outputs": [
    {
     "data": {
      "text/plain": [
       "[<FBAModel Butyricimonas-virosa-DSM-23226-MAF-2.gbff_genome.RAST.mdl at 0x13ba9a870>,\n",
       " <FBAModel Bacteroides-sp-3-1-19-MAF-2.gbff_genome.RAST.mdl at 0x13cd1c4d0>,\n",
       " <FBAModel Bacteroides-rodentium-DSM-26882-MAF-2.gbff_genome.RAST.mdl at 0x13be0dac0>,\n",
       " <FBAModel Streptococcus-thermophilus-ATCC-19258-MAF-2.gbff_genome.RAST.mdl at 0x13dcf7860>,\n",
       " <FBAModel Parabacteroides-merdae-ATCC-43184-MAF-2.gbff_genome.RAST.mdl at 0x13d9526c0>]"
      ]
     },
     "execution_count": 7,
     "metadata": {},
     "output_type": "execute_result"
    }
   ],
   "source": [
    "models"
   ]
  },
  {
   "cell_type": "code",
   "execution_count": 11,
   "metadata": {},
   "outputs": [
    {
     "data": {
      "text/plain": [
       "{'Butyricimonas-virosa-DSM-23226-MAF-2.gbff_genome.RAST.mdl': 0.22378370678117623,\n",
       " 'Bacteroides-sp-3-1-19-MAF-2.gbff_genome.RAST.mdl': 0.29279093030822645,\n",
       " 'Bacteroides-rodentium-DSM-26882-MAF-2.gbff_genome.RAST.mdl': 0.1260785089625753,\n",
       " 'Streptococcus-thermophilus-ATCC-19258-MAF-2.gbff_genome.RAST.mdl': 0.14348013717284508,\n",
       " 'Parabacteroides-merdae-ATCC-43184-MAF-2.gbff_genome.RAST.mdl': 0.21386671677517693}"
      ]
     },
     "execution_count": 11,
     "metadata": {},
     "output_type": "execute_result"
    }
   ],
   "source": [
    "abundances"
   ]
  },
  {
   "cell_type": "code",
   "execution_count": 10,
   "metadata": {},
   "outputs": [
    {
     "data": {
      "text/plain": [
       "{'cpd00205': 106.70542635658916,\n",
       " 'cpd00009': 106.66666666666667,\n",
       " 'cpd00099': 50.726077502834656,\n",
       " 'cpd00048': 39.601346506000006,\n",
       " 'cpd00971': 32.327586206896555,\n",
       " 'cpd00254': 25.101063829787236,\n",
       " 'cpd00013': 9.868421052631579,\n",
       " 'cpd01401': 5.807774286660123,\n",
       " 'cpd00084': 4.132231404958678,\n",
       " 'cpd00030': 3.3112582781456954,\n",
       " 'cpd00240': 1.710899111701181,\n",
       " 'cpd00209': 1.092896174863388,\n",
       " 'cpd00063': 0.9163636363636364,\n",
       " 'cpd10515': 0.6605297829554122,\n",
       " 'cpd00034': 0.6211180124223603,\n",
       " 'cpd00149': 0.546448087431694,\n",
       " 'cpd00058': 0.0625,\n",
       " 'cpd00263': 0.05917159763313609,\n",
       " 'cpd00644': 0.045871559633027525,\n",
       " 'cpd00218': 0.040983606557377046,\n",
       " 'cpd24344': 0.03875968992248062,\n",
       " 'cpd00443': 0.03676470588235294,\n",
       " 'cpd00541': 0.024390243902439025,\n",
       " 'cpd00305': 0.01886792452830189,\n",
       " 'cpd00363': 0.01712472885032538,\n",
       " 'cpd00220': 0.013297872340425532,\n",
       " 'cpd00104': 0.00823045267489712,\n",
       " 'cpd00393': 0.004555808656036447,\n",
       " 'cpd00166': 6.333122229259024e-05}"
      ]
     },
     "execution_count": 10,
     "metadata": {},
     "output_type": "execute_result"
    }
   ],
   "source": [
    "media"
   ]
  },
  {
   "cell_type": "code",
   "execution_count": null,
   "metadata": {},
   "outputs": [],
   "source": []
  }
 ],
 "metadata": {
  "kernelspec": {
   "display_name": "venv_microbiome",
   "language": "python",
   "name": "venv_microbiome"
  },
  "language_info": {
   "codemirror_mode": {
    "name": "ipython",
    "version": 3
   },
   "file_extension": ".py",
   "mimetype": "text/x-python",
   "name": "python",
   "nbconvert_exporter": "python",
   "pygments_lexer": "ipython3",
   "version": "3.9.6"
  }
 },
 "nbformat": 4,
 "nbformat_minor": 2
}
