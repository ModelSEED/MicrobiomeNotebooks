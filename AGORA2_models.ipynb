{
 "cells": [
  {
   "attachments": {},
   "cell_type": "markdown",
   "metadata": {},
   "source": [
    "# compute FVA for all individual AGORA2 models that load (~6/7 of the models)"
   ]
  },
  {
   "cell_type": "code",
   "execution_count": null,
   "metadata": {},
   "outputs": [],
   "source": [
    "from cobra.flux_analysis.variability import flux_variability_analysis\n",
    "from cobra.io import read_sbml_model\n",
    "from glob import glob\n",
    "from os import path\n",
    "\n",
    "def remove_groups(model_path):\n",
    "    # print(f\"{model_path}\\t\\t\\t\\t\\t\", end=\"\\r\")\n",
    "    try:\n",
    "        model = read_sbml_model(model_path)\n",
    "        # if path.exists(f\"AGORA2_fva/{model.id}_fva.csv\"):  pass\n",
    "        # else:\n",
    "        fva_csv = flux_variability_analysis(model)\n",
    "        fva_csv.to_csv(f\"AGORA2_fva/{model.id}_fva.csv\")\n",
    "    except:  print(\"\\t\\t\", model_path)\n",
    "    \n",
    "\n",
    "from datetime import datetime  ;  from multiprocess import Pool\n",
    "pool = Pool(6)\n",
    "pool.map(remove_groups, [model_path for model_path in [model_path for model_path in glob(\"AGORA2/*.xml\")] \n",
    "                         if not path.exists(f\"AGORA2_fva/M_{path.split(model_path)[1].replace('.xml', '')}_fva.csv\")])"
   ]
  },
  {
   "cell_type": "code",
   "execution_count": null,
   "metadata": {},
   "outputs": [],
   "source": [
    "from cobra.flux_analysis.variability import flux_variability_analysis\n",
    "from cobra.io import read_sbml_model\n",
    "from glob import glob\n",
    "from os import path\n",
    "\n",
    "for model_path in glob(\"AGORA2/*.xml\"):\n",
    "    if path.exists(path.join(\"AGORA2_fva\", f\"{path.split(model_path)[1]}_fva.csv\")):  continue\n",
    "    print(f\"{model_path}\\t\\t\\t\\t\\t\", end=\"\\r\")\n",
    "    try:\n",
    "        model = read_sbml_model(model_path)\n",
    "        fva_csv = flux_variability_analysis(model)\n",
    "        fva_csv.to_csv(f\"AGORA2_fva/{model.id}_fva.csv\")\n",
    "    except Exception as e:   print(\"\\t\\t\", model_path)\n"
   ]
  },
  {
   "attachments": {},
   "cell_type": "markdown",
   "metadata": {},
   "source": [
    "# parse metabolite production/consumption from the FVA data"
   ]
  },
  {
   "cell_type": "code",
   "execution_count": null,
   "metadata": {},
   "outputs": [],
   "source": []
  }
 ],
 "metadata": {
  "kernelspec": {
   "display_name": "Python 3",
   "language": "python",
   "name": "python3"
  },
  "language_info": {
   "codemirror_mode": {
    "name": "ipython",
    "version": 3
   },
   "file_extension": ".py",
   "mimetype": "text/x-python",
   "name": "python",
   "nbconvert_exporter": "python",
   "pygments_lexer": "ipython3",
   "version": "3.9.6"
  },
  "orig_nbformat": 4,
  "vscode": {
   "interpreter": {
    "hash": "31f2aee4e71d21fbe5cf8b01ff0e069b9275f58929596ceb00d14d90e3e16cd6"
   }
  }
 },
 "nbformat": 4,
 "nbformat_minor": 2
}
