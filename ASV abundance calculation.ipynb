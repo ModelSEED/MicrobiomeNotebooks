{
 "cells": [
  {
   "cell_type": "markdown",
   "metadata": {},
   "source": [
    "# define contextual files and DataFrames"
   ]
  },
  {
   "cell_type": "code",
   "execution_count": null,
   "metadata": {},
   "outputs": [],
   "source": [
    "from pandas import read_csv, DataFrame\n",
    "\n",
    "ave_total_df = read_csv(\"metabolomics data/day_averaged_concentrations.csv\")\n",
    "ave_total_df.reset_index()\n",
    "ave_total_df.index = [f'{row[\"diet\"]}_{row[\"Rec_day_adj\"]}' for index, row in ave_total_df.iterrows()]\n",
    "ave_total_df.drop([\"Rec_day_adj\", \"diet\"], axis=1, inplace=True)\n",
    "ave_total_df.drop([i for i in ave_total_df.index if \"WD\" in i or \"PBS\" in i], axis=0, inplace=True)\n",
    "\n",
    "trials = list(ave_total_df.index)\n",
    "print(trials)\n",
    "\n",
    "unique_rec_day = list(map(float, {i.split(\"_\")[1] for i in ave_total_df.index}))  # ['-3.0' '0.0' '11.0' '14.0' '28.0' '3.0' '5.0' '7.0']\n",
    "print(unique_rec_day, type(unique_rec_day[0]))\n",
    "def closest_number(number):\n",
    "    closest = unique_rec_day[0]\n",
    "    diff_val = abs(number-closest)\n",
    "    for num in unique_rec_day:\n",
    "        if abs(number-num) < diff_val:\n",
    "            closest = num\n",
    "            diff_val = abs(number-num)\n",
    "        # elif abs(number-num) == diff_val:  print(closest, num)\n",
    "    return closest\n",
    "\n",
    "mega_metadata = read_csv(\"metabolomics data/a1_meta_c1-3.csv\").set_index(\"seqID\")\n",
    "seqID_recDayAdj = {}\n",
    "for index, row in mega_metadata.iterrows():\n",
    "    if row[\"Rec_day_adj\"] > 28 or float(row[\"Rec_day_adj\"]) < -3:   continue\n",
    "    seqID_recDayAdj[index] = f'{row[\"Treatment\"]}_{closest_number(float(row[\"Rec_day_adj\"]))}'\n",
    "    # print(index, seqID_recDayAdj[index])\n",
    "# print(mega_metadata[\"seqID\"].to_list(), mega_metadata[\"Rec_day_adj\"].to_list())\n",
    "# seqID_recDayAdj = dict(zip([mega_metadata[\"seqID\"].to_list(), mega_metadata[\"Rec_day_adj\"].to_list()]))\n",
    "\n",
    "print(mega_metadata[\"Rec_day_adj\"].unique())\n",
    "print({e.split(\"_\")[1] for e in list(seqID_recDayAdj.values())})\n",
    "display(mega_metadata)"
   ]
  },
  {
   "cell_type": "markdown",
   "metadata": {},
   "source": [
    "# load and process the OTU file"
   ]
  },
  {
   "cell_type": "code",
   "execution_count": null,
   "metadata": {},
   "outputs": [],
   "source": [
    "# asv_abundances = asv_abundances if \"asv_abundances\" in locals() else read_csv(\"metabolomics data/merged_otu_table.txt\", sep=\"\\t\").set_index(\"taxonID\")\n",
    "asv_abundances = read_csv(\"metabolomics data/merged_otu_table.txt\", sep=\"\\t\").set_index(\"taxonID\")\n",
    "# display(asv_abundances.iloc[:20])\n",
    "# asv_abundances.rename(columns=col_names, inplace=True)\n",
    "# print(list(seqID_recDayAdj.keys()))\n",
    "asv_abundances = asv_abundances.rename(columns=dict(seqID_recDayAdj)).drop([col for col in asv_abundances.columns if col not in list(seqID_recDayAdj.keys())], axis=1)\n",
    "display(asv_abundances.iloc[:20])\n",
    "# print([col for col in asv_abundances.columns if \"MMF\" in col])"
   ]
  },
  {
   "cell_type": "markdown",
   "metadata": {},
   "source": [
    "# Define the "
   ]
  },
  {
   "cell_type": "code",
   "execution_count": null,
   "metadata": {},
   "outputs": [],
   "source": [
    "averaged_asv_vals = asv_abundances.groupby(by=asv_abundances.columns, axis=1).mean().sort_index(axis=1)\n",
    "averaged_asv_vals.to_csv(\"metabolomics data/averaged_asv_values.csv\")\n",
    "averaged_asv_vals.drop([col for col in averaged_asv_vals.columns if col not in ave_total_df.index], axis=1, inplace=True)\n",
    "\n",
    "print(averaged_asv_vals.columns)\n",
    "display(averaged_asv_vals.iloc[:20])\n",
    "\n",
    "\n",
    "averaged_asv_vals = read_csv(\"metabolomics data/averaged_asv_values.csv\").set_index(\"taxonID\")\n",
    "transposed_averaged_asv_vals = averaged_asv_vals.T\n",
    "trials = list(ave_total_df.index)\n",
    "print(trials)\n",
    "\n",
    "df_data= {}\n",
    "for i, day_diet in enumerate(transposed_averaged_asv_vals.index):\n",
    "    if day_diet not in trials or day_diet == 'RC-ABX_28.0': continue\n",
    "    print(day_diet)\n",
    "    trial_index = trials.index(day_diet)\n",
    "    trial = day_diet.split(\"_\")\n",
    "    if trial[0] in trials[trial_index+1]:   future_trial = trials[trial_index+1]\n",
    "    else:   continue\n",
    "\n",
    "    trial_name = trial[0]+f\"_{(float(trial[1])+float(future_trial.split('_')[1]))/2}\"\n",
    "    df_data[trial_name] = {column: (transposed_averaged_asv_vals.loc[future_trial].values[index]+value)/2\n",
    "                           for index, (column, value) in enumerate(transposed_averaged_asv_vals.loc[day_diet].items())}\n",
    "\n",
    "averaged_asv_vals_interday = DataFrame(df_data)\n",
    "display(averaged_asv_vals_interday)\n",
    "\n",
    "from json import dump\n",
    "asv_dict = averaged_asv_vals_interday.to_dict(orient='index')\n",
    "with open(\"metabolomics data/averaged_asv_abundances_interday_mapping.json\", 'w') as jsonOut:\n",
    "    dump(asv_dict, jsonOut, indent=3)"
   ]
  }
 ],
 "metadata": {
  "language_info": {
   "name": "python"
  }
 },
 "nbformat": 4,
 "nbformat_minor": 2
}
