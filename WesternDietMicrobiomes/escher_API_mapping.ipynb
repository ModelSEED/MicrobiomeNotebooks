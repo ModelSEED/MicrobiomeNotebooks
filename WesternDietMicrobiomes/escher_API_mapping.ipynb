{
 "cells": [
  {
   "cell_type": "markdown",
   "metadata": {},
   "source": [
    "# renaming the reactions according to columns and rows"
   ]
  },
  {
   "cell_type": "code",
   "execution_count": 34,
   "metadata": {},
   "outputs": [
    {
     "name": "stdout",
     "output_type": "stream",
     "text": [
      "{'0': {'name': 'diphosphate phosphohydrolase', 'bigg_id': 'rxn00001', 'reversibility': False, 'label_x': -642.8153489006918, 'label_y': 103.11225355934926, 'gene_reaction_rule': '', 'genes': [], 'metabolites': [{'bigg_id': 'cpd00012', 'coefficient': -1}, {'bigg_id': 'cpd00067', 'coefficient': 1}, {'bigg_id': 'cpd00001', 'coefficient': -1}, {'bigg_id': 'cpd00009', 'coefficient': 2}], 'segments': {'0': {'from_node_id': '1', 'to_node_id': '2', 'b1': None, 'b2': None}, '1': {'from_node_id': '3', 'to_node_id': '2', 'b1': None, 'b2': None}, '2': {'from_node_id': '1', 'to_node_id': '0', 'b1': {'x': -638.8122011531899, 'y': 126.74002323747482}, 'b2': {'x': -693.0594201712433, 'y': 127.28932170583562}}, '3': {'from_node_id': '3', 'to_node_id': '4', 'b1': {'x': -514.8185576833539, 'y': 125.48448388122324}, 'b2': {'x': -460.57133866530046, 'y': 124.93518541286244}}, '4': {'from_node_id': '1', 'to_node_id': '5', 'b1': {'x': -642.8119961038293, 'y': 126.78052450703285}, 'b2': {'x': -647.8794712635404, 'y': 144.8327597012044}}, '5': {'from_node_id': '3', 'to_node_id': '6', 'b1': {'x': -510.81876273271337, 'y': 125.44398261166657}, 'b2': {'x': -505.3867761469945, 'y': 143.38990197325234}}}}, '1': {'name': 'pyruvate:pyruvate acetaldehydetransferase (decarboxylating)', 'bigg_id': 'rxn00003', 'reversibility': False, 'label_x': 173.1140803891691, 'label_y': 103.14294238935321, 'gene_reaction_rule': '', 'genes': [], 'metabolites': [{'bigg_id': 'cpd00011', 'coefficient': -1}, {'bigg_id': 'cpd00067', 'coefficient': 1}, {'bigg_id': 'cpd00020', 'coefficient': 2}, {'bigg_id': 'cpd00668', 'coefficient': -1}], 'segments': {'6': {'from_node_id': '8', 'to_node_id': '9', 'b1': None, 'b2': None}, '7': {'from_node_id': '10', 'to_node_id': '9', 'b1': None, 'b2': None}, '8': {'from_node_id': '8', 'to_node_id': '7', 'b1': {'x': 180.11516853562, 'y': 120.51026918642765}, 'b2': {'x': 125.86612066376483, 'y': 120.83168013386779}}, '9': {'from_node_id': '10', 'to_node_id': '11', 'b1': {'x': 304.1129922427184, 'y': 119.77561559227883}, 'b2': {'x': 358.3620401145738, 'y': 119.45420464483874}}, '10': {'from_node_id': '10', 'to_node_id': '12', 'b1': {'x': 308.1129220397215, 'y': 119.75191708924183}, 'b2': {'x': 313.46947316195497, 'y': 137.72049689051994}}, '11': {'from_node_id': '8', 'to_node_id': '13', 'b1': {'x': 176.11523873861654, 'y': 120.53396768946516}, 'b2': {'x': 170.97197414371703, 'y': 138.56475606121512}}}}, '2': {'name': 'urea-1-carboxylate amidohydrolase', 'bigg_id': 'rxn00002', 'reversibility': False, 'label_x': -658.8974337297191, 'label_y': 496.6036715513169, 'gene_reaction_rule': '', 'genes': [], 'metabolites': [{'bigg_id': 'cpd00742', 'coefficient': -1}, {'bigg_id': 'cpd00011', 'coefficient': 2}, {'bigg_id': 'cpd00013', 'coefficient': 2}, {'bigg_id': 'cpd00067', 'coefficient': -3}, {'bigg_id': 'cpd00001', 'coefficient': -1}], 'segments': {'12': {'from_node_id': '15', 'to_node_id': '16', 'b1': None, 'b2': None}, '13': {'from_node_id': '17', 'to_node_id': '16', 'b1': None, 'b2': None}, '14': {'from_node_id': '15', 'to_node_id': '14', 'b1': {'x': -678.894041112658, 'y': 523.2522341309357}, 'b2': {'x': -733.1410725727296, 'y': 523.8197530909831}}, '15': {'from_node_id': '17', 'to_node_id': '18', 'b1': {'x': -554.9008263467804, 'y': 521.9550479365413}, 'b2': {'x': -500.6537948867092, 'y': 521.3875289764933}}, '16': {'from_node_id': '17', 'to_node_id': '19', 'b1': {'x': -550.9010452253003, 'y': 521.9132032205931}, 'b2': {'x': -545.4630312815907, 'y': 539.8572970775705}}, '17': {'from_node_id': '15', 'to_node_id': '20', 'b1': {'x': -682.8938222341378, 'y': 523.294078846884}, 'b2': {'x': -688.3318361778472, 'y': 505.34998498990603}}, '18': {'from_node_id': '15', 'to_node_id': '21', 'b1': {'x': -682.8938222341378, 'y': 523.294078846884}, 'b2': {'x': -687.9552337343134, 'y': 541.3480150832258}}}}}\n",
      "[-642.8153489006918, 173.1140803891691] [103.11225355934926, 496.6036715513169]\n",
      "[{'bigg_id': 'cpd00012_0_0_0', 'coefficient': -1}, {'bigg_id': 'cpd00067_0_0_0', 'coefficient': 1}, {'bigg_id': 'cpd00001_0_0_0', 'coefficient': -1}, {'bigg_id': 'cpd00009_0_0_0', 'coefficient': 2}]\n",
      "[{'bigg_id': 'cpd00011_1_0_0', 'coefficient': -1}, {'bigg_id': 'cpd00067_1_0_0', 'coefficient': 1}, {'bigg_id': 'cpd00020_1_0_0', 'coefficient': 2}, {'bigg_id': 'cpd00668_1_0_0', 'coefficient': -1}]\n",
      "[{'bigg_id': 'cpd00742_0_1_0', 'coefficient': -1}, {'bigg_id': 'cpd00011_0_1_0', 'coefficient': 2}, {'bigg_id': 'cpd00013_0_1_0', 'coefficient': 2}, {'bigg_id': 'cpd00067_0_1_0', 'coefficient': -3}, {'bigg_id': 'cpd00001_0_1_0', 'coefficient': -1}]\n"
     ]
    }
   ],
   "source": [
    "from math import isclose\n",
    "from json import load, dump\n",
    "\n",
    "with open(\"WesternDietMicrobiomes/escherMap.json\", \"r\") as jsonIn:    escherMap = load(jsonIn)\n",
    "\n",
    "# display(escherMap)\n",
    "\n",
    "xs, ys = [], []\n",
    "for index, lst in enumerate(escherMap):\n",
    "    for k, content in lst.items():\n",
    "        if k != \"reactions\":  continue\n",
    "        print(content)\n",
    "        for rxn, content2 in content.items():\n",
    "            if \"label_x\" not in content2:  print(content2) ; continue\n",
    "            if not any([isclose(content2[\"label_x\"], x, abs_tol=50) for x in xs]):   xs.append(content2[\"label_x\"])\n",
    "            if not any([isclose(content2[\"label_y\"], y, abs_tol=50) for y in ys]):   ys.append(content2[\"label_y\"])\n",
    "\n",
    "print(xs, ys)\n",
    "\n",
    "for index, lst in enumerate(escherMap):\n",
    "    for k, content in lst.items():\n",
    "        if k != \"reactions\":  continue\n",
    "        for rxn, content2 in content.items():\n",
    "            for x in xs:\n",
    "                if isclose(content2[\"label_x\"], x, abs_tol=50):\n",
    "                    col_index = xs.index(x)\n",
    "                    continue\n",
    "            for y in ys:\n",
    "                if isclose(content2[\"label_y\"], y, abs_tol=50):\n",
    "                    row_index = ys.index(y)\n",
    "                    continue\n",
    "            for attribute, val in content2.items():\n",
    "                if attribute == \"metabolites\":\n",
    "                    metabolite_dics = []\n",
    "                    for metabolite in val:\n",
    "                        metabolite_dic = {}\n",
    "                        for cpd_index, (k2, val2) in enumerate(metabolite.items()):\n",
    "                            if k2 == \"bigg_id\":  metabolite_dic[k2] = f\"{val2}_{col_index}_{row_index}_{cpd_index}\"\n",
    "                            elif k2 == \"coefficient\":  metabolite_dic[k2] = val2\n",
    "                        metabolite_dics.append(metabolite_dic)\n",
    "                    escherMap[index][k][rxn][attribute] = metabolite_dics\n",
    "                    print(escherMap[index][k][rxn][attribute])\n",
    "                if attribute == \"bigg_id\":   escherMap[index][k][rxn][attribute] = f\"{val}_{col_index}_{row_index}\"\n",
    "                # if attribute == \"metabolites\":\n",
    "                    # escherMap[index][k][rxn][attribute] = val+\n",
    "                # print(attribute, val)\n",
    "\n",
    "\n",
    "with open(\"WesternDietMicrobiomes/escherMap_edited.json\", \"w\") as jsonOut:    escherMap = dump(escherMap, jsonOut, indent=3)"
   ]
  },
  {
   "cell_type": "markdown",
   "metadata": {},
   "source": [
    "# duplicating reactions across a specified number of rows and columns"
   ]
  },
  {
   "cell_type": "code",
   "execution_count": 45,
   "metadata": {},
   "outputs": [
    {
     "data": {
      "text/plain": [
       "3600.0"
      ]
     },
     "execution_count": 45,
     "metadata": {},
     "output_type": "execute_result"
    }
   ],
   "source": [
    "2961.18779884681--638.8122011531899"
   ]
  },
  {
   "cell_type": "code",
   "execution_count": 39,
   "metadata": {},
   "outputs": [
    {
     "name": "stdout",
     "output_type": "stream",
     "text": [
      "2\n",
      "800 400\n",
      "rows\n",
      "800 400\n"
     ]
    },
    {
     "data": {
      "text/plain": [
       "dict_keys(['name', 'bigg_id', 'reversibility', 'label_x', 'label_y', 'gene_reaction_rule', 'genes', 'metabolites', 'segments'])"
      ]
     },
     "metadata": {},
     "output_type": "display_data"
    },
    {
     "data": {
      "text/plain": [
       "dict_keys(['name', 'bigg_id', 'reversibility', 'label_x', 'label_y', 'gene_reaction_rule', 'genes', 'metabolites', 'segments'])"
      ]
     },
     "metadata": {},
     "output_type": "display_data"
    },
    {
     "name": "stdout",
     "output_type": "stream",
     "text": [
      "rows\n",
      "800 400\n",
      "dict_keys(['0', '1', '2', '3', '4', '5', '6', '7', '8', '9', '10', '11', '12', '13', '14', '15', '16', '17', '18', '19', '20', '21', '22'])\n",
      "dict_keys(['0', '1', '2', '3', '4', '5', '6', '7', '8', '9', '10', '11', '12', '13', '14', '15', '16', '17', '18', '19', '20', '21', '22'])\n"
     ]
    }
   ],
   "source": [
    "from json import load, dump\n",
    "\n",
    "def duplicate_rxn(escherJSON_path, rows=None, columns=None, row_step_size=800, col_step_size=400):\n",
    "    assert rows is not None or columns is not None, \"What are you doing?\"\n",
    "\n",
    "    with open(escherJSON_path, \"r\") as jsonIn:\n",
    "        escherMap = load(jsonIn)\n",
    "\n",
    "    # display(escherMap)\n",
    "    print(len(escherMap))\n",
    "\n",
    "    print(row_step_size, col_step_size)\n",
    "\n",
    "    for i, lst in enumerate(escherMap):\n",
    "        if i == 0:  continue\n",
    "        for k, content in lst.items():\n",
    "            if k == \"reactions\":\n",
    "                # row reaction development\n",
    "                print(\"rows\")\n",
    "                print(row_step_size, col_step_size)\n",
    "                updated_reactions = {} if \"updated_reactions\" not in locals() else updated_reactions\n",
    "                if isinstance(rows, int):\n",
    "                    row_reactions = {k:v for k,v in content.items()}\n",
    "                    for row_index in range(1, rows):\n",
    "                        # print(content.keys())\n",
    "                        for rxnNum, content2 in content.items():\n",
    "                            nextRxn = str(int(rxnNum)+1)\n",
    "                            ## define the content of this reaction\n",
    "                            new_content = {k:v for k,v in content2.items()}\n",
    "                            ## translate the label\n",
    "                            new_content[\"label_y\"] += row_step_size*row_index\n",
    "                            ## rename the reaction according to its new translation\n",
    "                            rxnName_content = new_content[\"bigg_id\"].split(\"_\")\n",
    "                            colNum, rowNum = rxnName_content[1], rxnName_content[2]\n",
    "                            new_content[\"bigg_id\"] = f\"{rxnName_content[0]}_{colNum}_{str(int(rowNum)+1)}\"\n",
    "                            ## rename the metabolites\n",
    "                            for index, metabolite in enumerate(new_content[\"metabolites\"]):\n",
    "                                ### rename the metabolites\n",
    "                                ID_content = metabolite[\"bigg_id\"].split(\"_\")\n",
    "                                metabolite[\"bigg_id\"] = f\"{ID_content[0]}_{colNum}_{rowNum}_{index}\"\n",
    "                            ## update the metabolite nodes\n",
    "                            display(new_content.keys())\n",
    "                            ## update the edge segments\n",
    "                            for num, content3 in new_content[\"segments\"].items():\n",
    "                                dictionary_values = [value for value in content3.values() if isinstance(value, dict)]\n",
    "                                # print(dictionary_values)\n",
    "                                # for obj, value in content3.items():\n",
    "                                #     # print(list(map(len, [new_content, content3])))\n",
    "                                #     if isinstance(value, dict):\n",
    "                                #         print(rxnNum, num, obj, value) ;  new_content[\"segments\"][num][obj][\"y\"] += row_step_size*row_index\n",
    "                                #     if isinstance(value, dict):\n",
    "                                #         print(new_content[\"segments\"][num][obj])\n",
    "                            row_reactions[str(int(rxnNum)+row_index)] = new_content\n",
    "                            # print(row_reactions[str(int(rxn)+row_index)][\"segments\"][\"312\"][\"b2\"])\n",
    "                        updated_reactions.update({k:v for k,v in row_reactions.items()})\n",
    "                escherMap[i][k] = updated_reactions  \n",
    "            elif k == \"nodes\":\n",
    "                # row metabolite development\n",
    "                print(\"rows\")\n",
    "                print(row_step_size, col_step_size)\n",
    "                updated_reactions = {} if \"updated_reactions\" not in locals() else updated_reactions\n",
    "                if isinstance(rows, int):\n",
    "                    row_nodes = {k:v for k,v in content.items()}\n",
    "                    for row_index in range(1, rows):\n",
    "                        print(content.keys())\n",
    "                        # updated_reactions = {} if \"updated_reactions\" not in locals() else updated_reactions\n",
    "                        new_mets = {}\n",
    "                        for metNum, content2 in row_nodes.items():\n",
    "                            ### rename the node for this set of reactions\n",
    "                            # print(metNum)\n",
    "                            new_mets[f\"{nextRxn}{metNum}\"] = content2\n",
    "                            ### translating the node locations\n",
    "                            if new_mets[f\"{nextRxn}{metNum}\"][\"node_type\"] in [\"multimarker\", \"midmarker\"]:\n",
    "                                new_mets[f\"{nextRxn}{metNum}\"][\"y\"] += row_step_size*row_index\n",
    "                            elif new_mets[f\"{nextRxn}{metNum}\"][\"node_type\"] == \"metabolite\":\n",
    "                                new_mets[f\"{nextRxn}{metNum}\"][\"y\"] += row_step_size*row_index\n",
    "                                new_mets[f\"{nextRxn}{metNum}\"][\"label_y\"] += row_step_size*row_index\n",
    "                        updated_reactions.update({k:v for k,v in row_reactions.items()})\n",
    "                escherMap[i][k] = updated_reactions  \n",
    "            # else:   print(k)\n",
    "        # if index == len(escherMap)-1:  break\n",
    "        # print(\"columns\")\n",
    "        # print(row_step_size, col_step_size)\n",
    "        # if isinstance(columns, int):\n",
    "        #     reactions = content if rows is not None else updated_reactions\n",
    "        #     col_reactions = {}\n",
    "        #     for col_index in range(columns):\n",
    "        #         for rxnNum, content2 in reactions.items():\n",
    "        #             new_content = {k:v for k,v in content2.items()}\n",
    "        #             new_content[\"label_x\"] += col_step_size*col_index\n",
    "        #             for num, content3 in new_content[\"segments\"].items():\n",
    "        #                 for obj, value in content3.items():\n",
    "        #                     if isinstance(value, dict):  print(rxnNum, num, obj, value) ; new_content[\"segments\"][num][obj][\"x\"] += col_step_size*col_index\n",
    "        #                     if isinstance(value, dict):  print(new_content[\"segments\"][num][obj])\n",
    "        #             col_reactions[str(int(rxnNum)+col_index)] = new_content\n",
    "        #         updated_reactions.update({k:v for k,v in row_reactions.items()})\n",
    "\n",
    "        #     escherMap[index][k] = updated_reactions    \n",
    "\n",
    "    with open(escherJSON_path.replace(\".json\", \"_edited.json\"), \"w\") as jsonOut:  dump(escherMap, jsonOut, indent=3)\n",
    "\n",
    "duplicate_rxn(\"oneRXN_localized2.json\", rows=3, columns=None)"
   ]
  },
  {
   "cell_type": "code",
   "execution_count": 54,
   "metadata": {},
   "outputs": [
    {
     "name": "stdout",
     "output_type": "stream",
     "text": [
      "1200.0\n",
      "1200.0\n"
     ]
    }
   ],
   "source": [
    "print(1596.7619819523752-396.7619819523753)\n",
    "print(2796.761981952375-1596.7619819523752)"
   ]
  },
  {
   "cell_type": "code",
   "execution_count": 41,
   "metadata": {},
   "outputs": [],
   "source": [
    "from json import load, dump\n",
    "\n",
    "path = \"oneRXN_localized_double.json\"\n",
    "\n",
    "with open(path, \"r\") as jsonIn:\n",
    "    escherMap = load(jsonIn)\n",
    "\n",
    "with open(path, \"w\") as jsonOut:\n",
    "    dump(escherMap, jsonOut, indent=3)"
   ]
  },
  {
   "cell_type": "markdown",
   "metadata": {},
   "source": [
    "## update the coordinates of an existing two-reaction map"
   ]
  },
  {
   "cell_type": "code",
   "execution_count": 45,
   "metadata": {},
   "outputs": [
    {
     "data": {
      "text/plain": [
       "{'name': 'diphosphate phosphohydrolase',\n",
       " 'bigg_id': 'rxn00001_0_0',\n",
       " 'reversibility': False,\n",
       " 'label_x': -682.8153489006918,\n",
       " 'label_y': 228.44559706520863,\n",
       " 'gene_reaction_rule': '',\n",
       " 'genes': [],\n",
       " 'metabolites': [{'bigg_id': 'cpd_0_0_0', 'coefficient': -1},\n",
       "  {'bigg_id': 'cpd_0_0_1', 'coefficient': -1},\n",
       "  {'bigg_id': 'cpd_0_0_2', 'coefficient': -1},\n",
       "  {'bigg_id': 'cpd_0_0_3', 'coefficient': -1},\n",
       "  {'bigg_id': 'cpd_0_0_4', 'coefficient': -1},\n",
       "  {'bigg_id': 'cpd_0_0_5', 'coefficient': -1},\n",
       "  {'bigg_id': 'cpd_0_0_6', 'coefficient': -1},\n",
       "  {'bigg_id': 'cpd_0_0_7', 'coefficient': -1},\n",
       "  {'bigg_id': 'cpd_0_0_8', 'coefficient': -1},\n",
       "  {'bigg_id': 'cpd_0_0_9', 'coefficient': -1},\n",
       "  {'bigg_id': 'cpd_0_0_10', 'coefficient': 1},\n",
       "  {'bigg_id': 'cpd_0_0_11', 'coefficient': 1},\n",
       "  {'bigg_id': 'cpd_0_0_12', 'coefficient': 1},\n",
       "  {'bigg_id': 'cpd_0_0_13', 'coefficient': 1},\n",
       "  {'bigg_id': 'cpd_0_0_14', 'coefficient': 1},\n",
       "  {'bigg_id': 'cpd_0_0_15', 'coefficient': 1},\n",
       "  {'bigg_id': 'cpd_0_0_16', 'coefficient': 1},\n",
       "  {'bigg_id': 'cpd_0_0_17', 'coefficient': 1},\n",
       "  {'bigg_id': 'cpd_0_0_18', 'coefficient': 1},\n",
       "  {'bigg_id': 'cpd_0_0_19', 'coefficient': 1}],\n",
       " 'segments': {'0': {'from_node_id': '1',\n",
       "   'to_node_id': '2',\n",
       "   'b1': None,\n",
       "   'b2': None},\n",
       "  '1': {'from_node_id': '3', 'to_node_id': '2', 'b1': None, 'b2': None},\n",
       "  '2': {'from_node_id': '1',\n",
       "   'to_node_id': '0',\n",
       "   'b1': {'x': -638.8122011531899, 'y': 126.74002323747482},\n",
       "   'b2': {'x': -814.3927331595246, 'y': -59.37735004709407}},\n",
       "  '21': {'from_node_id': '1',\n",
       "   'to_node_id': '4',\n",
       "   'b1': {'x': -638.8122011531899, 'y': 126.74002323747482},\n",
       "   'b2': {'x': -851.7261377005402, 'y': -34.044021800023756}},\n",
       "  '22': {'from_node_id': '1',\n",
       "   'to_node_id': '5',\n",
       "   'b1': {'x': -638.8122011531899, 'y': 126.74002323747482},\n",
       "   'b2': {'x': -885.0594201712433, 'y': -96.71068973825618}},\n",
       "  '23': {'from_node_id': '1',\n",
       "   'to_node_id': '6',\n",
       "   'b1': {'x': -638.8122011531899, 'y': 126.74002323747482},\n",
       "   'b2': {'x': -983.7261377005402, 'y': -28.710679724675856}},\n",
       "  '24': {'from_node_id': '1',\n",
       "   'to_node_id': '7',\n",
       "   'b1': {'x': -638.8122011531899, 'y': 126.74002323747482},\n",
       "   'b2': {'x': -1013.0594506888215, 'y': 75.28931431485967}},\n",
       "  '25': {'from_node_id': '1',\n",
       "   'to_node_id': '8',\n",
       "   'b1': {'x': -638.8122011531899, 'y': 126.74002323747482},\n",
       "   'b2': {'x': -1030.3927941946808, 'y': 117.95597724630193}},\n",
       "  '26': {'from_node_id': '1',\n",
       "   'to_node_id': '9',\n",
       "   'b1': {'x': -638.8122011531899, 'y': 126.74002323747482},\n",
       "   'b2': {'x': -977.0594201712433, 'y': 163.28932552053288}},\n",
       "  '27': {'from_node_id': '1',\n",
       "   'to_node_id': '10',\n",
       "   'b1': {'x': -638.8122011531899, 'y': 126.74002323747482},\n",
       "   'b2': {'x': -931.7261377005402, 'y': 229.9559934587653}},\n",
       "  '28': {'from_node_id': '1',\n",
       "   'to_node_id': '11',\n",
       "   'b1': {'x': -638.8122011531899, 'y': 126.74002323747482},\n",
       "   'b2': {'x': -910.3927941946808, 'y': 267.28930644704656}},\n",
       "  '29': {'from_node_id': '1',\n",
       "   'to_node_id': '12',\n",
       "   'b1': {'x': -638.8122011531899, 'y': 126.74002323747482},\n",
       "   'b2': {'x': -851.7261377005402, 'y': 245.95597438527898}},\n",
       "  '33': {'from_node_id': '3',\n",
       "   'to_node_id': '13',\n",
       "   'b1': {'x': -514.8185576833539, 'y': 125.48448388122324},\n",
       "   'b2': {'x': -437.90465928297624, 'y': -83.0648222165321}},\n",
       "  '34': {'from_node_id': '3',\n",
       "   'to_node_id': '14',\n",
       "   'b1': {'x': -514.8185576833539, 'y': 125.48448388122324},\n",
       "   'b2': {'x': -355.2380256770192, 'y': -56.39815523197399}},\n",
       "  '35': {'from_node_id': '3',\n",
       "   'to_node_id': '15',\n",
       "   'b1': {'x': -514.8185576833539, 'y': 125.48448388122324},\n",
       "   'b2': {'x': -292.57136155348405, 'y': 2.2684945864464225}},\n",
       "  '36': {'from_node_id': '3',\n",
       "   'to_node_id': '16',\n",
       "   'b1': {'x': -514.8185576833539, 'y': 125.48448388122324},\n",
       "   'b2': {'x': -207.23802186232194, 'y': 30.268513183095592}},\n",
       "  '37': {'from_node_id': '3',\n",
       "   'to_node_id': '17',\n",
       "   'b1': {'x': -514.8185576833539, 'y': 125.48448388122324},\n",
       "   'b2': {'x': -188.57136155348405, 'y': 104.93519304225697}},\n",
       "  '38': {'from_node_id': '3',\n",
       "   'to_node_id': '18',\n",
       "   'b1': {'x': -514.8185576833539, 'y': 125.48448388122324},\n",
       "   'b2': {'x': -155.23799325209245, 'y': 154.26851365993275}},\n",
       "  '39': {'from_node_id': '3',\n",
       "   'to_node_id': '19',\n",
       "   'b1': {'x': -514.8185576833539, 'y': 125.48448388122324},\n",
       "   'b2': {'x': -177.90463639479265, 'y': 199.6018495363976}},\n",
       "  '310': {'from_node_id': '3',\n",
       "   'to_node_id': '20',\n",
       "   'b1': {'x': -514.8185576833539, 'y': 125.48448388122324},\n",
       "   'b2': {'x': -217.90468980055437, 'y': 255.60188768337025}},\n",
       "  '311': {'from_node_id': '3',\n",
       "   'to_node_id': '21',\n",
       "   'b1': {'x': -514.8185576833539, 'y': 125.48448388122324},\n",
       "   'b2': {'x': -323.23806382399187, 'y': 250.26855943629994}},\n",
       "  '312': {'from_node_id': '3',\n",
       "   'to_node_id': '22',\n",
       "   'b1': {'x': -514.8185576833539, 'y': 125.48448388122324},\n",
       "   'b2': {'x': -403.2380180476247, 'y': 283.60184190700306}}}}"
      ]
     },
     "metadata": {},
     "output_type": "display_data"
    }
   ],
   "source": [
    "from json import load\n",
    "\n",
    "with open(\"twoRXN_localized.json\", 'r') as jsonIn:\n",
    "    EscherMap = load(jsonIn)\n",
    "\n",
    "row_step_size, col_step_size = 800, 400\n",
    "column = 0\n",
    "\n",
    "new_EscherMap = {}\n",
    "for i, ele in enumerate(EscherMap):\n",
    "    if i == 0:\n",
    "        new_EscherMap[i] = ele\n",
    "    new_EscherMap[i] = {}\n",
    "    for k, content in ele.items():\n",
    "        # print(k)\n",
    "        if k == \"reactions\":\n",
    "            new_EscherMap[i][\"reactions\"] = {}\n",
    "            for rxnNum, content2 in content.items():\n",
    "                if rxnNum == 0:\n",
    "                    new_EscherMap[i][\"reactions\"][rxnNum] = content2\n",
    "                    continue\n",
    "                for k2, val in content2.items():\n",
    "                    if k == \"bigg_id\":\n",
    "                        baseRXN = val.split(\"_\")[0]\n",
    "                        new_EscherMap[i][\"reactions\"][rxnNum][k2] = f\"{baseRXN}_{column}_{rxnNum}\"\n",
    "                    elif k == \"label_x\":\n",
    "                        new_EscherMap[i][\"reactions\"][rxnNum][k2] = val + column*col_step_size\n",
    "                    elif k == \"label_y\":\n",
    "                        new_EscherMap[i][\"reactions\"][rxnNum][k2] = val + rxnNum*row_step_size\n",
    "                    elif k2 == \"metabolites\":\n",
    "                        new_mets = []\n",
    "                        for cpdNum, cpd in enumerate(val):\n",
    "                            cpd[\"bigg_id\"] = f\"cpd_{column}_{rxnNum}_{cpdNum}\"\n",
    "                            new_mets.append(cpd)\n",
    "                        new_EscherMap[i][\"reactions\"][rxnNum][k2] = new_mets\n",
    "                    elif k2 == \"segments\":\n",
    "                        for segNum, content3 in val.items():\n",
    "                            if isinstance(content3[\"b1\"], dict):\n",
    "                                new_EscherMap[i][\"reactions\"][rxnNum][k2][segNum][]\n",
    "                    \n",
    "\n",
    "\n",
    "                display(content2)\n",
    "                break\n",
    "\n",
    "        elif k == \"nodes\":\n",
    "            pass\n",
    "        elif k == \"text_labels\":\n",
    "            pass\n",
    "        elif k == \"canvas\":\n",
    "            pass"
   ]
  },
  {
   "cell_type": "markdown",
   "metadata": {},
   "source": [
    "# process the ASVMetaboliteInteractions community interactions"
   ]
  },
  {
   "cell_type": "markdown",
   "metadata": {},
   "source": [
    "## parse the stoichiometric relationships"
   ]
  },
  {
   "cell_type": "code",
   "execution_count": 3,
   "metadata": {},
   "outputs": [],
   "source": [
    "from pandas import read_csv\n",
    "from json import dump\n",
    "\n",
    "interactions = read_csv(\"ASVMetaboliteInteractions.csv\").set_index(\"ASV\")\n",
    "stoich_mapping = {}\n",
    "for index, row in interactions.iterrows():\n",
    "    stoich_mapping[index] = {\"reactants\":{}, \"products\":{}}\n",
    "    for col, ele in row.items():\n",
    "        metID = col.split(\"_\")[0]\n",
    "        if ele > 0:   stoich_mapping[index][\"products\"][metID] = ele\n",
    "        elif ele < 0:   stoich_mapping[index][\"reactants\"][metID] = ele\n",
    "\n",
    "# display(stoich_mapping)\n",
    "with open(\"ASV_metabolic_activity_stoich.json\", 'w') as jsonOut:\n",
    "    dump(stoich_mapping, jsonOut, indent=3)"
   ]
  },
  {
   "cell_type": "markdown",
   "metadata": {},
   "source": [
    "## process the stoich into Escher mapping coordinates"
   ]
  },
  {
   "cell_type": "code",
   "execution_count": null,
   "metadata": {},
   "outputs": [],
   "source": []
  },
  {
   "cell_type": "markdown",
   "metadata": {},
   "source": [
    "# attempt loading the ASV-effective model"
   ]
  },
  {
   "cell_type": "code",
   "execution_count": 94,
   "metadata": {},
   "outputs": [
    {
     "name": "stdout",
     "output_type": "stream",
     "text": [
      "set()\n",
      "set()\n",
      "set()\n"
     ]
    },
    {
     "data": {
      "text/plain": [
       "'RC'"
      ]
     },
     "metadata": {},
     "output_type": "display_data"
    },
    {
     "data": {
      "text/plain": [
       "['Acetivibrio.1',\n",
       " 'Akkermansia.1',\n",
       " 'Alistipes.2',\n",
       " 'Alistipes.4',\n",
       " 'Bifidobacterium.1',\n",
       " 'Blautia.1',\n",
       " 'Clostridium.16',\n",
       " 'Clostridium.21',\n",
       " 'Clostridium.23',\n",
       " 'Enterococcus.2',\n",
       " 'Enterococcus.3',\n",
       " 'Eubacterium.7',\n",
       " 'Lactobacillus.1',\n",
       " 'Lactobacillus.3',\n",
       " 'Merdibacter.1',\n",
       " 'Muribaculum.1',\n",
       " 'Ruminococcus.3',\n",
       " 'Turicibacter.1']"
      ]
     },
     "metadata": {},
     "output_type": "display_data"
    },
    {
     "data": {
      "text/plain": [
       "'WD'"
      ]
     },
     "metadata": {},
     "output_type": "display_data"
    },
    {
     "data": {
      "text/plain": [
       "['Acinetobacter.1',\n",
       " 'Agrobacterium.1',\n",
       " 'Enterococcus.1',\n",
       " 'Enterococcus.2',\n",
       " 'Lactobacillus.3',\n",
       " 'Lactococcus.1',\n",
       " 'Stenotrophomonas.1']"
      ]
     },
     "metadata": {},
     "output_type": "display_data"
    }
   ],
   "source": [
    "from cobra.io import load_json_model\n",
    "from optlang import Objective\n",
    "\n",
    "effectiveASV_model = load_json_model(\"ASVInteractionModel.json\")\n",
    "rxnNames = [rxn.id for rxn in effectiveASV_model.reactions]\n",
    "rcNames = {}\n",
    "numRCs = []\n",
    "for name in rxnNames:\n",
    "    if \"RC\" in name:\n",
    "        nameParts = name.split(\"RC\")\n",
    "        numRCs.append(nameParts[0])\n",
    "        rcNames[nameParts[0]] = rcNames.get(nameParts[0], [])\n",
    "        rcNames[nameParts[0]].append(nameParts[1].split(\"_\")[1])\n",
    "print(set(rcNames.keys()) - set(numRCs))\n",
    "wdNames = {}\n",
    "numWDs = []\n",
    "for name in rxnNames:\n",
    "    if \"WD\" in name:\n",
    "        nameParts = name.split(\"WD\")\n",
    "        numWDs.append(nameParts[0])\n",
    "        wdNames[nameParts[0]] = wdNames.get(nameParts[0], [])\n",
    "        wdNames[nameParts[0]].append(nameParts[1].split(\"_\")[1])\n",
    "print(set(wdNames.keys()) - set(numWDs))\n",
    "new_rcNames = [f\"{k}RC-ABX_{time}\" for k,v in rcNames.items() for time in v]\n",
    "new_wdNames = [f\"{k}WD-ABX_{time}\" for k,v in wdNames.items() for time in v]\n",
    "\n",
    "missing_keys = set(rxnNames) - set(new_rcNames+new_wdNames)\n",
    "print(missing_keys)\n",
    "\n",
    "def search_days(day):\n",
    "    RCasvs = [asv for asv, days in rcNames.items() if day in days]\n",
    "    WDasvs = [asv for asv, days in wdNames.items() if day in days]\n",
    "    display(\"RC\", sorted(RCasvs))\n",
    "    display(\"WD\", sorted(WDasvs))\n",
    "\n",
    "search_days(\"9.0\")"
   ]
  },
  {
   "cell_type": "markdown",
   "metadata": {},
   "source": [
    "# define new metabolite categories"
   ]
  },
  {
   "cell_type": "code",
   "execution_count": 95,
   "metadata": {},
   "outputs": [],
   "source": [
    "from modelseedpy.biochem import from_local\n",
    "\n",
    "msdb = from_local(\"../../ModelSEEDDatabase\")"
   ]
  },
  {
   "cell_type": "code",
   "execution_count": 146,
   "metadata": {},
   "outputs": [],
   "source": [
    "from numpy import array, load, append, save, concatenate\n",
    "\n",
    "scfa = load(\"../../CommScores/commscores/data/categories/scfa.npy\")\n",
    "vitamins = load(\"../../CommScores/commscores/data/categories/vitamins.npy\")\n",
    "aminoAcids = load(\"../../CommScores/commscores/data/categories/aminoAcids.npy\")\n",
    "sugars = load(\"../../CommScores/commscores/data/categories/sugars.npy\")\n",
    "# new_sugars = concatenate([sugars, array([[\"cpd00158\", \"CELB\"], [\"cpd00382\", \"Melitose\"]])])\n",
    "# save(\"../../CommScores/commscores/data/categories/sugars.npy\", new_sugars)\n",
    "energy_compounds = load(\"../../CommScores/commscores/data/categories/energy_compounds.npy\")"
   ]
  },
  {
   "cell_type": "code",
   "execution_count": 122,
   "metadata": {},
   "outputs": [],
   "source": [
    "from numpy import save, delete\n",
    "fatty_acids = [[\"cpd01107\", \"Caprate\"], [\"cpd01741\", \"Laurate\"], [\"cpd15640\", \"Tridecanoate\"],\n",
    "                [\"cpd03847\", \"Myristate\"], [\"cpd16351\", \"Pentadecanoate\"], [\"cpd00214\", \"Palmitate\"],\n",
    "               [\"cpd15609\", \"heptadecanoate\"], [\"cpd01080\", \"Stearate\"], [\"cpd00536\", \"Oleate\"],\n",
    "               [\"cpd01122\", \"Linoelate\"], [\"cpd03850\", \"Linoleate\"], [\"cpd03848\", \"Arachidate\"]]\n",
    "save(\"../../CommScores/commscores/data/categories/fattyAcids.npy\", fatty_acids)"
   ]
  },
  {
   "cell_type": "code",
   "execution_count": 112,
   "metadata": {},
   "outputs": [
    {
     "data": {
      "text/plain": [
       "array([['cpd00035', 'Alanine'],\n",
       "       ['cpd00051', 'L-Arginine'],\n",
       "       ['cpd00132', 'L-Asparagine'],\n",
       "       ['cpd00041', 'L-Aspartate'],\n",
       "       ['cpd00084', 'L-Cysteine'],\n",
       "       ['cpd00023', 'L-Glutamate'],\n",
       "       ['cpd00053', 'L-Glutamine'],\n",
       "       ['cpd00033', 'Glycine'],\n",
       "       ['cpd00119', 'L-Histidine'],\n",
       "       ['cpd00747', 'L-Hydroxyproline'],\n",
       "       ['cpd00322', 'L-Isoleucine'],\n",
       "       ['cpd00107', 'L-Leucine'],\n",
       "       ['cpd00039', 'L-Lysine'],\n",
       "       ['cpd00060', 'L-Methionine'],\n",
       "       ['cpd00066', 'L-Phenylalanine'],\n",
       "       ['cpd00129', 'L-Proline'],\n",
       "       ['cpd00054', 'L-Serine'],\n",
       "       ['cpd00161', 'L-Threonine'],\n",
       "       ['cpd00065', 'L-Tryptophan'],\n",
       "       ['cpd00069', 'L-Tyrosine'],\n",
       "       ['cpd00156', 'L-Valine']], dtype='<U16')"
      ]
     },
     "metadata": {},
     "output_type": "display_data"
    }
   ],
   "source": [
    "display(aminoAcids)"
   ]
  },
  {
   "cell_type": "code",
   "execution_count": 123,
   "metadata": {},
   "outputs": [],
   "source": [
    "# define the sets of amino acids\n",
    "aromaticAA = array([['cpd00066', 'L-Phenylalanine'], ['cpd00069', 'L-Tyrosine'], ['cpd00065', 'L-Tryptophan']])\n",
    "pyruvateAA = array([['cpd00035', 'Alanine'], ['cpd00107', 'L-Leucine'], ['cpd00322', 'L-Isoleucine'], ['cpd00156', 'L-Valine']])\n",
    "alphaKetaGlutarateAA = array([['cpd00023', 'L-Glutamate'], ['cpd00053', 'L-Glutamine'], ['cpd00129', 'L-Proline'], ['cpd00051', 'L-Arginine'],\n",
    "                              ['cpd00747', 'L-Hydroxyproline']])\n",
    "oxaloacetateAA = array([['cpd00132', 'L-Asparagine'], ['cpd00041', 'L-Aspartate'], \n",
    "                        ['cpd00060', 'L-Methionine'], ['cpd00161', 'L-Threonine'], ['cpd00039', 'L-Lysine']])\n",
    "phosphoglycerateAA = array([['cpd00054', 'L-Serine'], ['cpd00033', 'Glycine'], ['cpd00084', 'L-Cysteine']])\n",
    "oxoAAs = array([[\"cpd01293\", \"Oxoproline\"], [\"cpd01292\", \"Oxoproline\"], [\"cpd00024\", \"2-Oxoglutarate\"]])\n",
    "\n",
    "# save the amino acid categories\n",
    "save(\"../../CommScores/commscores/data/categories/aromaticAA.npy\", aromaticAA)\n",
    "save(\"../../CommScores/commscores/data/categories/pyruvateAA.npy\", pyruvateAA)\n",
    "save(\"../../CommScores/commscores/data/categories/alphaKetaGlutarateAA.npy\", alphaKetaGlutarateAA)\n",
    "save(\"../../CommScores/commscores/data/categories/oxaloacetateAA.npy\", oxaloacetateAA)\n",
    "save(\"../../CommScores/commscores/data/categories/phosphoglycerateAA.npy\", phosphoglycerateAA)\n",
    "save(\"../../CommScores/commscores/data/categories/oxoAAs\", oxoAAs)"
   ]
  },
  {
   "cell_type": "code",
   "execution_count": 121,
   "metadata": {},
   "outputs": [
    {
     "name": "stdout",
     "output_type": "stream",
     "text": [
      "['cpd00119' 'L-Histidine']\n"
     ]
    }
   ],
   "source": [
    "from numpy import concatenate\n",
    "\n",
    "all_specifiedAAs = concatenate([aromaticAA, pyruvateAA, alphaKetaGlutarateAA, oxaloacetateAA, phosphoglycerateAA])\n",
    "for aa in aminoAcids:\n",
    "    if aa not in all_specifiedAAs:\n",
    "        print(aa)"
   ]
  },
  {
   "cell_type": "code",
   "execution_count": 110,
   "metadata": {},
   "outputs": [],
   "source": [
    "# new_energy_compounds = []\n",
    "# for cpd, name in energy_compounds:\n",
    "#     # print(cpd, name)\n",
    "#     if name in fatty_acids:\n",
    "#         new_energy_compounds = delete(energy_compounds, name, 1)"
   ]
  },
  {
   "cell_type": "code",
   "execution_count": 111,
   "metadata": {},
   "outputs": [
    {
     "name": "stdout",
     "output_type": "stream",
     "text": [
      "0 29614\n"
     ]
    }
   ],
   "source": [
    "print(len(new_energy_compounds), len(energy_compounds))"
   ]
  },
  {
   "cell_type": "code",
   "execution_count": 104,
   "metadata": {},
   "outputs": [
    {
     "data": {
      "text/plain": [
       "array([['cpd00029', 'Acetate'],\n",
       "       ['cpd00141', 'Propionate'],\n",
       "       ['cpd00211', 'Butyrate'],\n",
       "       ['cpd01711', 'Isobutyrate'],\n",
       "       ['cpd00597', 'Valerate'],\n",
       "       ['cpd16265', 'M_2_Keto_isovalerate'],\n",
       "       ['cpd35499', '(S)-2-methylbutanoate'],\n",
       "       ['cpd00106', 'Fumarate']], dtype='<U21')"
      ]
     },
     "metadata": {},
     "output_type": "display_data"
    }
   ],
   "source": [
    "new_scfa = append(scfa, [[\"cpd00106\", \"Fumarate\"]], axis=0)\n",
    "display(new_scfa)"
   ]
  },
  {
   "cell_type": "code",
   "execution_count": 145,
   "metadata": {},
   "outputs": [
    {
     "name": "stdout",
     "output_type": "stream",
     "text": [
      "cpd00218\n",
      "25/63 compounds are not yet exchanged\n",
      "['3alpha-hydroxy-7-oxo-5beta-cholan-24-oate', 'trans-4-Hydroxy-L-proline', '5-Oxoproline', 'Picolinic acid', 'Lithocholate', 'Ursodiol', 'N-Acetyl-D-glucosamine', '2-Oxoglutarate', 'CELB', 'Cholate', 'Citrate', 'Deoxycholate', 'L-Histidine', 'Hexanoate', 'indol', 'L-Inositol', 'L-Malate', 'Phycite', 'Niacin', 'octanoate', 'Ornithine', 'Pyruvate', 'Melitose', 'D-Serine', 'Succinate']\n",
      "[{'id': 'cpd35610', 'name': '3alpha-hydroxy-7-oxo-5beta-cholan-24-oate', 'compartment': ''}, {'id': 'cpd00851', 'name': 'trans-4-Hydroxy-L-proline', 'compartment': ''}, {'id': 'cpd01293', 'name': '5-Oxoproline', 'compartment': ''}, {'id': 'cpd07053', 'name': 'Picolinic acid', 'compartment': ''}, {'id': 'cpd02475', 'name': 'Lithocholate', 'compartment': ''}, {'id': 'cpd04945', 'name': 'Ursodiol', 'compartment': ''}, {'id': 'scFattyAcid', 'name': 'Acetate', 'compartment': ''}, {'id': 'cpd00122', 'name': 'N-Acetyl-D-glucosamine', 'compartment': ''}, {'id': 'cpd00024', 'name': '2-Oxoglutarate', 'compartment': ''}, {'id': 'Pyruvate AA', 'name': 'L-Alanine', 'compartment': ''}, {'id': 'Sugar', 'name': 'D-Allose', 'compartment': ''}, {'id': 'Sugar', 'name': 'L-Arabinose', 'compartment': ''}, {'id': 'OxaloacetateAA', 'name': 'L-Asparagine', 'compartment': ''}, {'id': 'OxaloacetateAA', 'name': 'L-Aspartate', 'compartment': ''}, {'id': 'scFattyAcid', 'name': 'Butyrate', 'compartment': ''}, {'id': 'cpd00158', 'name': 'CELB', 'compartment': ''}, {'id': 'cpd00526', 'name': 'Cholate', 'compartment': ''}, {'id': 'fattyAcid', 'name': 'Oleate', 'compartment': ''}, {'id': 'cpd00137', 'name': 'Citrate', 'compartment': ''}, {'id': 'phosphoGlycerateAA', 'name': 'L-Cysteine', 'compartment': ''}, {'id': 'fattyAcid', 'name': 'Decanoate', 'compartment': ''}, {'id': 'cpd02733', 'name': 'Deoxycholate', 'compartment': ''}, {'id': 'fattyAcid', 'name': 'ddca', 'compartment': ''}, {'id': 'Sugar', 'name': 'Thyminose', 'compartment': ''}, {'id': 'Sugar', 'name': 'D-Fructose', 'compartment': ''}, {'id': 'Sugar', 'name': 'L-Fucose', 'compartment': ''}, {'id': 'scFattyAcid', 'name': 'Fumarate', 'compartment': ''}, {'id': 'Sugar', 'name': 'Galactose', 'compartment': ''}, {'id': 'Sugar', 'name': 'Dulcose', 'compartment': ''}, {'id': 'Sugar', 'name': 'D-Glucose', 'compartment': ''}, {'id': 'alphaKetaGlutarateAA', 'name': 'L-Glutamate', 'compartment': ''}, {'id': 'phosphoGlycerateAA', 'name': 'Glycine', 'compartment': ''}, {'id': 'fattyAcid', 'name': 'Palmitate', 'compartment': ''}, {'id': 'cpd00119', 'name': 'L-Histidine', 'compartment': ''}, {'id': 'cpd01113', 'name': 'Hexanoate', 'compartment': ''}, {'id': 'Pyruvate AA', 'name': 'L-Isoleucine', 'compartment': ''}, {'id': 'cpd00359', 'name': 'indol', 'compartment': ''}, {'id': 'cpd00121', 'name': 'L-Inositol', 'compartment': ''}, {'id': 'Pyruvate AA', 'name': 'L-Leucine', 'compartment': ''}, {'id': 'fattyAcid', 'name': 'Linoleate', 'compartment': ''}, {'id': 'OxaloacetateAA', 'name': 'L-Lysine', 'compartment': ''}, {'id': 'cpd00130', 'name': 'L-Malate', 'compartment': ''}, {'id': 'Sugar', 'name': 'Melibiose', 'compartment': ''}, {'id': 'cpd00392', 'name': 'Phycite', 'compartment': ''}, {'id': 'OxaloacetateAA', 'name': 'L-Methionine', 'compartment': ''}, {'id': 'cpd00218', 'name': 'Niacin', 'compartment': ''}, {'id': 'cpd03846', 'name': 'octanoate', 'compartment': ''}, {'id': 'cpd00064', 'name': 'Ornithine', 'compartment': ''}, {'id': 'Aromatic AA', 'name': 'L-Phenylalanine', 'compartment': ''}, {'id': 'scFattyAcid', 'name': 'Propionate', 'compartment': ''}, {'id': 'alphaKetaGlutarateAA', 'name': 'L-Proline', 'compartment': ''}, {'id': 'scFattyAcid', 'name': 'Valerate', 'compartment': ''}, {'id': 'cpd00020', 'name': 'Pyruvate', 'compartment': ''}, {'id': 'cpd00382', 'name': 'Melitose', 'compartment': ''}, {'id': 'Sugar', 'name': 'D-Ribose', 'compartment': ''}, {'id': 'Sugar', 'name': 'L-Rhamnose', 'compartment': ''}, {'id': 'cpd00550', 'name': 'D-Serine', 'compartment': ''}, {'id': 'cpd00036', 'name': 'Succinate', 'compartment': ''}, {'id': 'Sugar', 'name': 'Sucrose', 'compartment': ''}, {'id': 'OxaloacetateAA', 'name': 'L-Threonine', 'compartment': ''}, {'id': 'fattyAcid', 'name': 'Myristic acid', 'compartment': ''}, {'id': 'Aromatic AA', 'name': 'L-Tyrosine', 'compartment': ''}, {'id': 'Pyruvate AA', 'name': 'L-Valine', 'compartment': ''}]\n"
     ]
    }
   ],
   "source": [
    "from json import load\n",
    "\n",
    "with open(\"ASVInteractionModel.json\", 'r') as jsonIn:\n",
    "    model = load(jsonIn)\n",
    "\n",
    "# check which vitamins are in the model\n",
    "metabolites = [met[\"id\"] for met in model[\"metabolites\"]]\n",
    "vitamin_dict = dict(vitamins)\n",
    "for metID in metabolites:\n",
    "    if metID in vitamin_dict:\n",
    "        print(metID)\n",
    "\n",
    "# define dictionaries of all the categories\n",
    "## amino acids\n",
    "aromaticAA_dict, pyruvateAA_dict, alphaKetaGlutarateAA_dict = dict(aromaticAA), dict(pyruvateAA), dict(alphaKetaGlutarateAA)\n",
    "oxaloacetateAA_dict, phosphoglycerateAA_dict = dict(oxaloacetateAA), dict(phosphoglycerateAA)\n",
    "## fatty acids\n",
    "fatty_acids_dict, scfa_dict, sugars_dict = dict(fatty_acids), dict(scfa), dict(sugars)\n",
    "\n",
    "# categorize the model metabolites\n",
    "not_changed = []\n",
    "for met in model[\"metabolites\"]:\n",
    "    ## amino acids\n",
    "    if met[\"id\"] in aromaticAA_dict:   met[\"id\"] = \"Aromatic AA\"\n",
    "    elif met[\"id\"] in pyruvateAA_dict:   met[\"id\"] = \"Pyruvate AA\"\n",
    "    elif met[\"id\"] in alphaKetaGlutarateAA_dict:   met[\"id\"] = \"alphaKetaGlutarateAA\"\n",
    "    elif met[\"id\"] in oxaloacetateAA_dict:   met[\"id\"] = \"OxaloacetateAA\"\n",
    "    elif met[\"id\"] in phosphoglycerateAA_dict:   met[\"id\"] = \"phosphoGlycerateAA\"\n",
    "    ## other compounds\n",
    "    elif met[\"id\"] in fatty_acids_dict:   met[\"id\"] = \"fattyAcid\"\n",
    "    elif met[\"id\"] in scfa_dict:   met[\"id\"] = \"scFattyAcid\"\n",
    "    elif met[\"id\"] in sugars_dict:   met[\"id\"] = \"Sugar\"\n",
    "    else:   not_changed.append(met[\"name\"])\n",
    "\n",
    "print(f\"{len(not_changed)}/{len(model['metabolites'])} compounds are not yet exchanged\")\n",
    "print(not_changed)\n",
    "\n",
    "# export the converted model\n",
    "from json import dump\n",
    "print(model[\"metabolites\"])\n",
    "with open(\"ASVInteractionModel_categorized.json\", 'w') as jsonOut:\n",
    "    dump(model, jsonOut, indent=3)"
   ]
  },
  {
   "cell_type": "code",
   "execution_count": null,
   "metadata": {},
   "outputs": [],
   "source": []
  }
 ],
 "metadata": {
  "kernelspec": {
   "display_name": "Python 3",
   "language": "python",
   "name": "python3"
  },
  "language_info": {
   "codemirror_mode": {
    "name": "ipython",
    "version": 3
   },
   "file_extension": ".py",
   "mimetype": "text/x-python",
   "name": "python",
   "nbconvert_exporter": "python",
   "pygments_lexer": "ipython3",
   "version": "3.10.6"
  }
 },
 "nbformat": 4,
 "nbformat_minor": 2
}
