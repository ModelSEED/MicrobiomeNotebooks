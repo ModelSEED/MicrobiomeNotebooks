{
 "cells": [
  {
   "cell_type": "markdown",
   "metadata": {},
   "source": [
    "# renaming the reactions according to columns and rows"
   ]
  },
  {
   "cell_type": "code",
   "execution_count": 34,
   "metadata": {},
   "outputs": [
    {
     "name": "stdout",
     "output_type": "stream",
     "text": [
      "{'0': {'name': 'diphosphate phosphohydrolase', 'bigg_id': 'rxn00001', 'reversibility': False, 'label_x': -642.8153489006918, 'label_y': 103.11225355934926, 'gene_reaction_rule': '', 'genes': [], 'metabolites': [{'bigg_id': 'cpd00012', 'coefficient': -1}, {'bigg_id': 'cpd00067', 'coefficient': 1}, {'bigg_id': 'cpd00001', 'coefficient': -1}, {'bigg_id': 'cpd00009', 'coefficient': 2}], 'segments': {'0': {'from_node_id': '1', 'to_node_id': '2', 'b1': None, 'b2': None}, '1': {'from_node_id': '3', 'to_node_id': '2', 'b1': None, 'b2': None}, '2': {'from_node_id': '1', 'to_node_id': '0', 'b1': {'x': -638.8122011531899, 'y': 126.74002323747482}, 'b2': {'x': -693.0594201712433, 'y': 127.28932170583562}}, '3': {'from_node_id': '3', 'to_node_id': '4', 'b1': {'x': -514.8185576833539, 'y': 125.48448388122324}, 'b2': {'x': -460.57133866530046, 'y': 124.93518541286244}}, '4': {'from_node_id': '1', 'to_node_id': '5', 'b1': {'x': -642.8119961038293, 'y': 126.78052450703285}, 'b2': {'x': -647.8794712635404, 'y': 144.8327597012044}}, '5': {'from_node_id': '3', 'to_node_id': '6', 'b1': {'x': -510.81876273271337, 'y': 125.44398261166657}, 'b2': {'x': -505.3867761469945, 'y': 143.38990197325234}}}}, '1': {'name': 'pyruvate:pyruvate acetaldehydetransferase (decarboxylating)', 'bigg_id': 'rxn00003', 'reversibility': False, 'label_x': 173.1140803891691, 'label_y': 103.14294238935321, 'gene_reaction_rule': '', 'genes': [], 'metabolites': [{'bigg_id': 'cpd00011', 'coefficient': -1}, {'bigg_id': 'cpd00067', 'coefficient': 1}, {'bigg_id': 'cpd00020', 'coefficient': 2}, {'bigg_id': 'cpd00668', 'coefficient': -1}], 'segments': {'6': {'from_node_id': '8', 'to_node_id': '9', 'b1': None, 'b2': None}, '7': {'from_node_id': '10', 'to_node_id': '9', 'b1': None, 'b2': None}, '8': {'from_node_id': '8', 'to_node_id': '7', 'b1': {'x': 180.11516853562, 'y': 120.51026918642765}, 'b2': {'x': 125.86612066376483, 'y': 120.83168013386779}}, '9': {'from_node_id': '10', 'to_node_id': '11', 'b1': {'x': 304.1129922427184, 'y': 119.77561559227883}, 'b2': {'x': 358.3620401145738, 'y': 119.45420464483874}}, '10': {'from_node_id': '10', 'to_node_id': '12', 'b1': {'x': 308.1129220397215, 'y': 119.75191708924183}, 'b2': {'x': 313.46947316195497, 'y': 137.72049689051994}}, '11': {'from_node_id': '8', 'to_node_id': '13', 'b1': {'x': 176.11523873861654, 'y': 120.53396768946516}, 'b2': {'x': 170.97197414371703, 'y': 138.56475606121512}}}}, '2': {'name': 'urea-1-carboxylate amidohydrolase', 'bigg_id': 'rxn00002', 'reversibility': False, 'label_x': -658.8974337297191, 'label_y': 496.6036715513169, 'gene_reaction_rule': '', 'genes': [], 'metabolites': [{'bigg_id': 'cpd00742', 'coefficient': -1}, {'bigg_id': 'cpd00011', 'coefficient': 2}, {'bigg_id': 'cpd00013', 'coefficient': 2}, {'bigg_id': 'cpd00067', 'coefficient': -3}, {'bigg_id': 'cpd00001', 'coefficient': -1}], 'segments': {'12': {'from_node_id': '15', 'to_node_id': '16', 'b1': None, 'b2': None}, '13': {'from_node_id': '17', 'to_node_id': '16', 'b1': None, 'b2': None}, '14': {'from_node_id': '15', 'to_node_id': '14', 'b1': {'x': -678.894041112658, 'y': 523.2522341309357}, 'b2': {'x': -733.1410725727296, 'y': 523.8197530909831}}, '15': {'from_node_id': '17', 'to_node_id': '18', 'b1': {'x': -554.9008263467804, 'y': 521.9550479365413}, 'b2': {'x': -500.6537948867092, 'y': 521.3875289764933}}, '16': {'from_node_id': '17', 'to_node_id': '19', 'b1': {'x': -550.9010452253003, 'y': 521.9132032205931}, 'b2': {'x': -545.4630312815907, 'y': 539.8572970775705}}, '17': {'from_node_id': '15', 'to_node_id': '20', 'b1': {'x': -682.8938222341378, 'y': 523.294078846884}, 'b2': {'x': -688.3318361778472, 'y': 505.34998498990603}}, '18': {'from_node_id': '15', 'to_node_id': '21', 'b1': {'x': -682.8938222341378, 'y': 523.294078846884}, 'b2': {'x': -687.9552337343134, 'y': 541.3480150832258}}}}}\n",
      "[-642.8153489006918, 173.1140803891691] [103.11225355934926, 496.6036715513169]\n",
      "[{'bigg_id': 'cpd00012_0_0_0', 'coefficient': -1}, {'bigg_id': 'cpd00067_0_0_0', 'coefficient': 1}, {'bigg_id': 'cpd00001_0_0_0', 'coefficient': -1}, {'bigg_id': 'cpd00009_0_0_0', 'coefficient': 2}]\n",
      "[{'bigg_id': 'cpd00011_1_0_0', 'coefficient': -1}, {'bigg_id': 'cpd00067_1_0_0', 'coefficient': 1}, {'bigg_id': 'cpd00020_1_0_0', 'coefficient': 2}, {'bigg_id': 'cpd00668_1_0_0', 'coefficient': -1}]\n",
      "[{'bigg_id': 'cpd00742_0_1_0', 'coefficient': -1}, {'bigg_id': 'cpd00011_0_1_0', 'coefficient': 2}, {'bigg_id': 'cpd00013_0_1_0', 'coefficient': 2}, {'bigg_id': 'cpd00067_0_1_0', 'coefficient': -3}, {'bigg_id': 'cpd00001_0_1_0', 'coefficient': -1}]\n"
     ]
    }
   ],
   "source": [
    "from math import isclose\n",
    "from json import load, dump\n",
    "\n",
    "with open(\"WesternDietMicrobiomes/escherMap.json\", \"r\") as jsonIn:    escherMap = load(jsonIn)\n",
    "\n",
    "# display(escherMap)\n",
    "\n",
    "xs, ys = [], []\n",
    "for index, lst in enumerate(escherMap):\n",
    "    for k, content in lst.items():\n",
    "        if k != \"reactions\":  continue\n",
    "        print(content)\n",
    "        for rxn, content2 in content.items():\n",
    "            if \"label_x\" not in content2:  print(content2) ; continue\n",
    "            if not any([isclose(content2[\"label_x\"], x, abs_tol=50) for x in xs]):   xs.append(content2[\"label_x\"])\n",
    "            if not any([isclose(content2[\"label_y\"], y, abs_tol=50) for y in ys]):   ys.append(content2[\"label_y\"])\n",
    "\n",
    "print(xs, ys)\n",
    "\n",
    "for index, lst in enumerate(escherMap):\n",
    "    for k, content in lst.items():\n",
    "        if k != \"reactions\":  continue\n",
    "        for rxn, content2 in content.items():\n",
    "            for x in xs:\n",
    "                if isclose(content2[\"label_x\"], x, abs_tol=50):\n",
    "                    col_index = xs.index(x)\n",
    "                    continue\n",
    "            for y in ys:\n",
    "                if isclose(content2[\"label_y\"], y, abs_tol=50):\n",
    "                    row_index = ys.index(y)\n",
    "                    continue\n",
    "            for attribute, val in content2.items():\n",
    "                if attribute == \"metabolites\":\n",
    "                    metabolite_dics = []\n",
    "                    for metabolite in val:\n",
    "                        metabolite_dic = {}\n",
    "                        for cpd_index, (k2, val2) in enumerate(metabolite.items()):\n",
    "                            if k2 == \"bigg_id\":  metabolite_dic[k2] = f\"{val2}_{col_index}_{row_index}_{cpd_index}\"\n",
    "                            elif k2 == \"coefficient\":  metabolite_dic[k2] = val2\n",
    "                        metabolite_dics.append(metabolite_dic)\n",
    "                    escherMap[index][k][rxn][attribute] = metabolite_dics\n",
    "                    print(escherMap[index][k][rxn][attribute])\n",
    "                if attribute == \"bigg_id\":   escherMap[index][k][rxn][attribute] = f\"{val}_{col_index}_{row_index}\"\n",
    "                # if attribute == \"metabolites\":\n",
    "                    # escherMap[index][k][rxn][attribute] = val+\n",
    "                # print(attribute, val)\n",
    "\n",
    "\n",
    "with open(\"WesternDietMicrobiomes/escherMap_edited.json\", \"w\") as jsonOut:    escherMap = dump(escherMap, jsonOut, indent=3)"
   ]
  },
  {
   "cell_type": "markdown",
   "metadata": {},
   "source": [
    "# duplicating reactions across a specified number of rows and columns"
   ]
  },
  {
   "cell_type": "code",
   "execution_count": 45,
   "metadata": {},
   "outputs": [
    {
     "data": {
      "text/plain": [
       "3600.0"
      ]
     },
     "execution_count": 45,
     "metadata": {},
     "output_type": "execute_result"
    }
   ],
   "source": [
    "2961.18779884681--638.8122011531899"
   ]
  },
  {
   "cell_type": "code",
   "execution_count": 38,
   "metadata": {},
   "outputs": [
    {
     "name": "stdout",
     "output_type": "stream",
     "text": [
      "2\n",
      "800 400\n",
      "rows\n",
      "800 400\n"
     ]
    },
    {
     "data": {
      "text/plain": [
       "dict_keys(['name', 'bigg_id', 'reversibility', 'label_x', 'label_y', 'gene_reaction_rule', 'genes', 'metabolites', 'segments'])"
      ]
     },
     "metadata": {},
     "output_type": "display_data"
    },
    {
     "data": {
      "text/plain": [
       "dict_keys(['name', 'bigg_id', 'reversibility', 'label_x', 'label_y', 'gene_reaction_rule', 'genes', 'metabolites', 'segments'])"
      ]
     },
     "metadata": {},
     "output_type": "display_data"
    },
    {
     "name": "stdout",
     "output_type": "stream",
     "text": [
      "rows\n",
      "800 400\n",
      "dict_keys(['0', '1', '2', '3', '4', '5', '6', '7', '8', '9', '10', '11', '12', '13', '14', '15', '16', '17', '18', '19', '20', '21', '22'])\n",
      "dict_keys(['0', '1', '2', '3', '4', '5', '6', '7', '8', '9', '10', '11', '12', '13', '14', '15', '16', '17', '18', '19', '20', '21', '22'])\n"
     ]
    }
   ],
   "source": [
    "from json import load, dump\n",
    "\n",
    "def duplicate_rxn(escherJSON_path, rows=None, columns=None, row_step_size=800, col_step_size=400):\n",
    "    assert rows is not None or columns is not None, \"What are you doing?\"\n",
    "\n",
    "    with open(escherJSON_path, \"r\") as jsonIn:\n",
    "        escherMap = load(jsonIn)\n",
    "\n",
    "    # display(escherMap)\n",
    "    print(len(escherMap))\n",
    "\n",
    "    print(row_step_size, col_step_size)\n",
    "\n",
    "    for i, lst in enumerate(escherMap):\n",
    "        if i == 0:  continue\n",
    "        for k, content in lst.items():\n",
    "            if k == \"reactions\":\n",
    "                # row reaction development\n",
    "                print(\"rows\")\n",
    "                print(row_step_size, col_step_size)\n",
    "                updated_reactions = {} if \"updated_reactions\" not in locals() else updated_reactions\n",
    "                if isinstance(rows, int):\n",
    "                    row_reactions = {k:v for k,v in content.items()}\n",
    "                    for row_index in range(1, rows):\n",
    "                        # print(content.keys())\n",
    "                        for rxnNum, content2 in content.items():\n",
    "                            nextRxn = str(int(rxnNum)+1)\n",
    "                            ## define the content of this reaction\n",
    "                            new_content = {k:v for k,v in content2.items()}\n",
    "                            ## translate the label\n",
    "                            new_content[\"label_y\"] += row_step_size*row_index\n",
    "                            ## rename the reaction according to its new translation\n",
    "                            rxnName_content = new_content[\"bigg_id\"].split(\"_\")\n",
    "                            colNum, rowNum = rxnName_content[1], rxnName_content[2]\n",
    "                            new_content[\"bigg_id\"] = f\"{rxnName_content[0]}_{colNum}_{str(int(rowNum)+1)}\"\n",
    "                            ## rename the metabolites\n",
    "                            for index, metabolite in enumerate(new_content[\"metabolites\"]):\n",
    "                                ### rename the metabolites\n",
    "                                ID_content = metabolite[\"bigg_id\"].split(\"_\")\n",
    "                                metabolite[\"bigg_id\"] = f\"{ID_content[0]}_{colNum}_{rowNum}_{index}\"\n",
    "                            ## update the metabolite nodes\n",
    "                            display(new_content.keys())\n",
    "                            ## update the edge segments\n",
    "                            for num, content3 in new_content[\"segments\"].items():\n",
    "                                dictionary_values = [value for value in content3.values() if isinstance(value, dict)]\n",
    "                                # print(dictionary_values)\n",
    "                                # for obj, value in content3.items():\n",
    "                                #     # print(list(map(len, [new_content, content3])))\n",
    "                                #     if isinstance(value, dict):\n",
    "                                #         print(rxnNum, num, obj, value) ;  new_content[\"segments\"][num][obj][\"y\"] += row_step_size*row_index\n",
    "                                #     if isinstance(value, dict):\n",
    "                                #         print(new_content[\"segments\"][num][obj])\n",
    "                            row_reactions[str(int(rxnNum)+row_index)] = new_content\n",
    "                            # print(row_reactions[str(int(rxn)+row_index)][\"segments\"][\"312\"][\"b2\"])\n",
    "                        updated_reactions.update({k:v for k,v in row_reactions.items()})\n",
    "            elif k == \"nodes\":\n",
    "                # row metabolite development\n",
    "                print(\"rows\")\n",
    "                print(row_step_size, col_step_size)\n",
    "                updated_reactions = {} if \"updated_reactions\" not in locals() else updated_reactions\n",
    "                if isinstance(rows, int):\n",
    "                    row_nodes = {k:v for k,v in content.items()}\n",
    "                    for row_index in range(1, rows):\n",
    "                        print(content.keys())\n",
    "                        # updated_reactions = {} if \"updated_reactions\" not in locals() else updated_reactions\n",
    "                        new_mets = {}\n",
    "                        for metNum, content2 in row_nodes.items():\n",
    "                            ### rename the node for this set of reactions\n",
    "                            # print(metNum)\n",
    "                            new_mets[f\"{nextRxn}{metNum}\"] = content2\n",
    "                            ### translating the node locations\n",
    "                            if new_mets[f\"{nextRxn}{metNum}\"][\"node_type\"] in [\"multimarker\", \"midmarker\"]:\n",
    "                                new_mets[f\"{nextRxn}{metNum}\"][\"y\"] += row_step_size*row_index\n",
    "                            elif new_mets[f\"{nextRxn}{metNum}\"][\"node_type\"] == \"metabolite\":\n",
    "                                new_mets[f\"{nextRxn}{metNum}\"][\"y\"] += row_step_size*row_index\n",
    "                                new_mets[f\"{nextRxn}{metNum}\"][\"label_y\"] += row_step_size*row_index\n",
    "                        updated_reactions.update({k:v for k,v in row_reactions.items()})\n",
    "            # else:   print(k)\n",
    "        escherMap[i][k] = updated_reactions  \n",
    "        # if index == len(escherMap)-1:  break\n",
    "        # print(\"columns\")\n",
    "        # print(row_step_size, col_step_size)\n",
    "        # if isinstance(columns, int):\n",
    "        #     reactions = content if rows is not None else updated_reactions\n",
    "        #     col_reactions = {}\n",
    "        #     for col_index in range(columns):\n",
    "        #         for rxnNum, content2 in reactions.items():\n",
    "        #             new_content = {k:v for k,v in content2.items()}\n",
    "        #             new_content[\"label_x\"] += col_step_size*col_index\n",
    "        #             for num, content3 in new_content[\"segments\"].items():\n",
    "        #                 for obj, value in content3.items():\n",
    "        #                     if isinstance(value, dict):  print(rxnNum, num, obj, value) ; new_content[\"segments\"][num][obj][\"x\"] += col_step_size*col_index\n",
    "        #                     if isinstance(value, dict):  print(new_content[\"segments\"][num][obj])\n",
    "        #             col_reactions[str(int(rxnNum)+col_index)] = new_content\n",
    "        #         updated_reactions.update({k:v for k,v in row_reactions.items()})\n",
    "\n",
    "        #     escherMap[index][k] = updated_reactions    \n",
    "\n",
    "    with open(escherJSON_path.replace(\".json\", \"_edited.json\"), \"w\") as jsonOut:  dump(escherMap, jsonOut, indent=3)\n",
    "\n",
    "duplicate_rxn(\"oneRXN_localized2.json\", rows=3, columns=None)"
   ]
  },
  {
   "cell_type": "code",
   "execution_count": 54,
   "metadata": {},
   "outputs": [
    {
     "name": "stdout",
     "output_type": "stream",
     "text": [
      "1200.0\n",
      "1200.0\n"
     ]
    }
   ],
   "source": [
    "print(1596.7619819523752-396.7619819523753)\n",
    "print(2796.761981952375-1596.7619819523752)"
   ]
  },
  {
   "cell_type": "code",
   "execution_count": 18,
   "metadata": {},
   "outputs": [],
   "source": [
    "from json import load, dump\n",
    "\n",
    "with open(\"WesternDietMicrobiomes/oneRXN_localized.json\", \"r\") as jsonIn:\n",
    "    escherMap = load(jsonIn)\n",
    "\n",
    "with open(\"WesternDietMicrobiomes/oneRXN_localized2.json\", \"w\") as jsonOut:\n",
    "    escherMap = dump(escherMap, jsonOut, indent=3)"
   ]
  },
  {
   "cell_type": "code",
   "execution_count": null,
   "metadata": {},
   "outputs": [],
   "source": []
  },
  {
   "cell_type": "markdown",
   "metadata": {},
   "source": [
    "# process the ASVMetaboliteInteractions community interactions"
   ]
  },
  {
   "cell_type": "markdown",
   "metadata": {},
   "source": [
    "## parse the stoichiometric relationships"
   ]
  },
  {
   "cell_type": "code",
   "execution_count": 3,
   "metadata": {},
   "outputs": [],
   "source": [
    "from pandas import read_csv\n",
    "from json import dump\n",
    "\n",
    "interactions = read_csv(\"ASVMetaboliteInteractions.csv\").set_index(\"ASV\")\n",
    "stoich_mapping = {}\n",
    "for index, row in interactions.iterrows():\n",
    "    stoich_mapping[index] = {\"reactants\":{}, \"products\":{}}\n",
    "    for col, ele in row.items():\n",
    "        metID = col.split(\"_\")[0]\n",
    "        if ele > 0:   stoich_mapping[index][\"products\"][metID] = ele\n",
    "        elif ele < 0:   stoich_mapping[index][\"reactants\"][metID] = ele\n",
    "\n",
    "# display(stoich_mapping)\n",
    "with open(\"ASV_metabolic_activity_stoich.json\", 'w') as jsonOut:\n",
    "    dump(stoich_mapping, jsonOut, indent=3)"
   ]
  },
  {
   "cell_type": "markdown",
   "metadata": {},
   "source": [
    "## process the stoich into Escher mapping coordinates"
   ]
  },
  {
   "cell_type": "code",
   "execution_count": null,
   "metadata": {},
   "outputs": [],
   "source": []
  }
 ],
 "metadata": {
  "kernelspec": {
   "display_name": "Python 3",
   "language": "python",
   "name": "python3"
  },
  "language_info": {
   "codemirror_mode": {
    "name": "ipython",
    "version": 3
   },
   "file_extension": ".py",
   "mimetype": "text/x-python",
   "name": "python",
   "nbconvert_exporter": "python",
   "pygments_lexer": "ipython3",
   "version": "3.10.6"
  }
 },
 "nbformat": 4,
 "nbformat_minor": 2
}
