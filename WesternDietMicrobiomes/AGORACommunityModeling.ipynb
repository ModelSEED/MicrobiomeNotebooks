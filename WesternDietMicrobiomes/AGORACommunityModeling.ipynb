{
 "cells": [
  {
   "cell_type": "markdown",
   "metadata": {},
   "source": [
    "# Configure KBase Jupyter Dev Environment"
   ]
  },
  {
   "cell_type": "code",
   "execution_count": 1,
   "metadata": {
    "tags": []
   },
   "outputs": [
    {
     "name": "stdout",
     "output_type": "stream",
     "text": [
      "python version 3.9.13\n",
      "KBBaseModules 0.0.1\n"
     ]
    },
    {
     "name": "stderr",
     "output_type": "stream",
     "text": [
      "1713067476.7560909 INFO: Note: NumExpr detected 16 cores but \"NUMEXPR_MAX_THREADS\" not set, so enforcing safe limit of 8.\n",
      "1713067476.756782 INFO: NumExpr defaulting to 8 threads.\n"
     ]
    },
    {
     "name": "stdout",
     "output_type": "stream",
     "text": [
      "modelseedpy 0.3.3\n",
      "cobrakbase 0.3.1\n",
      "Output files printed to:/Users/chenry/code/notebooks/MicrobiomeNotebooks/WesternDietMicrobiomes/nboutput when using KBDevUtils.output_dir\n",
      "ModelSEED: /Users/chenry/code//kb_sdk/run_local/workdir/tmp/\n"
     ]
    }
   ],
   "source": [
    "%run agoracommutil.py\n",
    "logger = logging.getLogger(__name__)\n",
    "logger.setLevel(logging.INFO)"
   ]
  },
  {
   "cell_type": "markdown",
   "metadata": {},
   "source": [
    "# Loading ASV abundances for all samples"
   ]
  },
  {
   "cell_type": "code",
   "execution_count": 2,
   "metadata": {
    "tags": []
   },
   "outputs": [],
   "source": [
    "asv_abundances = {\"Sample1\":{\"ASV00001;seqs=15073372;samples=2336\":0.5,\"ASV00002;seqs=7303020;samples=1403\":0.5}}\n",
    "asv_abundances = {\"Sample2\":{\n",
    "    \"ASV00002;seqs=7303020;samples=1403\":0.8333333333333334,\n",
    "    \"ASV00003;seqs=7068340;samples=1916\":11.333333333333334,\n",
    "    \"ASV00004;seqs=6473178;samples=1764\":593.3333333333333,\n",
    "    \"ASV00005;seqs=5940024;samples=3018\":8.027777777777779,\n",
    "    \"ASV00006;seqs=5698377;samples=2075\":100.88888888888889\n",
    "}}\n",
    "#Normalizing abundance\n",
    "for sample in asv_abundances:\n",
    "    total_abundance = sum(asv_abundances[sample].values())\n",
    "    for asv in asv_abundances[sample]:\n",
    "        asv_abundances[sample][asv] = asv_abundances[sample][asv]/total_abundance\n",
    "util.kbdevutil.save(\"asv_abundances\", asv_abundances)"
   ]
  },
  {
   "cell_type": "markdown",
   "metadata": {},
   "source": [
    "# Loading metabolomics data"
   ]
  },
  {
   "cell_type": "code",
   "execution_count": 20,
   "metadata": {},
   "outputs": [],
   "source": [
    "import pandas as pd\n",
    "df = pd.read_csv('metabolomics differences.csv')\n",
    "metabolomics_data = {}\n",
    "for index, row in df.iterrows():\n",
    "    metabolomics_data[row[\"day_diet diff\"]] = {}\n",
    "    for col in df:\n",
    "        if col != \"day_diet diff\":\n",
    "            if col in row:\n",
    "                metabolomics_data[row[\"day_diet diff\"]][col] = row[col]\n",
    "util.kbdevutil.save(\"metabolomics_data\", metabolomics_data)"
   ]
  },
  {
   "cell_type": "markdown",
   "metadata": {},
   "source": [
    "# Merging models to produce community models for all samples"
   ]
  },
  {
   "cell_type": "code",
   "execution_count": 9,
   "metadata": {
    "tags": []
   },
   "outputs": [
    {
     "name": "stdout",
     "output_type": "stream",
     "text": [
      "Processing sample: Sample2\n",
      "Processing ASV: ASV00002;seqs=7303020;samples=1403 with abundance: 0.0011664528169835532 in sample Sample2\n",
      "<Solution 151.387 at 0x7fa1139ebe50>\n",
      "Processing ASV: ASV00003;seqs=7068340;samples=1916 with abundance: 0.015863758310976323 in sample Sample2\n",
      "<Solution 280.109 at 0x7fa11404d130>\n",
      "Processing ASV: ASV00004;seqs=6473178;samples=1764 with abundance: 0.8305144056922897 in sample Sample2\n",
      "<Solution 57.494 at 0x7fa0f1683d00>\n",
      "Processing ASV: ASV00005;seqs=5940024;samples=3018 with abundance: 0.01123682880360823 in sample Sample2\n",
      "<Solution 150.594 at 0x7fa114969430>\n",
      "Processing ASV: ASV00006;seqs=5698377;samples=2075 with abundance: 0.14121855437614214 in sample Sample2\n",
      "<Solution 149.949 at 0x7fa0d37a4f70>\n",
      "EX_biomass(e)_ASV00002 100.0\n",
      "EX_biomass(e)_ASV00003 100.0\n",
      "EX_biomass(e)_ASV00004 59.690226007154585\n",
      "EX_biomass(e)_ASV00005 100.0\n",
      "EX_biomass(e)_ASV00006 100.0\n"
     ]
    }
   ],
   "source": [
    "import cobra\n",
    "from cobra import Model, Reaction, Metabolite\n",
    "asv_abundances = util.kbdevutil.load(\"asv_abundances\")\n",
    "constraints = {}\n",
    "biomass_compounds = {}\n",
    "abundance_by_name = {}\n",
    "species_reactions = {}\n",
    "newmodels = {}\n",
    "biomass_exchange_ids = {}\n",
    "for sample, abundances in asv_abundances.items():\n",
    "    print(\"Processing sample: \"+sample)\n",
    "    newmodels[sample] = Model(sample,sample)\n",
    "    constraints[sample] = {}\n",
    "    species_reactions[sample] = {}\n",
    "    biomass_compounds[sample] = {}\n",
    "    abundance_by_name[sample] = {}\n",
    "    biomass_exchange_ids[sample] = []\n",
    "    for asv, abundance in abundances.items():\n",
    "        print(\"Processing ASV: \"+asv+\" with abundance: \"+str(abundance)+\" in sample \"+sample)\n",
    "        name_array = asv.split(\";\")\n",
    "        species_reactions[sample][name_array[0]] = []\n",
    "        abundance_by_name[sample][name_array[0]] = abundance\n",
    "        model = cobra.io.read_sbml_model(\"models/\"+asv+'.xml')\n",
    "        model.objective = \"EX_biomass(e)\"\n",
    "        solution = model.optimize()\n",
    "        print(solution)\n",
    "        new_metabolites = []\n",
    "        new_reactions = []\n",
    "        for met in model.metabolites:\n",
    "            if met.compartment != \"e\":\n",
    "                met.id += \"_\"+str(name_array[0])\n",
    "            if met.id not in newmodels[sample].metabolites:\n",
    "                new_metabolites.append(met)\n",
    "                if \"biomass\" in met.id:\n",
    "                    biomass_compounds[sample][name_array[0]] = met.id\n",
    "        for rxn in model.reactions:\n",
    "            if rxn.id[0:3] == \"EX_\":\n",
    "                if \"biomass\" in rxn.id:\n",
    "                    rxn.id += \"_\"+str(name_array[0])\n",
    "                    if rxn.id not in biomass_exchange_ids[sample]:\n",
    "                         biomass_exchange_ids[sample].append(rxn.id)\n",
    "            else:\n",
    "                rxn.id += \"_\"+str(name_array[0])\n",
    "                species_reactions[sample][name_array[0]].append(rxn.id)\n",
    "            if rxn.id not in newmodels[sample].reactions:\n",
    "                new_reactions.append(rxn)\n",
    "        # Adding new reactions and compounds to base model\n",
    "        newmodels[sample].add_reactions(new_reactions)\n",
    "        newmodels[sample].add_metabolites(new_metabolites)\n",
    "    # Create community biomass\n",
    "    comm_biomass = Metabolite(\"community_biomass\", None, \"Community biomass\", 0, \"c\")\n",
    "    metabolites = {comm_biomass: 1}\n",
    "    drainmet = {comm_biomass: -1}\n",
    "    for asv in biomass_compounds[sample]:\n",
    "        met = newmodels[sample].metabolites.get_by_id(biomass_compounds[sample][asv])\n",
    "        metabolites[met] = -1*abundance_by_name[sample][asv]\n",
    "    comm_biorxn = Reaction(id=\"bio1\", name=\"bio1\", lower_bound=0, upper_bound=100)\n",
    "    comm_biorxn.add_metabolites(metabolites)\n",
    "    comm_drain = Reaction(id=\"EX_community_biomass\", name=\"EX_community_biomass\", lower_bound=0, upper_bound=100)\n",
    "    comm_drain.add_metabolites(drainmet)\n",
    "    newmodels[sample].add_reactions([comm_biorxn,comm_drain])\n",
    "    for bioex_id in biomass_exchange_ids[sample]:\n",
    "        rxn = newmodels[sample].reactions.get_by_id(bioex_id)\n",
    "        rxn.lower_bound = 0\n",
    "        rxn.upper_bound = 0\n",
    "    for bioex_id in biomass_exchange_ids[sample]:\n",
    "        rxn = newmodels[sample].reactions.get_by_id(bioex_id)\n",
    "        rxn.lower_bound = 0\n",
    "        rxn.upper_bound = 100\n",
    "        newmodels[sample].objective = bioex_id\n",
    "        solution = newmodels[sample].optimize()\n",
    "        print(bioex_id,solution.objective_value)\n",
    "        rxn.lower_bound = 0\n",
    "        rxn.upper_bound = 0\n",
    "    newmodels[sample].objective = \"bio1\"\n",
    "    cobra.io.save_json_model(newmodels[sample], 'nboutput/'+sample+'.json')\n",
    "    solution = newmodels[sample].optimize()\n",
    "util.kbdevutil.save(\"constraints\", constraints)\n",
    "util.kbdevutil.save(\"biomass_compounds\", biomass_compounds)\n",
    "util.kbdevutil.save(\"abundance_by_name\", abundance_by_name)\n",
    "util.kbdevutil.save(\"species_reactions\", species_reactions)\n",
    "util.kbdevutil.save(\"biomass_exchange_ids\", biomass_exchange_ids)"
   ]
  },
  {
   "cell_type": "markdown",
   "metadata": {},
   "source": [
    "# Add elemental uptake constraint"
   ]
  },
  {
   "cell_type": "code",
   "execution_count": 14,
   "metadata": {},
   "outputs": [
    {
     "name": "stdout",
     "output_type": "stream",
     "text": [
      "Deleting existing constraint\n"
     ]
    }
   ],
   "source": [
    "from optlang.symbolics import Zero, add\n",
    "element_parameters = {\"C\":100}\n",
    "if \"constraints\" not in globals():\n",
    "    constraints = util.kbdevutil.load(\"constraints\")\n",
    "for sample in asv_abundances:\n",
    "    #Removing constraints if they're there\n",
    "    if \"elements\" in constraints[sample]:\n",
    "        for element in constraints[sample][\"elements\"]:\n",
    "            newmodels[sample].remove_cons_vars(constraints[sample][\"elements\"][element])\n",
    "    constraints[sample][\"elements\"] = {}\n",
    "    for element, value in element_parameters.items():\n",
    "        constraints[sample][\"elements\"][element] = {}\n",
    "        coef = {}\n",
    "        for rxn in newmodels[sample].reactions:\n",
    "            if rxn.id[0:3] == \"EX_\":\n",
    "                total = 0\n",
    "                for metabolite in rxn.metabolites:\n",
    "                    elements = metabolite.elements\n",
    "                    if element in elements:\n",
    "                        total += elements[element] * rxn.metabolites[metabolite]\n",
    "                if total < 0:\n",
    "                    coef[rxn.reverse_variable] = -1*total\n",
    "                elif total > 0:\n",
    "                    coef[rxn.forward_variable] = total\n",
    "        constraints[sample][\"elements\"][element] = newmodels[sample].problem.Constraint(Zero, lb=None, ub=value, name=element+\"_element_uptake\")\n",
    "        newmodels[sample].add_cons_vars(constraints[sample][\"elements\"][element])\n",
    "        newmodels[sample].solver.update()\n",
    "        if len(coef) > 0:\n",
    "            constraints[sample][\"elements\"][element].set_linear_coefficients(coef)"
   ]
  },
  {
   "cell_type": "markdown",
   "metadata": {},
   "source": [
    "# Adding comm-kinetics constraint"
   ]
  },
  {
   "cell_type": "code",
   "execution_count": 15,
   "metadata": {},
   "outputs": [
    {
     "name": "stdout",
     "output_type": "stream",
     "text": [
      "Deleting existing constraints\n",
      "Deleting existing constraints\n",
      "Deleting existing constraints\n",
      "Deleting existing constraints\n",
      "Deleting existing constraints\n"
     ]
    }
   ],
   "source": [
    "#Removing constraints if they're there\n",
    "kinetic_coef = 400\n",
    "if \"constraints\" not in globals():\n",
    "    constraints = util.kbdevutil.load(\"constraints\")\n",
    "abundance_by_name = util.kbdevutil.load(\"abundance_by_name\")\n",
    "species_reactions = util.kbdevutil.load(\"species_reactions\")\n",
    "for sample in asv_abundances:\n",
    "    if \"kinetic\" in constraints[sample]:\n",
    "        for asv in constraints[sample][\"kinetic\"]:\n",
    "            newmodels[sample].remove_cons_vars(constraints[sample][\"kinetic\"][asv])\n",
    "    constraints[sample][\"kinetic\"] = {}\n",
    "    for asv in abundance_by_name[sample]:\n",
    "        biorxn = newmodels[sample].reactions.get_by_id(\"bio1\")\n",
    "        coef = {\n",
    "            biorxn.forward_variable:-1*kinetic_coef*abundance_by_name[sample][asv],\n",
    "            biorxn.reverse_variable:kinetic_coef*abundance_by_name[sample][asv]\n",
    "        }\n",
    "        for rxn_id in species_reactions[sample][asv]:\n",
    "            rxn = newmodels[sample].reactions.get_by_id(rxn_id)\n",
    "            coef[rxn.forward_variable] = 1\n",
    "            coef[rxn.reverse_variable] = 1\n",
    "        constraints[sample][\"kinetic\"][asv] = newmodels[sample].problem.Constraint(Zero, lb=None, ub=0, name=asv+\"_kinetic\")\n",
    "        newmodels[sample].add_cons_vars(constraints[sample][\"kinetic\"][asv])\n",
    "        newmodels[sample].solver.update()\n",
    "        if len(coef) > 0:\n",
    "            constraints[sample][\"kinetic\"][asv].set_linear_coefficients(coef) \n",
    "        "
   ]
  },
  {
   "cell_type": "markdown",
   "metadata": {},
   "source": [
    "# Constraining model to produce biomass near max value"
   ]
  },
  {
   "cell_type": "code",
   "execution_count": 19,
   "metadata": {},
   "outputs": [],
   "source": [
    "fraction_optimal_growth = 0.8\n",
    "if \"constraints\" not in globals():\n",
    "    constraints = util.kbdevutil.load(\"constraints\")\n",
    "for sample in asv_abundances:\n",
    "    if \"objconst\" in constraints[sample]:\n",
    "        newmodels[sample].remove_cons_vars(constraints[sample][\"objconst\"])\n",
    "    obj_value = newmodels[sample].slim_optimize()\n",
    "    coef = newmodels[sample].solver.objective.get_linear_coefficients(\n",
    "        newmodels[sample].solver.objective.variables\n",
    "    )\n",
    "    constraints[sample][\"objconst\"] = newmodels[sample].problem.Constraint(Zero, lb=0.8*obj_value, ub=None, name=\"objconst\")\n",
    "    newmodels[sample].add_cons_vars(constraints[sample][\"objconst\"])\n",
    "    newmodels[sample].solver.update()\n",
    "    constraints[sample][\"objconst\"].set_linear_coefficients(coef)"
   ]
  },
  {
   "cell_type": "markdown",
   "metadata": {},
   "source": [
    "# Minimizing probabilities and maximizing metabolomics agreement"
   ]
  },
  {
   "cell_type": "code",
   "execution_count": 25,
   "metadata": {},
   "outputs": [],
   "source": [
    "prob_exp = 1\n",
    "min_prob = 0.05\n",
    "ex_weight = 10\n",
    "media_coef = 100\n",
    "metabolomics_data = util.kbdevutil.load(\"metabolomics_data\")\n",
    "for sample in asv_abundances:\n",
    "    coef = {}\n",
    "    row = metabolomics_data[\"RC-ABX_-1.5\"]\n",
    "    for rxn in newmodels[sample].reactions:\n",
    "        if rxn.id[0:3] == \"EX_\":\n",
    "            met_id = rxn.id[3:-3]\n",
    "            if met_id in row:\n",
    "                if row[met_id] > 0:\n",
    "                    coef.update({rxn.forward_variable: -1*media_coef})\n",
    "                elif row[met_id] < 0:\n",
    "                    coef.update({rxn.reverse_variable: -1*media_coef})\n",
    "            else:\n",
    "                coef.update({rxn.forward_variable: ex_weight})\n",
    "                coef.update({rxn.reverse_variable: ex_weight})\n",
    "        elif \"probability\" in rxn.notes:\n",
    "            coef.update(\n",
    "                {\n",
    "                    rxn.forward_variable: max(\n",
    "                        min_prob, (1 - float(rxn.notes[\"probability\"]) ** prob_exp)\n",
    "                    )\n",
    "                }\n",
    "            )\n",
    "            coef.update(\n",
    "                {\n",
    "                    rxn.reverse_variable: max(\n",
    "                        min_prob, (1 - float(rxn.notes[\"probability\"]) ** prob_exp)\n",
    "                    )\n",
    "                }\n",
    "            )\n",
    "    newmodels[sample].objective = newmodels[sample].problem.Objective(Zero, direction=\"min\")\n",
    "    newmodels[sample].objective.set_linear_coefficients(coef)"
   ]
  },
  {
   "cell_type": "markdown",
   "metadata": {},
   "source": [
    "# Test code"
   ]
  },
  {
   "cell_type": "code",
   "execution_count": 26,
   "metadata": {},
   "outputs": [
    {
     "name": "stdout",
     "output_type": "stream",
     "text": [
      "<Solution 3424.335 at 0x7fa0d35a23a0>\n"
     ]
    }
   ],
   "source": [
    "sample = \"Sample2\"\n",
    "with open(\"nboutput/test.lp\", \"w\") as out:\n",
    "    out.write(str(newmodels[sample].solver))\n",
    "solution = newmodels[sample].optimize()\n",
    "print(solution)"
   ]
  },
  {
   "cell_type": "code",
   "execution_count": null,
   "metadata": {},
   "outputs": [],
   "source": []
  }
 ],
 "metadata": {
  "kernelspec": {
   "display_name": "base",
   "language": "python",
   "name": "python3"
  },
  "language_info": {
   "codemirror_mode": {
    "name": "ipython",
    "version": 3
   },
   "file_extension": ".py",
   "mimetype": "text/x-python",
   "name": "python",
   "nbconvert_exporter": "python",
   "pygments_lexer": "ipython3",
   "version": "3.9.13"
  }
 },
 "nbformat": 4,
 "nbformat_minor": 4
}
