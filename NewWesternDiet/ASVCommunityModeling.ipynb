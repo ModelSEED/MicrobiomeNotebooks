{
 "cells": [
  {
   "cell_type": "markdown",
   "metadata": {
    "jp-MarkdownHeadingCollapsed": true,
    "tags": []
   },
   "source": [
    "# Configure KBase Jupyter Dev Environment"
   ]
  },
  {
   "cell_type": "code",
   "execution_count": 1,
   "metadata": {
    "tags": []
   },
   "outputs": [
    {
     "name": "stdout",
     "output_type": "stream",
     "text": [
      "python version 3.11.1\n",
      "KBBaseModules 0.0.1\n",
      "modelseedpy 0.3.3\n",
      "cobrakbase 0.3.1\n",
      "Output files printed to:/scratch/chenry/MicrobiomeNotebooks/NewWesternDiet/nboutput when using KBDevUtils.output_dir\n",
      "ModelSEED: /scratch/shared//sdkmount/kb_sdk_home/run_local/workdir/tmp/\n"
     ]
    }
   ],
   "source": [
    "%run agoracommutil.py\n",
    "logger = logging.getLogger(__name__)\n",
    "logger.setLevel(logging.INFO)"
   ]
  },
  {
   "cell_type": "markdown",
   "metadata": {
    "jp-MarkdownHeadingCollapsed": true,
    "tags": []
   },
   "source": [
    "# Processing ASV mappings: new code"
   ]
  },
  {
   "cell_type": "code",
   "execution_count": 12,
   "metadata": {
    "tags": []
   },
   "outputs": [
    {
     "name": "stdout",
     "output_type": "stream",
     "text": [
      "Genomes: 3035\n",
      "ASVs: 1654\n",
      "ASV sets: 277\n"
     ]
    }
   ],
   "source": [
    "original_mappings = util.load(\"AGORA2_Kennedy_over90_best_mappings_05-03-24\")\n",
    "asv_mappings = {}\n",
    "genomes_mapped = {}\n",
    "for asv in original_mappings.keys():\n",
    "    for genome_id in original_mappings[asv][1]:\n",
    "        if asv not in asv_mappings:\n",
    "            asv_mappings[asv] = []\n",
    "        if genome_id not in asv_mappings[asv]:\n",
    "            asv_mappings[asv].append(genome_id)\n",
    "            if genome_id not in genomes_mapped:\n",
    "                genomes_mapped[genome_id] = []\n",
    "            genomes_mapped[genome_id].append(asv)\n",
    "util.save(\"asv_mappings\", asv_mappings)\n",
    "util.save(\"genomes_mapped\", genomes_mapped)\n",
    "asv_list = list(asv_mappings.keys())\n",
    "asvset_asvs = {}\n",
    "asv_asvset = {}\n",
    "asvset_genomes = {}\n",
    "genome_asvsets = {}\n",
    "for i,asv in enumerate(asv_list):\n",
    "    if asv not in asv_asvset:\n",
    "        asv_asvset[asv] = asv\n",
    "        asvset_asvs[asv] = [asv]\n",
    "        asvset_genomes[asv] = asv_mappings[asv].copy()\n",
    "        for j in range(i+1,len(asv_list)):\n",
    "            if asv_list[j] not in asv_asvset:\n",
    "                common = set(asv_mappings[asv]) & set(asv_mappings[asv_list[j]])\n",
    "                score = len(common)/min(len(asv_mappings[asv]),len(asv_mappings[asv_list[j]]))\n",
    "                if score >= 0.5:\n",
    "                    asv_asvset[asv_list[j]] = asv\n",
    "                    asvset_asvs[asv].append(asv_list[j])\n",
    "                    for item in asv_mappings[asv_list[j]]:\n",
    "                        if item not in asvset_genomes[asv]:\n",
    "                            asvset_genomes[asv].append(item)          \n",
    "util.save(\"asvset_asvs\", asvset_asvs)\n",
    "util.save(\"asv_asvset\", asv_asvset)\n",
    "util.save(\"asvset_genomes\", asvset_genomes)\n",
    "util.save(\"genome_asvsets\", genome_asvsets)\n",
    "print(\"Genomes:\",len(genomes_mapped))\n",
    "print(\"ASVs:\",len(asv_mappings))\n",
    "print(\"ASV sets:\",len(asvset_asvs))"
   ]
  },
  {
   "cell_type": "markdown",
   "metadata": {
    "jp-MarkdownHeadingCollapsed": true,
    "tags": []
   },
   "source": [
    "# Checking if all mapped genomes are in AGORA workspace"
   ]
  },
  {
   "cell_type": "code",
   "execution_count": 11,
   "metadata": {
    "collapsed": true,
    "jupyter": {
     "outputs_hidden": true
    },
    "tags": []
   },
   "outputs": [
    {
     "name": "stdout",
     "output_type": "stream",
     "text": [
      "GCA_000210655.1 2\n",
      "GCA_000210035.1 7\n",
      "GCF_000211255.2 2\n",
      "GCA_000272795.2 1\n",
      "GCA_000210455.1 1\n",
      "GCF_000234645.2 1\n",
      "GCF_000268165.1 1\n",
      "GCF_000213735.1 1\n",
      "GCF_000213455.1 1\n",
      "GCF_000213675.1 1\n",
      "GCF_000213755.1 1\n",
      "GCF_008247765.1 1\n",
      "GCF_001471365.2 1\n",
      "GCF_000276485.1 1\n",
      "GCA_000189435.3 1\n",
      "GCF_003752265.1 2\n",
      "GCA_000219475.3 1\n",
      "GCA_000758985.1 1\n",
      "GCA_009695705.1 1\n",
      "GCF_000305335.2 1\n",
      "GCA_000301035.1 2\n",
      "GCA_000413455.1 2\n",
      "GCA_000820785.2 1\n",
      "2955fbbb2bf45675b7068f95e08b6488 1 25\n",
      "3c8963dd267cdf2d5f1aea3dae806f39 1 32\n",
      "3d3a8ddc20b0bd569792ca42b82cdffe 1 421\n",
      "414bc5d69f95c320036cfe20668c2cb6 1 337\n",
      "4cc9a4b9aaa3ee9a5c14cc27551a6844 1 228\n",
      "4e7bcdbed35715f0f796c91802775ffa 1 22\n",
      "57917af39ca0f29814c4cb290d10085f 2 45\n",
      "63159fd1b65e93f10735c4325c45fe02 1 41\n",
      "6da11bc539c789c3e126ef5a81a47ec2 1 29\n",
      "70a88697b9055267fceef76d8e1d7faa 8 608\n",
      "a36b4a28349a93e1398ae6fccc524b6b 1 13\n",
      "ab0a5febf1575797dcc91d1e1e168b4b 2 464\n",
      "b45377085b7d971785246cfc94965b71 1 24\n",
      "e8aae590cf49eb3c80ad7e08f2d3c3c4 1 15\n",
      "5fc9ca17be0c210d31c471b49c7ba939 1 38\n",
      "64f6c8c2514c3311cb8ef296d7eac56b 1 10\n",
      "a15bde00a913ab382adbee1cab97f236 1 10\n",
      "cd0727fe5385d64dee8cd599ae8b922a 1 6\n",
      "88161d9fb846a30eb46c8d328c8b66a5 1 87\n",
      "94942a6218864ff7ce5b129ea145acd4 1 11\n",
      "4aafe28a1d4739179b66e2d72020d558 2 6\n",
      "bf413f08be2e1b200db37f05763cdf06 2 3\n",
      "fe894c413f16396e346afc0f45e98697 1 7\n"
     ]
    }
   ],
   "source": [
    "ws_client = util.ws_client()\n",
    "output = ws_client.list_objects({\"ids\":[178418]})\n",
    "genome_hash = {}\n",
    "for item in output:\n",
    "    genome_hash[item[1]] = item\n",
    "asvssets_with_missing_genomes = {}\n",
    "missing_genomes = {}\n",
    "asvset_genomes = util.load(\"asvset_genomes\")\n",
    "for asvset in asvset_genomes:\n",
    "    for genomeid in asvset_genomes[asvset]:\n",
    "        if genomeid not in genome_hash and genomeid+\".RAST\" not in genome_hash:\n",
    "            if genomeid not in missing_genomes:\n",
    "                missing_genomes[genomeid] = []\n",
    "            if asvset not in missing_genomes[genomeid]:\n",
    "                missing_genomes[genomeid].append(asvset)\n",
    "            if asvset not in asvssets_with_missing_genomes:\n",
    "                asvssets_with_missing_genomes[asvset] = []\n",
    "            if genomeid not in asvssets_with_missing_genomes[asvset]:\n",
    "                asvssets_with_missing_genomes[asvset].append(genomeid)\n",
    "util.save(\"missing_genomes\", missing_genomes)\n",
    "util.save(\"asvssets_with_missing_genomes\", asvssets_with_missing_genomes)\n",
    "for genomeid in missing_genomes:\n",
    "    print(genomeid,len(missing_genomes[genomeid]))\n",
    "for asvset in asvssets_with_missing_genomes:\n",
    "    print(asvset,len(asvssets_with_missing_genomes[asvset]),len(asvset_genomes[asvset]))\n",
    "    if len(asvset_genomes[asvset]) <= 2:\n",
    "        for genomeid in asvset_genomes[asvset]:\n",
    "            if genomeid in missing_genomes:\n",
    "                print(genomeid)"
   ]
  },
  {
   "cell_type": "markdown",
   "metadata": {
    "jp-MarkdownHeadingCollapsed": true,
    "tags": []
   },
   "source": [
    "# Developing names for ASV sets"
   ]
  },
  {
   "cell_type": "code",
   "execution_count": 13,
   "metadata": {
    "tags": []
   },
   "outputs": [],
   "source": [
    "ws_client = util.ws_client()\n",
    "output = ws_client.list_objects({\n",
    "    \"ids\":[178418],\n",
    "    \"includeMetadata\":1,\n",
    "    \"type\":\"KBaseGenomes.Genome\"\n",
    "})\n",
    "genome_hash = {}\n",
    "for item in output:\n",
    "    genome_hash[item[1]] = item\n",
    "util.save(\"genome_hash\",genome_hash)\n",
    "asvset_genres = {}\n",
    "genre_genomes = {}\n",
    "for asvset in asvset_genomes:\n",
    "    asvset_genres[asvset] = {}\n",
    "    for genome in asvset_genomes[asvset]:\n",
    "        if genome in genome_hash:\n",
    "            name = genome_hash[genome][10][\"Name\"]\n",
    "            genre = name.split(\" \")[0]\n",
    "            if genre[0] == \"[\":\n",
    "                genre = genre[1:-1]\n",
    "            if genre not in asvset_genres[asvset]:\n",
    "                genre_genomes[genre] = genome_hash[genome]\n",
    "                asvset_genres[asvset][genre] = 0\n",
    "            asvset_genres[asvset][genre] += 1\n",
    "        elif genome+\".RAST\" in genome_hash:\n",
    "            name = genome_hash[genome+\".RAST\"][10][\"Name\"]\n",
    "            genre = name.split(\" \")[0]\n",
    "            if genre[0] == \"[\":\n",
    "                genre = genre[1:-1]\n",
    "            if genre not in asvset_genres[asvset]:\n",
    "                genre_genomes[genre] = genome_hash[genome+\".RAST\"]\n",
    "                asvset_genres[asvset][genre] = 0\n",
    "            asvset_genres[asvset][genre] += 1\n",
    "util.save(\"asvset_genres\",asvset_genres)\n",
    "util.save(\"genre_genomes\",genre_genomes)\n",
    "asvset_names = {}\n",
    "genre_counts = {}\n",
    "for asvset in asvset_genres:\n",
    "    best = None\n",
    "    best_score = 0\n",
    "    for genre in asvset_genres[asvset]:\n",
    "        if asvset_genres[asvset][genre] > best_score:\n",
    "            best = genre\n",
    "            best_score = asvset_genres[asvset][genre]\n",
    "    if not best:\n",
    "        best = \"none\"\n",
    "    if best not in genre_counts:\n",
    "        genre_counts[best] = 0\n",
    "    genre_counts[best] += 1\n",
    "    asvset_names[asvset] = best+\".\"+str(genre_counts[best])\n",
    "util.save(\"genre_counts\",genre_counts)\n",
    "util.save(\"asvset_names\",asvset_names)"
   ]
  },
  {
   "cell_type": "markdown",
   "metadata": {
    "jp-MarkdownHeadingCollapsed": true,
    "tags": []
   },
   "source": [
    "# Pulling genomes and getting functions hash from all genomes"
   ]
  },
  {
   "cell_type": "code",
   "execution_count": 19,
   "metadata": {
    "collapsed": true,
    "jupyter": {
     "outputs_hidden": true
    },
    "tags": []
   },
   "outputs": [
    {
     "name": "stdout",
     "output_type": "stream",
     "text": [
      "Processing  Nocardioides.1\n",
      "Processing  Ruminococcus.2\n",
      "Processing  Paenibacillus.1\n",
      "Processing  Clostridium.22\n",
      "Processing  Cellulosimicrobium.1\n",
      "Processing  Weissella.2\n",
      "Processing  Actinomyces.1\n",
      "Processing  Bradyrhizobium.1\n",
      "Processing  Capnocytophaga.1\n",
      "Processing  Microbacterium.1\n",
      "Processing  Blautia.3\n",
      "Processing  Stenotrophomonas.3\n",
      "Processing  Pseudoalteromonas.1\n",
      "Processing  Coprococcus.2\n",
      "Processing  Campylobacter.1\n",
      "Processing  Geobacillus.1\n",
      "Processing  Pseudomonas.2\n",
      "Processing  Flavonifractor.1\n",
      "Processing  Intestinimonas.2\n",
      "Processing  Eubacterium.5\n",
      "Processing  Reyranella.1\n",
      "Processing  Thermus.1\n",
      "Processing  Clostridium.23\n",
      "Processing  Oceanobacillus.1\n",
      "Processing  Mycobacterium.1\n",
      "Processing  Lactobacillus.7\n",
      "Processing  Campylobacter.2\n",
      "Processing  Anaerofustis.1\n",
      "Processing  Anaerobutyricum.1\n",
      "Processing  Bacteroides.12\n",
      "Processing  Longibaculum.1\n",
      "Processing  Pseudomonas.3\n",
      "Processing  Bosea.1\n",
      "Processing  Salinibacterium.1\n",
      "Processing  Lactobacillus.8\n",
      "Processing  Clostridioides.2\n",
      "Processing  Clostridium.24\n",
      "Processing  Megasphaera.1\n",
      "Processing  Butyricicoccus.1\n",
      "Processing  Haemophilus.1\n",
      "Processing  Clostridium.25\n",
      "Processing  Neglecta.1\n",
      "Processing  Murimonas.1\n",
      "Processing  Neisseria.1\n",
      "Processing  Bacillus.2\n",
      "Processing  Eubacterium.6\n",
      "Processing  Bacillus.3\n",
      "Processing  Intestinibacter.1\n",
      "Processing  Pseudomonas.4\n",
      "Processing  Aneurinibacillus.1\n",
      "Processing  Bacillus.4\n",
      "Processing  Dorea.1\n",
      "Processing  Lachnospiraceae.3\n",
      "Processing  Brevundimonas.1\n",
      "Processing  Bacillus.5\n",
      "Processing  Methylorubrum.1\n",
      "Processing  Christensenella.1\n",
      "Processing  Clostridium.26\n",
      "Processing  Alistipes.4\n",
      "Processing  Nosocomiicoccus.1\n",
      "Processing  Clostridium.27\n",
      "Processing  bacterium.2\n",
      "Processing  Gracilibacillus.1\n",
      "Processing  Robinsoniella.1\n",
      "Processing  Oscillibacter.2\n",
      "Processing  Clostridium.28\n",
      "Processing  Brevibacillus.1\n",
      "Processing  Xanthomonas.1\n",
      "Processing  Oscillibacter.3\n",
      "Processing  Eubacterium.7\n",
      "Processing  Ruminococcus.3\n",
      "Processing  Hungatella.1\n",
      "Processing  Stenotrophomonas.4\n",
      "Processing  Bacillus.6\n",
      "Processing  Lachnospiraceae.4\n",
      "Processing  Virgibacillus.1\n",
      "Processing  Coprococcus.3\n",
      "Processing  Blautia.4\n",
      "Processing  Clostridium.29\n",
      "Processing  Eubacterium.8\n",
      "Processing  Olsenella.1\n",
      "Processing  Clostridium.30\n",
      "Processing  Flavobacterium.1\n",
      "Processing  Candidatus.1\n",
      "Processing  Papillibacter.1\n",
      "Processing  Rhodococcus.1\n",
      "Processing  Candidatus.2\n",
      "Processing  Desulfovibrio.1\n",
      "Processing  Paenibacillus.2\n",
      "Processing  Acetivibrio.1\n",
      "Processing  Cuneatibacter.1\n",
      "Processing  Moraxella.1\n",
      "Processing  Alloiococcus.1\n",
      "Processing  Yoonia.1\n",
      "Processing  Paraeggerthella.1\n",
      "Processing  Pseudopropionibacterium.1\n",
      "Processing  Clostridium.31\n",
      "Processing  Lachnobacterium.1\n",
      "Processing  Vagococcus.1\n",
      "Processing  Gottschalkia.1\n",
      "Processing  Brevibacterium.2\n",
      "Processing  Fulvimarina.1\n",
      "Processing  Candidatus.3\n",
      "Processing  Campylobacter.3\n",
      "Processing  Erysipelotrichaceae.2\n",
      "Processing  Olsenella.2\n",
      "Processing  Prevotella.1\n",
      "Processing  Silanimonas.1\n",
      "Processing  Mesorhizobium.2\n",
      "Processing  Absiella.1\n",
      "Processing  Anaerotignum.1\n",
      "Processing  Novosphingobium.1\n",
      "Processing  Clostridium.32\n",
      "Processing  Rhodococcus.2\n",
      "Processing  Eubacterium.9\n",
      "Processing  Hungateiclostridium.1\n",
      "Processing  Selenomonas.1\n",
      "Processing  Butyrivibrio.1\n",
      "Processing  Eggerthella.1\n",
      "Processing  Numidum.1\n",
      "Processing  Bacteroides.13\n",
      "Processing  Sutterella.1\n",
      "Processing  Rikenella.1\n",
      "Processing  Marvinbryantia.1\n",
      "Processing  Senegalimassilia.1\n",
      "Processing  Lachnospiraceae.5\n",
      "Processing  Merdibacter.1\n",
      "Processing  Clostridium.33\n",
      "Processing  Dehalobacterium.1\n",
      "Processing  Lactobacillus.9\n",
      "Processing  Culturomica.1\n",
      "Processing  Ralstonia.1\n",
      "Processing  Ruminococcus.4\n",
      "Processing  Vallitalea.1\n",
      "Processing  Bifidobacterium.3\n",
      "Processing  Peptoniphilus.2\n",
      "Processing  Clostridiales.1\n",
      "Processing  Allobaculum.1\n",
      "Processing  Lactobacillus.10\n"
     ]
    }
   ],
   "source": [
    "#Now building asv genome objects and saving to file (will be loaded to KBase)\n",
    "from cobrakbase.core.kbasegenome.genome import KBaseGenome\n",
    "asvset_asvs = util.load(\"asvset_asvs\")\n",
    "asvset_genomes = util.load(\"asvset_genomes\")\n",
    "asvset_names = util.load(\"asvset_names\")\n",
    "asvset_names = util.load(\"asvset_names\")\n",
    "genre_genomes = util.load(\"genre_genomes\")\n",
    "genome_hash = util.load(\"genome_hash\")\n",
    "functions = util.load(\"functions\")\n",
    "feature_aliases = util.load(\"feature_aliases\")\n",
    "feature_probabilities = util.load(\"feature_probabilities\")\n",
    "features = {}\n",
    "workspace = 181152\n",
    "done = []\n",
    "for asvset in asvset_genomes:\n",
    "    asvname = asvset_names[asvset]\n",
    "    if asvname not in done:\n",
    "        genre = asvname.split(\".\")[0]\n",
    "        print(\"Processing \",asvname)\n",
    "        #Loading template genome\n",
    "        template_genome = util.load(\"TemplateGenome\")\n",
    "        #Setting metadata\n",
    "        template_genome[\"assembly_ref\"] = str(workspace)+\"/\"+asvname+\".assembly\"\n",
    "        template_genome[\"dna_size\"] = 0\n",
    "        template_genome[\"scientific_name\"] = genre_genomes[genre][10][\"Name\"]\n",
    "        template_genome[\"taxonomy\"] = genre_genomes[genre][10][\"Taxonomy\"]\n",
    "        template_genome[\"gc_content\"] = genre_genomes[genre][10][\"GC content\"]\n",
    "        template_genome[\"id\"] = asvname\n",
    "        template_genome[\"contig_ids\"] = []\n",
    "        template_genome[\"contig_lengths\"] = []\n",
    "        template_genome[\"num_contigs\"] = 0   \n",
    "        template_genome[\"source\"] = \"WesternDiet\"\n",
    "        template_genome[\"warnings\"] = [\"Artificial genome created to support ASV modeling\"]\n",
    "        template_genome[\"features\"] = []\n",
    "        template_genome[\"cdss\"] = []\n",
    "        template_genome[\"source_id\"] = \"|\".join(asvset_asvs[asvset])\n",
    "        template_genome[\"molecule_type\"] = \"ASV derived genome\"\n",
    "        template_genome[\"genome_type\"] = \"ASV derived genome\"\n",
    "        template_genome[\"domain\"] = genre_genomes[genre][10][\"Domain\"]\n",
    "        template_genome[\"ontologies_present\"] = {}\n",
    "        template_genome[\"ontology_events\"] = []\n",
    "        md5_list = []\n",
    "        if asvname not in functions:\n",
    "            functions[asvname] = {}\n",
    "        for genome_id in asvset_genomes[asvset]:\n",
    "            if genome_id+\".RAST\" in genome_hash:\n",
    "                info = genome_hash[genome_id+\".RAST\"]\n",
    "                genome = util.msrecon.kbase_api.get_object(genome_id+\".RAST\",178418)\n",
    "                genome_functions = {}\n",
    "                for ftr in genome[\"features\"]:\n",
    "                    if \"functions\" in ftr:\n",
    "                        for function in ftr[\"functions\"]:\n",
    "                            if function not in functions[asvname]:\n",
    "                                ftrid = asvname+\"_\"+str(len(template_genome[\"contig_ids\"])+1)\n",
    "                                template_genome[\"contig_ids\"].append(ftrid+\".contig\")\n",
    "                                template_genome[\"contig_lengths\"].append(len(ftr[\"dna_sequence\"]))\n",
    "                                template_genome[\"num_contigs\"] += 1\n",
    "                                template_genome[\"dna_size\"] += len(ftr[\"dna_sequence\"])\n",
    "                                result = hashlib.md5(ftr[\"protein_translation\"].encode())\n",
    "                                md5 = result.hexdigest()\n",
    "                                result = hashlib.md5(ftr[\"dna_sequence\"].encode())\n",
    "                                dnamd5 = result.hexdigest()\n",
    "                                md5_list.append(md5)\n",
    "                                functions[asvname][function] = {\"ftrid\":ftrid, \"probability\":1}\n",
    "                                features[ftrid] = {\n",
    "                                    \"aliases\": [],\n",
    "                                    \"cdss\": [\n",
    "                                        ftrid+\".CDS\"\n",
    "                                    ],\n",
    "                                    \"functions\":[function],\n",
    "                                    \"dna_sequence\": ftr[\"dna_sequence\"],\n",
    "                                    \"dna_sequence_length\": len(ftr[\"dna_sequence\"]),\n",
    "                                    \"id\": ftrid,\n",
    "                                    \"location\": [\n",
    "                                        [\n",
    "                                            ftrid+\".contig\",\n",
    "                                            1,\n",
    "                                            \"+\",\n",
    "                                            len(ftr[\"dna_sequence\"])\n",
    "                                        ]\n",
    "                                    ],\n",
    "                                    \"md5\": dnamd5,\n",
    "                                    \"ontology_terms\": {},\n",
    "                                    \"protein_md5\": md5,\n",
    "                                    \"protein_translation\": ftr[\"protein_translation\"],\n",
    "                                    \"protein_translation_length\": len(ftr[\"protein_translation\"]),\n",
    "                                    \"warnings\": []\n",
    "                                }\n",
    "                                cdsftr = features[ftrid].copy()\n",
    "                                del cdsftr[\"cdss\"]\n",
    "                                cdsftr[\"id\"] = ftrid+\".CDS\"\n",
    "                                cdsftr[\"parent_gene\"] = ftrid\n",
    "                                if \"aliases\" in ftr and len(ftr[\"aliases\"]) >= 1:\n",
    "                                    features[ftrid][\"aliases\"].append([\"gene\",str(info[6])+\"/\"+str(info[0])+\".\"+ftr[\"aliases\"][0][1]])\n",
    "                                    if ftrid not in feature_aliases:\n",
    "                                        feature_aliases[ftrid] = []\n",
    "                                    feature_aliases[ftrid].append([ftr[\"aliases\"][0][1]])\n",
    "                                template_genome[\"features\"].append(features[ftrid])\n",
    "                                template_genome[\"cdss\"].append(cdsftr)\n",
    "                            elif function not in genome_functions:#Don't want to count same function twice in a genome\n",
    "                                ftrid = functions[asvname][function][\"ftrid\"]\n",
    "                                functions[asvname][function][\"probability\"] += 1\n",
    "                                if \"aliases\" in ftr and len(ftr[\"aliases\"]) >= 1:\n",
    "                                    features[ftrid][\"aliases\"].append([\"gene\",str(info[6])+\"/\"+str(info[0])+\".\"+ftr[\"aliases\"][0][1]])\n",
    "                                    if ftrid not in feature_aliases:\n",
    "                                        feature_aliases[ftrid] = []\n",
    "                                    feature_aliases[ftrid].append(ftr[\"aliases\"][0][1])\n",
    "                            genome_functions[function] = True\n",
    "        for func in functions[asvname]:\n",
    "            functions[asvname][func][\"probability\"] = functions[asvname][func][\"probability\"]/len(asvset_genomes[asvset])\n",
    "            feature_probabilities[functions[asvname][func][\"ftrid\"]] = functions[asvname][func][\"probability\"]\n",
    "        template_genome[\"feature_counts\"] = {\n",
    "            \"CDS\":len(template_genome[\"features\"]),\n",
    "            \"gene\":len(template_genome[\"features\"]),\n",
    "            \"non_coding_features\":0,\n",
    "            \"protein_encoding_gene\":len(template_genome[\"features\"])\n",
    "        }                    \n",
    "        md5_list.sort()\n",
    "        result = hashlib.md5(\";\".join(md5_list).encode())\n",
    "        template_genome[\"md5\"] = result.hexdigest()\n",
    "        #Writing FASTA\n",
    "        ofile = open(\"Assemblies/\"+asvname+\".fasta\", \"w\")\n",
    "        for func in functions[asvname]:\n",
    "            ofile.write(\">\" + functions[asvname][func][\"ftrid\"] + \"\\n\" +features[functions[asvname][func][\"ftrid\"]][\"dna_sequence\"] + \"\\n\")\n",
    "        ofile.close()\n",
    "        #Saving genome\n",
    "        util.save(asvname, template_genome)\n",
    "        util.save(\"feature_aliases\", feature_aliases)\n",
    "        util.save(\"functions\", functions)\n",
    "        util.save(\"feature_probabilities\", feature_probabilities)     "
   ]
  },
  {
   "cell_type": "markdown",
   "metadata": {
    "jp-MarkdownHeadingCollapsed": true,
    "tags": []
   },
   "source": [
    "# Loading assemblies to KBase"
   ]
  },
  {
   "cell_type": "code",
   "execution_count": 5,
   "metadata": {
    "tags": []
   },
   "outputs": [],
   "source": [
    "#Loading clade genome assemblies to KBase using SDK callbacks\n",
    "import shutil\n",
    "util.sdk_dir_perms()\n",
    "afu = util.afu_client()\n",
    "asvset_genomes = util.load(\"asvset_genomes\")\n",
    "asvset_names = util.load(\"asvset_names\")\n",
    "for asvset in asvset_genomes:\n",
    "    asvname = asvset_names[asvset]\n",
    "    shutil.copy2(\"Assemblies/\"+asvname+\".fasta\", '/scratch/shared/sdkmount/kb_sdk_home/run_local/workdir/tmp/'+asvname+\".fasta\")\n",
    "    params = {\n",
    "        'file': {\n",
    "            'path': '/kb/module/work/tmp/'+asvname+\".fasta\"\n",
    "        },\n",
    "        'workspace_id': 181152,\n",
    "        'assembly_name': asvname+\".assembly\"\n",
    "    }\n",
    "    result = afu.save_assembly_from_fasta2(params)"
   ]
  },
  {
   "cell_type": "markdown",
   "metadata": {
    "jp-MarkdownHeadingCollapsed": true,
    "tags": []
   },
   "source": [
    "# Saving genomes to KBase"
   ]
  },
  {
   "cell_type": "code",
   "execution_count": 5,
   "metadata": {
    "tags": []
   },
   "outputs": [],
   "source": [
    "#Loading clade genomes to KBase using annotation API, which contains an SDK callback\n",
    "feature_probabilities = util.load(\"feature_probabilities\")\n",
    "from datetime import datetime\n",
    "now = datetime.now()\n",
    "timestamp = datetime.timestamp(now)\n",
    "workspace = 181152\n",
    "anno = util.kbdevutil.anno_client()\n",
    "anno.clients[\"GenomeFileUtil\"] = util.kbdevutil.gfu_client()\n",
    "asvset_genomes = util.load(\"asvset_genomes\")\n",
    "asvset_names = util.load(\"asvset_names\")\n",
    "done = []#[\"Lactobacillus.3\",\"Clostridium.11\",\"Muribaculum.1\"]#This genome actually failed...\n",
    "finished = util.load(\"finished_genomes\")\n",
    "for asvset in asvset_genomes:\n",
    "    asvname = asvset_names[asvset]\n",
    "    if asvname not in done and asvname not in finished:\n",
    "        genome = util.kbdevutil.load(asvname)\n",
    "        genome[\"assembly_ref\"] = str(workspace)+\"/\"+asvname+\".assembly\"\n",
    "        genome[\"source_id\"] = asvname\n",
    "        events = [{\n",
    "            \"id\": \"SSO\",\n",
    "            \"event_id\":\"RAST:SSO:\"+str(timestamp),\n",
    "            \"description\": \"RAST annotation of clade genome\",\n",
    "            \"ontology_id\": \"SSO\",\n",
    "            \"method\": \"RAST\",\n",
    "            \"method_version\": \"1.9.5\",\n",
    "            \"timestamp\": str(timestamp),\n",
    "            \"ontology_terms\": {},\n",
    "        }]\n",
    "        for ftr in genome[\"features\"]:\n",
    "            events[0][\"ontology_terms\"][ftr[\"id\"]] = [{\"term\":\"SSO:\"+ftr[\"functions\"][0],\"evidence\":{\"scores\":{\"pgprob\":feature_probabilities[ftr[\"id\"]]}}}]\n",
    "        output = anno.add_annotation_ontology_events({\n",
    "            \"output_workspace\":workspace,\n",
    "            \"events\":events,\n",
    "            \"overwrite_matching\":True,\n",
    "            \"object\":genome,\n",
    "            \"type\":\"KBaseGenomes.Genome\",\n",
    "            \"output_name\":asvname+\".ASV\",\n",
    "            \"save\":1\n",
    "        })\n",
    "        finished.append(asvname)\n",
    "        util.save(\"finished_genomes\",finished)"
   ]
  },
  {
   "cell_type": "markdown",
   "metadata": {
    "jp-MarkdownHeadingCollapsed": true,
    "tags": []
   },
   "source": [
    "# Construct the ASV models, gapfilling in auxotrophy and anaerobic glucose minimal media - code cell from KBase copied here for reference"
   ]
  },
  {
   "cell_type": "code",
   "execution_count": null,
   "metadata": {
    "collapsed": true,
    "jupyter": {
     "outputs_hidden": true
    },
    "tags": []
   },
   "outputs": [
    {
     "name": "stderr",
     "output_type": "stream",
     "text": [
      "/opt/env/python3_modelseed/lib/python3.11/site-packages/urllib3/util/ssl_.py:262: DeprecationWarning: ssl.PROTOCOL_TLS is deprecated\n",
      "  context = SSLContext(ssl_version or ssl.PROTOCOL_SSLv23)\n",
      "/opt/env/python3_modelseed/lib/python3.11/site-packages/urllib3/connection.py:374: DeprecationWarning: ssl.match_hostname() is deprecated\n",
      "  match_hostname(cert, asserted_hostname)\n",
      "/opt/env/python3_modelseed/lib/python3.11/site-packages/urllib3/util/ssl_.py:262: DeprecationWarning: ssl.PROTOCOL_TLS is deprecated\n",
      "  context = SSLContext(ssl_version or ssl.PROTOCOL_SSLv23)\n",
      "/opt/env/python3_modelseed/lib/python3.11/site-packages/urllib3/connection.py:374: DeprecationWarning: ssl.match_hostname() is deprecated\n",
      "  match_hostname(cert, asserted_hostname)\n"
     ]
    },
    {
     "name": "stdout",
     "output_type": "stream",
     "text": [
      "N\n"
     ]
    },
    {
     "name": "stderr",
     "output_type": "stream",
     "text": [
      "/opt/env/python3_modelseed/lib/python3.11/site-packages/urllib3/util/ssl_.py:262: DeprecationWarning: ssl.PROTOCOL_TLS is deprecated\n",
      "  context = SSLContext(ssl_version or ssl.PROTOCOL_SSLv23)\n",
      "/opt/env/python3_modelseed/lib/python3.11/site-packages/urllib3/connection.py:374: DeprecationWarning: ssl.match_hostname() is deprecated\n",
      "  match_hostname(cert, asserted_hostname)\n",
      "1710772440.7858362 INFO: The current solver interface glpk doesn't support setting the optimality tolerance.\n",
      "1710772547.7780695 INFO: The current solver interface glpk doesn't support setting the optimality tolerance.\n",
      "1710772636.7279124 INFO: Compartment `e0` sounds like an external compartment. Using this one without counting boundary reactions.\n",
      "1710772636.835424 INFO: Compartment `e0` sounds like an external compartment. Using this one without counting boundary reactions.\n",
      "1710772636.9265068 INFO: Compartment `e0` sounds like an external compartment. Using this one without counting boundary reactions.\n",
      "1710772637.0251577 INFO: Compartment `e0` sounds like an external compartment. Using this one without counting boundary reactions.\n",
      "1710772637.1176887 INFO: Compartment `e0` sounds like an external compartment. Using this one without counting boundary reactions.\n",
      "1710772637.209481 INFO: Compartment `e0` sounds like an external compartment. Using this one without counting boundary reactions.\n",
      "1710772637.3019955 INFO: Compartment `e0` sounds like an external compartment. Using this one without counting boundary reactions.\n",
      "1710772637.3933198 INFO: Compartment `e0` sounds like an external compartment. Using this one without counting boundary reactions.\n",
      "1710772637.4847643 INFO: Compartment `e0` sounds like an external compartment. Using this one without counting boundary reactions.\n",
      "1710772637.582408 INFO: Compartment `e0` sounds like an external compartment. Using this one without counting boundary reactions.\n",
      "1710772637.6741042 INFO: Compartment `e0` sounds like an external compartment. Using this one without counting boundary reactions.\n",
      "1710772637.7662833 INFO: Compartment `e0` sounds like an external compartment. Using this one without counting boundary reactions.\n",
      "1710772637.861729 INFO: Compartment `e0` sounds like an external compartment. Using this one without counting boundary reactions.\n",
      "1710772637.9524515 INFO: Compartment `e0` sounds like an external compartment. Using this one without counting boundary reactions.\n",
      "1710772638.0433123 INFO: Compartment `e0` sounds like an external compartment. Using this one without counting boundary reactions.\n",
      "1710772638.1394224 INFO: Compartment `e0` sounds like an external compartment. Using this one without counting boundary reactions.\n",
      "1710772638.2299156 INFO: Compartment `e0` sounds like an external compartment. Using this one without counting boundary reactions.\n",
      "1710772638.3224688 INFO: Compartment `e0` sounds like an external compartment. Using this one without counting boundary reactions.\n",
      "1710772638.4146614 INFO: Compartment `e0` sounds like an external compartment. Using this one without counting boundary reactions.\n",
      "1710772638.5135758 INFO: Compartment `e0` sounds like an external compartment. Using this one without counting boundary reactions.\n",
      "1710772638.6072085 INFO: Compartment `e0` sounds like an external compartment. Using this one without counting boundary reactions.\n",
      "1710772638.7050183 INFO: Compartment `e0` sounds like an external compartment. Using this one without counting boundary reactions.\n",
      "1710772638.8016553 INFO: Compartment `e0` sounds like an external compartment. Using this one without counting boundary reactions.\n",
      "1710772638.8933425 INFO: Compartment `e0` sounds like an external compartment. Using this one without counting boundary reactions.\n",
      "1710772638.987198 INFO: Compartment `e0` sounds like an external compartment. Using this one without counting boundary reactions.\n",
      "1710772639.0789292 INFO: Compartment `e0` sounds like an external compartment. Using this one without counting boundary reactions.\n",
      "1710772639.169965 INFO: Compartment `e0` sounds like an external compartment. Using this one without counting boundary reactions.\n",
      "1710772639.261868 INFO: Compartment `e0` sounds like an external compartment. Using this one without counting boundary reactions.\n",
      "1710772639.3524885 INFO: Compartment `e0` sounds like an external compartment. Using this one without counting boundary reactions.\n",
      "1710772639.4501753 INFO: Compartment `e0` sounds like an external compartment. Using this one without counting boundary reactions.\n",
      "1710772639.543527 INFO: Compartment `e0` sounds like an external compartment. Using this one without counting boundary reactions.\n",
      "1710772639.6363738 INFO: Compartment `e0` sounds like an external compartment. Using this one without counting boundary reactions.\n",
      "1710772639.7287693 INFO: Compartment `e0` sounds like an external compartment. Using this one without counting boundary reactions.\n",
      "1710772639.8237426 INFO: Compartment `e0` sounds like an external compartment. Using this one without counting boundary reactions.\n",
      "1710772639.9179347 INFO: Compartment `e0` sounds like an external compartment. Using this one without counting boundary reactions.\n",
      "1710772640.015939 INFO: Compartment `e0` sounds like an external compartment. Using this one without counting boundary reactions.\n",
      "1710772640.1155574 INFO: Compartment `e0` sounds like an external compartment. Using this one without counting boundary reactions.\n",
      "1710772640.2089758 INFO: Compartment `e0` sounds like an external compartment. Using this one without counting boundary reactions.\n",
      "1710772640.3015375 INFO: Compartment `e0` sounds like an external compartment. Using this one without counting boundary reactions.\n",
      "1710772640.3931541 INFO: Compartment `e0` sounds like an external compartment. Using this one without counting boundary reactions.\n",
      "1710772640.4837105 INFO: Compartment `e0` sounds like an external compartment. Using this one without counting boundary reactions.\n",
      "1710772640.5762904 INFO: Compartment `e0` sounds like an external compartment. Using this one without counting boundary reactions.\n",
      "1710772640.6680622 INFO: Compartment `e0` sounds like an external compartment. Using this one without counting boundary reactions.\n",
      "1710772640.7669184 INFO: Compartment `e0` sounds like an external compartment. Using this one without counting boundary reactions.\n",
      "1710772640.858471 INFO: Compartment `e0` sounds like an external compartment. Using this one without counting boundary reactions.\n",
      "1710772640.9500248 INFO: Compartment `e0` sounds like an external compartment. Using this one without counting boundary reactions.\n",
      "1710772641.0413399 INFO: Compartment `e0` sounds like an external compartment. Using this one without counting boundary reactions.\n",
      "1710772641.1323972 INFO: Compartment `e0` sounds like an external compartment. Using this one without counting boundary reactions.\n",
      "1710772641.2237985 INFO: Compartment `e0` sounds like an external compartment. Using this one without counting boundary reactions.\n",
      "1710772641.3154056 INFO: Compartment `e0` sounds like an external compartment. Using this one without counting boundary reactions.\n",
      "1710772641.4064844 INFO: Compartment `e0` sounds like an external compartment. Using this one without counting boundary reactions.\n",
      "1710772641.497213 INFO: Compartment `e0` sounds like an external compartment. Using this one without counting boundary reactions.\n",
      "1710772641.5939035 INFO: Compartment `e0` sounds like an external compartment. Using this one without counting boundary reactions.\n",
      "1710772641.685036 INFO: Compartment `e0` sounds like an external compartment. Using this one without counting boundary reactions.\n",
      "1710772642.040922 INFO: The current solver interface glpk doesn't support setting the optimality tolerance.\n",
      "1710772698.4067552 INFO: Objective with gapfill database:19.12499999999993; min objective:0.01\n",
      "1710772698.5657783 INFO: Objective with gapfill database:0.3333333333333343; min objective:0.01\n",
      "1710772698.674762 INFO: Objective with gapfill database:0.0; min objective:0.01\n",
      "1710772698.9639723 INFO: The current solver interface glpk doesn't support setting the optimality tolerance.\n",
      "1710772796.5933363 WARNING: No gapfilling solution found before filtering for Etho activating rxn00062_c0\n",
      "1710772796.7256413 INFO: Objective with gapfill database:0.3333333333333336; min objective:0.01\n"
     ]
    },
    {
     "name": "stdout",
     "output_type": "stream",
     "text": [
      "Removing ungapfillable media Etho\n"
     ]
    },
    {
     "name": "stderr",
     "output_type": "stream",
     "text": [
      "1710772796.8349624 INFO: Objective with gapfill database:0.0; min objective:0.01\n",
      "1710772797.1610184 INFO: The current solver interface glpk doesn't support setting the optimality tolerance.\n",
      "1710772903.9313705 WARNING: No gapfilling solution found before filtering for mal-L activating rxn00062_c0\n",
      "1710772904.067492 INFO: Objective with gapfill database:1.0000000000000036; min objective:0.01\n"
     ]
    },
    {
     "name": "stdout",
     "output_type": "stream",
     "text": [
      "Removing ungapfillable media mal-L\n"
     ]
    },
    {
     "name": "stderr",
     "output_type": "stream",
     "text": [
      "1710772904.1781723 INFO: Objective with gapfill database:5.000000000000005; min objective:0.01\n",
      "1710772904.2884247 INFO: Objective with gapfill database:0.9999999999999993; min objective:0.01\n",
      "1710772904.3965786 INFO: Objective with gapfill database:1.0000000000000036; min objective:0.01\n",
      "1710772904.5053809 INFO: Objective with gapfill database:0.0; min objective:0.01\n",
      "1710772904.8299124 INFO: The current solver interface glpk doesn't support setting the optimality tolerance.\n",
      "1710772965.4247491 WARNING: No gapfilling solution found before filtering for empty activating rxn00062_c0\n",
      "1710772965.565451 INFO: Objective with gapfill database:0.0; min objective:0.01\n"
     ]
    },
    {
     "name": "stdout",
     "output_type": "stream",
     "text": [
      "Removing ungapfillable media empty\n"
     ]
    },
    {
     "name": "stderr",
     "output_type": "stream",
     "text": [
      "1710772965.8979495 INFO: The current solver interface glpk doesn't support setting the optimality tolerance.\n",
      "1710773084.1467848 WARNING: No gapfilling solution found before filtering for ANME activating rxn00062_c0\n",
      "1710773084.2896948 INFO: Objective with gapfill database:0.5000000000000008; min objective:0.01\n"
     ]
    },
    {
     "name": "stdout",
     "output_type": "stream",
     "text": [
      "Removing ungapfillable media ANME\n"
     ]
    },
    {
     "name": "stderr",
     "output_type": "stream",
     "text": [
      "1710773084.3984883 INFO: Objective with gapfill database:0.5000000000000007; min objective:0.01\n",
      "1710773084.5086753 INFO: Objective with gapfill database:0.5000000000000006; min objective:0.01\n",
      "1710773084.6170697 INFO: Objective with gapfill database:1.0000000000000049; min objective:0.01\n",
      "1710773084.724543 INFO: Objective with gapfill database:1.500000000000009; min objective:0.01\n",
      "1710773084.8821797 INFO: Objective with gapfill database:19.125000000000107; min objective:0.01\n",
      "1710773085.217814 INFO: Succ.O2/rxn00062_c0:rxn09269_c0> needed:5.750218040912325e-15 with min obj:2\n",
      "1710773085.389841 INFO: Objective with gapfill database:0.3333333333333441; min objective:0.01\n"
     ]
    },
    {
     "name": "stdout",
     "output_type": "stream",
     "text": [
      "Adding gapfilling {'growth': 0, 'media': <modelseedpy.core.msmedia.MSMedia object at 0x7f3df1ad6c90>, 'target': 'rxn00062_c0', 'minobjective': 2, 'binary_check': False, 'new': {'rxn09269_c0': '>'}, 'reversed': {}}\n"
     ]
    },
    {
     "name": "stderr",
     "output_type": "stream",
     "text": [
      "1710773085.7037265 INFO: Ac/rxn00062_c0:rxn03020_c0> needed:1.7970150202126656e-16 with min obj:0.01\n",
      "1710773085.7126248 INFO: Ac/rxn00062_c0:rxn15961_c0> needed:0.0 with min obj:0.01\n",
      "1710773085.931435 INFO: Objective with gapfill database:1.3333333333333486; min objective:0.01\n"
     ]
    },
    {
     "name": "stdout",
     "output_type": "stream",
     "text": [
      "Adding gapfilling {'growth': 0, 'media': <modelseedpy.core.msmedia.MSMedia object at 0x7f3df1a8b5d0>, 'target': 'rxn00062_c0', 'minobjective': 0.01, 'binary_check': False, 'new': {'rxn03020_c0': '>', 'rxn15961_c0': '>'}, 'reversed': {}}\n"
     ]
    },
    {
     "name": "stderr",
     "output_type": "stream",
     "text": [
      "1710773086.222785 INFO: Succ/rxn00062_c0:rxn09269_c0> needed:3.593886275570203e-16 with min obj:0.01\n",
      "1710773086.443656 INFO: Objective with gapfill database:0.33333333333333526; min objective:0.01\n"
     ]
    },
    {
     "name": "stdout",
     "output_type": "stream",
     "text": [
      "Adding gapfilling {'growth': 0, 'media': <modelseedpy.core.msmedia.MSMedia object at 0x7f3df1a89190>, 'target': 'rxn00062_c0', 'minobjective': 0.01, 'binary_check': False, 'new': {'rxn09269_c0': '>'}, 'reversed': {}}\n"
     ]
    },
    {
     "name": "stderr",
     "output_type": "stream",
     "text": [
      "1710773086.7272015 INFO: For/rxn00062_c0:rxn03020_c0> needed:0.0 with min obj:0.01\n",
      "1710773086.7359908 INFO: For/rxn00062_c0:rxn15961_c0> needed:0.0 with min obj:0.01\n",
      "1710773086.956974 INFO: Objective with gapfill database:2.125000000000031; min objective:0.01\n"
     ]
    },
    {
     "name": "stdout",
     "output_type": "stream",
     "text": [
      "Adding gapfilling {'growth': 0, 'media': <modelseedpy.core.msmedia.MSMedia object at 0x7f3df1a2fad0>, 'target': 'rxn00062_c0', 'minobjective': 0.01, 'binary_check': False, 'new': {'rxn03020_c0': '>', 'rxn15961_c0': '>'}, 'reversed': {}}\n"
     ]
    },
    {
     "name": "stderr",
     "output_type": "stream",
     "text": [
      "1710773087.4553406 INFO: Objective with gapfill database:1.0000000000000053; min objective:0.01\n"
     ]
    },
    {
     "name": "stdout",
     "output_type": "stream",
     "text": [
      "Adding gapfilling {'growth': 0, 'media': <modelseedpy.core.msmedia.MSMedia object at 0x7f3df1a2cc90>, 'target': 'rxn00062_c0', 'minobjective': 1.5, 'binary_check': False, 'new': {}, 'reversed': {}}\n"
     ]
    },
    {
     "name": "stderr",
     "output_type": "stream",
     "text": [
      "1710773087.7880778 INFO: For.NO/rxn00062_c0:rxn15962_c0< needed:-1.0782090121276111e-15 with min obj:0.01\n",
      "1710773087.7967556 INFO: For.NO/rxn00062_c0:rxn40505_c0< needed:0.0 with min obj:0.01\n",
      "1710773088.0176163 INFO: Objective with gapfill database:5.0000000000000195; min objective:0.01\n"
     ]
    },
    {
     "name": "stdout",
     "output_type": "stream",
     "text": [
      "Adding gapfilling {'growth': 0, 'media': <modelseedpy.core.msmedia.MSMedia object at 0x7f3df1a2c690>, 'target': 'rxn00062_c0', 'minobjective': 0.01, 'binary_check': False, 'new': {'rxn15962_c0': '<', 'rxn40505_c0': '<'}, 'reversed': {}}\n"
     ]
    },
    {
     "name": "stderr",
     "output_type": "stream",
     "text": [
      "1710773088.5143216 INFO: Objective with gapfill database:1.0000000000000002; min objective:0.01\n"
     ]
    },
    {
     "name": "stdout",
     "output_type": "stream",
     "text": [
      "Adding gapfilling {'growth': 0, 'media': <modelseedpy.core.msmedia.MSMedia object at 0x7f3df1bd9cd0>, 'target': 'rxn00062_c0', 'minobjective': 2.5, 'binary_check': False, 'new': {}, 'reversed': {}}\n"
     ]
    },
    {
     "name": "stderr",
     "output_type": "stream",
     "text": [
      "1710773088.7991202 INFO: H2.CO2/rxn00062_c0:rxn03020_c0> needed:0.0 with min obj:0.01\n",
      "1710773088.808213 INFO: H2.CO2/rxn00062_c0:rxn15961_c0> needed:0.0 with min obj:0.01\n",
      "1710773089.027513 INFO: Objective with gapfill database:1.0000000000000044; min objective:0.01\n"
     ]
    },
    {
     "name": "stdout",
     "output_type": "stream",
     "text": [
      "Adding gapfilling {'growth': 0, 'media': <modelseedpy.core.msmedia.MSMedia object at 0x7f3df1b61590>, 'target': 'rxn00062_c0', 'minobjective': 0.01, 'binary_check': False, 'new': {'rxn03020_c0': '>', 'rxn15961_c0': '>'}, 'reversed': {}}\n"
     ]
    },
    {
     "name": "stderr",
     "output_type": "stream",
     "text": [
      "1710773089.3148785 INFO: H2.Ac/rxn00062_c0:rxn03020_c0> needed:1.9693683073378293e-15 with min obj:0.01\n",
      "1710773089.3239148 INFO: H2.Ac/rxn00062_c0:rxn15961_c0> needed:0.0 with min obj:0.01\n",
      "1710773089.5576873 INFO: Objective with gapfill database:0.0; min objective:0.01\n"
     ]
    },
    {
     "name": "stdout",
     "output_type": "stream",
     "text": [
      "Adding gapfilling {'growth': 0, 'media': <modelseedpy.core.msmedia.MSMedia object at 0x7f3df1b60f90>, 'target': 'rxn00062_c0', 'minobjective': 0.01, 'binary_check': False, 'new': {'rxn03020_c0': '>', 'rxn15961_c0': '>'}, 'reversed': {}}\n"
     ]
    },
    {
     "name": "stderr",
     "output_type": "stream",
     "text": [
      "1710773089.8673077 INFO: The current solver interface glpk doesn't support setting the optimality tolerance.\n",
      "1710773145.2589488 WARNING: No gapfilling solution found for Light activating rxn00062_c0\n",
      "1710773145.449857 INFO: Objective with gapfill database:0.0; min objective:0.01\n",
      "1710773145.781234 INFO: The current solver interface glpk doesn't support setting the optimality tolerance.\n",
      "1710773272.7237577 WARNING: No gapfilling solution found for Methane activating rxn00062_c0\n",
      "1710773272.9225807 INFO: Objective with gapfill database:0.49999999999999883; min objective:0.01\n",
      "1710773273.2680297 INFO: Methanol/rxn00062_c0:rxn24606_c0> needed:-8.086387884888123e-16 with min obj:0.01\n",
      "1710773273.276864 INFO: Methanol/rxn00062_c0:rxn24607_c0> needed:0.0 with min obj:0.01\n",
      "1710773273.28567 INFO: Methanol/rxn00062_c0:rxn03020_c0< needed:0.0 with min obj:0.01\n",
      "1710773273.294432 INFO: Methanol/rxn00062_c0:rxn15962_c0< needed:0.0 with min obj:0.01\n",
      "1710773273.3032026 INFO: Methanol/rxn00062_c0:rxn40505_c0< needed:0.0 with min obj:0.01\n",
      "1710773273.5274284 INFO: Objective with gapfill database:0.4999999999999995; min objective:0.01\n"
     ]
    },
    {
     "name": "stdout",
     "output_type": "stream",
     "text": [
      "Adding gapfilling {'growth': 0, 'media': <modelseedpy.core.msmedia.MSMedia object at 0x7f3df1c881d0>, 'target': 'rxn00062_c0', 'minobjective': 0.01, 'binary_check': False, 'new': {'rxn24606_c0': '>', 'rxn24607_c0': '>', 'rxn03020_c0': '<', 'rxn15962_c0': '<', 'rxn40505_c0': '<'}, 'reversed': {}}\n"
     ]
    },
    {
     "name": "stderr",
     "output_type": "stream",
     "text": [
      "1710773273.818923 INFO: Methanol.H2/rxn00062_c0:rxn24606_c0> needed:0.0 with min obj:0.01\n",
      "1710773273.8277328 INFO: Methanol.H2/rxn00062_c0:rxn24607_c0> needed:0.0 with min obj:0.01\n",
      "1710773273.8366833 INFO: Methanol.H2/rxn00062_c0:rxn15961_c0> needed:0.0 with min obj:0.01\n",
      "1710773274.0665314 INFO: Objective with gapfill database:0.49999999999999967; min objective:0.01\n"
     ]
    },
    {
     "name": "stdout",
     "output_type": "stream",
     "text": [
      "Adding gapfilling {'growth': 0, 'media': <modelseedpy.core.msmedia.MSMedia object at 0x7f3df1c8a750>, 'target': 'rxn00062_c0', 'minobjective': 0.01, 'binary_check': False, 'new': {'rxn24606_c0': '>', 'rxn24607_c0': '>', 'rxn15961_c0': '>'}, 'reversed': {}}\n"
     ]
    },
    {
     "name": "stderr",
     "output_type": "stream",
     "text": [
      "1710773274.3919265 INFO: Methanamine.H2/rxn00062_c0:EX_cpd00187_e0< needed:0.0 with min obj:0.01\n",
      "1710773274.400712 INFO: Methanamine.H2/rxn00062_c0:rxn24608_c0> needed:0.0 with min obj:0.01\n",
      "1710773274.411173 INFO: Methanamine.H2/rxn00062_c0:rxn24609_c0> needed:0.0 with min obj:0.01\n",
      "1710773274.423774 INFO: Methanamine.H2/rxn00062_c0:rxn31759_c0< needed:0.0 with min obj:0.01\n",
      "1710773274.4327526 INFO: Methanamine.H2/rxn00062_c0:rxn15961_c0> needed:0.0 with min obj:0.01\n",
      "1710773274.6622047 INFO: Objective with gapfill database:1.0000000000000002; min objective:0.01\n"
     ]
    },
    {
     "name": "stdout",
     "output_type": "stream",
     "text": [
      "Adding gapfilling {'growth': 0, 'media': <modelseedpy.core.msmedia.MSMedia object at 0x7f3df1cc7d90>, 'target': 'rxn00062_c0', 'minobjective': 0.01, 'binary_check': False, 'new': {'EX_cpd00187_e0': '<', 'rxn24608_c0': '>', 'rxn24609_c0': '>', 'rxn31759_c0': '<', 'rxn15961_c0': '>'}, 'reversed': {}}\n"
     ]
    },
    {
     "name": "stderr",
     "output_type": "stream",
     "text": [
      "1710773274.9846814 INFO: Dimethylamine.H2/rxn00062_c0:EX_cpd00425_e0< needed:0.0 with min obj:0.01\n",
      "1710773274.9936013 INFO: Dimethylamine.H2/rxn00062_c0:rxn24608_c0> needed:0.0 with min obj:0.01\n",
      "1710773275.002482 INFO: Dimethylamine.H2/rxn00062_c0:rxn24609_c0> needed:0.0 with min obj:0.01\n",
      "1710773275.0114741 INFO: Dimethylamine.H2/rxn00062_c0:rxn24610_c0> needed:0.0 with min obj:0.01\n",
      "1710773275.0204003 INFO: Dimethylamine.H2/rxn00062_c0:rxn15961_c0> needed:0.0 with min obj:0.01\n",
      "1710773275.0293906 INFO: Dimethylamine.H2/rxn00062_c0:rxn24611_c0> needed:0.0 with min obj:0.01\n",
      "1710773275.038242 INFO: Dimethylamine.H2/rxn00062_c0:rxn33011_c0< needed:0.0 with min obj:0.01\n",
      "1710773275.2627437 INFO: Objective with gapfill database:1.4999999999999998; min objective:0.01\n"
     ]
    },
    {
     "name": "stdout",
     "output_type": "stream",
     "text": [
      "Adding gapfilling {'growth': 0, 'media': <modelseedpy.core.msmedia.MSMedia object at 0x7f3df1cc43d0>, 'target': 'rxn00062_c0', 'minobjective': 0.01, 'binary_check': False, 'new': {'EX_cpd00425_e0': '<', 'rxn24608_c0': '>', 'rxn24609_c0': '>', 'rxn24610_c0': '>', 'rxn15961_c0': '>', 'rxn24611_c0': '>', 'rxn33011_c0': '<'}, 'reversed': {}}\n"
     ]
    },
    {
     "name": "stderr",
     "output_type": "stream",
     "text": [
      "1710773275.569629 INFO: Trimethylamine.H2/rxn00062_c0:rxn24608_c0> needed:0.0 with min obj:0.01\n",
      "1710773275.5784538 INFO: Trimethylamine.H2/rxn00062_c0:rxn24609_c0> needed:0.0 with min obj:0.01\n",
      "1710773275.5873065 INFO: Trimethylamine.H2/rxn00062_c0:rxn24610_c0> needed:0.0 with min obj:0.01\n",
      "1710773275.5960832 INFO: Trimethylamine.H2/rxn00062_c0:rxn24613_c0> needed:0.0 with min obj:0.01\n",
      "1710773275.60484 INFO: Trimethylamine.H2/rxn00062_c0:rxn09318_c0< needed:0.0 with min obj:0.01\n",
      "1710773275.6137812 INFO: Trimethylamine.H2/rxn00062_c0:rxn15961_c0> needed:0.0 with min obj:0.01\n",
      "1710773275.6226764 INFO: Trimethylamine.H2/rxn00062_c0:rxn24611_c0> needed:0.0 with min obj:0.01\n",
      "1710773275.7117455 INFO: max_gapfilling: 5, best_score: 0.0\n",
      "1710773275.7124414 INFO: Setting FBAModel computed_attributes to mdlutl attributes\n",
      "1710773275.7135775 INFO: Setting FBAModel computed_attributes to mdlutl attributes\n"
     ]
    },
    {
     "name": "stdout",
     "output_type": "stream",
     "text": [
      "Adding gapfilling {'growth': 0, 'media': <modelseedpy.core.msmedia.MSMedia object at 0x7f3df1cc6d10>, 'target': 'rxn00062_c0', 'minobjective': 0.01, 'binary_check': False, 'new': {'rxn24608_c0': '>', 'rxn24609_c0': '>', 'rxn24610_c0': '>', 'rxn24613_c0': '>', 'rxn09318_c0': '<', 'rxn15961_c0': '>', 'rxn24611_c0': '>'}, 'reversed': {}}\n",
      "{<modelseedpy.core.msmedia.MSMedia object at 0x7f3df1ad6c90>: {'growth': 0, 'media': <modelseedpy.core.msmedia.MSMedia object at 0x7f3df1ad6c90>, 'target': 'rxn00062_c0', 'minobjective': 2, 'binary_check': False, 'new': {'rxn09269_c0': '>'}, 'reversed': {}}, <modelseedpy.core.msmedia.MSMedia object at 0x7f3df1a8b5d0>: {'growth': 0, 'media': <modelseedpy.core.msmedia.MSMedia object at 0x7f3df1a8b5d0>, 'target': 'rxn00062_c0', 'minobjective': 0.01, 'binary_check': False, 'new': {'rxn03020_c0': '>', 'rxn15961_c0': '>'}, 'reversed': {}}, <modelseedpy.core.msmedia.MSMedia object at 0x7f3df1a89190>: {'growth': 0, 'media': <modelseedpy.core.msmedia.MSMedia object at 0x7f3df1a89190>, 'target': 'rxn00062_c0', 'minobjective': 0.01, 'binary_check': False, 'new': {'rxn09269_c0': '>'}, 'reversed': {}}, <modelseedpy.core.msmedia.MSMedia object at 0x7f3df1a2fad0>: {'growth': 0, 'media': <modelseedpy.core.msmedia.MSMedia object at 0x7f3df1a2fad0>, 'target': 'rxn00062_c0', 'minobjective': 0.01, 'binary_check': False, 'new': {'rxn03020_c0': '>', 'rxn15961_c0': '>'}, 'reversed': {}}, <modelseedpy.core.msmedia.MSMedia object at 0x7f3df1a2cc90>: {'growth': 0, 'media': <modelseedpy.core.msmedia.MSMedia object at 0x7f3df1a2cc90>, 'target': 'rxn00062_c0', 'minobjective': 1.5, 'binary_check': False, 'new': {}, 'reversed': {}}, <modelseedpy.core.msmedia.MSMedia object at 0x7f3df1a2c690>: {'growth': 0, 'media': <modelseedpy.core.msmedia.MSMedia object at 0x7f3df1a2c690>, 'target': 'rxn00062_c0', 'minobjective': 0.01, 'binary_check': False, 'new': {'rxn15962_c0': '<', 'rxn40505_c0': '<'}, 'reversed': {}}, <modelseedpy.core.msmedia.MSMedia object at 0x7f3df1bd9cd0>: {'growth': 0, 'media': <modelseedpy.core.msmedia.MSMedia object at 0x7f3df1bd9cd0>, 'target': 'rxn00062_c0', 'minobjective': 2.5, 'binary_check': False, 'new': {}, 'reversed': {}}, <modelseedpy.core.msmedia.MSMedia object at 0x7f3df1b61590>: {'growth': 0, 'media': <modelseedpy.core.msmedia.MSMedia object at 0x7f3df1b61590>, 'target': 'rxn00062_c0', 'minobjective': 0.01, 'binary_check': False, 'new': {'rxn03020_c0': '>', 'rxn15961_c0': '>'}, 'reversed': {}}, <modelseedpy.core.msmedia.MSMedia object at 0x7f3df1b60f90>: {'growth': 0, 'media': <modelseedpy.core.msmedia.MSMedia object at 0x7f3df1b60f90>, 'target': 'rxn00062_c0', 'minobjective': 0.01, 'binary_check': False, 'new': {'rxn03020_c0': '>', 'rxn15961_c0': '>'}, 'reversed': {}}, <modelseedpy.core.msmedia.MSMedia object at 0x7f3df1c881d0>: {'growth': 0, 'media': <modelseedpy.core.msmedia.MSMedia object at 0x7f3df1c881d0>, 'target': 'rxn00062_c0', 'minobjective': 0.01, 'binary_check': False, 'new': {'rxn24606_c0': '>', 'rxn24607_c0': '>', 'rxn03020_c0': '<', 'rxn15962_c0': '<', 'rxn40505_c0': '<'}, 'reversed': {}}, <modelseedpy.core.msmedia.MSMedia object at 0x7f3df1c8a750>: {'growth': 0, 'media': <modelseedpy.core.msmedia.MSMedia object at 0x7f3df1c8a750>, 'target': 'rxn00062_c0', 'minobjective': 0.01, 'binary_check': False, 'new': {'rxn24606_c0': '>', 'rxn24607_c0': '>', 'rxn15961_c0': '>'}, 'reversed': {}}, <modelseedpy.core.msmedia.MSMedia object at 0x7f3df1cc7d90>: {'growth': 0, 'media': <modelseedpy.core.msmedia.MSMedia object at 0x7f3df1cc7d90>, 'target': 'rxn00062_c0', 'minobjective': 0.01, 'binary_check': False, 'new': {'EX_cpd00187_e0': '<', 'rxn24608_c0': '>', 'rxn24609_c0': '>', 'rxn31759_c0': '<', 'rxn15961_c0': '>'}, 'reversed': {}}, <modelseedpy.core.msmedia.MSMedia object at 0x7f3df1cc43d0>: {'growth': 0, 'media': <modelseedpy.core.msmedia.MSMedia object at 0x7f3df1cc43d0>, 'target': 'rxn00062_c0', 'minobjective': 0.01, 'binary_check': False, 'new': {'EX_cpd00425_e0': '<', 'rxn24608_c0': '>', 'rxn24609_c0': '>', 'rxn24610_c0': '>', 'rxn15961_c0': '>', 'rxn24611_c0': '>', 'rxn33011_c0': '<'}, 'reversed': {}}, <modelseedpy.core.msmedia.MSMedia object at 0x7f3df1cc6d10>: {'growth': 0, 'media': <modelseedpy.core.msmedia.MSMedia object at 0x7f3df1cc6d10>, 'target': 'rxn00062_c0', 'minobjective': 0.01, 'binary_check': False, 'new': {'rxn24608_c0': '>', 'rxn24609_c0': '>', 'rxn24610_c0': '>', 'rxn24613_c0': '>', 'rxn09318_c0': '<', 'rxn15961_c0': '>', 'rxn24611_c0': '>'}, 'reversed': {}}}\n"
     ]
    },
    {
     "name": "stderr",
     "output_type": "stream",
     "text": [
      "1710773277.8779063 INFO: Setting FBAModel computed_attributes to mdlutl attributes\n"
     ]
    },
    {
     "name": "stdout",
     "output_type": "stream",
     "text": [
      "Failed:<rxn10157_c0\n",
      "Failed:<rxn00146_c0\n",
      "Failed:>rxn10123_c0\n",
      "Failed:>rxn10124_c0\n",
      "Failed:>rxn00532_c0\n",
      "Failed:<rxn10155_c0\n",
      "Failed:>rxn12575_c0\n",
      "Failed:<rxn00429_c0\n",
      "Failed:<rxn00145_c0\n",
      "Failed:>rxn12822_c0\n",
      "Failed:>rxn00704_c0\n",
      "Failed:>rxn01671_c0\n",
      "Failed:<rxn00377_c0\n",
      "Failed:>rxn00778_c0\n",
      "Failed:>rxn05206_c0\n",
      "Failed:<rxn05611_c0\n",
      "Failed:<rxn14159_c0\n",
      "Failed:<rxn00154_c0\n",
      "Failed:>rxn45223_c0\n",
      "Failed:<rxn48579_c0\n",
      "Failed:>rxn39679_c0\n",
      "Failed:<rxn08735_c0\n",
      "Failed:<rxn08736_c0\n",
      "Failed:<rxn39860_c0\n",
      "Failed:<rxn44043_c0\n",
      "Failed:<rxn13339_c0\n",
      "Failed:<rxn13321_c0\n",
      "Failed:<rxn42976_c0\n",
      "Failed:<rxn20627_c0\n",
      "Failed:>rxn09193_c0\n",
      "Failed:<rxn08234_c0\n",
      "Failed:<rxn23850_c0\n",
      "Failed:<rxn40368_c0\n",
      "Failed:>rxn20583_c0\n",
      "Failed:<rxn16596_c0\n",
      "Failed:>rxn11667_c0\n",
      "Failed:<rxn09388_c0\n",
      "Failed:>rxn16149_c0\n",
      "Failed:<rxn43657_c0\n"
     ]
    },
    {
     "name": "stderr",
     "output_type": "stream",
     "text": [
      "1710773286.4691327 INFO: Expansion time:empty:8.415746569051407\n",
      "1710773286.4698327 INFO: Filtered count:39 out of 3345\n",
      "/scratch/shared/code/ModelSEEDpy/modelseedpy/core/msmodelutl.py:29: DeprecationWarning: invalid escape sequence '\\d'\n",
      "  if re.search(\"^(cpd\\d+)\", metabolite.id):\n",
      "/scratch/shared/code/ModelSEEDpy/modelseedpy/core/msmodelutl.py:30: DeprecationWarning: invalid escape sequence '\\d'\n",
      "  m = re.search(\"^(cpd\\d+)\", metabolite.id)\n",
      "/scratch/shared/code/ModelSEEDpy/modelseedpy/core/msmodelutl.py:35: DeprecationWarning: invalid escape sequence '\\d'\n",
      "  if re.search(\"^(cpd\\d+)\", item):\n",
      "/scratch/shared/code/ModelSEEDpy/modelseedpy/core/msmodelutl.py:36: DeprecationWarning: invalid escape sequence '\\d'\n",
      "  m = re.search(\"^(cpd\\d+)\", item)\n",
      "/scratch/shared/code/ModelSEEDpy/modelseedpy/core/msmodelutl.py:38: DeprecationWarning: invalid escape sequence '\\d'\n",
      "  elif re.search(\"^(cpd\\d+)\", metabolite.annotation[anno]):\n",
      "/scratch/shared/code/ModelSEEDpy/modelseedpy/core/msmodelutl.py:39: DeprecationWarning: invalid escape sequence '\\d'\n",
      "  m = re.search(\"^(cpd\\d+)\", metabolite.annotation[anno])\n",
      "/scratch/shared/code/ModelSEEDpy/modelseedpy/core/msmodelutl.py:45: DeprecationWarning: invalid escape sequence '\\d'\n",
      "  if re.search(\"^(rxn\\d+)\", reaction.id):\n",
      "/scratch/shared/code/ModelSEEDpy/modelseedpy/core/msmodelutl.py:46: DeprecationWarning: invalid escape sequence '\\d'\n",
      "  m = re.search(\"^(rxn\\d+)\", reaction.id)\n",
      "/scratch/shared/code/ModelSEEDpy/modelseedpy/core/msmodelutl.py:51: DeprecationWarning: invalid escape sequence '\\d'\n",
      "  if re.search(\"^(rxn\\d+)\", item):\n",
      "/scratch/shared/code/ModelSEEDpy/modelseedpy/core/msmodelutl.py:52: DeprecationWarning: invalid escape sequence '\\d'\n",
      "  m = re.search(\"^(rxn\\d+)\", item)\n",
      "/scratch/shared/code/ModelSEEDpy/modelseedpy/core/msmodelutl.py:54: DeprecationWarning: invalid escape sequence '\\d'\n",
      "  elif re.search(\"^(rxn\\d+)\", reaction.annotation[anno]):\n",
      "/scratch/shared/code/ModelSEEDpy/modelseedpy/core/msmodelutl.py:55: DeprecationWarning: invalid escape sequence '\\d'\n",
      "  m = re.search(\"^(rxn\\d+)\", reaction.annotation[anno])\n",
      "/scratch/shared/code/ModelSEEDpy/modelseedpy/core/msmodelutl.py:514: DeprecationWarning: invalid escape sequence '\\d'\n",
      "  if re.search(\"cpd\\d+_[a-z]+\", cpd.id):\n",
      "/scratch/shared/code/ModelSEEDpy/modelseedpy/core/msmodelutl.py:516: DeprecationWarning: invalid escape sequence '\\d'\n",
      "  refid = re.sub(\"_[a-z]\\d+$\", \"\", refid)\n",
      "/scratch/shared/code/ModelSEEDpy/modelseedpy/core/msmodelutl.py:560: DeprecationWarning: invalid escape sequence '\\d'\n",
      "  if re.search(\"rxn\\d+_[a-z]+\", rxn.id):\n",
      "/scratch/shared/code/ModelSEEDpy/modelseedpy/core/msmodelutl.py:562: DeprecationWarning: invalid escape sequence '\\d'\n",
      "  rxnref = re.sub(\"\\d+$\", \"\", rxnref)\n",
      "/scratch/shared/code/ModelSEEDpy/modelseedpy/core/msmodelutl.py:1362: DeprecationWarning: invalid escape sequence '\\d'\n",
      "  if re.search(\"(.+)_([a-z]+)(\\d*)$\", object.id) != None:\n",
      "/scratch/shared/code/ModelSEEDpy/modelseedpy/core/msmodelutl.py:1363: DeprecationWarning: invalid escape sequence '\\d'\n",
      "  m = re.search(\"(.+)_([a-z]+)(\\d*)$\", object.id)\n",
      "sys:1: ResourceWarning: Unclosed socket <zmq.Socket(zmq.PUSH) at 0x7f3f70e00050>\n",
      "ResourceWarning: Enable tracemalloc to get the object allocation traceback\n"
     ]
    },
    {
     "ename": "KeyboardInterrupt",
     "evalue": "",
     "output_type": "error",
     "traceback": [
      "\u001b[0;31m---------------------------------------------------------------------------\u001b[0m",
      "\u001b[0;31mKeyboardInterrupt\u001b[0m                         Traceback (most recent call last)",
      "Cell \u001b[0;32mIn[30], line 4\u001b[0m\n\u001b[1;32m      2\u001b[0m clade_list \u001b[38;5;241m=\u001b[39m [\u001b[38;5;124m\"\u001b[39m\u001b[38;5;124mother\u001b[39m\u001b[38;5;124m\"\u001b[39m,\u001b[38;5;124m\"\u001b[39m\u001b[38;5;124mPlanktophila\u001b[39m\u001b[38;5;124m\"\u001b[39m,\u001b[38;5;124m\"\u001b[39m\u001b[38;5;124mMethylopumilus\u001b[39m\u001b[38;5;124m\"\u001b[39m,\u001b[38;5;124m\"\u001b[39m\u001b[38;5;124mPolynucleobacter\u001b[39m\u001b[38;5;124m\"\u001b[39m,\u001b[38;5;124m\"\u001b[39m\u001b[38;5;124mPirellula_B\u001b[39m\u001b[38;5;124m\"\u001b[39m,\u001b[38;5;124m\"\u001b[39m\u001b[38;5;124mUBA3064\u001b[39m\u001b[38;5;124m\"\u001b[39m]\n\u001b[1;32m      3\u001b[0m \u001b[38;5;28;01mfor\u001b[39;00m clade \u001b[38;5;129;01min\u001b[39;00m clade_list:\n\u001b[0;32m----> 4\u001b[0m     \u001b[43mutil\u001b[49m\u001b[38;5;241;43m.\u001b[39;49m\u001b[43mmsrecon\u001b[49m\u001b[38;5;241;43m.\u001b[39;49m\u001b[43mbuild_metabolic_models\u001b[49m\u001b[43m(\u001b[49m\u001b[43m{\u001b[49m\n\u001b[1;32m      5\u001b[0m \u001b[43m        \u001b[49m\u001b[38;5;124;43m\"\u001b[39;49m\u001b[38;5;124;43mworkspace\u001b[39;49m\u001b[38;5;124;43m\"\u001b[39;49m\u001b[43m:\u001b[49m\u001b[38;5;241;43m174284\u001b[39;49m\u001b[43m,\u001b[49m\n\u001b[1;32m      6\u001b[0m \u001b[43m        \u001b[49m\u001b[38;5;124;43m\"\u001b[39;49m\u001b[38;5;124;43mgenome_refs\u001b[39;49m\u001b[38;5;124;43m\"\u001b[39;49m\u001b[43m:\u001b[49m\u001b[43m[\u001b[49m\u001b[38;5;124;43m\"\u001b[39;49m\u001b[38;5;124;43m174284/\u001b[39;49m\u001b[38;5;124;43m\"\u001b[39;49m\u001b[38;5;241;43m+\u001b[39;49m\u001b[43mclade\u001b[49m\u001b[38;5;241;43m+\u001b[39;49m\u001b[38;5;124;43m\"\u001b[39;49m\u001b[38;5;124;43m.genome\u001b[39;49m\u001b[38;5;124;43m\"\u001b[39;49m\u001b[43m]\u001b[49m\u001b[43m,\u001b[49m\n\u001b[1;32m      7\u001b[0m \u001b[43m        \u001b[49m\u001b[38;5;124;43m\"\u001b[39;49m\u001b[38;5;124;43mrun_gapfilling\u001b[39;49m\u001b[38;5;124;43m\"\u001b[39;49m\u001b[43m:\u001b[49m\u001b[38;5;28;43;01mTrue\u001b[39;49;00m\u001b[43m,\u001b[49m\n\u001b[1;32m      8\u001b[0m \u001b[43m        \u001b[49m\u001b[38;5;124;43m\"\u001b[39;49m\u001b[38;5;124;43matp_safe\u001b[39;49m\u001b[38;5;124;43m\"\u001b[39;49m\u001b[43m:\u001b[49m\u001b[38;5;28;43;01mTrue\u001b[39;49;00m\u001b[43m,\u001b[49m\n\u001b[1;32m      9\u001b[0m \u001b[43m        \u001b[49m\u001b[38;5;124;43m\"\u001b[39;49m\u001b[38;5;124;43mforced_atp_list\u001b[39;49m\u001b[38;5;124;43m\"\u001b[39;49m\u001b[43m:\u001b[49m\u001b[43m[\u001b[49m\u001b[43m]\u001b[49m\u001b[43m,\u001b[49m\n\u001b[1;32m     10\u001b[0m \u001b[43m        \u001b[49m\u001b[38;5;124;43m\"\u001b[39;49m\u001b[38;5;124;43mgapfilling_media_list\u001b[39;49m\u001b[38;5;124;43m\"\u001b[39;49m\u001b[43m:\u001b[49m\u001b[38;5;28;43;01mNone\u001b[39;49;00m\u001b[43m,\u001b[49m\n\u001b[1;32m     11\u001b[0m \u001b[43m        \u001b[49m\u001b[38;5;124;43m\"\u001b[39;49m\u001b[38;5;124;43msuffix\u001b[39;49m\u001b[38;5;124;43m\"\u001b[39;49m\u001b[43m:\u001b[49m\u001b[38;5;124;43m\"\u001b[39;49m\u001b[38;5;124;43m.mdl\u001b[39;49m\u001b[38;5;124;43m\"\u001b[39;49m\u001b[43m,\u001b[49m\n\u001b[1;32m     12\u001b[0m \u001b[43m        \u001b[49m\u001b[38;5;124;43m\"\u001b[39;49m\u001b[38;5;124;43mcore_template\u001b[39;49m\u001b[38;5;124;43m\"\u001b[39;49m\u001b[43m:\u001b[49m\u001b[38;5;124;43m\"\u001b[39;49m\u001b[38;5;124;43mauto\u001b[39;49m\u001b[38;5;124;43m\"\u001b[39;49m\u001b[43m,\u001b[49m\n\u001b[1;32m     13\u001b[0m \u001b[43m        \u001b[49m\u001b[38;5;124;43m\"\u001b[39;49m\u001b[38;5;124;43mgs_template\u001b[39;49m\u001b[38;5;124;43m\"\u001b[39;49m\u001b[43m:\u001b[49m\u001b[38;5;124;43m\"\u001b[39;49m\u001b[38;5;124;43mauto\u001b[39;49m\u001b[38;5;124;43m\"\u001b[39;49m\u001b[43m,\u001b[49m\n\u001b[1;32m     14\u001b[0m \u001b[43m        \u001b[49m\u001b[38;5;124;43m\"\u001b[39;49m\u001b[38;5;124;43mgs_template_ref\u001b[39;49m\u001b[38;5;124;43m\"\u001b[39;49m\u001b[43m:\u001b[49m\u001b[38;5;28;43;01mNone\u001b[39;49;00m\u001b[43m,\u001b[49m\n\u001b[1;32m     15\u001b[0m \u001b[43m        \u001b[49m\u001b[38;5;124;43m\"\u001b[39;49m\u001b[38;5;124;43mcore_template_ref\u001b[39;49m\u001b[38;5;124;43m\"\u001b[39;49m\u001b[43m:\u001b[49m\u001b[38;5;28;43;01mNone\u001b[39;49;00m\u001b[43m,\u001b[49m\n\u001b[1;32m     16\u001b[0m \u001b[43m        \u001b[49m\u001b[38;5;124;43m\"\u001b[39;49m\u001b[38;5;124;43mtemplate_reactions_only\u001b[39;49m\u001b[38;5;124;43m\"\u001b[39;49m\u001b[43m:\u001b[49m\u001b[38;5;28;43;01mTrue\u001b[39;49;00m\u001b[43m,\u001b[49m\n\u001b[1;32m     17\u001b[0m \u001b[43m        \u001b[49m\u001b[38;5;124;43m\"\u001b[39;49m\u001b[38;5;124;43moutput_core_models\u001b[39;49m\u001b[38;5;124;43m\"\u001b[39;49m\u001b[43m:\u001b[49m\u001b[38;5;28;43;01mFalse\u001b[39;49;00m\u001b[43m,\u001b[49m\n\u001b[1;32m     18\u001b[0m \u001b[43m        \u001b[49m\u001b[38;5;124;43m\"\u001b[39;49m\u001b[38;5;124;43mautomated_atp_evaluation\u001b[39;49m\u001b[38;5;124;43m\"\u001b[39;49m\u001b[43m:\u001b[49m\u001b[38;5;28;43;01mTrue\u001b[39;49;00m\u001b[43m,\u001b[49m\n\u001b[1;32m     19\u001b[0m \u001b[43m        \u001b[49m\u001b[38;5;124;43m\"\u001b[39;49m\u001b[38;5;124;43matp_medias\u001b[39;49m\u001b[38;5;124;43m\"\u001b[39;49m\u001b[43m:\u001b[49m\u001b[43m[\u001b[49m\u001b[43m]\u001b[49m\u001b[43m,\u001b[49m\n\u001b[1;32m     20\u001b[0m \u001b[43m        \u001b[49m\u001b[38;5;124;43m\"\u001b[39;49m\u001b[38;5;124;43mload_default_medias\u001b[39;49m\u001b[38;5;124;43m\"\u001b[39;49m\u001b[43m:\u001b[49m\u001b[38;5;28;43;01mTrue\u001b[39;49;00m\u001b[43m,\u001b[49m\n\u001b[1;32m     21\u001b[0m \u001b[43m        \u001b[49m\u001b[38;5;124;43m\"\u001b[39;49m\u001b[38;5;124;43mmax_gapfilling\u001b[39;49m\u001b[38;5;124;43m\"\u001b[39;49m\u001b[43m:\u001b[49m\u001b[38;5;241;43m5\u001b[39;49m\u001b[43m,\u001b[49m\n\u001b[1;32m     22\u001b[0m \u001b[43m        \u001b[49m\u001b[38;5;124;43m\"\u001b[39;49m\u001b[38;5;124;43mgapfilling_delta\u001b[39;49m\u001b[38;5;124;43m\"\u001b[39;49m\u001b[43m:\u001b[49m\u001b[38;5;241;43m0\u001b[39;49m\u001b[43m,\u001b[49m\n\u001b[1;32m     23\u001b[0m \u001b[43m        \u001b[49m\u001b[38;5;124;43m\"\u001b[39;49m\u001b[38;5;124;43mreturn_model_objects\u001b[39;49m\u001b[38;5;124;43m\"\u001b[39;49m\u001b[43m:\u001b[49m\u001b[38;5;28;43;01mFalse\u001b[39;49;00m\u001b[43m,\u001b[49m\n\u001b[1;32m     24\u001b[0m \u001b[43m        \u001b[49m\u001b[38;5;124;43m\"\u001b[39;49m\u001b[38;5;124;43mreturn_data\u001b[39;49m\u001b[38;5;124;43m\"\u001b[39;49m\u001b[43m:\u001b[49m\u001b[38;5;28;43;01mFalse\u001b[39;49;00m\u001b[43m,\u001b[49m\n\u001b[1;32m     25\u001b[0m \u001b[43m        \u001b[49m\u001b[38;5;124;43m\"\u001b[39;49m\u001b[38;5;124;43msave_report_to_kbase\u001b[39;49m\u001b[38;5;124;43m\"\u001b[39;49m\u001b[43m:\u001b[49m\u001b[38;5;28;43;01mFalse\u001b[39;49;00m\u001b[43m,\u001b[49m\n\u001b[1;32m     26\u001b[0m \u001b[43m        \u001b[49m\u001b[38;5;124;43m\"\u001b[39;49m\u001b[38;5;124;43mchange_to_complete\u001b[39;49m\u001b[38;5;124;43m\"\u001b[39;49m\u001b[43m:\u001b[49m\u001b[38;5;28;43;01mFalse\u001b[39;49;00m\u001b[43m,\u001b[49m\n\u001b[1;32m     27\u001b[0m \u001b[43m        \u001b[49m\u001b[38;5;124;43m\"\u001b[39;49m\u001b[38;5;124;43mgapfilling_mode\u001b[39;49m\u001b[38;5;124;43m\"\u001b[39;49m\u001b[43m:\u001b[49m\u001b[38;5;124;43m\"\u001b[39;49m\u001b[38;5;124;43mCumulative\u001b[39;49m\u001b[38;5;124;43m\"\u001b[39;49m\u001b[43m,\u001b[49m\n\u001b[1;32m     28\u001b[0m \u001b[43m        \u001b[49m\u001b[38;5;124;43m\"\u001b[39;49m\u001b[38;5;124;43mbase_media\u001b[39;49m\u001b[38;5;124;43m\"\u001b[39;49m\u001b[43m:\u001b[49m\u001b[38;5;28;43;01mNone\u001b[39;49;00m\u001b[43m,\u001b[49m\n\u001b[1;32m     29\u001b[0m \u001b[43m        \u001b[49m\u001b[38;5;124;43m\"\u001b[39;49m\u001b[38;5;124;43mcompound_list\u001b[39;49m\u001b[38;5;124;43m\"\u001b[39;49m\u001b[43m:\u001b[49m\u001b[38;5;28;43;01mNone\u001b[39;49;00m\u001b[43m,\u001b[49m\n\u001b[1;32m     30\u001b[0m \u001b[43m        \u001b[49m\u001b[38;5;124;43m\"\u001b[39;49m\u001b[38;5;124;43mbase_media_target_element\u001b[39;49m\u001b[38;5;124;43m\"\u001b[39;49m\u001b[43m:\u001b[49m\u001b[38;5;124;43m\"\u001b[39;49m\u001b[38;5;124;43mC\u001b[39;49m\u001b[38;5;124;43m\"\u001b[39;49m\n\u001b[1;32m     31\u001b[0m \u001b[43m    \u001b[49m\u001b[43m}\u001b[49m\u001b[43m)\u001b[49m\n",
      "File \u001b[0;32m/scratch/shared/code/KB-ModelSEEDReconstruction/lib/ModelSEEDReconstruction/modelseedrecon.py:155\u001b[0m, in \u001b[0;36mModelSEEDRecon.build_metabolic_models\u001b[0;34m(self, params)\u001b[0m\n\u001b[1;32m    153\u001b[0m \u001b[38;5;28;01mif\u001b[39;00m params[\u001b[38;5;124m\"\u001b[39m\u001b[38;5;124matp_safe\u001b[39m\u001b[38;5;124m\"\u001b[39m]:\n\u001b[1;32m    154\u001b[0m     atpcorrection \u001b[38;5;241m=\u001b[39m MSATPCorrection(mdlutl,\u001b[38;5;28mself\u001b[39m\u001b[38;5;241m.\u001b[39mcore_template,params[\u001b[38;5;124m\"\u001b[39m\u001b[38;5;124matp_medias\u001b[39m\u001b[38;5;124m\"\u001b[39m],load_default_medias\u001b[38;5;241m=\u001b[39mparams[\u001b[38;5;124m\"\u001b[39m\u001b[38;5;124mload_default_medias\u001b[39m\u001b[38;5;124m\"\u001b[39m],max_gapfilling\u001b[38;5;241m=\u001b[39mparams[\u001b[38;5;124m\"\u001b[39m\u001b[38;5;124mmax_gapfilling\u001b[39m\u001b[38;5;124m\"\u001b[39m],gapfilling_delta\u001b[38;5;241m=\u001b[39mparams[\u001b[38;5;124m\"\u001b[39m\u001b[38;5;124mgapfilling_delta\u001b[39m\u001b[38;5;124m\"\u001b[39m],forced_media\u001b[38;5;241m=\u001b[39mparams[\u001b[38;5;124m\"\u001b[39m\u001b[38;5;124mforced_atp_list\u001b[39m\u001b[38;5;124m\"\u001b[39m],default_media_path\u001b[38;5;241m=\u001b[39m\u001b[38;5;28mself\u001b[39m\u001b[38;5;241m.\u001b[39mmodule_dir\u001b[38;5;241m+\u001b[39m\u001b[38;5;124m\"\u001b[39m\u001b[38;5;124m/data/atp_medias.tsv\u001b[39m\u001b[38;5;124m\"\u001b[39m)\n\u001b[0;32m--> 155\u001b[0m     tests \u001b[38;5;241m=\u001b[39m \u001b[43matpcorrection\u001b[49m\u001b[38;5;241;43m.\u001b[39;49m\u001b[43mrun_atp_correction\u001b[49m\u001b[43m(\u001b[49m\u001b[43m)\u001b[49m\n\u001b[1;32m    156\u001b[0m     current_output[\u001b[38;5;124m\"\u001b[39m\u001b[38;5;124mCore GF\u001b[39m\u001b[38;5;124m\"\u001b[39m] \u001b[38;5;241m=\u001b[39m \u001b[38;5;28mlen\u001b[39m(atpcorrection\u001b[38;5;241m.\u001b[39mcumulative_core_gapfilling)\n\u001b[1;32m    157\u001b[0m \u001b[38;5;66;03m#Setting the model ID so the model is saved with the correct name in KBase\u001b[39;00m\n",
      "File \u001b[0;32m/scratch/shared/code/ModelSEEDpy/modelseedpy/core/msatpcorrection.py:594\u001b[0m, in \u001b[0;36mMSATPCorrection.run_atp_correction\u001b[0;34m(self)\u001b[0m\n\u001b[1;32m    592\u001b[0m \u001b[38;5;28mself\u001b[39m\u001b[38;5;241m.\u001b[39mapply_growth_media_gapfilling()\n\u001b[1;32m    593\u001b[0m \u001b[38;5;66;03m# self.evaluate_growth_media()\u001b[39;00m\n\u001b[0;32m--> 594\u001b[0m \u001b[38;5;28;43mself\u001b[39;49m\u001b[38;5;241;43m.\u001b[39;49m\u001b[43mexpand_model_to_genome_scale\u001b[49m\u001b[43m(\u001b[49m\u001b[43m)\u001b[49m\n\u001b[1;32m    595\u001b[0m \u001b[38;5;28;01mreturn\u001b[39;00m \u001b[38;5;28mself\u001b[39m\u001b[38;5;241m.\u001b[39mbuild_tests()\n",
      "File \u001b[0;32m/scratch/shared/code/ModelSEEDpy/modelseedpy/core/msatpcorrection.py:465\u001b[0m, in \u001b[0;36mMSATPCorrection.expand_model_to_genome_scale\u001b[0;34m(self)\u001b[0m\n\u001b[1;32m    463\u001b[0m \u001b[38;5;28mself\u001b[39m\u001b[38;5;241m.\u001b[39mrestore_noncore_reactions(noncore\u001b[38;5;241m=\u001b[39m\u001b[38;5;28;01mTrue\u001b[39;00m, othercompartment\u001b[38;5;241m=\u001b[39m\u001b[38;5;28;01mFalse\u001b[39;00m)\n\u001b[1;32m    464\u001b[0m \u001b[38;5;66;03m# Extending model with non core reactions while retaining ATP accuracy\u001b[39;00m\n\u001b[0;32m--> 465\u001b[0m \u001b[38;5;28mself\u001b[39m\u001b[38;5;241m.\u001b[39mfiltered_noncore \u001b[38;5;241m=\u001b[39m \u001b[38;5;28;43mself\u001b[39;49m\u001b[38;5;241;43m.\u001b[39;49m\u001b[43mmodelutl\u001b[49m\u001b[38;5;241;43m.\u001b[39;49m\u001b[43mreaction_expansion_test\u001b[49m\u001b[43m(\u001b[49m\n\u001b[1;32m    466\u001b[0m \u001b[43m    \u001b[49m\u001b[38;5;28;43mself\u001b[39;49m\u001b[38;5;241;43m.\u001b[39;49m\u001b[43mnoncore_reactions\u001b[49m\u001b[43m,\u001b[49m\u001b[43m \u001b[49m\u001b[43mtests\u001b[49m\u001b[43m,\u001b[49m\u001b[43m \u001b[49m\u001b[43mattribute_label\u001b[49m\u001b[38;5;241;43m=\u001b[39;49m\u001b[38;5;124;43m\"\u001b[39;49m\u001b[38;5;124;43matp_expansion_filter\u001b[39;49m\u001b[38;5;124;43m\"\u001b[39;49m\n\u001b[1;32m    467\u001b[0m \u001b[43m\u001b[49m\u001b[43m)\u001b[49m\n\u001b[1;32m    468\u001b[0m \u001b[38;5;66;03m# Removing filtered reactions\u001b[39;00m\n\u001b[1;32m    469\u001b[0m \u001b[38;5;28;01mfor\u001b[39;00m item \u001b[38;5;129;01min\u001b[39;00m \u001b[38;5;28mself\u001b[39m\u001b[38;5;241m.\u001b[39mfiltered_noncore:\n",
      "File \u001b[0;32m/scratch/shared/code/ModelSEEDpy/modelseedpy/core/msmodelutl.py:1140\u001b[0m, in \u001b[0;36mMSModelUtil.reaction_expansion_test\u001b[0;34m(self, reaction_list, condition_list, binary_search, attribute_label, positive_growth)\u001b[0m\n\u001b[1;32m   1138\u001b[0m done \u001b[38;5;241m=\u001b[39m \u001b[38;5;28;01mFalse\u001b[39;00m\n\u001b[1;32m   1139\u001b[0m \u001b[38;5;28;01mwhile\u001b[39;00m \u001b[38;5;129;01mnot\u001b[39;00m done:\n\u001b[0;32m-> 1140\u001b[0m     new_filtered \u001b[38;5;241m=\u001b[39m \u001b[38;5;28;43mself\u001b[39;49m\u001b[38;5;241;43m.\u001b[39;49m\u001b[43mbinary_expansion_test\u001b[49m\u001b[43m(\u001b[49m\n\u001b[1;32m   1141\u001b[0m \u001b[43m        \u001b[49m\u001b[43mreaction_list\u001b[49m\u001b[43m,\u001b[49m\u001b[43m \u001b[49m\u001b[43mcondition\u001b[49m\u001b[43m,\u001b[49m\u001b[43m \u001b[49m\u001b[43mcurrmodel\u001b[49m\u001b[43m,\u001b[49m\u001b[43mpositive_growth\u001b[49m\u001b[38;5;241;43m=\u001b[39;49m\u001b[43mpositive_growth\u001b[49m\n\u001b[1;32m   1142\u001b[0m \u001b[43m    \u001b[49m\u001b[43m)\u001b[49m\n\u001b[1;32m   1143\u001b[0m     \u001b[38;5;28;01mfor\u001b[39;00m item \u001b[38;5;129;01min\u001b[39;00m new_filtered:\n\u001b[1;32m   1144\u001b[0m         \u001b[38;5;28;01mif\u001b[39;00m item \u001b[38;5;129;01mnot\u001b[39;00m \u001b[38;5;129;01min\u001b[39;00m filtered_list:\n",
      "File \u001b[0;32m/scratch/shared/code/ModelSEEDpy/modelseedpy/core/msmodelutl.py:1060\u001b[0m, in \u001b[0;36mMSModelUtil.binary_expansion_test\u001b[0;34m(self, reaction_list, condition, currmodel, depth, positive_growth)\u001b[0m\n\u001b[1;32m   1058\u001b[0m             item[\u001b[38;5;241m0\u001b[39m]\u001b[38;5;241m.\u001b[39mlower_bound \u001b[38;5;241m=\u001b[39m \u001b[38;5;241m0\u001b[39m\n\u001b[1;32m   1059\u001b[0m \u001b[38;5;66;03m# Submitting first half of reactions for testing\u001b[39;00m\n\u001b[0;32m-> 1060\u001b[0m new_filter \u001b[38;5;241m=\u001b[39m \u001b[38;5;28;43mself\u001b[39;49m\u001b[38;5;241;43m.\u001b[39;49m\u001b[43mbinary_expansion_test\u001b[49m\u001b[43m(\u001b[49m\n\u001b[1;32m   1061\u001b[0m \u001b[43m    \u001b[49m\u001b[43msub_lists\u001b[49m\u001b[43m[\u001b[49m\u001b[38;5;241;43m0\u001b[39;49m\u001b[43m]\u001b[49m\u001b[43m,\u001b[49m\u001b[43m \u001b[49m\u001b[43mcondition\u001b[49m\u001b[43m,\u001b[49m\u001b[43m \u001b[49m\u001b[43mcurrmodel\u001b[49m\u001b[43m,\u001b[49m\u001b[43mdepth\u001b[49m\u001b[38;5;241;43m=\u001b[39;49m\u001b[43mnewdepth\u001b[49m\u001b[43m,\u001b[49m\u001b[43mpositive_growth\u001b[49m\u001b[38;5;241;43m=\u001b[39;49m\u001b[43mpositive_growth\u001b[49m\n\u001b[1;32m   1062\u001b[0m \u001b[43m\u001b[49m\u001b[43m)\u001b[49m\n\u001b[1;32m   1063\u001b[0m \u001b[38;5;28;01mfor\u001b[39;00m item \u001b[38;5;129;01min\u001b[39;00m new_filter:\n\u001b[1;32m   1064\u001b[0m     filtered_list\u001b[38;5;241m.\u001b[39mappend(item)\n",
      "File \u001b[0;32m/scratch/shared/code/ModelSEEDpy/modelseedpy/core/msmodelutl.py:1072\u001b[0m, in \u001b[0;36mMSModelUtil.binary_expansion_test\u001b[0;34m(self, reaction_list, condition, currmodel, depth, positive_growth)\u001b[0m\n\u001b[1;32m   1070\u001b[0m \u001b[38;5;28;01mif\u001b[39;00m i \u001b[38;5;241m>\u001b[39m\u001b[38;5;241m=\u001b[39m midway_point:\n\u001b[1;32m   1071\u001b[0m     \u001b[38;5;28;01mif\u001b[39;00m item[\u001b[38;5;241m1\u001b[39m] \u001b[38;5;241m==\u001b[39m \u001b[38;5;124m\"\u001b[39m\u001b[38;5;124m>\u001b[39m\u001b[38;5;124m\"\u001b[39m:\n\u001b[0;32m-> 1072\u001b[0m         \u001b[43mitem\u001b[49m\u001b[43m[\u001b[49m\u001b[38;5;241;43m0\u001b[39;49m\u001b[43m]\u001b[49m\u001b[38;5;241;43m.\u001b[39;49m\u001b[43mupper_bound\u001b[49m \u001b[38;5;241m=\u001b[39m original_bound[i]\n\u001b[1;32m   1073\u001b[0m     \u001b[38;5;28;01melse\u001b[39;00m:\n\u001b[1;32m   1074\u001b[0m         item[\u001b[38;5;241m0\u001b[39m]\u001b[38;5;241m.\u001b[39mlower_bound \u001b[38;5;241m=\u001b[39m original_bound[i]\n",
      "File \u001b[0;32m/opt/env/python3_modelseed/lib/python3.11/site-packages/cobra/util/context.py:111\u001b[0m, in \u001b[0;36mresettable.<locals>.wrapper\u001b[0;34m(self, new_value)\u001b[0m\n\u001b[1;32m    108\u001b[0m         \u001b[38;5;28;01mreturn\u001b[39;00m\n\u001b[1;32m    109\u001b[0m     context(partial(func, \u001b[38;5;28mself\u001b[39m, old_value))\n\u001b[0;32m--> 111\u001b[0m \u001b[43mfunc\u001b[49m\u001b[43m(\u001b[49m\u001b[38;5;28;43mself\u001b[39;49m\u001b[43m,\u001b[49m\u001b[43m \u001b[49m\u001b[43mnew_value\u001b[49m\u001b[43m)\u001b[49m\n",
      "File \u001b[0;32m/opt/env/python3_modelseed/lib/python3.11/site-packages/cobra/core/reaction.py:413\u001b[0m, in \u001b[0;36mReaction.upper_bound\u001b[0;34m(self, value)\u001b[0m\n\u001b[1;32m    411\u001b[0m \u001b[38;5;28mself\u001b[39m\u001b[38;5;241m.\u001b[39m_check_bounds(\u001b[38;5;28mself\u001b[39m\u001b[38;5;241m.\u001b[39m_lower_bound, value)\n\u001b[1;32m    412\u001b[0m \u001b[38;5;28mself\u001b[39m\u001b[38;5;241m.\u001b[39m_upper_bound \u001b[38;5;241m=\u001b[39m value\n\u001b[0;32m--> 413\u001b[0m \u001b[38;5;28;43mself\u001b[39;49m\u001b[38;5;241;43m.\u001b[39;49m\u001b[43mupdate_variable_bounds\u001b[49m\u001b[43m(\u001b[49m\u001b[43m)\u001b[49m\n",
      "File \u001b[0;32m/opt/env/python3_modelseed/lib/python3.11/site-packages/cobra/core/reaction.py:329\u001b[0m, in \u001b[0;36mReaction.update_variable_bounds\u001b[0;34m(self)\u001b[0m\n\u001b[1;32m    325\u001b[0m \u001b[38;5;28;01melse\u001b[39;00m:\n\u001b[1;32m    326\u001b[0m     \u001b[38;5;28mself\u001b[39m\u001b[38;5;241m.\u001b[39mforward_variable\u001b[38;5;241m.\u001b[39mset_bounds(\n\u001b[1;32m    327\u001b[0m         lb\u001b[38;5;241m=\u001b[39m\u001b[38;5;241m0\u001b[39m, ub\u001b[38;5;241m=\u001b[39m\u001b[38;5;28;01mNone\u001b[39;00m \u001b[38;5;28;01mif\u001b[39;00m isinf(\u001b[38;5;28mself\u001b[39m\u001b[38;5;241m.\u001b[39m_upper_bound) \u001b[38;5;28;01melse\u001b[39;00m \u001b[38;5;28mself\u001b[39m\u001b[38;5;241m.\u001b[39m_upper_bound\n\u001b[1;32m    328\u001b[0m     )\n\u001b[0;32m--> 329\u001b[0m     \u001b[38;5;28;43mself\u001b[39;49m\u001b[38;5;241;43m.\u001b[39;49m\u001b[43mreverse_variable\u001b[49m\u001b[38;5;241m.\u001b[39mset_bounds(\n\u001b[1;32m    330\u001b[0m         lb\u001b[38;5;241m=\u001b[39m\u001b[38;5;241m0\u001b[39m, ub\u001b[38;5;241m=\u001b[39m\u001b[38;5;28;01mNone\u001b[39;00m \u001b[38;5;28;01mif\u001b[39;00m isinf(\u001b[38;5;28mself\u001b[39m\u001b[38;5;241m.\u001b[39m_lower_bound) \u001b[38;5;28;01melse\u001b[39;00m \u001b[38;5;241m-\u001b[39m\u001b[38;5;28mself\u001b[39m\u001b[38;5;241m.\u001b[39m_lower_bound\n\u001b[1;32m    331\u001b[0m     )\n",
      "File \u001b[0;32m/opt/env/python3_modelseed/lib/python3.11/site-packages/cobra/core/reaction.py:205\u001b[0m, in \u001b[0;36mReaction.reverse_variable\u001b[0;34m(self)\u001b[0m\n\u001b[1;32m    196\u001b[0m \u001b[38;5;250m\u001b[39m\u001b[38;5;124;03m\"\"\"Get an optlang variable representing the reverse flux.\u001b[39;00m\n\u001b[1;32m    197\u001b[0m \n\u001b[1;32m    198\u001b[0m \u001b[38;5;124;03mReturns\u001b[39;00m\n\u001b[0;32m   (...)\u001b[0m\n\u001b[1;32m    202\u001b[0m \u001b[38;5;124;03m    not associated with a model.\u001b[39;00m\n\u001b[1;32m    203\u001b[0m \u001b[38;5;124;03m\"\"\"\u001b[39;00m\n\u001b[1;32m    204\u001b[0m \u001b[38;5;28;01mif\u001b[39;00m \u001b[38;5;28mself\u001b[39m\u001b[38;5;241m.\u001b[39mmodel \u001b[38;5;129;01mis\u001b[39;00m \u001b[38;5;129;01mnot\u001b[39;00m \u001b[38;5;28;01mNone\u001b[39;00m:\n\u001b[0;32m--> 205\u001b[0m     \u001b[38;5;28;01mreturn\u001b[39;00m \u001b[38;5;28mself\u001b[39m\u001b[38;5;241m.\u001b[39mmodel\u001b[38;5;241m.\u001b[39mvariables[\u001b[38;5;28;43mself\u001b[39;49m\u001b[38;5;241;43m.\u001b[39;49m\u001b[43mreverse_id\u001b[49m]\n\u001b[1;32m    206\u001b[0m \u001b[38;5;28;01melse\u001b[39;00m:\n\u001b[1;32m    207\u001b[0m     \u001b[38;5;28;01mreturn\u001b[39;00m \u001b[38;5;28;01mNone\u001b[39;00m\n",
      "File \u001b[0;32m/opt/env/python3_modelseed/lib/python3.11/site-packages/cobra/core/reaction.py:159\u001b[0m, in \u001b[0;36mReaction.reverse_id\u001b[0;34m(self)\u001b[0m\n\u001b[1;32m    148\u001b[0m \u001b[38;5;129m@property\u001b[39m\n\u001b[1;32m    149\u001b[0m \u001b[38;5;28;01mdef\u001b[39;00m \u001b[38;5;21mreverse_id\u001b[39m(\u001b[38;5;28mself\u001b[39m) \u001b[38;5;241m-\u001b[39m\u001b[38;5;241m>\u001b[39m \u001b[38;5;28mstr\u001b[39m:\n\u001b[1;32m    150\u001b[0m \u001b[38;5;250m    \u001b[39m\u001b[38;5;124;03m\"\"\"Generate the id of reverse_variable from the reaction's id.\u001b[39;00m\n\u001b[1;32m    151\u001b[0m \n\u001b[1;32m    152\u001b[0m \u001b[38;5;124;03m    Returns\u001b[39;00m\n\u001b[0;32m   (...)\u001b[0m\n\u001b[1;32m    156\u001b[0m \u001b[38;5;124;03m        of the utf-8 encoded id.\u001b[39;00m\n\u001b[1;32m    157\u001b[0m \u001b[38;5;124;03m    \"\"\"\u001b[39;00m\n\u001b[1;32m    158\u001b[0m     \u001b[38;5;28;01mreturn\u001b[39;00m \u001b[38;5;124m\"\u001b[39m\u001b[38;5;124m_\u001b[39m\u001b[38;5;124m\"\u001b[39m\u001b[38;5;241m.\u001b[39mjoin(\n\u001b[0;32m--> 159\u001b[0m         (\u001b[38;5;28mself\u001b[39m\u001b[38;5;241m.\u001b[39mid, \u001b[38;5;124m\"\u001b[39m\u001b[38;5;124mreverse\u001b[39m\u001b[38;5;124m\"\u001b[39m, hashlib\u001b[38;5;241m.\u001b[39mmd5(\u001b[38;5;28mself\u001b[39m\u001b[38;5;241m.\u001b[39mid\u001b[38;5;241m.\u001b[39mencode(\u001b[38;5;124m\"\u001b[39m\u001b[38;5;124mutf-8\u001b[39m\u001b[38;5;124m\"\u001b[39m))\u001b[38;5;241m.\u001b[39mhexdigest()[\u001b[38;5;241m0\u001b[39m:\u001b[38;5;241m5\u001b[39m])\n\u001b[1;32m    160\u001b[0m     )\n",
      "\u001b[0;31mKeyboardInterrupt\u001b[0m: "
     ]
    }
   ],
   "source": [
    "import requests\n",
    "import os\n",
    "import io\n",
    "import sys\n",
    "from biokbase.workspace.client import Workspace\n",
    "from biokbase.narrative.jobs.appmanager import AppManager\n",
    "current_ws = os.environ['KB_WORKSPACE_ID']\n",
    "\n",
    "ws_client = Workspace()\n",
    "genomes = ws_client.list_objects({\"ids\":[181152],\"type\":\"KBaseGenomes.Genome\"})\n",
    "genomes = genomes[2:]\n",
    "for genome in genomes:\n",
    "    AppManager().run_app(\n",
    "        \"ModelSEEDReconstruction/build_metabolic_models\",\n",
    "        {\n",
    "            \"genome_refs\": [\"181152/\"+genome[1]],\n",
    "            \"suffix\": \".mdl\",\n",
    "            \"run_gapfilling\": 1,\n",
    "            \"gapfilling_media_list\": [\"181152/AuxoMedia\",\"181152/AnaerobicGMM\"],\n",
    "            \"change_to_complete\": 0,\n",
    "            \"atp_safe\": 1,\n",
    "            \"forced_atp_list\": [],\n",
    "            \"gs_template\": \"auto\",\n",
    "            \"gs_template_ref\": None,\n",
    "            \"core_template_ref\": None,\n",
    "            \"gapfilling_mode\": \"Sequential\",\n",
    "            \"expression_refs\": [],\n",
    "            \"expression_conditions\": []\n",
    "        },\n",
    "        tag=\"release\",\n",
    "        version=\"2.0.0\",\n",
    "        cell_id=\"c4caea9f-c131-4b17-88e3-19e2b54b655a\",\n",
    "        run_id=\"9e3a761b-3ca7-4b5a-9197-ae4c858edef2\"\n",
    "    )"
   ]
  },
  {
   "cell_type": "markdown",
   "metadata": {
    "jp-MarkdownHeadingCollapsed": true,
    "tags": []
   },
   "source": [
    "# Adding probabilities to ASV models"
   ]
  },
  {
   "cell_type": "code",
   "execution_count": 24,
   "metadata": {
    "collapsed": true,
    "jupyter": {
     "outputs_hidden": true
    },
    "tags": []
   },
   "outputs": [
    {
     "name": "stderr",
     "output_type": "stream",
     "text": [
      "1714110491.7230527 INFO: metabolites 1085\n",
      "1714110495.821199 INFO: reactions 988\n",
      "1714110495.9441411 INFO: The current solver interface glpk doesn't support setting the optimality tolerance.\n",
      "1714110496.3080332 INFO: Default biomass: [bio1]\n",
      "1714110496.3407097 INFO: Setting FBAModel computed_attributes to mdlutl attributes\n",
      "1714110498.8682323 INFO: metabolites 1027\n",
      "1714110502.4806764 INFO: reactions 988\n",
      "1714110502.5843725 INFO: The current solver interface glpk doesn't support setting the optimality tolerance.\n",
      "1714110502.9308474 INFO: Default biomass: [bio1]\n",
      "1714110502.9558785 INFO: Setting FBAModel computed_attributes to mdlutl attributes\n",
      "1714110504.6506052 INFO: metabolites 909\n",
      "1714110508.013077 INFO: reactions 868\n",
      "1714110508.1104188 INFO: The current solver interface glpk doesn't support setting the optimality tolerance.\n",
      "1714110508.419499 INFO: Default biomass: [bio1]\n",
      "1714110508.4425995 INFO: Setting FBAModel computed_attributes to mdlutl attributes\n",
      "1714110509.9471219 INFO: metabolites 1388\n",
      "1714110516.6483202 INFO: reactions 1420\n",
      "1714110516.8123858 INFO: The current solver interface glpk doesn't support setting the optimality tolerance.\n",
      "1714110517.324524 INFO: Default biomass: [bio1]\n",
      "1714110517.3627746 INFO: Setting FBAModel computed_attributes to mdlutl attributes\n",
      "1714110519.0348067 INFO: metabolites 840\n",
      "1714110521.6815834 INFO: reactions 769\n",
      "1714110521.765312 INFO: The current solver interface glpk doesn't support setting the optimality tolerance.\n",
      "1714110522.044502 INFO: Default biomass: [bio1]\n",
      "1714110522.0650613 INFO: Setting FBAModel computed_attributes to mdlutl attributes\n",
      "1714110524.0400317 INFO: metabolites 1070\n",
      "1714110528.139728 INFO: reactions 1011\n",
      "1714110528.2503524 INFO: The current solver interface glpk doesn't support setting the optimality tolerance.\n",
      "1714110528.619147 INFO: Default biomass: [bio1]\n",
      "1714110528.6455188 INFO: Setting FBAModel computed_attributes to mdlutl attributes\n",
      "1714110530.3841975 INFO: metabolites 1161\n",
      "1714110535.6065438 INFO: reactions 1170\n",
      "1714110535.7327478 INFO: The current solver interface glpk doesn't support setting the optimality tolerance.\n",
      "1714110536.1468651 INFO: Default biomass: [bio1]\n",
      "1714110536.1837783 INFO: Setting FBAModel computed_attributes to mdlutl attributes\n",
      "1714110537.636459 INFO: metabolites 961\n",
      "1714110541.024043 INFO: reactions 889\n",
      "1714110541.1260347 INFO: The current solver interface glpk doesn't support setting the optimality tolerance.\n",
      "1714110541.446928 INFO: Default biomass: [bio1]\n",
      "1714110541.4728503 INFO: Setting FBAModel computed_attributes to mdlutl attributes\n",
      "1714110542.98668 INFO: metabolites 944\n",
      "1714110546.7173035 INFO: reactions 868\n",
      "1714110546.862417 INFO: The current solver interface glpk doesn't support setting the optimality tolerance.\n",
      "1714110547.2038937 INFO: Default biomass: [bio1]\n",
      "1714110547.2666874 INFO: Setting FBAModel computed_attributes to mdlutl attributes\n",
      "1714110548.8454733 INFO: metabolites 1079\n",
      "1714110552.8225965 INFO: reactions 1040\n",
      "1714110552.934911 INFO: The current solver interface glpk doesn't support setting the optimality tolerance.\n",
      "1714110553.3070688 INFO: Default biomass: [bio1]\n",
      "1714110553.3368049 INFO: Setting FBAModel computed_attributes to mdlutl attributes\n",
      "1714110554.8167415 INFO: metabolites 948\n",
      "1714110558.4876893 INFO: reactions 896\n",
      "1714110558.585778 INFO: The current solver interface glpk doesn't support setting the optimality tolerance.\n",
      "1714110558.9084752 INFO: Default biomass: [bio1]\n",
      "1714110558.9330273 INFO: Setting FBAModel computed_attributes to mdlutl attributes\n",
      "1714110560.4414594 INFO: metabolites 1047\n",
      "1714110564.3180213 INFO: reactions 992\n",
      "1714110564.4281526 INFO: The current solver interface glpk doesn't support setting the optimality tolerance.\n",
      "1714110564.7850056 INFO: Default biomass: [bio1]\n",
      "1714110564.812022 INFO: Setting FBAModel computed_attributes to mdlutl attributes\n",
      "1714110567.0142205 INFO: metabolites 1154\n",
      "1714110571.6108897 INFO: reactions 1114\n",
      "1714110571.739054 INFO: The current solver interface glpk doesn't support setting the optimality tolerance.\n",
      "1714110572.149084 INFO: Default biomass: [bio1]\n",
      "1714110572.1801376 INFO: Setting FBAModel computed_attributes to mdlutl attributes\n",
      "1714110574.221283 INFO: metabolites 1432\n",
      "1714110581.38413 INFO: reactions 1545\n",
      "1714110581.575166 INFO: The current solver interface glpk doesn't support setting the optimality tolerance.\n",
      "1714110582.1367106 INFO: Default biomass: [bio1]\n",
      "1714110582.1866238 INFO: Setting FBAModel computed_attributes to mdlutl attributes\n",
      "1714110584.0309074 INFO: metabolites 1086\n",
      "1714110587.8205018 INFO: reactions 996\n",
      "1714110587.9898887 INFO: The current solver interface glpk doesn't support setting the optimality tolerance.\n",
      "1714110588.3639133 INFO: Default biomass: [bio1]\n",
      "1714110588.4327333 INFO: Setting FBAModel computed_attributes to mdlutl attributes\n",
      "1714110590.1016104 INFO: metabolites 1057\n",
      "1714110594.1530442 INFO: reactions 965\n",
      "1714110594.2621732 INFO: The current solver interface glpk doesn't support setting the optimality tolerance.\n",
      "1714110594.6185641 INFO: Default biomass: [bio1]\n",
      "1714110594.647287 INFO: Setting FBAModel computed_attributes to mdlutl attributes\n",
      "1714110596.115933 INFO: metabolites 1000\n",
      "1714110599.2838168 INFO: reactions 902\n",
      "1714110599.3812838 INFO: The current solver interface glpk doesn't support setting the optimality tolerance.\n",
      "1714110599.7063274 INFO: Default biomass: [bio1]\n",
      "1714110599.729344 INFO: Setting FBAModel computed_attributes to mdlutl attributes\n",
      "1714110601.1478384 INFO: metabolites 1020\n",
      "1714110604.5175736 INFO: reactions 960\n",
      "1714110604.626801 INFO: The current solver interface glpk doesn't support setting the optimality tolerance.\n",
      "1714110604.9668994 INFO: Default biomass: [bio1]\n",
      "1714110604.9947767 INFO: Setting FBAModel computed_attributes to mdlutl attributes\n",
      "1714110607.7548542 INFO: metabolites 974\n",
      "1714110611.2473497 INFO: reactions 909\n",
      "1714110611.3685904 INFO: The current solver interface glpk doesn't support setting the optimality tolerance.\n",
      "1714110611.6949046 INFO: Default biomass: [bio1]\n",
      "1714110611.730959 INFO: Setting FBAModel computed_attributes to mdlutl attributes\n",
      "1714110613.308638 INFO: metabolites 905\n",
      "1714110616.4282446 INFO: reactions 815\n",
      "1714110616.5302815 INFO: The current solver interface glpk doesn't support setting the optimality tolerance.\n",
      "1714110616.8289728 INFO: Default biomass: [bio1]\n",
      "1714110616.862365 INFO: Setting FBAModel computed_attributes to mdlutl attributes\n",
      "1714110619.7600267 INFO: metabolites 1154\n",
      "1714110783.555691 INFO: reactions 1175\n",
      "1714110783.695579 INFO: The current solver interface glpk doesn't support setting the optimality tolerance.\n",
      "1714110784.1118102 INFO: Default biomass: [bio1]\n",
      "1714110784.1457682 INFO: Setting FBAModel computed_attributes to mdlutl attributes\n",
      "1714110785.5574853 INFO: metabolites 816\n",
      "1714110788.2189214 INFO: reactions 733\n",
      "1714110788.3017516 INFO: The current solver interface glpk doesn't support setting the optimality tolerance.\n",
      "1714110788.5691974 INFO: Default biomass: [bio1]\n",
      "1714110788.5902436 INFO: Setting FBAModel computed_attributes to mdlutl attributes\n",
      "1714110790.069077 INFO: metabolites 1013\n",
      "1714110793.3563535 INFO: reactions 909\n",
      "1714110793.45654 INFO: The current solver interface glpk doesn't support setting the optimality tolerance.\n",
      "1714110793.7892985 INFO: Default biomass: [bio1]\n",
      "1714110793.8198717 INFO: Setting FBAModel computed_attributes to mdlutl attributes\n",
      "1714110796.5227525 INFO: metabolites 1056\n",
      "1714110800.587092 INFO: reactions 1008\n",
      "1714110800.7026448 INFO: The current solver interface glpk doesn't support setting the optimality tolerance.\n",
      "1714110801.06413 INFO: Default biomass: [bio1]\n",
      "1714110801.0895388 INFO: Setting FBAModel computed_attributes to mdlutl attributes\n",
      "1714110803.2568967 INFO: metabolites 892\n",
      "1714110806.3287294 INFO: reactions 801\n",
      "1714110806.4253054 INFO: The current solver interface glpk doesn't support setting the optimality tolerance.\n",
      "1714110806.7151144 INFO: Default biomass: [bio1]\n",
      "1714110806.7428668 INFO: Setting FBAModel computed_attributes to mdlutl attributes\n",
      "1714110809.3354876 INFO: metabolites 1094\n",
      "1714110813.6824539 INFO: reactions 1045\n",
      "1714110813.8045359 INFO: The current solver interface glpk doesn't support setting the optimality tolerance.\n",
      "1714110814.1864874 INFO: Default biomass: [bio1]\n",
      "1714110814.216944 INFO: Setting FBAModel computed_attributes to mdlutl attributes\n",
      "1714110815.8036683 INFO: metabolites 961\n",
      "1714110819.137255 INFO: reactions 879\n",
      "1714110819.2359655 INFO: The current solver interface glpk doesn't support setting the optimality tolerance.\n",
      "1714110819.5542161 INFO: Default biomass: [bio1]\n",
      "1714110819.5769482 INFO: Setting FBAModel computed_attributes to mdlutl attributes\n",
      "1714110821.4702723 INFO: metabolites 1039\n",
      "1714110825.4722335 INFO: reactions 1022\n",
      "1714110825.5870554 INFO: The current solver interface glpk doesn't support setting the optimality tolerance.\n",
      "1714110825.9524615 INFO: Default biomass: [bio1]\n",
      "1714110825.9812744 INFO: Setting FBAModel computed_attributes to mdlutl attributes\n",
      "1714110827.4832485 INFO: metabolites 1062\n",
      "1714110831.1458242 INFO: reactions 1008\n",
      "1714110831.2567596 INFO: The current solver interface glpk doesn't support setting the optimality tolerance.\n",
      "1714110831.6171446 INFO: Default biomass: [bio1]\n",
      "1714110831.6418228 INFO: Setting FBAModel computed_attributes to mdlutl attributes\n",
      "1714110834.8196073 INFO: metabolites 1185\n",
      "1714110840.2397785 INFO: reactions 1190\n",
      "1714110840.3824215 INFO: The current solver interface glpk doesn't support setting the optimality tolerance.\n",
      "1714110840.8115878 INFO: Default biomass: [bio1]\n",
      "1714110840.849505 INFO: Setting FBAModel computed_attributes to mdlutl attributes\n",
      "1714110842.433077 INFO: metabolites 1095\n",
      "1714110847.3758595 INFO: reactions 1074\n",
      "1714110847.4959104 INFO: The current solver interface glpk doesn't support setting the optimality tolerance.\n",
      "1714110847.884305 INFO: Default biomass: [bio1]\n",
      "1714110847.912912 INFO: Setting FBAModel computed_attributes to mdlutl attributes\n",
      "1714110849.6169853 INFO: metabolites 1141\n",
      "1714110855.1030986 INFO: reactions 1128\n",
      "1714110855.2289212 INFO: The current solver interface glpk doesn't support setting the optimality tolerance.\n",
      "1714110855.6358886 INFO: Default biomass: [bio1]\n",
      "1714110855.6672175 INFO: Setting FBAModel computed_attributes to mdlutl attributes\n",
      "1714110859.6488771 INFO: metabolites 984\n",
      "1714110863.8672116 INFO: reactions 947\n",
      "1714110863.9759884 INFO: The current solver interface glpk doesn't support setting the optimality tolerance.\n",
      "1714110864.321094 INFO: Default biomass: [bio1]\n",
      "1714110864.3488626 INFO: Setting FBAModel computed_attributes to mdlutl attributes\n",
      "1714110865.9903677 INFO: metabolites 883\n",
      "1714110868.7715917 INFO: reactions 831\n",
      "1714110868.860974 INFO: The current solver interface glpk doesn't support setting the optimality tolerance.\n",
      "1714110869.1538384 INFO: Default biomass: [bio1]\n",
      "1714110869.1763942 INFO: Setting FBAModel computed_attributes to mdlutl attributes\n",
      "1714110870.9099061 INFO: metabolites 1552\n",
      "1714110879.03375 INFO: reactions 1640\n",
      "1714110879.2147245 INFO: The current solver interface glpk doesn't support setting the optimality tolerance.\n",
      "1714110879.8116856 INFO: Default biomass: [bio1]\n",
      "1714110879.8547559 INFO: Setting FBAModel computed_attributes to mdlutl attributes\n",
      "1714110881.6834009 INFO: metabolites 1140\n",
      "1714110886.7000473 INFO: reactions 1106\n",
      "1714110886.8308687 INFO: The current solver interface glpk doesn't support setting the optimality tolerance.\n",
      "1714110887.2474675 INFO: Default biomass: [bio1]\n",
      "1714110887.2808475 INFO: Setting FBAModel computed_attributes to mdlutl attributes\n",
      "1714110889.0140982 INFO: metabolites 1001\n",
      "1714110892.2504845 INFO: reactions 924\n",
      "1714110892.347967 INFO: The current solver interface glpk doesn't support setting the optimality tolerance.\n",
      "1714110892.6742117 INFO: Default biomass: [bio1]\n",
      "1714110892.6983771 INFO: Setting FBAModel computed_attributes to mdlutl attributes\n",
      "1714110895.5947595 INFO: metabolites 1595\n",
      "1714110904.569011 INFO: reactions 1780\n",
      "1714110904.7681885 INFO: The current solver interface glpk doesn't support setting the optimality tolerance.\n",
      "1714110905.409546 INFO: Default biomass: [bio1]\n",
      "1714110905.453592 INFO: Setting FBAModel computed_attributes to mdlutl attributes\n",
      "1714110907.3259673 INFO: metabolites 942\n",
      "1714110910.7751708 INFO: reactions 888\n",
      "1714110910.874412 INFO: The current solver interface glpk doesn't support setting the optimality tolerance.\n",
      "1714110911.1925423 INFO: Default biomass: [bio1]\n",
      "1714110911.2188654 INFO: Setting FBAModel computed_attributes to mdlutl attributes\n",
      "1714110912.5382164 INFO: metabolites 1055\n",
      "1714110916.6243303 INFO: reactions 1020\n",
      "1714110916.7338517 INFO: The current solver interface glpk doesn't support setting the optimality tolerance.\n",
      "1714110917.094891 INFO: Default biomass: [bio1]\n",
      "1714110917.1214828 INFO: Setting FBAModel computed_attributes to mdlutl attributes\n",
      "1714110919.1532803 INFO: metabolites 768\n",
      "1714110921.1660547 INFO: reactions 685\n",
      "1714110921.2616327 INFO: The current solver interface glpk doesn't support setting the optimality tolerance.\n",
      "1714110921.5096881 INFO: Default biomass: [bio1]\n",
      "1714110921.5410998 INFO: Setting FBAModel computed_attributes to mdlutl attributes\n",
      "1714110923.4442048 INFO: metabolites 1188\n",
      "1714110929.2249753 INFO: reactions 1192\n",
      "1714110929.3940666 INFO: The current solver interface glpk doesn't support setting the optimality tolerance.\n",
      "1714110929.8342426 INFO: Default biomass: [bio1]\n",
      "1714110929.8872573 INFO: Setting FBAModel computed_attributes to mdlutl attributes\n",
      "1714110931.762897 INFO: metabolites 1169\n",
      "1714110936.4911366 INFO: reactions 1142\n",
      "1714110936.6137662 INFO: The current solver interface glpk doesn't support setting the optimality tolerance.\n",
      "1714110937.0252378 INFO: Default biomass: [bio1]\n",
      "1714110937.0542645 INFO: Setting FBAModel computed_attributes to mdlutl attributes\n",
      "1714110938.3181784 INFO: metabolites 871\n",
      "1714110941.5255592 INFO: reactions 799\n",
      "1714110941.6240299 INFO: The current solver interface glpk doesn't support setting the optimality tolerance.\n",
      "1714110941.915774 INFO: Default biomass: [bio1]\n",
      "1714110941.943071 INFO: Setting FBAModel computed_attributes to mdlutl attributes\n",
      "1714110943.5925071 INFO: metabolites 995\n",
      "1714110947.1593523 INFO: reactions 961\n",
      "1714110947.2619061 INFO: The current solver interface glpk doesn't support setting the optimality tolerance.\n",
      "1714110947.5951445 INFO: Default biomass: [bio1]\n",
      "1714110947.6203282 INFO: Setting FBAModel computed_attributes to mdlutl attributes\n",
      "1714110949.2034338 INFO: metabolites 1091\n",
      "1714110953.117341 INFO: reactions 1055\n",
      "1714110953.2288516 INFO: The current solver interface glpk doesn't support setting the optimality tolerance.\n",
      "1714110953.5991557 INFO: Default biomass: [bio1]\n",
      "1714110953.6259222 INFO: Setting FBAModel computed_attributes to mdlutl attributes\n",
      "1714110955.1947494 INFO: metabolites 1046\n",
      "1714110959.2512858 INFO: reactions 989\n",
      "1714110959.35513 INFO: The current solver interface glpk doesn't support setting the optimality tolerance.\n",
      "1714110959.707152 INFO: Default biomass: [bio1]\n",
      "1714110959.730577 INFO: Setting FBAModel computed_attributes to mdlutl attributes\n",
      "1714110961.9517646 INFO: metabolites 1275\n",
      "1714110967.6002862 INFO: reactions 1260\n",
      "1714110967.744313 INFO: The current solver interface glpk doesn't support setting the optimality tolerance.\n",
      "1714110968.2030694 INFO: Default biomass: [bio1]\n",
      "1714110968.2378826 INFO: Setting FBAModel computed_attributes to mdlutl attributes\n",
      "1714110969.8847423 INFO: metabolites 1029\n",
      "1714110973.7949085 INFO: reactions 973\n",
      "1714110973.9087715 INFO: The current solver interface glpk doesn't support setting the optimality tolerance.\n",
      "1714110974.2671185 INFO: Default biomass: [bio1]\n",
      "1714110974.296865 INFO: Setting FBAModel computed_attributes to mdlutl attributes\n",
      "1714110976.7760706 INFO: metabolites 1349\n",
      "1714110983.3317072 INFO: reactions 1373\n",
      "1714110983.492884 INFO: The current solver interface glpk doesn't support setting the optimality tolerance.\n",
      "1714110983.9974458 INFO: Default biomass: [bio1]\n",
      "1714110984.0389314 INFO: Setting FBAModel computed_attributes to mdlutl attributes\n",
      "1714110986.7195425 INFO: metabolites 1072\n",
      "1714110990.7205045 INFO: reactions 994\n",
      "1714110990.8348584 INFO: The current solver interface glpk doesn't support setting the optimality tolerance.\n",
      "1714110991.19268 INFO: Default biomass: [bio1]\n",
      "1714110991.2235026 INFO: Setting FBAModel computed_attributes to mdlutl attributes\n",
      "1714110992.9076362 INFO: metabolites 1016\n",
      "1714110996.6665938 INFO: reactions 910\n",
      "1714110996.7795992 INFO: The current solver interface glpk doesn't support setting the optimality tolerance.\n",
      "1714110997.1181855 INFO: Default biomass: [bio1]\n",
      "1714110997.1561222 INFO: Setting FBAModel computed_attributes to mdlutl attributes\n",
      "1714110999.343317 INFO: metabolites 1043\n",
      "1714111003.9742315 INFO: reactions 993\n",
      "1714111004.0846934 INFO: The current solver interface glpk doesn't support setting the optimality tolerance.\n",
      "1714111004.452997 INFO: Default biomass: [bio1]\n",
      "1714111004.479505 INFO: Setting FBAModel computed_attributes to mdlutl attributes\n",
      "1714111007.0221133 INFO: metabolites 1043\n",
      "1714111011.7226284 INFO: reactions 1010\n",
      "1714111011.8441477 INFO: The current solver interface glpk doesn't support setting the optimality tolerance.\n",
      "1714111012.2263494 INFO: Default biomass: [bio1]\n",
      "1714111012.267034 INFO: Setting FBAModel computed_attributes to mdlutl attributes\n",
      "1714111015.5548506 INFO: metabolites 1123\n",
      "1714111019.9206247 INFO: reactions 1091\n",
      "1714111020.0587301 INFO: The current solver interface glpk doesn't support setting the optimality tolerance.\n",
      "1714111020.4532273 INFO: Default biomass: [bio1]\n",
      "1714111020.4925818 INFO: Setting FBAModel computed_attributes to mdlutl attributes\n",
      "1714111022.1533327 INFO: metabolites 980\n",
      "1714111025.7165222 INFO: reactions 926\n",
      "1714111025.8148127 INFO: The current solver interface glpk doesn't support setting the optimality tolerance.\n",
      "1714111026.1394043 INFO: Default biomass: [bio1]\n",
      "1714111026.1683054 INFO: Setting FBAModel computed_attributes to mdlutl attributes\n",
      "1714111027.5978284 INFO: metabolites 1005\n",
      "1714111031.4344616 INFO: reactions 919\n",
      "1714111031.540034 INFO: The current solver interface glpk doesn't support setting the optimality tolerance.\n",
      "1714111031.878053 INFO: Default biomass: [bio1]\n",
      "1714111031.903585 INFO: Setting FBAModel computed_attributes to mdlutl attributes\n",
      "1714111033.6992624 INFO: metabolites 1147\n",
      "1714111039.060671 INFO: reactions 1164\n",
      "1714111039.1882703 INFO: The current solver interface glpk doesn't support setting the optimality tolerance.\n",
      "1714111039.6005797 INFO: Default biomass: [bio1]\n",
      "1714111039.6328049 INFO: Setting FBAModel computed_attributes to mdlutl attributes\n",
      "1714111041.1753204 INFO: metabolites 1244\n",
      "1714111046.8789055 INFO: reactions 1255\n",
      "1714111047.017264 INFO: The current solver interface glpk doesn't support setting the optimality tolerance.\n",
      "1714111047.473753 INFO: Default biomass: [bio1]\n",
      "1714111047.507268 INFO: Setting FBAModel computed_attributes to mdlutl attributes\n",
      "1714111049.1765752 INFO: metabolites 960\n",
      "1714111052.8186505 INFO: reactions 897\n",
      "1714111052.9228609 INFO: The current solver interface glpk doesn't support setting the optimality tolerance.\n",
      "1714111053.2431107 INFO: Default biomass: [bio1]\n",
      "1714111053.2713737 INFO: Setting FBAModel computed_attributes to mdlutl attributes\n",
      "1714111054.713174 INFO: metabolites 996\n",
      "1714111058.2655466 INFO: reactions 917\n",
      "1714111058.377661 INFO: The current solver interface glpk doesn't support setting the optimality tolerance.\n",
      "1714111058.705753 INFO: Default biomass: [bio1]\n",
      "1714111058.737437 INFO: Setting FBAModel computed_attributes to mdlutl attributes\n",
      "1714111061.6513305 INFO: metabolites 1320\n",
      "1714111067.7681677 INFO: reactions 1363\n",
      "1714111067.9144967 INFO: The current solver interface glpk doesn't support setting the optimality tolerance.\n",
      "1714111068.397626 INFO: Default biomass: [bio1]\n",
      "1714111068.432507 INFO: Setting FBAModel computed_attributes to mdlutl attributes\n",
      "1714111070.2158284 INFO: metabolites 996\n",
      "1714111073.6221807 INFO: reactions 941\n",
      "1714111073.7278645 INFO: The current solver interface glpk doesn't support setting the optimality tolerance.\n",
      "1714111074.062887 INFO: Default biomass: [bio1]\n",
      "1714111074.0900214 INFO: Setting FBAModel computed_attributes to mdlutl attributes\n",
      "1714111076.1837392 INFO: metabolites 1145\n",
      "1714111080.909023 INFO: reactions 1167\n",
      "1714111081.0429363 INFO: The current solver interface glpk doesn't support setting the optimality tolerance.\n",
      "1714111081.4534526 INFO: Default biomass: [bio1]\n",
      "1714111081.4873302 INFO: Setting FBAModel computed_attributes to mdlutl attributes\n",
      "1714111083.1504228 INFO: metabolites 920\n",
      "1714111086.852753 INFO: reactions 863\n",
      "1714111086.945333 INFO: The current solver interface glpk doesn't support setting the optimality tolerance.\n",
      "1714111087.252839 INFO: Default biomass: [bio1]\n",
      "1714111087.2755525 INFO: Setting FBAModel computed_attributes to mdlutl attributes\n",
      "1714111088.8206217 INFO: metabolites 1114\n",
      "1714111093.3988822 INFO: reactions 1061\n",
      "1714111093.5206418 INFO: The current solver interface glpk doesn't support setting the optimality tolerance.\n",
      "1714111093.9124906 INFO: Default biomass: [bio1]\n",
      "1714111093.9414499 INFO: Setting FBAModel computed_attributes to mdlutl attributes\n",
      "1714111095.5918343 INFO: metabolites 950\n",
      "1714111099.5396907 INFO: reactions 915\n",
      "1714111099.6604927 INFO: The current solver interface glpk doesn't support setting the optimality tolerance.\n",
      "1714111099.9928417 INFO: Default biomass: [bio1]\n",
      "1714111100.0309982 INFO: Setting FBAModel computed_attributes to mdlutl attributes\n",
      "1714111101.9687781 INFO: metabolites 1197\n",
      "1714111107.1079276 INFO: reactions 1201\n",
      "1714111107.3360937 INFO: The current solver interface glpk doesn't support setting the optimality tolerance.\n",
      "1714111107.788613 INFO: Default biomass: [bio1]\n",
      "1714111107.8773713 INFO: Setting FBAModel computed_attributes to mdlutl attributes\n",
      "1714111110.402355 INFO: metabolites 1026\n",
      "1714111114.1800575 INFO: reactions 951\n",
      "1714111114.2828705 INFO: The current solver interface glpk doesn't support setting the optimality tolerance.\n",
      "1714111114.619432 INFO: Default biomass: [bio1]\n",
      "1714111114.6515458 INFO: Setting FBAModel computed_attributes to mdlutl attributes\n",
      "1714111116.1001902 INFO: metabolites 1317\n",
      "1714111122.4998777 INFO: reactions 1337\n",
      "1714111122.6529162 INFO: The current solver interface glpk doesn't support setting the optimality tolerance.\n",
      "1714111123.1299586 INFO: Default biomass: [bio1]\n",
      "1714111123.1660979 INFO: Setting FBAModel computed_attributes to mdlutl attributes\n",
      "1714111124.8225834 INFO: metabolites 1314\n",
      "1714111131.1411493 INFO: reactions 1321\n",
      "1714111131.3203642 INFO: The current solver interface glpk doesn't support setting the optimality tolerance.\n",
      "1714111131.803427 INFO: Default biomass: [bio1]\n",
      "1714111131.8555465 INFO: Setting FBAModel computed_attributes to mdlutl attributes\n",
      "1714111133.9974172 INFO: metabolites 1117\n",
      "1714111139.470273 INFO: reactions 1126\n",
      "1714111139.5940726 INFO: The current solver interface glpk doesn't support setting the optimality tolerance.\n",
      "1714111140.007647 INFO: Default biomass: [bio1]\n",
      "1714111140.0388107 INFO: Setting FBAModel computed_attributes to mdlutl attributes\n"
     ]
    }
   ],
   "source": [
    "feature_probabilities = util.load(\"feature_probabilities\")\n",
    "asvset_names = util.load(\"asvset_names\")\n",
    "asvset_genomes = util.load(\"asvset_genomes\")\n",
    "probability_finished = []#util.load(\"probability_finished\")\n",
    "for asvset in asvset_genomes:\n",
    "    asvname = asvset_names[asvset]\n",
    "    if asvname not in probability_finished:\n",
    "        mdlutl = util.msrecon.get_model(asvname+\".ASV.mdl\",181152)\n",
    "        for rxn in mdlutl.model.reactions:\n",
    "                highest_prob = None\n",
    "                for gene in rxn.genes:\n",
    "                    if gene.id in feature_probabilities:\n",
    "                        if highest_prob == None or feature_probabilities[gene.id] > highest_prob:\n",
    "                            highest_prob = feature_probabilities[gene.id]\n",
    "                if highest_prob != None:\n",
    "                    rxn.probability = highest_prob\n",
    "        #util.msrecon.save_model(mdlutl,181152,asvname+\".ASV.mdl\")\n",
    "        probability_finished.append(asvname)\n",
    "        util.save(\"probability_finished\",probability_finished)"
   ]
  },
  {
   "cell_type": "markdown",
   "metadata": {
    "jp-MarkdownHeadingCollapsed": true,
    "tags": []
   },
   "source": [
    "# Loading metabolomics data"
   ]
  },
  {
   "cell_type": "code",
   "execution_count": 2,
   "metadata": {
    "tags": []
   },
   "outputs": [
    {
     "ename": "AttributeError",
     "evalue": "'ModelSEEDDatabase' object has no attribute 'get_seed_compound'",
     "output_type": "error",
     "traceback": [
      "\u001b[0;31m---------------------------------------------------------------------------\u001b[0m",
      "\u001b[0;31mAttributeError\u001b[0m                            Traceback (most recent call last)",
      "Cell \u001b[0;32mIn[2], line 18\u001b[0m\n\u001b[1;32m     16\u001b[0m modelseed \u001b[38;5;241m=\u001b[39m ModelSEEDBiochem\u001b[38;5;241m.\u001b[39mget()\n\u001b[1;32m     17\u001b[0m \u001b[38;5;28;01mfor\u001b[39;00m met \u001b[38;5;129;01min\u001b[39;00m metabolites:\n\u001b[0;32m---> 18\u001b[0m     cpdobj \u001b[38;5;241m=\u001b[39m \u001b[43mmodelseed\u001b[49m\u001b[38;5;241;43m.\u001b[39;49m\u001b[43mget_seed_compound\u001b[49m(met)\n\u001b[1;32m     19\u001b[0m     \u001b[38;5;28;01mif\u001b[39;00m cpdobj:\n\u001b[1;32m     20\u001b[0m         metabolite_names[met] \u001b[38;5;241m=\u001b[39m cpdobj\u001b[38;5;241m.\u001b[39mname\n",
      "\u001b[0;31mAttributeError\u001b[0m: 'ModelSEEDDatabase' object has no attribute 'get_seed_compound'"
     ]
    }
   ],
   "source": [
    "metabolite_df = pd.read_csv('data/metabolomics_log2_fold_change.csv')\n",
    "columns = metabolite_df.columns.tolist()\n",
    "metabolites = columns[1:]\n",
    "metabolomics_data = {}\n",
    "metabolite_names = {}\n",
    "samples = []\n",
    "for index, row in metabolite_df.iterrows():\n",
    "    samples.append(row[\"day_diet diff\"])\n",
    "    for met in metabolites:\n",
    "        if met not in metabolomics_data:\n",
    "            metabolomics_data[met] = {}\n",
    "        metabolomics_data[met][row[\"day_diet diff\"]] = row[met]\n",
    "util.save(\"metabolomics_data\",metabolomics_data)\n",
    "util.save(\"samples\",samples)\n",
    "util.save(\"metabolites\",metabolites)\n",
    "modelseed = ModelSEEDBiochem.get()\n",
    "for met in metabolites:\n",
    "    cpdobj = modelseed.get_seed_compound(met)\n",
    "    if cpdobj:\n",
    "        metabolite_names[met] = cpdobj.name\n",
    "    else:\n",
    "        metabolite_names[met] = met\n",
    "util.save(\"metabolite_names\",metabolite_names)"
   ]
  },
  {
   "cell_type": "markdown",
   "metadata": {
    "jp-MarkdownHeadingCollapsed": true,
    "tags": []
   },
   "source": [
    "# Interaction testing for metabolites in models"
   ]
  },
  {
   "cell_type": "code",
   "execution_count": 4,
   "metadata": {},
   "outputs": [],
   "source": [
    "%run agoracommutil.py\n",
    "metabolites = util.load(\"metabolites\")\n",
    "asvset_names = util.load(\"asvset_names\")\n",
    "asvset_genomes = util.load(\"asvset_genomes\")\n",
    "phenotype_results = util.load(\"phenotype_results\",default={})\n",
    "auxo_media = util.msrecon.get_media(\"181152/AuxoMedia\")\n",
    "agmm_base_media = util.msrecon.get_media(\"181152/BaseAnaerobicMM\")\n",
    "gmm_base_media = util.msrecon.get_media(\"181152/BaseAerobicMM\")\n",
    "uptake_phenoset = util.create_phenotypeset_from_compounds(\n",
    "    metabolites,\n",
    "    base_media=auxo_media,\n",
    "    base_uptake=0,\n",
    "    base_excretion=1000,\n",
    "    global_atom_limits={},\n",
    "    type=\"uptake\"\n",
    ")\n",
    "excretion_phenoset = util.create_phenotypeset_from_compounds(\n",
    "    metabolites,\n",
    "    base_media=auxo_media,\n",
    "    base_uptake=0,\n",
    "    base_excretion=1000,\n",
    "    global_atom_limits={},\n",
    "    type=\"excretion\"\n",
    ")\n",
    "agrowth_phenoset = util.create_phenotypeset_from_compounds(\n",
    "    metabolites,\n",
    "    base_media=agmm_base_media,\n",
    "    base_uptake=0,\n",
    "    base_excretion=1000,\n",
    "    global_atom_limits={},\n",
    "    type=\"growth\"\n",
    ")\n",
    "growth_phenoset = util.create_phenotypeset_from_compounds(\n",
    "    metabolites,\n",
    "    base_media=gmm_base_media,\n",
    "    base_uptake=0,\n",
    "    base_excretion=1000,\n",
    "    global_atom_limits={},\n",
    "    type=\"growth\"\n",
    ")\n",
    "for asvset in asvset_genomes:\n",
    "    asvname = asvset_names[asvset]\n",
    "    if asvname not in phenotype_results and asvname != \"Thermus.1\":\n",
    "        phenotype_results[asvname] = {}\n",
    "        mdlutl = util.msrecon.get_model(asvname+\".ASV.mdl\",181152)\n",
    "        mdlutl.solver = 'gurobi'\n",
    "        if \"uptake\" not in phenotype_results[asvname]:\n",
    "            phenotype_results[asvname][\"uptake\"] = {}\n",
    "            output = uptake_phenoset.simulate_phenotypes(\n",
    "                mdlutl,\n",
    "                multiplier=2,\n",
    "                add_missing_exchanges=True,\n",
    "                save_fluxes=False,\n",
    "                gapfill_negatives=False,\n",
    "                msgapfill=None,\n",
    "                test_conditions=None,\n",
    "                ignore_experimental_data=True\n",
    "            )\n",
    "            for index, row in output[\"details\"].iterrows():\n",
    "                phenotype_results[asvname][\"uptake\"][row[\"Phenotype\"]] = output[\"data\"][row[\"Phenotype\"]]\n",
    "            util.save(\"phenotype_results\",phenotype_results)\n",
    "        if \"excretion\" not in phenotype_results[asvname]:\n",
    "            phenotype_results[asvname][\"excretion\"] = {}\n",
    "            output = excretion_phenoset.simulate_phenotypes(\n",
    "                mdlutl,\n",
    "                multiplier=2,\n",
    "                add_missing_exchanges=True,\n",
    "                save_fluxes=False,\n",
    "                gapfill_negatives=False,\n",
    "                msgapfill=None,\n",
    "                test_conditions=None,\n",
    "                ignore_experimental_data=True\n",
    "            )\n",
    "            for index, row in output[\"details\"].iterrows():\n",
    "                phenotype_results[asvname][\"excretion\"][row[\"Phenotype\"]] = output[\"data\"][row[\"Phenotype\"]]\n",
    "            util.save(\"phenotype_results\",phenotype_results)\n",
    "        if \"agrowth\" not in phenotype_results[asvname]:\n",
    "            phenotype_results[asvname][\"agrowth\"] = {}\n",
    "            output = agrowth_phenoset.simulate_phenotypes(\n",
    "                mdlutl,\n",
    "                multiplier=2,\n",
    "                add_missing_exchanges=True,\n",
    "                save_fluxes=False,\n",
    "                gapfill_negatives=False,\n",
    "                msgapfill=None,\n",
    "                test_conditions=None,\n",
    "                ignore_experimental_data=True\n",
    "            )\n",
    "            for index, row in output[\"details\"].iterrows():\n",
    "                phenotype_results[asvname][\"agrowth\"][row[\"Phenotype\"]] = output[\"data\"][row[\"Phenotype\"]]\n",
    "            util.save(\"phenotype_results\",phenotype_results)\n",
    "        if \"growth\" not in phenotype_results[asvname]:\n",
    "            phenotype_results[asvname][\"growth\"] = {}\n",
    "            output = growth_phenoset.simulate_phenotypes(\n",
    "                mdlutl,\n",
    "                multiplier=2,\n",
    "                add_missing_exchanges=True,\n",
    "                save_fluxes=False,\n",
    "                gapfill_negatives=False,\n",
    "                msgapfill=None,\n",
    "                test_conditions=None,\n",
    "                ignore_experimental_data=True\n",
    "            )\n",
    "            for index, row in output[\"details\"].iterrows():\n",
    "                phenotype_results[asvname][\"growth\"][row[\"Phenotype\"]] = output[\"data\"][row[\"Phenotype\"]]\n",
    "            util.save(\"phenotype_results\",phenotype_results)"
   ]
  },
  {
   "cell_type": "markdown",
   "metadata": {
    "jp-MarkdownHeadingCollapsed": true,
    "tags": []
   },
   "source": [
    "# Printing interaction matrices"
   ]
  },
  {
   "cell_type": "code",
   "execution_count": 3,
   "metadata": {},
   "outputs": [
    {
     "name": "stdout",
     "output_type": "stream",
     "text": [
      "Output files printed to:/Users/chenry/code/notebooks/MicrobiomeNotebooks/NewWesternDiet/nboutput when using KBDevUtils.output_dir\n",
      "ModelSEED: /Users/chenry/code//kb_sdk/run_local/workdir/tmp/\n",
      "No data for  Thermus.1\n"
     ]
    }
   ],
   "source": [
    "%run agoracommutil.py\n",
    "metabolites = util.load(\"metabolites\")\n",
    "phenotype_results = util.load(\"phenotype_results\")\n",
    "asvset_genomes = util.load(\"asvset_genomes\")\n",
    "asvset_names = util.load(\"asvset_names\")\n",
    "records = {\n",
    "    \"combined\":[{\"ASV\":\"Name\"}],\n",
    "    \"uptake\":[{\"ASV\":\"Name\"}],\n",
    "    \"excretion\":[{\"ASV\":\"Name\"}],\n",
    "    \"agrowth\":[{\"ASV\":\"Name\"}],\n",
    "    \"growth\":[{\"ASV\":\"Name\"}]\n",
    "}\n",
    "metabolite_names = util.load(\"metabolite_names\")\n",
    "for met in metabolites:\n",
    "    for item in records:\n",
    "        records[item][0][met] = metabolite_names[met]\n",
    "for asvset in asvset_genomes:\n",
    "    asvname = asvset_names[asvset]\n",
    "    if asvname not in phenotype_results:\n",
    "        print(\"No data for \",asvname)\n",
    "        continue\n",
    "    new_record = {\n",
    "        \"combined\":{\"ASV\":asvname},\n",
    "        \"uptake\":{\"ASV\":asvname},\n",
    "        \"excretion\":{\"ASV\":asvname},\n",
    "        \"agrowth\":{\"ASV\":asvname},\n",
    "        \"growth\":{\"ASV\":asvname}\n",
    "    }  \n",
    "    for metabolite in metabolites:\n",
    "        value = \"\"\n",
    "        if \"uptake\" in phenotype_results[asvname]:\n",
    "            if metabolite in phenotype_results[asvname][\"uptake\"]:\n",
    "                new_record[\"uptake\"][metabolite] = phenotype_results[asvname][\"uptake\"][metabolite][\"objective_value\"]\n",
    "                if phenotype_results[asvname][\"uptake\"][metabolite][\"class\"] == \"P\":\n",
    "                    value += \"U\"\n",
    "        if \"excretion\" in phenotype_results[asvname]:\n",
    "            if metabolite in phenotype_results[asvname][\"excretion\"]:\n",
    "                new_record[\"excretion\"][metabolite] = phenotype_results[asvname][\"excretion\"][metabolite][\"objective_value\"]\n",
    "                if phenotype_results[asvname][\"excretion\"][metabolite][\"class\"] == \"P\":\n",
    "                    value += \"E\"\n",
    "        if \"agrowth\" in phenotype_results[asvname]:\n",
    "            if metabolite in phenotype_results[asvname][\"agrowth\"]:\n",
    "                new_record[\"agrowth\"][metabolite] = phenotype_results[asvname][\"agrowth\"][metabolite][\"objective_value\"]\n",
    "                if phenotype_results[asvname][\"agrowth\"][metabolite][\"class\"] == \"P\":\n",
    "                    value += \"A\"\n",
    "        if \"growth\" in phenotype_results[asvname]:\n",
    "            if metabolite in phenotype_results[asvname][\"growth\"]:\n",
    "                new_record[\"growth\"][metabolite] = phenotype_results[asvname][\"growth\"][metabolite][\"objective_value\"]\n",
    "                if phenotype_results[asvname][\"growth\"][metabolite][\"class\"] == \"P\":\n",
    "                    value += \"G\"\n",
    "        new_record[\"combined\"][metabolite] = value\n",
    "    for item in records:\n",
    "        records[item].append(new_record[item])\n",
    "#Printing interation matrices\n",
    "for item in records:\n",
    "    df = pd.DataFrame.from_records(records[item])\n",
    "    df.to_csv(util.output_dir+\"/ASV\"+item+\"Interactions.csv\",index=False)"
   ]
  },
  {
   "cell_type": "markdown",
   "metadata": {
    "jp-MarkdownHeadingCollapsed": true,
    "tags": []
   },
   "source": [
    "# Loading Sample data"
   ]
  },
  {
   "cell_type": "code",
   "execution_count": 16,
   "metadata": {},
   "outputs": [
    {
     "name": "stdout",
     "output_type": "stream",
     "text": [
      "Output files printed to:/Users/chenry/code/notebooks/MicrobiomeNotebooks/NewWesternDiet/nboutput when using KBDevUtils.output_dir\n",
      "ModelSEED: /Users/chenry/code//kb_sdk/run_local/workdir/tmp/\n"
     ]
    }
   ],
   "source": [
    "%run agoracommutil.py\n",
    "asv_asvset = util.load(\"asv_asvset\")\n",
    "asv_mappings = util.load(\"asv_mappings\")\n",
    "sample_df = pd.read_csv('data/mean_abund_perDay_perTreatment_100.csv')\n",
    "columns = sample_df.columns.tolist()\n",
    "samples = columns[1:]\n",
    "asv_abundances = {}\n",
    "asvset_abundances = {}\n",
    "sample_abundanes = {}\n",
    "sample_asvset_abundances = {}\n",
    "for sample in samples:\n",
    "    sample_asvset_abundances[sample] = {}\n",
    "    sample_abundanes[sample] = {\n",
    "        \"asv_total\":0,\n",
    "        \"asvset_total\":0,\n",
    "        \"mapped_asvs_total\":0,\n",
    "        \"unmapped_asvs_total\":0,\n",
    "    }\n",
    "for index, row in sample_df.iterrows():\n",
    "    asv_abundances[row[\"asv\"]] = {}\n",
    "    if row[\"asv\"] in asv_asvset and asv_asvset[row[\"asv\"]] not in asvset_abundances:\n",
    "        asvset_abundances[asv_asvset[row[\"asv\"]]] = {}\n",
    "    for sample in samples:\n",
    "        if row[\"asv\"] in asv_asvset:\n",
    "            if sample not in asvset_abundances[asv_asvset[row[\"asv\"]]]:\n",
    "                asvset_abundances[asv_asvset[row[\"asv\"]]][sample] = 0\n",
    "            asvset_abundances[asv_asvset[row[\"asv\"]]][sample] += row[sample]\n",
    "        asv_abundances[row[\"asv\"]][sample] = row[sample]\n",
    "for asvset in asvset_abundances:\n",
    "    for sample in samples:\n",
    "        if asvset_abundances[asvset][sample] > 0:\n",
    "            sample_asvset_abundances[sample][asvset] = asvset_abundances[asvset][sample]\n",
    "        if sample in asvset_abundances[asvset]:\n",
    "            sample_abundanes[sample][\"asvset_total\"] += asvset_abundances[asvset][sample]\n",
    "for asv in asv_abundances:\n",
    "    for sample in samples:\n",
    "        sample_abundanes[sample][\"asv_total\"] += asv_abundances[asv][sample]\n",
    "        if asv in asv_mappings:\n",
    "            sample_abundanes[sample][\"mapped_asvs_total\"] += asv_abundances[asv][sample]\n",
    "        else:\n",
    "            sample_abundanes[sample][\"unmapped_asvs_total\"] += asv_abundances[asv][sample]\n",
    "util.save(\"sample_asvset_abundances\",sample_asvset_abundances)\n",
    "util.save(\"sample_abundanes\",sample_abundanes)\n",
    "util.save(\"asv_abundances\",asv_abundances)\n",
    "util.save(\"asvset_abundances\",asvset_abundances)\n",
    "util.save(\"samples\",samples)"
   ]
  },
  {
   "cell_type": "markdown",
   "metadata": {
    "jp-MarkdownHeadingCollapsed": true,
    "tags": []
   },
   "source": [
    "# Now we will generate the sample interaction matrix"
   ]
  },
  {
   "cell_type": "code",
   "execution_count": 20,
   "metadata": {},
   "outputs": [
    {
     "name": "stdout",
     "output_type": "stream",
     "text": [
      "Output files printed to:/Users/chenry/code/notebooks/MicrobiomeNotebooks/NewWesternDiet/nboutput when using KBDevUtils.output_dir\n",
      "ModelSEED: /Users/chenry/code//kb_sdk/run_local/workdir/tmp/\n"
     ]
    }
   ],
   "source": [
    "%run agoracommutil.py\n",
    "asv_asvset = util.load(\"asv_asvset\")\n",
    "metabolites = util.load(\"metabolites\")\n",
    "phenotype_results = util.load(\"phenotype_results\")\n",
    "asvset_genomes = util.load(\"asvset_genomes\")\n",
    "asvset_names = util.load(\"asvset_names\")\n",
    "asvset_abundances = util.load(\"asvset_abundances\")\n",
    "asvset_abundances = util.load(\"sample_asvset_abundances\")\n",
    "sample_abundanes = util.load(\"sample_abundanes\")\n",
    "records = {\n",
    "    \"uptake_bin\":[{\"Sample\":\"Name\"}],\n",
    "    \"excretion_bin\":[{\"Sample\":\"Name\"}],\n",
    "    \"agrowth_bin\":[{\"Sample\":\"Name\"}],\n",
    "    \"growth_bin\":[{\"Sample\":\"Name\"}],\n",
    "    \"uptake\":[{\"Sample\":\"Name\"}],\n",
    "    \"excretion\":[{\"Sample\":\"Name\"}],\n",
    "    \"agrowth\":[{\"Sample\":\"Name\"}],\n",
    "    \"growth\":[{\"Sample\":\"Name\"}]\n",
    "}\n",
    "metabolite_names = util.load(\"metabolite_names\")\n",
    "for met in metabolites:\n",
    "    for item in records:\n",
    "        records[item][0][met] = metabolite_names[met]\n",
    "for sample in samples:\n",
    "    new_record = {\n",
    "        \"uptake_bin\":{\"Sample\":sample},\n",
    "        \"excretion_bin\":{\"Sample\":sample},\n",
    "        \"agrowth_bin\":{\"Sample\":sample},\n",
    "        \"growth_bin\":{\"Sample\":sample},\n",
    "        \"uptake\":{\"Sample\":sample},\n",
    "        \"excretion\":{\"Sample\":sample},\n",
    "        \"agrowth\":{\"Sample\":sample},\n",
    "        \"growth\":{\"Sample\":sample}\n",
    "    }\n",
    "    for metabolite in metabolites:\n",
    "        for item in new_record:\n",
    "            new_record[item][metabolite] = 0\n",
    "    for asvset in sample_asvset_abundances[sample]:\n",
    "        asvname = asvset_names[asvset]\n",
    "        for metabolite in metabolites:\n",
    "            if \"uptake\" in phenotype_results[asvname]:\n",
    "                if metabolite in phenotype_results[asvname][\"uptake\"]:\n",
    "                    new_record[\"uptake\"][metabolite] += sample_asvset_abundances[sample][asvset]/sample_abundanes[sample][\"asvset_total\"]*phenotype_results[asvname][\"uptake\"][metabolite][\"objective_value\"]\n",
    "                    if phenotype_results[asvname][\"uptake\"][metabolite][\"class\"] == \"P\":\n",
    "                        new_record[\"uptake_bin\"][metabolite] += sample_asvset_abundances[sample][asvset]/sample_abundanes[sample][\"asvset_total\"]\n",
    "            if \"excretion\" in phenotype_results[asvname]:\n",
    "                if metabolite in phenotype_results[asvname][\"excretion\"]:\n",
    "                    new_record[\"excretion\"][metabolite] += sample_asvset_abundances[sample][asvset]/sample_abundanes[sample][\"asvset_total\"]*phenotype_results[asvname][\"excretion\"][metabolite][\"objective_value\"]\n",
    "                    if phenotype_results[asvname][\"excretion\"][metabolite][\"class\"] == \"P\":\n",
    "                        new_record[\"excretion_bin\"][metabolite] += sample_asvset_abundances[sample][asvset]/sample_abundanes[sample][\"asvset_total\"]\n",
    "            if \"agrowth\" in phenotype_results[asvname]:\n",
    "                if metabolite in phenotype_results[asvname][\"agrowth\"]:\n",
    "                    new_record[\"agrowth\"][metabolite] += sample_asvset_abundances[sample][asvset]/sample_abundanes[sample][\"asvset_total\"]*phenotype_results[asvname][\"agrowth\"][metabolite][\"objective_value\"]\n",
    "                    if phenotype_results[asvname][\"agrowth\"][metabolite][\"class\"] == \"P\":\n",
    "                        new_record[\"agrowth_bin\"][metabolite] += sample_asvset_abundances[sample][asvset]/sample_abundanes[sample][\"asvset_total\"]\n",
    "            if \"growth\" in phenotype_results[asvname]:\n",
    "                if metabolite in phenotype_results[asvname][\"growth\"]:\n",
    "                    new_record[\"growth\"][metabolite] += sample_asvset_abundances[sample][asvset]/sample_abundanes[sample][\"asvset_total\"]*phenotype_results[asvname][\"growth\"][metabolite][\"objective_value\"]\n",
    "                    if phenotype_results[asvname][\"growth\"][metabolite][\"class\"] == \"P\":\n",
    "                        new_record[\"growth_bin\"][metabolite] += sample_asvset_abundances[sample][asvset]/sample_abundanes[sample][\"asvset_total\"]\n",
    "    for item in records:\n",
    "        records[item].append(new_record[item])\n",
    "#Printing interation matrices\n",
    "for item in records:\n",
    "    df = pd.DataFrame.from_records(records[item])\n",
    "    df.to_csv(util.output_dir+\"/Sample\"+item+\"Interactions.csv\",index=False)"
   ]
  },
  {
   "cell_type": "markdown",
   "metadata": {},
   "source": [
    "# Gapfilling phenotype evaluation"
   ]
  },
  {
   "cell_type": "code",
   "execution_count": null,
   "metadata": {
    "tags": []
   },
   "outputs": [
    {
     "name": "stdout",
     "output_type": "stream",
     "text": [
      "python version 3.10.12\n",
      "KBBaseModules 0.0.1\n",
      "modelseedpy 0.3.3\n",
      "cobrakbase 0.3.1\n",
      "Output files printed to:/scratch/chenry/MicrobiomeNotebooks/NewWesternDiet/nboutput when using KBDevUtils.output_dir\n",
      "ModelSEED: /scratch/shared//sdkmount/kb_sdk_home/run_local/workdir/tmp/\n"
     ]
    },
    {
     "name": "stderr",
     "output_type": "stream",
     "text": [
      "1717427475.6197486 INFO: metabolites 1523\n",
      "1717427476.6293323 INFO: reactions 1661\n"
     ]
    },
    {
     "name": "stdout",
     "output_type": "stream",
     "text": [
      "Set parameter TSPort to value 27070\n"
     ]
    },
    {
     "name": "stderr",
     "output_type": "stream",
     "text": [
      "1717427476.9262564 INFO: Set parameter TSPort to value 27070\n"
     ]
    },
    {
     "name": "stdout",
     "output_type": "stream",
     "text": [
      "Set parameter TokenServer to value \"lic-vmw-01.cels.anl.gov\"\n"
     ]
    },
    {
     "name": "stderr",
     "output_type": "stream",
     "text": [
      "1717427476.9282517 INFO: Set parameter TokenServer to value \"lic-vmw-01.cels.anl.gov\"\n",
      "1717427478.4593172 INFO: Default biomass: [bio1]\n",
      "1717427478.7470155 WARNING: Ignoring reaction 'rxn00062_c0' since it already exists.\n",
      "1717427479.727733 WARNING: Ignoring reaction 'rxn00062_c0' since it already exists.\n"
     ]
    },
    {
     "name": "stdout",
     "output_type": "stream",
     "text": [
      "Getting tests from attributes\n"
     ]
    },
    {
     "name": "stderr",
     "output_type": "stream",
     "text": [
      "1717427498.484377 INFO: cpd35610 not found in model!\n",
      "1717427498.487681 CRITICAL: Metabolite cpd35610 not found in model\n",
      "1717427498.5561533 INFO: cpd07053 not found in model!\n",
      "1717427498.557175 CRITICAL: Metabolite cpd07053 not found in model\n",
      "1717427498.5582876 INFO: cpd04945 not found in model!\n",
      "1717427498.5593257 CRITICAL: Metabolite cpd04945 not found in model\n"
     ]
    },
    {
     "name": "stdout",
     "output_type": "stream",
     "text": [
      "Bifidobacterium.1 GF: 12238 Prob: 2846 Other: 3220\n"
     ]
    },
    {
     "name": "stderr",
     "output_type": "stream",
     "text": [
      "1717427515.027899 INFO: Objective with gapfill database:270.826346401801; min objective:0.01\n",
      "1717427524.4829333 INFO: cpd35610 not found in model!\n",
      "1717427524.4845786 WARNING: cpd35610: could not find metabolite for cpd35610\n",
      "1717427653.5799897 INFO: cpd07053 not found in model!\n",
      "1717427653.5819364 WARNING: cpd07053: could not find metabolite for cpd07053\n",
      "1717427692.4766843 INFO: cpd04945 not found in model!\n",
      "1717427692.4781961 WARNING: cpd04945: could not find metabolite for cpd04945\n",
      "1717427725.74011 INFO: cpd35610 not found in model!\n",
      "1717427725.7416933 WARNING: cpd35610: could not find metabolite for cpd35610\n",
      "1717427889.396319 INFO: cpd07053 not found in model!\n",
      "1717427889.3982098 WARNING: cpd07053: could not find metabolite for cpd07053\n",
      "1717427932.9301639 INFO: cpd04945 not found in model!\n",
      "1717427932.931673 WARNING: cpd04945: could not find metabolite for cpd04945\n",
      "1717427969.2167456 INFO: cpd35610 not found in model!\n",
      "1717427969.6321778 INFO: cpd35610 not found in model!\n",
      "1717427969.6336377 INFO: Media compound: cpd35610 not found in model.\n",
      "/opt/env/python3_10_modelseed/lib/python3.10/site-packages/cobra/util/solver.py:554: UserWarning: Solver status is 'infeasible'.\n",
      "  warn(f\"Solver status is '{status}'.\", UserWarning)\n",
      "1717428091.3559394 INFO: cpd07053 not found in model!\n",
      "1717428091.7523367 INFO: cpd07053 not found in model!\n",
      "1717428091.7537117 INFO: Media compound: cpd07053 not found in model.\n",
      "1717428124.7111645 INFO: cpd04945 not found in model!\n",
      "1717428125.6649957 INFO: cpd04945 not found in model!\n",
      "1717428125.6664088 INFO: Media compound: cpd04945 not found in model.\n",
      "1717428157.5784864 INFO: metabolites 1674\n",
      "1717428158.4614854 INFO: reactions 1843\n",
      "1717428160.4200914 INFO: Default biomass: [bio1]\n",
      "1717428160.6513941 WARNING: Ignoring reaction 'rxn00062_c0' since it already exists.\n",
      "1717428161.714639 WARNING: Ignoring reaction 'rxn00062_c0' since it already exists.\n"
     ]
    },
    {
     "name": "stdout",
     "output_type": "stream",
     "text": [
      "Getting tests from attributes\n"
     ]
    },
    {
     "name": "stderr",
     "output_type": "stream",
     "text": [
      "1717428181.150423 INFO: cpd35610 not found in model!\n",
      "1717428181.15192 CRITICAL: Metabolite cpd35610 not found in model\n",
      "1717428181.218132 INFO: cpd07053 not found in model!\n",
      "1717428181.2191312 CRITICAL: Metabolite cpd07053 not found in model\n",
      "1717428181.2202094 INFO: cpd04945 not found in model!\n",
      "1717428181.2212152 CRITICAL: Metabolite cpd04945 not found in model\n"
     ]
    },
    {
     "name": "stdout",
     "output_type": "stream",
     "text": [
      "Bacillus.1 GF: 11998 Prob: 3171 Other: 3135\n"
     ]
    },
    {
     "name": "stderr",
     "output_type": "stream",
     "text": [
      "1717428196.6492808 INFO: Objective with gapfill database:0.0; min objective:0.01\n",
      "/opt/env/python3_10_modelseed/lib/python3.10/site-packages/cobra/util/solver.py:554: UserWarning: Solver status is 'infeasible'.\n",
      "  warn(f\"Solver status is '{status}'.\", UserWarning)\n",
      "1717428207.3006556 INFO: Expansion time:Ac.NO2:1.5233929338864982\n",
      "1717428207.3033912 INFO: Filtered count:0 out of 2707\n",
      "1717428209.9559824 INFO: Expansion time:Ac.NO3:2.6513721360825\n",
      "1717428209.9573984 INFO: Filtered count:0 out of 2707\n",
      "1717428211.4550745 INFO: Expansion time:Ac.O2:1.4966337010264397\n",
      "1717428211.4564304 INFO: Filtered count:0 out of 2707\n",
      "1717428212.9451077 INFO: Expansion time:Akg:1.4875746127218008\n",
      "1717428212.9465258 INFO: Filtered count:0 out of 2707\n",
      "1717428214.4558005 INFO: Expansion time:Akg.O2:1.5081189661286771\n",
      "1717428214.457994 INFO: Filtered count:0 out of 2707\n",
      "1717428215.9449222 INFO: Expansion time:Dlac:1.4859655140899122\n",
      "1717428215.9476442 INFO: Filtered count:0 out of 2707\n",
      "1717428217.448042 INFO: Expansion time:Dlac.O2:1.4992571431212127\n",
      "1717428217.4496803 INFO: Filtered count:0 out of 2707\n",
      "1717428218.9534068 INFO: Expansion time:Etho.O2:1.5026711532846093\n",
      "1717428218.9546506 INFO: Filtered count:0 out of 2707\n",
      "1717428221.5259166 INFO: Expansion time:For.NO2:2.570300205145031\n",
      "1717428221.5272484 INFO: Filtered count:0 out of 2707\n",
      "1717428223.0242567 INFO: Expansion time:For.NO3:1.495909535791725\n",
      "1717428223.025651 INFO: Filtered count:0 out of 2707\n",
      "1717428224.5149992 INFO: Expansion time:For.O2:1.488289502914995\n",
      "1717428224.5163136 INFO: Filtered count:0 out of 2707\n",
      "1717428225.9911118 INFO: Expansion time:Fum:1.4737690640613437\n",
      "1717428225.9938202 INFO: Filtered count:0 out of 2707\n",
      "1717428227.5291264 INFO: Expansion time:Fum.O2:1.5340845249593258\n",
      "1717428227.5304136 INFO: Filtered count:0 out of 2707\n",
      "1717428229.0698416 INFO: Expansion time:Glc:1.5384042942896485\n",
      "1717428229.0712907 INFO: Filtered count:0 out of 2707\n",
      "1717428230.5677197 INFO: Expansion time:Glc.DMSO:1.4952531880699098\n",
      "1717428230.5690875 INFO: Filtered count:0 out of 2707\n",
      "1717428233.153261 INFO: Expansion time:Glc.O2:2.583102913107723\n",
      "1717428233.1545603 INFO: Filtered count:0 out of 2707\n",
      "1717428234.6651952 INFO: Expansion time:Glc.TMAO:1.5096226260066032\n",
      "1717428234.6665487 INFO: Filtered count:0 out of 2707\n",
      "1717428236.1615489 INFO: Expansion time:Glyc:1.494005645159632\n",
      "1717428236.1629114 INFO: Filtered count:0 out of 2707\n",
      "1717428237.6490653 INFO: Expansion time:Glyc.O2:1.4855385920964181\n",
      "1717428237.6501107 INFO: Filtered count:0 out of 2707\n",
      "1717428239.149864 INFO: Expansion time:LLac.O2:1.4990705619566143\n",
      "1717428239.1509392 INFO: Filtered count:0 out of 2707\n",
      "1717428240.6546018 INFO: Expansion time:LLac.SO4:1.5029347762465477\n",
      "1717428240.656472 INFO: Filtered count:0 out of 2707\n",
      "1717428242.1590757 INFO: Expansion time:LLac.SO4.H2:1.5018824990838766\n",
      "1717428242.1604257 INFO: Filtered count:0 out of 2707\n",
      "1717428244.72121 INFO: Expansion time:Llac:2.5601653242483735\n",
      "1717428244.7225285 INFO: Filtered count:0 out of 2707\n",
      "1717428246.1692705 INFO: Expansion time:Pyr:1.445613769814372\n",
      "1717428246.1705396 INFO: Filtered count:0 out of 2707\n",
      "1717428247.677939 INFO: Expansion time:Pyr.DMSO:1.5062863570638\n",
      "1717428247.6792521 INFO: Filtered count:0 out of 2707\n",
      "1717428249.1630385 INFO: Expansion time:Pyr.NO:1.4827478798106313\n",
      "1717428249.1644108 INFO: Filtered count:0 out of 2707\n",
      "1717428250.6768868 INFO: Expansion time:Pyr.NO2:1.5114506059326231\n",
      "1717428250.6782691 INFO: Filtered count:0 out of 2707\n",
      "1717428252.1932366 INFO: Expansion time:Pyr.NO3:1.5139772747643292\n",
      "1717428252.194555 INFO: Filtered count:0 out of 2707\n",
      "1717428253.6834006 INFO: Expansion time:Pyr.O2:1.4878360610455275\n",
      "1717428253.6851134 INFO: Filtered count:0 out of 2707\n",
      "1717428255.1957343 INFO: Expansion time:Pyr.SO3:1.509781892877072\n",
      "1717428255.1970198 INFO: Filtered count:0 out of 2707\n",
      "1717428256.685859 INFO: Expansion time:Pyr.SO4:1.4877751050516963\n",
      "1717428256.6870959 INFO: Filtered count:0 out of 2707\n",
      "1717428259.202106 INFO: Expansion time:Pyr.TMAO:2.5137158590368927\n",
      "1717428259.2035735 INFO: Filtered count:0 out of 2707\n",
      "1717428260.6781447 INFO: Expansion time:empty:1.4733650647103786\n",
      "1717428260.6794453 INFO: Filtered count:0 out of 2707\n",
      "1717428261.1678243 INFO: cpd35610 not found in model!\n",
      "1717428261.1694021 WARNING: cpd35610: could not find metabolite for cpd35610\n",
      "1717428310.8118625 INFO: cpd07053 not found in model!\n",
      "1717428310.81377 WARNING: cpd07053: could not find metabolite for cpd07053\n",
      "1717428322.9959006 INFO: cpd04945 not found in model!\n",
      "1717428322.99735 WARNING: cpd04945: could not find metabolite for cpd04945\n",
      "1717428336.0108202 INFO: cpd35610 not found in model!\n",
      "1717428336.0134752 WARNING: cpd35610: could not find metabolite for cpd35610\n",
      "1717428408.417618 INFO: cpd07053 not found in model!\n",
      "1717428408.4191601 WARNING: cpd07053: could not find metabolite for cpd07053\n",
      "1717428427.3306549 INFO: cpd04945 not found in model!\n",
      "1717428427.3322117 WARNING: cpd04945: could not find metabolite for cpd04945\n",
      "1717428445.315192 INFO: cpd35610 not found in model!\n",
      "1717428445.767961 INFO: cpd35610 not found in model!\n",
      "1717428445.7692327 INFO: Media compound: cpd35610 not found in model.\n",
      "1717428505.6346717 INFO: cpd07053 not found in model!\n",
      "1717428506.092737 INFO: cpd07053 not found in model!\n",
      "1717428506.0939445 INFO: Media compound: cpd07053 not found in model.\n",
      "1717428521.1902077 INFO: cpd04945 not found in model!\n",
      "1717428522.6212971 INFO: cpd04945 not found in model!\n",
      "1717428522.6226532 INFO: Media compound: cpd04945 not found in model.\n",
      "1717428538.8230352 INFO: metabolites 1169\n",
      "1717428539.302773 INFO: reactions 1142\n",
      "1717428540.4838097 INFO: Default biomass: [bio1]\n",
      "1717428540.6173267 WARNING: Ignoring reaction 'rxn00062_c0' since it already exists.\n",
      "1717428541.0055213 WARNING: Ignoring reaction 'rxn00062_c0' since it already exists.\n"
     ]
    },
    {
     "name": "stdout",
     "output_type": "stream",
     "text": [
      "Getting tests from attributes\n"
     ]
    },
    {
     "name": "stderr",
     "output_type": "stream",
     "text": [
      "1717428560.6245074 INFO: cpd35610 not found in model!\n",
      "1717428560.6279924 CRITICAL: Metabolite cpd35610 not found in model\n",
      "1717428560.6963012 INFO: cpd07053 not found in model!\n",
      "1717428560.6973567 CRITICAL: Metabolite cpd07053 not found in model\n",
      "1717428560.6983728 INFO: cpd04945 not found in model!\n",
      "1717428560.6992998 CRITICAL: Metabolite cpd04945 not found in model\n"
     ]
    },
    {
     "name": "stdout",
     "output_type": "stream",
     "text": [
      "Bacteroides.2 GF: 13109 Prob: 1864 Other: 3331\n"
     ]
    },
    {
     "name": "stderr",
     "output_type": "stream",
     "text": [
      "1717428578.8774173 INFO: Objective with gapfill database:185.76134030372157; min objective:0.01\n",
      "1717428589.1193998 INFO: cpd35610 not found in model!\n",
      "1717428589.122722 WARNING: cpd35610: could not find metabolite for cpd35610\n",
      "1717428721.6834533 INFO: cpd07053 not found in model!\n",
      "1717428721.6862943 WARNING: cpd07053: could not find metabolite for cpd07053\n",
      "1717428759.1399238 INFO: cpd04945 not found in model!\n",
      "1717428759.142688 WARNING: cpd04945: could not find metabolite for cpd04945\n",
      "1717428792.1859324 INFO: cpd35610 not found in model!\n",
      "1717428792.1883445 WARNING: cpd35610: could not find metabolite for cpd35610\n",
      "1717428948.6089342 INFO: cpd07053 not found in model!\n",
      "1717428948.611708 WARNING: cpd07053: could not find metabolite for cpd07053\n",
      "1717428990.6166356 INFO: cpd04945 not found in model!\n",
      "1717428990.6192312 WARNING: cpd04945: could not find metabolite for cpd04945\n",
      "1717429024.4680548 INFO: cpd35610 not found in model!\n",
      "1717429024.8609128 INFO: cpd35610 not found in model!\n",
      "1717429024.862665 INFO: Media compound: cpd35610 not found in model.\n",
      "/opt/env/python3_10_modelseed/lib/python3.10/site-packages/cobra/util/solver.py:554: UserWarning: Solver status is 'infeasible'.\n",
      "  warn(f\"Solver status is '{status}'.\", UserWarning)\n",
      "1717429144.236902 INFO: cpd07053 not found in model!\n",
      "1717429144.608715 INFO: cpd07053 not found in model!\n",
      "1717429144.609871 INFO: Media compound: cpd07053 not found in model.\n",
      "1717429177.520112 INFO: cpd04945 not found in model!\n",
      "1717429177.899164 INFO: cpd04945 not found in model!\n",
      "1717429177.9005609 INFO: Media compound: cpd04945 not found in model.\n",
      "1717429208.1848786 INFO: metabolites 1236\n",
      "1717429208.7278345 INFO: reactions 1251\n",
      "1717429210.061512 INFO: Default biomass: [bio1]\n",
      "1717429210.214386 WARNING: Ignoring reaction 'rxn00062_c0' since it already exists.\n",
      "1717429210.623694 WARNING: Ignoring reaction 'rxn00062_c0' since it already exists.\n"
     ]
    },
    {
     "name": "stdout",
     "output_type": "stream",
     "text": [
      "Getting tests from attributes\n"
     ]
    },
    {
     "name": "stderr",
     "output_type": "stream",
     "text": [
      "1717429229.9841979 INFO: cpd35610 not found in model!\n",
      "1717429229.987534 CRITICAL: Metabolite cpd35610 not found in model\n",
      "1717429230.0564141 INFO: cpd07053 not found in model!\n",
      "1717429230.0573425 CRITICAL: Metabolite cpd07053 not found in model\n",
      "1717429230.058356 INFO: cpd04945 not found in model!\n",
      "1717429230.0593061 CRITICAL: Metabolite cpd04945 not found in model\n"
     ]
    },
    {
     "name": "stdout",
     "output_type": "stream",
     "text": [
      "Enterococcus.2 GF: 12794 Prob: 2034 Other: 3476\n"
     ]
    },
    {
     "name": "stderr",
     "output_type": "stream",
     "text": [
      "1717429248.431663 INFO: Objective with gapfill database:289.19849914806156; min objective:0.01\n",
      "1717429258.2447374 INFO: cpd35610 not found in model!\n",
      "1717429258.2480512 WARNING: cpd35610: could not find metabolite for cpd35610\n",
      "1717429388.7166667 INFO: cpd07053 not found in model!\n",
      "1717429388.7183332 WARNING: cpd07053: could not find metabolite for cpd07053\n",
      "1717429425.8854103 INFO: cpd04945 not found in model!\n",
      "1717429425.8869686 WARNING: cpd04945: could not find metabolite for cpd04945\n",
      "1717429457.8312569 INFO: cpd35610 not found in model!\n",
      "1717429457.8340626 WARNING: cpd35610: could not find metabolite for cpd35610\n",
      "1717429619.51671 INFO: cpd07053 not found in model!\n",
      "1717429619.51876 WARNING: cpd07053: could not find metabolite for cpd07053\n",
      "1717429661.4155476 INFO: cpd04945 not found in model!\n",
      "1717429661.41709 WARNING: cpd04945: could not find metabolite for cpd04945\n",
      "1717429697.6180499 INFO: cpd35610 not found in model!\n",
      "1717429697.9984572 INFO: cpd35610 not found in model!\n",
      "1717429697.9997451 INFO: Media compound: cpd35610 not found in model.\n",
      "/opt/env/python3_10_modelseed/lib/python3.10/site-packages/cobra/util/solver.py:554: UserWarning: Solver status is 'infeasible'.\n",
      "  warn(f\"Solver status is '{status}'.\", UserWarning)\n",
      "1717429777.3996646 INFO: cpd07053 not found in model!\n",
      "1717429777.8313427 INFO: cpd07053 not found in model!\n",
      "1717429777.8335176 INFO: Media compound: cpd07053 not found in model.\n",
      "1717429796.6086452 INFO: cpd04945 not found in model!\n",
      "1717429797.0400484 INFO: cpd04945 not found in model!\n",
      "1717429797.0414534 INFO: Media compound: cpd04945 not found in model.\n",
      "1717429818.6868305 INFO: metabolites 1159\n",
      "1717429819.2095594 INFO: reactions 1226\n",
      "1717429820.4925244 INFO: Default biomass: [bio1]\n",
      "1717429820.6334994 WARNING: Ignoring reaction 'rxn00062_c0' since it already exists.\n",
      "1717429821.1052 WARNING: Ignoring reaction 'rxn00062_c0' since it already exists.\n"
     ]
    },
    {
     "name": "stdout",
     "output_type": "stream",
     "text": [
      "Getting tests from attributes\n"
     ]
    },
    {
     "name": "stderr",
     "output_type": "stream",
     "text": [
      "1717429841.5073817 INFO: cpd35610 not found in model!\n",
      "1717429841.5155697 CRITICAL: Metabolite cpd35610 not found in model\n",
      "1717429841.5944371 INFO: cpd07053 not found in model!\n",
      "1717429841.595421 CRITICAL: Metabolite cpd07053 not found in model\n",
      "1717429841.5965133 INFO: cpd04945 not found in model!\n",
      "1717429841.5974889 CRITICAL: Metabolite cpd04945 not found in model\n"
     ]
    },
    {
     "name": "stdout",
     "output_type": "stream",
     "text": [
      "Corynebacterium.2 GF: 12938 Prob: 2002 Other: 3362\n"
     ]
    },
    {
     "name": "stderr",
     "output_type": "stream",
     "text": [
      "1717429861.7163281 INFO: Objective with gapfill database:248.12640726844273; min objective:0.01\n",
      "1717429871.6755066 INFO: cpd35610 not found in model!\n",
      "1717429871.6785748 WARNING: cpd35610: could not find metabolite for cpd35610\n",
      "1717429996.768318 INFO: cpd07053 not found in model!\n",
      "1717429996.771388 WARNING: cpd07053: could not find metabolite for cpd07053\n",
      "1717430032.742752 INFO: cpd04945 not found in model!\n",
      "1717430032.745673 WARNING: cpd04945: could not find metabolite for cpd04945\n",
      "1717430066.061965 INFO: cpd35610 not found in model!\n",
      "1717430066.0649662 WARNING: cpd35610: could not find metabolite for cpd35610\n",
      "1717430219.0870597 INFO: cpd07053 not found in model!\n",
      "1717430219.0897703 WARNING: cpd07053: could not find metabolite for cpd07053\n",
      "1717430261.785035 INFO: cpd04945 not found in model!\n",
      "1717430261.786517 WARNING: cpd04945: could not find metabolite for cpd04945\n",
      "1717430293.8844657 INFO: cpd35610 not found in model!\n",
      "1717430294.2438807 INFO: cpd35610 not found in model!\n",
      "1717430294.244799 INFO: Media compound: cpd35610 not found in model.\n",
      "/opt/env/python3_10_modelseed/lib/python3.10/site-packages/cobra/util/solver.py:554: UserWarning: Solver status is 'infeasible'.\n",
      "  warn(f\"Solver status is '{status}'.\", UserWarning)\n",
      "1717430372.2990456 INFO: cpd07053 not found in model!\n",
      "1717430372.72147 INFO: cpd07053 not found in model!\n",
      "1717430372.7224216 INFO: Media compound: cpd07053 not found in model.\n",
      "1717430391.5486648 INFO: cpd04945 not found in model!\n",
      "1717430391.9604046 INFO: cpd04945 not found in model!\n",
      "1717430391.9614625 INFO: Media compound: cpd04945 not found in model.\n",
      "1717430416.1976998 INFO: metabolites 1084\n",
      "1717430416.6254475 INFO: reactions 1056\n",
      "1717430417.750916 INFO: Default biomass: [bio1]\n",
      "1717430417.8828955 WARNING: Ignoring reaction 'rxn00062_c0' since it already exists.\n",
      "1717430418.2726023 WARNING: Ignoring reaction 'rxn00062_c0' since it already exists.\n"
     ]
    },
    {
     "name": "stdout",
     "output_type": "stream",
     "text": [
      "Getting tests from attributes\n"
     ]
    },
    {
     "name": "stderr",
     "output_type": "stream",
     "text": [
      "1717430437.853593 INFO: cpd35610 not found in model!\n",
      "1717430437.8572526 CRITICAL: Metabolite cpd35610 not found in model\n",
      "1717430437.9273598 INFO: cpd07053 not found in model!\n",
      "1717430437.9282663 CRITICAL: Metabolite cpd07053 not found in model\n",
      "1717430437.9292314 INFO: cpd04945 not found in model!\n",
      "1717430437.930144 CRITICAL: Metabolite cpd04945 not found in model\n"
     ]
    },
    {
     "name": "stdout",
     "output_type": "stream",
     "text": [
      "Lactobacillus.2 GF: 13095 Prob: 1609 Other: 3598\n"
     ]
    },
    {
     "name": "stderr",
     "output_type": "stream",
     "text": [
      "1717430454.1961157 INFO: Objective with gapfill database:248.78732631178087; min objective:0.01\n",
      "1717430464.3278668 INFO: cpd35610 not found in model!\n",
      "1717430464.3311572 WARNING: cpd35610: could not find metabolite for cpd35610\n",
      "1717430591.1327062 INFO: cpd07053 not found in model!\n",
      "1717430591.1355517 WARNING: cpd07053: could not find metabolite for cpd07053\n",
      "1717430628.553144 INFO: cpd04945 not found in model!\n",
      "1717430628.5563486 WARNING: cpd04945: could not find metabolite for cpd04945\n",
      "1717430660.2625613 INFO: cpd35610 not found in model!\n",
      "1717430660.2654524 WARNING: cpd35610: could not find metabolite for cpd35610\n",
      "1717430821.4406905 INFO: cpd07053 not found in model!\n",
      "1717430821.442237 WARNING: cpd07053: could not find metabolite for cpd07053\n",
      "1717430863.1866047 INFO: cpd04945 not found in model!\n",
      "1717430863.1885061 WARNING: cpd04945: could not find metabolite for cpd04945\n",
      "1717430898.5908504 INFO: cpd35610 not found in model!\n",
      "1717430898.951095 INFO: cpd35610 not found in model!\n",
      "1717430898.9520516 INFO: Media compound: cpd35610 not found in model.\n",
      "/opt/env/python3_10_modelseed/lib/python3.10/site-packages/cobra/util/solver.py:554: UserWarning: Solver status is 'infeasible'.\n",
      "  warn(f\"Solver status is '{status}'.\", UserWarning)\n",
      "1717430974.0457215 INFO: cpd07053 not found in model!\n",
      "1717430974.4557154 INFO: cpd07053 not found in model!\n",
      "1717430974.4566867 INFO: Media compound: cpd07053 not found in model.\n",
      "1717430991.7627702 INFO: cpd04945 not found in model!\n",
      "1717430992.171995 INFO: cpd04945 not found in model!\n",
      "1717430992.172917 INFO: Media compound: cpd04945 not found in model.\n",
      "1717431013.0990825 INFO: metabolites 1292\n",
      "1717431013.7147086 INFO: reactions 1375\n",
      "1717431015.0948956 INFO: Default biomass: [bio1]\n",
      "1717431015.2493963 WARNING: Ignoring reaction 'rxn00062_c0' since it already exists.\n",
      "1717431015.654887 WARNING: Ignoring reaction 'rxn00062_c0' since it already exists.\n"
     ]
    },
    {
     "name": "stdout",
     "output_type": "stream",
     "text": [
      "Getting tests from attributes\n"
     ]
    },
    {
     "name": "stderr",
     "output_type": "stream",
     "text": [
      "1717431035.4258935 INFO: cpd35610 not found in model!\n",
      "1717431035.4292111 CRITICAL: Metabolite cpd35610 not found in model\n",
      "1717431035.4975703 INFO: cpd07053 not found in model!\n",
      "1717431035.4985583 CRITICAL: Metabolite cpd07053 not found in model\n",
      "1717431035.4994683 INFO: cpd04945 not found in model!\n",
      "1717431035.5003989 CRITICAL: Metabolite cpd04945 not found in model\n"
     ]
    },
    {
     "name": "stdout",
     "output_type": "stream",
     "text": [
      "Proteus.1 GF: 12719 Prob: 2347 Other: 3238\n"
     ]
    },
    {
     "name": "stderr",
     "output_type": "stream",
     "text": [
      "1717431051.557907 INFO: Objective with gapfill database:323.73329705563947; min objective:0.01\n",
      "1717431061.3422353 INFO: cpd35610 not found in model!\n",
      "1717431061.3456733 WARNING: cpd35610: could not find metabolite for cpd35610\n",
      "1717431184.8928008 INFO: cpd07053 not found in model!\n",
      "1717431184.8957353 WARNING: cpd07053: could not find metabolite for cpd07053\n",
      "1717431219.9742067 INFO: cpd04945 not found in model!\n",
      "1717431219.9771473 WARNING: cpd04945: could not find metabolite for cpd04945\n",
      "1717431252.6166453 INFO: cpd35610 not found in model!\n",
      "1717431252.619413 WARNING: cpd35610: could not find metabolite for cpd35610\n",
      "1717431401.7067845 INFO: cpd07053 not found in model!\n",
      "1717431401.7097409 WARNING: cpd07053: could not find metabolite for cpd07053\n",
      "1717431445.0373554 INFO: cpd04945 not found in model!\n",
      "1717431445.0400953 WARNING: cpd04945: could not find metabolite for cpd04945\n",
      "1717431477.2020621 INFO: cpd35610 not found in model!\n",
      "1717431477.57397 INFO: cpd35610 not found in model!\n",
      "1717431477.5748951 INFO: Media compound: cpd35610 not found in model.\n",
      "/opt/env/python3_10_modelseed/lib/python3.10/site-packages/cobra/util/solver.py:554: UserWarning: Solver status is 'infeasible'.\n",
      "  warn(f\"Solver status is '{status}'.\", UserWarning)\n",
      "1717431578.303007 INFO: cpd07053 not found in model!\n",
      "1717431578.672179 INFO: cpd07053 not found in model!\n",
      "1717431578.6731284 INFO: Media compound: cpd07053 not found in model.\n",
      "1717431603.9173007 INFO: cpd04945 not found in model!\n",
      "1717431604.287905 INFO: cpd04945 not found in model!\n",
      "1717431604.288824 INFO: Media compound: cpd04945 not found in model.\n",
      "1717431631.4519818 INFO: metabolites 1339\n",
      "1717431632.0596716 INFO: reactions 1363\n",
      "1717431633.5115707 INFO: Default biomass: [bio1]\n",
      "1717431633.6762094 WARNING: Ignoring reaction 'rxn00062_c0' since it already exists.\n",
      "1717431634.0881429 WARNING: Ignoring reaction 'rxn00062_c0' since it already exists.\n"
     ]
    },
    {
     "name": "stdout",
     "output_type": "stream",
     "text": [
      "Getting tests from attributes\n"
     ]
    },
    {
     "name": "stderr",
     "output_type": "stream",
     "text": [
      "1717431655.0489802 INFO: cpd35610 not found in model!\n",
      "1717431655.0525756 CRITICAL: Metabolite cpd35610 not found in model\n",
      "1717431655.1216893 INFO: cpd07053 not found in model!\n",
      "1717431655.1226587 CRITICAL: Metabolite cpd07053 not found in model\n",
      "1717431655.123634 INFO: cpd04945 not found in model!\n",
      "1717431655.1248064 CRITICAL: Metabolite cpd04945 not found in model\n"
     ]
    },
    {
     "name": "stdout",
     "output_type": "stream",
     "text": [
      "Cupriavidus.1 GF: 12811 Prob: 2262 Other: 3231\n"
     ]
    },
    {
     "name": "stderr",
     "output_type": "stream",
     "text": [
      "1717431671.156143 INFO: Objective with gapfill database:0.0; min objective:0.01\n",
      "/opt/env/python3_10_modelseed/lib/python3.10/site-packages/cobra/util/solver.py:554: UserWarning: Solver status is 'infeasible'.\n",
      "  warn(f\"Solver status is '{status}'.\", UserWarning)\n",
      "1717431682.3260963 INFO: Expansion time:Ac.NO2:1.6037259260192513\n",
      "1717431682.3276715 INFO: Filtered count:0 out of 1939\n",
      "1717431683.9268532 INFO: Expansion time:Ac.NO3:1.5981218218803406\n",
      "1717431683.928207 INFO: Filtered count:0 out of 1939\n",
      "1717431685.4647155 INFO: Expansion time:Ac.O2:1.5354601819999516\n",
      "1717431685.4672387 INFO: Filtered count:0 out of 1939\n",
      "1717431687.0092978 INFO: Expansion time:Akg.O2:1.5409471611492336\n",
      "1717431687.0108702 INFO: Filtered count:0 out of 1939\n",
      "1717431688.5625458 INFO: Expansion time:Etho.O2:1.550649518147111\n",
      "1717431688.5638976 INFO: Filtered count:0 out of 1939\n",
      "1717431689.853379 INFO: Expansion time:For.NO2:1.288241220638156\n",
      "1717431689.854575 INFO: Filtered count:0 out of 1939\n",
      "1717431691.3441458 INFO: Expansion time:For.NO3:1.4885932533070445\n",
      "1717431691.3455818 INFO: Filtered count:0 out of 1939\n",
      "1717431692.942814 INFO: Expansion time:For.O2:1.5962311667390168\n",
      "1717431692.9441245 INFO: Filtered count:0 out of 1939\n",
      "1717431694.3134952 INFO: Expansion time:Fum:1.3683452350087464\n",
      "1717431694.3148117 INFO: Filtered count:0 out of 1939\n",
      "1717431695.8331807 INFO: Expansion time:Fum.O2:1.517288716044277\n",
      "1717431695.8357997 INFO: Filtered count:0 out of 1939\n",
      "1717431697.3525174 INFO: Expansion time:Glc:1.515653392765671\n",
      "1717431697.3540573 INFO: Filtered count:0 out of 1939\n",
      "1717431698.979086 INFO: Expansion time:Glc.DMSO:1.623765992000699\n",
      "1717431698.9803667 INFO: Filtered count:0 out of 1939\n",
      "1717431700.4305353 INFO: Expansion time:Glc.O2:1.4490437493659556\n",
      "1717431700.43172 INFO: Filtered count:0 out of 1939\n",
      "1717431701.9041624 INFO: Expansion time:Glc.TMAO:1.4712877119891346\n",
      "1717431701.9054306 INFO: Filtered count:0 out of 1939\n",
      "1717431703.343718 INFO: Expansion time:LLac.O2:1.4372834470123053\n",
      "1717431703.3452628 INFO: Filtered count:0 out of 1939\n",
      "1717431704.7601252 INFO: Expansion time:Pyr:1.4137025433592498\n",
      "1717431704.7617846 INFO: Filtered count:0 out of 1939\n",
      "1717431709.9256968 INFO: Expansion time:Pyr.DMSO:5.162740832194686\n",
      "1717431709.927831 INFO: Filtered count:0 out of 1939\n",
      "1717431711.5197902 INFO: Expansion time:Pyr.NO:1.590785272885114\n",
      "1717431711.5210798 INFO: Filtered count:0 out of 1939\n",
      "1717431713.044862 INFO: Expansion time:Pyr.NO2:1.5227204477414489\n",
      "1717431713.046124 INFO: Filtered count:0 out of 1939\n",
      "1717431714.4335344 INFO: Expansion time:Pyr.NO3:1.3864080379717052\n",
      "1717431714.4347956 INFO: Filtered count:0 out of 1939\n",
      "1717431715.97966 INFO: Expansion time:Pyr.O2:1.5438084350898862\n",
      "1717431715.9809535 INFO: Filtered count:0 out of 1939\n",
      "1717431717.610296 INFO: Expansion time:Pyr.SO3:1.6283377455547452\n",
      "1717431717.6121442 INFO: Filtered count:0 out of 1939\n",
      "1717431719.2491171 INFO: Expansion time:Pyr.SO4:1.6361552579328418\n",
      "1717431719.2509458 INFO: Filtered count:0 out of 1939\n",
      "1717431720.6762228 INFO: Expansion time:Pyr.TMAO:1.4243256761692464\n",
      "1717431720.6775596 INFO: Filtered count:0 out of 1939\n",
      "1717431721.9114552 INFO: Expansion time:empty:1.2328899181447923\n",
      "1717431721.9127817 INFO: Filtered count:0 out of 1939\n",
      "1717431722.419101 INFO: cpd35610 not found in model!\n",
      "1717431722.4201827 WARNING: cpd35610: could not find metabolite for cpd35610\n",
      "1717431778.6877782 INFO: cpd07053 not found in model!\n",
      "1717431778.691232 WARNING: cpd07053: could not find metabolite for cpd07053\n",
      "1717431793.3976295 INFO: cpd04945 not found in model!\n",
      "1717431793.4006195 WARNING: cpd04945: could not find metabolite for cpd04945\n",
      "1717431811.341467 INFO: cpd35610 not found in model!\n",
      "1717431811.3430712 WARNING: cpd35610: could not find metabolite for cpd35610\n",
      "1717431888.0452454 INFO: cpd07053 not found in model!\n",
      "1717431888.0473135 WARNING: cpd07053: could not find metabolite for cpd07053\n",
      "1717431906.9158254 INFO: cpd04945 not found in model!\n",
      "1717431906.9174113 WARNING: cpd04945: could not find metabolite for cpd04945\n",
      "1717431928.7153692 INFO: cpd35610 not found in model!\n",
      "1717431929.127008 INFO: cpd35610 not found in model!\n",
      "1717431929.12829 INFO: Media compound: cpd35610 not found in model.\n",
      "1717432013.3528118 INFO: cpd07053 not found in model!\n",
      "1717432013.7723029 INFO: cpd07053 not found in model!\n",
      "1717432013.7735312 INFO: Media compound: cpd07053 not found in model.\n",
      "1717432038.4606357 INFO: cpd04945 not found in model!\n",
      "1717432038.875764 INFO: cpd04945 not found in model!\n",
      "1717432038.8768692 INFO: Media compound: cpd04945 not found in model.\n",
      "1717432060.7104702 INFO: metabolites 1077\n",
      "1717432061.1308951 INFO: reactions 1042\n",
      "1717432062.256125 INFO: Default biomass: [bio1]\n",
      "1717432062.3885937 WARNING: Ignoring reaction 'rxn00062_c0' since it already exists.\n",
      "1717432062.781406 WARNING: Ignoring reaction 'rxn00062_c0' since it already exists.\n"
     ]
    },
    {
     "name": "stdout",
     "output_type": "stream",
     "text": [
      "Getting tests from attributes\n"
     ]
    },
    {
     "name": "stderr",
     "output_type": "stream",
     "text": [
      "1717432084.070451 INFO: cpd35610 not found in model!\n",
      "1717432084.074082 CRITICAL: Metabolite cpd35610 not found in model\n",
      "1717432084.1425247 INFO: cpd07053 not found in model!\n",
      "1717432084.1440063 CRITICAL: Metabolite cpd07053 not found in model\n",
      "1717432084.1448336 INFO: cpd04945 not found in model!\n",
      "1717432084.1456838 CRITICAL: Metabolite cpd04945 not found in model\n"
     ]
    },
    {
     "name": "stdout",
     "output_type": "stream",
     "text": [
      "Leuconostoc.1 GF: 13154 Prob: 1566 Other: 3580\n"
     ]
    },
    {
     "name": "stderr",
     "output_type": "stream",
     "text": [
      "1717432100.2981079 INFO: Objective with gapfill database:0.0; min objective:0.01\n",
      "/opt/env/python3_10_modelseed/lib/python3.10/site-packages/cobra/util/solver.py:554: UserWarning: Solver status is 'infeasible'.\n",
      "  warn(f\"Solver status is '{status}'.\", UserWarning)\n",
      "1717432111.317186 INFO: Expansion time:Dlac.O2:1.1547037279233336\n",
      "1717432111.3186276 INFO: Filtered count:0 out of 1479\n",
      "1717432112.391505 INFO: Expansion time:Etho.O2:1.0718388222157955\n",
      "1717432112.3927522 INFO: Filtered count:0 out of 1479\n",
      "1717432113.4953818 INFO: Expansion time:Glc:1.1015963428653777\n",
      "1717432113.4966242 INFO: Filtered count:0 out of 1479\n",
      "1717432114.586966 INFO: Expansion time:Glc.DMSO:1.0893525760620832\n",
      "1717432114.588222 INFO: Filtered count:0 out of 1479\n",
      "1717432115.6513503 INFO: Expansion time:Glc.O2:1.0620066737756133\n",
      "1717432115.6525698 INFO: Filtered count:0 out of 1479\n",
      "1717432116.73609 INFO: Expansion time:Glc.TMAO:1.0825339080765843\n",
      "1717432116.737331 INFO: Filtered count:0 out of 1479\n",
      "1717432117.8193774 INFO: Expansion time:Pyr:1.0809916546568274\n",
      "1717432117.821655 INFO: Filtered count:0 out of 1479\n",
      "1717432118.9091082 INFO: Expansion time:Pyr.DMSO:1.08638867828995\n",
      "1717432118.9105785 INFO: Filtered count:0 out of 1479\n",
      "1717432120.0146737 INFO: Expansion time:Pyr.NO:1.1030933670699596\n",
      "1717432120.0156746 INFO: Filtered count:0 out of 1479\n",
      "1717432121.1211107 INFO: Expansion time:Pyr.NO2:1.104683036915958\n",
      "1717432121.122407 INFO: Filtered count:0 out of 1479\n",
      "1717432122.2063494 INFO: Expansion time:Pyr.NO3:1.0829502511769533\n",
      "1717432122.2074661 INFO: Filtered count:0 out of 1479\n",
      "1717432123.267159 INFO: Expansion time:Pyr.O2:1.0585597399622202\n",
      "1717432123.2683563 INFO: Filtered count:0 out of 1479\n",
      "1717432124.328167 INFO: Expansion time:Pyr.SO3:1.0587608511559665\n",
      "1717432124.3293233 INFO: Filtered count:0 out of 1479\n",
      "1717432129.5021868 INFO: Expansion time:Pyr.SO4:5.171847413759679\n",
      "1717432129.50494 INFO: Filtered count:0 out of 1479\n",
      "1717432130.6671746 INFO: Expansion time:Pyr.TMAO:1.1612048540264368\n",
      "1717432130.668839 INFO: Filtered count:0 out of 1479\n",
      "1717432131.780065 INFO: Expansion time:empty:1.110039833933115\n",
      "1717432131.7812834 INFO: Filtered count:0 out of 1479\n",
      "1717432132.3111672 INFO: cpd35610 not found in model!\n",
      "1717432132.3129838 WARNING: cpd35610: could not find metabolite for cpd35610\n",
      "1717432194.2053952 INFO: cpd07053 not found in model!\n",
      "1717432194.208254 WARNING: cpd07053: could not find metabolite for cpd07053\n",
      "1717432207.074445 INFO: cpd04945 not found in model!\n",
      "1717432207.0776522 WARNING: cpd04945: could not find metabolite for cpd04945\n",
      "1717432225.9924874 INFO: cpd35610 not found in model!\n",
      "1717432225.9940557 WARNING: cpd35610: could not find metabolite for cpd35610\n",
      "1717432304.022639 INFO: cpd07053 not found in model!\n",
      "1717432304.0247793 WARNING: cpd07053: could not find metabolite for cpd07053\n",
      "1717432326.1369677 INFO: cpd04945 not found in model!\n",
      "1717432326.1385462 WARNING: cpd04945: could not find metabolite for cpd04945\n",
      "1717432344.686852 INFO: cpd35610 not found in model!\n",
      "1717432345.0848591 INFO: cpd35610 not found in model!\n",
      "1717432345.0854707 INFO: Media compound: cpd35610 not found in model.\n",
      "1717432435.402005 INFO: cpd07053 not found in model!\n",
      "1717432435.7966123 INFO: cpd07053 not found in model!\n",
      "1717432435.7974765 INFO: Media compound: cpd07053 not found in model.\n",
      "1717432455.1507702 INFO: cpd04945 not found in model!\n",
      "1717432455.5436249 INFO: cpd04945 not found in model!\n",
      "1717432455.5446048 INFO: Media compound: cpd04945 not found in model.\n",
      "1717432477.8517272 INFO: metabolites 1644\n",
      "1717432478.759603 INFO: reactions 1798\n",
      "1717432480.6121495 INFO: Default biomass: [bio1]\n",
      "1717432480.8171198 WARNING: Ignoring reaction 'rxn00062_c0' since it already exists.\n",
      "1717432481.2302687 WARNING: Ignoring reaction 'rxn00062_c0' since it already exists.\n"
     ]
    },
    {
     "name": "stdout",
     "output_type": "stream",
     "text": [
      "Getting tests from attributes\n"
     ]
    },
    {
     "name": "stderr",
     "output_type": "stream",
     "text": [
      "1717432503.5310657 INFO: cpd35610 not found in model!\n",
      "1717432503.5347106 CRITICAL: Metabolite cpd35610 not found in model\n",
      "1717432503.6025007 INFO: cpd07053 not found in model!\n",
      "1717432503.6034174 CRITICAL: Metabolite cpd07053 not found in model\n",
      "1717432503.6044476 INFO: cpd04945 not found in model!\n",
      "1717432503.605351 CRITICAL: Metabolite cpd04945 not found in model\n"
     ]
    },
    {
     "name": "stdout",
     "output_type": "stream",
     "text": [
      "Staphylococcus.1 GF: 12075 Prob: 3067 Other: 3162\n"
     ]
    },
    {
     "name": "stderr",
     "output_type": "stream",
     "text": [
      "1717432518.4102492 INFO: Objective with gapfill database:0.0; min objective:0.01\n",
      "/opt/env/python3_10_modelseed/lib/python3.10/site-packages/cobra/util/solver.py:554: UserWarning: Solver status is 'infeasible'.\n",
      "  warn(f\"Solver status is '{status}'.\", UserWarning)\n",
      "1717432529.3552365 INFO: Expansion time:Ac.NO2:1.7917014071717858\n",
      "1717432529.3567963 INFO: Filtered count:0 out of 2625\n",
      "1717432531.1520433 INFO: Expansion time:Ac.NO3:1.7942291158251464\n",
      "1717432531.1534367 INFO: Filtered count:0 out of 2625\n",
      "1717432533.073863 INFO: Expansion time:Ac.O2:1.9194026561453938\n",
      "1717432533.0758271 INFO: Filtered count:0 out of 2625\n",
      "1717432534.7327142 INFO: Expansion time:Akg.O2:1.655989158898592\n",
      "1717432534.7349932 INFO: Filtered count:0 out of 2625\n",
      "1717432536.777944 INFO: Expansion time:Dlac:2.041868722997606\n",
      "1717432536.779356 INFO: Filtered count:0 out of 2625\n",
      "1717432538.552472 INFO: Expansion time:Dlac.O2:1.772010050714016\n",
      "1717432538.5537102 INFO: Filtered count:0 out of 2625\n",
      "1717432540.2962978 INFO: Expansion time:Etho.O2:1.7415331439115107\n",
      "1717432540.2976627 INFO: Filtered count:0 out of 2625\n",
      "1717432541.9377918 INFO: Expansion time:For.NO2:1.639130771625787\n",
      "1717432541.9392366 INFO: Filtered count:0 out of 2625\n",
      "1717432543.7898855 INFO: Expansion time:For.NO3:1.8494615470990539\n",
      "1717432543.791302 INFO: Filtered count:0 out of 2625\n",
      "1717432545.6672146 INFO: Expansion time:For.O2:1.8746837638318539\n",
      "1717432545.6701353 INFO: Filtered count:0 out of 2625\n",
      "1717432547.556427 INFO: Expansion time:Fum:1.8851926517672837\n",
      "1717432547.5577378 INFO: Filtered count:0 out of 2625\n",
      "1717432549.376631 INFO: Expansion time:Fum.O2:1.8177702273242176\n",
      "1717432549.3778582 INFO: Filtered count:0 out of 2625\n",
      "1717432551.222723 INFO: Expansion time:Glc:1.8438751841895282\n",
      "1717432551.2239969 INFO: Filtered count:0 out of 2625\n",
      "1717432557.4967666 INFO: Expansion time:Glc.DMSO:6.271711925975978\n",
      "1717432557.4981737 INFO: Filtered count:0 out of 2625\n",
      "1717432559.3231385 INFO: Expansion time:Glc.O2:1.8239053613506258\n",
      "1717432559.3258684 INFO: Filtered count:0 out of 2625\n",
      "1717432561.3793073 INFO: Expansion time:Glc.TMAO:2.052362880669534\n",
      "1717432561.3805716 INFO: Filtered count:0 out of 2625\n",
      "1717432562.9783013 INFO: Expansion time:Glyc:1.5967367202974856\n",
      "1717432562.9795792 INFO: Filtered count:0 out of 2625\n",
      "1717432564.85418 INFO: Expansion time:Glyc.O2:1.873603846412152\n",
      "1717432564.8554578 INFO: Filtered count:0 out of 2625\n",
      "1717432566.4311273 INFO: Expansion time:LLac.O2:1.57460817694664\n",
      "1717432566.43256 INFO: Filtered count:0 out of 2625\n",
      "1717432568.193546 INFO: Expansion time:LLac.SO4:1.7599767399951816\n",
      "1717432568.1948628 INFO: Filtered count:0 out of 2625\n",
      "1717432570.0443583 INFO: Expansion time:LLac.SO4.H2:1.8481931081041694\n",
      "1717432570.045779 INFO: Filtered count:0 out of 2625\n",
      "1717432571.9315352 INFO: Expansion time:Llac:1.8845323640853167\n",
      "1717432571.9329784 INFO: Filtered count:0 out of 2625\n",
      "1717432573.6124768 INFO: Expansion time:Pyr:1.6782866260036826\n",
      "1717432573.6139257 INFO: Filtered count:0 out of 2625\n",
      "1717432575.4605618 INFO: Expansion time:Pyr.DMSO:1.8455110527575016\n",
      "1717432575.463098 INFO: Filtered count:0 out of 2625\n",
      "1717432577.3508427 INFO: Expansion time:Pyr.NO:1.8865744648501277\n",
      "1717432577.3524983 INFO: Filtered count:0 out of 2625\n",
      "1717432579.1688185 INFO: Expansion time:Pyr.NO2:1.8152913288213313\n",
      "1717432579.1701272 INFO: Filtered count:0 out of 2625\n",
      "1717432581.0935886 INFO: Expansion time:Pyr.NO3:1.9224020191468298\n",
      "1717432581.0948794 INFO: Filtered count:0 out of 2625\n",
      "1717432582.7604136 INFO: Expansion time:Pyr.O2:1.664495948702097\n",
      "1717432582.7616973 INFO: Filtered count:0 out of 2625\n",
      "1717432584.6982763 INFO: Expansion time:Pyr.SO3:1.9355777991004288\n",
      "1717432584.6996412 INFO: Filtered count:0 out of 2625\n",
      "1717432586.5854118 INFO: Expansion time:Pyr.SO4:1.8845435781404376\n",
      "1717432586.5867312 INFO: Filtered count:0 out of 2625\n",
      "1717432588.4658098 INFO: Expansion time:Pyr.TMAO:1.8779880120418966\n",
      "1717432588.4671242 INFO: Filtered count:0 out of 2625\n",
      "1717432589.9523225 INFO: Expansion time:empty:1.4840265377424657\n",
      "1717432589.9536831 INFO: Filtered count:0 out of 2625\n",
      "1717432590.4271212 INFO: cpd35610 not found in model!\n",
      "1717432590.4282649 WARNING: cpd35610: could not find metabolite for cpd35610\n",
      "1717432656.076487 INFO: cpd07053 not found in model!\n",
      "1717432656.0795052 WARNING: cpd07053: could not find metabolite for cpd07053\n",
      "1717432675.7397885 INFO: cpd04945 not found in model!\n",
      "1717432675.7413714 WARNING: cpd04945: could not find metabolite for cpd04945\n",
      "1717432695.5692518 INFO: cpd35610 not found in model!\n",
      "1717432695.5721667 WARNING: cpd35610: could not find metabolite for cpd35610\n",
      "1717432775.520519 INFO: cpd07053 not found in model!\n",
      "1717432775.523751 WARNING: cpd07053: could not find metabolite for cpd07053\n",
      "1717432797.8553503 INFO: cpd04945 not found in model!\n",
      "1717432797.8568416 WARNING: cpd04945: could not find metabolite for cpd04945\n",
      "1717432817.474762 INFO: cpd35610 not found in model!\n",
      "1717432817.9107602 INFO: cpd35610 not found in model!\n",
      "1717432817.9116974 INFO: Media compound: cpd35610 not found in model.\n",
      "1717432876.2117856 INFO: cpd07053 not found in model!\n",
      "1717432876.6475165 INFO: cpd07053 not found in model!\n",
      "1717432876.6488507 INFO: Media compound: cpd07053 not found in model.\n",
      "1717432896.9381359 INFO: cpd04945 not found in model!\n",
      "1717432897.3862305 INFO: cpd04945 not found in model!\n",
      "1717432897.387242 INFO: Media compound: cpd04945 not found in model.\n",
      "1717432915.7955325 INFO: metabolites 1194\n",
      "1717432916.1700225 INFO: reactions 956\n",
      "1717432917.2081394 INFO: Default biomass: [bio1]\n",
      "1717432917.3239186 WARNING: Ignoring reaction 'rxn00062_c0' since it already exists.\n",
      "1717432917.7220604 WARNING: Ignoring reaction 'rxn00062_c0' since it already exists.\n"
     ]
    },
    {
     "name": "stdout",
     "output_type": "stream",
     "text": [
      "Getting tests from attributes\n"
     ]
    },
    {
     "name": "stderr",
     "output_type": "stream",
     "text": [
      "1717432939.6174767 INFO: cpd35610 not found in model!\n",
      "1717432939.6210945 CRITICAL: Metabolite cpd35610 not found in model\n",
      "1717432939.6898189 INFO: cpd07053 not found in model!\n",
      "1717432939.690734 CRITICAL: Metabolite cpd07053 not found in model\n",
      "1717432939.691686 INFO: cpd04945 not found in model!\n",
      "1717432939.6926064 CRITICAL: Metabolite cpd04945 not found in model\n"
     ]
    },
    {
     "name": "stdout",
     "output_type": "stream",
     "text": [
      "Parabacteroides.3 GF: 13363 Prob: 1412 Other: 3529\n"
     ]
    },
    {
     "name": "stderr",
     "output_type": "stream",
     "text": [
      "1717432955.870581 INFO: Objective with gapfill database:0.0; min objective:0.01\n",
      "/opt/env/python3_10_modelseed/lib/python3.10/site-packages/cobra/util/solver.py:554: UserWarning: Solver status is 'infeasible'.\n",
      "  warn(f\"Solver status is '{status}'.\", UserWarning)\n",
      "1717432967.216113 INFO: Expansion time:Dlac.O2:1.3409814275801182\n",
      "1717432967.2180896 INFO: Filtered count:0 out of 1322\n",
      "1717432969.4761057 INFO: Expansion time:Fum:2.2571581546217203\n",
      "1717432969.477498 INFO: Filtered count:0 out of 1322\n",
      "1717432970.8497589 INFO: Expansion time:Fum.O2:1.371233468875289\n",
      "1717432970.8510773 INFO: Filtered count:0 out of 1322\n",
      "1717432972.2501752 INFO: Expansion time:Glyc.O2:1.397944079246372\n",
      "1717432972.251516 INFO: Filtered count:0 out of 1322\n",
      "1717432973.5120804 INFO: Expansion time:Pyr:1.2595232506282628\n",
      "1717432973.5134304 INFO: Filtered count:0 out of 1322\n",
      "1717432974.9115417 INFO: Expansion time:Pyr.DMSO:1.3969768630340695\n",
      "1717432974.914388 INFO: Filtered count:0 out of 1322\n",
      "1717432976.4561338 INFO: Expansion time:Pyr.NO:1.540648635942489\n",
      "1717432976.457299 INFO: Filtered count:0 out of 1322\n",
      "1717432977.9652312 INFO: Expansion time:Pyr.NO2:1.5069145541638136\n",
      "1717432977.9666495 INFO: Filtered count:0 out of 1322\n",
      "1717432979.5036902 INFO: Expansion time:Pyr.NO3:1.536012418102473\n",
      "1717432979.5047767 INFO: Filtered count:0 out of 1322\n",
      "1717432981.0425446 INFO: Expansion time:Pyr.O2:1.5370797598734498\n",
      "1717432981.043775 INFO: Filtered count:0 out of 1322\n",
      "1717432982.6361368 INFO: Expansion time:Pyr.SO3:1.5912091797217727\n",
      "1717432982.637502 INFO: Filtered count:0 out of 1322\n",
      "1717432984.1461914 INFO: Expansion time:Pyr.SO4:1.507679422851652\n",
      "1717432984.1476657 INFO: Filtered count:0 out of 1322\n",
      "1717432985.679161 INFO: Expansion time:Pyr.TMAO:1.5303185489028692\n",
      "1717432985.6805296 INFO: Filtered count:0 out of 1322\n",
      "1717432986.7424793 INFO: Expansion time:empty:1.0609104060567915\n",
      "1717432986.7449267 INFO: Filtered count:0 out of 1322\n",
      "1717432987.2737348 INFO: cpd35610 not found in model!\n",
      "1717432987.2752264 WARNING: cpd35610: could not find metabolite for cpd35610\n",
      "1717433068.4564943 INFO: cpd07053 not found in model!\n",
      "1717433068.459566 WARNING: cpd07053: could not find metabolite for cpd07053\n",
      "1717433093.453609 INFO: cpd04945 not found in model!\n",
      "1717433093.4554322 WARNING: cpd04945: could not find metabolite for cpd04945\n",
      "1717433108.0620527 INFO: cpd35610 not found in model!\n",
      "1717433108.0648723 WARNING: cpd35610: could not find metabolite for cpd35610\n",
      "1717433200.492994 INFO: cpd07053 not found in model!\n",
      "1717433200.495926 WARNING: cpd07053: could not find metabolite for cpd07053\n",
      "1717433221.0149918 INFO: cpd04945 not found in model!\n",
      "1717433221.016712 WARNING: cpd04945: could not find metabolite for cpd04945\n",
      "1717433247.4231987 INFO: cpd35610 not found in model!\n",
      "1717433247.835394 INFO: cpd35610 not found in model!\n",
      "1717433247.8364472 INFO: Media compound: cpd35610 not found in model.\n",
      "1717433365.3727777 INFO: cpd07053 not found in model!\n",
      "1717433365.7892675 INFO: cpd07053 not found in model!\n",
      "1717433365.7902756 INFO: Media compound: cpd07053 not found in model.\n",
      "1717433394.8358438 INFO: cpd04945 not found in model!\n",
      "1717433395.2554853 INFO: cpd04945 not found in model!\n",
      "1717433395.2564662 INFO: Media compound: cpd04945 not found in model.\n",
      "1717433431.6758373 INFO: metabolites 1002\n",
      "1717433432.0714927 INFO: reactions 979\n",
      "1717433433.0406408 INFO: Default biomass: [bio1]\n",
      "1717433433.1474676 WARNING: Ignoring reaction 'rxn00062_c0' since it already exists.\n",
      "1717433433.5242884 WARNING: Ignoring reaction 'rxn00062_c0' since it already exists.\n"
     ]
    },
    {
     "name": "stdout",
     "output_type": "stream",
     "text": [
      "Getting tests from attributes\n"
     ]
    },
    {
     "name": "stderr",
     "output_type": "stream",
     "text": [
      "1717433449.537411 INFO: cpd35610 not found in model!\n",
      "1717433449.5392208 CRITICAL: Metabolite cpd35610 not found in model\n",
      "1717433449.6070945 INFO: cpd07053 not found in model!\n",
      "1717433449.6079311 CRITICAL: Metabolite cpd07053 not found in model\n",
      "1717433449.608893 INFO: cpd04945 not found in model!\n",
      "1717433449.6097372 CRITICAL: Metabolite cpd04945 not found in model\n"
     ]
    },
    {
     "name": "stdout",
     "output_type": "stream",
     "text": [
      "Odoribacter.1 GF: 13401 Prob: 1544 Other: 3359\n"
     ]
    },
    {
     "name": "stderr",
     "output_type": "stream",
     "text": [
      "1717433466.2711167 INFO: Objective with gapfill database:138.53435533791406; min objective:0.01\n",
      "1717433476.5468373 INFO: cpd35610 not found in model!\n",
      "1717433476.5484624 WARNING: cpd35610: could not find metabolite for cpd35610\n",
      "1717433595.8952143 INFO: cpd07053 not found in model!\n",
      "1717433595.8982072 WARNING: cpd07053: could not find metabolite for cpd07053\n",
      "1717433628.5183423 INFO: cpd04945 not found in model!\n",
      "1717433628.5198605 WARNING: cpd04945: could not find metabolite for cpd04945\n",
      "1717433660.4736912 INFO: cpd35610 not found in model!\n",
      "1717433660.4759395 WARNING: cpd35610: could not find metabolite for cpd35610\n",
      "1717433816.538683 INFO: cpd07053 not found in model!\n",
      "1717433816.5414898 WARNING: cpd07053: could not find metabolite for cpd07053\n",
      "1717433858.1229472 INFO: cpd04945 not found in model!\n",
      "1717433858.1244686 WARNING: cpd04945: could not find metabolite for cpd04945\n",
      "1717433891.821864 INFO: cpd35610 not found in model!\n",
      "1717433892.182079 INFO: cpd35610 not found in model!\n",
      "1717433892.1835182 INFO: Media compound: cpd35610 not found in model.\n",
      "/opt/env/python3_10_modelseed/lib/python3.10/site-packages/cobra/util/solver.py:554: UserWarning: Solver status is 'infeasible'.\n",
      "  warn(f\"Solver status is '{status}'.\", UserWarning)\n",
      "1717434010.7194095 INFO: cpd07053 not found in model!\n",
      "1717434011.07429 INFO: cpd07053 not found in model!\n",
      "1717434011.0752625 INFO: Media compound: cpd07053 not found in model.\n",
      "1717434046.926614 INFO: cpd04945 not found in model!\n",
      "1717434047.2889092 INFO: cpd04945 not found in model!\n",
      "1717434047.289948 INFO: Media compound: cpd04945 not found in model.\n",
      "1717434078.2260058 INFO: metabolites 1079\n",
      "1717434078.6659784 INFO: reactions 1063\n",
      "1717434079.7800248 INFO: Default biomass: [bio1]\n",
      "1717434079.9158256 WARNING: Ignoring reaction 'rxn00062_c0' since it already exists.\n",
      "1717434080.309698 WARNING: Ignoring reaction 'rxn00062_c0' since it already exists.\n"
     ]
    },
    {
     "name": "stdout",
     "output_type": "stream",
     "text": [
      "Getting tests from attributes\n"
     ]
    },
    {
     "name": "stderr",
     "output_type": "stream",
     "text": [
      "1717434096.8580906 INFO: cpd35610 not found in model!\n",
      "1717434096.861739 CRITICAL: Metabolite cpd35610 not found in model\n",
      "1717434096.93063 INFO: cpd07053 not found in model!\n",
      "1717434096.9315436 CRITICAL: Metabolite cpd07053 not found in model\n",
      "1717434096.9325936 INFO: cpd04945 not found in model!\n",
      "1717434096.9336169 CRITICAL: Metabolite cpd04945 not found in model\n"
     ]
    },
    {
     "name": "stdout",
     "output_type": "stream",
     "text": [
      "Aerococcus.1 GF: 13144 Prob: 1625 Other: 3531\n"
     ]
    },
    {
     "name": "stderr",
     "output_type": "stream",
     "text": [
      "1717434119.5456388 INFO: Objective with gapfill database:202.79861270118144; min objective:0.01\n",
      "1717434129.6570346 INFO: cpd35610 not found in model!\n",
      "1717434129.6601386 WARNING: cpd35610: could not find metabolite for cpd35610\n",
      "1717434252.082172 INFO: cpd07053 not found in model!\n",
      "1717434252.0853946 WARNING: cpd07053: could not find metabolite for cpd07053\n",
      "1717434295.9434361 INFO: cpd04945 not found in model!\n",
      "1717434295.9465625 WARNING: cpd04945: could not find metabolite for cpd04945\n",
      "1717434327.5950098 INFO: cpd35610 not found in model!\n",
      "1717434327.5966654 WARNING: cpd35610: could not find metabolite for cpd35610\n",
      "1717434486.4388926 INFO: cpd07053 not found in model!\n",
      "1717434486.441841 WARNING: cpd07053: could not find metabolite for cpd07053\n",
      "1717434525.624571 INFO: cpd04945 not found in model!\n",
      "1717434525.6261992 WARNING: cpd04945: could not find metabolite for cpd04945\n",
      "1717434558.8810976 INFO: cpd35610 not found in model!\n",
      "1717434559.2423196 INFO: cpd35610 not found in model!\n",
      "1717434559.2434633 INFO: Media compound: cpd35610 not found in model.\n",
      "/opt/env/python3_10_modelseed/lib/python3.10/site-packages/cobra/util/solver.py:554: UserWarning: Solver status is 'infeasible'.\n",
      "  warn(f\"Solver status is '{status}'.\", UserWarning)\n",
      "1717434633.296011 INFO: cpd07053 not found in model!\n",
      "1717434633.7070918 INFO: cpd07053 not found in model!\n",
      "1717434633.708109 INFO: Media compound: cpd07053 not found in model.\n",
      "1717434651.5978136 INFO: cpd04945 not found in model!\n",
      "1717434651.9932904 INFO: cpd04945 not found in model!\n",
      "1717434651.9942186 INFO: Media compound: cpd04945 not found in model.\n",
      "1717434676.4766028 INFO: metabolites 1297\n",
      "1717434677.0347784 INFO: reactions 1323\n",
      "1717434678.3577638 INFO: Default biomass: [bio1]\n",
      "1717434678.5030112 WARNING: Ignoring reaction 'rxn00062_c0' since it already exists.\n",
      "1717434678.8967512 WARNING: Ignoring reaction 'rxn00062_c0' since it already exists.\n"
     ]
    },
    {
     "name": "stdout",
     "output_type": "stream",
     "text": [
      "Getting tests from attributes\n"
     ]
    },
    {
     "name": "stderr",
     "output_type": "stream",
     "text": [
      "1717434695.2487266 INFO: cpd35610 not found in model!\n",
      "1717434695.2505248 CRITICAL: Metabolite cpd35610 not found in model\n",
      "1717434695.317145 INFO: cpd07053 not found in model!\n",
      "1717434695.3180432 CRITICAL: Metabolite cpd07053 not found in model\n",
      "1717434695.3189788 INFO: cpd04945 not found in model!\n",
      "1717434695.3200278 CRITICAL: Metabolite cpd04945 not found in model\n"
     ]
    },
    {
     "name": "stdout",
     "output_type": "stream",
     "text": [
      "Staphylococcus.3 GF: 12760 Prob: 2166 Other: 3378\n"
     ]
    },
    {
     "name": "stderr",
     "output_type": "stream",
     "text": [
      "1717434711.0551708 INFO: Objective with gapfill database:279.74757632689347; min objective:0.01\n",
      "1717434720.7160711 INFO: cpd35610 not found in model!\n",
      "1717434720.7182405 WARNING: cpd35610: could not find metabolite for cpd35610\n",
      "1717434843.1862993 INFO: cpd07053 not found in model!\n",
      "1717434843.1893575 WARNING: cpd07053: could not find metabolite for cpd07053\n",
      "1717434878.4045706 INFO: cpd04945 not found in model!\n",
      "1717434878.406089 WARNING: cpd04945: could not find metabolite for cpd04945\n",
      "1717434914.836782 INFO: cpd35610 not found in model!\n",
      "1717434914.839496 WARNING: cpd35610: could not find metabolite for cpd35610\n",
      "1717435075.467624 INFO: cpd07053 not found in model!\n",
      "1717435075.4692512 WARNING: cpd07053: could not find metabolite for cpd07053\n",
      "1717435116.7315574 INFO: cpd04945 not found in model!\n",
      "1717435116.7332525 WARNING: cpd04945: could not find metabolite for cpd04945\n",
      "1717435151.4887793 INFO: cpd35610 not found in model!\n",
      "1717435151.8583586 INFO: cpd35610 not found in model!\n",
      "1717435151.859808 INFO: Media compound: cpd35610 not found in model.\n",
      "/opt/env/python3_10_modelseed/lib/python3.10/site-packages/cobra/util/solver.py:554: UserWarning: Solver status is 'infeasible'.\n",
      "  warn(f\"Solver status is '{status}'.\", UserWarning)\n",
      "1717435266.8735406 INFO: cpd07053 not found in model!\n",
      "1717435267.2485332 INFO: cpd07053 not found in model!\n",
      "1717435267.2494965 INFO: Media compound: cpd07053 not found in model.\n",
      "1717435298.0255628 INFO: cpd04945 not found in model!\n",
      "1717435298.395208 INFO: cpd04945 not found in model!\n",
      "1717435298.3961456 INFO: Media compound: cpd04945 not found in model.\n",
      "1717435332.2658288 INFO: metabolites 1023\n",
      "1717435332.653309 INFO: reactions 987\n",
      "1717435333.6896935 INFO: Default biomass: [bio1]\n",
      "1717435333.8112776 WARNING: Ignoring reaction 'rxn00062_c0' since it already exists.\n",
      "1717435334.2017217 WARNING: Ignoring reaction 'rxn00062_c0' since it already exists.\n"
     ]
    },
    {
     "name": "stdout",
     "output_type": "stream",
     "text": [
      "Getting tests from attributes\n"
     ]
    },
    {
     "name": "stderr",
     "output_type": "stream",
     "text": [
      "1717435350.7418807 INFO: cpd35610 not found in model!\n",
      "1717435350.7441225 CRITICAL: Metabolite cpd35610 not found in model\n",
      "1717435350.8120253 INFO: cpd07053 not found in model!\n",
      "1717435350.8126836 CRITICAL: Metabolite cpd07053 not found in model\n",
      "1717435350.8133886 INFO: cpd04945 not found in model!\n",
      "1717435350.8139431 CRITICAL: Metabolite cpd04945 not found in model\n"
     ]
    },
    {
     "name": "stdout",
     "output_type": "stream",
     "text": [
      "Coprobacillus.2 GF: 13235 Prob: 1507 Other: 3560\n"
     ]
    },
    {
     "name": "stderr",
     "output_type": "stream",
     "text": [
      "1717435366.8748388 INFO: Objective with gapfill database:0.0; min objective:0.01\n",
      "/opt/env/python3_10_modelseed/lib/python3.10/site-packages/cobra/util/solver.py:554: UserWarning: Solver status is 'infeasible'.\n",
      "  warn(f\"Solver status is '{status}'.\", UserWarning)\n",
      "1717435378.425712 INFO: Expansion time:Glc:1.6565162488259375\n",
      "1717435378.4273825 INFO: Filtered count:0 out of 1425\n",
      "1717435379.9637685 INFO: Expansion time:Glc.DMSO:1.5351816890761256\n",
      "1717435379.966543 INFO: Filtered count:0 out of 1425\n",
      "1717435381.4870255 INFO: Expansion time:Glc.O2:1.5192531500943005\n",
      "1717435381.4882705 INFO: Filtered count:0 out of 1425\n",
      "1717435383.0047379 INFO: Expansion time:Glc.TMAO:1.5154790608212352\n",
      "1717435383.0059717 INFO: Filtered count:0 out of 1425\n",
      "1717435384.0736837 INFO: Expansion time:empty:1.0667165727354586\n",
      "1717435384.0749207 INFO: Filtered count:0 out of 1425\n",
      "1717435384.6038198 INFO: cpd35610 not found in model!\n",
      "1717435384.6052606 WARNING: cpd35610: could not find metabolite for cpd35610\n",
      "1717435462.8845863 INFO: cpd07053 not found in model!\n",
      "1717435462.8882105 WARNING: cpd07053: could not find metabolite for cpd07053\n",
      "1717435481.2607882 INFO: cpd04945 not found in model!\n",
      "1717435481.262525 WARNING: cpd04945: could not find metabolite for cpd04945\n",
      "1717435507.9581857 INFO: cpd35610 not found in model!\n",
      "1717435507.9599283 WARNING: cpd35610: could not find metabolite for cpd35610\n",
      "1717435591.358934 INFO: cpd07053 not found in model!\n",
      "1717435591.3622406 WARNING: cpd07053: could not find metabolite for cpd07053\n",
      "1717435617.7745934 INFO: cpd04945 not found in model!\n",
      "1717435617.7766447 WARNING: cpd04945: could not find metabolite for cpd04945\n",
      "1717435637.2084124 INFO: cpd35610 not found in model!\n",
      "1717435637.609844 INFO: cpd35610 not found in model!\n",
      "1717435637.6108284 INFO: Media compound: cpd35610 not found in model.\n",
      "1717435730.6676893 INFO: cpd07053 not found in model!\n",
      "1717435731.071026 INFO: cpd07053 not found in model!\n",
      "1717435731.072145 INFO: Media compound: cpd07053 not found in model.\n",
      "1717435755.7646415 INFO: cpd04945 not found in model!\n",
      "1717435756.1598253 INFO: cpd04945 not found in model!\n",
      "1717435756.1608272 INFO: Media compound: cpd04945 not found in model.\n",
      "1717435783.2211945 INFO: metabolites 944\n",
      "1717435783.5742009 INFO: reactions 926\n",
      "1717435784.5203793 INFO: Default biomass: [bio1]\n",
      "1717435784.6306088 WARNING: Ignoring reaction 'rxn00062_c0' since it already exists.\n",
      "1717435785.0180683 WARNING: Ignoring reaction 'rxn00062_c0' since it already exists.\n"
     ]
    },
    {
     "name": "stdout",
     "output_type": "stream",
     "text": [
      "Getting tests from attributes\n"
     ]
    },
    {
     "name": "stderr",
     "output_type": "stream",
     "text": [
      "1717435807.6888952 INFO: cpd35610 not found in model!\n",
      "1717435807.6904674 CRITICAL: Metabolite cpd35610 not found in model\n",
      "1717435807.75709 INFO: cpd07053 not found in model!\n",
      "1717435807.7580812 CRITICAL: Metabolite cpd07053 not found in model\n",
      "1717435807.7591333 INFO: cpd04945 not found in model!\n",
      "1717435807.7601657 CRITICAL: Metabolite cpd04945 not found in model\n"
     ]
    },
    {
     "name": "stdout",
     "output_type": "stream",
     "text": [
      "Turicibacter.1 GF: 13325 Prob: 1311 Other: 3664\n"
     ]
    },
    {
     "name": "stderr",
     "output_type": "stream",
     "text": [
      "1717435823.8658798 INFO: Objective with gapfill database:0.0; min objective:0.01\n",
      "/opt/env/python3_10_modelseed/lib/python3.10/site-packages/cobra/util/solver.py:554: UserWarning: Solver status is 'infeasible'.\n",
      "  warn(f\"Solver status is '{status}'.\", UserWarning)\n",
      "1717435834.792202 INFO: Expansion time:Glc:1.0514609622769058\n",
      "1717435834.793502 INFO: Filtered count:0 out of 1328\n",
      "1717435835.846928 INFO: Expansion time:Glc.DMSO:1.0523074781522155\n",
      "1717435835.8482118 INFO: Filtered count:0 out of 1328\n",
      "1717435836.9088435 INFO: Expansion time:Glc.O2:1.0594956488348544\n",
      "1717435836.9100623 INFO: Filtered count:0 out of 1328\n",
      "1717435837.9532228 INFO: Expansion time:Glc.TMAO:1.0421919701620936\n",
      "1717435837.954417 INFO: Filtered count:0 out of 1328\n",
      "1717435838.9612947 INFO: Expansion time:Pyr:1.005914862267673\n",
      "1717435838.962409 INFO: Filtered count:0 out of 1328\n",
      "1717435839.9652572 INFO: Expansion time:Pyr.DMSO:1.0017666923813522\n",
      "1717435839.9664528 INFO: Filtered count:0 out of 1328\n",
      "1717435840.9710226 INFO: Expansion time:Pyr.NO:1.003485024906695\n",
      "1717435840.972246 INFO: Filtered count:0 out of 1328\n",
      "1717435841.9990797 INFO: Expansion time:Pyr.NO2:1.025866912677884\n",
      "1717435842.0001934 INFO: Filtered count:0 out of 1328\n",
      "1717435843.0361607 INFO: Expansion time:Pyr.NO3:1.0349972350522876\n",
      "1717435843.0374603 INFO: Filtered count:0 out of 1328\n",
      "1717435844.0524702 INFO: Expansion time:Pyr.O2:1.014032845851034\n",
      "1717435844.0536609 INFO: Filtered count:0 out of 1328\n",
      "1717435845.0831504 INFO: Expansion time:Pyr.SO3:1.0284583400934935\n",
      "1717435845.0843854 INFO: Filtered count:0 out of 1328\n",
      "1717435846.0879676 INFO: Expansion time:Pyr.SO4:1.0026143193244934\n",
      "1717435846.0890064 INFO: Filtered count:0 out of 1328\n",
      "1717435847.1274898 INFO: Expansion time:Pyr.TMAO:1.0375144802965224\n",
      "1717435847.1288528 INFO: Filtered count:0 out of 1328\n",
      "1717435848.1585224 INFO: Expansion time:empty:1.0285787852481008\n",
      "1717435848.1596415 INFO: Filtered count:0 out of 1328\n",
      "1717435848.6788824 INFO: cpd35610 not found in model!\n",
      "1717435848.6801364 WARNING: cpd35610: could not find metabolite for cpd35610\n",
      "1717435921.505462 INFO: cpd07053 not found in model!\n",
      "1717435921.5071855 WARNING: cpd07053: could not find metabolite for cpd07053\n",
      "1717435940.8056567 INFO: cpd04945 not found in model!\n",
      "1717435940.808507 WARNING: cpd04945: could not find metabolite for cpd04945\n",
      "1717435956.4685483 INFO: cpd35610 not found in model!\n",
      "1717435956.4699907 WARNING: cpd35610: could not find metabolite for cpd35610\n",
      "1717436048.625839 INFO: cpd07053 not found in model!\n",
      "1717436048.6291628 WARNING: cpd07053: could not find metabolite for cpd07053\n",
      "1717436076.4879003 INFO: cpd04945 not found in model!\n",
      "1717436076.4894576 WARNING: cpd04945: could not find metabolite for cpd04945\n",
      "1717436099.2743723 INFO: cpd35610 not found in model!\n",
      "1717436099.67188 INFO: cpd35610 not found in model!\n",
      "1717436099.6728349 INFO: Media compound: cpd35610 not found in model.\n",
      "1717436189.9485097 INFO: cpd07053 not found in model!\n",
      "1717436190.3428078 INFO: cpd07053 not found in model!\n",
      "1717436190.3437634 INFO: Media compound: cpd07053 not found in model.\n",
      "1717436219.218089 INFO: cpd04945 not found in model!\n",
      "1717436219.6137717 INFO: cpd04945 not found in model!\n",
      "1717436219.6149414 INFO: Media compound: cpd04945 not found in model.\n",
      "1717436244.914656 INFO: metabolites 959\n",
      "1717436245.2659938 INFO: reactions 893\n",
      "1717436246.1688564 INFO: Default biomass: [bio1]\n",
      "1717436246.2692163 WARNING: Ignoring reaction 'rxn00062_c0' since it already exists.\n",
      "1717436246.6502092 WARNING: Ignoring reaction 'rxn00062_c0' since it already exists.\n"
     ]
    },
    {
     "name": "stdout",
     "output_type": "stream",
     "text": [
      "Getting tests from attributes\n"
     ]
    },
    {
     "name": "stderr",
     "output_type": "stream",
     "text": [
      "1717436262.6060534 INFO: cpd35610 not found in model!\n",
      "1717436262.608136 CRITICAL: Metabolite cpd35610 not found in model\n",
      "1717436262.673923 INFO: cpd07053 not found in model!\n",
      "1717436262.6747806 CRITICAL: Metabolite cpd07053 not found in model\n",
      "1717436262.6757884 INFO: cpd04945 not found in model!\n",
      "1717436262.6767087 CRITICAL: Metabolite cpd04945 not found in model\n"
     ]
    },
    {
     "name": "stdout",
     "output_type": "stream",
     "text": [
      "Akkermansia.2 GF: 13478 Prob: 1412 Other: 3414\n"
     ]
    },
    {
     "name": "stderr",
     "output_type": "stream",
     "text": [
      "1717436278.5580242 INFO: Objective with gapfill database:0.0; min objective:0.01\n",
      "/opt/env/python3_10_modelseed/lib/python3.10/site-packages/cobra/util/solver.py:554: UserWarning: Solver status is 'infeasible'.\n",
      "  warn(f\"Solver status is '{status}'.\", UserWarning)\n",
      "1717436289.8239102 INFO: Expansion time:Dlac.O2:1.3332483610138297\n",
      "1717436289.825152 INFO: Filtered count:0 out of 1263\n",
      "1717436291.1947901 INFO: Expansion time:Etho.O2:1.3686720351688564\n",
      "1717436291.1962035 INFO: Filtered count:0 out of 1263\n",
      "1717436292.6260722 INFO: Expansion time:Glc:1.428851988632232\n",
      "1717436292.6273162 INFO: Filtered count:0 out of 1263\n"
     ]
    },
    {
     "name": "stdout",
     "output_type": "stream",
     "text": [
      "Failed:>rxn00062_c0\n"
     ]
    },
    {
     "name": "stderr",
     "output_type": "stream",
     "text": [
      "1717436297.1786375 INFO: Expansion time:Glc.DMSO:4.5502820131368935\n",
      "1717436297.180253 INFO: Filtered count:1 out of 1263\n",
      "1717436298.2017004 INFO: Expansion time:Glc.O2:1.0206078570336103\n",
      "1717436298.2028656 INFO: Filtered count:1 out of 1263\n",
      "1717436299.2094316 INFO: Expansion time:Glc.TMAO:1.0056018540635705\n",
      "1717436299.2104702 INFO: Filtered count:1 out of 1263\n",
      "1717436300.2644737 INFO: Expansion time:Pyr.O2:1.0529113258235157\n",
      "1717436300.265728 INFO: Filtered count:1 out of 1263\n",
      "1717436301.2952406 INFO: Expansion time:empty:1.0284690437838435\n",
      "1717436301.296353 INFO: Filtered count:1 out of 1263\n",
      "1717436301.818615 INFO: cpd35610 not found in model!\n",
      "1717436301.8196242 WARNING: cpd35610: could not find metabolite for cpd35610\n",
      "1717436415.4501622 INFO: cpd07053 not found in model!\n",
      "1717436415.4533732 WARNING: cpd07053: could not find metabolite for cpd07053\n",
      "1717436440.6019719 INFO: cpd04945 not found in model!\n",
      "1717436440.6035202 WARNING: cpd04945: could not find metabolite for cpd04945\n",
      "1717436469.701995 INFO: cpd35610 not found in model!\n",
      "1717436469.703614 WARNING: cpd35610: could not find metabolite for cpd35610\n",
      "1717436570.3033733 INFO: cpd07053 not found in model!\n",
      "1717436570.3050475 WARNING: cpd07053: could not find metabolite for cpd07053\n",
      "1717436593.6183112 INFO: cpd04945 not found in model!\n",
      "1717436593.6198921 WARNING: cpd04945: could not find metabolite for cpd04945\n",
      "1717436618.6918538 INFO: cpd35610 not found in model!\n",
      "1717436619.0913713 INFO: cpd35610 not found in model!\n",
      "1717436619.0926654 INFO: Media compound: cpd35610 not found in model.\n",
      "1717436754.3674116 INFO: cpd07053 not found in model!\n",
      "1717436754.7671347 INFO: cpd07053 not found in model!\n",
      "1717436754.7681386 INFO: Media compound: cpd07053 not found in model.\n",
      "1717436788.8285255 INFO: cpd04945 not found in model!\n",
      "1717436789.2260244 INFO: cpd04945 not found in model!\n",
      "1717436789.2269447 INFO: Media compound: cpd04945 not found in model.\n",
      "1717436824.3466158 INFO: metabolites 1204\n",
      "1717436824.8740191 INFO: reactions 1242\n",
      "1717436826.1224253 INFO: Default biomass: [bio1]\n",
      "1717436826.2622693 WARNING: Ignoring reaction 'rxn00062_c0' since it already exists.\n",
      "1717436826.660466 WARNING: Ignoring reaction 'rxn00062_c0' since it already exists.\n"
     ]
    },
    {
     "name": "stdout",
     "output_type": "stream",
     "text": [
      "Getting tests from attributes\n"
     ]
    },
    {
     "name": "stderr",
     "output_type": "stream",
     "text": [
      "1717436842.895048 INFO: cpd35610 not found in model!\n",
      "1717436842.8966403 CRITICAL: Metabolite cpd35610 not found in model\n",
      "1717436842.9625928 INFO: cpd07053 not found in model!\n",
      "1717436842.9635413 CRITICAL: Metabolite cpd07053 not found in model\n",
      "1717436842.9646006 INFO: cpd04945 not found in model!\n",
      "1717436842.9654818 CRITICAL: Metabolite cpd04945 not found in model\n"
     ]
    },
    {
     "name": "stdout",
     "output_type": "stream",
     "text": [
      "Actinomyces.1 GF: 12886 Prob: 2021 Other: 3395\n"
     ]
    },
    {
     "name": "stderr",
     "output_type": "stream",
     "text": [
      "1717436866.57218 INFO: Objective with gapfill database:205.4102496136606; min objective:0.01\n",
      "1717436876.4129908 INFO: cpd35610 not found in model!\n",
      "1717436876.414453 WARNING: cpd35610: could not find metabolite for cpd35610\n",
      "1717436999.8801022 INFO: cpd07053 not found in model!\n",
      "1717436999.8831823 WARNING: cpd07053: could not find metabolite for cpd07053\n",
      "1717437036.1824222 INFO: cpd04945 not found in model!\n",
      "1717437036.1838968 WARNING: cpd04945: could not find metabolite for cpd04945\n",
      "1717437075.9407833 INFO: cpd35610 not found in model!\n",
      "1717437075.9423735 WARNING: cpd35610: could not find metabolite for cpd35610\n",
      "1717437231.7780588 INFO: cpd07053 not found in model!\n",
      "1717437231.7812293 WARNING: cpd07053: could not find metabolite for cpd07053\n",
      "1717437273.7954123 INFO: cpd04945 not found in model!\n",
      "1717437273.7989922 WARNING: cpd04945: could not find metabolite for cpd04945\n",
      "1717437317.0781941 INFO: cpd35610 not found in model!\n",
      "1717437317.4529033 INFO: cpd35610 not found in model!\n",
      "1717437317.453863 INFO: Media compound: cpd35610 not found in model.\n",
      "/opt/env/python3_10_modelseed/lib/python3.10/site-packages/cobra/util/solver.py:554: UserWarning: Solver status is 'infeasible'.\n",
      "  warn(f\"Solver status is '{status}'.\", UserWarning)\n",
      "1717437418.0532298 INFO: cpd07053 not found in model!\n",
      "1717437418.428515 INFO: cpd07053 not found in model!\n",
      "1717437418.4294944 INFO: Media compound: cpd07053 not found in model.\n",
      "1717437454.0132697 INFO: cpd04945 not found in model!\n",
      "1717437454.3862567 INFO: cpd04945 not found in model!\n",
      "1717437454.3872786 INFO: Media compound: cpd04945 not found in model.\n",
      "1717437478.7015815 INFO: metabolites 1226\n",
      "1717437479.2223504 INFO: reactions 1201\n",
      "1717437480.4757023 INFO: Default biomass: [bio1]\n",
      "1717437480.6296291 WARNING: Ignoring reaction 'rxn00062_c0' since it already exists.\n",
      "1717437481.0301478 WARNING: Ignoring reaction 'rxn00062_c0' since it already exists.\n"
     ]
    },
    {
     "name": "stdout",
     "output_type": "stream",
     "text": [
      "Getting tests from attributes\n"
     ]
    },
    {
     "name": "stderr",
     "output_type": "stream",
     "text": [
      "1717437497.3052354 INFO: cpd35610 not found in model!\n",
      "1717437497.3068116 CRITICAL: Metabolite cpd35610 not found in model\n",
      "1717437497.3728998 INFO: cpd07053 not found in model!\n",
      "1717437497.373753 CRITICAL: Metabolite cpd07053 not found in model\n",
      "1717437497.3747528 INFO: cpd04945 not found in model!\n",
      "1717437497.3757586 CRITICAL: Metabolite cpd04945 not found in model\n"
     ]
    },
    {
     "name": "stdout",
     "output_type": "stream",
     "text": [
      "Campylobacter.1 GF: 13006 Prob: 1973 Other: 3325\n"
     ]
    },
    {
     "name": "stderr",
     "output_type": "stream",
     "text": [
      "1717437513.1225302 INFO: Objective with gapfill database:0.0; min objective:0.01\n",
      "/opt/env/python3_10_modelseed/lib/python3.10/site-packages/cobra/util/solver.py:554: UserWarning: Solver status is 'infeasible'.\n",
      "  warn(f\"Solver status is '{status}'.\", UserWarning)\n",
      "1717437523.9442616 INFO: Expansion time:Ac.O2:1.1878769779577851\n",
      "1717437523.945569 INFO: Filtered count:0 out of 1721\n",
      "1717437525.1052022 INFO: Expansion time:Akg.O2:1.1586439129896462\n",
      "1717437525.1064003 INFO: Filtered count:0 out of 1721\n",
      "1717437526.2579648 INFO: Expansion time:Etho.O2:1.1505886181257665\n",
      "1717437526.2592497 INFO: Filtered count:0 out of 1721\n",
      "1717437527.4149044 INFO: Expansion time:For.O2:1.1545578427612782\n",
      "1717437527.416105 INFO: Filtered count:0 out of 1721\n",
      "1717437528.6126602 INFO: Expansion time:Fum:1.195548656862229\n",
      "1717437528.6139927 INFO: Filtered count:0 out of 1721\n",
      "1717437529.7816255 INFO: Expansion time:Fum.O2:1.16663174983114\n",
      "1717437529.7828364 INFO: Filtered count:0 out of 1721\n",
      "1717437530.9354947 INFO: Expansion time:Glc:1.1515112407505512\n",
      "1717437530.9366963 INFO: Filtered count:0 out of 1721\n",
      "1717437532.097976 INFO: Expansion time:Glc.DMSO:1.1602954170666635\n",
      "1717437532.0990975 INFO: Filtered count:0 out of 1721\n",
      "1717437533.2664006 INFO: Expansion time:Glc.O2:1.166219675913453\n",
      "1717437533.267639 INFO: Filtered count:0 out of 1721\n",
      "1717437534.4363 INFO: Expansion time:Glc.TMAO:1.167650988791138\n",
      "1717437534.4377136 INFO: Filtered count:0 out of 1721\n",
      "1717437535.5728648 INFO: Expansion time:Glyc.O2:1.1342371408827603\n",
      "1717437535.5739987 INFO: Filtered count:0 out of 1721\n",
      "1717437536.7344704 INFO: Expansion time:LLac.O2:1.1593682281672955\n",
      "1717437536.7356188 INFO: Filtered count:0 out of 1721\n",
      "1717437537.9099035 INFO: Expansion time:Pyr:1.1732898699119687\n",
      "1717437537.9111302 INFO: Filtered count:0 out of 1721\n",
      "1717437547.1075652 INFO: Expansion time:Pyr.DMSO:9.19528817012906\n",
      "1717437547.1089606 INFO: Filtered count:0 out of 1721\n",
      "1717437548.270138 INFO: Expansion time:Pyr.NO:1.1601191028021276\n",
      "1717437548.2713163 INFO: Filtered count:0 out of 1721\n",
      "1717437549.442779 INFO: Expansion time:Pyr.NO2:1.1704641110263765\n",
      "1717437549.4440866 INFO: Filtered count:0 out of 1721\n",
      "1717437550.5976455 INFO: Expansion time:Pyr.NO3:1.1522772749885917\n",
      "1717437550.5988846 INFO: Filtered count:0 out of 1721\n",
      "1717437551.731261 INFO: Expansion time:Pyr.O2:1.131411072332412\n",
      "1717437551.7337577 INFO: Filtered count:0 out of 1721\n",
      "1717437552.8695724 INFO: Expansion time:Pyr.SO3:1.1345595922321081\n",
      "1717437552.8711083 INFO: Filtered count:0 out of 1721\n",
      "1717437554.0138335 INFO: Expansion time:Pyr.SO4:1.1418883679434657\n",
      "1717437554.0154984 INFO: Filtered count:0 out of 1721\n",
      "1717437555.1934428 INFO: Expansion time:Pyr.TMAO:1.1769660669378936\n",
      "1717437555.1946785 INFO: Filtered count:0 out of 1721\n",
      "1717437556.3614192 INFO: Expansion time:empty:1.1656789481639862\n",
      "1717437556.3625464 INFO: Filtered count:0 out of 1721\n",
      "1717437556.8686075 INFO: cpd35610 not found in model!\n",
      "1717437556.869618 WARNING: cpd35610: could not find metabolite for cpd35610\n",
      "1717437611.0213778 INFO: cpd07053 not found in model!\n",
      "1717437611.023837 WARNING: cpd07053: could not find metabolite for cpd07053\n",
      "1717437633.6886606 INFO: cpd04945 not found in model!\n",
      "1717437633.6902654 WARNING: cpd04945: could not find metabolite for cpd04945\n",
      "1717437647.921029 INFO: cpd35610 not found in model!\n",
      "1717437647.9225383 WARNING: cpd35610: could not find metabolite for cpd35610\n",
      "1717437718.6194034 INFO: cpd07053 not found in model!\n",
      "1717437718.622464 WARNING: cpd07053: could not find metabolite for cpd07053\n",
      "1717437745.2231596 INFO: cpd04945 not found in model!\n",
      "1717437745.2247157 WARNING: cpd04945: could not find metabolite for cpd04945\n",
      "1717437763.8864024 INFO: cpd35610 not found in model!\n",
      "1717437764.2989593 INFO: cpd35610 not found in model!\n",
      "1717437764.299934 INFO: Media compound: cpd35610 not found in model.\n",
      "1717437851.6124566 INFO: cpd07053 not found in model!\n",
      "1717437852.0267031 INFO: cpd07053 not found in model!\n",
      "1717437852.027593 INFO: Media compound: cpd07053 not found in model.\n",
      "1717437873.230634 INFO: cpd04945 not found in model!\n",
      "1717437873.6476376 INFO: cpd04945 not found in model!\n",
      "1717437873.6486304 INFO: Media compound: cpd04945 not found in model.\n",
      "1717437897.1548884 INFO: metabolites 1620\n",
      "1717437898.0030613 INFO: reactions 1736\n",
      "1717437899.9383943 INFO: Default biomass: [bio1]\n",
      "1717437900.1859672 WARNING: Ignoring reaction 'rxn00062_c0' since it already exists.\n",
      "1717437900.6391454 WARNING: Ignoring reaction 'rxn00062_c0' since it already exists.\n"
     ]
    },
    {
     "name": "stdout",
     "output_type": "stream",
     "text": [
      "Getting tests from attributes\n"
     ]
    },
    {
     "name": "stderr",
     "output_type": "stream",
     "text": [
      "1717437917.6588788 INFO: cpd35610 not found in model!\n",
      "1717437917.6618903 CRITICAL: Metabolite cpd35610 not found in model\n",
      "1717437917.7288938 INFO: cpd07053 not found in model!\n",
      "1717437917.7298574 CRITICAL: Metabolite cpd07053 not found in model\n",
      "1717437917.7308605 INFO: cpd04945 not found in model!\n",
      "1717437917.7317574 CRITICAL: Metabolite cpd04945 not found in model\n"
     ]
    },
    {
     "name": "stdout",
     "output_type": "stream",
     "text": [
      "Clostridium.23 GF: 12152 Prob: 2979 Other: 3173\n"
     ]
    },
    {
     "name": "stderr",
     "output_type": "stream",
     "text": [
      "1717437934.819499 INFO: Objective with gapfill database:0.0; min objective:0.01\n",
      "/opt/env/python3_10_modelseed/lib/python3.10/site-packages/cobra/util/solver.py:554: UserWarning: Solver status is 'infeasible'.\n",
      "  warn(f\"Solver status is '{status}'.\", UserWarning)\n",
      "1717437945.4449437 INFO: Expansion time:Ac.NO:1.5650275172665715\n",
      "1717437945.4462986 INFO: Filtered count:0 out of 2546\n",
      "1717437946.9105113 INFO: Expansion time:Ac.NO2:1.4631731370463967\n",
      "1717437946.9117088 INFO: Filtered count:0 out of 2546\n",
      "1717437948.3729675 INFO: Expansion time:Ac.O2:1.4602553131990135\n",
      "1717437948.37423 INFO: Filtered count:0 out of 2546\n",
      "1717437949.840287 INFO: Expansion time:Dlac:1.465016908943653\n",
      "1717437949.8416128 INFO: Filtered count:0 out of 2546\n",
      "1717437951.2913346 INFO: Expansion time:Dlac.O2:1.4486047280952334\n",
      "1717437951.2929082 INFO: Filtered count:0 out of 2546\n",
      "1717437952.7531984 INFO: Expansion time:Etho.O2:1.4594875578768551\n",
      "1717437952.7543721 INFO: Filtered count:0 out of 2546\n",
      "1717437954.2144532 INFO: Expansion time:For.NO2:1.4590340619906783\n",
      "1717437954.2156422 INFO: Filtered count:0 out of 2546\n",
      "1717437955.6628833 INFO: Expansion time:For.O2:1.4461816782131791\n",
      "1717437955.6642358 INFO: Filtered count:0 out of 2546\n",
      "1717437957.1193757 INFO: Expansion time:Fum:1.4541583159007132\n",
      "1717437957.1205254 INFO: Filtered count:0 out of 2546\n",
      "1717437967.296005 INFO: Expansion time:Fum.O2:10.17451870907098\n",
      "1717437967.297423 INFO: Filtered count:0 out of 2546\n",
      "1717437968.7410135 INFO: Expansion time:Glc:1.4425812638364732\n",
      "1717437968.7422473 INFO: Filtered count:0 out of 2546\n",
      "1717437970.1574 INFO: Expansion time:Glc.DMSO:1.4141497663222253\n",
      "1717437970.1586797 INFO: Filtered count:0 out of 2546\n",
      "1717437971.6335733 INFO: Expansion time:Glc.O2:1.4738580519333482\n",
      "1717437971.6349196 INFO: Filtered count:0 out of 2546\n",
      "1717437973.0500572 INFO: Expansion time:Glc.TMAO:1.4139792798087\n",
      "1717437973.0512853 INFO: Filtered count:0 out of 2546\n",
      "1717437974.4388418 INFO: Expansion time:Glyc:1.3865545690059662\n",
      "1717437974.4402962 INFO: Filtered count:0 out of 2546\n",
      "1717437975.8879154 INFO: Expansion time:Glyc.O2:1.4465917591005564\n",
      "1717437975.8891714 INFO: Filtered count:0 out of 2546\n",
      "1717437977.3745303 INFO: Expansion time:LLac.O2:1.484241969883442\n",
      "1717437977.3762867 INFO: Filtered count:0 out of 2546\n",
      "1717437978.817677 INFO: Expansion time:LLac.SO4:1.4405832323245704\n",
      "1717437978.8189027 INFO: Filtered count:0 out of 2546\n",
      "1717437980.301251 INFO: Expansion time:LLac.SO4.H2:1.4813299318775535\n",
      "1717437980.3038247 INFO: Filtered count:0 out of 2546\n",
      "1717437981.7766795 INFO: Expansion time:Llac:1.4717208659276366\n",
      "1717437981.7779694 INFO: Filtered count:0 out of 2546\n",
      "1717437983.2101705 INFO: Expansion time:Pyr:1.4311146377585828\n",
      "1717437983.2119062 INFO: Filtered count:0 out of 2546\n",
      "1717437984.663522 INFO: Expansion time:Pyr.DMSO:1.4504978340119123\n",
      "1717437984.6648147 INFO: Filtered count:0 out of 2546\n",
      "1717437986.123644 INFO: Expansion time:Pyr.NO:1.4578312109224498\n",
      "1717437986.1251917 INFO: Filtered count:0 out of 2546\n",
      "1717437987.6132486 INFO: Expansion time:Pyr.NO2:1.4872879232279956\n",
      "1717437987.6143005 INFO: Filtered count:0 out of 2546\n",
      "1717437989.0629337 INFO: Expansion time:Pyr.NO3:1.447941998951137\n",
      "1717437989.0648432 INFO: Filtered count:0 out of 2546\n",
      "1717437990.5010855 INFO: Expansion time:Pyr.O2:1.4353639651089907\n",
      "1717437990.5023417 INFO: Filtered count:0 out of 2546\n",
      "1717437991.951323 INFO: Expansion time:Pyr.SO3:1.4479654389433563\n",
      "1717437991.9531057 INFO: Filtered count:0 out of 2546\n",
      "1717437993.4256773 INFO: Expansion time:Pyr.SO4:1.4717367920093238\n",
      "1717437993.4269547 INFO: Filtered count:0 out of 2546\n",
      "1717437994.8887858 INFO: Expansion time:Pyr.TMAO:1.460636069998145\n",
      "1717437994.8900692 INFO: Filtered count:0 out of 2546\n",
      "1717437996.3206575 INFO: Expansion time:empty:1.429414879065007\n",
      "1717437996.321911 INFO: Filtered count:0 out of 2546\n",
      "1717437996.8084557 INFO: cpd35610 not found in model!\n",
      "1717437996.8095539 WARNING: cpd35610: could not find metabolite for cpd35610\n",
      "1717438038.070149 INFO: cpd07053 not found in model!\n",
      "1717438038.0718644 WARNING: cpd07053: could not find metabolite for cpd07053\n",
      "1717438056.6495671 INFO: cpd04945 not found in model!\n",
      "1717438056.651627 WARNING: cpd04945: could not find metabolite for cpd04945\n",
      "1717438066.8358614 INFO: cpd35610 not found in model!\n",
      "1717438066.8373313 WARNING: cpd35610: could not find metabolite for cpd35610\n"
     ]
    }
   ],
   "source": [
    "%run agoracommutil.py\n",
    "procid = 0\n",
    "metabolites = util.load(\"metabolites\")\n",
    "feature_probabilities = util.load(\"feature_probabilities\")\n",
    "asvset_genomes = util.load(\"asvset_genomes\")\n",
    "asvset_names = util.load(\"asvset_names\")\n",
    "gf_phenotype_results = util.load(\"gf_phenotype_results_\"+str(procid),{})\n",
    "probability_finished = util.load(\"probability_finished_\"+str(procid),[])\n",
    "\n",
    "auxo_media = util.msrecon.get_media(\"181152/AuxoMedia\")\n",
    "agmm_base_media = util.msrecon.get_media(\"181152/BaseAnaerobicMM\")\n",
    "gmm_base_media = util.msrecon.get_media(\"181152/BaseAerobicMM\")\n",
    "uptake_phenoset = util.create_phenotypeset_from_compounds(\n",
    "    metabolites,\n",
    "    base_media=auxo_media,\n",
    "    base_uptake=0,\n",
    "    base_excretion=1000,\n",
    "    global_atom_limits={},\n",
    "    type=\"uptake\"\n",
    ")\n",
    "excretion_phenoset = util.create_phenotypeset_from_compounds(\n",
    "    metabolites,\n",
    "    base_media=auxo_media,\n",
    "    base_uptake=0,\n",
    "    base_excretion=1000,\n",
    "    global_atom_limits={},\n",
    "    type=\"excretion\"\n",
    ")\n",
    "growth_phenoset = util.create_phenotypeset_from_compounds(\n",
    "    metabolites,\n",
    "    base_media=gmm_base_media,\n",
    "    base_uptake=0,\n",
    "    base_excretion=1000,\n",
    "    global_atom_limits={},\n",
    "    type=\"growth\"\n",
    ")\n",
    "phenosets = {\"uptake\":uptake_phenoset,\"excretion\":excretion_phenoset,\"growth\":growth_phenoset}\n",
    "\n",
    "asvset_list = list(asvset_genomes.keys())\n",
    "for i,asvset in enumerate(asvset_list):\n",
    "    if i%8 == procid:\n",
    "        asvname = asvset_names[asvset]\n",
    "        if asvname not in probability_finished and asvname != \"Thermus.1\":\n",
    "            mdlutl = util.msrecon.get_model(asvname+\".ASV.mdl\",181152)\n",
    "\n",
    "            reaction_probabilities = {}\n",
    "            for rxn in mdlutl.model.reactions:\n",
    "                highest_prob = None\n",
    "                for gene in rxn.genes:\n",
    "                    if gene.id in feature_probabilities:\n",
    "                        if highest_prob == None or feature_probabilities[gene.id] > highest_prob:\n",
    "                            highest_prob = feature_probabilities[gene.id]\n",
    "                if highest_prob != None:\n",
    "                    rxn.probability = highest_prob\n",
    "                    reaction_probabilities[rxn.id] = highest_prob\n",
    "\n",
    "            filters = mdlutl.get_attributes(\"gf_filter\")\n",
    "            tests = mdlutl.get_atp_tests(core_template=util.msrecon.core_template,atp_media_filename=util.msrecon.module_dir+\"/data/atp_medias.tsv\",recompute=False)\n",
    "            msgapfill = MSGapfill(\n",
    "                mdlutl,\n",
    "                [util.msrecon.get_template(mdlutl.model.template_ref)],\n",
    "                [],\n",
    "                tests,\n",
    "                blacklist=[],\n",
    "                default_target=\"bio1\",\n",
    "                minimum_obj=0.01,\n",
    "                base_media=None,\n",
    "                base_media_target_element=None\n",
    "            )\n",
    "\n",
    "            #Adding missing transporter for metabolites to gapfilling database\n",
    "            for cpd in metabolites:\n",
    "                if \"EX_\"+cpd+\"_e0\" not in msgapfill.gfmodelutl.model.reactions:\n",
    "                    transport = msgapfill.gfmodelutl.add_transport_and_exchange_for_metabolite(cpd,direction=\"=\",prefix=\"trans\",override=False)\n",
    "\n",
    "            coefficients = {}\n",
    "            gf_penalties = msgapfill.gfpkgmgr.getpkg(\"GapfillingPkg\").gapfilling_penalties\n",
    "            gfrxn = 0\n",
    "            probrxn = 0\n",
    "            otherrxn = 0\n",
    "            for reaction in msgapfill.gfmodelutl.model.reactions:\n",
    "                if reaction.id in gf_penalties:\n",
    "                    if \"forward\" in gf_penalties[reaction.id]:\n",
    "                        gfrxn += 1\n",
    "                        coefficients[\">\"+reaction.id] = 1+gf_penalties[reaction.id][\"forward\"]\n",
    "                    elif reaction.id in reaction_probabilities:\n",
    "                        probrxn += 1\n",
    "                        coefficients[\">\"+reaction.id] = 1-reaction_probabilities[reaction.id]\n",
    "                    else:\n",
    "                        otherrxn += 1\n",
    "                        coefficients[\">\"+reaction.id] = 0.95\n",
    "                    if \"reverse\" in gf_penalties[reaction.id]:\n",
    "                        gfrxn += 1\n",
    "                        coefficients[\"<\"+reaction.id] = 1+gf_penalties[reaction.id][\"reverse\"]\n",
    "                    elif reaction.id in reaction_probabilities:\n",
    "                        probrxn += 1\n",
    "                        coefficients[\"<\"+reaction.id] = 1-reaction_probabilities[reaction.id]\n",
    "                    else:\n",
    "                        otherrxn += 1\n",
    "                        coefficients[\"<\"+reaction.id] = 0.95\n",
    "                elif reaction.id in reaction_probabilities:\n",
    "                    probrxn += 2\n",
    "                    coefficients[\">\"+reaction.id] = 1-reaction_probabilities[reaction.id]\n",
    "                    coefficients[\"<\"+reaction.id] = 1-reaction_probabilities[reaction.id]\n",
    "                else:\n",
    "                    otherrxn += 2\n",
    "                    coefficients[\">\"+reaction.id] = 0.95\n",
    "                    coefficients[\"<\"+reaction.id] = 0.95\n",
    "            print(asvname,\"GF:\",gfrxn,\"Prob:\",probrxn,\"Other:\",otherrxn)\n",
    "\n",
    "            msgapfill.prefilter(test_conditions=tests,growth_conditions=[],use_prior_filtering=True,base_filter_only=True)\n",
    "            \n",
    "            gf_phenotype_results[asvname] = {}\n",
    "            for phenoid in phenosets:\n",
    "                gf_phenotype_results[asvname][phenoid] = {}\n",
    "                output = phenosets[phenoid].simulate_phenotypes(\n",
    "                    msgapfill.gfmodelutl,\n",
    "                    multiplier=2,\n",
    "                    add_missing_exchanges=True,\n",
    "                    save_fluxes=False,\n",
    "                    save_reaction_list=True,\n",
    "                    gapfill_negatives=False,\n",
    "                    msgapfill=None,\n",
    "                    test_conditions=None,\n",
    "                    ignore_experimental_data=True,\n",
    "                    flux_coefficients=coefficients\n",
    "                )\n",
    "                for index, row in output[\"details\"].iterrows():\n",
    "                    if \"reactions\" in output[\"data\"][row[\"Phenotype\"]]:\n",
    "                        output[\"data\"][row[\"Phenotype\"]][\"average_probability\"] = 0\n",
    "                        for rxn in output[\"data\"][row[\"Phenotype\"]][\"reactions\"]:\n",
    "                            direction = rxn[0:1]\n",
    "                            rxnid = rxn[1:]\n",
    "                            if direction == \">\":\n",
    "                                if rxnid not in gf_penalties or \"forward\" not in gf_penalties[rxnid]:\n",
    "                                    if rxnid in reaction_probabilities:\n",
    "                                        output[\"data\"][row[\"Phenotype\"]][\"average_probability\"] += reaction_probabilities[rxnid]\n",
    "                                    else:\n",
    "                                        output[\"data\"][row[\"Phenotype\"]][\"average_probability\"] += 0.05\n",
    "                            elif direction == \"<\":\n",
    "                                if rxnid not in gf_penalties or \"reverse\" not in gf_penalties[rxnid]:\n",
    "                                    if rxnid in reaction_probabilities:\n",
    "                                        output[\"data\"][row[\"Phenotype\"]][\"average_probability\"] += reaction_probabilities[rxnid]\n",
    "                                    else:\n",
    "                                        output[\"data\"][row[\"Phenotype\"]][\"average_probability\"] += 0.05\n",
    "                        output[\"data\"][row[\"Phenotype\"]][\"average_probability\"] = output[\"data\"][row[\"Phenotype\"]][\"average_probability\"]/len(output[\"data\"][row[\"Phenotype\"]][\"reactions\"])\n",
    "                    gf_phenotype_results[asvname][phenoid][row[\"Phenotype\"]] = output[\"data\"][row[\"Phenotype\"]]\n",
    "            probability_finished.append(asvname)\n",
    "            util.save(\"gf_phenotype_results_\"+str(procid),gf_phenotype_results)\n",
    "            util.save(\"probability_finished_\"+str(procid),probability_finished)"
   ]
  },
  {
   "cell_type": "code",
   "execution_count": 1,
   "metadata": {
    "collapsed": true,
    "jupyter": {
     "outputs_hidden": true,
     "source_hidden": true
    },
    "tags": []
   },
   "outputs": [
    {
     "name": "stdout",
     "output_type": "stream",
     "text": [
      "python version 3.9.13\n",
      "KBBaseModules 0.0.1\n"
     ]
    },
    {
     "name": "stderr",
     "output_type": "stream",
     "text": [
      "1717342933.626858 INFO: Note: NumExpr detected 16 cores but \"NUMEXPR_MAX_THREADS\" not set, so enforcing safe limit of 8.\n",
      "1717342933.62764 INFO: NumExpr defaulting to 8 threads.\n"
     ]
    },
    {
     "name": "stdout",
     "output_type": "stream",
     "text": [
      "modelseedpy 0.3.3\n",
      "cobrakbase 0.3.1\n",
      "Output files printed to:/Users/chenry/code/notebooks/MicrobiomeNotebooks/NewWesternDiet/nboutput when using KBDevUtils.output_dir\n",
      "ModelSEED: /Users/chenry/code//kb_sdk/run_local/workdir/tmp/\n"
     ]
    },
    {
     "name": "stderr",
     "output_type": "stream",
     "text": [
      "1717342939.0013728 INFO: metabolites 911\n",
      "1717342939.194977 INFO: reactions 862\n",
      "1717342939.780438 INFO: Default biomass: [bio1]\n",
      "1717342939.859582 WARNING: Ignoring reaction 'rxn00062_c0' since it already exists.\n",
      "1717342940.218539 WARNING: Ignoring reaction 'rxn00062_c0' since it already exists.\n"
     ]
    },
    {
     "name": "stdout",
     "output_type": "stream",
     "text": [
      "Getting tests from attributes\n"
     ]
    },
    {
     "ename": "KeyboardInterrupt",
     "evalue": "",
     "output_type": "error",
     "traceback": [
      "\u001b[0;31m---------------------------------------------------------------------------\u001b[0m",
      "\u001b[0;31mKeyboardInterrupt\u001b[0m                         Traceback (most recent call last)",
      "\u001b[0;32m/var/folders/ph/360gp1jx5zg7qyqv076prl240000gn/T/ipykernel_96288/4107714292.py\u001b[0m in \u001b[0;36m<module>\u001b[0;34m\u001b[0m\n\u001b[1;32m     20\u001b[0m msgapfill = MSGapfill(\n\u001b[1;32m     21\u001b[0m     \u001b[0mmdlutl\u001b[0m\u001b[0;34m,\u001b[0m\u001b[0;34m\u001b[0m\u001b[0;34m\u001b[0m\u001b[0m\n\u001b[0;32m---> 22\u001b[0;31m     \u001b[0;34m[\u001b[0m\u001b[0mutil\u001b[0m\u001b[0;34m.\u001b[0m\u001b[0mmsrecon\u001b[0m\u001b[0;34m.\u001b[0m\u001b[0mget_template\u001b[0m\u001b[0;34m(\u001b[0m\u001b[0mmdlutl\u001b[0m\u001b[0;34m.\u001b[0m\u001b[0mmodel\u001b[0m\u001b[0;34m.\u001b[0m\u001b[0mtemplate_ref\u001b[0m\u001b[0;34m)\u001b[0m\u001b[0;34m]\u001b[0m\u001b[0;34m,\u001b[0m\u001b[0;34m\u001b[0m\u001b[0;34m\u001b[0m\u001b[0m\n\u001b[0m\u001b[1;32m     23\u001b[0m     \u001b[0;34m[\u001b[0m\u001b[0;34m]\u001b[0m\u001b[0;34m,\u001b[0m\u001b[0;34m\u001b[0m\u001b[0;34m\u001b[0m\u001b[0m\n\u001b[1;32m     24\u001b[0m     \u001b[0mtests\u001b[0m\u001b[0;34m,\u001b[0m\u001b[0;34m\u001b[0m\u001b[0;34m\u001b[0m\u001b[0m\n",
      "\u001b[0;32m~/code//KBBaseModules/kbbasemodules/basemodelingmodule.py\u001b[0m in \u001b[0;36mget_template\u001b[0;34m(self, template_id, ws)\u001b[0m\n\u001b[1;32m    289\u001b[0m \u001b[0;34m\u001b[0m\u001b[0m\n\u001b[1;32m    290\u001b[0m     \u001b[0;32mdef\u001b[0m \u001b[0mget_template\u001b[0m\u001b[0;34m(\u001b[0m\u001b[0mself\u001b[0m\u001b[0;34m,\u001b[0m\u001b[0mtemplate_id\u001b[0m\u001b[0;34m,\u001b[0m\u001b[0mws\u001b[0m\u001b[0;34m=\u001b[0m\u001b[0;32mNone\u001b[0m\u001b[0;34m)\u001b[0m\u001b[0;34m:\u001b[0m\u001b[0;34m\u001b[0m\u001b[0;34m\u001b[0m\u001b[0m\n\u001b[0;32m--> 291\u001b[0;31m         \u001b[0mtemplate\u001b[0m \u001b[0;34m=\u001b[0m \u001b[0mself\u001b[0m\u001b[0;34m.\u001b[0m\u001b[0mkbase_api\u001b[0m\u001b[0;34m.\u001b[0m\u001b[0mget_from_ws\u001b[0m\u001b[0;34m(\u001b[0m\u001b[0mtemplate_id\u001b[0m\u001b[0;34m,\u001b[0m\u001b[0mws\u001b[0m\u001b[0;34m)\u001b[0m\u001b[0;34m\u001b[0m\u001b[0;34m\u001b[0m\u001b[0m\n\u001b[0m\u001b[1;32m    292\u001b[0m         \u001b[0;31m#template = self.kbase_api.get_object(template_id,ws)\u001b[0m\u001b[0;34m\u001b[0m\u001b[0;34m\u001b[0m\u001b[0m\n\u001b[1;32m    293\u001b[0m         \u001b[0;31m#info = self.kbase_api.get_object_info(template_id,ws)\u001b[0m\u001b[0;34m\u001b[0m\u001b[0;34m\u001b[0m\u001b[0m\n",
      "\u001b[0;32m~/code//cobrakbase/cobrakbase/kbaseapi.py\u001b[0m in \u001b[0;36mget_from_ws\u001b[0;34m(self, id_or_ref, workspace)\u001b[0m\n\u001b[1;32m    217\u001b[0m \u001b[0;34m\u001b[0m\u001b[0m\n\u001b[1;32m    218\u001b[0m     \u001b[0;32mdef\u001b[0m \u001b[0mget_from_ws\u001b[0m\u001b[0;34m(\u001b[0m\u001b[0mself\u001b[0m\u001b[0;34m,\u001b[0m \u001b[0mid_or_ref\u001b[0m\u001b[0;34m,\u001b[0m \u001b[0mworkspace\u001b[0m\u001b[0;34m=\u001b[0m\u001b[0;32mNone\u001b[0m\u001b[0;34m)\u001b[0m\u001b[0;34m:\u001b[0m\u001b[0;34m\u001b[0m\u001b[0;34m\u001b[0m\u001b[0m\n\u001b[0;32m--> 219\u001b[0;31m         res = self.get_objects2(\n\u001b[0m\u001b[1;32m    220\u001b[0m             \u001b[0;34m{\u001b[0m\u001b[0;34m\"objects\"\u001b[0m\u001b[0;34m:\u001b[0m \u001b[0;34m[\u001b[0m\u001b[0mself\u001b[0m\u001b[0;34m.\u001b[0m\u001b[0mprocess_workspace_identifiers\u001b[0m\u001b[0;34m(\u001b[0m\u001b[0mid_or_ref\u001b[0m\u001b[0;34m,\u001b[0m \u001b[0mworkspace\u001b[0m\u001b[0;34m)\u001b[0m\u001b[0;34m]\u001b[0m\u001b[0;34m}\u001b[0m\u001b[0;34m\u001b[0m\u001b[0;34m\u001b[0m\u001b[0m\n\u001b[1;32m    221\u001b[0m         )\n",
      "\u001b[0;32m~/code//cobrakbase/cobrakbase/kbaseapi.py\u001b[0m in \u001b[0;36mget_objects2\u001b[0;34m(self, args)\u001b[0m\n\u001b[1;32m    187\u001b[0m         \u001b[0;32mwhile\u001b[0m \u001b[0mtries\u001b[0m \u001b[0;34m<\u001b[0m \u001b[0mself\u001b[0m\u001b[0;34m.\u001b[0m\u001b[0mmax_retry\u001b[0m\u001b[0;34m:\u001b[0m\u001b[0;34m\u001b[0m\u001b[0;34m\u001b[0m\u001b[0m\n\u001b[1;32m    188\u001b[0m             \u001b[0;32mtry\u001b[0m\u001b[0;34m:\u001b[0m\u001b[0;34m\u001b[0m\u001b[0;34m\u001b[0m\u001b[0m\n\u001b[0;32m--> 189\u001b[0;31m                 \u001b[0;32mreturn\u001b[0m \u001b[0mself\u001b[0m\u001b[0;34m.\u001b[0m\u001b[0mws_client\u001b[0m\u001b[0;34m.\u001b[0m\u001b[0mget_objects2\u001b[0m\u001b[0;34m(\u001b[0m\u001b[0margs\u001b[0m\u001b[0;34m)\u001b[0m\u001b[0;34m\u001b[0m\u001b[0;34m\u001b[0m\u001b[0m\n\u001b[0m\u001b[1;32m    190\u001b[0m             \u001b[0;32mexcept\u001b[0m \u001b[0mServerError\u001b[0m \u001b[0;32mas\u001b[0m \u001b[0me\u001b[0m\u001b[0;34m:\u001b[0m\u001b[0;34m\u001b[0m\u001b[0;34m\u001b[0m\u001b[0m\n\u001b[1;32m    191\u001b[0m                 \u001b[0;32mif\u001b[0m \u001b[0me\u001b[0m\u001b[0;34m.\u001b[0m\u001b[0mcode\u001b[0m \u001b[0;34m==\u001b[0m \u001b[0;34m-\u001b[0m\u001b[0;36m32400\u001b[0m\u001b[0;34m:\u001b[0m\u001b[0;34m\u001b[0m\u001b[0;34m\u001b[0m\u001b[0m\n",
      "\u001b[0;32m~/code//chenry_utility_module/lib/installed_clients/WorkspaceClient.py\u001b[0m in \u001b[0;36mget_objects2\u001b[0;34m(self, params, context)\u001b[0m\n\u001b[1;32m   1957\u001b[0m            \u001b[0;34m\"handle_stacktrace\"\u001b[0m \u001b[0mof\u001b[0m \u001b[0mString\u001b[0m\u001b[0;34m\u001b[0m\u001b[0;34m\u001b[0m\u001b[0m\n\u001b[1;32m   1958\u001b[0m         \"\"\"\n\u001b[0;32m-> 1959\u001b[0;31m         return self._client.call_method('Workspace.get_objects2',\n\u001b[0m\u001b[1;32m   1960\u001b[0m                                         [params], self._service_ver, context)\n\u001b[1;32m   1961\u001b[0m \u001b[0;34m\u001b[0m\u001b[0m\n",
      "\u001b[0;32m~/code//chenry_utility_module/lib/installed_clients/baseclient.py\u001b[0m in \u001b[0;36mcall_method\u001b[0;34m(self, service_method, args, service_ver, context)\u001b[0m\n\u001b[1;32m    280\u001b[0m         \u001b[0murl\u001b[0m \u001b[0;34m=\u001b[0m \u001b[0mself\u001b[0m\u001b[0;34m.\u001b[0m\u001b[0m_get_service_url\u001b[0m\u001b[0;34m(\u001b[0m\u001b[0mservice_method\u001b[0m\u001b[0;34m,\u001b[0m \u001b[0mservice_ver\u001b[0m\u001b[0;34m)\u001b[0m\u001b[0;34m\u001b[0m\u001b[0;34m\u001b[0m\u001b[0m\n\u001b[1;32m    281\u001b[0m         \u001b[0mcontext\u001b[0m \u001b[0;34m=\u001b[0m \u001b[0mself\u001b[0m\u001b[0;34m.\u001b[0m\u001b[0m_set_up_context\u001b[0m\u001b[0;34m(\u001b[0m\u001b[0mservice_ver\u001b[0m\u001b[0;34m,\u001b[0m \u001b[0mcontext\u001b[0m\u001b[0;34m)\u001b[0m\u001b[0;34m\u001b[0m\u001b[0;34m\u001b[0m\u001b[0m\n\u001b[0;32m--> 282\u001b[0;31m         \u001b[0;32mreturn\u001b[0m \u001b[0mself\u001b[0m\u001b[0;34m.\u001b[0m\u001b[0m_call\u001b[0m\u001b[0;34m(\u001b[0m\u001b[0murl\u001b[0m\u001b[0;34m,\u001b[0m \u001b[0mservice_method\u001b[0m\u001b[0;34m,\u001b[0m \u001b[0margs\u001b[0m\u001b[0;34m,\u001b[0m \u001b[0mcontext\u001b[0m\u001b[0;34m)\u001b[0m\u001b[0;34m\u001b[0m\u001b[0;34m\u001b[0m\u001b[0m\n\u001b[0m",
      "\u001b[0;32m~/code//chenry_utility_module/lib/installed_clients/baseclient.py\u001b[0m in \u001b[0;36m_call\u001b[0;34m(self, url, method, params, context)\u001b[0m\n\u001b[1;32m    177\u001b[0m \u001b[0;34m\u001b[0m\u001b[0m\n\u001b[1;32m    178\u001b[0m         \u001b[0mbody\u001b[0m \u001b[0;34m=\u001b[0m \u001b[0m_json\u001b[0m\u001b[0;34m.\u001b[0m\u001b[0mdumps\u001b[0m\u001b[0;34m(\u001b[0m\u001b[0marg_hash\u001b[0m\u001b[0;34m,\u001b[0m \u001b[0mcls\u001b[0m\u001b[0;34m=\u001b[0m\u001b[0m_JSONObjectEncoder\u001b[0m\u001b[0;34m)\u001b[0m\u001b[0;34m\u001b[0m\u001b[0;34m\u001b[0m\u001b[0m\n\u001b[0;32m--> 179\u001b[0;31m         ret = _requests.post(url, data=body, headers=self._headers,\n\u001b[0m\u001b[1;32m    180\u001b[0m                              \u001b[0mtimeout\u001b[0m\u001b[0;34m=\u001b[0m\u001b[0mself\u001b[0m\u001b[0;34m.\u001b[0m\u001b[0mtimeout\u001b[0m\u001b[0;34m,\u001b[0m\u001b[0;34m\u001b[0m\u001b[0;34m\u001b[0m\u001b[0m\n\u001b[1;32m    181\u001b[0m                              verify=not self.trust_all_ssl_certificates)\n",
      "\u001b[0;32m~/opt/anaconda3/lib/python3.9/site-packages/requests/api.py\u001b[0m in \u001b[0;36mpost\u001b[0;34m(url, data, json, **kwargs)\u001b[0m\n\u001b[1;32m    113\u001b[0m     \"\"\"\n\u001b[1;32m    114\u001b[0m \u001b[0;34m\u001b[0m\u001b[0m\n\u001b[0;32m--> 115\u001b[0;31m     \u001b[0;32mreturn\u001b[0m \u001b[0mrequest\u001b[0m\u001b[0;34m(\u001b[0m\u001b[0;34m\"post\"\u001b[0m\u001b[0;34m,\u001b[0m \u001b[0murl\u001b[0m\u001b[0;34m,\u001b[0m \u001b[0mdata\u001b[0m\u001b[0;34m=\u001b[0m\u001b[0mdata\u001b[0m\u001b[0;34m,\u001b[0m \u001b[0mjson\u001b[0m\u001b[0;34m=\u001b[0m\u001b[0mjson\u001b[0m\u001b[0;34m,\u001b[0m \u001b[0;34m**\u001b[0m\u001b[0mkwargs\u001b[0m\u001b[0;34m)\u001b[0m\u001b[0;34m\u001b[0m\u001b[0;34m\u001b[0m\u001b[0m\n\u001b[0m\u001b[1;32m    116\u001b[0m \u001b[0;34m\u001b[0m\u001b[0m\n\u001b[1;32m    117\u001b[0m \u001b[0;34m\u001b[0m\u001b[0m\n",
      "\u001b[0;32m~/opt/anaconda3/lib/python3.9/site-packages/requests/api.py\u001b[0m in \u001b[0;36mrequest\u001b[0;34m(method, url, **kwargs)\u001b[0m\n\u001b[1;32m     57\u001b[0m     \u001b[0;31m# cases, and look like a memory leak in others.\u001b[0m\u001b[0;34m\u001b[0m\u001b[0;34m\u001b[0m\u001b[0m\n\u001b[1;32m     58\u001b[0m     \u001b[0;32mwith\u001b[0m \u001b[0msessions\u001b[0m\u001b[0;34m.\u001b[0m\u001b[0mSession\u001b[0m\u001b[0;34m(\u001b[0m\u001b[0;34m)\u001b[0m \u001b[0;32mas\u001b[0m \u001b[0msession\u001b[0m\u001b[0;34m:\u001b[0m\u001b[0;34m\u001b[0m\u001b[0;34m\u001b[0m\u001b[0m\n\u001b[0;32m---> 59\u001b[0;31m         \u001b[0;32mreturn\u001b[0m \u001b[0msession\u001b[0m\u001b[0;34m.\u001b[0m\u001b[0mrequest\u001b[0m\u001b[0;34m(\u001b[0m\u001b[0mmethod\u001b[0m\u001b[0;34m=\u001b[0m\u001b[0mmethod\u001b[0m\u001b[0;34m,\u001b[0m \u001b[0murl\u001b[0m\u001b[0;34m=\u001b[0m\u001b[0murl\u001b[0m\u001b[0;34m,\u001b[0m \u001b[0;34m**\u001b[0m\u001b[0mkwargs\u001b[0m\u001b[0;34m)\u001b[0m\u001b[0;34m\u001b[0m\u001b[0;34m\u001b[0m\u001b[0m\n\u001b[0m\u001b[1;32m     60\u001b[0m \u001b[0;34m\u001b[0m\u001b[0m\n\u001b[1;32m     61\u001b[0m \u001b[0;34m\u001b[0m\u001b[0m\n",
      "\u001b[0;32m~/opt/anaconda3/lib/python3.9/site-packages/requests/sessions.py\u001b[0m in \u001b[0;36mrequest\u001b[0;34m(self, method, url, params, data, headers, cookies, files, auth, timeout, allow_redirects, proxies, hooks, stream, verify, cert, json)\u001b[0m\n\u001b[1;32m    585\u001b[0m         }\n\u001b[1;32m    586\u001b[0m         \u001b[0msend_kwargs\u001b[0m\u001b[0;34m.\u001b[0m\u001b[0mupdate\u001b[0m\u001b[0;34m(\u001b[0m\u001b[0msettings\u001b[0m\u001b[0;34m)\u001b[0m\u001b[0;34m\u001b[0m\u001b[0;34m\u001b[0m\u001b[0m\n\u001b[0;32m--> 587\u001b[0;31m         \u001b[0mresp\u001b[0m \u001b[0;34m=\u001b[0m \u001b[0mself\u001b[0m\u001b[0;34m.\u001b[0m\u001b[0msend\u001b[0m\u001b[0;34m(\u001b[0m\u001b[0mprep\u001b[0m\u001b[0;34m,\u001b[0m \u001b[0;34m**\u001b[0m\u001b[0msend_kwargs\u001b[0m\u001b[0;34m)\u001b[0m\u001b[0;34m\u001b[0m\u001b[0;34m\u001b[0m\u001b[0m\n\u001b[0m\u001b[1;32m    588\u001b[0m \u001b[0;34m\u001b[0m\u001b[0m\n\u001b[1;32m    589\u001b[0m         \u001b[0;32mreturn\u001b[0m \u001b[0mresp\u001b[0m\u001b[0;34m\u001b[0m\u001b[0;34m\u001b[0m\u001b[0m\n",
      "\u001b[0;32m~/opt/anaconda3/lib/python3.9/site-packages/requests/sessions.py\u001b[0m in \u001b[0;36msend\u001b[0;34m(self, request, **kwargs)\u001b[0m\n\u001b[1;32m    743\u001b[0m \u001b[0;34m\u001b[0m\u001b[0m\n\u001b[1;32m    744\u001b[0m         \u001b[0;32mif\u001b[0m \u001b[0;32mnot\u001b[0m \u001b[0mstream\u001b[0m\u001b[0;34m:\u001b[0m\u001b[0;34m\u001b[0m\u001b[0;34m\u001b[0m\u001b[0m\n\u001b[0;32m--> 745\u001b[0;31m             \u001b[0mr\u001b[0m\u001b[0;34m.\u001b[0m\u001b[0mcontent\u001b[0m\u001b[0;34m\u001b[0m\u001b[0;34m\u001b[0m\u001b[0m\n\u001b[0m\u001b[1;32m    746\u001b[0m \u001b[0;34m\u001b[0m\u001b[0m\n\u001b[1;32m    747\u001b[0m         \u001b[0;32mreturn\u001b[0m \u001b[0mr\u001b[0m\u001b[0;34m\u001b[0m\u001b[0;34m\u001b[0m\u001b[0m\n",
      "\u001b[0;32m~/opt/anaconda3/lib/python3.9/site-packages/requests/models.py\u001b[0m in \u001b[0;36mcontent\u001b[0;34m(self)\u001b[0m\n\u001b[1;32m    897\u001b[0m                 \u001b[0mself\u001b[0m\u001b[0;34m.\u001b[0m\u001b[0m_content\u001b[0m \u001b[0;34m=\u001b[0m \u001b[0;32mNone\u001b[0m\u001b[0;34m\u001b[0m\u001b[0;34m\u001b[0m\u001b[0m\n\u001b[1;32m    898\u001b[0m             \u001b[0;32melse\u001b[0m\u001b[0;34m:\u001b[0m\u001b[0;34m\u001b[0m\u001b[0;34m\u001b[0m\u001b[0m\n\u001b[0;32m--> 899\u001b[0;31m                 \u001b[0mself\u001b[0m\u001b[0;34m.\u001b[0m\u001b[0m_content\u001b[0m \u001b[0;34m=\u001b[0m \u001b[0;34mb\"\"\u001b[0m\u001b[0;34m.\u001b[0m\u001b[0mjoin\u001b[0m\u001b[0;34m(\u001b[0m\u001b[0mself\u001b[0m\u001b[0;34m.\u001b[0m\u001b[0miter_content\u001b[0m\u001b[0;34m(\u001b[0m\u001b[0mCONTENT_CHUNK_SIZE\u001b[0m\u001b[0;34m)\u001b[0m\u001b[0;34m)\u001b[0m \u001b[0;32mor\u001b[0m \u001b[0;34mb\"\"\u001b[0m\u001b[0;34m\u001b[0m\u001b[0;34m\u001b[0m\u001b[0m\n\u001b[0m\u001b[1;32m    900\u001b[0m \u001b[0;34m\u001b[0m\u001b[0m\n\u001b[1;32m    901\u001b[0m         \u001b[0mself\u001b[0m\u001b[0;34m.\u001b[0m\u001b[0m_content_consumed\u001b[0m \u001b[0;34m=\u001b[0m \u001b[0;32mTrue\u001b[0m\u001b[0;34m\u001b[0m\u001b[0;34m\u001b[0m\u001b[0m\n",
      "\u001b[0;32m~/opt/anaconda3/lib/python3.9/site-packages/requests/models.py\u001b[0m in \u001b[0;36mgenerate\u001b[0;34m()\u001b[0m\n\u001b[1;32m    814\u001b[0m             \u001b[0;32mif\u001b[0m \u001b[0mhasattr\u001b[0m\u001b[0;34m(\u001b[0m\u001b[0mself\u001b[0m\u001b[0;34m.\u001b[0m\u001b[0mraw\u001b[0m\u001b[0;34m,\u001b[0m \u001b[0;34m\"stream\"\u001b[0m\u001b[0;34m)\u001b[0m\u001b[0;34m:\u001b[0m\u001b[0;34m\u001b[0m\u001b[0;34m\u001b[0m\u001b[0m\n\u001b[1;32m    815\u001b[0m                 \u001b[0;32mtry\u001b[0m\u001b[0;34m:\u001b[0m\u001b[0;34m\u001b[0m\u001b[0;34m\u001b[0m\u001b[0m\n\u001b[0;32m--> 816\u001b[0;31m                     \u001b[0;32myield\u001b[0m \u001b[0;32mfrom\u001b[0m \u001b[0mself\u001b[0m\u001b[0;34m.\u001b[0m\u001b[0mraw\u001b[0m\u001b[0;34m.\u001b[0m\u001b[0mstream\u001b[0m\u001b[0;34m(\u001b[0m\u001b[0mchunk_size\u001b[0m\u001b[0;34m,\u001b[0m \u001b[0mdecode_content\u001b[0m\u001b[0;34m=\u001b[0m\u001b[0;32mTrue\u001b[0m\u001b[0;34m)\u001b[0m\u001b[0;34m\u001b[0m\u001b[0;34m\u001b[0m\u001b[0m\n\u001b[0m\u001b[1;32m    817\u001b[0m                 \u001b[0;32mexcept\u001b[0m \u001b[0mProtocolError\u001b[0m \u001b[0;32mas\u001b[0m \u001b[0me\u001b[0m\u001b[0;34m:\u001b[0m\u001b[0;34m\u001b[0m\u001b[0;34m\u001b[0m\u001b[0m\n\u001b[1;32m    818\u001b[0m                     \u001b[0;32mraise\u001b[0m \u001b[0mChunkedEncodingError\u001b[0m\u001b[0;34m(\u001b[0m\u001b[0me\u001b[0m\u001b[0;34m)\u001b[0m\u001b[0;34m\u001b[0m\u001b[0;34m\u001b[0m\u001b[0m\n",
      "\u001b[0;32m~/opt/anaconda3/lib/python3.9/site-packages/urllib3/response.py\u001b[0m in \u001b[0;36mstream\u001b[0;34m(self, amt, decode_content)\u001b[0m\n\u001b[1;32m    621\u001b[0m         \"\"\"\n\u001b[1;32m    622\u001b[0m         \u001b[0;32mif\u001b[0m \u001b[0mself\u001b[0m\u001b[0;34m.\u001b[0m\u001b[0mchunked\u001b[0m \u001b[0;32mand\u001b[0m \u001b[0mself\u001b[0m\u001b[0;34m.\u001b[0m\u001b[0msupports_chunked_reads\u001b[0m\u001b[0;34m(\u001b[0m\u001b[0;34m)\u001b[0m\u001b[0;34m:\u001b[0m\u001b[0;34m\u001b[0m\u001b[0;34m\u001b[0m\u001b[0m\n\u001b[0;32m--> 623\u001b[0;31m             \u001b[0;32mfor\u001b[0m \u001b[0mline\u001b[0m \u001b[0;32min\u001b[0m \u001b[0mself\u001b[0m\u001b[0;34m.\u001b[0m\u001b[0mread_chunked\u001b[0m\u001b[0;34m(\u001b[0m\u001b[0mamt\u001b[0m\u001b[0;34m,\u001b[0m \u001b[0mdecode_content\u001b[0m\u001b[0;34m=\u001b[0m\u001b[0mdecode_content\u001b[0m\u001b[0;34m)\u001b[0m\u001b[0;34m:\u001b[0m\u001b[0;34m\u001b[0m\u001b[0;34m\u001b[0m\u001b[0m\n\u001b[0m\u001b[1;32m    624\u001b[0m                 \u001b[0;32myield\u001b[0m \u001b[0mline\u001b[0m\u001b[0;34m\u001b[0m\u001b[0;34m\u001b[0m\u001b[0m\n\u001b[1;32m    625\u001b[0m         \u001b[0;32melse\u001b[0m\u001b[0;34m:\u001b[0m\u001b[0;34m\u001b[0m\u001b[0;34m\u001b[0m\u001b[0m\n",
      "\u001b[0;32m~/opt/anaconda3/lib/python3.9/site-packages/urllib3/response.py\u001b[0m in \u001b[0;36mread_chunked\u001b[0;34m(self, amt, decode_content)\u001b[0m\n\u001b[1;32m    816\u001b[0m                 \u001b[0;32mif\u001b[0m \u001b[0mself\u001b[0m\u001b[0;34m.\u001b[0m\u001b[0mchunk_left\u001b[0m \u001b[0;34m==\u001b[0m \u001b[0;36m0\u001b[0m\u001b[0;34m:\u001b[0m\u001b[0;34m\u001b[0m\u001b[0;34m\u001b[0m\u001b[0m\n\u001b[1;32m    817\u001b[0m                     \u001b[0;32mbreak\u001b[0m\u001b[0;34m\u001b[0m\u001b[0;34m\u001b[0m\u001b[0m\n\u001b[0;32m--> 818\u001b[0;31m                 \u001b[0mchunk\u001b[0m \u001b[0;34m=\u001b[0m \u001b[0mself\u001b[0m\u001b[0;34m.\u001b[0m\u001b[0m_handle_chunk\u001b[0m\u001b[0;34m(\u001b[0m\u001b[0mamt\u001b[0m\u001b[0;34m)\u001b[0m\u001b[0;34m\u001b[0m\u001b[0;34m\u001b[0m\u001b[0m\n\u001b[0m\u001b[1;32m    819\u001b[0m                 decoded = self._decode(\n\u001b[1;32m    820\u001b[0m                     \u001b[0mchunk\u001b[0m\u001b[0;34m,\u001b[0m \u001b[0mdecode_content\u001b[0m\u001b[0;34m=\u001b[0m\u001b[0mdecode_content\u001b[0m\u001b[0;34m,\u001b[0m \u001b[0mflush_decoder\u001b[0m\u001b[0;34m=\u001b[0m\u001b[0;32mFalse\u001b[0m\u001b[0;34m\u001b[0m\u001b[0;34m\u001b[0m\u001b[0m\n",
      "\u001b[0;32m~/opt/anaconda3/lib/python3.9/site-packages/urllib3/response.py\u001b[0m in \u001b[0;36m_handle_chunk\u001b[0;34m(self, amt)\u001b[0m\n\u001b[1;32m    760\u001b[0m             \u001b[0mself\u001b[0m\u001b[0;34m.\u001b[0m\u001b[0mchunk_left\u001b[0m \u001b[0;34m=\u001b[0m \u001b[0;32mNone\u001b[0m\u001b[0;34m\u001b[0m\u001b[0;34m\u001b[0m\u001b[0m\n\u001b[1;32m    761\u001b[0m         \u001b[0;32melif\u001b[0m \u001b[0mamt\u001b[0m \u001b[0;34m<\u001b[0m \u001b[0mself\u001b[0m\u001b[0;34m.\u001b[0m\u001b[0mchunk_left\u001b[0m\u001b[0;34m:\u001b[0m\u001b[0;34m\u001b[0m\u001b[0;34m\u001b[0m\u001b[0m\n\u001b[0;32m--> 762\u001b[0;31m             \u001b[0mvalue\u001b[0m \u001b[0;34m=\u001b[0m \u001b[0mself\u001b[0m\u001b[0;34m.\u001b[0m\u001b[0m_fp\u001b[0m\u001b[0;34m.\u001b[0m\u001b[0m_safe_read\u001b[0m\u001b[0;34m(\u001b[0m\u001b[0mamt\u001b[0m\u001b[0;34m)\u001b[0m\u001b[0;34m\u001b[0m\u001b[0;34m\u001b[0m\u001b[0m\n\u001b[0m\u001b[1;32m    763\u001b[0m             \u001b[0mself\u001b[0m\u001b[0;34m.\u001b[0m\u001b[0mchunk_left\u001b[0m \u001b[0;34m=\u001b[0m \u001b[0mself\u001b[0m\u001b[0;34m.\u001b[0m\u001b[0mchunk_left\u001b[0m \u001b[0;34m-\u001b[0m \u001b[0mamt\u001b[0m\u001b[0;34m\u001b[0m\u001b[0;34m\u001b[0m\u001b[0m\n\u001b[1;32m    764\u001b[0m             \u001b[0mreturned_chunk\u001b[0m \u001b[0;34m=\u001b[0m \u001b[0mvalue\u001b[0m\u001b[0;34m\u001b[0m\u001b[0;34m\u001b[0m\u001b[0m\n",
      "\u001b[0;32m~/opt/anaconda3/lib/python3.9/http/client.py\u001b[0m in \u001b[0;36m_safe_read\u001b[0;34m(self, amt)\u001b[0m\n\u001b[1;32m    624\u001b[0m         \u001b[0ms\u001b[0m \u001b[0;34m=\u001b[0m \u001b[0;34m[\u001b[0m\u001b[0;34m]\u001b[0m\u001b[0;34m\u001b[0m\u001b[0;34m\u001b[0m\u001b[0m\n\u001b[1;32m    625\u001b[0m         \u001b[0;32mwhile\u001b[0m \u001b[0mamt\u001b[0m \u001b[0;34m>\u001b[0m \u001b[0;36m0\u001b[0m\u001b[0;34m:\u001b[0m\u001b[0;34m\u001b[0m\u001b[0;34m\u001b[0m\u001b[0m\n\u001b[0;32m--> 626\u001b[0;31m             \u001b[0mchunk\u001b[0m \u001b[0;34m=\u001b[0m \u001b[0mself\u001b[0m\u001b[0;34m.\u001b[0m\u001b[0mfp\u001b[0m\u001b[0;34m.\u001b[0m\u001b[0mread\u001b[0m\u001b[0;34m(\u001b[0m\u001b[0mmin\u001b[0m\u001b[0;34m(\u001b[0m\u001b[0mamt\u001b[0m\u001b[0;34m,\u001b[0m \u001b[0mMAXAMOUNT\u001b[0m\u001b[0;34m)\u001b[0m\u001b[0;34m)\u001b[0m\u001b[0;34m\u001b[0m\u001b[0;34m\u001b[0m\u001b[0m\n\u001b[0m\u001b[1;32m    627\u001b[0m             \u001b[0;32mif\u001b[0m \u001b[0;32mnot\u001b[0m \u001b[0mchunk\u001b[0m\u001b[0;34m:\u001b[0m\u001b[0;34m\u001b[0m\u001b[0;34m\u001b[0m\u001b[0m\n\u001b[1;32m    628\u001b[0m                 \u001b[0;32mraise\u001b[0m \u001b[0mIncompleteRead\u001b[0m\u001b[0;34m(\u001b[0m\u001b[0;34mb''\u001b[0m\u001b[0;34m.\u001b[0m\u001b[0mjoin\u001b[0m\u001b[0;34m(\u001b[0m\u001b[0ms\u001b[0m\u001b[0;34m)\u001b[0m\u001b[0;34m,\u001b[0m \u001b[0mamt\u001b[0m\u001b[0;34m)\u001b[0m\u001b[0;34m\u001b[0m\u001b[0;34m\u001b[0m\u001b[0m\n",
      "\u001b[0;32m~/opt/anaconda3/lib/python3.9/socket.py\u001b[0m in \u001b[0;36mreadinto\u001b[0;34m(self, b)\u001b[0m\n\u001b[1;32m    702\u001b[0m         \u001b[0;32mwhile\u001b[0m \u001b[0;32mTrue\u001b[0m\u001b[0;34m:\u001b[0m\u001b[0;34m\u001b[0m\u001b[0;34m\u001b[0m\u001b[0m\n\u001b[1;32m    703\u001b[0m             \u001b[0;32mtry\u001b[0m\u001b[0;34m:\u001b[0m\u001b[0;34m\u001b[0m\u001b[0;34m\u001b[0m\u001b[0m\n\u001b[0;32m--> 704\u001b[0;31m                 \u001b[0;32mreturn\u001b[0m \u001b[0mself\u001b[0m\u001b[0;34m.\u001b[0m\u001b[0m_sock\u001b[0m\u001b[0;34m.\u001b[0m\u001b[0mrecv_into\u001b[0m\u001b[0;34m(\u001b[0m\u001b[0mb\u001b[0m\u001b[0;34m)\u001b[0m\u001b[0;34m\u001b[0m\u001b[0;34m\u001b[0m\u001b[0m\n\u001b[0m\u001b[1;32m    705\u001b[0m             \u001b[0;32mexcept\u001b[0m \u001b[0mtimeout\u001b[0m\u001b[0;34m:\u001b[0m\u001b[0;34m\u001b[0m\u001b[0;34m\u001b[0m\u001b[0m\n\u001b[1;32m    706\u001b[0m                 \u001b[0mself\u001b[0m\u001b[0;34m.\u001b[0m\u001b[0m_timeout_occurred\u001b[0m \u001b[0;34m=\u001b[0m \u001b[0;32mTrue\u001b[0m\u001b[0;34m\u001b[0m\u001b[0;34m\u001b[0m\u001b[0m\n",
      "\u001b[0;32m~/opt/anaconda3/lib/python3.9/ssl.py\u001b[0m in \u001b[0;36mrecv_into\u001b[0;34m(self, buffer, nbytes, flags)\u001b[0m\n\u001b[1;32m   1240\u001b[0m                   \u001b[0;34m\"non-zero flags not allowed in calls to recv_into() on %s\"\u001b[0m \u001b[0;34m%\u001b[0m\u001b[0;34m\u001b[0m\u001b[0;34m\u001b[0m\u001b[0m\n\u001b[1;32m   1241\u001b[0m                   self.__class__)\n\u001b[0;32m-> 1242\u001b[0;31m             \u001b[0;32mreturn\u001b[0m \u001b[0mself\u001b[0m\u001b[0;34m.\u001b[0m\u001b[0mread\u001b[0m\u001b[0;34m(\u001b[0m\u001b[0mnbytes\u001b[0m\u001b[0;34m,\u001b[0m \u001b[0mbuffer\u001b[0m\u001b[0;34m)\u001b[0m\u001b[0;34m\u001b[0m\u001b[0;34m\u001b[0m\u001b[0m\n\u001b[0m\u001b[1;32m   1243\u001b[0m         \u001b[0;32melse\u001b[0m\u001b[0;34m:\u001b[0m\u001b[0;34m\u001b[0m\u001b[0;34m\u001b[0m\u001b[0m\n\u001b[1;32m   1244\u001b[0m             \u001b[0;32mreturn\u001b[0m \u001b[0msuper\u001b[0m\u001b[0;34m(\u001b[0m\u001b[0;34m)\u001b[0m\u001b[0;34m.\u001b[0m\u001b[0mrecv_into\u001b[0m\u001b[0;34m(\u001b[0m\u001b[0mbuffer\u001b[0m\u001b[0;34m,\u001b[0m \u001b[0mnbytes\u001b[0m\u001b[0;34m,\u001b[0m \u001b[0mflags\u001b[0m\u001b[0;34m)\u001b[0m\u001b[0;34m\u001b[0m\u001b[0;34m\u001b[0m\u001b[0m\n",
      "\u001b[0;32m~/opt/anaconda3/lib/python3.9/ssl.py\u001b[0m in \u001b[0;36mread\u001b[0;34m(self, len, buffer)\u001b[0m\n\u001b[1;32m   1098\u001b[0m         \u001b[0;32mtry\u001b[0m\u001b[0;34m:\u001b[0m\u001b[0;34m\u001b[0m\u001b[0;34m\u001b[0m\u001b[0m\n\u001b[1;32m   1099\u001b[0m             \u001b[0;32mif\u001b[0m \u001b[0mbuffer\u001b[0m \u001b[0;32mis\u001b[0m \u001b[0;32mnot\u001b[0m \u001b[0;32mNone\u001b[0m\u001b[0;34m:\u001b[0m\u001b[0;34m\u001b[0m\u001b[0;34m\u001b[0m\u001b[0m\n\u001b[0;32m-> 1100\u001b[0;31m                 \u001b[0;32mreturn\u001b[0m \u001b[0mself\u001b[0m\u001b[0;34m.\u001b[0m\u001b[0m_sslobj\u001b[0m\u001b[0;34m.\u001b[0m\u001b[0mread\u001b[0m\u001b[0;34m(\u001b[0m\u001b[0mlen\u001b[0m\u001b[0;34m,\u001b[0m \u001b[0mbuffer\u001b[0m\u001b[0;34m)\u001b[0m\u001b[0;34m\u001b[0m\u001b[0;34m\u001b[0m\u001b[0m\n\u001b[0m\u001b[1;32m   1101\u001b[0m             \u001b[0;32melse\u001b[0m\u001b[0;34m:\u001b[0m\u001b[0;34m\u001b[0m\u001b[0;34m\u001b[0m\u001b[0m\n\u001b[1;32m   1102\u001b[0m                 \u001b[0;32mreturn\u001b[0m \u001b[0mself\u001b[0m\u001b[0;34m.\u001b[0m\u001b[0m_sslobj\u001b[0m\u001b[0;34m.\u001b[0m\u001b[0mread\u001b[0m\u001b[0;34m(\u001b[0m\u001b[0mlen\u001b[0m\u001b[0;34m)\u001b[0m\u001b[0;34m\u001b[0m\u001b[0;34m\u001b[0m\u001b[0m\n",
      "\u001b[0;31mKeyboardInterrupt\u001b[0m: "
     ]
    }
   ],
   "source": [
    "%run agoracommutil.py\n",
    "metabolites = util.load(\"metabolites\")\n",
    "phenotype_results = util.load(\"phenotype_results\")\n",
    "\n",
    "auxo_media = util.msrecon.get_media(\"181152/AuxoMedia\")\n",
    "agmm_base_media = util.msrecon.get_media(\"181152/BaseAnaerobicMM\")\n",
    "gmm_base_media = util.msrecon.get_media(\"181152/BaseAerobicMM\")\n",
    "uptake_phenoset = util.create_phenotypeset_from_compounds(\n",
    "    metabolites,\n",
    "    base_media=auxo_media,\n",
    "    base_uptake=0,\n",
    "    base_excretion=1000,\n",
    "    global_atom_limits={},\n",
    "    type=\"uptake\"\n",
    ")\n",
    "\n",
    "mdlutl = util.msrecon.get_model(\"Lactobacillus.9.ASV.mdl\",181152)\n",
    "filters = mdlutl.get_attributes(\"gf_filter\")\n",
    "tests = mdlutl.get_atp_tests(core_template=util.msrecon.core_template,atp_media_filename=util.msrecon.module_dir+\"/data/atp_medias.tsv\",recompute=False)\n",
    "msgapfill = MSGapfill(\n",
    "    mdlutl,\n",
    "    [util.msrecon.get_template(mdlutl.model.template_ref)],\n",
    "    [],\n",
    "    tests,\n",
    "    blacklist=[],\n",
    "    default_target=\"bio1\",\n",
    "    minimum_obj=0.01,\n",
    "    base_media=None,\n",
    "    base_media_target_element=None\n",
    ")\n",
    "msgapfill.prefilter(test_conditions=tests,growth_conditions=[],use_prior_filtering=True)\n",
    "\n",
    "#Adding missing transporter for metabolites to gapfilling database\n",
    "supported_metabolites = {}\n",
    "for cpd in metabolites:\n",
    "    if \"EX_\"+cpd+\"_e0\" not in msgapfill.gfmodelutl.model.reactions:\n",
    "        print(\"Adding transport for \",cpd)\n",
    "        transport = msgapfill.gfmodelutl.add_transport_and_exchange_for_metabolite(cpd,direction=\"=\",prefix=\"trans\",override=False)\n",
    "        if transport:\n",
    "            supported_metabolites[cpd] = transport.id\n",
    "    else:\n",
    "        supported_metabolites[cpd] = 1\n",
    "util.save(\"supported_metabolites\",supported_metabolites)\n",
    "msgapfill.gfpkgmgr.getpkg(\"GapfillingPkg\").compute_gapfilling_penalties(exclusion_solution=None,reaction_scores=None)\n",
    "\n",
    "media_list = []\n",
    "pheno_list = []\n",
    "target_hash = {}\n",
    "for pheno in uptake_phenoset.phenotypes:\n",
    "    if pheno.id in phenotype_results[\"Lactobacillus.9\"][\"uptake\"]:\n",
    "        if phenotype_results[\"Lactobacillus.9\"][\"uptake\"][pheno.id][\"objective_value\"] < 0.01:\n",
    "            if pheno.id in supported_metabolites:\n",
    "                fullmedia = pheno.build_media()\n",
    "                fullmedia.id = pheno.id\n",
    "                for item in fullmedia.mediacompounds:\n",
    "                    if item.id == pheno.id:\n",
    "                        item.lower_bound = -1000\n",
    "                        item.upper_bound = -0.01\n",
    "                pheno_list.append(pheno.id)\n",
    "                media_list.append(fullmedia)\n",
    "                #print(phenotype_results[\"Lactobacillus.9\"][\"uptake\"][pheno.id][\"objective\"])\n",
    "                #target_hash[fullmedia] = phenotype_results[\"Lactobacillus.9\"][\"uptake\"][pheno.id][\"objective\"]\n",
    "            else:\n",
    "                print(\"No support for \",pheno.id)\n",
    "phenotype_gf_results = {}\n",
    "phenotype_gf_results[\"Lactobacillus.9\"] = {}\n",
    "phenotype_gf_results[\"Lactobacillus.9\"][\"uptake\"] = msgapfill.run_multi_gapfill(\n",
    "    media_list,\n",
    "    #target_hash=target_hash,\n",
    "    target=\"bio1\",\n",
    "    default_minimum_objective=0,\n",
    "    binary_check=False,\n",
    "    prefilter=False,\n",
    "    check_for_growth=True,\n",
    "    gapfilling_mode=\"Independent\",\n",
    "    run_sensitivity_analysis=False,\n",
    "    integrate_solutions=False,\n",
    "    remove_unneeded_reactions=False\n",
    ")\n",
    "util.save(\"phenotype_gf_results\",phenotype_gf_results)"
   ]
  },
  {
   "cell_type": "code",
   "execution_count": 1,
   "metadata": {
    "collapsed": true,
    "jupyter": {
     "outputs_hidden": true,
     "source_hidden": true
    },
    "tags": []
   },
   "outputs": [
    {
     "ename": "NameError",
     "evalue": "name 'util' is not defined",
     "output_type": "error",
     "traceback": [
      "\u001b[0;31m---------------------------------------------------------------------------\u001b[0m",
      "\u001b[0;31mNameError\u001b[0m                                 Traceback (most recent call last)",
      "\u001b[0;32m/var/folders/ph/360gp1jx5zg7qyqv076prl240000gn/T/ipykernel_75926/2968236246.py\u001b[0m in \u001b[0;36m<module>\u001b[0;34m\u001b[0m\n\u001b[1;32m      1\u001b[0m \u001b[0;32mimport\u001b[0m \u001b[0mpandas\u001b[0m \u001b[0;32mas\u001b[0m \u001b[0mpd\u001b[0m\u001b[0;34m\u001b[0m\u001b[0;34m\u001b[0m\u001b[0m\n\u001b[0;32m----> 2\u001b[0;31m \u001b[0mmetabolites\u001b[0m \u001b[0;34m=\u001b[0m \u001b[0mutil\u001b[0m\u001b[0;34m.\u001b[0m\u001b[0mload\u001b[0m\u001b[0;34m(\u001b[0m\u001b[0;34m\"metabolites\"\u001b[0m\u001b[0;34m)\u001b[0m\u001b[0;34m\u001b[0m\u001b[0;34m\u001b[0m\u001b[0m\n\u001b[0m\u001b[1;32m      3\u001b[0m \u001b[0msupported_metabolites\u001b[0m \u001b[0;34m=\u001b[0m \u001b[0mutil\u001b[0m\u001b[0;34m.\u001b[0m\u001b[0mload\u001b[0m\u001b[0;34m(\u001b[0m\u001b[0;34m\"supported_metabolites\"\u001b[0m\u001b[0;34m)\u001b[0m\u001b[0;34m\u001b[0m\u001b[0;34m\u001b[0m\u001b[0m\n\u001b[1;32m      4\u001b[0m \u001b[0mphenotype_gf_results\u001b[0m \u001b[0;34m=\u001b[0m \u001b[0mutil\u001b[0m\u001b[0;34m.\u001b[0m\u001b[0mload\u001b[0m\u001b[0;34m(\u001b[0m\u001b[0;34m\"phenotype_gf_results\"\u001b[0m\u001b[0;34m,\u001b[0m\u001b[0;34m{\u001b[0m\u001b[0;34m}\u001b[0m\u001b[0;34m)\u001b[0m\u001b[0;34m\u001b[0m\u001b[0;34m\u001b[0m\u001b[0m\n\u001b[1;32m      5\u001b[0m \u001b[0mphenotype_results\u001b[0m \u001b[0;34m=\u001b[0m \u001b[0mutil\u001b[0m\u001b[0;34m.\u001b[0m\u001b[0mload\u001b[0m\u001b[0;34m(\u001b[0m\u001b[0;34m\"phenotype_results\"\u001b[0m\u001b[0;34m)\u001b[0m\u001b[0;34m\u001b[0m\u001b[0;34m\u001b[0m\u001b[0m\n",
      "\u001b[0;31mNameError\u001b[0m: name 'util' is not defined"
     ]
    }
   ],
   "source": [
    "import pandas as pd\n",
    "metabolites = util.load(\"metabolites\")\n",
    "supported_metabolites = util.load(\"supported_metabolites\")\n",
    "phenotype_gf_results = util.load(\"phenotype_gf_results\",{})\n",
    "phenotype_results = util.load(\"phenotype_results\")\n",
    "asvset_names = util.load(\"asvset_names\")\n",
    "asvset_genomes = util.load(\"asvset_genomes\")\n",
    "phenotype_results = util.load(\"phenotype_results\",default={})\n",
    "phenotype_gf_results = util.load(\"phenotype_gf_results\",default={})\n",
    "auxo_media = util.msrecon.get_media(\"181152/AuxoMedia\")\n",
    "agmm_base_media = util.msrecon.get_media(\"181152/BaseAnaerobicMM\")\n",
    "gmm_base_media = util.msrecon.get_media(\"181152/BaseAerobicMM\")\n",
    "uptake_phenoset = util.create_phenotypeset_from_compounds(\n",
    "    columns,\n",
    "    base_media=auxo_media,\n",
    "    base_uptake=0,\n",
    "    base_excretion=1000,\n",
    "    global_atom_limits={},\n",
    "    type=\"uptake\"\n",
    ")\n",
    "excretion_phenoset = util.create_phenotypeset_from_compounds(\n",
    "    columns,\n",
    "    base_media=auxo_media,\n",
    "    base_uptake=0,\n",
    "    base_excretion=1000,\n",
    "    global_atom_limits={},\n",
    "    type=\"excretion\"\n",
    ")\n",
    "agrowth_phenoset = util.create_phenotypeset_from_compounds(\n",
    "    columns,\n",
    "    base_media=agmm_base_media,\n",
    "    base_uptake=0,\n",
    "    base_excretion=1000,\n",
    "    global_atom_limits={},\n",
    "    type=\"growth\"\n",
    ")\n",
    "growth_phenoset = util.create_phenotypeset_from_compounds(\n",
    "    columns,\n",
    "    base_media=gmm_base_media,\n",
    "    base_uptake=0,\n",
    "    base_excretion=1000,\n",
    "    global_atom_limits={},\n",
    "    type=\"growth\"\n",
    ")\n",
    "for asvset in asvset_genomes:\n",
    "    asvname = asvset_names[asvset]\n",
    "    if asvname not in phenotype_results and asvname != \"Thermus.1\":\n",
    "        phenotype_gf_results[asvname] = {}\n",
    "        mdlutl = util.msrecon.get_model(asvname+\".ASV.mdl\",181152)\n",
    "        tests = mdlutl.get_atp_tests(core_template=util.msrecon.core_template,atp_media_filename=util.msrecon.module_dir+\"/data/atp_medias.tsv\",recompute=False)\n",
    "        msgapfill = MSGapfill(\n",
    "            mdlutl,\n",
    "            [util.msrecon.get_template(mdlutl.model.template_ref)],\n",
    "            [],\n",
    "            tests,\n",
    "            blacklist=[],\n",
    "            default_target=\"bio1\",\n",
    "            minimum_obj=0.01,\n",
    "            base_media=None,\n",
    "            base_media_target_element=None\n",
    "        )\n",
    "        msgapfill.prefilter(test_conditions=tests,growth_conditions=[],use_prior_filtering=True)\n",
    "        #Adding missing transporter for metabolites to gapfilling database\n",
    "        for cpd in metabolites:\n",
    "            if \"EX_\"+cpd+\"_e0\" not in msgapfill.gfmodelutl.model.reactions:\n",
    "                print(\"Adding transport for \",cpd)\n",
    "                transport = msgapfill.gfmodelutl.add_transport_and_exchange_for_metabolite(cpd,direction=\"=\",prefix=\"trans\",override=False)\n",
    "        if \"uptake\" not in phenotype_gf_results[asvname]:\n",
    "            media_list = []\n",
    "            pheno_list = []\n",
    "            target_hash = {}\n",
    "            for pheno in uptake_phenoset.phenotypes:\n",
    "                if pheno.id in phenotype_results[asvname][\"uptake\"]:\n",
    "                    if phenotype_results[asvname][\"uptake\"][pheno.id][\"objective_value\"] < 0.01:\n",
    "                        if pheno.id in supported_metabolites:\n",
    "                            fullmedia = pheno.build_media()\n",
    "                            pheno_list.append(pheno.id)\n",
    "                            media_list.append(fullmedia)\n",
    "                            target_hash[fullmedia] = phenotype_results[asvname][\"uptake\"][pheno.id][\"objective\"]\n",
    "            phenotype_gf_results[asvname][\"uptake\"] = msgapfill.run_multi_gapfill(\n",
    "                media_list,\n",
    "                target_hash=target_hash,\n",
    "                default_minimum_objective=0.01,\n",
    "                binary_check=False,\n",
    "                prefilter=False,\n",
    "                check_for_growth=True,\n",
    "                gapfilling_mode=\"Independent\",\n",
    "                run_sensitivity_analysis=False,\n",
    "                integrate_solutions=False\n",
    "            )\n",
    "            util.save(\"phenotype_gf_results\",phenotype_gf_results)\n",
    "        if \"excretion\" not in phenotype_gf_results[asvname]:\n",
    "            media_list = []\n",
    "            pheno_list = []\n",
    "            target_hash = {}\n",
    "            for pheno in uptake_phenoset.phenotypes:\n",
    "                if pheno.id in phenotype_results[asvname][\"excretion\"]:\n",
    "                    if phenotype_results[asvname][\"excretion\"][pheno.id][\"objective_value\"] < 0.01:\n",
    "                        if pheno.id in supported_metabolites:\n",
    "                            fullmedia = pheno.build_media()\n",
    "                            pheno_list.append(pheno.id)\n",
    "                            media_list.append(fullmedia)\n",
    "                            target_hash[fullmedia] = phenotype_results[asvname][\"excretion\"][pheno.id][\"objective\"]\n",
    "            phenotype_gf_results[asvname][\"excretion\"] = msgapfill.run_multi_gapfill(\n",
    "                media_list,\n",
    "                target_hash=target_hash,\n",
    "                default_minimum_objective=0.01,\n",
    "                binary_check=False,\n",
    "                prefilter=False,\n",
    "                check_for_growth=True,\n",
    "                gapfilling_mode=\"Independent\",\n",
    "                run_sensitivity_analysis=False,\n",
    "                integrate_solutions=False\n",
    "            )\n",
    "            util.save(\"phenotype_gf_results\",phenotype_gf_results)\n",
    "        if \"agrowth\" not in phenotype_gf_results[asvname]:\n",
    "            media_list = []\n",
    "            pheno_list = []\n",
    "            target_hash = {}\n",
    "            for pheno in uptake_phenoset.phenotypes:\n",
    "                if pheno.id in phenotype_results[asvname][\"agrowth\"]:\n",
    "                    if phenotype_results[asvname][\"agrowth\"][pheno.id][\"objective_value\"] < 0.01:\n",
    "                        if pheno.id in supported_metabolites:\n",
    "                            fullmedia = pheno.build_media()\n",
    "                            pheno_list.append(pheno.id)\n",
    "                            media_list.append(fullmedia)\n",
    "                            target_hash[fullmedia] = phenotype_results[asvname][\"agrowth\"][pheno.id][\"objective\"]\n",
    "            phenotype_gf_results[asvname][\"agrowth\"] = msgapfill.run_multi_gapfill(\n",
    "                media_list,\n",
    "                targe=\"bio1\",\n",
    "                default_minimum_objective=0.01,\n",
    "                binary_check=False,\n",
    "                prefilter=False,\n",
    "                check_for_growth=True,\n",
    "                gapfilling_mode=\"Independent\",\n",
    "                run_sensitivity_analysis=False,\n",
    "                integrate_solutions=False\n",
    "            )\n",
    "            util.save(\"phenotype_gf_results\",phenotype_gf_results)\n",
    "        if \"growth\" not in phenotype_gf_results[asvname]:\n",
    "            media_list = []\n",
    "            pheno_list = []\n",
    "            target_hash = {}\n",
    "            for pheno in uptake_phenoset.phenotypes:\n",
    "                if pheno.id in phenotype_results[asvname][\"growth\"]:\n",
    "                    if phenotype_results[asvname][\"growth\"][pheno.id][\"objective_value\"] < 0.01:\n",
    "                        if pheno.id in supported_metabolites:\n",
    "                            fullmedia = pheno.build_media()\n",
    "                            pheno_list.append(pheno.id)\n",
    "                            media_list.append(fullmedia)\n",
    "                            target_hash[fullmedia] = phenotype_results[asvname][\"growth\"][pheno.id][\"objective\"]\n",
    "            phenotype_gf_results[asvname][\"growth\"] = msgapfill.run_multi_gapfill(\n",
    "                media_list,\n",
    "                targe=\"bio1\",\n",
    "                default_minimum_objective=0.01,\n",
    "                binary_check=False,\n",
    "                prefilter=False,\n",
    "                check_for_growth=True,\n",
    "                gapfilling_mode=\"Independent\",\n",
    "                run_sensitivity_analysis=False,\n",
    "                integrate_solutions=False\n",
    "            )\n",
    "            util.save(\"phenotype_gf_results\",phenotype_gf_results)"
   ]
  },
  {
   "cell_type": "markdown",
   "metadata": {
    "jp-MarkdownHeadingCollapsed": true,
    "tags": []
   },
   "source": [
    "# Building and saving community model"
   ]
  },
  {
   "cell_type": "code",
   "execution_count": 3,
   "metadata": {
    "collapsed": true,
    "jupyter": {
     "outputs_hidden": true
    },
    "tags": []
   },
   "outputs": [
    {
     "name": "stderr",
     "output_type": "stream",
     "text": [
      "1714364778.9145055 INFO: metabolites 1696\n",
      "1714365069.0523372 INFO: reactions 1872\n",
      "1714365069.2731287 INFO: The current solver interface glpk doesn't support setting the optimality tolerance.\n",
      "1714365069.997581 INFO: Default biomass: [bio1]\n",
      "1714365072.8438394 INFO: metabolites 972\n",
      "1714365123.3950455 INFO: reactions 898\n",
      "1714365123.4895616 INFO: The current solver interface glpk doesn't support setting the optimality tolerance.\n",
      "1714365123.8279011 INFO: Default biomass: [bio1]\n",
      "1714365124.3654683 INFO: metabolites 1212\n",
      "1714365217.0267243 INFO: reactions 1209\n",
      "1714365217.1593285 INFO: The current solver interface glpk doesn't support setting the optimality tolerance.\n",
      "1714365217.6061504 INFO: Default biomass: [bio1]\n",
      "1714365218.3417156 INFO: metabolites 896\n",
      "1714365288.5672576 INFO: reactions 805\n",
      "1714365288.6557417 INFO: The current solver interface glpk doesn't support setting the optimality tolerance.\n",
      "1714365288.9559035 INFO: Default biomass: [bio1]\n",
      "1714365289.6802547 INFO: metabolites 818\n",
      "1714365311.6415627 INFO: reactions 763\n",
      "1714365311.7452443 INFO: The current solver interface glpk doesn't support setting the optimality tolerance.\n",
      "1714365312.0347188 INFO: Default biomass: [bio1]\n",
      "1714365312.7212472 INFO: metabolites 1071\n",
      "1714365400.3647454 INFO: reactions 1009\n",
      "1714365400.4903047 INFO: The current solver interface glpk doesn't support setting the optimality tolerance.\n",
      "1714365400.8648522 INFO: Default biomass: [bio1]\n",
      "1714365403.1864858 INFO: metabolites 1111\n",
      "1714365496.8359914 INFO: reactions 1100\n",
      "1714365496.9540915 INFO: The current solver interface glpk doesn't support setting the optimality tolerance.\n",
      "1714365497.351657 INFO: Default biomass: [bio1]\n",
      "1714365498.0589023 INFO: metabolites 1280\n",
      "1714365557.8241699 INFO: reactions 1292\n",
      "1714365557.9661314 INFO: The current solver interface glpk doesn't support setting the optimality tolerance.\n",
      "1714365558.4404552 INFO: Default biomass: [bio1]\n",
      "1714365559.8737237 INFO: metabolites 1123\n",
      "1714365659.3714266 INFO: reactions 1075\n",
      "1714365659.4881535 INFO: The current solver interface glpk doesn't support setting the optimality tolerance.\n",
      "1714365659.8792236 INFO: Default biomass: [bio1]\n",
      "1714365662.4731436 INFO: metabolites 1070\n",
      "1714365701.0564883 INFO: reactions 1011\n",
      "1714365701.167148 INFO: The current solver interface glpk doesn't support setting the optimality tolerance.\n",
      "1714365701.5647602 INFO: Default biomass: [bio1]\n",
      "1714365703.916084 INFO: metabolites 1020\n",
      "1714365729.6740856 INFO: reactions 960\n",
      "1714365729.776333 INFO: The current solver interface glpk doesn't support setting the optimality tolerance.\n",
      "1714365730.1218054 INFO: Default biomass: [bio1]\n",
      "1714365731.424796 INFO: metabolites 969\n",
      "1714365834.9560735 INFO: reactions 893\n",
      "1714365835.063158 INFO: The current solver interface glpk doesn't support setting the optimality tolerance.\n",
      "1714365835.4037423 INFO: Default biomass: [bio1]\n",
      "1714365835.9054394 INFO: metabolites 995\n",
      "1714365865.8500977 INFO: reactions 961\n",
      "1714365865.9513752 INFO: The current solver interface glpk doesn't support setting the optimality tolerance.\n",
      "1714365866.2955315 INFO: Default biomass: [bio1]\n",
      "1714365867.5718741 INFO: metabolites 1016\n",
      "1714365899.7727206 INFO: reactions 910\n",
      "1714365899.8855526 INFO: The current solver interface glpk doesn't support setting the optimality tolerance.\n",
      "1714365900.2410464 INFO: Default biomass: [bio1]\n",
      "1714365900.9678984 INFO: metabolites 1095\n",
      "1714366037.4179335 INFO: reactions 1074\n",
      "1714366037.5367188 INFO: The current solver interface glpk doesn't support setting the optimality tolerance.\n",
      "1714366037.9313319 INFO: Default biomass: [bio1]\n",
      "1714366038.8557618 INFO: metabolites 1147\n",
      "1714366085.5260882 INFO: reactions 1164\n",
      "1714366085.6600232 INFO: The current solver interface glpk doesn't support setting the optimality tolerance.\n",
      "1714366086.1065693 INFO: Default biomass: [bio1]\n",
      "1714366087.176234 INFO: metabolites 1001\n",
      "1714366117.91916 INFO: reactions 924\n",
      "1714366118.0268934 INFO: The current solver interface glpk doesn't support setting the optimality tolerance.\n",
      "1714366118.3813577 INFO: Default biomass: [bio1]\n",
      "1714366119.5677705 INFO: metabolites 942\n",
      "1714366147.3211408 INFO: reactions 888\n",
      "1714366147.4226143 INFO: The current solver interface glpk doesn't support setting the optimality tolerance.\n",
      "1714366147.7628593 INFO: Default biomass: [bio1]\n",
      "1714366147.7866664 INFO: The current solver interface glpk doesn't support setting the optimality tolerance.\n",
      "1714366175.0007443 INFO: Making atp hydrolysis reaction for species: Escherichia.1\n"
     ]
    },
    {
     "name": "stdout",
     "output_type": "stream",
     "text": [
      "bio1 {<Metabolite cpd11416_c0 at 0x7f011a9f6050>: 1, <ModelCompound cpd11416_c1 at 0x7f047bac8fd0>: -0.05555555555555555, <ModelCompound cpd11416_c2 at 0x7f047bfc22d0>: -0.05555555555555555, <ModelCompound cpd11416_c3 at 0x7f0395172a10>: -0.05555555555555555, <ModelCompound cpd11416_c4 at 0x7f0395434210>: -0.05555555555555555, <ModelCompound cpd11416_c5 at 0x7f033280f150>: -0.05555555555555555, <ModelCompound cpd11416_c6 at 0x7f031b6c86d0>: -0.05555555555555555, <ModelCompound cpd11416_c7 at 0x7f02ed16d490>: -0.05555555555555555, <ModelCompound cpd11416_c8 at 0x7f02c184b890>: -0.05555555555555555, <ModelCompound cpd11416_c9 at 0x7f02837d6e50>: -0.05555555555555555, <ModelCompound cpd11416_c10 at 0x7f025cebaed0>: -0.05555555555555555, <ModelCompound cpd11416_c11 at 0x7f0234d1c1d0>: -0.05555555555555555, <ModelCompound cpd11416_c12 at 0x7f0219e5f610>: -0.05555555555555555, <ModelCompound cpd11416_c13 at 0x7f01fc134c10>: -0.05555555555555555, <ModelCompound cpd11416_c14 at 0x7f01dce91cd0>: -0.05555555555555555, <ModelCompound cpd11416_c15 at 0x7f01bb4fc890>: -0.05555555555555555, <ModelCompound cpd11416_c16 at 0x7f018a9872d0>: -0.05555555555555555, <ModelCompound cpd11416_c17 at 0x7f015a572090>: -0.05555555555555555, <ModelCompound cpd11416_c18 at 0x7f013a7618d0>: -0.05555555555555555}\n",
      "SK_cpd11416_c0 {<Metabolite cpd11416_c0 at 0x7f011a9f6050>: -1}\n"
     ]
    },
    {
     "name": "stderr",
     "output_type": "stream",
     "text": [
      "1714366175.550978 INFO: Making atp hydrolysis reaction for species: Lactobacillus.1\n"
     ]
    },
    {
     "name": "stdout",
     "output_type": "stream",
     "text": [
      "1 Escherichia.1\n"
     ]
    },
    {
     "name": "stderr",
     "output_type": "stream",
     "text": [
      "1714366176.091979 INFO: Making atp hydrolysis reaction for species: Enterococcus.2\n"
     ]
    },
    {
     "name": "stdout",
     "output_type": "stream",
     "text": [
      "2 Lactobacillus.1\n"
     ]
    },
    {
     "name": "stderr",
     "output_type": "stream",
     "text": [
      "1714366176.6326628 INFO: Making atp hydrolysis reaction for species: Lactobacillus.2\n"
     ]
    },
    {
     "name": "stdout",
     "output_type": "stream",
     "text": [
      "3 Enterococcus.2\n"
     ]
    },
    {
     "name": "stderr",
     "output_type": "stream",
     "text": [
      "1714366177.1708841 INFO: Making atp hydrolysis reaction for species: Bifidobacterium.1\n"
     ]
    },
    {
     "name": "stdout",
     "output_type": "stream",
     "text": [
      "4 Lactobacillus.2\n"
     ]
    },
    {
     "name": "stderr",
     "output_type": "stream",
     "text": [
      "1714366177.7095253 INFO: Making atp hydrolysis reaction for species: Lactobacillus.3\n"
     ]
    },
    {
     "name": "stdout",
     "output_type": "stream",
     "text": [
      "5 Bifidobacterium.1\n"
     ]
    },
    {
     "name": "stderr",
     "output_type": "stream",
     "text": [
      "1714366178.2485101 INFO: Making atp hydrolysis reaction for species: Parabacteroides.1\n"
     ]
    },
    {
     "name": "stdout",
     "output_type": "stream",
     "text": [
      "6 Lactobacillus.3\n"
     ]
    },
    {
     "name": "stderr",
     "output_type": "stream",
     "text": [
      "1714366178.7877355 INFO: Making atp hydrolysis reaction for species: Staphylococcus.2\n"
     ]
    },
    {
     "name": "stdout",
     "output_type": "stream",
     "text": [
      "7 Parabacteroides.1\n"
     ]
    },
    {
     "name": "stderr",
     "output_type": "stream",
     "text": [
      "1714366179.3265088 INFO: Making atp hydrolysis reaction for species: Bacteroides.6\n"
     ]
    },
    {
     "name": "stdout",
     "output_type": "stream",
     "text": [
      "8 Staphylococcus.2\n"
     ]
    },
    {
     "name": "stderr",
     "output_type": "stream",
     "text": [
      "1714366179.8660464 INFO: Making atp hydrolysis reaction for species: Paraclostridium.1\n"
     ]
    },
    {
     "name": "stdout",
     "output_type": "stream",
     "text": [
      "9 Bacteroides.6\n"
     ]
    },
    {
     "name": "stderr",
     "output_type": "stream",
     "text": [
      "1714366180.4048228 INFO: Making atp hydrolysis reaction for species: Muribaculum.1\n"
     ]
    },
    {
     "name": "stdout",
     "output_type": "stream",
     "text": [
      "10 Paraclostridium.1\n"
     ]
    },
    {
     "name": "stderr",
     "output_type": "stream",
     "text": [
      "1714366180.9432788 INFO: Making atp hydrolysis reaction for species: Hungateiclostridiaceae.1\n"
     ]
    },
    {
     "name": "stdout",
     "output_type": "stream",
     "text": [
      "11 Muribaculum.1\n"
     ]
    },
    {
     "name": "stderr",
     "output_type": "stream",
     "text": [
      "1714366181.4809783 INFO: Making atp hydrolysis reaction for species: Bacteroides.9\n"
     ]
    },
    {
     "name": "stdout",
     "output_type": "stream",
     "text": [
      "12 Hungateiclostridiaceae.1\n"
     ]
    },
    {
     "name": "stderr",
     "output_type": "stream",
     "text": [
      "1714366182.0201697 INFO: Making atp hydrolysis reaction for species: Anaerotruncus.1\n"
     ]
    },
    {
     "name": "stdout",
     "output_type": "stream",
     "text": [
      "13 Bacteroides.9\n"
     ]
    },
    {
     "name": "stderr",
     "output_type": "stream",
     "text": [
      "1714366182.5581307 INFO: Making atp hydrolysis reaction for species: Curtobacterium.1\n"
     ]
    },
    {
     "name": "stdout",
     "output_type": "stream",
     "text": [
      "14 Anaerotruncus.1\n"
     ]
    },
    {
     "name": "stderr",
     "output_type": "stream",
     "text": [
      "1714366183.0958405 INFO: Making atp hydrolysis reaction for species: Staphylococcus.3\n"
     ]
    },
    {
     "name": "stdout",
     "output_type": "stream",
     "text": [
      "15 Curtobacterium.1\n"
     ]
    },
    {
     "name": "stderr",
     "output_type": "stream",
     "text": [
      "1714366183.6335888 INFO: Making atp hydrolysis reaction for species: Alistipes.4\n"
     ]
    },
    {
     "name": "stdout",
     "output_type": "stream",
     "text": [
      "16 Staphylococcus.3\n"
     ]
    },
    {
     "name": "stderr",
     "output_type": "stream",
     "text": [
      "1714366184.1712356 INFO: Making atp hydrolysis reaction for species: Lactobacillus.7\n"
     ]
    },
    {
     "name": "stdout",
     "output_type": "stream",
     "text": [
      "17 Alistipes.4\n",
      "18 Lactobacillus.7\n"
     ]
    },
    {
     "name": "stderr",
     "output_type": "stream",
     "text": [
      "1714366188.181737 INFO: metabolites 972\n",
      "1714366322.266114 INFO: reactions 898\n",
      "1714366322.3623943 INFO: The current solver interface glpk doesn't support setting the optimality tolerance.\n",
      "1714366322.700154 INFO: Default biomass: [bio1]\n",
      "1714366323.1336615 INFO: metabolites 1212\n",
      "1714366385.1472478 INFO: reactions 1209\n",
      "1714366385.2803333 INFO: The current solver interface glpk doesn't support setting the optimality tolerance.\n",
      "1714366385.7323842 INFO: Default biomass: [bio1]\n",
      "1714366386.0965338 INFO: metabolites 896\n",
      "1714366419.3430314 INFO: reactions 805\n",
      "1714366419.4360552 INFO: The current solver interface glpk doesn't support setting the optimality tolerance.\n",
      "1714366419.747567 INFO: Default biomass: [bio1]\n",
      "1714366420.1109765 INFO: metabolites 818\n",
      "1714366442.1127057 INFO: reactions 763\n",
      "1714366442.2202704 INFO: The current solver interface glpk doesn't support setting the optimality tolerance.\n",
      "1714366442.50907 INFO: Default biomass: [bio1]\n",
      "1714366444.6096706 INFO: metabolites 1151\n",
      "1714366628.849984 INFO: reactions 1152\n",
      "1714366628.9787757 INFO: The current solver interface glpk doesn't support setting the optimality tolerance.\n",
      "1714366629.4179251 INFO: Default biomass: [bio1]\n",
      "1714366629.832286 INFO: metabolites 1071\n",
      "1714366674.4231963 INFO: reactions 1009\n",
      "1714366674.5541084 INFO: The current solver interface glpk doesn't support setting the optimality tolerance.\n",
      "1714366674.9421983 INFO: Default biomass: [bio1]\n",
      "1714366675.4205909 INFO: metabolites 1280\n",
      "1714366735.188809 INFO: reactions 1292\n",
      "1714366735.3345687 INFO: The current solver interface glpk doesn't support setting the optimality tolerance.\n",
      "1714366735.831503 INFO: Default biomass: [bio1]\n",
      "1714366736.305042 INFO: metabolites 1095\n",
      "1714366783.142368 INFO: reactions 1074\n",
      "1714366783.265141 INFO: The current solver interface glpk doesn't support setting the optimality tolerance.\n",
      "1714366783.6692102 INFO: Default biomass: [bio1]\n",
      "1714366784.126323 INFO: metabolites 1147\n",
      "1714366985.9599187 INFO: reactions 1164\n",
      "1714366986.09009 INFO: The current solver interface glpk doesn't support setting the optimality tolerance.\n",
      "1714366986.5129147 INFO: Default biomass: [bio1]\n",
      "1714366986.5422008 INFO: The current solver interface glpk doesn't support setting the optimality tolerance.\n",
      "1714366999.2212942 INFO: Making atp hydrolysis reaction for species: Lactobacillus.1\n"
     ]
    },
    {
     "name": "stdout",
     "output_type": "stream",
     "text": [
      "bio1 {<Metabolite cpd11416_c0 at 0x7eff809e4a90>: 1, <ModelCompound cpd11416_c1 at 0x7f01168d1dd0>: -0.1111111111111111, <ModelCompound cpd11416_c2 at 0x7f00ff7c9490>: -0.1111111111111111, <ModelCompound cpd11416_c3 at 0x7f00ff881010>: -0.1111111111111111, <ModelCompound cpd11416_c4 at 0x7f009cc71d10>: -0.1111111111111111, <ModelCompound cpd11416_c5 at 0x7f0085cddd90>: -0.1111111111111111, <ModelCompound cpd11416_c6 at 0x7f004e98eb10>: -0.1111111111111111, <ModelCompound cpd11416_c7 at 0x7f0020285d50>: -0.1111111111111111, <ModelCompound cpd11416_c8 at 0x7effe234d9d0>: -0.1111111111111111, <ModelCompound cpd11416_c9 at 0x7effb1a1a8d0>: -0.1111111111111111}\n",
      "SK_cpd11416_c0 {<Metabolite cpd11416_c0 at 0x7eff809e4a90>: -1}\n"
     ]
    },
    {
     "name": "stderr",
     "output_type": "stream",
     "text": [
      "1714366999.4913394 INFO: Making atp hydrolysis reaction for species: Enterococcus.2\n"
     ]
    },
    {
     "name": "stdout",
     "output_type": "stream",
     "text": [
      "1 Lactobacillus.1\n"
     ]
    },
    {
     "name": "stderr",
     "output_type": "stream",
     "text": [
      "1714366999.768042 INFO: Making atp hydrolysis reaction for species: Lactobacillus.2\n"
     ]
    },
    {
     "name": "stdout",
     "output_type": "stream",
     "text": [
      "2 Enterococcus.2\n"
     ]
    },
    {
     "name": "stderr",
     "output_type": "stream",
     "text": [
      "1714367000.0328155 INFO: Making atp hydrolysis reaction for species: Bifidobacterium.1\n"
     ]
    },
    {
     "name": "stdout",
     "output_type": "stream",
     "text": [
      "3 Lactobacillus.2\n"
     ]
    },
    {
     "name": "stderr",
     "output_type": "stream",
     "text": [
      "1714367000.2972128 INFO: Making atp hydrolysis reaction for species: Enterococcus.3\n"
     ]
    },
    {
     "name": "stdout",
     "output_type": "stream",
     "text": [
      "4 Bifidobacterium.1\n"
     ]
    },
    {
     "name": "stderr",
     "output_type": "stream",
     "text": [
      "1714367000.566151 INFO: Making atp hydrolysis reaction for species: Lactobacillus.3\n"
     ]
    },
    {
     "name": "stdout",
     "output_type": "stream",
     "text": [
      "5 Enterococcus.3\n"
     ]
    },
    {
     "name": "stderr",
     "output_type": "stream",
     "text": [
      "1714367000.8310869 INFO: Making atp hydrolysis reaction for species: Staphylococcus.2\n"
     ]
    },
    {
     "name": "stdout",
     "output_type": "stream",
     "text": [
      "6 Lactobacillus.3\n"
     ]
    },
    {
     "name": "stderr",
     "output_type": "stream",
     "text": [
      "1714367001.0956163 INFO: Making atp hydrolysis reaction for species: Curtobacterium.1\n"
     ]
    },
    {
     "name": "stdout",
     "output_type": "stream",
     "text": [
      "7 Staphylococcus.2\n"
     ]
    },
    {
     "name": "stderr",
     "output_type": "stream",
     "text": [
      "1714367001.3636463 INFO: Making atp hydrolysis reaction for species: Staphylococcus.3\n"
     ]
    },
    {
     "name": "stdout",
     "output_type": "stream",
     "text": [
      "8 Curtobacterium.1\n",
      "9 Staphylococcus.3\n"
     ]
    },
    {
     "name": "stderr",
     "output_type": "stream",
     "text": [
      "1714367003.3946528 INFO: metabolites 972\n",
      "1714367028.0240738 INFO: reactions 898\n",
      "1714367028.117313 INFO: The current solver interface glpk doesn't support setting the optimality tolerance.\n",
      "1714367028.4512286 INFO: Default biomass: [bio1]\n",
      "1714367028.760785 INFO: metabolites 818\n",
      "1714367050.7274373 INFO: reactions 763\n",
      "1714367050.833066 INFO: The current solver interface glpk doesn't support setting the optimality tolerance.\n",
      "1714367051.124348 INFO: Default biomass: [bio1]\n",
      "1714367051.6100605 INFO: metabolites 1071\n",
      "1714367096.1968927 INFO: reactions 1009\n",
      "1714367096.3251097 INFO: The current solver interface glpk doesn't support setting the optimality tolerance.\n",
      "1714367096.7176318 INFO: Default biomass: [bio1]\n",
      "1714367097.1761997 INFO: metabolites 1280\n",
      "1714367157.3181856 INFO: reactions 1292\n",
      "1714367157.4647632 INFO: The current solver interface glpk doesn't support setting the optimality tolerance.\n",
      "1714367157.9623854 INFO: Default biomass: [bio1]\n",
      "1714367160.4354284 INFO: metabolites 968\n",
      "1714367187.4768882 INFO: reactions 868\n",
      "1714367187.5745883 INFO: The current solver interface glpk doesn't support setting the optimality tolerance.\n",
      "1714367187.9026766 INFO: Default biomass: [bio1]\n",
      "1714367188.2601328 INFO: metabolites 969\n",
      "1714367411.0613759 INFO: reactions 893\n",
      "1714367411.164315 INFO: The current solver interface glpk doesn't support setting the optimality tolerance.\n",
      "1714367411.494853 INFO: Default biomass: [bio1]\n",
      "1714367411.9449835 INFO: metabolites 1016\n",
      "1714367444.193426 INFO: reactions 910\n",
      "1714367444.3075907 INFO: The current solver interface glpk doesn't support setting the optimality tolerance.\n",
      "1714367444.6612062 INFO: Default biomass: [bio1]\n",
      "1714367445.5096323 INFO: metabolites 892\n",
      "1714367469.7627375 INFO: reactions 801\n",
      "1714367469.8631194 INFO: The current solver interface glpk doesn't support setting the optimality tolerance.\n",
      "1714367470.1738496 INFO: Default biomass: [bio1]\n",
      "1714367470.1990228 INFO: The current solver interface glpk doesn't support setting the optimality tolerance.\n",
      "1714367479.846539 INFO: Making atp hydrolysis reaction for species: Lactobacillus.1\n"
     ]
    },
    {
     "name": "stdout",
     "output_type": "stream",
     "text": [
      "bio1 {<Metabolite cpd11416_c0 at 0x7efe6cf8bb50>: 1, <ModelCompound cpd11416_c1 at 0x7eff7f030a10>: -0.125, <ModelCompound cpd11416_c2 at 0x7eff6574f7d0>: -0.125, <ModelCompound cpd11416_c3 at 0x7eff4e7d3c10>: -0.125, <ModelCompound cpd11416_c4 at 0x7eff20540f10>: -0.125, <ModelCompound cpd11416_c5 at 0x7eff206d73d0>: -0.125, <ModelCompound cpd11416_c6 at 0x7efec66ffb10>: -0.125, <ModelCompound cpd11416_c7 at 0x7efea854cc90>: -0.125, <ModelCompound cpd11416_c8 at 0x7efe86eea310>: -0.125}\n",
      "SK_cpd11416_c0 {<Metabolite cpd11416_c0 at 0x7efe6cf8bb50>: -1}\n"
     ]
    },
    {
     "name": "stderr",
     "output_type": "stream",
     "text": [
      "1714367480.0626714 INFO: Making atp hydrolysis reaction for species: Bifidobacterium.1\n"
     ]
    },
    {
     "name": "stdout",
     "output_type": "stream",
     "text": [
      "1 Lactobacillus.1\n"
     ]
    },
    {
     "name": "stderr",
     "output_type": "stream",
     "text": [
      "1714367480.2755938 INFO: Making atp hydrolysis reaction for species: Lactobacillus.3\n"
     ]
    },
    {
     "name": "stdout",
     "output_type": "stream",
     "text": [
      "2 Bifidobacterium.1\n"
     ]
    },
    {
     "name": "stderr",
     "output_type": "stream",
     "text": [
      "1714367480.4876583 INFO: Making atp hydrolysis reaction for species: Staphylococcus.2\n"
     ]
    },
    {
     "name": "stdout",
     "output_type": "stream",
     "text": [
      "3 Lactobacillus.3\n"
     ]
    },
    {
     "name": "stderr",
     "output_type": "stream",
     "text": [
      "1714367480.69952 INFO: Making atp hydrolysis reaction for species: Alistipes.2\n"
     ]
    },
    {
     "name": "stdout",
     "output_type": "stream",
     "text": [
      "4 Staphylococcus.2\n"
     ]
    },
    {
     "name": "stderr",
     "output_type": "stream",
     "text": [
      "1714367480.910978 INFO: Making atp hydrolysis reaction for species: Hungateiclostridiaceae.1\n"
     ]
    },
    {
     "name": "stdout",
     "output_type": "stream",
     "text": [
      "5 Alistipes.2\n"
     ]
    },
    {
     "name": "stderr",
     "output_type": "stream",
     "text": [
      "1714367481.122963 INFO: Making atp hydrolysis reaction for species: Anaerotruncus.1\n"
     ]
    },
    {
     "name": "stdout",
     "output_type": "stream",
     "text": [
      "6 Hungateiclostridiaceae.1\n"
     ]
    },
    {
     "name": "stderr",
     "output_type": "stream",
     "text": [
      "1714367481.3352113 INFO: Making atp hydrolysis reaction for species: Enterorhabdus.1\n"
     ]
    },
    {
     "name": "stdout",
     "output_type": "stream",
     "text": [
      "7 Anaerotruncus.1\n",
      "8 Enterorhabdus.1\n"
     ]
    },
    {
     "name": "stderr",
     "output_type": "stream",
     "text": [
      "1714367483.1025004 INFO: metabolites 972\n",
      "1714367507.7967772 INFO: reactions 898\n",
      "1714367507.8956797 INFO: The current solver interface glpk doesn't support setting the optimality tolerance.\n",
      "1714367508.2431772 INFO: Default biomass: [bio1]\n",
      "1714367508.6245716 INFO: metabolites 818\n",
      "1714367530.6123717 INFO: reactions 763\n",
      "1714367530.7180092 INFO: The current solver interface glpk doesn't support setting the optimality tolerance.\n",
      "1714367531.0116675 INFO: Default biomass: [bio1]\n",
      "1714367531.422404 INFO: metabolites 1071\n",
      "1714367575.8893504 INFO: reactions 1009\n",
      "1714367576.0173469 INFO: The current solver interface glpk doesn't support setting the optimality tolerance.\n",
      "1714367576.4077425 INFO: Default biomass: [bio1]\n",
      "1714367576.8754122 INFO: metabolites 1280\n",
      "1714367636.5133648 INFO: reactions 1292\n",
      "1714367636.6587112 INFO: The current solver interface glpk doesn't support setting the optimality tolerance.\n",
      "1714367637.1486044 INFO: Default biomass: [bio1]\n",
      "1714367637.501112 INFO: metabolites 968\n",
      "1714367664.439279 INFO: reactions 868\n",
      "1714367664.5365882 INFO: The current solver interface glpk doesn't support setting the optimality tolerance.\n",
      "1714367664.8694346 INFO: Default biomass: [bio1]\n",
      "1714367665.243331 INFO: metabolites 969\n",
      "1714367925.299741 INFO: reactions 893\n",
      "1714367925.40109 INFO: The current solver interface glpk doesn't support setting the optimality tolerance.\n",
      "1714367925.7384808 INFO: Default biomass: [bio1]\n",
      "1714367926.133511 INFO: metabolites 1016\n",
      "1714367958.3069985 INFO: reactions 910\n",
      "1714367958.4209597 INFO: The current solver interface glpk doesn't support setting the optimality tolerance.\n",
      "1714367958.7782826 INFO: Default biomass: [bio1]\n",
      "1714367959.0972462 INFO: metabolites 892\n",
      "1714367983.2872736 INFO: reactions 801\n",
      "1714367983.3830042 INFO: The current solver interface glpk doesn't support setting the optimality tolerance.\n",
      "1714367983.6851046 INFO: Default biomass: [bio1]\n",
      "1714367983.7106822 INFO: The current solver interface glpk doesn't support setting the optimality tolerance.\n",
      "1714367993.388019 INFO: Making atp hydrolysis reaction for species: Lactobacillus.1\n"
     ]
    },
    {
     "name": "stdout",
     "output_type": "stream",
     "text": [
      "bio1 {<Metabolite cpd11416_c0 at 0x7efd599cfb50>: 1, <ModelCompound cpd11416_c1 at 0x7efe6b159d90>: -0.125, <ModelCompound cpd11416_c2 at 0x7efe524a6490>: -0.125, <ModelCompound cpd11416_c3 at 0x7efe3b511850>: -0.125, <ModelCompound cpd11416_c4 at 0x7efe0cd84990>: -0.125, <ModelCompound cpd11416_c5 at 0x7efe0d119b90>: -0.125, <ModelCompound cpd11416_c6 at 0x7efdb3147610>: -0.125, <ModelCompound cpd11416_c7 at 0x7efd94f8cad0>: -0.125, <ModelCompound cpd11416_c8 at 0x7efd7392e2d0>: -0.125}\n",
      "SK_cpd11416_c0 {<Metabolite cpd11416_c0 at 0x7efd599cfb50>: -1}\n"
     ]
    },
    {
     "name": "stderr",
     "output_type": "stream",
     "text": [
      "1714367993.602013 INFO: Making atp hydrolysis reaction for species: Bifidobacterium.1\n"
     ]
    },
    {
     "name": "stdout",
     "output_type": "stream",
     "text": [
      "1 Lactobacillus.1\n"
     ]
    },
    {
     "name": "stderr",
     "output_type": "stream",
     "text": [
      "1714367993.8122325 INFO: Making atp hydrolysis reaction for species: Lactobacillus.3\n"
     ]
    },
    {
     "name": "stdout",
     "output_type": "stream",
     "text": [
      "2 Bifidobacterium.1\n"
     ]
    },
    {
     "name": "stderr",
     "output_type": "stream",
     "text": [
      "1714367994.0215461 INFO: Making atp hydrolysis reaction for species: Staphylococcus.2\n"
     ]
    },
    {
     "name": "stdout",
     "output_type": "stream",
     "text": [
      "3 Lactobacillus.3\n"
     ]
    },
    {
     "name": "stderr",
     "output_type": "stream",
     "text": [
      "1714367994.2316313 INFO: Making atp hydrolysis reaction for species: Alistipes.2\n"
     ]
    },
    {
     "name": "stdout",
     "output_type": "stream",
     "text": [
      "4 Staphylococcus.2\n"
     ]
    },
    {
     "name": "stderr",
     "output_type": "stream",
     "text": [
      "1714367994.4508214 INFO: Making atp hydrolysis reaction for species: Hungateiclostridiaceae.1\n"
     ]
    },
    {
     "name": "stdout",
     "output_type": "stream",
     "text": [
      "5 Alistipes.2\n"
     ]
    },
    {
     "name": "stderr",
     "output_type": "stream",
     "text": [
      "1714367994.6623774 INFO: Making atp hydrolysis reaction for species: Anaerotruncus.1\n"
     ]
    },
    {
     "name": "stdout",
     "output_type": "stream",
     "text": [
      "6 Hungateiclostridiaceae.1\n"
     ]
    },
    {
     "name": "stderr",
     "output_type": "stream",
     "text": [
      "1714367994.8770132 INFO: Making atp hydrolysis reaction for species: Enterorhabdus.1\n"
     ]
    },
    {
     "name": "stdout",
     "output_type": "stream",
     "text": [
      "7 Anaerotruncus.1\n",
      "8 Enterorhabdus.1\n"
     ]
    },
    {
     "name": "stderr",
     "output_type": "stream",
     "text": [
      "1714367996.578734 INFO: metabolites 972\n",
      "1714368021.228236 INFO: reactions 898\n",
      "1714368021.327253 INFO: The current solver interface glpk doesn't support setting the optimality tolerance.\n",
      "1714368021.6746998 INFO: Default biomass: [bio1]\n",
      "1714368022.1314287 INFO: metabolites 1212\n",
      "1714368084.1143804 INFO: reactions 1209\n",
      "1714368084.2506218 INFO: The current solver interface glpk doesn't support setting the optimality tolerance.\n",
      "1714368084.7188659 INFO: Default biomass: [bio1]\n",
      "1714368085.1298518 INFO: metabolites 1151\n",
      "1714368138.2257102 INFO: reactions 1152\n",
      "1714368138.3544106 INFO: The current solver interface glpk doesn't support setting the optimality tolerance.\n",
      "1714368138.7929268 INFO: Default biomass: [bio1]\n",
      "1714368139.1792176 INFO: metabolites 1071\n",
      "1714368183.5344546 INFO: reactions 1009\n",
      "1714368183.66526 INFO: The current solver interface glpk doesn't support setting the optimality tolerance.\n",
      "1714368184.0529375 INFO: Default biomass: [bio1]\n",
      "1714368184.5410051 INFO: metabolites 1280\n",
      "1714368515.8852463 INFO: reactions 1292\n",
      "1714368516.0342643 INFO: The current solver interface glpk doesn't support setting the optimality tolerance.\n",
      "1714368516.526764 INFO: Default biomass: [bio1]\n",
      "1714368516.9341025 INFO: metabolites 1016\n",
      "1714368549.4969587 INFO: reactions 910\n",
      "1714368549.6137233 INFO: The current solver interface glpk doesn't support setting the optimality tolerance.\n",
      "1714368549.975254 INFO: Default biomass: [bio1]\n",
      "1714368550.435447 INFO: metabolites 1147\n",
      "1714368597.1779513 INFO: reactions 1164\n",
      "1714368597.3125927 INFO: The current solver interface glpk doesn't support setting the optimality tolerance.\n",
      "1714368597.757614 INFO: Default biomass: [bio1]\n",
      "1714368597.79304 INFO: The current solver interface glpk doesn't support setting the optimality tolerance.\n",
      "1714368608.2721133 INFO: Making atp hydrolysis reaction for species: Lactobacillus.1\n"
     ]
    },
    {
     "name": "stdout",
     "output_type": "stream",
     "text": [
      "bio1 {<Metabolite cpd11416_c0 at 0x7efc08d44ed0>: 1, <ModelCompound cpd11416_c1 at 0x7efd57b91d90>: -0.14285714285714285, <ModelCompound cpd11416_c2 at 0x7efd3eccdbd0>: -0.14285714285714285, <ModelCompound cpd11416_c3 at 0x7efcfe942010>: -0.14285714285714285, <ModelCompound cpd11416_c4 at 0x7efcc74a05d0>: -0.14285714285714285, <ModelCompound cpd11416_c5 at 0x7efc98d585d0>: -0.14285714285714285, <ModelCompound cpd11416_c6 at 0x7efd3f04a510>: -0.14285714285714285, <ModelCompound cpd11416_c7 at 0x7efc395717d0>: -0.14285714285714285}\n",
      "SK_cpd11416_c0 {<Metabolite cpd11416_c0 at 0x7efc08d44ed0>: -1}\n"
     ]
    },
    {
     "name": "stderr",
     "output_type": "stream",
     "text": [
      "1714368608.4917197 INFO: Making atp hydrolysis reaction for species: Enterococcus.2\n"
     ]
    },
    {
     "name": "stdout",
     "output_type": "stream",
     "text": [
      "1 Lactobacillus.1\n"
     ]
    },
    {
     "name": "stderr",
     "output_type": "stream",
     "text": [
      "1714368608.7086058 INFO: Making atp hydrolysis reaction for species: Enterococcus.3\n"
     ]
    },
    {
     "name": "stdout",
     "output_type": "stream",
     "text": [
      "2 Enterococcus.2\n"
     ]
    },
    {
     "name": "stderr",
     "output_type": "stream",
     "text": [
      "1714368608.92507 INFO: Making atp hydrolysis reaction for species: Lactobacillus.3\n"
     ]
    },
    {
     "name": "stdout",
     "output_type": "stream",
     "text": [
      "3 Enterococcus.3\n"
     ]
    },
    {
     "name": "stderr",
     "output_type": "stream",
     "text": [
      "1714368609.1412077 INFO: Making atp hydrolysis reaction for species: Staphylococcus.2\n"
     ]
    },
    {
     "name": "stdout",
     "output_type": "stream",
     "text": [
      "4 Lactobacillus.3\n"
     ]
    },
    {
     "name": "stderr",
     "output_type": "stream",
     "text": [
      "1714368609.3574378 INFO: Making atp hydrolysis reaction for species: Anaerotruncus.1\n"
     ]
    },
    {
     "name": "stdout",
     "output_type": "stream",
     "text": [
      "5 Staphylococcus.2\n"
     ]
    },
    {
     "name": "stderr",
     "output_type": "stream",
     "text": [
      "1714368609.573947 INFO: Making atp hydrolysis reaction for species: Staphylococcus.3\n"
     ]
    },
    {
     "name": "stdout",
     "output_type": "stream",
     "text": [
      "6 Anaerotruncus.1\n",
      "7 Staphylococcus.3\n"
     ]
    },
    {
     "name": "stderr",
     "output_type": "stream",
     "text": [
      "1714368611.313548 INFO: metabolites 972\n",
      "1714368635.9120018 INFO: reactions 898\n",
      "1714368636.0092185 INFO: The current solver interface glpk doesn't support setting the optimality tolerance.\n",
      "1714368636.3440046 INFO: Default biomass: [bio1]\n",
      "1714368636.78791 INFO: metabolites 1212\n",
      "1714368698.7636101 INFO: reactions 1209\n",
      "1714368698.8989325 INFO: The current solver interface glpk doesn't support setting the optimality tolerance.\n",
      "1714368699.3641233 INFO: Default biomass: [bio1]\n",
      "1714368699.7568793 INFO: metabolites 1151\n",
      "1714368752.9742846 INFO: reactions 1152\n",
      "1714368753.103293 INFO: The current solver interface glpk doesn't support setting the optimality tolerance.\n",
      "1714368753.5477521 INFO: Default biomass: [bio1]\n",
      "1714368753.9425075 INFO: metabolites 1071\n",
      "1714368798.6215243 INFO: reactions 1009\n",
      "1714368798.7516453 INFO: The current solver interface glpk doesn't support setting the optimality tolerance.\n",
      "1714368799.1380374 INFO: Default biomass: [bio1]\n",
      "1714368800.1938846 INFO: metabolites 1595\n",
      "1714369242.2017543 INFO: reactions 1780\n",
      "1714369242.400677 INFO: The current solver interface glpk doesn't support setting the optimality tolerance.\n",
      "1714369243.0680218 INFO: Default biomass: [bio1]\n",
      "1714369243.5744684 INFO: metabolites 1280\n",
      "1714369303.380328 INFO: reactions 1292\n",
      "1714369303.527417 INFO: The current solver interface glpk doesn't support setting the optimality tolerance.\n",
      "1714369304.01473 INFO: Default biomass: [bio1]\n",
      "1714369304.4010127 INFO: metabolites 968\n",
      "1714369331.5581927 INFO: reactions 868\n",
      "1714369331.6570253 INFO: The current solver interface glpk doesn't support setting the optimality tolerance.\n",
      "1714369331.9875438 INFO: Default biomass: [bio1]\n",
      "1714369332.2988734 INFO: metabolites 969\n",
      "1714369361.1571834 INFO: reactions 893\n",
      "1714369361.2617154 INFO: The current solver interface glpk doesn't support setting the optimality tolerance.\n",
      "1714369361.6128016 INFO: Default biomass: [bio1]\n",
      "1714369361.9964576 INFO: metabolites 1016\n",
      "1714369394.3326185 INFO: reactions 910\n",
      "1714369394.4481566 INFO: The current solver interface glpk doesn't support setting the optimality tolerance.\n",
      "1714369394.8085268 INFO: Default biomass: [bio1]\n",
      "1714369394.8372643 INFO: The current solver interface glpk doesn't support setting the optimality tolerance.\n",
      "1714369409.3443587 INFO: Making atp hydrolysis reaction for species: Lactobacillus.1\n"
     ]
    },
    {
     "name": "stdout",
     "output_type": "stream",
     "text": [
      "bio1 {<Metabolite cpd11416_c0 at 0x7efa36319490>: 1, <ModelCompound cpd11416_c1 at 0x7efc069a6d90>: -0.1111111111111111, <ModelCompound cpd11416_c2 at 0x7efbeda15950>: -0.1111111111111111, <ModelCompound cpd11416_c3 at 0x7efbad481dd0>: -0.1111111111111111, <ModelCompound cpd11416_c4 at 0x7efb761e4350>: -0.1111111111111111, <ModelCompound cpd11416_c5 at 0x7efb476fa350>: -0.1111111111111111, <ModelCompound cpd11416_c6 at 0x7efb478a1190>: -0.1111111111111111, <ModelCompound cpd11416_c7 at 0x7efb47b0c390>: -0.1111111111111111, <ModelCompound cpd11416_c8 at 0x7efa76a52d10>: -0.1111111111111111, <ModelCompound cpd11416_c9 at 0x7efa58aa70d0>: -0.1111111111111111}\n",
      "SK_cpd11416_c0 {<Metabolite cpd11416_c0 at 0x7efa36319490>: -1}\n"
     ]
    },
    {
     "name": "stderr",
     "output_type": "stream",
     "text": [
      "1714369409.6383083 INFO: Making atp hydrolysis reaction for species: Enterococcus.2\n"
     ]
    },
    {
     "name": "stdout",
     "output_type": "stream",
     "text": [
      "1 Lactobacillus.1\n"
     ]
    },
    {
     "name": "stderr",
     "output_type": "stream",
     "text": [
      "1714369409.9275618 INFO: Making atp hydrolysis reaction for species: Enterococcus.3\n"
     ]
    },
    {
     "name": "stdout",
     "output_type": "stream",
     "text": [
      "2 Enterococcus.2\n"
     ]
    },
    {
     "name": "stderr",
     "output_type": "stream",
     "text": [
      "1714369410.2191489 INFO: Making atp hydrolysis reaction for species: Lactobacillus.3\n"
     ]
    },
    {
     "name": "stdout",
     "output_type": "stream",
     "text": [
      "3 Enterococcus.3\n"
     ]
    },
    {
     "name": "stderr",
     "output_type": "stream",
     "text": [
      "1714369410.5084567 INFO: Making atp hydrolysis reaction for species: Klebsiella.1\n"
     ]
    },
    {
     "name": "stdout",
     "output_type": "stream",
     "text": [
      "4 Lactobacillus.3\n"
     ]
    },
    {
     "name": "stderr",
     "output_type": "stream",
     "text": [
      "1714369410.7979164 INFO: Making atp hydrolysis reaction for species: Staphylococcus.2\n"
     ]
    },
    {
     "name": "stdout",
     "output_type": "stream",
     "text": [
      "5 Klebsiella.1\n"
     ]
    },
    {
     "name": "stderr",
     "output_type": "stream",
     "text": [
      "1714369411.0879447 INFO: Making atp hydrolysis reaction for species: Alistipes.2\n"
     ]
    },
    {
     "name": "stdout",
     "output_type": "stream",
     "text": [
      "6 Staphylococcus.2\n"
     ]
    },
    {
     "name": "stderr",
     "output_type": "stream",
     "text": [
      "1714369411.3815281 INFO: Making atp hydrolysis reaction for species: Hungateiclostridiaceae.1\n"
     ]
    },
    {
     "name": "stdout",
     "output_type": "stream",
     "text": [
      "7 Alistipes.2\n"
     ]
    },
    {
     "name": "stderr",
     "output_type": "stream",
     "text": [
      "1714369411.6706057 INFO: Making atp hydrolysis reaction for species: Anaerotruncus.1\n"
     ]
    },
    {
     "name": "stdout",
     "output_type": "stream",
     "text": [
      "8 Hungateiclostridiaceae.1\n",
      "9 Anaerotruncus.1\n"
     ]
    },
    {
     "name": "stderr",
     "output_type": "stream",
     "text": [
      "1714369413.9204388 INFO: metabolites 972\n",
      "1714369438.6850653 INFO: reactions 898\n",
      "1714369438.7844331 INFO: The current solver interface glpk doesn't support setting the optimality tolerance.\n",
      "1714369439.133453 INFO: Default biomass: [bio1]\n",
      "1714369439.5498023 INFO: metabolites 1212\n",
      "1714369501.5691836 INFO: reactions 1209\n",
      "1714369501.7051828 INFO: The current solver interface glpk doesn't support setting the optimality tolerance.\n",
      "1714369502.1711931 INFO: Default biomass: [bio1]\n",
      "1714369502.559671 INFO: metabolites 818\n",
      "1714369524.4583502 INFO: reactions 763\n",
      "1714369524.5635166 INFO: The current solver interface glpk doesn't support setting the optimality tolerance.\n",
      "1714369524.8510683 INFO: Default biomass: [bio1]\n",
      "1714369525.3129234 INFO: metabolites 1151\n",
      "1714369578.2672145 INFO: reactions 1152\n",
      "1714369578.3960342 INFO: The current solver interface glpk doesn't support setting the optimality tolerance.\n",
      "1714369578.8333688 INFO: Default biomass: [bio1]\n",
      "1714369579.4753313 INFO: metabolites 1071\n",
      "1714369623.915215 INFO: reactions 1009\n",
      "1714369624.045402 INFO: The current solver interface glpk doesn't support setting the optimality tolerance.\n",
      "1714369624.4361024 INFO: Default biomass: [bio1]\n",
      "1714369625.0310154 INFO: metabolites 1595\n",
      "1714370132.3251607 INFO: reactions 1780\n",
      "1714370132.5282547 INFO: The current solver interface glpk doesn't support setting the optimality tolerance.\n",
      "1714370133.2161136 INFO: Default biomass: [bio1]\n",
      "1714370133.7369988 INFO: metabolites 1280\n",
      "1714370193.7111883 INFO: reactions 1292\n",
      "1714370193.8602777 INFO: The current solver interface glpk doesn't support setting the optimality tolerance.\n",
      "1714370194.3565652 INFO: Default biomass: [bio1]\n",
      "1714370194.7142804 INFO: metabolites 968\n",
      "1714370221.7752514 INFO: reactions 868\n",
      "1714370221.875484 INFO: The current solver interface glpk doesn't support setting the optimality tolerance.\n",
      "1714370222.212144 INFO: Default biomass: [bio1]\n",
      "1714370222.572196 INFO: metabolites 969\n",
      "1714370251.2720037 INFO: reactions 893\n",
      "1714370251.377407 INFO: The current solver interface glpk doesn't support setting the optimality tolerance.\n",
      "1714370251.719205 INFO: Default biomass: [bio1]\n",
      "1714370252.0622044 INFO: metabolites 1016\n",
      "1714370284.2273946 INFO: reactions 910\n",
      "1714370284.3409357 INFO: The current solver interface glpk doesn't support setting the optimality tolerance.\n",
      "1714370284.69022 INFO: Default biomass: [bio1]\n",
      "1714370284.71914 INFO: The current solver interface glpk doesn't support setting the optimality tolerance.\n",
      "1714370300.1499653 INFO: Making atp hydrolysis reaction for species: Lactobacillus.1\n"
     ]
    },
    {
     "name": "stdout",
     "output_type": "stream",
     "text": [
      "bio1 {<Metabolite cpd11416_c0 at 0x7ef84ca0d5d0>: 1, <ModelCompound cpd11416_c1 at 0x7efa33a99490>: -0.1, <ModelCompound cpd11416_c2 at 0x7efa1b20fd10>: -0.1, <ModelCompound cpd11416_c3 at 0x7ef9dad4cc50>: -0.1, <ModelCompound cpd11416_c4 at 0x7ef9c3f37e10>: -0.1, <ModelCompound cpd11416_c5 at 0x7ef98cc018d0>: -0.1, <ModelCompound cpd11416_c6 at 0x7ef95e1279d0>: -0.1, <ModelCompound cpd11416_c7 at 0x7ef95e2d2dd0>: -0.1, <ModelCompound cpd11416_c8 at 0x7ef95e53f490>: -0.1, <ModelCompound cpd11416_c9 at 0x7ef88d488490>: -0.1, <ModelCompound cpd11416_c10 at 0x7ef86f4e87d0>: -0.1}\n",
      "SK_cpd11416_c0 {<Metabolite cpd11416_c0 at 0x7ef84ca0d5d0>: -1}\n"
     ]
    },
    {
     "name": "stderr",
     "output_type": "stream",
     "text": [
      "1714370300.4609458 INFO: Making atp hydrolysis reaction for species: Enterococcus.2\n"
     ]
    },
    {
     "name": "stdout",
     "output_type": "stream",
     "text": [
      "1 Lactobacillus.1\n"
     ]
    },
    {
     "name": "stderr",
     "output_type": "stream",
     "text": [
      "1714370300.766766 INFO: Making atp hydrolysis reaction for species: Bifidobacterium.1\n"
     ]
    },
    {
     "name": "stdout",
     "output_type": "stream",
     "text": [
      "2 Enterococcus.2\n"
     ]
    },
    {
     "name": "stderr",
     "output_type": "stream",
     "text": [
      "1714370301.0727603 INFO: Making atp hydrolysis reaction for species: Enterococcus.3\n"
     ]
    },
    {
     "name": "stdout",
     "output_type": "stream",
     "text": [
      "3 Bifidobacterium.1\n"
     ]
    },
    {
     "name": "stderr",
     "output_type": "stream",
     "text": [
      "1714370301.37781 INFO: Making atp hydrolysis reaction for species: Lactobacillus.3\n"
     ]
    },
    {
     "name": "stdout",
     "output_type": "stream",
     "text": [
      "4 Enterococcus.3\n"
     ]
    },
    {
     "name": "stderr",
     "output_type": "stream",
     "text": [
      "1714370301.6824052 INFO: Making atp hydrolysis reaction for species: Klebsiella.1\n"
     ]
    },
    {
     "name": "stdout",
     "output_type": "stream",
     "text": [
      "5 Lactobacillus.3\n"
     ]
    },
    {
     "name": "stderr",
     "output_type": "stream",
     "text": [
      "1714370301.987998 INFO: Making atp hydrolysis reaction for species: Staphylococcus.2\n"
     ]
    },
    {
     "name": "stdout",
     "output_type": "stream",
     "text": [
      "6 Klebsiella.1\n"
     ]
    },
    {
     "name": "stderr",
     "output_type": "stream",
     "text": [
      "1714370302.2930908 INFO: Making atp hydrolysis reaction for species: Alistipes.2\n"
     ]
    },
    {
     "name": "stdout",
     "output_type": "stream",
     "text": [
      "7 Staphylococcus.2\n"
     ]
    },
    {
     "name": "stderr",
     "output_type": "stream",
     "text": [
      "1714370302.5987625 INFO: Making atp hydrolysis reaction for species: Hungateiclostridiaceae.1\n"
     ]
    },
    {
     "name": "stdout",
     "output_type": "stream",
     "text": [
      "8 Alistipes.2\n"
     ]
    },
    {
     "name": "stderr",
     "output_type": "stream",
     "text": [
      "1714370302.9040403 INFO: Making atp hydrolysis reaction for species: Anaerotruncus.1\n"
     ]
    },
    {
     "name": "stdout",
     "output_type": "stream",
     "text": [
      "9 Hungateiclostridiaceae.1\n",
      "10 Anaerotruncus.1\n"
     ]
    }
   ],
   "source": [
    "import cobra\n",
    "asv_abundances = util.load(\"averaged_asv_abundances_interday_mapping\")\n",
    "asvset_names = util.load(\"asvset_names\")\n",
    "community_asvs = {}\n",
    "totals = {}\n",
    "community_list = [\"RC-ABX_9.0\",\"RC-ABX_6.0\",\"RC-ABX_4.0\",\"RC-ABX_21.0\",\"RC-ABX_12.5\",\"RC-ABX_1.5\",\"RC-ABX_-1.5\"]\n",
    "for community in community_list:\n",
    "    totals[community] = 0\n",
    "for asvset in asv_abundances:\n",
    "    if asvset in asvset_names:\n",
    "        asvname = asvset_names[asvset]\n",
    "        for community in asv_abundances[asvset]:\n",
    "            if community not in community_asvs:\n",
    "                community_asvs[community] = {}\n",
    "            totals[community] += asv_abundances[asvset][community]\n",
    "            community_asvs[community][asvname] = asv_abundances[asvset][community]\n",
    "template_refs = []\n",
    "genome_refs = []\n",
    "exclude = [\"Bacteroides.5.ASV.mdl\"]\n",
    "rxn_probabilities = {}\n",
    "community_names = {}\n",
    "for community in community_asvs:\n",
    "    rxn_probabilities[community] = {}\n",
    "    member_models = []\n",
    "    member_names = []\n",
    "    member_abundances = {}\n",
    "    total = 0\n",
    "    for asv in community_asvs[community]:\n",
    "        if asv+\".ASV.mdl\" not in exclude:\n",
    "            if community_asvs[community][asv]/totals[community] > 0.001:\n",
    "                rxn_probabilities[community][asv] = {}\n",
    "                model = util.msrecon.get_model(asv+\".ASV.mdl\",178846)            \n",
    "                for rxn in model.model.reactions:\n",
    "                    if \"probability\" in rxn.notes:\n",
    "                        rxn_probabilities[community][asv][rxn.id] = rxn.notes[\"probability\"]\n",
    "                template_refs.append(model.model.template_ref)\n",
    "                genome_refs.append(model.model.genome_ref)\n",
    "                member_models.append(model.model)\n",
    "                member_names.append(asv)\n",
    "                member_abundances[asv] = community_asvs[community][asv]\n",
    "                total += community_asvs[community][asv]\n",
    "    community_names[community] = member_names\n",
    "    for asv in member_abundances:\n",
    "        member_abundances[asv] = member_abundances[asv]/total\n",
    "    comm_model = MSCommunity.build_from_species_models(\n",
    "        member_models,\n",
    "        mdlid=community, \n",
    "        name=community,\n",
    "        names=member_names,\n",
    "        abundances=member_abundances\n",
    "    )\n",
    "    cobra.io.save_json_model(comm_model.model, community+'.json')\n",
    "community_names = util.save(\"community_names\",community_names)\n",
    "rxn_probabilities = util.save(\"rxn_probabilities\",rxn_probabilities)"
   ]
  },
  {
   "cell_type": "markdown",
   "metadata": {
    "jp-MarkdownHeadingCollapsed": true,
    "tags": []
   },
   "source": [
    "# Simulating community model in each condition"
   ]
  },
  {
   "cell_type": "code",
   "execution_count": 3,
   "metadata": {
    "tags": []
   },
   "outputs": [
    {
     "name": "stderr",
     "output_type": "stream",
     "text": [
      "1714759345.9625819 INFO: The current solver interface glpk doesn't support setting the optimality tolerance.\n",
      "1714760246.9092686 INFO: The current solver interface glpk doesn't support setting the optimality tolerance.\n"
     ]
    },
    {
     "ename": "NameError",
     "evalue": "name 'community_names' is not defined",
     "output_type": "error",
     "traceback": [
      "\u001b[0;31m---------------------------------------------------------------------------\u001b[0m",
      "\u001b[0;31mNameError\u001b[0m                                 Traceback (most recent call last)",
      "Cell \u001b[0;32mIn[3], line 50\u001b[0m\n\u001b[1;32m     44\u001b[0m output \u001b[38;5;241m=\u001b[39m {\n\u001b[1;32m     45\u001b[0m     \u001b[38;5;124m\"\u001b[39m\u001b[38;5;124mkinetics_coef\u001b[39m\u001b[38;5;124m\"\u001b[39m:kinetics_coef,\n\u001b[1;32m     46\u001b[0m }\n\u001b[1;32m     47\u001b[0m model_copy \u001b[38;5;241m=\u001b[39m cobra\u001b[38;5;241m.\u001b[39mio\u001b[38;5;241m.\u001b[39mjson\u001b[38;5;241m.\u001b[39mfrom_json(cobra\u001b[38;5;241m.\u001b[39mio\u001b[38;5;241m.\u001b[39mjson\u001b[38;5;241m.\u001b[39mto_json(loadedmodel))\n\u001b[1;32m     48\u001b[0m current_comm_model \u001b[38;5;241m=\u001b[39m MSCommunity(\n\u001b[1;32m     49\u001b[0m     model\u001b[38;5;241m=\u001b[39mmodel_copy,\n\u001b[0;32m---> 50\u001b[0m     names\u001b[38;5;241m=\u001b[39m\u001b[43mcommunity_names\u001b[49m[modelid]\n\u001b[1;32m     51\u001b[0m )\n\u001b[1;32m     52\u001b[0m mdlutl \u001b[38;5;241m=\u001b[39m current_comm_model\u001b[38;5;241m.\u001b[39mmdlutl\n\u001b[1;32m     53\u001b[0m pkgmgr \u001b[38;5;241m=\u001b[39m MSPackageManager\u001b[38;5;241m.\u001b[39mget_pkg_mgr(mdlutl)\n",
      "\u001b[0;31mNameError\u001b[0m: name 'community_names' is not defined"
     ]
    }
   ],
   "source": [
    "from optlang.symbolics import Zero, add\n",
    "import cobra\n",
    "\n",
    "model_list = [\"RC-ABX_9.0\",\"RC-ABX_6.0\",\"RC-ABX_4.0\",\"RC-ABX_21.0\",\"RC-ABX_12.5\",\"RC-ABX_1.5\",\"RC-ABX_-1.5\"]\n",
    "for modelid in model_list:\n",
    "    loadedmodel = cobra.io.load_json_model(modelid+'.json')\n",
    "    #loadedmodel.solver = 'gurobi'\n",
    "    dipeptide_exchanges = [\n",
    "        \"EX_cpd11591_e0\",\n",
    "        \"EX_cpd11589_e0\",\n",
    "        \"EX_cpd15605_e0\",\n",
    "        \"EX_cpd11588_e0\",\n",
    "        \"EX_cpd11583_e0\",\n",
    "        \"EX_cpd11580_e0\",\n",
    "        \"EX_cpd11593_e0\",\n",
    "        \"EX_cpd11585_e0\",\n",
    "        \"EX_cpd11586_e0\",\n",
    "        \"EX_cpd15604_e0\",\n",
    "        \"EX_cpd11581_e0\",\n",
    "        \"EX_cpd01017_e0\",\n",
    "        \"EX_cpd11590_e0\",\n",
    "        \"EX_cpd11592_e0\",\n",
    "        \"EX_cpd11584_e0\",\n",
    "        \"EX_cpd00731_e0\",\n",
    "        \"EX_cpd15603_e0\",\n",
    "        \"EX_cpd11587_e0\",\n",
    "        \"EX_cpd11582_e0\",\n",
    "        \"EX_cpd15606_e0\",\n",
    "        \"EX_cpd03424_e0\",\n",
    "        \"EX_cpd00423_e0\",\n",
    "        \"EX_cpd00080_e0\",\n",
    "        \"EX_cpd02233_e0\",\n",
    "        \"EX_cpd00355_e0\",\n",
    "        \"EX_cpd00235_e0\",\n",
    "        \"EX_cpd00079_e0\",\n",
    "        \"EX_cpd01912_e0\"\n",
    "    ]\n",
    "    rxn_probabilities = util.load(\"rxn_probabilities\")\n",
    "    min_prob = 0.05\n",
    "    prob_exp = 1\n",
    "    ex_weight = 1\n",
    "    kinetics_coefs = [400,700,1000]\n",
    "    for kinetics_coef in kinetics_coefs:\n",
    "        output = {\n",
    "            \"kinetics_coef\":kinetics_coef,\n",
    "        }\n",
    "        model_copy = cobra.io.json.from_json(cobra.io.json.to_json(loadedmodel))\n",
    "        current_comm_model = MSCommunity(\n",
    "            model=model_copy,\n",
    "            names=community_names[modelid]\n",
    "        )\n",
    "        mdlutl = current_comm_model.mdlutl\n",
    "        pkgmgr = MSPackageManager.get_pkg_mgr(mdlutl)\n",
    "        media = util.msrecon.get_media(\"KBaseMedia/Complete\")\n",
    "        #Setting media\n",
    "        pkgmgr.getpkg(\"KBaseMediaPkg\").build_package(media)\n",
    "        #Adding commkinetic constraints\n",
    "        pkgmgr.getpkg(\"CommKineticPkg\").build_package(kinetics_coef, current_comm_model)\n",
    "        #Adding elemental uptake constraints\n",
    "        pkgmgr.getpkg(\"ElementUptakePkg\").build_package({\"C\": 300})\n",
    "        currrxn = current_comm_model.model.reactions.get_by_id(\"EX_cpd00007_e0\")\n",
    "        currrxn.lower_bound = -20\n",
    "        #Maximize biomass production\n",
    "        mdlutl.model.objective = mdlutl.model.problem.Objective(Zero, direction=\"max\")\n",
    "        mdlutl.model.objective.set_linear_coefficients({mdlutl.model.reactions.bio1.forward_variable: 1})\n",
    "        output[\"max_growth\"] = mdlutl.model.slim_optimize()\n",
    "        output[\"carbon_uptake\"] = pkgmgr.getpkg(\"ElementUptakePkg\").variables[\"elements\"][\"C\"].primal\n",
    "        print(\"Initial growth:\", output[\"max_growth\"])\n",
    "        print(\"Carbon uptake:\",output[\"carbon_uptake\"])\n",
    "        if str(output[\"max_growth\"]) == \"nan\":\n",
    "            print(\"Skipping condition due to infeasibility\", condition)\n",
    "            continue\n",
    "        #Constraining to 90% of community biomass\n",
    "        pkgmgr.getpkg(\"ObjConstPkg\").build_package(output[\"max_growth\"] * 0.9, None)\n",
    "        #Creating minimal probability objective\n",
    "        coef = {}\n",
    "        for rxn in loadedmodel.reactions:\n",
    "            if \"rxn\" == rxn.id[0:3]:\n",
    "                probability = rxn_probabilities[rxn.id]\n",
    "                currrxn = current_comm_model.model.reactions.get_by_id(rxn.id)\n",
    "                coef.update(\n",
    "                    {\n",
    "                        currrxn.forward_variable: max(\n",
    "                            min_prob, (1 - float(probability) ** prob_exp)\n",
    "                        )\n",
    "                    }\n",
    "                )\n",
    "                coef.update(\n",
    "                    {\n",
    "                        currrxn.reverse_variable: max(\n",
    "                            min_prob, (1 - float(probability) ** prob_exp)\n",
    "                        )\n",
    "                    }\n",
    "                )\n",
    "            elif \"EX_\" == rxn.id[0:3]:\n",
    "                currrxn = current_comm_model.model.reactions.get_by_id(rxn.id)\n",
    "                if rxn.id in dipeptide_exchanges:\n",
    "                    currrxn.lower_bound = 0\n",
    "                    currrxn.upper_bound = 0\n",
    "                else:\n",
    "                    if currrxn.lower_bound < 0:\n",
    "                        currrxn.lower_bound = -1000\n",
    "                    if currrxn.upper_bound > 0:\n",
    "                        currrxn.upper_bound = 1000\n",
    "                coef.update({currrxn.forward_variable: ex_weight})\n",
    "                coef.update({currrxn.reverse_variable: ex_weight})\n",
    "        mdlutl.model.objective = mdlutl.model.problem.Objective(Zero, direction=\"min\")\n",
    "        mdlutl.model.objective.set_linear_coefficients(coef)\n",
    "        with open(util.output_dir+\"/\"+modelid+\".lp\", \"w\") as out:\n",
    "            out.write(str(mdlutl.model.solver))\n",
    "        #Solving the LP\n",
    "        solution = mdlutl.model.optimize()\n",
    "        output[\"objective\"] = solution.objective_value\n",
    "        output[\"solution\"] = {}\n",
    "        output[\"solution\"][rxn.id] = solution.fluxes[rxn.id]\n",
    "        for rxn in mdlutl.model.reactions:\n",
    "            output[\"solution\"][rxn.id] = solution.fluxes[rxn.id]\n",
    "        util.save(\"20o2_\"+str(kinetics_coef)+\"_output\", output)\n",
    "        filename = util.output_dir+\"/20o2_\"+str(kinetics_coef)+\".csv\"\n",
    "        with open(filename, 'w') as f:\n",
    "            records = [\n",
    "                {\"id\":\"max_growth\"},\n",
    "                {\"id\":\"carbon_uptake\"},\n",
    "                {\"id\":\"objective\"},\n",
    "            ]\n",
    "            rxn_record_hash = {}\n",
    "            records[0][\"value\"] = output[\"max_growth\"]\n",
    "            records[1][\"value\"] = output[\"carbon_uptake\"]\n",
    "            records[2][\"value\"] = output[\"objective\"]\n",
    "            solution = output[\"solution\"]\n",
    "            for rxn in solution:\n",
    "                if rxn not in rxn_record_hash:\n",
    "                    rxn_record_hash[rxn] = {}\n",
    "                    rxn_record_hash[rxn][\"id\"] = rxn\n",
    "                    records.append(rxn_record_hash[rxn])\n",
    "                rxn_record_hash[rxn][\"value\"] = solution[rxn]\n",
    "        df = DataFrame.from_records(records)\n",
    "        df.to_csv(filename)"
   ]
  },
  {
   "cell_type": "code",
   "execution_count": null,
   "metadata": {},
   "outputs": [],
   "source": [
    "['cpd00001_c6', 'cpd00356_c6', 'cpd00012_c6', 'cpd00013_c6', 'cpd00067_c6', 'cpd00299_c6', 'cpd09878_e0', 'cpd00002_c6', 'cpd09878_c6', 'cpd00008_c6', 'cpd00009_c6', 'cpd00015_c5', 'cpd00067_c5', 'cpd00080_c5', 'cpd00095_c5', 'cpd00982_c5', 'cpd15753_c2', 'cpd00037_c2', 'cpd15771_c2', 'cpd00014_c2', 'cpd00208_e0', 'cpd01914_e0', 'cpd00022_c6', 'cpd00054_c6', 'cpd00010_c6', 'cpd00722_c6', 'cpd00064_e0', 'cpd00002_c2', 'cpd00013_c2', 'cpd00041_c2', 'cpd00012_c2', 'cpd00018_c2', 'cpd00067_c2', 'cpd00132_c2', 'cpd00013_c5', 'cpd00216_c5', 'cpd00001_c5', 'cpd00020_c5', 'cpd00093_c5', 'cpd00910_c6', 'cpd00108_c6', 'cpd00121_c6', 'cpd22027_c4', 'cpd00005_c4', 'cpd00067_c4', 'cpd22022_c4', 'cpd00006_c4', 'cpd00358_c6', 'cpd00367_c6', 'cpd00046_c6', 'cpd00978_c6', 'cpd00097_c2', 'cpd00383_c2', 'cpd00986_c2', 'cpd01716_c2', 'cpd00208_c6', 'cpd00027_c6', 'cpd00002_c5', 'cpd02775_c5', 'cpd00008_c5', 'cpd02894_c5', 'cpd00871_c6', 'cpd00011_c6', 'cpd00169_c6', 'cpd00002_c4', 'cpd00177_c4', 'cpd00008_c4', 'cpd00115_c4', 'cpd00007_c2', 'cpd03446_c2', 'cpd15359_c2', 'cpd00382_c6', 'cpd00076_c6', 'cpd00035_c5', 'cpd00117_c5', 'cpd00009_e0', 'cpd00971_e0', 'cpd00971_c6', 'cpd00408_c4', 'cpd00712_c4', 'cpd00006_c2', 'cpd00223_c2', 'cpd00145_c2', 'cpd00005_c2', 'cpd00159_c5', 'cpd15500_c5', 'cpd15499_c5', 'cpd00146_c6', 'cpd00089_c6', 'cpd00387_c6', 'cpd00847_c6', 'cpd00009_c2', 'cpd00032_c2', 'cpd00001_c2', 'cpd00011_c2', 'cpd00061_c2', 'cpd00268_c4', 'cpd00722_c4', 'cpd03456_c4', 'cpd00029_c4', 'cpd00012_c5', 'cpd02642_c5', 'cpd00103_c5', 'cpd08288_c6', 'cpd08301_c6', 'cpd00043_c6', 'cpd00091_c6', 'cpd00348_c6', 'cpd00241_c5', 'cpd00249_c5', 'cpd00091_c5', 'cpd00295_c5', 'cpd00020_c2', 'cpd00054_c2', 'cpd00035_c2', 'cpd15315_c4', 'cpd00001_c4', 'cpd00908_c4', 'cpd15298_c4', 'cpd00003_c4', 'cpd03607_c4', 'cpd00004_c4', 'cpd00011_c4', 'cpd08449_c4', 'cpd01329_c6', 'cpd15495_c6', 'cpd00018_c6', 'cpd00182_c6', 'cpd00341_c5', 'cpd00011_c5', 'cpd00118_c5', 'cpd00106_c2', 'cpd15353_c2', 'cpd00036_c2', 'cpd15352_c2', 'cpd00024_c4', 'cpd00107_c4', 'cpd00200_c4', 'cpd00023_c4', 'cpd00053_c5', 'cpd08210_c5', 'cpd00023_c5', 'cpd02572_c6', 'cpd02507_c6', 'cpd00029_c6', 'cpd00120_c6', 'cpd00211_c6', 'cpd00020_c6', 'cpd00199_c6', 'cpd03708_c6', 'cpd00658_c2', 'cpd00024_c2', 'cpd03451_c2', 'cpd11476_c4', 'cpd11477_c4', 'cpd12237_c5', 'cpd11420_c5', 'cpd14507_c5', 'cpd11421_c5', 'cpd00006_c6', 'cpd00223_c6', 'cpd00005_c6', 'cpd00843_c6', 'cpd11578_e0', 'cpd11578_c6', 'cpd11497_c4', 'cpd11498_c4', 'cpd00358_c5', 'cpd00367_c5', 'cpd00046_c5', 'cpd00978_c5', 'cpd00044_c2', 'cpd00193_c2', 'cpd00004_c6', 'cpd11509_c5', 'cpd11510_c5', 'cpd00355_c6', 'cpd02016_c6', 'cpd00072_c2', 'cpd00196_c2', 'cpd00236_c2', 'cpd00003_c5', 'cpd00199_c5', 'cpd00004_c5', 'cpd00036_c5', 'cpd00249_e0', 'cpd00067_e0', 'cpd00249_c2', 'cpd00822_c6', 'cpd00036_c6', 'cpd00094_c6', 'cpd11579_e0', 'cpd11579_c6', 'cpd00003_c2', 'cpd02147_c2', 'cpd00004_c2', 'cpd03606_c2', 'cpd00066_c4', 'cpd00143_c4', 'cpd00275_c5', 'cpd00434_c4', 'cpd00281_c4', 'cpd00210_e0', 'cpd00210_c6', 'cpd00008_c2', 'cpd11421_c2', 'cpd00177_c2', 'cpd11420_c2', 'cpd00357_c5', 'cpd00297_c5', 'cpd15414_c4', 'cpd00104_c4', 'cpd15352_c5', 'cpd15353_c5', 'cpd03217_c6', 'cpd03220_c6', 'cpd03048_e0', 'cpd03048_c6', 'cpd15361_c2', 'cpd15360_c2', 'cpd02978_c5', 'cpd02315_c5', 'cpd00421_c5', 'cpd15310_c4', 'cpd15525_c4', 'cpd00142_c6', 'cpd00279_c6', 'cpd00201_c2', 'cpd02394_c2', 'cpd00087_c2', 'cpd02678_c2', 'cpd00630_c5', 'cpd00078_c5', 'cpd01507_c5', 'cpd00104_e0', 'cpd00104_c5', 'cpd00009_c5', 'cpd02182_c4', 'cpd00042_c4', 'cpd00428_c4', 'cpd00092_c5', 'cpd00010_c4', 'cpd01080_c4', 'cpd00327_c4', 'cpd00012_c4', 'cpd00018_c4', 'cpd00413_c6', 'cpd00015_c6', 'cpd00650_c6', 'cpd00982_c6', 'cpd00478_c2', 'cpd00016_c2', 'cpd00025_c2', 'cpd00213_c5', 'cpd14702_c5', 'cpd00056_c5', 'cpd14703_c5', 'cpd11596_e0', 'cpd11596_c6', 'cpd00006_c5', 'cpd00005_c5', 'cpd00024_c5', 'cpd00956_c5', 'cpd02210_c5', 'cpd00210_c4', 'cpd00007_c4', 'cpd00036_c4', 'cpd00081_c4', 'cpd04122_c4', 'cpd00137_e0', 'cpd10516_e0', 'cpd00137_c6', 'cpd10516_c6', 'cpd00363_e0', 'cpd00344_c5', 'cpd00378_c5', 'cpd00017_c4', 'cpd02216_c4', 'cpd00019_c4', 'cpd02762_c4', 'cpd03196_c6', 'cpd00138_c6', 'cpd00338_c2', 'cpd02345_c2', 'cpd02566_c2', 'cpd21005_c5', 'cpd15560_c5', 'cpd14589_c5', 'cpd15561_c5', 'cpd00017_c5', 'cpd00800_c5', 'cpd00764_c5', 'cpd02701_c5', 'cpd00395_e0', 'cpd00395_c6', 'cpd00053_c2', 'cpd00216_c2', 'cpd00093_c2', 'cpd00023_c2', 'cpd00891_c5', 'cpd00519_c5', 'cpd11466_c4', 'cpd11467_c4', 'cpd00221_c5', 'cpd03198_c6', 'cpd15746_c2', 'cpd15764_c2', 'cpd00294_c4', 'cpd00009_c4', 'cpd00438_c4', 'cpd36025_c4', 'cpd19505_c4', 'cpd00254_c4', 'cpd00254_e0', 'cpd00113_c4', 'cpd17567_c4', 'cpd17568_c4', 'cpd00123_c5', 'cpd14700_c5', 'cpd00891_c6', 'cpd00078_c6', 'cpd11575_e0', 'cpd11575_c6', 'cpd08023_e0', 'cpd08023_c6', 'cpd00171_c2', 'cpd00198_c2', 'cpd11620_c4', 'cpd11621_c4', 'cpd00229_c5', 'cpd00139_c5', 'cpd00002_c3', 'cpd00297_c3', 'cpd00008_c3', 'cpd00357_c3', 'cpd15508_c5', 'cpd15507_c5', 'cpd01620_c3', 'cpd00003_c3', 'cpd03426_c3', 'cpd00004_c3', 'cpd00067_c3', 'cpd00001_c1', 'cpd00076_c1', 'cpd00027_c1', 'cpd00082_c1', 'cpd03918_c3', 'cpd03919_c3', 'cpd00024_c3', 'cpd00117_c3', 'cpd00020_c3', 'cpd00186_c3', 'cpd00532_c4', 'cpd00025_c4', 'cpd00012_c3', 'cpd00023_c3', 'cpd01982_c3', 'cpd00001_c3', 'cpd00053_c3', 'cpd00103_c3', 'cpd00002_c1', 'cpd00873_c1', 'cpd00012_c1', 'cpd00638_c1', 'cpd08288_c3', 'cpd00046_c3', 'cpd08301_c3', 'cpd00031_c3', 'cpd00038_c3', 'cpd15514_c5', 'cpd15510_c5', 'cpd15354_c4', 'cpd00080_c4', 'cpd15237_c4', 'cpd15352_c3', 'cpd15353_c3', 'cpd00130_c1', 'cpd15560_c1', 'cpd00032_c1', 'cpd15561_c1', 'cpd00264_e0', 'cpd00009_c3', 'cpd00264_c3', 'cpd03517_c4', 'cpd12847_c4', 'cpd12848_c4', 'cpd00533_c5', 'cpd00096_c5', 'cpd00017_c3', 'cpd03447_c3', 'cpd00019_c3', 'cpd03448_c3', 'cpd00214_c1', 'cpd15346_c1', 'cpd00018_c1', 'cpd00067_c1', 'cpd15538_c1', 'cpd16335_c3', 'cpd03451_c3', 'cpd00223_c5', 'cpd00145_c5', 'cpd00242_c1', 'cpd00011_c1', 'cpd00290_c3', 'cpd00095_c3', 'cpd00102_c3', 'cpd15302_c4', 'cpd00387_c4', 'cpd00155_c4', 'cpd00025_c1', 'cpd00007_c1', 'cpd03920_c3', 'cpd15323_c4', 'cpd02090_c4', 'cpd00136_c3', 'cpd00216_c3', 'cpd15339_c1', 'cpd15531_c1', 'cpd15506_c5', 'cpd00220_e0', 'cpd00220_c3', 'cpd00084_e0', 'cpd00084_c3', 'cpd00060_c4', 'cpd15306_c5', 'cpd15521_c5', 'cpd00045_c3', 'cpd00018_c3', 'cpd15500_c1', 'cpd15499_c1', 'cpd00047_c3', 'cpd00087_c3', 'cpd00201_c3', 'cpd00412_c4', 'cpd00299_c4', 'cpd00119_e0', 'cpd00119_c3', 'cpd15603_c4', 'cpd00033_c4', 'cpd00084_c4', 'cpd00305_e0', 'cpd00305_c3', 'cpd11310_c1', 'cpd02893_c1', 'cpd00322_e0', 'cpd00322_c5', 'cpd15330_c4', 'cpd02147_c3', 'cpd03606_c3', 'cpd00203_c1', 'cpd00009_c1', 'cpd00169_c1', 'cpd02904_c3', 'cpd03423_c3', 'cpd00264_c4', 'cpd00330_c5', 'cpd00393_c5', 'cpd00006_c3', 'cpd00773_c3', 'cpd00005_c3', 'cpd02820_c3', 'cpd02172_c4', 'cpd00136_c4', 'cpd02419_c4', 'cpd02698_c3', 'cpd02724_c3', 'cpd00003_c1', 'cpd03118_c1', 'cpd00004_c1', 'cpd03119_c1', 'cpd00052_c3', 'cpd08286_c3', 'cpd08287_c3', 'cpd09844_c1', 'cpd01507_c1', 'cpd00126_c3', 'cpd00166_c3', 'cpd02498_c5', 'cpd02569_c5', 'cpd15395_c4', 'cpd15531_c4', 'cpd11959_c4', 'cpd15339_c4', 'cpd00113_c3', 'cpd00202_c3', 'cpd00283_c3', 'cpd00223_c1', 'cpd00008_c1', 'cpd00482_c1', 'cpd00022_c4', 'cpd00449_c4', 'cpd00836_c4', 'cpd15521_c4', 'cpd00052_c4', 'cpd15417_c4', 'cpd02799_c5', 'cpd02597_c5', 'cpd00482_c3', 'cpd00061_c3', 'cpd01242_e0', 'cpd01242_c1', 'cpd11517_c4', 'cpd11518_c4', 'cpd01693_c1', 'cpd00079_c1', 'cpd00219_c6', 'cpd00868_c6', 'cpd15329_c5', 'cpd00327_c5', 'cpd00010_c5', 'cpd15526_c5', 'cpd11593_e0', 'cpd11593_c5', 'cpd00003_c6', 'cpd00403_c6', 'cpd00672_c6', 'cpd00114_c1', 'cpd00497_c1', 'cpd00239_c5', 'cpd00239_e0', 'cpd00164_c6', 'cpd03517_c5', 'cpd12847_c5', 'cpd00018_c5', 'cpd12848_c5', 'cpd00081_c5', 'cpd00081_e0', 'cpd00017_c6', 'cpd00033_c6', 'cpd00019_c6', 'cpd00183_c6', 'cpd11537_c5', 'cpd11538_c5', 'cpd00037_c1', 'cpd02782_c1', 'cpd00268_c5', 'cpd00268_e0', 'cpd15605_e0', 'cpd15605_c5', 'cpd00102_c5', 'cpd00203_c5', 'cpd05262_c6', 'cpd00437_c6', 'cpd15352_c4', 'cpd15353_c4', 'cpd00689_c5', 'cpd00755_c5', 'cpd11514_c4', 'cpd11515_c4', 'cpd02083_c5', 'cpd00060_c5', 'cpd00791_c5', 'cpd03091_c5', 'cpd00355_c1', 'cpd00029_c5', 'cpd00196_c5', 'cpd15553_c4', 'cpd15529_c4', 'cpd03428_c6', 'cpd11610_c6', 'cpd03431_c6', 'cpd11609_c6', 'cpd00103_c1', 'cpd00218_c1', 'cpd00041_e0', 'cpd00041_c5', 'cpd15336_c4', 'cpd01741_c4', 'cpd02375_c5', 'cpd00106_c5', 'cpd00020_c4', 'cpd00061_c4', 'cpd00026_c5', 'cpd00043_c5', 'cpd00196_c1', 'cpd00029_c1', 'cpd02295_c5', 'cpd02557_c5', 'cpd00635_c6', 'cpd00166_c6', 'cpd11472_c5', 'cpd11492_c5', 'cpd11490_c5', 'cpd11493_c5', 'cpd00276_e0', 'cpd00288_c4', 'cpd00048_e0', 'cpd00048_c1', 'cpd02021_c5', 'cpd15553_c5', 'cpd15529_c5', 'cpd00047_c1', 'cpd02333_c5', 'cpd03470_c5', 'cpd00061_c5', 'cpd00082_c6', 'cpd00115_c6', 'cpd00072_c6', 'cpd00177_c6', 'cpd00355_c5', 'cpd00873_c5', 'cpd03122_c1', 'cpd03123_c1', 'cpd00655_c4', 'cpd00215_e0', 'cpd00215_c5', 'cpd00288_c5', 'cpd15269_c1', 'cpd15342_c1', 'cpd15534_c1', 'cpd01679_c4', 'cpd00768_c4', 'cpd00069_c5', 'cpd00604_c5', 'cpd00655_c5', 'cpd11580_e0', 'cpd11580_c5', 'cpd00668_c6', 'cpd02569_c6', 'cpd00079_c6', 'cpd00911_c6', 'cpd00068_c4', 'cpd00114_c4', 'cpd11573_c5', 'cpd00068_c5', 'cpd00114_c5', 'cpd00284_c5', 'cpd02711_c5', 'cpd01775_c4', 'cpd00103_c4', 'cpd00055_c5', 'cpd00198_c5', 'cpd00157_c5', 'cpd01775_c5', 'cpd19030_c6', 'cpd19047_c6', 'cpd00498_c4', 'cpd10162_c4', 'cpd10515_c5', 'cpd10516_c5', 'cpd00498_c5', 'cpd10162_c5', 'cpd02197_c5', 'cpd00347_c5', 'cpd00107_e0', 'cpd00107_c6', 'cpd00774_c5', 'cpd11526_c5', 'cpd11527_c5', 'cpd11474_c6', 'cpd11475_c6', 'cpd00871_c5', 'cpd00169_c5', 'cpd00063_c5', 'cpd00063_e0', 'cpd00082_e0', 'cpd00802_c5', 'cpd11526_c4', 'cpd11527_c4', 'cpd00180_c6', 'cpd00047_c6', 'cpd00132_c5', 'cpd03385_c5', 'cpd11468_c6', 'cpd11469_c6', 'cpd00080_e0', 'cpd00196_c6', 'cpd00802_c4', 'cpd00183_c5', 'cpd00007_c5', 'cpd00025_c5', 'cpd00033_c5', 'cpd00006_c1', 'cpd00013_c1', 'cpd00005_c1', 'cpd00075_c1', 'cpd00867_c5', 'cpd00121_c5', 'cpd11514_c5', 'cpd11515_c5', 'cpd03449_c5', 'cpd00019_c5', 'cpd00342_c5', 'cpd00064_c5', 'cpd00241_c6', 'cpd00295_c6', 'cpd00811_c6', 'cpd00055_c6', 'cpd00425_c6', 'cpd00239_c6', 'cpd00081_c6', 'cpd02536_c1', 'cpd01630_c1', 'cpd15555_c4', 'cpd15499_c6', 'cpd00441_c6', 'cpd15500_c6', 'cpd02746_c1', 'cpd00113_c1', 'cpd02229_c1', 'cpd11421_c4', 'cpd11420_c4', 'cpd00041_c6', 'cpd00053_c6', 'cpd00023_c6', 'cpd00132_c6', 'cpd00309_c6', 'cpd04399_c6', 'cpd00007_c6', 'cpd15073_c6', 'cpd00441_e0', 'cpd11568_c1', 'cpd11569_c1', 'cpd00106_c4', 'cpd00142_c4', 'cpd00780_c4', 'cpd11420_c6', 'cpd11421_c6', 'cpd00010_c3', 'cpd15237_c3', 'cpd15238_c3', 'cpd00116_c6', 'cpd00342_c4', 'cpd00064_c4', 'cpd00025_c3', 'cpd00305_c6', 'cpd15606_c1', 'cpd00069_c1', 'cpd00033_c1', 'cpd15717_c4', 'cpd15723_c4', 'cpd00022_c3', 'cpd00227_c3', 'cpd00790_c3', 'cpd00238_c4', 'cpd04918_c4', 'cpd00797_c6', 'cpd00017_c2', 'cpd15561_c2', 'cpd00019_c2', 'cpd00011_c3', 'cpd00013_c3', 'cpd00146_c3', 'cpd08210_c6', 'cpd00443_c6', 'cpd11546_c1', 'cpd11547_c1', 'cpd00157_c3', 'cpd00076_e0', 'cpd01693_c2', 'cpd00064_c6', 'cpd00118_c6', 'cpd11539_c1', 'cpd11540_c1', 'cpd00705_c6', 'cpd00024_c6', 'cpd00269_c6', 'cpd12370_c3', 'cpd11493_c3', 'cpd01695_c4', 'cpd03114_c4', 'cpd15420_c1', 'cpd00080_c1', 'cpd15548_c1', 'cpd00046_c1', 'cpd00080_c3', 'cpd02522_c6', 'cpd04103_c6', 'cpd04104_c6', 'cpd00035_c3', 'cpd00890_c3', 'cpd00349_c6', 'cpd00238_c6', 'cpd00386_c4', 'cpd00120_c3', 'cpd00015_c3', 'cpd00650_c3', 'cpd00982_c3', 'cpd04111_c6', 'cpd00015_c1', 'cpd00129_c1', 'cpd02431_c1', 'cpd00982_c1', 'cpd00114_c3', 'cpd02884_c3', 'cpd03470_c6', 'cpd00169_c3', 'cpd00262_c4', 'cpd00592_c4', 'cpd15808_c6', 'cpd00782_c6', 'cpd11509_c4', 'cpd11510_c4', 'cpd11558_c1', 'cpd11559_c1', 'cpd11586_c3', 'cpd02656_c4', 'cpd00220_c4', 'cpd02882_c4', 'cpd15358_c1', 'cpd01080_c1', 'cpd00062_c3', 'cpd00129_c3', 'cpd02431_c3', 'cpd00035_c4', 'cpd00117_c4', 'cpd11468_c1', 'cpd11492_c1', 'cpd11491_c1', 'cpd11493_c1', 'cpd11310_c3', 'cpd02893_c3', 'cpd00039_c6', 'cpd15705_c2', 'cpd15681_c2', 'cpd11500_c5', 'cpd11501_c5', 'cpd00129_e0', 'cpd00129_c6', 'cpd03453_e0', 'cpd03726_e0', 'cpd00811_c4', 'cpd00441_c4', 'cpd11476_c6', 'cpd00134_c6', 'cpd11493_c6', 'cpd00242_c6', 'cpd00070_c6', 'cpd03422_c5', 'cpd03918_c5', 'cpd15306_c2', 'cpd15521_c2', 'cpd00363_c6', 'cpd00095_c2', 'cpd00157_c2', 'cpd00125_c6', 'cpd00347_c6', 'cpd00731_c6', 'cpd03490_c6', 'cpd02862_c6', 'cpd00220_c1', 'cpd00050_c1', 'cpd00071_c6', 'cpd00071_e0', 'cpd15703_c2', 'cpd15679_c2', 'cpd11640_c6', 'cpd11640_e0', 'cpd00091_c1', 'cpd00249_c1', 'cpd00434_c2', 'cpd00281_c2', 'cpd00260_c4', 'cpd00221_e0', 'cpd00221_c6', 'cpd09812_c4', 'cpd09813_c4', 'cpd00497_c6', 'cpd00126_c6', 'cpd15307_c2', 'cpd15522_c2', 'cpd00260_c6', 'cpd03187_c6', 'cpd11584_c2', 'cpd00119_c2', 'cpd00078_c1', 'cpd00449_c1', 'cpd00010_c1', 'cpd00860_c1', 'cpd00100_e0', 'cpd00100_c4', 'cpd00038_c6', 'cpd00957_c6', 'cpd02826_c6', 'cpd02140_c6', 'cpd00773_c5', 'cpd02820_c5', 'cpd15310_c2', 'cpd15525_c2', 'cpd00268_c6', 'cpd02857_c2', 'cpd27735_c4', 'cpd00193_c4', 'cpd28060_c4', 'cpd02197_c6', 'cpd00040_c4', 'cpd00843_c4', 'cpd00201_c6', 'cpd02851_c6', 'cpd00087_c6', 'cpd02884_c6', 'cpd00045_c2', 'cpd00048_c2', 'cpd00244_e0', 'cpd00244_c6', 'cpd00102_c2', 'cpd00227_c1', 'cpd00346_c1', 'cpd00971_c4', 'cpd11583_e0', 'cpd11583_c6', 'cpd00135_c6', 'cpd00064_c2', 'cpd00129_c2', 'cpd00024_e0', 'cpd08289_c2', 'cpd00284_c6', 'cpd00171_c6', 'cpd15556_c5', 'cpd15532_c5', 'cpd02524_c5', 'cpd02666_c5', 'cpd00349_c2', 'cpd08021_c4', 'cpd15499_c4', 'cpd00450_c4', 'cpd15500_c4', 'cpd02826_c2', 'cpd02446_c6', 'cpd02721_c6', 'cpd00106_e0', 'cpd00106_c6', 'cpd00044_c6', 'cpd00045_c6', 'cpd00010_c2', 'cpd00050_c2', 'cpd00022_c2', 'cpd01270_c2', 'cpd00506_c6', 'cpd00042_c6', 'cpd15690_c2', 'cpd15696_c2', 'cpd00911_c4', 'cpd00284_c4', 'cpd00790_c6', 'cpd00096_c6', 'cpd03518_c6', 'cpd03519_c6', 'cpd03470_c2', 'cpd00084_c6', 'cpd08021_e0', 'cpd00450_e0', 'cpd00001_e0', 'cpd02557_c6', 'cpd02590_c6', 'cpd00113_c6', 'cpd00130_c6', 'cpd11830_c2', 'cpd12225_c2', 'cpd00125_c2', 'cpd00238_c2', 'cpd02685_c6', 'cpd03289_c6', 'cpd01217_c6', 'cpd15540_c6', 'cpd15793_c6', 'cpd00100_c6', 'cpd00159_c1', 'cpd00020_c1', 'cpd00060_c2', 'cpd00324_c2', 'cpd00094_c2', 'cpd00292_c4', 'cpd00279_c4', 'cpd00034_c5', 'cpd00205_e0', 'cpd00034_e0', 'cpd00205_c5', 'cpd00794_e0', 'cpd00523_c2', 'cpd11492_c6', 'cpd11489_c6', 'cpd11483_c6', 'cpd11471_c6', 'cpd00171_c4', 'cpd00908_c1', 'cpd08023_c2', 'cpd00054_c4', 'cpd00738_c4', 'cpd02465_c6', 'cpd11506_c6', 'cpd11507_c6', 'cpd00061_c6', 'cpd02030_c6', 'cpd00932_c6', 'cpd11521_c1', 'cpd11522_c1', 'cpd00079_c2', 'cpd00055_c2', 'cpd00081_c2', 'cpd03116_c6', 'cpd02060_c6', 'cpd03118_c6', 'cpd03129_c6', 'cpd00817_c6', 'cpd00346_c6', 'cpd02120_c6', 'cpd00069_c6', 'cpd00604_c6', 'cpd03671_c2', 'cpd00812_c4', 'cpd17039_c4', 'cpd03002_c6', 'cpd02993_c6', 'cpd14698_c1', 'cpd00213_c1', 'cpd14699_c1', 'cpd00056_c1', 'cpd00282_c2', 'cpd00247_c2', 'cpd00024_c1', 'cpd00342_c1', 'cpd00918_c1', 'cpd00023_c1', 'cpd01501_c6', 'cpd02597_c6', 'cpd02730_c6', 'cpd00154_e0', 'cpd00154_c6', 'cpd10515_c3', 'cpd10516_c3', 'cpd00246_e0', 'cpd00048_c6', 'cpd00122_c1', 'cpd00492_c1', 'cpd00051_e0', 'cpd00117_c6', 'cpd00186_c6', 'cpd00214_c6', 'cpd00075_e0', 'cpd00649_c1', 'cpd02679_c1', 'cpd00792_c1', 'cpd02655_c1', 'cpd00438_e0', 'cpd00136_c6', 'cpd00216_c6', 'cpd00764_c1', 'cpd01311_c1', 'cpd00644_e0', 'cpd00007_c3', 'cpd00041_c3', 'cpd03470_c3', 'cpd00040_c6', 'cpd00039_e0', 'cpd00424_c1', 'cpd00084_c1', 'cpd00094_c1', 'cpd00738_c6', 'cpd15514_c3', 'cpd15510_c3', 'cpd00035_e0', 'cpd00062_c6', 'cpd03116_c1', 'cpd03117_c1', 'cpd00533_c3', 'cpd11420_c3', 'cpd00096_c3', 'cpd11421_c3', 'cpd00184_e0', 'cpd00030_e0', 'cpd00030_c6', 'cpd01293_c1', 'cpd00209_e0', 'cpd00223_c3', 'cpd00145_c3', 'cpd00289_c6', 'cpd02591_c6', 'cpd00033_e0', 'cpd00504_c1', 'cpd02465_c1', 'cpd01017_c6', 'cpd15306_c3', 'cpd15521_c3', 'cpd00367_e0', 'cpd00906_c6', 'cpd00268_c1', 'cpd00322_c3', 'cpd00128_e0', 'cpd00101_c6', 'cpd00307_c6', 'cpd02843_c1', 'cpd00930_c1', 'cpd02893_c6', 'cpd01669_c3', 'cpd00362_c3', 'cpd00048_c3', 'cpd00085_c6', 'cpd15683_c3', 'cpd15716_c3', 'cpd00465_c3', 'cpd00596_c3', 'cpd00408_c6', 'cpd00712_c6', 'cpd00105_c1', 'cpd00105_e0', 'cpd15268_c3', 'cpd15329_c3', 'cpd00330_c3', 'cpd00393_c3', 'cpd00393_c6', 'cpd00099_e0', 'cpd00099_c6', 'cpd02498_c3', 'cpd02569_c3', 'cpd01262_e0', 'cpd01262_c3', 'cpd00132_e0', 'cpd00382_c1', 'cpd03198_c1', 'cpd11498_c3', 'cpd11499_c3', 'cpd00179_e0', 'cpd00179_c3', 'cpd11466_c3', 'cpd11492_c3', 'cpd11485_c3', 'cpd00731_e0', 'cpd10515_e0', 'cpd00075_c6', 'cpd02661_c1', 'cpd00521_c1', 'cpd03115_c3', 'cpd03127_c3', 'cpd00246_c6', 'cpd00475_c6', 'cpd00226_c6', 'cpd01329_e0', 'cpd01329_c3', 'cpd00447_c6', 'cpd00540_c6', 'cpd00207_c1', 'cpd00309_c1', 'cpd00299_c3', 'cpd00412_c3', 'cpd08615_c3', 'cpd00268_c3', 'cpd00722_c3', 'cpd00029_c3', 'cpd00081_c3', 'cpd15671_c6', 'cpd11432_c6', 'cpd15677_c6', 'cpd00858_c3', 'cpd02097_c3', 'cpd00038_c1', 'cpd03518_c1', 'cpd11590_c3', 'cpd00060_c3', 'cpd00207_c3', 'cpd01982_c2', 'cpd00103_c2', 'cpd00626_c3', 'cpd00521_c3', 'cpd01260_c3', 'cpd02060_c3', 'cpd00051_c5', 'cpd00152_c5', 'cpd00599_c3', 'cpd00077_c3', 'cpd00282_c3', 'cpd15500_c3', 'cpd00247_c3', 'cpd15499_c3', 'cpd00200_c5', 'cpd14698_c5', 'cpd15557_c3', 'cpd15533_c3', 'cpd00400_c5', 'cpd01150_c5', 'cpd02691_c3', 'cpd02124_c3', 'cpd00842_c3', 'cpd00279_c3', 'cpd15684_c4', 'cpd00046_c4', 'cpd00062_c5', 'cpd00014_c5', 'cpd08366_c5', 'cpd00760_c3', 'cpd02125_c3', 'cpd00286_c3', 'cpd02862_c3', 'cpd02948_c3', 'cpd00091_c3', 'cpd15680_c4', 'cpd15686_c4', 'cpd00048_c4', 'cpd02857_c3', 'cpd00699_c3', 'cpd00388_c3', 'cpd00073_c3', 'cpd02536_c3', 'cpd01630_c3', 'cpd00115_c5', 'cpd00177_c5', 'cpd08288_c2', 'cpd08301_c2', 'cpd00046_c2', 'cpd00331_c4', 'cpd00038_c5', 'cpd00031_c5', 'cpd00242_c3', 'cpd00032_c3', 'cpd00309_c3', 'cpd00300_c3', 'cpd11468_c3', 'cpd11469_c3', 'cpd02799_c3', 'cpd00036_c3', 'cpd00296_c5', 'cpd00058_e0', 'cpd00058_c3', 'cpd00609_c3', 'cpd02439_c3', 'cpd11519_c4', 'cpd02233_c5', 'cpd02024_c5', 'cpd03915_c3', 'cpd00421_c3', 'cpd03916_c3', 'cpd00142_c3', 'cpd00178_c3', 'cpd11217_c5', 'cpd02152_c3', 'cpd00051_c3', 'cpd00106_c3', 'cpd00837_c4', 'cpd00118_c4', 'cpd00147_c4', 'cpd00424_c5', 'cpd00084_c5', 'cpd00094_c5', 'cpd00807_c3', 'cpd00641_c3', 'cpd00184_c3', 'cpd00151_c3', 'cpd00509_c3', 'cpd11436_c4', 'cpd11437_c4', 'cpd00461_c3', 'cpd02731_c3', 'cpd03812_c4', 'cpd03813_c4', 'cpd00919_c3', 'cpd02483_c3', 'cpd00311_c3', 'cpd00515_c3', 'cpd00126_c5', 'cpd15687_c3', 'cpd00054_c3', 'cpd15693_c3', 'cpd02961_c5', 'cpd03521_c5', 'cpd00022_c1', 'cpd00123_c1', 'cpd00712_c1', 'cpd00895_c1', 'cpd03120_c1', 'cpd03121_c1', 'cpd00128_c5', 'cpd02211_c1', 'cpd00136_c5', 'cpd15366_c2', 'cpd15569_c2', 'cpd00616_c1', 'cpd03607_c1', 'cpd08449_c1', 'cpd00443_c5', 'cpd00102_c1', 'cpd22830_c1', 'cpd00171_c5', 'cpd00016_c5', 'cpd11620_c1', 'cpd11621_c1', 'cpd00858_c5', 'cpd27484_c1', 'cpd26672_c1', 'cpd00045_c1', 'cpd00081_c1', 'cpd27735_c1', 'cpd00044_c1', 'cpd28060_c1', 'cpd02851_c5', 'cpd02506_c5', 'cpd21083_c1', 'cpd14866_c1', 'cpd00147_c5', 'cpd01981_c5', 'cpd14865_c1', 'cpd21082_c1', 'cpd02227_c5', 'cpd00282_c5', 'cpd00247_c5', 'cpd21041_c1', 'cpd00022_c5', 'cpd00449_c5', 'cpd00836_c5', 'cpd27758_c1', 'cpd08615_c1', 'cpd28083_c1', 'cpd08301_c1', 'cpd00289_c2', 'cpd02168_c2', 'cpd17278_c1', 'cpd00017_c1', 'cpd00060_c1', 'cpd03091_c1', 'cpd17281_c1', 'cpd31852_c1', 'cpd32612_c1', 'cpd24820_c1', 'cpd21005_c1', 'cpd14589_c1', 'cpd00097_c5', 'cpd00071_c5', 'cpd00986_c5', 'cpd15481_c1', 'cpd15480_c1', 'cpd00177_c1', 'cpd32711_c1', 'cpd24823_c1', 'cpd00106_c1', 'cpd00804_c1', 'cpd00510_c3', 'cpd01242_c3', 'cpd00082_c2', 'cpd03724_e0', 'cpd03724_c3', 'cpd07923_c2', 'cpd07924_c2', 'cpd00082_c3', 'cpd00072_c3', 'cpd00311_c5', 'cpd00834_c1', 'cpd00655_c1', 'cpd08632_c4', 'cpd08631_c4', 'cpd11498_c5', 'cpd11499_c5', 'cpd00460_c1', 'cpd15810_c1', 'cpd01260_c5', 'cpd02060_c5', 'cpd00518_c3', 'cpd11209_c4', 'cpd00274_c4', 'cpd00096_c1', 'cpd00533_c1', 'cpd00231_c2', 'cpd00233_c2', 'cpd15371_c2', 'cpd15572_c2', 'cpd11466_c5', 'cpd11485_c5', 'cpd11560_c1', 'cpd11561_c1', 'cpd00423_e0', 'cpd00423_c3', 'cpd28070_c4', 'cpd33817_c4', 'cpd27744_c4', 'cpd00421_c4', 'cpd03918_c4', 'cpd00210_c1', 'cpd00109_c1', 'cpd00110_c1', 'cpd31335_c2', 'cpd31339_c2', 'cpd15557_c5', 'cpd15533_c5', 'cpd15904_c1', 'cpd02246_c1', 'cpd03706_c3', 'cpd19503_c4', 'cpd21288_c4', 'cpd00395_c1', 'cpd00540_e0', 'cpd00540_c3', 'cpd36635_c4', 'cpd11492_c4', 'cpd11493_c4', 'cpd00095_c1', 'cpd02611_c1', 'cpd15752_c2', 'cpd15770_c2', 'cpd02233_e0', 'cpd11479_c5', 'cpd11473_c5', 'cpd00071_c3', 'cpd02258_c3', 'cpd22028_c4', 'cpd22065_c4', 'cpd00842_c5', 'cpd00279_c5', 'cpd00782_c1', 'cpd04111_c1', 'cpd00794_c2', 'cpd00027_c2', 'cpd00501_c2', 'cpd02524_c2', 'cpd02666_c2', 'cpd00666_c3', 'cpd00268_c2', 'cpd00286_c5', 'cpd02862_c5', 'cpd02948_c5', 'cpd00349_c1', 'cpd00236_c1', 'cpd02089_c1', 'cpd00379_c1', 'cpd01644_c3', 'cpd02183_c3', 'cpd00014_c1', 'cpd00971_c2', 'cpd00190_c1', 'cpd00170_c1', 'cpd01007_c3', 'cpd00127_c3', 'cpd02857_c5', 'cpd00699_c5', 'cpd00332_c1', 'cpd00812_c1', 'cpd00031_c1', 'cpd00012_e0', 'cpd19047_c4', 'cpd00060_e0', 'cpd00107_c1', 'cpd11571_c2', 'cpd11572_c2', 'cpd03115_c5', 'cpd03127_c5', 'cpd00121_c1', 'cpd00524_c1', 'cpd00863_c1', 'cpd00072_c1', 'cpd00242_c5', 'cpd00032_c5', 'cpd02720_c1', 'cpd02882_c1', 'cpd00286_c2', 'cpd00946_c2', 'cpd00091_c2', 'cpd03189_c2', 'cpd00213_c2', 'cpd00860_c2', 'cpd00056_c2', 'cpd03487_c1', 'cpd03488_c1', 'cpd12225_c3', 'cpd12005_c3', 'cpd11468_c5', 'cpd11469_c5', 'cpd00065_e0', 'cpd00065_c1', 'cpd00978_c2', 'cpd00358_c2', 'cpd00338_c1', 'cpd00689_c1', 'cpd15748_c2', 'cpd15766_c2', 'cpd00635_c4', 'cpd00166_c4', 'cpd00058_c5', 'cpd00299_c5', 'cpd00412_c5', 'cpd12543_c1', 'cpd00070_c1', 'cpd12848_c1', 'cpd00175_c1', 'cpd03915_c5', 'cpd03916_c5', 'cpd15809_c1', 'cpd15889_c1', 'cpd15754_c2', 'cpd15772_c2', 'cpd11590_c5', 'cpd00125_c5', 'cpd00087_c5', 'cpd00054_c5', 'cpd00202_c1', 'cpd21032_c4', 'cpd00013_c4', 'cpd00090_c2', 'cpd00068_c2', 'cpd00125_c1', 'cpd00299_c1', 'cpd00087_c1', 'cpd00298_c1', 'cpd00620_c2', 'cpd00834_c2', 'cpd11550_c5', 'cpd11551_c5', 'cpd00292_c1', 'cpd00279_c1', 'cpd00137_c2', 'cpd00029_c2', 'cpd02371_c3', 'cpd02152_c5', 'cpd15543_c5', 'cpd15536_c5', 'cpd00413_c1', 'cpd15747_c2', 'cpd15765_c2', 'cpd00452_c4', 'cpd21301_c4', 'cpd00822_c4', 'cpd19019_c4', 'cpd00334_c3', 'cpd00159_c3', 'cpd00078_c4', 'cpd00807_c5', 'cpd00641_c5', 'cpd11580_c1', 'cpd00053_c1', 'cpd00158_c3', 'cpd00027_c3', 'cpd00039_c1', 'cpd02074_c1', 'cpd15751_c2', 'cpd15769_c2', 'cpd15687_c5', 'cpd15693_c5', 'cpd11552_c1', 'cpd11553_c1', 'cpd15585_c3', 'cpd00116_c3', 'cpd06707_c1', 'cpd00153_c1', 'cpd00322_c1', 'cpd00976_c2', 'cpd00977_c2', 'cpd15584_c3', 'cpd00626_c5', 'cpd00521_c5', 'cpd00804_c6', 'cpd00025_c6', 'cpd00111_c6', 'cpd00327_c6', 'cpd01080_c6', 'cpd15526_c2', 'cpd00052_c2', 'cpd15421_c2', 'cpd11587_c4', 'cpd00053_c4', 'cpd15542_c6', 'cpd15535_c6', 'cpd00156_c4', 'cpd00123_c4', 'cpd11480_c4', 'cpd11489_c4', 'cpd02089_c6', 'cpd00379_c6', 'cpd00179_c4', 'cpd00630_c4', 'cpd01507_c4', 'cpd15543_c4', 'cpd15536_c4', 'cpd00339_c6', 'cpd08630_c4', 'cpd00549_c6', 'cpd00047_c5', 'cpd31161_c6', 'cpd02824_c6', 'cpd00216_c4', 'cpd00093_c4', 'cpd15511_c6', 'cpd15513_c6', 'cpd00051_c4', 'cpd00152_c4', 'cpd15398_c6', 'cpd15397_c6', 'cpd01335_c6', 'cpd03846_c6', 'cpd02979_c2', 'cpd02991_c2', 'cpd15504_c6', 'cpd15501_c6', 'cpd03519_c2', 'cpd03666_c2', 'cpd00038_c4', 'cpd00047_c4', 'cpd02978_c4', 'cpd00193_c6', 'cpd00924_c6', 'cpd15498_c4', 'cpd15502_c6', 'cpd15349_c4', 'cpd15269_c4', 'cpd15325_c6', 'cpd01741_c6', 'cpd00080_c6', 'cpd00264_c6', 'cpd11468_c4', 'cpd15325_c4', 'cpd11451_e0', 'cpd11606_e0', 'cpd11479_c4', 'cpd11473_c4', 'cpd03372_c6', 'cpd03287_c6', 'cpd11525_c4', 'cpd02483_c6', 'cpd15684_c2', 'cpd00854_c4', 'cpd02828_c4', 'cpd00873_c4', 'cpd00638_c4', 'cpd01792_c6', 'cpd01882_c4', 'cpd00015_c4', 'cpd01966_c4', 'cpd00982_c4', 'cpd00480_c6', 'cpd03860_c6', 'cpd11478_c4', 'cpd11488_c4', 'cpd00120_c4', 'cpd00211_c4', 'cpd00031_c4', 'cpd00222_c6', 'cpd02835_c4', 'cpd02930_c4', 'cpd00014_c4', 'cpd03002_c4', 'cpd00957_c4', 'cpd00931_c4', 'cpd11591_c2', 'cpd00033_c2', 'cpd12370_c2', 'cpd11493_c2', 'cpd08630_c5', 'cpd08631_c5', 'cpd00292_c2', 'cpd00279_c2', 'cpd02140_c5', 'cpd02893_c5', 'cpd00037_c6', 'cpd00492_c6', 'cpd00014_c6', 'cpd00332_c2', 'cpd14720_c5', 'cpd02535_c1', 'cpd10162_c1', 'cpd00107_c2', 'cpd00200_c2', 'cpd15401_c6', 'cpd15387_c6', 'cpd15399_c6', 'cpd16034_c6', 'cpd10515_c6', 'cpd00557_c6', 'cpd00102_c4', 'cpd00203_c4', 'cpd00220_c5', 'cpd00050_c5', 'cpd00938_c6', 'cpd02255_c6', 'cpd08615_c5', 'cpd00202_c5', 'cpd00830_c5', 'cpd00040_c5', 'cpd11548_c6', 'cpd11549_c6', 'cpd11476_c2', 'cpd11477_c2', 'cpd00031_c2', 'cpd00038_c2', 'cpd01620_c5', 'cpd03426_c5', 'cpd03725_e0', 'cpd03725_c6', 'cpd00297_c6', 'cpd00357_c6', 'cpd00288_c1', 'cpd11497_c2', 'cpd11498_c2', 'cpd03919_c5', 'cpd00867_c4', 'cpd00121_c4', 'cpd00424_c6', 'cpd00497_c2', 'cpd00126_c2', 'cpd00438_c1', 'cpd00383_c5', 'cpd01716_c5', 'cpd00201_c5', 'cpd01133_c6', 'cpd00264_c2', 'cpd00264_c5', 'cpd00345_c6', 'cpd03197_c6', 'cpd15606_e0', 'cpd15606_c5', 'cpd02835_c2', 'cpd02930_c2', 'cpd03002_c2', 'cpd00282_c4', 'cpd00247_c4', 'cpd15547_c5', 'cpd15540_c5', 'cpd11466_c2', 'cpd11467_c2', 'cpd03447_c5', 'cpd03448_c5', 'cpd03122_c6', 'cpd03123_c6', 'cpd01777_c1', 'cpd02979_c1', 'cpd03447_c2', 'cpd03448_c2', 'cpd16335_c5', 'cpd03451_c5', 'cpd11583_c5', 'cpd08615_c6', 'cpd00015_c2', 'cpd15237_c2', 'cpd00982_c2', 'cpd11537_c4', 'cpd11538_c4', 'cpd00932_c5', 'cpd00086_c6', 'cpd02124_c6', 'cpd03195_c6', 'cpd00588_c6', 'cpd02711_c1', 'cpd11589_e0', 'cpd11589_c5', 'cpd00254_c2', 'cpd16335_c2', 'cpd03920_c5', 'cpd15337_c1', 'cpd03847_c1', 'cpd00039_c2', 'cpd08629_c5', 'cpd15560_c6', 'cpd15561_c6', 'cpd00294_c2', 'cpd00438_c2', 'cpd00073_e0', 'cpd00073_c4', 'cpd03200_c6', 'cpd00508_c1', 'cpd03919_c2', 'cpd03920_c2', 'cpd00485_c5', 'cpd00083_c5', 'cpd15421_c5', 'cpd00156_c6', 'cpd00123_c6', 'cpd00367_c4', 'cpd27484_c6', 'cpd26672_c6', 'cpd00034_c1', 'cpd00699_c6', 'cpd01716_c6', 'cpd19019_c6', 'cpd15557_c4', 'cpd15533_c4', 'cpd11534_c1', 'cpd11535_c1', 'cpd00220_c2', 'cpd00023_e0', 'cpd00260_c2', 'cpd00331_c2', 'cpd00233_c1', 'cpd00066_c1', 'cpd00231_c1', 'cpd00084_c2', 'cpd11588_e0', 'cpd11588_c5', 'cpd11531_c6', 'cpd11532_c6', 'cpd00724_c6', 'cpd03113_c1', 'cpd03126_c1', 'cpd02611_c2', 'cpd00841_c2', 'cpd00113_c2', 'cpd00842_c4', 'cpd01982_c5', 'cpd02394_c5', 'cpd11582_c1', 'cpd00161_c1', 'cpd00035_c1', 'cpd19001_c6', 'cpd00115_c1', 'cpd00126_c1', 'cpd00080_c2', 'cpd15547_c2', 'cpd15604_e0', 'cpd15604_c5', 'cpd00305_c5', 'cpd11518_c2', 'cpd11519_c2', 'cpd02978_c6', 'cpd03521_c6', 'cpd11589_c6', 'cpd11225_c1', 'cpd02656_c1', 'cpd00812_c2', 'cpd00090_c5', 'cpd00638_c5', 'cpd02386_c6', 'cpd00229_c6', 'cpd01845_c5', 'cpd11490_c6', 'cpd01399_c6', 'cpd02857_c4', 'cpd00699_c4', 'cpd15294_c6', 'cpd15330_c6', 'cpd00161_c2', 'cpd02211_c2', 'cpd00286_c4', 'cpd02862_c4', 'cpd02948_c4', 'cpd00091_c4', 'cpd00175_c6', 'cpd00026_c6', 'cpd11459_c6', 'cpd15808_c1', 'cpd15829_c1', 'cpd00029_e0', 'cpd15827_c1', 'cpd00054_c1', 'cpd00062_c1', 'cpd00026_c2', 'cpd00043_c2', 'cpd15509_c6', 'cpd00054_e0', 'cpd00322_c2', 'cpd04103_c1', 'cpd04104_c1', 'cpd02187_c3', 'cpd03572_c3', 'cpd00425_c2', 'cpd02246_c2', 'cpd02438_c2', 'cpd15895_c2', 'cpd02835_c3', 'cpd03584_c3', 'cpd11484_c3', 'cpd01669_c6', 'cpd00362_c6', 'cpd11481_c2', 'cpd11485_c2', 'cpd00193_c1', 'cpd00116_c2', 'cpd11529_c5', 'cpd11530_c5', 'cpd00041_c1', 'cpd03470_c1', 'cpd01017_c3', 'cpd00033_c3', 'cpd15505_c6', 'cpd00289_c1', 'cpd02797_c1', 'cpd00180_c1', 'cpd15557_c2', 'cpd02625_c2', 'cpd01974_c2', 'cpd00089_c1', 'cpd15510_c6', 'cpd00841_c1', 'cpd00811_c2', 'cpd00078_c2', 'cpd15828_c1', 'cpd02817_c1', 'cpd00485_c3', 'cpd00083_c3', 'cpd02484_c1', 'cpd02065_c2', 'cpd00483_c2', 'cpd00231_c3', 'cpd00233_c3', 'cpd00374_c1', 'cpd00275_c2', 'cpd00339_c1', 'cpd02678_c3', 'cpd02394_c3', 'cpd00347_c3', 'cpd00441_c2', 'cpd00092_c1', 'cpd00475_c1', 'cpd02692_c2', 'cpd00868_c1', 'cpd15839_c1', 'cpd02535_c3', 'cpd00508_c3', 'cpd02824_c1', 'cpd01749_c2', 'cpd00047_c2', 'cpd15692_c3', 'cpd15698_c3', 'cpd00065_c2', 'cpd11593_c3', 'cpd03118_c3', 'cpd03119_c3', 'cpd01048_c6', 'cpd04098_c6', 'cpd00516_c3', 'cpd00039_c3', 'cpd00393_e0', 'cpd00393_c1', 'cpd03449_c3', 'cpd00100_c3', 'cpd03443_c3', 'cpd03444_c3', 'cpd00149_e0', 'cpd00149_c4', 'cpd00873_c3', 'cpd00218_c3', 'cpd00497_c3', 'cpd01217_c1', 'cpd00078_c3', 'cpd00338_c3', 'cpd00642_c1', 'cpd00831_c1', 'cpd00026_c4', 'cpd00079_c4', 'cpd00523_c4', 'cpd00658_c3', 'cpd01997_c3', 'cpd00062_c4', 'cpd02611_c4', 'cpd00037_c4', 'cpd15341_c1', 'cpd00557_c3', 'cpd01329_c4', 'cpd00216_c1', 'cpd00219_c1', 'cpd00182_c3', 'cpd03445_c3', 'cpd00774_c3', 'cpd02698_c4', 'cpd02724_c4', 'cpd08286_c4', 'cpd08287_c4', 'cpd01772_c3', 'cpd02021_c3', 'cpd00101_c1', 'cpd00171_c1', 'cpd00793_c3', 'cpd00030_c4', 'cpd00383_c1', 'cpd01716_c1', 'cpd02229_c3', 'cpd00191_c4', 'cpd08210_c4', 'cpd00443_c4', 'cpd02930_c3', 'cpd00338_c4', 'cpd00298_c3', 'cpd00041_c4', 'cpd03470_c4', 'cpd11474_c1', 'cpd11475_c1', 'cpd00014_c3', 'cpd00016_c4', 'cpd00099_c3', 'cpd00774_c4', 'cpd01620_c4', 'cpd11461_c3', 'cpd11463_c3', 'cpd11462_c3', 'cpd00205_c3', 'cpd00254_c3', 'cpd00063_c3', 'cpd00149_c3', 'cpd00030_c3', 'cpd00034_c3', 'cpd00016_c3', 'cpd00345_c3', 'cpd00042_c3', 'cpd00028_c3', 'cpd00118_c3', 'cpd00056_c3', 'cpd15560_c3', 'cpd15793_c3', 'cpd15540_c3', 'cpd03736_c3', 'cpd15665_c3', 'cpd11416_c3', 'cpd03422_c3', 'cpd15666_c3', 'cpd00305_c4', 'cpd00793_c4', 'cpd00654_e0', 'cpd00654_c1', 'cpd00069_e0', 'cpd00061_c1', 'cpd01030_e0', 'cpd01973_c1', 'cpd00762_c1', 'cpd15329_c1', 'cpd11582_e0', 'cpd11441_c4', 'cpd15676_c4', 'cpd15682_c4', 'cpd02394_c1', 'cpd02678_c1', 'cpd11481_c4', 'cpd00199_c4', 'cpd01171_e0', 'cpd03752_c1', 'cpd00032_c6', 'cpd15892_c1', 'cpd00658_c4', 'cpd03451_c4', 'cpd00541_c1', 'cpd14955_c1', 'cpd20413_c1', 'cpd20412_c1', 'cpd20411_c1', 'cpd00965_c4', 'cpd00531_c4', 'cpd00128_c1', 'cpd03525_c4', 'cpd01977_c6', 'cpd01982_c1', 'cpd00419_c4', 'cpd00493_c4', 'cpd11568_c6', 'cpd11569_c6', 'cpd08288_c1', 'cpd18042_c1', 'cpd22795_c1', 'cpd00095_c4', 'cpd15606_c6', 'cpd24817_c1', 'cpd10515_c4', 'cpd15366_c1', 'cpd15569_c1', 'cpd00550_c4', 'cpd11539_c6', 'cpd11540_c6', 'cpd00072_c4', 'cpd00290_c4', 'cpd24818_c1', 'cpd03116_c4', 'cpd03117_c4', 'cpd00053_e0', 'cpd00052_c1', 'cpd00215_c4', 'cpd11591_e0', 'cpd11591_c6', 'cpd02168_c1', 'cpd31161_c1', 'cpd35985_c1', 'cpd00161_c4', 'cpd00071_c4', 'cpd02851_c4', 'cpd02884_c4', 'cpd11491_c6', 'cpd15277_c1', 'cpd15327_c1', 'cpd15524_c1', 'cpd34057_c1', 'cpd31636_c1', 'cpd00201_c4', 'cpd00087_c4', 'cpd00731_c4', 'cpd15537_c4', 'cpd15345_c4', 'cpd34826_c1', 'cpd15554_c4', 'cpd15530_c4', 'cpd23146_c1', 'cpd02465_c4', 'cpd02120_c4', 'cpd15526_c1', 'cpd15421_c1', 'cpd00282_c6', 'cpd00343_c6', 'cpd00350_c4', 'cpd02590_c4', 'cpd02991_c1', 'cpd34482_c1', 'cpd11432_c4', 'cpd15671_c4', 'cpd15677_c4', 'cpd00295_c4', 'cpd15688_c1', 'cpd15721_c1', 'cpd15423_c4', 'cpd15277_c4', 'cpd15327_c4', 'cpd15524_c4', 'cpd11481_c1', 'cpd11485_c1', 'cpd00135_c4', 'cpd00182_c4', 'cpd11439_c4', 'cpd15675_c4', 'cpd15681_c4', 'cpd00449_c6', 'cpd00860_c6', 'cpd00118_e0', 'cpd00249_c6', 'cpd00227_c6', 'cpd11435_c4', 'cpd15673_c4', 'cpd15679_c4', 'cpd00293_c1', 'cpd00213_c4', 'cpd00101_c4', 'cpd00198_c4', 'cpd15239_c4', 'cpd15326_c4', 'cpd00342_c6', 'cpd00918_c6', 'cpd11434_c4', 'cpd15672_c4', 'cpd15678_c4', 'cpd00036_c1', 'cpd11585_e0', 'cpd11585_c1', 'cpd00113_c5', 'cpd00350_c5', 'cpd02229_c5', 'cpd02097_c5', 'cpd15421_c6', 'cpd15557_c6', 'cpd03285_c3', 'cpd00460_c3', 'cpd03113_c5', 'cpd03114_c5', 'cpd00135_c5', 'cpd19019_c5', 'cpd03752_c2', 'cpd00093_c3', 'cpd00689_c6', 'cpd00755_c6', 'cpd00040_c3', 'cpd15298_c3', 'cpd15294_c3', 'cpd00161_e0', 'cpd00161_c5', 'cpd15510_c2', 'cpd00117_c2', 'cpd15505_c2', 'cpd00655_c6', 'cpd01042_c5', 'cpd14545_c5', 'cpd00070_c5', 'cpd00134_c5', 'cpd00774_c6', 'cpd08289_c3', 'cpd18082_c4', 'cpd18081_c4', 'cpd01741_c5', 'cpd15533_c6', 'cpd02968_c3', 'cpd03494_c3', 'cpd09255_c3', 'cpd00063_c6', 'cpd00810_c6', 'cpd00103_c6', 'cpd00247_c6', 'cpd09791_c3', 'cpd01871_c3', 'cpd15238_c5', 'cpd03126_c5', 'cpd00356_c5', 'cpd11478_c6', 'cpd11465_c6', 'cpd09844_c3', 'cpd01507_c3', 'cpd11313_c4', 'cpd11312_c4', 'cpd00925_c5', 'cpd03163_c3', 'cpd03392_c3', 'cpd00290_c6', 'cpd00363_c3', 'cpd00925_c3', 'cpd00332_c5', 'cpd00292_c5', 'cpd00810_c3', 'cpd08625_c5', 'cpd09027_c5', 'cpd15268_c6', 'cpd15329_c6', 'cpd03372_c3', 'cpd11478_c3', 'cpd11465_c3', 'cpd19001_c4', 'cpd19006_c4', 'cpd00644_c6', 'cpd15277_c5', 'cpd15327_c5', 'cpd03449_c6', 'cpd15277_c3', 'cpd15327_c3', 'cpd00875_c6', 'cpd15832_c3', 'cpd15883_c3', 'cpd03734_c5', 'cpd00109_c4', 'cpd00110_c4', 'cpd02978_c3', 'cpd03666_c3', 'cpd00202_c6', 'cpd11556_c5', 'cpd11557_c5', 'cpd04918_c3', 'cpd08316_c3', 'cpd15237_c5', 'cpd00060_c6', 'cpd11556_c3', 'cpd11557_c3', 'cpd00446_c3', 'cpd00338_c6', 'cpd00107_c3', 'cpd03187_c5', 'cpd01747_c5', 'cpd00703_c5', 'cpd01449_c4', 'cpd01845_c4', 'cpd01620_c6', 'cpd03426_c6', 'cpd00350_c3', 'cpd00065_c5', 'cpd01749_c5', 'cpd03918_c6', 'cpd03919_c6', 'cpd00283_c5', 'cpd03424_e0', 'cpd03424_c3', 'cpd03607_c3', 'cpd04539_c3', 'cpd00841_c5', 'cpd00292_c6', 'cpd11830_c3', 'cpd03495_c3', 'cpd03496_c3', 'cpd00034_c6', 'cpd08367_c5', 'cpd03285_c5', 'cpd00812_c5', 'cpd00298_c5', 'cpd11217_c3', 'cpd19424_c4', 'cpd19423_c4', 'cpd09806_c3', 'cpd04117_c3', 'cpd00332_c6', 'cpd00137_c3', 'cpd00331_c3', 'cpd03517_c2', 'cpd12847_c2', 'cpd12848_c2', 'cpd11588_c3', 'cpd00738_c5', 'cpd00052_c5', 'cpd00638_c6', 'cpd00314_e0', 'cpd00491_c3', 'cpd00525_c3', 'cpd00149_c5', 'cpd00039_c5', 'cpd01046_c5', 'cpd00145_c6', 'cpd00035_c6', 'cpd18076_c4', 'cpd18075_c4', 'cpd19422_c4', 'cpd15558_c3', 'cpd15534_c3', 'cpd15882_c3', 'cpd15908_c3', 'cpd03495_c5', 'cpd03496_c5', 'cpd02465_c5', 'cpd02120_c5', 'cpd00045_c5', 'cpd27735_c5', 'cpd00044_c5', 'cpd28060_c5', 'cpd15526_c6', 'cpd00052_c6', 'cpd00108_c1', 'cpd02143_c1', 'cpd01015_c5', 'cpd01101_c5', 'cpd11586_e0', 'cpd11586_c1', 'cpd00727_c1', 'cpd00139_c1', 'cpd00064_c3', 'cpd11592_e0', 'cpd11592_c5', 'cpd02090_c1', 'cpd00100_c1', 'cpd00121_c3', 'cpd00524_c3', 'cpd00227_c4', 'cpd00809_c4', 'cpd11587_e0', 'cpd11587_c5', 'cpd01679_c1', 'cpd00768_c1', 'cpd11590_e0', 'cpd15579_c4', 'cpd02964_c4', 'cpd01017_e0', 'cpd01017_c1', 'cpd00241_c3', 'cpd00277_c3', 'cpd11581_e0', 'cpd11581_c5', 'cpd00219_c4', 'cpd00822_c1', 'cpd00239_c1', 'cpd00135_c1', 'cpd11488_c3', 'cpd02431_c5', 'cpd00507_c1', 'cpd00098_c1', 'cpd00065_c3', 'cpd11591_c1', 'cpd00706_c4', 'cpd15526_c3', 'cpd11593_c1', 'cpd00069_c3', 'cpd15538_c4', 'cpd15346_c4', 'cpd00906_c3', 'cpd11584_e0', 'cpd11584_c5', 'cpd00150_c1', 'cpd01211_c1', 'cpd15605_c1', 'cpd00481_c5', 'cpd02187_c5', 'cpd00681_c1', 'cpd00110_c5', 'cpd00109_c5', 'cpd00036_e0', 'cpd00223_c4', 'cpd15603_e0', 'cpd15603_c1', 'cpd00154_c3', 'cpd11209_c5', 'cpd00274_c5', 'cpd00355_c4', 'cpd02016_c4', 'cpd11583_c4', 'cpd00945_c5', 'cpd03049_c3', 'cpd00162_c1', 'cpd00129_c5', 'cpd00171_c3', 'cpd00871_c3', 'cpd00653_c4', 'cpd00894_c4', 'cpd00144_c1', 'cpd00163_c1', 'cpd02572_c4', 'cpd00481_c3', 'cpd00449_c3', 'cpd02700_c3', 'cpd11583_c1', 'cpd11609_c5', 'cpd02762_c5', 'cpd11610_c5', 'cpd00224_e0', 'cpd00224_c3', 'cpd00096_c4', 'cpd22065_c2', 'cpd27021_c2', 'cpd03424_c6', 'cpd00427_c6', 'cpd00520_c6', 'cpd02394_c6', 'cpd02678_c6', 'cpd22022_c2', 'cpd27020_c2', 'cpd00109_c6', 'cpd00110_c6', 'cpd15395_c1', 'cpd11959_c1', 'cpd15370_c2', 'cpd15568_c2', 'cpd00351_c6', 'cpd11574_e0', 'cpd11574_c2', 'cpd11573_c2', 'cpd00327_c2', 'cpd02655_c2', 'cpd00936_c2', 'cpd15330_c1', 'cpd15298_c1', 'cpd15465_c6', 'cpd15464_c6', 'cpd00115_c2', 'cpd15239_c2', 'cpd00957_c5', 'cpd00931_c5', 'cpd00460_c6', 'cpd15603_c2', 'cpd26760_c2', 'cpd26761_c2', 'cpd00109_c2', 'cpd00110_c2', 'cpd00905_c6', 'cpd00031_c6', 'cpd02311_c1', 'cpd00344_c1', 'cpd00770_c6', 'cpd24817_c2', 'cpd00867_c6', 'cpd00182_c1', 'cpd00298_c6', 'cpd00895_c2', 'cpd22290_c2', 'cpd03523_c2', 'cpd26978_c2', 'cpd11537_c6', 'cpd11538_c6', 'cpd00334_c1', 'cpd00428_c1', 'cpd00305_c2', 'cpd11478_c5', 'cpd11488_c5', 'cpd11554_c6', 'cpd11555_c6', 'cpd15510_c1', 'cpd00117_c1', 'cpd15505_c1', 'cpd00136_c2', 'cpd02172_c2', 'cpd02419_c2', 'cpd00070_c2', 'cpd15521_c6', 'cpd00387_c1', 'cpd15302_c1', 'cpd00155_c1', 'cpd00159_c6', 'cpd00533_c2', 'cpd00096_c2', 'cpd15807_c6', 'cpd08211_c2', 'cpd02229_c2', 'cpd00062_c2', 'cpd15323_c1', 'cpd02799_c6', 'cpd00191_c2', 'cpd11546_c6', 'cpd11547_c6', 'cpd00085_c2', 'cpd15391_c6', 'cpd11558_c6', 'cpd11559_c6', 'cpd00293_c6', 'cpd00162_c2', 'cpd00071_c2', 'cpd00412_c1', 'cpd15385_c6', 'cpd15388_c6', 'cpd00287_c2', 'cpd00086_c2', 'cpd11525_c5', 'cpd00145_c1', 'cpd00843_c1', 'cpd01966_c2', 'cpd00242_c2', 'cpd02068_c2', 'cpd11521_c6', 'cpd11522_c6', 'cpd15385_c2', 'cpd15388_c2', 'cpd03724_c6', 'cpd15417_c2', 'cpd31434_c6', 'cpd03091_c6', 'cpd15839_c6', 'cpd15354_c1', 'cpd15237_c1', 'cpd00350_c2', 'cpd02590_c2', 'cpd02679_c2', 'cpd11435_c1', 'cpd15673_c1', 'cpd15679_c1', 'cpd15521_c1', 'cpd15417_c1', 'cpd35556_c2', 'cpd32550_c2', 'cpd00162_e0', 'cpd01777_c6', 'cpd02979_c6', 'cpd02882_c6', 'cpd14545_c6', 'cpd00764_c2', 'cpd01311_c2', 'cpd01260_c4', 'cpd02060_c4', 'cpd15680_c2', 'cpd15686_c2', 'cpd11587_c1', 'cpd04122_c1', 'cpd00731_c2', 'cpd11482_c5', 'cpd11487_c5', 'cpd00532_c1', 'cpd11517_c1', 'cpd11518_c1', 'cpd15554_c2', 'cpd15530_c2', 'cpd00426_c4', 'cpd00763_c4', 'cpd00836_c1', 'cpd00295_c2', 'cpd00089_c4', 'cpd11480_c1', 'cpd11489_c1', 'cpd00242_c4', 'cpd00032_c4', 'cpd00135_c2', 'cpd00182_c2', 'cpd00051_c1', 'cpd00152_c1', 'cpd00954_c5', 'cpd02920_c5', 'cpd11469_c4', 'cpd00101_c2', 'cpd00058_c4', 'cpd03915_c4', 'cpd03916_c4', 'cpd15325_c1', 'cpd00449_c2', 'cpd00125_c4', 'cpd11525_c1', 'cpd11526_c1', 'cpd00793_c2', 'cpd02152_c4', 'cpd00939_c1', 'cpd02775_c1', 'cpd03527_c1', 'cpd00274_c1', 'cpd00418_c1', 'cpd15687_c4', 'cpd15693_c4', 'cpd15328_c4', 'cpd10515_c1', 'cpd10516_c1', 'cpd00296_c6', 'cpd02557_c4', 'cpd03443_c4', 'cpd00491_c5', 'cpd00111_c4', 'cpd00738_c3', 'cpd11554_c5', 'cpd11555_c5', 'cpd15468_c1', 'cpd00102_c6', 'cpd00198_c6', 'cpd00236_c6', 'cpd11535_c3', 'cpd11536_c3', 'cpd08286_c5', 'cpd08289_c5', 'cpd11589_c1', 'cpd11564_c6', 'cpd11565_c6', 'cpd00094_c3', 'cpd03593_c3', 'cpd11570_c4', 'cpd01335_c3', 'cpd11588_c1', 'cpd01741_c3', 'cpd03163_c5', 'cpd03392_c5', 'cpd00114_c6', 'cpd11470_c3', 'cpd11471_c3', 'cpd00793_c1', 'cpd00810_c5', 'cpd00434_c6', 'cpd00281_c6', 'cpd15604_c1', 'cpd15359_c4', 'cpd15361_c4', 'cpd11465_c5', 'cpd00790_c1', 'cpd11592_c1', 'cpd00138_e0', 'cpd00235_c3', 'cpd03666_c5', 'cpd03560_c4', 'cpd00086_c4', 'cpd02849_c3', 'cpd15170_c3', 'cpd11431_c6', 'cpd04918_c5', 'cpd08316_c5', 'cpd11590_c1', 'cpd00800_c3', 'cpd00764_c3', 'cpd02701_c3', 'cpd00107_c5', 'cpd11581_c1', 'cpd00290_c5', 'cpd00072_c5', 'cpd00146_c4', 'cpd00343_c4', 'cpd11584_c1', 'cpd11584_c6', 'cpd00119_c6', 'cpd15321_c4', 'cpd00214_c4', 'cpd19019_c1', 'cpd11825_c3', 'cpd15328_c3', 'cpd15527_c3', 'cpd00159_c4', 'cpd03607_c5', 'cpd04539_c5', 'cpd15353_c6', 'cpd15720_c3', 'cpd15726_c3', 'cpd15678_c3', 'cpd15684_c3', 'cpd00658_c6', 'cpd16335_c6', 'cpd00604_c1', 'cpd02642_c3', 'cpd00956_c3', 'cpd00134_c4', 'cpd02574_c5', 'cpd15557_c1', 'cpd15533_c1', 'cpd02886_c4', 'cpd03584_c4', 'cpd02857_c6', 'cpd00294_c1', 'cpd03120_c4', 'cpd03130_c4', 'cpd15701_c3', 'cpd15677_c3', 'cpd00350_c1', 'cpd02557_c1', 'cpd00042_c2', 'cpd01017_c2', 'cpd00186_c1', 'cpd00137_c5', 'cpd00331_c5', 'cpd15277_c2', 'cpd00277_c1', 'cpd00296_c1', 'cpd00307_e0', 'cpd00307_c3', 'cpd15500_c2', 'cpd00186_c5', 'cpd00890_c5', 'cpd00525_c5', 'cpd00183_c3', 'cpd15352_c1', 'cpd15353_c1', 'cpd00347_c2', 'cpd00116_e0', 'cpd00241_c2', 'cpd15558_c5', 'cpd15534_c5', 'cpd03449_c2', 'cpd00092_e0', 'cpd00092_c3', 'cpd01092_e0', 'cpd01092_c3', 'cpd02016_c1', 'cpd16335_c1', 'cpd03451_c1', 'cpd03584_c2', 'cpd11484_c2', 'cpd02968_c5', 'cpd03494_c5', 'cpd11488_c1', 'cpd15268_c1', 'cpd02835_c1', 'cpd02930_c1', 'cpd03002_c1', 'cpd00207_c5', 'cpd00309_c5', 'cpd00136_c1', 'cpd02197_c2', 'cpd15074_c3', 'cpd00055_c3', 'cpd11472_c1', 'cpd11473_c1', 'cpd00215_c2', 'cpd00111_c3', 'cpd00119_c1', 'cpd00143_c1', 'cpd00644_c2', 'cpd02201_c2', 'cpd04399_c3', 'cpd11533_c5', 'cpd11534_c5', 'cpd00706_c1', 'cpd15666_c5', 'cpd15665_c5', 'cpd00875_c2', 'cpd02546_c2', 'cpd00215_c1', 'cpd00016_c1', 'cpd00797_e0', 'cpd00797_c3', 'cpd11492_c2', 'cpd15268_c2', 'cpd00509_c1', 'cpd00510_c1', 'cpd03447_c1', 'cpd00019_c1', 'cpd03448_c1', 'cpd02904_c2', 'cpd03423_c2', 'cpd02851_c1', 'cpd02884_c1', 'cpd15298_c5', 'cpd15294_c5', 'cpd02698_c2', 'cpd02724_c2', 'cpd00403_c3', 'cpd00672_c3', 'cpd00149_c1', 'cpd08632_c3', 'cpd08631_c3', 'cpd11462_c5', 'cpd01449_c3', 'cpd01845_c3', 'cpd00166_c2', 'cpd00367_c1', 'cpd00658_c1', 'cpd02678_c5', 'cpd11420_c1', 'cpd11421_c1', 'cpd00791_c2', 'cpd01476_c2', 'cpd00731_c3', 'cpd00620_c5', 'cpd00834_c5', 'cpd00179_c1', 'cpd15495_c1', 'cpd01329_c1', 'cpd00030_c2', 'cpd11632_c3', 'cpd00653_c1', 'cpd00894_c1', 'cpd00156_e0', 'cpd00156_c1', 'cpd00977_c5', 'cpd03704_c5', 'cpd15329_c2', 'cpd00105_c6', 'cpd00128_c6', 'cpd00863_c6', 'cpd00523_c6', 'cpd15739_c6', 'cpd15730_c6', 'cpd00139_c6', 'cpd00149_c6', 'cpd00861_c6', 'cpd00946_c6', 'cpd02967_c6', 'cpd03283_c6', 'cpd00122_c6', 'cpd00275_c6', 'cpd02065_c6', 'cpd00254_c6', 'cpd03698_c6', 'cpd01553_c6', 'cpd02760_c6', 'cpd03697_c6', 'cpd00415_c6', 'cpd00402_c6', 'cpd15748_c6', 'cpd00858_c6', 'cpd11466_c6', 'cpd15277_c6', 'cpd02961_c6', 'cpd15514_c6', 'cpd15503_c6', 'cpd15325_c5', 'cpd15311_c6', 'cpd15302_c6', 'cpd00155_c6', 'cpd00205_c6', 'cpd16315_c6', 'cpd00626_c6', 'cpd00521_c6', 'cpd00483_c6', 'cpd02692_c6', 'cpd00522_c6', 'cpd00350_c6', 'cpd02746_c6', 'cpd02654_c6', 'cpd02894_c6', 'cpd00793_c6', 'cpd15661_c6', 'cpd15662_c6', 'cpd02642_c6', 'cpd00956_c6', 'cpd00232_c6', 'cpd00330_c6', 'cpd00653_c6', 'cpd00894_c6', 'cpd00361_c6', 'cpd15663_c6', 'cpd11589_c4', 'cpd00424_c2', 'cpd00182_c5', 'cpd00830_c2', 'cpd15368_c3', 'cpd15570_c3', 'cpd02904_c5', 'cpd03423_c5', 'cpd11585_c4', 'cpd00851_c2', 'cpd00638_c3', 'cpd00235_c5', 'cpd11582_c4', 'cpd02698_c5', 'cpd02724_c5', 'cpd00132_c1', 'cpd11463_c1', 'cpd11586_c4', 'cpd02851_c2', 'cpd02506_c2', 'cpd00044_c4', 'cpd15481_c4', 'cpd00045_c4', 'cpd15480_c4', 'cpd03125_c4', 'cpd03124_c4', 'cpd00115_c3', 'cpd00177_c3', 'cpd00525_c6', 'cpd02861_c6', 'cpd08287_c5', 'cpd00128_c2', 'cpd00649_c4', 'cpd11640_c4', 'cpd00792_c4', 'cpd00620_c3', 'cpd00834_c3', 'cpd00834_c6', 'cpd11591_c4', 'cpd00166_c5', 'cpd00932_c1', 'cpd00220_c6', 'cpd00050_c6', 'cpd01335_c4', 'cpd00424_c3', 'cpd00135_c3', 'cpd00095_c6', 'cpd11593_c4', 'cpd00056_c4', 'cpd00840_c1', 'cpd15489_c2', 'cpd15479_c2', 'cpd00210_c3', 'cpd04122_c3', 'cpd11461_c5', 'cpd00524_c6', 'cpd00635_e0', 'cpd00077_c4', 'cpd01630_c4', 'cpd00134_c3', 'cpd03126_c3', 'cpd03487_c6', 'cpd03488_c6', 'cpd04097_c2', 'cpd04097_e0', 'cpd08316_c4', 'cpd04920_c4', 'cpd00030_c5', 'cpd11472_c3', 'cpd11473_c3', 'cpd12543_c6', 'cpd12848_c6', 'cpd00448_c3', 'cpd15605_c4', 'cpd02921_c5', 'cpd02140_c3', 'cpd00290_c1', 'cpd00843_c2', 'cpd00448_c4', 'cpd15574_e0', 'cpd15574_c4', 'cpd11580_c6', 'cpd02234_c3', 'cpd00145_c4', 'cpd00191_c5', 'cpd00085_c3', 'cpd01504_c3', 'cpd15319_c4', 'cpd03847_c4', 'cpd00166_e0', 'cpd00104_c3', 'cpd03127_c4', 'cpd02964_c3', 'cpd00460_c5', 'cpd00100_c5', 'cpd02843_c4', 'cpd00930_c4', 'cpd00532_c2', 'cpd01294_c3', 'cpd03641_c3', 'cpd11580_c4', 'cpd03124_c3', 'cpd03125_c3', 'cpd03443_c5', 'cpd03444_c5', 'cpd03115_c6', 'cpd12689_c6', 'cpd08287_c1', 'cpd01012_c2', 'cpd01012_e0', 'cpd00423_c4', 'cpd00218_c5', 'cpd11560_c6', 'cpd11561_c6', 'cpd01793_c4', 'cpd00781_c4', 'cpd00338_c5', 'cpd00132_c3', 'cpd08625_c3', 'cpd09027_c3', 'cpd00239_c2', 'cpd02375_c1', 'cpd00658_c5', 'cpd00170_c3', 'cpd00222_c3', 'cpd03126_c4', 'cpd00205_c2', 'cpd00246_c1', 'cpd00322_c6', 'cpd00508_c6', 'cpd00254_c5', 'cpd15561_c3', 'cpd03128_c4', 'cpd03129_c4', 'cpd00531_c2', 'cpd00531_e0', 'cpd00241_c1', 'cpd00421_c1', 'cpd00142_c5', 'cpd00408_c5', 'cpd00712_c5', 'cpd00098_c3', 'cpd00447_c3', 'cpd15606_c4', 'cpd00139_c4', 'cpd11552_c6', 'cpd11553_c6', 'cpd00277_e0', 'cpd00277_c4', 'cpd00037_c3', 'cpd02886_c3', 'cpd09812_c3', 'cpd09813_c3', 'cpd00412_e0', 'cpd15689_c3', 'cpd15695_c3', 'cpd00371_c3', 'cpd03559_c3', 'cpd11542_c1', 'cpd11543_c1', 'cpd03279_e0', 'cpd03279_c4', 'cpd11588_c4', 'cpd00557_c5', 'cpd01335_c1', 'cpd03130_c1', 'cpd00176_c5', 'cpd00448_c5', 'cpd19168_c5', 'cpd20940_c5', 'cpd30750_c5', 'cpd00231_c5', 'cpd00233_c5', 'cpd11433_c4', 'cpd00668_c5', 'cpd08301_c5', 'cpd15679_c3', 'cpd15685_c3', 'cpd11542_c4', 'cpd11543_c4', 'cpd11474_c5', 'cpd11475_c5', 'cpd11570_c3', 'cpd11571_c3', 'cpd00048_c5', 'cpd11494_c5', 'cpd11470_c5', 'cpd00295_c3', 'cpd08288_c4', 'cpd00179_c5', 'cpd00027_c5', 'cpd02234_c5', 'cpd00650_c5', 'cpd15552_c4', 'cpd15528_c4', 'cpd12225_c5', 'cpd12005_c5', 'cpd00169_c4', 'cpd15546_c3', 'cpd15539_c3', 'cpd02375_c4', 'cpd02160_c5', 'cpd00146_c5', 'cpd18031_c5', 'cpd03217_c5', 'cpd03220_c5', 'cpd00232_c5', 'cpd00492_c5', 'cpd00066_e0', 'cpd00296_c3', 'cpd00246_c4', 'cpd00329_c1', 'cpd01294_c1', 'cpd11438_c3', 'cpd11439_c3', 'cpd00120_c5', 'cpd00232_c1', 'cpd11592_c4', 'cpd02065_c1', 'cpd00483_c1', 'cpd02484_c4', 'cpd01260_c1', 'cpd02060_c1', 'cpd01324_c3', 'cpd00837_c5', 'cpd00065_c4', 'cpd00119_c4', 'cpd00132_c4', 'cpd00039_c4', 'cpd00069_c4', 'cpd00129_c4', 'cpd00322_c4', 'cpd11463_c4', 'cpd01476_c5', 'cpd00932_c4', 'cpd00348_c5', 'cpd11509_c2', 'cpd11510_c2', 'cpd02843_c2', 'cpd00930_c2', 'cpd00051_c2', 'cpd03445_c5', 'cpd11476_c5', 'cpd11570_c5', 'cpd00143_c6', 'cpd00066_c6', 'cpd03491_c4', 'cpd00274_c2', 'cpd02152_c2', 'cpd00288_c2', 'cpd00293_c2', 'cpd00900_c5', 'cpd00472_c6', 'cpd00272_c5', 'cpd00123_c2', 'cpd00712_c2', 'cpd00040_c2', 'cpd03049_c5', 'cpd00144_c6', 'cpd15481_c2', 'cpd15480_c2', 'cpd03560_c5', 'cpd00086_c5', 'cpd00882_c5', 'cpd00599_c5', 'cpd02484_c6', 'cpd15508_c2', 'cpd15507_c2', 'cpd02465_c2', 'cpd00516_c2', 'cpd15705_c4', 'cpd11517_c2', 'cpd15386_c5', 'cpd15385_c5', 'cpd00516_c5', 'cpd15514_c2', 'cpd00277_c2', 'cpd00421_c2', 'cpd00152_c2', 'cpd00333_c5', 'cpd01224_c5', 'cpd11480_c2', 'cpd11489_c2', 'cpd15506_c2', 'cpd00343_c5', 'cpd03049_c2', 'cpd00330_c2', 'cpd00393_c2', 'cpd00069_c2', 'cpd00604_c2', 'cpd01646_c4', 'cpd01710_c4', 'cpd00156_c5', 'cpd00114_c2', 'cpd02498_c2', 'cpd02569_c2', 'cpd10515_c2', 'cpd10516_c2', 'cpd00939_c5', 'cpd15544_c5', 'cpd15537_c5', 'cpd11499_c2', 'cpd00183_c2', 'cpd00756_c2', 'cpd00214_c5', 'cpd00236_c4', 'cpd03446_c5', 'cpd15359_c5', 'cpd00299_c2', 'cpd00412_c2', 'cpd00324_c5', 'cpd00790_c5', 'cpd00119_c5', 'cpd11590_c2', 'cpd00644_c4', 'cpd02201_c4', 'cpd00287_c4', 'cpd02096_c4', 'cpd01080_c5', 'cpd00011_e0', 'cpd15385_c1', 'cpd15388_c1', 'cpd11465_c4', 'cpd00134_c1', 'cpd08023_c5', 'cpd00027_e0', 'cpd00347_c1', 'cpd00201_c1', 'cpd01048_c1', 'cpd00042_c1', 'cpd04098_c1', 'cpd00111_c1', 'cpd00810_c4', 'cpd03128_c1', 'cpd03129_c1', 'cpd00126_c4', 'cpd00311_c4', 'cpd03192_c1', 'cpd03171_c1', 'cpd00626_c4', 'cpd00521_c4', 'cpd00026_c1', 'cpd00043_c1', 'cpd00275_c1', 'cpd00093_c1', 'cpd12547_c4', 'cpd00650_c1', 'cpd00013_e0', 'cpd00859_c1', 'cpd00120_c1', 'cpd00218_e0', 'cpd11433_c1', 'cpd11434_c1', 'cpd00133_c1', 'cpd00976_c5', 'cpd00122_e0', 'cpd02524_c1', 'cpd02666_c1', 'cpd11464_c1', 'cpd11465_c1', 'cpd01695_c1', 'cpd03127_c1', 'cpd11310_c5', 'cpd00020_e0', 'cpd00731_c5', 'cpd02964_c5', 'cpd00307_c1', 'cpd08289_c4', 'cpd03124_c5', 'cpd03125_c5', 'cpd00408_c1', 'cpd03163_c4', 'cpd03392_c4', 'cpd00837_c1', 'cpd00118_c1', 'cpd00147_c1', 'cpd00264_c1', 'cpd03666_c4', 'cpd02113_c1', 'cpd00522_c1', 'cpd03124_c1', 'cpd03125_c1', 'cpd00620_c1', 'cpd00290_c2', 'cpd02021_c6', 'cpd11217_c6', 'cpd31852_c2', 'cpd32612_c2', 'cpd24820_c2', 'cpd00837_c2', 'cpd00118_c2', 'cpd00147_c2', 'cpd11477_c6', 'cpd00735_c2', 'cpd00643_c2', 'cpd00649_c2', 'cpd00792_c2', 'cpd02069_c6', 'cpd00742_c2', 'cpd27090_c2', 'cpd11621_c2', 'cpd27506_c2', 'cpd11620_c2', 'cpd02631_c6', 'cpd33647_c2', 'cpd35194_c2', 'cpd19503_c2', 'cpd21167_c2', 'cpd11830_c6', 'cpd12225_c6', 'cpd03520_c2', 'cpd00074_c2', 'cpd27758_c2', 'cpd08615_c2', 'cpd28083_c2', 'cpd00477_c1', 'cpd02552_c1', 'cpd00374_c2', 'cpd00200_c6', 'cpd15314_c1', 'cpd21005_c2', 'cpd15560_c2', 'cpd14589_c2', 'cpd24818_c2', 'cpd11566_c1', 'cpd11567_c1', 'cpd02685_c1', 'cpd03289_c1', 'cpd15341_c6', 'cpd02361_c1', 'cpd00489_c1', 'cpd15314_c6', 'cpd00908_c6', 'cpd03847_c6', 'cpd00355_e0', 'cpd15674_c4', 'cpd11468_c2', 'cpd15325_c2', 'cpd01882_c3', 'cpd14699_c3', 'cpd19168_c1', 'cpd30750_c1', 'cpd20940_c1', 'cpd15331_c4', 'cpd15522_c4', 'cpd00361_c3', 'cpd00425_c1', 'cpd02438_c1', 'cpd15895_c1', 'cpd00116_c1', 'cpd00516_c4', 'cpd14703_c3', 'cpd02978_c2', 'cpd03444_c1', 'cpd03445_c1', 'cpd00070_c4', 'cpd01324_c5', 'cpd00971_c3', 'cpd15238_c4', 'cpd00811_c1', 'cpd00055_c1', 'cpd00186_c4', 'cpd19168_c3', 'cpd00239_c3', 'cpd20940_c3', 'cpd30750_c3', 'cpd00055_c4', 'cpd11571_c5', 'cpd00198_c1', 'cpd00157_c1', 'cpd00050_c4', 'cpd00056_c6', 'cpd03049_c6', 'cpd00644_c3', 'cpd15504_c1', 'cpd02394_c4', 'cpd02678_c4', 'cpd00298_c4', 'cpd15546_c5', 'cpd15539_c5', 'cpd15511_c1', 'cpd00130_c2', 'cpd00075_c4', 'cpd00549_c1', 'cpd01982_c4', 'cpd02572_c1', 'cpd02507_c1', 'cpd15423_c6', 'cpd15553_c6', 'cpd15509_c1', 'cpd00731_c1', 'cpd11474_c4', 'cpd11475_c4', 'cpd11464_c4', 'cpd00277_c5', 'cpd00668_c1', 'cpd11472_c4', 'cpd11438_c5', 'cpd11439_c5', 'cpd15529_c6', 'cpd00854_c1', 'cpd02828_c1', 'cpd00066_c3', 'cpd01449_c5', 'cpd03214_c5', 'cpd03148_c5', 'cpd15526_c4', 'cpd15329_c4', 'cpd00085_c4', 'cpd00441_c1', 'cpd11479_c6', 'cpd11473_c6', 'cpd00051_c6', 'cpd00297_c2', 'cpd00357_c2', 'cpd15523_c6', 'cpd00100_c2', 'cpd01982_c6', 'cpd00311_c6', 'cpd00207_c6', 'cpd02835_c6', 'cpd02930_c6', 'cpd03443_c2', 'cpd03444_c2', 'cpd00259_c6', 'cpd00504_c6', 'cpd00873_c2', 'cpd00218_c2', 'cpd01777_c5', 'cpd00272_c3', 'cpd00900_c3', 'cpd03113_c6', 'cpd03126_c6', 'cpd03451_c6', 'cpd15327_c6', 'cpd15524_c6', 'cpd02685_c2', 'cpd03289_c2', 'cpd01651_c3', 'cpd03646_c3', 'cpd02375_c6', 'cpd02535_c5', 'cpd00508_c5', 'cpd00288_c6', 'cpd02535_c6', 'cpd10162_c6', 'cpd00421_c6', 'cpd00277_c6', 'cpd00184_c6', 'cpd00509_c6', 'cpd00151_c6', 'cpd17564_c3', 'cpd17566_c3', 'cpd03446_c6', 'cpd03447_c6', 'cpd00412_c6', 'cpd03696_e0', 'cpd03697_c1', 'cpd15371_c3', 'cpd15572_c3', 'cpd03920_c6', 'cpd00345_c2', 'cpd15673_c6', 'cpd11435_c6', 'cpd15679_c6', 'cpd00780_c3', 'cpd15352_c6', 'cpd11582_c6', 'cpd00161_c6', 'cpd00169_c2', 'cpd02069_c2', 'cpd15547_c6', 'cpd15395_c6', 'cpd15531_c6', 'cpd11959_c6', 'cpd15339_c6', 'cpd15717_c3', 'cpd15723_c3', 'cpd00295_c1', 'cpd03585_c2', 'cpd03586_c2', 'cpd11488_c6', 'cpd00482_c5', 'cpd11525_c6', 'cpd11526_c6', 'cpd01695_c3', 'cpd03114_c3', 'cpd00311_c1', 'cpd01997_c2', 'cpd00386_c3', 'cpd00557_c2', 'cpd03426_c2', 'cpd12547_c2', 'cpd00908_c2', 'cpd15269_c2', 'cpd08211_c6', 'cpd15538_c6', 'cpd15346_c6', 'cpd00184_c1', 'cpd00159_c2', 'cpd00221_c2', 'cpd00841_c6', 'cpd00383_c6', 'cpd15666_c6', 'cpd15669_c6', 'cpd00286_c6', 'cpd00262_c3', 'cpd00592_c3', 'cpd00668_c2', 'cpd00812_c6', 'cpd02656_c3', 'cpd02882_c3', 'cpd00774_c2', 'cpd01620_c2', 'cpd00028_e0', 'cpd00028_c6', 'cpd15350_c2', 'cpd01741_c2', 'cpd00101_c5', 'cpd11500_c1', 'cpd11501_c1', 'cpd15666_c2', 'cpd03495_c2', 'cpd15665_c2', 'cpd15357_c2', 'cpd11593_c6', 'cpd08306_e0', 'cpd08306_c6', 'cpd00164_e0', 'cpd00164_c1', 'cpd01772_c2', 'cpd02021_c2', 'cpd00391_c1', 'cpd02386_c1', 'cpd15541_c2', 'cpd15349_c2', 'cpd03448_c6', 'cpd15555_c3', 'cpd15531_c3', 'cpd15527_c2', 'cpd11500_c6', 'cpd11501_c6', 'cpd11509_c3', 'cpd11510_c3', 'cpd11566_c6', 'cpd11567_c6', 'cpd03584_c6', 'cpd11484_c6', 'cpd00351_c1', 'cpd00355_c3', 'cpd15683_c4', 'cpd15716_c4', 'cpd03327_c1', 'cpd00199_c1', 'cpd03762_c3', 'cpd00791_c3', 'cpd01476_c3', 'cpd01960_c1', 'cpd15362_c4', 'cpd00209_c4', 'cpd00305_c1', 'cpd15419_c3', 'cpd15545_c3', 'cpd02234_c4', 'cpd01772_c5', 'cpd00199_c3', 'cpd15508_c4', 'cpd15507_c4', 'cpd03407_c3', 'cpd00793_c5', 'cpd00196_c3', 'cpd15560_c4', 'cpd15561_c4', 'cpd01011_c3', 'cpd03662_c3', 'cpd00278_c4', 'cpd11175_c4', 'cpd00428_c3', 'cpd03105_c3', 'cpd15662_c1', 'cpd15666_c1', 'cpd15669_c1', 'cpd00286_c1', 'cpd15398_c3', 'cpd00122_c3', 'cpd15401_c3', 'cpd03662_e0', 'cpd00918_c5', 'cpd02552_c5', 'cpd00911_c3', 'cpd00284_c3', 'cpd15514_c4', 'cpd15510_c4', 'cpd01914_c1', 'cpd00957_c3', 'cpd15661_c1', 'cpd15667_c1', 'cpd00099_c5', 'cpd11464_c3', 'cpd03034_c4', 'cpd03063_c4', 'cpd00540_c1', 'cpd11463_c5', 'cpd00345_c5', 'cpd00042_c5', 'cpd00028_c5', 'cpd15793_c5', 'cpd03736_c5', 'cpd11416_c5', 'cpd12370_c5', 'cpd01997_c5', 'cpd00533_c4', 'cpd02591_c1', 'cpd03217_c3', 'cpd03220_c3', 'cpd00906_c1', 'cpd00244_c3', 'cpd00278_c3', 'cpd11621_c3', 'cpd11175_c3', 'cpd11620_c3', 'cpd15506_c4', 'cpd09410_c1', 'cpd01401_c1', 'cpd00822_c3', 'cpd00489_c3', 'cpd00854_c3', 'cpd00153_c3', 'cpd11467_c3', 'cpd27484_c4', 'cpd26672_c4', 'cpd15663_c1', 'cpd15668_c1', 'cpd03518_c3', 'cpd03519_c3', 'cpd02498_c4', 'cpd02569_c4', 'cpd15306_c4', 'cpd02522_c1', 'cpd15704_c3', 'cpd15680_c3', 'cpd21184_c3', 'cpd09843_c3', 'cpd28260_c4', 'cpd03520_c4', 'cpd28253_c4', 'cpd00330_c4', 'cpd00393_c4', 'cpd01919_c3', 'cpd02255_c3', 'cpd02843_c5', 'cpd02991_c5', 'cpd00918_c3', 'cpd02552_c3', 'cpd00858_c2', 'cpd02097_c2', 'cpd15294_c1', 'cpd15523_c1', 'cpd03122_c3', 'cpd00156_c3', 'cpd15716_c5', 'cpd15722_c5', 'cpd00782_c3', 'cpd00735_c1', 'cpd00643_c1', 'cpd00936_c1', 'cpd01107_c3', 'cpd11474_c3', 'cpd00925_c2', 'cpd15348_c1', 'cpd00040_c1', 'cpd15327_c2', 'cpd03671_c3', 'cpd00288_c3', 'cpd15538_c3', 'cpd15525_c5', 'cpd15418_c5', 'cpd11556_c2', 'cpd11557_c2', 'cpd02465_c3', 'cpd00283_c2', 'cpd15422_c3', 'cpd15554_c3', 'cpd15320_c1', 'cpd00954_c1', 'cpd02920_c1', 'cpd03189_c3', 'cpd03496_c2', 'cpd15548_c3', 'cpd15541_c3', 'cpd11482_c1', 'cpd11487_c1', 'cpd15525_c1', 'cpd15418_c1', 'cpd00408_c3', 'cpd00939_c6', 'cpd02775_c6', 'cpd15900_c1', 'cpd15832_c1', 'cpd04122_c2', 'cpd01080_c3', 'cpd15358_c3', 'cpd01725_c6', 'cpd00705_c1', 'cpd00269_c1', 'cpd00706_c2', 'cpd00176_c1', 'cpd02636_c6', 'cpd03052_c1', 'cpd01831_c1', 'cpd00070_c3', 'cpd00214_c3', 'cpd00139_e0', 'cpd15681_c1', 'cpd15687_c1', 'cpd15831_c3', 'cpd00738_c1', 'cpd11479_c1', 'cpd11486_c1', 'cpd00939_c2', 'cpd02775_c2', 'cpd00133_c6', 'cpd02197_c1', 'cpd15348_c6', 'cpd15560_e0', 'cpd15561_e0', 'cpd15536_c6', 'cpd15344_c6', 'cpd36635_c3', 'cpd02090_c6', 'cpd11587_c2', 'cpd00359_c1', 'cpd03049_c1', 'cpd01270_c3', 'cpd17040_c3', 'cpd32452_c3', 'cpd15543_c6', 'cpd02921_c1', 'cpd15361_c6', 'cpd15360_c6', 'cpd15888_c1', 'cpd15901_c1', 'cpd00281_c3', 'cpd00281_e0', 'cpd08211_c1', 'cpd15831_c1', 'cpd00219_c2', 'cpd00143_c2', 'cpd02555_c6', 'cpd02738_c6', 'cpd02693_c1', 'cpd01710_c1', 'cpd02483_c1', 'cpd11512_c1', 'cpd11513_c1', 'cpd00229_e0', 'cpd16398_c1', 'cpd15073_c5', 'cpd00082_c5', 'cpd01311_c5', 'cpd00347_c4', 'cpd00461_c4', 'cpd02731_c4', 'cpd00293_c4', 'cpd00108_c5', 'cpd00868_c4', 'cpd11590_c4', 'cpd00043_c4', 'cpd02135_c5', 'cpd00646_c5', 'cpd11581_c4', 'cpd00635_c5', 'cpd02661_c5', 'cpd11584_c4', 'cpd00127_c5', 'cpd02211_c5', 'cpd04399_c5', 'cpd00089_c5', 'cpd00724_c5', 'cpd02065_c4', 'cpd00483_c4', 'cpd00094_c4', 'cpd00239_c4', 'cpd00263_c5', 'cpd01773_c5', 'cpd00971_c5', 'cpd00157_c4', 'cpd02791_c4', 'cpd11295_c4', 'cpd00478_c5', 'cpd21472_c5', 'cpd21481_c5', 'cpd15341_c4', 'cpd00206_c5', 'cpd00137_c4', 'cpd00111_c5', 'cpd00075_c5', 'cpd00275_c4', 'cpd00258_c5', 'cpd02636_c5', 'cpd02654_c5', 'cpd00919_c1', 'cpd15401_c5', 'cpd15400_c5', 'cpd03128_c5', 'cpd15757_c6', 'cpd15883_c1', 'cpd15909_c1', 'cpd01335_c5', 'cpd01329_c2', 'cpd00089_c2', 'cpd15495_c2', 'cpd15775_c6', 'cpd11527_c1', 'cpd11528_c1', 'cpd15882_c1', 'cpd15908_c1', 'cpd15579_c5', 'cpd00871_c2', 'cpd00153_c5', 'cpd00066_c2', 'cpd00184_c4', 'cpd00851_c6', 'cpd02175_c6', 'cpd00356_c1', 'cpd00139_c2', 'cpd11554_c4', 'cpd11555_c4', 'cpd00180_c5', 'cpd00851_c1', 'cpd02175_c1', 'cpd00805_c6', 'cpd02371_c6', 'cpd00068_c6', 'cpd00090_c6', 'cpd01399_c2', 'cpd01960_c6', 'cpd03326_c6', 'cpd00179_c2', 'cpd00083_c1', 'cpd00900_c1', 'cpd00387_c2', 'cpd00581_c6', 'cpd04539_c4', 'cpd00340_c2', 'cpd24376_c2', 'cpd15884_c2', 'cpd01949_c1', 'cpd01221_c1', 'cpd00244_c2', 'cpd02626_c6', 'cpd00340_c6', 'cpd01155_c1', 'cpd00184_c2', 'cpd00151_c2', 'cpd00509_c2', 'cpd00357_c4', 'cpd00297_c4', 'cpd00128_c4', 'cpd02574_c4', 'cpd15302_c2', 'cpd00155_c2', 'cpd02884_c5', 'cpd11466_c1', 'cpd07923_c1', 'cpd07924_c1', 'cpd00567_c6', 'cpd02235_c6', 'cpd03187_c1', 'cpd01262_c2', 'cpd00066_c5', 'cpd00485_c6', 'cpd00083_c6', 'cpd00251_c2', 'cpd15361_c5', 'cpd15360_c5', 'cpd15494_c2', 'cpd00226_c1', 'cpd00227_c2', 'cpd00790_c2', 'cpd03120_c5', 'cpd03130_c5', 'cpd00722_c2', 'cpd00083_c2', 'cpd00900_c2', 'cpd02574_c2', 'cpd02791_c2', 'cpd11516_c1', 'cpd15689_c5', 'cpd15695_c5', 'cpd00446_c2', 'cpd02605_c1', 'cpd00875_c4', 'cpd02546_c4', 'cpd00882_c2', 'cpd00599_c2', 'cpd15345_c1', 'cpd00130_c4', 'cpd01324_c1', 'cpd00037_c5', 'cpd11484_c5', 'cpd02886_c5', 'cpd00482_c2', 'cpd00853_c2', 'cpd11484_c4', 'cpd11491_c4', 'cpd15368_c5', 'cpd15570_c5', 'cpd15547_c1', 'cpd08629_c4', 'cpd00311_c2', 'cpd00475_c2', 'cpd00207_c2', 'cpd03831_c1', 'cpd15485_c1', 'cpd15484_c1', 'cpd00141_c1', 'cpd03560_c1', 'cpd11504_c5', 'cpd11505_c5', 'cpd15672_c1', 'cpd15678_c1', 'cpd11496_c5', 'cpd11497_c5', 'cpd15400_c4', 'cpd15399_c4', 'cpd15386_c4', 'cpd02333_c1', 'cpd02140_c2', 'cpd02893_c2', 'cpd15422_c4', 'cpd15544_c4', 'cpd00280_e0', 'cpd00280_c1', 'cpd02431_c2', 'cpd03584_c5', 'cpd11494_c4', 'cpd01107_c5', 'cpd15572_c5', 'cpd15268_c5', 'cpd00162_c4', 'cpd02740_c4', 'cpd11494_c1', 'cpd15355_c1', 'cpd02835_c5', 'cpd02930_c5', 'cpd03002_c5', 'cpd15704_c5', 'cpd15680_c5', 'cpd03518_c5', 'cpd03519_c5', 'cpd15679_c5', 'cpd15685_c5', 'cpd11467_c6', 'cpd01262_c1', 'cpd01399_c1', 'cpd11588_c6', 'cpd01651_c5', 'cpd03407_c5', 'cpd03491_c1', 'cpd03492_c1', 'cpd00497_c5', 'cpd00294_c6', 'cpd00438_c6', 'cpd15398_c5', 'cpd00122_c5', 'cpd00367_c2', 'cpd00802_c1', 'cpd00448_c1', 'cpd00244_c5', 'cpd03671_c6', 'cpd02611_c6', 'cpd00146_c1', 'cpd00355_c2', 'cpd02016_c2', 'cpd11518_c6', 'cpd11519_c6', 'cpd11578_c5', 'cpd11436_c6', 'cpd11437_c6', 'cpd12370_c1', 'cpd00822_c5', 'cpd03117_c6', 'cpd14702_c1', 'cpd14703_c1', 'cpd00388_c5', 'cpd00073_c5', 'cpd00465_c5', 'cpd11467_c5', 'cpd01501_c5', 'cpd03583_c1', 'cpd00978_c1', 'cpd00358_c1', 'cpd01012_c6', 'cpd00214_c2', 'cpd01695_c6', 'cpd15331_c6', 'cpd15676_c6', 'cpd11441_c6', 'cpd15682_c6', 'cpd15603_c6', 'cpd11512_c6', 'cpd11513_c6', 'cpd00504_c2', 'cpd02693_c6', 'cpd01710_c6', 'cpd11485_c4', 'cpd15605_c6', 'cpd00075_c2', 'cpd03446_c4', 'cpd03447_c4', 'cpd01262_c6', 'cpd15672_c6', 'cpd11434_c6', 'cpd15678_c6', 'cpd15495_c3', 'cpd01399_c3', 'cpd01080_c2', 'cpd04918_c6', 'cpd08316_c6', 'cpd09027_c4', 'cpd19020_c4', 'cpd02168_c6', 'cpd15348_c2', 'cpd02090_c2', 'cpd02135_c3', 'cpd00646_c3', 'cpd04920_c6', 'cpd03830_c6', 'cpd15499_c2', 'cpd03918_c2', 'cpd27021_c4', 'cpd02991_c6', 'cpd15533_c2', 'cpd21488_c4', 'cpd03666_c6', 'cpd11516_c6', 'cpd11517_c6', 'cpd15313_c2', 'cpd21118_c4', 'cpd11481_c6', 'cpd11485_c6', 'cpd21090_c4', 'cpd11574_c4', 'cpd00446_c6', 'cpd15807_c4', 'cpd02720_c4', 'cpd00150_c6', 'cpd01211_c6', 'cpd02172_c6', 'cpd16494_c6', 'cpd15431_c2', 'cpd02311_c6', 'cpd00344_c6', 'cpd00655_c2', 'cpd27020_c4', 'cpd11533_c6', 'cpd11534_c6', 'cpd03128_c6', 'cpd01260_c6', 'cpd02230_c6', 'cpd11541_c6', 'cpd11542_c6', 'cpd02799_c4', 'cpd02597_c4', 'cpd01270_c4', 'cpd17040_c4', 'cpd32452_c4', 'cpd00218_c6', 'cpd00873_c6', 'cpd00480_c3', 'cpd15540_c2', 'cpd11574_c6', 'cpd11640_c3', 'cpd03115_c4', 'cpd11499_c4', 'cpd00179_c6', 'cpd01029_c4', 'cpd14718_c4', 'cpd00079_c3', 'cpd03517_c6', 'cpd12847_c6', 'cpd01646_c6', 'cpd00510_c4', 'cpd00349_c4', 'cpd00616_c4', 'cpd00186_c2', 'cpd00890_c2', 'cpd00525_c2', 'cpd02345_c4', 'cpd03413_c4', 'cpd15359_c3', 'cpd15361_c3', 'cpd15558_c2', 'cpd15534_c2', 'cpd02782_c4', 'cpd11476_c3', 'cpd00581_c4', 'cpd15681_c5', 'cpd02968_c2', 'cpd03494_c2', 'cpd16292_c4', 'cpd06588_c4', 'cpd00193_c3', 'cpd00027_c4', 'cpd01792_c4', 'cpd11479_c3', 'cpd02311_c4', 'cpd00344_c4', 'cpd02083_c2', 'cpd00770_c4', 'cpd00116_c4', 'cpd15298_c2', 'cpd15294_c2', 'cpd00480_c4', 'cpd03860_c4', 'cpd11462_c2', 'cpd00834_c4', 'cpd03704_c2', 'cpd00222_c4', 'cpd01966_c3', 'cpd00906_c4', 'cpd11486_c5', 'cpd03343_e0', 'cpd00332_c4', 'cpd00047_e0', 'cpd00263_c4', 'cpd11472_c2', 'cpd11473_c2', 'cpd15543_c3', 'cpd15536_c3', 'cpd00105_c4', 'cpd00931_c3', 'cpd00249_c4', 'cpd00092_c4', 'cpd00343_c3', 'cpd00478_c4', 'cpd00007_e0', 'cpd02775_c3', 'cpd02894_c3', 'cpd00509_c4', 'cpd02746_c3', 'cpd02216_c3', 'cpd15671_c3', 'cpd11432_c3', 'cpd11539_c3', 'cpd11540_c3', 'cpd15703_c3', 'cpd03214_c3', 'cpd03148_c3', 'cpd11489_c3', 'cpd02546_c3', 'cpd02993_c3', 'cpd03585_c3', 'cpd15239_c3', 'cpd15326_c3', 'cpd15525_c3', 'cpd11583_c2', 'cpd11506_c3', 'cpd11507_c3', 'cpd15325_c3', 'cpd03129_c3', 'cpd12072_c3', 'cpd12139_c3', 'cpd00219_c5', 'cpd00143_c5', 'cpd00292_c3', 'cpd02068_c3', 'cpd15524_c3', 'cpd02210_c3', 'cpd00125_c3', 'cpd15673_c3', 'cpd11435_c3', 'cpd15719_c3', 'cpd15725_c3', 'cpd08630_c3', 'cpd00498_c3', 'cpd00706_c3', 'cpd11572_c3', 'cpd11573_c3', 'cpd15330_c3', 'cpd15523_c3', 'cpd15312_c3', 'cpd15718_c3', 'cpd08629_c3', 'cpd02730_c3', 'cpd00875_c3', 'cpd15672_c3', 'cpd11434_c3', 'cpd15387_c3', 'cpd15396_c3', 'cpd00809_c2', 'cpd00843_c3', 'cpd00491_c4', 'cpd00346_c3', 'cpd02120_c3', 'cpd17565_c3', 'cpd15676_c3', 'cpd11441_c3', 'cpd15682_c3', 'cpd15309_c3', 'cpd02762_c3', 'cpd03116_c3', 'cpd02666_c3', 'cpd11568_c3', 'cpd11569_c3', 'cpd00241_c4', 'cpd15674_c3', 'cpd11437_c3', 'cpd02691_c4', 'cpd02124_c4', 'cpd00289_c3', 'cpd15420_c3', 'cpd15606_c3', 'cpd15417_c3', 'cpd15542_c3', 'cpd15675_c3', 'cpd15681_c3', 'cpd02993_c2', 'cpd15238_c1', 'cpd15692_c5', 'cpd15698_c5', 'cpd00099_c2', 'cpd11461_c2', 'cpd11463_c2', 'cpd00063_c2', 'cpd00149_c2', 'cpd00058_c2', 'cpd00034_c2', 'cpd00028_c2', 'cpd15793_c2', 'cpd03736_c2', 'cpd11416_c2', 'cpd03422_c2', 'cpd03738_c1', 'cpd08289_c1', 'cpd02978_c1', 'cpd02961_c1', 'cpd00485_c1', 'cpd00311_e0', 'cpd00090_c1', 'cpd00068_c1', 'cpd15344_c1', 'cpd02230_c5', 'cpd11533_c1', 'cpd02230_c1', 'cpd00450_c2', 'cpd00740_c2', 'cpd00105_c2', 'cpd02886_c6', 'cpd00092_c2', 'cpd03443_c6', 'cpd02546_c6', 'cpd00144_c4', 'cpd00163_c4', 'cpd02904_c6', 'cpd03423_c6', 'cpd00333_c2', 'cpd02232_c2', 'cpd03422_c6', 'cpd00065_c6', 'cpd03671_c5', 'cpd00510_c2', 'cpd03049_c4', 'cpd00283_c6', 'cpd15545_c5', 'cpd15538_c5', 'cpd00954_c4', 'cpd00683_c4', 'cpd01646_c5', 'cpd01710_c5', 'cpd02820_c6', 'cpd03471_c2', 'cpd00891_c4', 'cpd11480_c6', 'cpd00203_c2', 'cpd03736_c6', 'cpd03586_c6', 'cpd03444_c6', 'cpd15422_c5', 'cpd15554_c5', 'cpd15314_c4', 'cpd03585_c6', 'cpd00156_c2', 'cpd02642_c4', 'cpd00924_c4', 'cpd00446_c4', 'cpd01997_c6', 'cpd03189_c5', 'cpd00477_c4', 'cpd02552_c4', 'cpd00533_c6', 'cpd00906_c2', 'cpd00356_c4', 'cpd00358_c4', 'cpd11566_c4', 'cpd11567_c4', 'cpd03122_c5', 'cpd00340_c1', 'cpd00706_c5', 'cpd11541_c1', 'cpd01501_c3', 'cpd02597_c3', 'cpd00074_c3', 'cpd01747_c3', 'cpd02147_c5', 'cpd03606_c5', 'cpd03584_c1', 'cpd11484_c1', 'cpd00089_c3', 'cpd00390_c3', 'cpd31335_c3', 'cpd31339_c3', 'cpd00236_c5', 'cpd00897_c3', 'cpd00516_c1', 'cpd00293_c5', 'cpd01792_c3', 'cpd03860_c3', 'cpd02187_c1', 'cpd03572_c1', 'cpd02611_c5', 'cpd11209_c3', 'cpd00274_c3', 'cpd03593_c1', 'cpd00251_c1', 'cpd00419_c5', 'cpd11470_c1', 'cpd11471_c1', 'cpd00086_c3', 'cpd00867_c3', 'cpd03283_c5', 'cpd02484_c3', 'cpd01741_c1', 'cpd15337_c6', 'cpd00397_c5', 'cpd00808_c5', 'cpd00608_c5', 'cpd15388_c5', 'cpd11568_c5', 'cpd11569_c5', 'cpd01627_c6', 'cpd01562_c6', 'cpd00573_c6', 'cpd00781_c6', 'cpd02782_c6', 'cpd01919_c5', 'cpd00522_c5', 'cpd15319_c6', 'cpd03708_c5', 'cpd11489_c5', 'cpd02027_c6', 'cpd00868_c5', 'cpd11506_c5', 'cpd11507_c5', 'cpd00378_c6', 'cpd03118_c5', 'cpd03129_c5', 'cpd01647_c6', 'cpd00430_c6', 'cpd00510_c5', 'cpd01242_c5', 'cpd00334_c6', 'cpd06707_c6', 'cpd00153_c6', 'cpd11830_c5', 'cpd03706_c6', 'cpd01973_c6', 'cpd00762_c6', 'cpd00630_c6', 'cpd01507_c6', 'cpd03812_c6', 'cpd03813_c6', 'cpd00400_c6', 'cpd01150_c6', 'cpd15312_c5', 'cpd15527_c5', 'cpd00616_c5', 'cpd00396_c6', 'cpd00642_c6', 'cpd03734_c6', 'cpd02730_c5', 'cpd00875_c5', 'cpd01747_c6', 'cpd00703_c6', 'cpd00346_c5', 'cpd15309_c5', 'cpd15524_c5', 'cpd03116_c5', 'cpd11539_c5', 'cpd11540_c5', 'cpd00843_c5', 'cpd00077_c5', 'cpd00518_c5', 'cpd00261_c6', 'cpd01067_c6', 'cpd00831_c6', 'cpd11546_c5', 'cpd11547_c5', 'cpd01651_c1', 'cpd03646_c1', 'cpd03491_c3', 'cpd00104_c6', 'cpd08625_c4', 'cpd11597_e0', 'cpd11597_c6', 'cpd00363_c1', 'cpd00071_c1', 'cpd02201_c3', 'cpd02498_c6', 'cpd08287_c2', 'cpd00284_c1', 'cpd03471_c6', 'cpd03120_c3', 'cpd03130_c3', 'cpd03444_c4', 'cpd03445_c4', 'cpd00235_c1', 'cpd02740_c6', 'cpd00213_c6', 'cpd15313_c1', 'cpd00448_c6', 'cpd00800_c1', 'cpd02701_c1', 'cpd02843_c6', 'cpd00930_c6', 'cpd01294_c4', 'cpd03641_c4', 'cpd02557_c3', 'cpd00842_c6', 'cpd02234_c6', 'cpd01646_c3', 'cpd01710_c3', 'cpd14545_c1', 'cpd15508_c6', 'cpd15507_c6', 'cpd00510_c6', 'cpd02691_c1', 'cpd02125_c1', 'cpd11550_c4', 'cpd11551_c4', 'cpd11529_c6', 'cpd11530_c6', 'cpd15552_c2', 'cpd15528_c2', 'cpd11825_c1', 'cpd15328_c1', 'cpd15527_c1', 'cpd15667_c6', 'cpd00238_c3', 'cpd00236_c3', 'cpd00858_c4', 'cpd02097_c4', 'cpd00092_c6', 'cpd02642_c1', 'cpd00956_c1', 'cpd15604_c6', 'cpd02258_c4', 'cpd00139_c3', 'cpd15705_c3', 'cpd15506_c6', 'cpd00925_c4', 'cpd15326_c6', 'cpd15239_c6', 'cpd15525_c6', 'cpd15684_c1', 'cpd11536_c1', 'cpd11491_c3', 'cpd11498_c6', 'cpd11499_c6', 'cpd15430_c4', 'cpd15540_c4', 'cpd15338_c2', 'cpd00869_c4', 'cpd11310_c2', 'cpd00341_c1', 'cpd02692_c4', 'cpd01504_c2', 'cpd00836_c6', 'cpd15341_c2', 'cpd17564_c1', 'cpd17566_c1', 'cpd00558_c4', 'cpd01504_c4', 'cpd01749_c4', 'cpd00359_c5', 'cpd02964_c2', 'cpd00909_c2', 'cpd15371_c1', 'cpd15572_c1', 'cpd15347_c2', 'cpd15539_c2', 'cpd00218_c4', 'cpd02135_c2', 'cpd00646_c2', 'cpd00142_c1', 'cpd00780_c1', 'cpd08211_c4', 'cpd02229_c4', 'cpd15346_c2', 'cpd15538_c2', 'cpd04122_c6', 'cpd15339_c2', 'cpd15531_c2', 'cpd03583_c2', 'cpd11587_c6', 'cpd00064_c1', 'cpd15342_c2', 'cpd15337_c4', 'cpd03114_c1', 'cpd00706_c6', 'cpd00158_e0', 'cpd02760_c2', 'cpd15397_c5', 'cpd15396_c5', 'cpd15689_c2', 'cpd15695_c2', 'cpd19168_c2', 'cpd20940_c2', 'cpd30750_c2', 'cpd11509_c1', 'cpd11510_c1', 'cpd00774_c1', 'cpd11206_c1', 'cpd08287_c6', 'cpd02886_c2', 'cpd00272_c1', 'cpd01960_c2', 'cpd03326_c2', 'cpd15368_c2', 'cpd15570_c2', 'cpd11558_c2', 'cpd11559_c2', 'cpd16292_c6', 'cpd06588_c6', 'cpd00191_c6', 'cpd17565_c4', 'cpd00481_c6', 'cpd02187_c6', 'cpd00298_c2', 'cpd21481_c4', 'cpd11511_c5', 'cpd00085_c5', 'cpd00644_c5', 'cpd00945_c4', 'cpd15548_c5', 'cpd15541_c5', 'cpd00760_c6', 'cpd02125_c6', 'cpd16355_c4', 'cpd03214_c4', 'cpd03149_c4', 'cpd11537_c2', 'cpd11538_c2', 'cpd00588_e0', 'cpd00491_c6', 'cpd00074_c4', 'cpd12072_c5', 'cpd12139_c5', 'cpd11554_c2', 'cpd11555_c2', 'cpd11482_c2', 'cpd11487_c2', 'cpd11546_c2', 'cpd11547_c2', 'cpd27758_c4', 'cpd08615_c4', 'cpd28083_c4', 'cpd08301_c4', 'cpd02612_c6', 'cpd11521_c2', 'cpd11522_c2', 'cpd17566_c5', 'cpd17567_c5', 'cpd00395_c5', 'cpd11525_c2', 'cpd11526_c2', 'cpd15716_c2', 'cpd15722_c2', 'cpd27144_c4', 'cpd11470_c4', 'cpd27713_c4', 'cpd11566_c2', 'cpd11567_c2', 'cpd15418_c2', 'cpd03738_c6', 'cpd00742_c5', 'cpd11500_c2', 'cpd11501_c2', 'cpd00208_c4', 'cpd00108_c4', 'cpd15719_c5', 'cpd15725_c5', 'cpd11512_c2', 'cpd11513_c2', 'cpd19030_c4', 'cpd11516_c2', 'cpd00224_c6', 'cpd00397_c6', 'cpd03052_c2', 'cpd01831_c2', 'cpd11533_c2', 'cpd11534_c2', 'cpd15691_c5', 'cpd15697_c5', 'cpd01693_c6', 'cpd15677_c5', 'cpd15683_c5', 'cpd00902_c6', 'cpd11541_c2', 'cpd11542_c2', 'cpd00175_c2', 'cpd00144_c2', 'cpd15634_c2', 'cpd00157_c6', 'cpd11572_c5', 'cpd15687_c2', 'cpd02746_c4', 'cpd00045_e0', 'cpd00086_c1', 'cpd00249_c3', 'cpd02894_c1', 'cpd01017_c4', 'cpd00342_c3', 'cpd00260_c3', 'cpd02590_c3', 'cpd15349_c1', 'cpd00760_c4', 'cpd02125_c4', 'cpd01298_c3', 'cpd15546_c4', 'cpd15539_c4', 'cpd00860_c3', 'cpd00296_c4', 'cpd01977_c3', 'cpd00261_c1', 'cpd03861_c1', 'cpd11438_c4', 'cpd00957_c1', 'cpd00931_c1', 'cpd00130_c3', 'cpd11571_c4', 'cpd00050_c3', 'cpd11478_c1', 'cpd15752_c1', 'cpd15770_c1', 'cpd11476_c1', 'cpd11570_c1', 'cpd00219_c3', 'cpd00868_c3', 'cpd15341_c3', 'cpd00246_c2', 'cpd00327_c3', 'cpd01795_c3', 'cpd02441_c3', 'cpd15699_c4', 'cpd11592_c2', 'cpd01217_c3', 'cpd03697_c4', 'cpd04099_e0', 'cpd04099_c3', 'cpd03589_c3', 'cpd19588_c3', 'cpd25679_c3', 'cpd15429_c3', 'cpd00525_c4', 'cpd00196_c4', 'cpd15348_c3', 'cpd15407_c3', 'cpd02090_c3', 'cpd00246_c3', 'cpd00475_c3', 'cpd00226_c3', 'cpd02484_c2', 'cpd00121_c2', 'cpd15748_c4', 'cpd15766_c4', 'cpd00519_c4', 'cpd00390_c4', 'cpd00616_c3', 'cpd19422_c3', 'cpd19423_c3', 'cpd01646_c1', 'cpd00773_c4', 'cpd02820_c4', 'cpd15269_c3', 'cpd15274_c3', 'cpd15331_c3', 'cpd15522_c3', 'cpd00224_c4', 'cpd00830_c4', 'cpd11482_c3', 'cpd11475_c3', 'cpd00395_c3', 'cpd00492_c4', 'cpd02612_c4', 'cpd12689_c3', 'cpd00630_c3', 'cpd00343_c1', 'cpd00668_c3', 'cpd02233_c4', 'cpd03706_c1', 'cpd15423_c3', 'cpd00478_c3', 'cpd03919_c4', 'cpd15321_c1', 'cpd03608_c4', 'cpd10516_c4', 'cpd19424_c3', 'cpd15676_c1', 'cpd11441_c1', 'cpd15682_c1', 'cpd02182_c3', 'cpd00221_c3', 'cpd00346_c4', 'cpd11471_c4', 'cpd02720_c3', 'cpd03121_c3', 'cpd00083_c4', 'cpd00900_c4', 'cpd11581_c3', 'cpd16355_c3', 'cpd03149_c3', 'cpd00608_c4', 'cpd00176_c4', 'cpd15746_c4', 'cpd15764_c4', 'cpd00911_c1', 'cpd15753_c4', 'cpd15771_c4', 'cpd03422_c4', 'cpd02211_c3', 'cpd15754_c4', 'cpd15772_c4', 'cpd03847_c3', 'cpd00034_c4', 'cpd00205_c4', 'cpd15752_c4', 'cpd15770_c4', 'cpd11529_c4', 'cpd11530_c4', 'cpd02083_c4', 'cpd00791_c4', 'cpd02886_c1', 'cpd15751_c4', 'cpd15769_c4', 'cpd00946_c4', 'cpd15747_c4', 'cpd15765_c4', 'cpd15666_c4', 'cpd03495_c4', 'cpd15665_c4', 'cpd11556_c4', 'cpd11557_c4', 'cpd00283_c4', 'cpd02375_c2', 'cpd03424_c4', 'cpd03496_c4', 'cpd03572_c5', 'cpd03282_c4', 'cpd00890_c4', 'cpd15558_c4', 'cpd15534_c4', 'cpd02968_c4', 'cpd03494_c4', 'cpd00170_c4', 'cpd00207_c4', 'cpd00309_c4', 'cpd03593_c5', 'cpd15350_c3', 'cpd00782_c2', 'cpd00800_c2', 'cpd00809_c1', 'cpd01107_c2', 'cpd11474_c2', 'cpd14700_c1', 'cpd00284_c2', 'cpd02711_c2', 'cpd00238_c1', 'cpd11479_c2', 'cpd11486_c2', 'cpd00493_c5', 'cpd08211_c5', 'cpd11640_c5', 'cpd15545_c2', 'cpd01414_e0', 'cpd15398_c4', 'cpd00122_c4', 'cpd15401_c4', 'cpd00805_c5', 'cpd02371_c5', 'cpd00641_c4', 'cpd01324_c4', 'cpd00359_c2', 'cpd15422_c2', 'cpd11512_c5', 'cpd11513_c5', 'cpd03091_c3', 'cpd03148_c4', 'cpd15685_c4', 'cpd02921_c2', 'cpd00075_c3', 'cpd15422_c1', 'cpd15544_c1', 'cpd07923_c3', 'cpd07924_c3', 'cpd15397_c2', 'cpd15386_c2', 'cpd15396_c2', 'cpd03518_c2', 'cpd00193_c5', 'cpd15720_c4', 'cpd00918_c2', 'cpd02552_c2', 'cpd00026_c3', 'cpd00144_c3', 'cpd01651_c4', 'cpd03407_c4', 'cpd00351_c5', 'cpd02522_c5', 'cpd00413_c5', 'cpd15317_c3', 'cpd00908_c3', 'cpd00208_c5', 'cpd15322_c4', 'cpd00390_c5', 'cpd00897_c5', 'cpd00408_c2', 'cpd00875_c1', 'cpd02546_c1', 'cpd15343_c4', 'cpd03414_c3', 'cpd03416_c3', 'cpd00497_c4', 'cpd00443_c1', 'cpd00683_c1', 'cpd00222_c5', 'cpd00530_c3', 'cpd00101_c3', 'cpd15387_c5', 'cpd15238_c2', 'cpd15317_c5', 'cpd00908_c5', 'cpd11440_c2', 'cpd11441_c2', 'cpd01298_c5', 'cpd00428_c5', 'cpd11438_c2', 'cpd11439_c2', 'cpd17565_c5', 'cpd17564_c5', 'cpd11433_c2', 'cpd11434_c2', 'cpd03846_c3', 'cpd15350_c5', 'cpd11464_c6', 'cpd02570_c3', 'cpd00134_c2', 'cpd15357_c5', 'cpd15269_c5', 'cpd00203_c6', 'cpd00142_c2', 'cpd00541_c3', 'cpd14955_c3', 'cpd00581_c5', 'cpd02544_c3', 'cpd02746_c5', 'cpd11430_c2', 'cpd11435_c2', 'cpd00232_c3', 'cpd00112_c3', 'cpd15336_c5', 'cpd00238_c5', 'cpd11431_c2', 'cpd11432_c2', 'cpd02661_c3', 'cpd03830_c5', 'cpd03831_c5', 'cpd02045_c5', 'cpd01932_c5', 'cpd02536_c5', 'cpd01630_c5', 'cpd11592_c6', 'cpd14958_c3', 'cpd11491_c5', 'cpd01048_c3', 'cpd04098_c3', 'cpd01679_c5', 'cpd00768_c5', 'cpd11463_c6', 'cpd11436_c2', 'cpd11437_c2', 'cpd01647_c3', 'cpd00430_c3', 'cpd11433_c6', 'cpd00492_c3', 'cpd00300_c5', 'cpd00287_c5', 'cpd02096_c5', 'cpd15274_c2', 'cpd06707_c3', 'cpd00260_c5', 'cpd15328_c5', 'cpd02546_c5', 'cpd02993_c5', 'cpd03585_c5', 'cpd03847_c2', 'cpd01695_c2', 'cpd01973_c3', 'cpd00762_c3', 'cpd11558_c5', 'cpd11559_c5', 'cpd12547_c5', 'cpd00860_c5', 'cpd00861_c3', 'cpd00906_c5', 'cpd02590_c5', 'cpd15703_c5', 'cpd00489_c2', 'cpd00854_c2', 'cpd00477_c6', 'cpd02552_c6', 'cpd00386_e0', 'cpd02691_c5', 'cpd02124_c5', 'cpd15705_c5', 'cpd00400_c3', 'cpd01150_c3', 'cpd01017_c5', 'cpd03734_c3', 'cpd00199_c2', 'cpd00703_c3', 'cpd00342_c2', 'cpd27180_c3', 'cpd22028_c3', 'cpd00127_c6', 'cpd00180_c4', 'cpd00608_c1', 'cpd17039_c6', 'cpd03608_c1', 'cpd03830_c4', 'cpd08021_c6', 'cpd00450_c6', 'cpd15400_c3', 'cpd15386_c3', 'cpd15399_c3', 'cpd15544_c3', 'cpd03127_c6', 'cpd15546_c6', 'cpd15539_c6', 'cpd11494_c3', 'cpd15323_c6', 'cpd15322_c6', 'cpd15237_c6', 'cpd00058_c1', 'cpd11590_c6', 'cpd11500_c4', 'cpd11501_c4', 'cpd02074_c6', 'cpd15354_c6', 'cpd03445_c6', 'cpd15556_c4', 'cpd15532_c4', 'cpd02740_c3', 'cpd00773_c6', 'cpd15074_c6', 'cpd02345_c6', 'cpd03413_c6', 'cpd00390_c1', 'cpd00364_c6', 'cpd00016_c6', 'cpd00446_c1', 'cpd00443_c3', 'cpd00954_c3', 'cpd00683_c3', 'cpd00464_c6', 'cpd00426_c1', 'cpd11494_c6', 'cpd11470_c6', 'cpd02097_c6', 'cpd00391_c4', 'cpd02386_c4', 'cpd00891_c3', 'cpd00225_c6', 'cpd00809_c3', 'cpd00161_c3', 'cpd03495_c6', 'cpd03496_c6', 'cpd02229_c6', 'cpd00202_c4', 'cpd15348_c4', 'cpd11556_c6', 'cpd11557_c6', 'cpd15547_c4', 'cpd00869_c3', 'cpd02693_c2', 'cpd01710_c2', 'cpd00932_c2', 'cpd01294_c6', 'cpd03641_c6', 'cpd28205_c4', 'cpd14548_c4', 'cpd15665_c6', 'cpd11543_c2', 'cpd21088_c4', 'cpd00274_c6', 'cpd02152_c6', 'cpd15395_c5', 'cpd15346_c5', 'cpd11959_c5', 'cpd27180_c4', 'cpd00654_c6', 'cpd02605_c2', 'cpd15675_c6', 'cpd11439_c6', 'cpd15681_c6', 'cpd11482_c6', 'cpd00028_c4', 'cpd00443_c2', 'cpd02920_c2', 'cpd00683_c2', 'cpd00226_c2', 'cpd00209_c6', 'cpd11527_c2', 'cpd11528_c2', 'cpd08289_c6', 'cpd11461_c6', 'cpd11462_c6', 'cpd00058_c6', 'cpd11416_c6', 'cpd12370_c6', 'cpd08305_e0', 'cpd08305_c6', 'cpd19168_c4', 'cpd20940_c4', 'cpd30750_c4', 'cpd01324_c2', 'cpd01155_c2', 'cpd00331_c6', 'cpd21005_c4', 'cpd14589_c4', 'cpd15674_c6', 'cpd15680_c6', 'cpd01399_c4', 'cpd01262_c4', 'cpd02557_c2', 'cpd26984_c4', 'cpd37010_c4', 'cpd00616_c2', 'cpd01101_c4', 'cpd03187_c2', 'cpd15522_c6', 'cpd14960_c2', 'cpd08372_c2', 'cpd00182_e0', 'cpd11529_c2', 'cpd11530_c2', 'cpd00361_c1', 'cpd02782_c2', 'cpd03446_c3', 'cpd00198_c3', 'cpd12237_c2', 'cpd14507_c2', 'cpd00289_c5', 'cpd11550_c2', 'cpd11551_c2', 'cpd03422_c1', 'cpd03918_c1', 'cpd03487_c3', 'cpd03488_c3', 'cpd11529_c1', 'cpd11530_c1', 'cpd11504_c2', 'cpd11505_c2', 'cpd00689_c3', 'cpd15722_c3', 'cpd15794_c3', 'cpd11496_c2', 'cpd12543_c3', 'cpd12848_c3', 'cpd00215_c3', 'cpd00830_c1', 'cpd11580_c3', 'cpd00773_c1', 'cpd02820_c1', 'cpd15795_c3', 'cpd15792_c3', 'cpd11508_c2', 'cpd15727_c3', 'cpd15799_c3', 'cpd11562_c2', 'cpd11563_c2', 'cpd15797_c3', 'cpd11560_c3', 'cpd11561_c3', 'cpd15791_c3', 'cpd03913_c2', 'cpd03914_c2', 'cpd15724_c3', 'cpd15796_c3', 'cpd01695_c5', 'cpd15798_c3', 'cpd11552_c3', 'cpd11553_c3', 'cpd00357_c1', 'cpd11461_c1', 'cpd00655_c3', 'cpd18042_c2', 'cpd22795_c2', 'cpd00882_c3', 'cpd15391_c3', 'cpd15338_c1', 'cpd00604_c3', 'cpd11534_c3', 'cpd01260_c2', 'cpd00293_c3', 'cpd01777_c3', 'cpd02979_c3', 'cpd01775_c1', 'cpd08286_c1', 'cpd00260_e0', 'cpd02720_c2', 'cpd02882_c2', 'cpd02572_c2', 'cpd02507_c2', 'cpd00482_c4', 'cpd02828_c2', 'cpd03327_c2', 'cpd04654_c2', 'cpd04653_c2', 'cpd15358_c6', 'cpd01501_c2', 'cpd02799_c2', 'cpd02524_c4', 'cpd02666_c4', 'cpd02068_c4', 'cpd02711_c6', 'cpd00830_c6', 'cpd00235_c4', 'cpd00176_c6', 'cpd11461_c4', 'cpd15359_c6', 'cpd00868_c2', 'cpd15338_c4', 'cpd00152_c6', 'cpd00361_c4', 'cpd00800_c6', 'cpd00764_c6', 'cpd02701_c6', 'cpd01777_c4', 'cpd02654_c4', 'cpd02894_c4', 'cpd15548_c2', 'cpd12072_c2', 'cpd12139_c2', 'cpd01501_c4', 'cpd03518_c4', 'cpd03519_c4', 'cpd00395_c2', 'cpd03285_c2', 'cpd15719_c2', 'cpd15725_c2', 'cpd02693_c5', 'cpd00498_c2', 'cpd11523_c3', 'cpd11524_c3', 'cpd01669_c4', 'cpd00362_c4', 'cpd15307_c3', 'cpd03480_c4', 'cpd14874_c3', 'cpd14875_c3', 'cpd00244_c4', 'cpd15677_c2', 'cpd15683_c2', 'cpd02069_c3', 'cpd00251_c5', 'cpd00971_c1', 'cpd00183_c4', 'cpd11255_c1', 'cpd00869_c1', 'cpd15418_c3', 'cpd02605_c5', 'cpd00791_c1', 'cpd01476_c1', 'cpd15398_c2', 'cpd15387_c2', 'cpd15481_c3', 'cpd15480_c3', 'cpd15704_c4', 'cpd17565_c2', 'cpd17564_c2', 'cpd15316_c1', 'cpd00978_c3', 'cpd03119_c5', 'cpd11511_c1', 'cpd15295_c4', 'cpd02210_c2', 'cpd11487_c3', 'cpd06227_c3', 'cpd15320_c4', 'cpd12005_c1', 'cpd11830_c1', 'cpd17567_c1', 'cpd00504_c3', 'cpd15318_c1', 'cpd11508_c5', 'cpd00924_c2', 'cpd02140_c4', 'cpd11310_c4', 'cpd00282_c1', 'cpd00247_c1', 'cpd12689_c5', 'cpd15294_c4', 'cpd15340_c4', 'cpd15522_c5', 'cpd15423_c5', 'cpd11462_c4', 'cpd03831_c2', 'cpd15485_c2', 'cpd15484_c2', 'cpd03471_c1', 'cpd11562_c5', 'cpd11563_c5', 'cpd00620_c4', 'cpd00977_c4', 'cpd03704_c4', 'cpd02182_c5', 'cpd11430_c1', 'cpd02720_c5', 'cpd02333_c2', 'cpd02255_c5', 'cpd15604_c2', 'cpd00388_c4', 'cpd01419_c4', 'cpd00158_c1', 'cpd00260_c1', 'cpd00976_c4', 'cpd00141_c5', 'cpd02826_c1', 'cpd02140_c1', 'cpd15339_c5', 'cpd03048_c3', 'cpd15673_c2', 'cpd15532_c3', 'cpd15322_c5', 'cpd02090_c5', 'cpd01772_c6', 'cpd00954_c2', 'cpd02570_c5', 'cpd00356_c3', 'cpd03587_c3', 'cpd15459_c3', 'cpd15310_c3', 'cpd15544_c2', 'cpd15537_c2', 'cpd00308_e0', 'cpd00308_c5', 'cpd12547_c3', 'cpd15343_c5', 'cpd15671_c2', 'cpd00977_c6', 'cpd03704_c6', 'cpd03052_c4', 'cpd01831_c4', 'cpd00507_c5', 'cpd00098_c5', 'cpd01700_c6', 'cpd11440_c6', 'cpd15322_c3', 'cpd15524_c2', 'cpd02201_c5', 'cpd03282_c6', 'cpd02636_c3', 'cpd00939_c3', 'cpd15330_c2', 'cpd15523_c2', 'cpd00890_c6', 'cpd02068_c5', 'cpd15672_c2', 'cpd15678_c2', 'cpd03128_c3', 'cpd03117_c3', 'cpd02968_c6', 'cpd03494_c6', 'cpd02882_c5', 'cpd02508_c5', 'cpd02663_c5', 'cpd15676_c2', 'cpd15682_c2', 'cpd03608_c3', 'cpd02654_c3', 'cpd02920_c4', 'cpd15342_c5', 'cpd15326_c2', 'cpd15298_c6', 'cpd15675_c2', 'cpd11482_c4', 'cpd11487_c4', 'cpd15337_c5', 'cpd03847_c5', 'cpd15674_c2', 'cpd00109_c3', 'cpd00110_c3', 'cpd02083_c3', 'cpd11578_c3', 'cpd15746_c5', 'cpd15764_c5', 'cpd15331_c2', 'cpd02991_c4', 'cpd11596_c3', 'cpd03491_c5', 'cpd02065_c5', 'cpd15722_c4', 'cpd15341_c5', 'cpd11579_c3', 'cpd11486_c4', 'cpd15418_c4', 'cpd02700_c5', 'cpd11575_c3', 'cpd00620_c6', 'cpd15753_c5', 'cpd15771_c5', 'cpd02524_c3', 'cpd01669_c5', 'cpd00362_c5', 'cpd11552_c5', 'cpd11553_c5', 'cpd01620_c1', 'cpd15343_c3', 'cpd00946_c1', 'cpd15357_c3', 'cpd15326_c1', 'cpd15239_c1', 'cpd00227_c5', 'cpd01977_c5', 'cpd11571_c1', 'cpd11572_c1', 'cpd15336_c3', 'cpd00130_c5', 'cpd15363_c1', 'cpd00068_c3', 'cpd11521_c5', 'cpd11522_c5', 'cpd00797_c1', 'cpd00367_c3', 'cpd00349_c5', 'cpd15746_c3', 'cpd15764_c3', 'cpd00516_c6', 'cpd02964_c6', 'cpd15339_c3', 'cpd03487_c5', 'cpd03488_c5', 'cpd03217_c1', 'cpd15584_c1', 'cpd11560_c5', 'cpd11561_c5', 'cpd12543_c5', 'cpd15753_c3', 'cpd15771_c3', 'cpd02566_c6', 'cpd02738_c4', 'cpd02555_c4', 'cpd00147_c6', 'cpd02574_c6', 'cpd15675_c1', 'cpd11439_c1', 'cpd02086_c4', 'cpd02831_c4', 'cpd15904_c6', 'cpd02246_c6', 'cpd01414_c4', 'cpd02431_c4', 'cpd01567_c4', 'cpd00272_c4', 'cpd01550_c4', 'cpd00585_c4', 'cpd00348_c4', 'cpd02074_c4', 'cpd00922_c4', 'cpd11469_c1', 'cpd02414_c4', 'cpd00133_c4', 'cpd00141_c4', 'cpd15419_c1', 'cpd22830_c6', 'cpd00233_c4', 'cpd00231_c4', 'cpd02605_c4', 'cpd00153_c4', 'cpd00333_c4', 'cpd21032_c6', 'cpd02333_c4', 'cpd02030_c1', 'cpd09879_c4', 'cpd22637_c6', 'cpd25981_c6', 'cpd00297_c1', 'cpd01092_c4', 'cpd34057_c6', 'cpd31636_c6', 'cpd01298_c4', 'cpd02211_c4', 'cpd02893_c4', 'cpd35985_c6', 'cpd00339_c4', 'cpd00861_c4', 'cpd03732_c4', 'cpd14545_c4', 'cpd00232_c4', 'cpd00345_c1', 'cpd32711_c6', 'cpd24823_c6', 'cpd15810_c6', 'cpd02124_c1', 'cpd03736_c1', 'cpd03586_c1', 'cpd02679_c6', 'cpd00895_c6', 'cpd00363_c4', 'cpd15688_c2', 'cpd15694_c2', 'cpd00957_c2', 'cpd00931_c2', 'cpd15358_c2', 'cpd36025_c6', 'cpd19505_c6', 'cpd27540_c6', 'cpd27515_c6', 'cpd15721_c2', 'cpd15727_c2', 'cpd11550_c6', 'cpd11551_c6', 'cpd11589_c2', 'cpd00209_c3', 'cpd03128_c2', 'cpd15535_c3', 'cpd15318_c3', 'cpd01335_c2', 'cpd00170_c6', 'cpd15425_c3', 'cpd03279_c6', 'cpd15323_c3', 'cpd11504_c6', 'cpd11505_c6', 'cpd00206_c2', 'cpd03527_c3', 'cpd00418_c3', 'cpd02172_c3', 'cpd11496_c6', 'cpd11497_c6', 'cpd11430_c5', 'cpd11435_c5', 'cpd00104_c2', 'cpd00133_c3', 'cpd11478_c2', 'cpd11488_c2', 'cpd02724_c6', 'cpd11508_c6', 'cpd11509_c6', 'cpd02016_c3', 'cpd00419_c2', 'cpd00506_c4', 'cpd11562_c6', 'cpd11563_c6', 'cpd15686_c5', 'cpd03283_c2', 'cpd00226_c5', 'cpd15360_c3', 'cpd15668_c6', 'cpd03211_c2', 'cpd00383_c3', 'cpd01716_c3', 'cpd11494_c2', 'cpd02345_c3', 'cpd03113_c3', 'cpd03491_c2', 'cpd03492_c2', 'cpd10162_c3', 'cpd00146_c2', 'cpd11225_c3', 'cpd15691_c4', 'cpd15697_c4', 'cpd00246_c5', 'cpd15316_c4', 'cpd15694_c3', 'cpd15700_c3', 'cpd02227_c3', 'cpd00128_c3', 'cpd11582_c3', 'cpd11511_c4', 'cpd17566_c4', 'cpd04099_c4', 'cpd03830_c2', 'cpd11483_c1', 'cpd11490_c1', 'cpd03449_c4', 'cpd15274_c5', 'cpd11548_c1', 'cpd11549_c1', 'cpd08210_c1', 'cpd15706_c5', 'cpd15682_c5', 'cpd03118_c4', 'cpd00507_c4', 'cpd00098_c4', 'cpd00699_c1', 'cpd15419_c5', 'cpd15555_c5', 'cpd11475_c2', 'cpd15419_c4', 'cpd15545_c4', 'cpd11523_c5', 'cpd11524_c5', 'cpd00790_c4', 'cpd11531_c1', 'cpd11532_c1', 'cpd15423_c2', 'cpd15307_c5', 'cpd02182_c2', 'cpd02069_c5', 'cpd03897_c1', 'cpd01919_c4', 'cpd00683_c5', 'cpd00911_c2', 'cpd11581_c2', 'cpd11564_c1', 'cpd11565_c1', 'cpd11506_c4', 'cpd11507_c4', 'cpd15481_c5', 'cpd15480_c5', 'cpd11295_c1', 'cpd00773_c2', 'cpd02884_c2', 'cpd02484_c5', 'cpd11586_c2', 'cpd00909_c6', 'cpd00151_e0', 'cpd02211_c6', 'cpd00726_c6', 'cpd03802_c6', 'cpd02857_c1', 'cpd28083_c6', 'cpd27758_c6', 'cpd03445_c2', 'cpd15833_c6', 'cpd03583_c6', 'cpd00452_c6', 'cpd11203_c6', 'cpd01046_c6', 'cpd01914_c2', 'cpd15900_c6', 'cpd15832_c6', 'cpd15886_c6', 'cpd00882_c6', 'cpd00599_c6', 'cpd03091_c2', 'cpd15908_c6', 'cpd12237_c1', 'cpd14507_c1', 'cpd01447_c6', 'cpd00925_c6', 'cpd00333_c6', 'cpd01981_c6', 'cpd03897_c2', 'cpd16540_c6', 'cpd15720_c5', 'cpd00405_c6', 'cpd00356_c2', 'cpd02232_c6', 'cpd00434_c1', 'cpd00281_c1', 'cpd04242_c6', 'cpd11431_c1', 'cpd11432_c1', 'cpd15420_c5', 'cpd00752_c6', 'cpd15688_c5', 'cpd15721_c5', 'cpd04920_c5', 'cpd09255_c2', 'cpd00461_c2', 'cpd00812_c3', 'cpd00841_c3', 'cpd11640_c2', 'cpd03708_c2', 'cpd11541_c5', 'cpd11542_c5', 'cpd15323_c5', 'cpd17567_c3', 'cpd17568_c3', 'cpd02611_c3', 'cpd15549_c5', 'cpd15488_c5', 'cpd00413_c4', 'cpd00650_c4', 'cpd12547_c1', 'cpd15689_c4', 'cpd15695_c4', 'cpd15330_c5', 'cpd00208_c2', 'cpd00108_c2', 'cpd00332_c3', 'cpd19001_c2', 'cpd15354_c5', 'cpd15073_c3', 'cpd11574_c5', 'cpd02711_c4', 'cpd02069_c1', 'cpd00229_c2', 'cpd02197_c4', 'cpd15314_c5', 'cpd15430_c3', 'cpd00348_c1', 'cpd02636_c2', 'cpd00359_c4', 'cpd02135_c4', 'cpd00646_c4', 'cpd03456_c3', 'cpd15348_c5', 'cpd02654_c2', 'cpd12225_c1', 'cpd08449_c3', 'cpd15320_c5', 'cpd00044_c3', 'cpd02921_c4', 'cpd02691_c2', 'cpd02124_c2', 'cpd00430_c5', 'cpd00452_c5', 'cpd15397_c4', 'cpd15396_c4', 'cpd03583_c3', 'cpd00143_c3', 'cpd03585_c1', 'cpd00333_c3', 'cpd02232_c3', 'cpd15345_c5', 'cpd00507_c2', 'cpd00098_c2', 'cpd00523_c1', 'cpd22027_c3', 'cpd22022_c3', 'cpd01844_c5', 'cpd11512_c4', 'cpd11513_c4', 'cpd15495_c4', 'cpd09844_c2', 'cpd01507_c2', 'cpd02731_c2', 'cpd00430_c4', 'cpd00085_c1', 'cpd15355_c5', 'cpd15268_c4', 'cpd03052_c5', 'cpd01831_c5', 'cpd00954_c6', 'cpd02920_c6', 'cpd00524_c5', 'cpd15691_c3', 'cpd15697_c3', 'cpd01092_c6', 'cpd00127_c4', 'cpd02572_c5', 'cpd02507_c5', 'cpd00666_c5', 'cpd01775_c3', 'cpd00976_c6', 'cpd00939_c4', 'cpd02775_c4', 'cpd15399_c5', 'cpd15391_c5', 'cpd11472_c6', 'cpd02979_c5', 'cpd15523_c4', 'cpd11310_c6', 'cpd01504_c6', 'cpd04122_c5', 'cpd02828_c5', 'cpd01773_c4', 'cpd02636_c4', 'cpd00093_c6', 'cpd03124_c6', 'cpd03125_c6', 'cpd11535_c5', 'cpd02431_c6', 'cpd11511_c3', 'cpd00461_c5', 'cpd02731_c5', 'cpd15360_c4', 'cpd00501_c5', 'cpd00863_c5', 'cpd00164_c5', 'cpd03524_c2', 'cpd00477_c2', 'cpd00175_c3', 'cpd00654_c2', 'cpd15342_c3', 'cpd00807_c2', 'cpd00349_c3', 'cpd11570_c2', 'cpd03414_c2', 'cpd03416_c2', 'cpd00438_c3', 'cpd15337_c3', 'cpd15505_c3', 'cpd15354_c3', 'cpd15314_c3', 'cpd00532_c3', 'cpd02120_c2', 'cpd06227_c5', 'cpd15421_c3', 'cpd15883_c6', 'cpd15909_c6', 'cpd15888_c6', 'cpd15901_c6', 'cpd11481_c3', 'cpd15831_c6', 'cpd02720_c6', 'cpd15419_c2', 'cpd15555_c2', 'cpd15809_c6', 'cpd15889_c6', 'cpd11523_c2', 'cpd11524_c2', 'cpd00663_c3', 'cpd00504_c5', 'cpd00738_c2', 'cpd15829_c6', 'cpd15827_c6', 'cpd01693_c3', 'cpd15366_c3', 'cpd15569_c3', 'cpd00778_c6', 'cpd02797_c6', 'cpd01123_c6', 'cpd00919_c6', 'cpd02991_c3', 'cpd06227_c2', 'cpd15688_c3', 'cpd15721_c3', 'cpd15828_c6', 'cpd02817_c6', 'cpd00448_c2', 'cpd00996_c6', 'cpd15690_c3', 'cpd15311_c5', 'cpd01720_c4', 'cpd19503_c6', 'cpd21167_c6', 'cpd01155_c4', 'cpd00309_c2', 'cpd11440_c4', 'cpd03520_c6', 'cpd21090_c6', 'cpd00493_c2', 'cpd15315_c1', 'cpd11528_c4', 'cpd09878_c3', 'cpd08023_c3', 'cpd02506_c1', 'cpd02591_c5', 'cpd15686_c1', 'cpd15719_c1', 'cpd00200_c1', 'cpd11477_c1', 'cpd28260_c6', 'cpd28253_c6', 'cpd15331_c1', 'cpd15522_c1', 'cpd11497_c1', 'cpd11498_c1', 'cpd02961_c3', 'cpd03521_c3', 'cpd01476_c4', 'cpd33647_c6', 'cpd35194_c6', 'cpd00327_c1', 'cpd02498_c1', 'cpd11467_c1', 'cpd00105_c3', 'cpd20171_c2', 'cpd00847_c3', 'cpd07923_c4', 'cpd07924_c4', 'cpd03113_c4', 'cpd11544_c1', 'cpd00254_c1', 'cpd00221_c4', 'cpd15692_c4', 'cpd11539_c4', 'cpd11540_c4', 'cpd01324_c6', 'cpd18082_c3', 'cpd18081_c3', 'cpd11487_c6', 'cpd00289_c4', 'cpd02685_c4', 'cpd03289_c4', 'cpd11546_c4', 'cpd11547_c4', 'cpd11313_c3', 'cpd11312_c3', 'cpd02295_c4', 'cpd02021_c4', 'cpd15793_c4', 'cpd03052_c6', 'cpd01831_c6', 'cpd36025_c3', 'cpd19505_c3', 'cpd11486_c6', 'cpd28070_c3', 'cpd33817_c3', 'cpd27744_c3', 'cpd02147_c4', 'cpd11573_c4', 'cpd22065_c3', 'cpd21480_c3', 'cpd00359_c6', 'cpd00755_c4', 'cpd15312_c4', 'cpd15527_c4', 'cpd00063_c4', 'cpd11430_c4', 'cpd00807_c4', 'cpd19047_c3', 'cpd02921_c6', 'cpd15309_c4', 'cpd15386_c6', 'cpd15396_c6', 'cpd03283_c4', 'cpd00635_c3', 'cpd19019_c3', 'cpd11568_c4', 'cpd11569_c4', 'cpd02730_c4', 'cpd15542_c4', 'cpd15535_c4', 'cpd15358_c4', 'cpd18076_c3', 'cpd18075_c3', 'cpd02333_c6', 'cpd02605_c6', 'cpd02591_c4', 'cpd15420_c4', 'cpd15548_c4', 'cpd00808_c6', 'cpd00116_c5', 'cpd03326_c4', 'cpd03708_c4', 'cpd00489_c4', 'cpd01107_c4', 'cpd11496_c4', 'cpd00175_c4', 'cpd15634_c4', 'cpd15680_c1', 'cpd15368_c4', 'cpd15570_c4', 'cpd00331_c1', 'cpd03671_c1', 'cpd11519_c1', 'cpd11437_c1', 'cpd15674_c1', 'cpd11504_c4', 'cpd11505_c4', 'cpd03671_c4', 'cpd00447_c4', 'cpd15572_c4', 'cpd15748_c1', 'cpd15766_c1', 'cpd11436_c1', 'cpd15717_c1', 'cpd03812_c1', 'cpd03813_c1', 'cpd00861_c5', 'cpd00663_c5', 'cpd11225_c5', 'cpd02656_c5', 'cpd15344_c5', 'cpd15694_c5', 'cpd15700_c5', 'cpd15319_c1', 'cpd00142_e0', 'cpd01844_c4', 'cpd11582_c5', 'cpd00507_c3', 'cpd09791_c5', 'cpd01871_c5', 'cpd02693_c4', 'cpd09844_c5', 'cpd15313_c5', 'cpd15507_c3', 'cpd15506_c3', 'cpd15423_c1', 'cpd15543_c1', 'cpd00334_c5', 'cpd15706_c4', 'cpd15501_c3', 'cpd15397_c3', 'cpd15349_c5', 'cpd02345_c5', 'cpd00162_c3', 'cpd15468_c3', 'cpd00851_c3', 'cpd01882_c5', 'cpd01966_c5', 'cpd15421_c4', 'cpd15321_c5', 'cpd15754_c1', 'cpd15772_c1', 'cpd08368_c3', 'cpd01693_c5', 'cpd11471_c5', 'cpd11544_c2', 'cpd02894_c2', 'cpd11483_c2', 'cpd11471_c2', 'cpd11430_c3', 'cpd11225_c2', 'cpd02921_c3', 'cpd02851_c3', 'cpd02701_c2', 'cpd15686_c3', 'cpd02591_c3', 'cpd00343_c2', 'cpd11514_c2', 'cpd00626_c2', 'cpd00521_c2', 'cpd03187_c3', 'cpd15720_c2', 'cpd15420_c2', 'cpd02826_c3', 'cpd00524_c2', 'cpd15685_c2', 'cpd15691_c2', 'cpd00638_c2', 'cpd00817_c2', 'cpd02511_c2', 'cpd03560_c2', 'cpd00111_c2', 'cpd11506_c2', 'cpd00180_c3', 'cpd02125_c5', 'cpd00059_c6', 'cpd00335_c6', 'cpd00074_c6', 'cpd01107_c6', 'cpd03189_c6', 'cpd12547_c6', 'cpd15269_c6', 'cpd00330_c1', 'cpd02227_c2', 'cpd00162_c5', 'cpd11581_c6', 'cpd02227_e0', 'cpd00363_c5', 'cpd15683_c1', 'cpd15716_c1', 'cpd15338_c6', 'cpd02152_c1', 'cpd00280_c5', 'cpd00098_c6', 'cpd01011_c5', 'cpd03662_c5', 'cpd15530_c6', 'cpd00108_e0', 'cpd15554_c6', 'cpd15362_c1', 'cpd09255_c5', 'cpd15295_c6', 'cpd11621_c5', 'cpd11620_c5', 'cpd15572_c6', 'cpd14961_c1', 'cpd08375_c1', 'cpd04099_c5', 'cpd15422_c6', 'cpd15508_c1', 'cpd15507_c1', 'cpd01217_c2', 'cpd15585_c1', 'cpd02438_c6', 'cpd15752_c5', 'cpd15770_c5', 'cpd16398_c6', 'cpd11499_c1', 'cpd03897_c5', 'cpd15514_c1', 'cpd15506_c1', 'cpd02569_c1', 'cpd14699_c5', 'cpd21036_c6', 'cpd21037_c6', 'cpd02961_c2', 'cpd17565_c6', 'cpd03752_c6', 'cpd11206_c6', 'cpd00073_c6', 'cpd11470_c2', 'cpd01242_c6', 'cpd11593_c2', 'cpd15485_c5', 'cpd15484_c5', 'cpd15718_c4', 'cpd15724_c4', 'cpd00308_c6', 'cpd11543_c5', 'cpd03607_c2', 'cpd02826_c4', 'cpd15318_c4', 'cpd02535_c2', 'cpd00508_c2', 'cpd03456_c2', 'cpd02083_c6', 'cpd00791_c6', 'cpd08449_c2', 'cpd15692_c2', 'cpd15698_c2', 'cpd01476_c6', 'cpd11572_c4', 'cpd17564_c6', 'cpd17566_c6', 'cpd00428_c2', 'cpd15363_c4', 'cpd17567_c6', 'cpd17568_c6', 'cpd02230_c2', 'cpd00797_c4', 'cpd00722_c5', 'cpd03456_c5', 'cpd08449_c5', 'cpd15310_c5', 'cpd02920_c3', 'cpd00506_c3', 'cpd00522_c3', 'cpd02216_c5', 'cpd17568_c5', 'cpd02566_c3', 'cpd11440_c3', 'cpd11527_c3', 'cpd11528_c3', 'cpd00213_c3', 'cpd00836_c3', 'cpd22027_c5', 'cpd22022_c5', 'cpd18042_c6', 'cpd01015_c3', 'cpd01101_c3', 'cpd00209_c2', 'cpd02230_c3', 'cpd00683_c6', 'cpd11527_c6', 'cpd11528_c6', 'cpd00858_c1', 'cpd02097_c1', 'cpd03524_c6', 'cpd11480_c3', 'cpd15468_c2', 'cpd00150_c3', 'cpd01211_c3', 'cpd00842_c2', 'cpd02234_c2', 'cpd03752_c3', 'cpd03115_c1', 'cpd15882_c6', 'cpd15338_c5', 'cpd17150_c6', 'cpd19587_c6', 'cpd11464_c2', 'cpd11465_c2', 'cpd00900_c6', 'cpd01973_c2', 'cpd00762_c2', 'cpd03517_c3', 'cpd12847_c3', 'cpd15316_c5', 'cpd02168_c3', 'cpd03211_c3', 'cpd03114_c6', 'cpd00073_c2', 'cpd16397_c6', 'cpd11469_c2', 'cpd15549_c3', 'cpd03831_c3', 'cpd15488_c3', 'cpd15320_c3', 'cpd07923_c6', 'cpd07924_c6', 'cpd24820_c6', 'cpd15892_c6', 'cpd15318_c5', 'cpd15345_c3', 'cpd15238_c6', 'cpd20413_c6', 'cpd20412_c6', 'cpd15603_c3', 'cpd00649_c6', 'cpd20411_c6', 'cpd03641_c1', 'cpd02419_c3', 'cpd02685_c3', 'cpd03289_c3', 'cpd01844_c3', 'cpd15363_c5', 'cpd15395_c3', 'cpd11959_c3', 'cpd15355_c3', 'cpd22795_c6', 'cpd03123_c5', 'cpd00802_c3', 'cpd11550_c1', 'cpd11551_c1', 'cpd02295_c6', 'cpd24817_c6', 'cpd03205_c3', 'cpd00358_c3', 'cpd09806_c5', 'cpd04117_c5', 'cpd00374_c6', 'cpd31852_c6', 'cpd00090_c3', 'cpd24818_c6', 'cpd11517_c3', 'cpd11518_c3', 'cpd32612_c6', 'cpd11574_c3', 'cpd15344_c3', 'cpd02201_c6', 'cpd02666_c6', 'cpd03211_c6', 'cpd00400_c1', 'cpd01150_c1', 'cpd00152_c3', 'cpd00251_c3', 'cpd00203_c3', 'cpd03471_c3', 'cpd04097_c1', 'cpd15317_c1', 'cpd00206_c1', 'cpd00137_c1', 'cpd15574_c3', 'cpd19503_c3', 'cpd21288_c3', 'cpd01700_c1', 'cpd00294_c3', 'cpd02201_c1', 'cpd01889_c3', 'cpd03211_c1', 'cpd03529_c3', 'cpd00030_c1', 'cpd01758_c3', 'cpd00419_c3', 'cpd03524_c1', 'cpd11556_c1', 'cpd11557_c1', 'cpd03572_c4', 'cpd00876_c4', 'cpd00506_c5', 'cpd11528_c5', 'cpd11296_c1', 'cpd15688_c4', 'cpd15694_c4', 'cpd03283_c3', 'cpd15718_c5', 'cpd15724_c5', 'cpd15721_c4', 'cpd15727_c4', 'cpd03495_c1', 'cpd03496_c1', 'cpd00136_e0', 'cpd00300_c4', 'cpd00206_c4', 'cpd00493_c3', 'cpd03414_c1', 'cpd03416_c1', 'cpd00403_c1', 'cpd00259_c1', 'cpd11558_c4', 'cpd11559_c4', 'cpd11440_c5', 'cpd11441_c5', 'cpd03282_c1', 'cpd00807_c1', 'cpd15663_c4', 'cpd15668_c4', 'cpd00810_c2', 'cpd00150_c5', 'cpd01211_c5', 'cpd03492_c4', 'cpd11578_c4', 'cpd11579_c4', 'cpd21167_c4', 'cpd15311_c4', 'cpd03587_c2', 'cpd15662_c4', 'cpd15669_c4', 'cpd03831_c4', 'cpd15485_c4', 'cpd15484_c4', 'cpd08288_c5', 'cpd01981_c4', 'cpd15366_c5', 'cpd15569_c5', 'cpd03048_c4', 'cpd03698_c2', 'cpd15604_c4', 'cpd02168_c5', 'cpd00530_c2', 'cpd15355_c4', 'cpd11596_c4', 'cpd15661_c4', 'cpd15667_c4', 'cpd00158_c4', 'cpd00587_c5', 'cpd15584_c4', 'cpd11516_c4', 'cpd02730_c2', 'cpd00395_c4', 'cpd15605_c2', 'cpd15684_c5', 'cpd15690_c5', 'cpd11575_c4', 'cpd11481_c5', 'cpd01977_c2', 'cpd01914_c4', 'cpd09878_c4', 'cpd15585_c4', 'cpd11579_c5', 'cpd01646_c2', 'cpd00693_c4', 'cpd33647_c4', 'cpd35194_c4', 'cpd08023_c4', 'cpd15542_c5', 'cpd15535_c5', 'cpd03593_c2', 'cpd17567_c2', 'cpd17568_c2', 'cpd22027_c2', 'cpd00320_c3', 'cpd36025_c5', 'cpd19505_c5', 'cpd16494_c3', 'cpd28259_c5', 'cpd21479_c5', 'cpd28253_c5', 'cpd20171_c3', 'cpd36025_c2', 'cpd19505_c2', 'cpd03196_c3', 'cpd00138_c3', 'cpd00108_c3', 'cpd03913_c5', 'cpd03914_c5', 'cpd28070_c2', 'cpd33817_c2', 'cpd27744_c2', 'cpd28070_c5', 'cpd33817_c5', 'cpd27744_c5', 'cpd03198_c3', 'cpd00910_c3', 'cpd02826_c5', 'cpd36635_c5', 'cpd12489_c2', 'cpd03491_c6', 'cpd03492_c6', 'cpd00382_c3', 'cpd00076_c3', 'cpd36635_c2', 'cpd01133_c3', 'cpd22028_c5', 'cpd22065_c5', 'cpd22028_c2', 'cpd03197_c3', 'cpd22312_c5', 'cpd03195_c3', 'cpd00588_c3', 'cpd21480_c2', 'cpd03200_c3', 'cpd21480_c5', 'cpd00235_c2', 'cpd19047_c2', 'cpd02700_c1', 'cpd11516_c5', 'cpd11517_c5', 'cpd00722_c1', 'cpd00258_c3', 'cpd00185_c3', 'cpd19047_c5', 'cpd11440_c1', 'cpd11586_c6', 'cpd00635_c2', 'cpd15717_c5', 'cpd03279_c1', 'cpd11825_c5', 'cpd15717_c2', 'cpd15543_c2', 'cpd00192_c1', 'cpd03969_c1', 'cpd00447_c5', 'cpd02083_c1', 'cpd00371_c6', 'cpd03559_c6', 'cpd00371_c5', 'cpd03559_c5', 'cpd00222_c1', 'cpd15718_c2', 'cpd03285_c6', 'cpd15340_c1', 'cpd15417_c5', 'cpd00235_c6', 'cpd15542_c2', 'cpd11462_c1', 'cpd15546_c2', 'cpd02210_c6', 'cpd21088_c2', 'cpd21087_c2', 'cpd21032_c2', 'cpd00498_c6', 'cpd00977_c1', 'cpd03704_c1', 'cpd11572_c6', 'cpd11573_c6', 'cpd00976_c1', 'cpd00438_c5', 'cpd00294_c5', 'cpd01749_c6', 'cpd11206_c4', 'cpd11480_c5', 'cpd03426_c4', 'cpd03586_c3', 'cpd03048_c5', 'cpd15368_c1', 'cpd15570_c1', 'cpd14545_c2', 'cpd03448_c4', 'cpd00504_c4', 'cpd00229_c4', 'cpd02030_c5', 'cpd03113_c2', 'cpd03114_c2', 'cpd16335_c4', 'cpd11585_c2', 'cpd03920_c4', 'cpd11433_c5', 'cpd11434_c5', 'cpd15503_c3', 'cpd15504_c3', 'cpd01504_c1', 'cpd11582_c2', 'cpd11825_c2', 'cpd15328_c2', 'cpd00841_c4', 'cpd03490_c3', 'cpd03115_c2', 'cpd12689_c2', 'cpd02135_c1', 'cpd00646_c1', 'cpd03586_c5', 'cpd01012_c5', 'cpd02030_c3', 'cpd00932_c3', 'cpd03606_c4', 'cpd11580_c2', 'cpd02904_c4', 'cpd03423_c4', 'cpd03123_c3', 'cpd03118_c2', 'cpd03119_c2', 'cpd08210_c3', 'cpd01012_c3', 'cpd15754_c5', 'cpd15772_c5', 'cpd15748_c5', 'cpd15766_c5', 'cpd00144_c5', 'cpd00163_c5', 'cpd00158_c5', 'cpd15584_c5', 'cpd00946_c5', 'cpd15468_c5', 'cpd02782_c5', 'cpd00434_c5', 'cpd00281_c5', 'cpd02016_c5', 'cpd02631_c5', 'cpd03812_c5', 'cpd03813_c5', 'cpd03205_c2', 'cpd15315_c5', 'cpd11502_c2', 'cpd11503_c2', 'cpd02544_c5', 'cpd15693_c2', 'cpd15699_c2', 'cpd21087_c3', 'cpd33647_c3', 'cpd35194_c3', 'cpd04097_c4', 'cpd03117_c5', 'cpd00860_c4', 'cpd21479_c3', 'cpd02168_c4', 'cpd03211_c4', 'cpd15319_c5', 'cpd03524_c4', 'cpd15553_c2', 'cpd15362_c5', 'cpd01977_c4', 'cpd00654_c4', 'cpd28260_c3', 'cpd03520_c3', 'cpd28253_c3', 'cpd15556_c2', 'cpd00278_c5', 'cpd11175_c5', 'cpd27484_c3', 'cpd26672_c3', 'cpd00197_c4', 'cpd27021_c3', 'cpd21488_c3', 'cpd15342_c4', 'cpd15340_c5', 'cpd12543_c2', 'cpd21090_c3', 'cpd11521_c4', 'cpd11522_c4', 'cpd02948_c2', 'cpd15326_c5', 'cpd02961_c4', 'cpd15317_c4', 'cpd15807_c3', 'cpd15324_c5', 'cpd14878_c3', 'cpd19245_c3', 'cpd21124_c3', 'cpd03414_c4', 'cpd03416_c4', 'cpd00918_c4', 'cpd02508_c6', 'cpd02663_c6', 'cpd01107_c1', 'cpd00842_c1', 'cpd01914_c5', 'cpd02698_c6', 'cpd00822_c2', 'cpd19019_c2', 'cpd03282_c3', 'cpd11504_c1', 'cpd11505_c1', 'cpd11543_c6', 'cpd11544_c6', 'cpd00447_c1', 'cpd11313_c2', 'cpd11312_c2', 'cpd00206_c6', 'cpd01155_c3', 'cpd01217_c4', 'cpd00978_c4', 'cpd01155_c5', 'cpd11587_c3', 'cpd03002_c3', 'cpd00693_c5', 'cpd03734_c1', 'cpd07923_c5', 'cpd07924_c5', 'cpd00876_c3', 'cpd15346_c3', 'cpd11496_c1', 'cpd04097_c6', 'cpd00222_c2', 'cpd00807_c6', 'cpd00507_c6', 'cpd11589_c3', 'cpd02506_c6', 'cpd15503_c4', 'cpd15504_c4', 'cpd11583_c3', 'cpd01795_c6', 'cpd02441_c6', 'cpd00206_c3', 'cpd15552_c3', 'cpd15528_c3', 'cpd15579_c3', 'cpd02375_c3', 'cpd03490_c4', 'cpd15727_c5', 'cpd03492_c5', 'cpd11225_c6', 'cpd03480_c6', 'cpd00924_c5', 'cpd14700_c6', 'cpd02700_c6', 'cpd03119_c6', 'cpd19168_c6', 'cpd20940_c6', 'cpd30750_c6', 'cpd03572_c6', 'cpd21032_c5', 'cpd15726_c2', 'cpd15541_c4', 'cpd01155_c6', 'cpd02642_c2', 'cpd00956_c2', 'cpd00371_c4', 'cpd03559_c4', 'cpd03285_c1', 'cpd15528_c6', 'cpd15336_c6', 'cpd00215_c6', 'cpd12072_c1', 'cpd12139_c1', 'cpd08632_c5', 'cpd15350_c6', 'cpd11535_c2', 'cpd11536_c2', 'cpd03189_c4', 'cpd31434_c5', 'cpd03189_c1', 'cpd03122_c4', 'cpd15552_c6', 'cpd15839_c5', 'cpd15417_c6', 'cpd12370_c4', 'cpd11464_c5', 'cpd00185_c6', 'cpd00258_c6', 'cpd11539_c2', 'cpd03285_c4', 'cpd01773_c6', 'cpd01747_c1', 'cpd00703_c1', 'cpd00644_c1', 'cpd12072_c4', 'cpd12139_c4', 'cpd15545_c6', 'cpd00371_c1', 'cpd03559_c1', 'cpd02210_c1', 'cpd15747_c1', 'cpd15765_c1', 'cpd03593_c6', 'cpd00428_c6', 'cpd28260_c5', 'cpd03520_c5', 'cpd33647_c5', 'cpd35194_c5', 'cpd27484_c5', 'cpd19020_c5', 'cpd02597_c2', 'cpd19503_c5', 'cpd21167_c5', 'cpd11313_c5', 'cpd11217_c2', 'cpd00797_c5', 'cpd01792_c5', 'cpd03349_c6', 'cpd03362_c6', 'cpd15316_c3', 'cpd15313_c3', 'cpd14545_c3', 'cpd00519_c3', 'cpd11206_c3', 'cpd15349_c3', 'cpd00727_c5', 'cpd15752_c3', 'cpd15770_c3', 'cpd01157_c5', 'cpd03560_c3', 'cpd15321_c3', 'cpd11531_c5', 'cpd11532_c5', 'cpd00163_c3', 'cpd00608_c3', 'cpd00176_c3', 'cpd15338_c3', 'cpd15726_c5', 'cpd00202_c2', 'cpd11521_c3', 'cpd11522_c3', 'cpd00649_c3', 'cpd00792_c3', 'cpd16292_c2', 'cpd06588_c2', 'cpd00291_c3', 'cpd03752_c5', 'cpd01630_e0', 'cpd04073_c3', 'cpd00197_c3', 'cpd00210_c5', 'cpd01157_c3', 'cpd00561_c3', 'cpd00881_c3', 'cpd01059_c3', 'cpd11536_c5', 'cpd00321_c3', 'cpd15503_c5', 'cpd15504_c5', 'cpd00123_c3', 'cpd11537_c3', 'cpd11538_c3', 'cpd14876_c3', 'cpd00727_c3', 'cpd11554_c3', 'cpd11555_c3', 'cpd03490_c5', 'cpd11546_c3', 'cpd11547_c3', 'cpd11525_c3', 'cpd11526_c3', 'cpd11500_c3', 'cpd11501_c3', 'cpd15430_c2', 'cpd11531_c3', 'cpd11532_c3', 'cpd11558_c3', 'cpd11559_c3', 'cpd00153_c2', 'cpd11566_c3', 'cpd11567_c3', 'cpd03034_c3', 'cpd03063_c3', 'cpd00192_c3', 'cpd03969_c3', 'cpd00752_c3', 'cpd00778_c3', 'cpd15751_c5', 'cpd15769_c5', 'cpd11491_c2', 'cpd06227_c6', 'cpd01123_c3', 'cpd00329_c4', 'cpd17566_c2', 'cpd03521_c4', 'cpd00996_c3', 'cpd15585_c5', 'cpd04918_c2', 'cpd15324_c1', 'cpd02506_c4', 'cpd03105_c5', 'cpd15719_c4', 'cpd01700_c5', 'cpd00653_c3', 'cpd00894_c3', 'cpd00478_c6', 'cpd02024_c3', 'cpd00905_c2', 'cpd00155_c5', 'cpd15302_c5', 'cpd02182_c6', 'cpd00931_c6', 'cpd00498_c1', 'cpd15723_c2', 'cpd00097_c3', 'cpd00986_c3', 'cpd00475_c5', 'cpd03120_c6', 'cpd03121_c6', 'cpd00308_c3', 'cpd01504_c5', 'cpd02386_c3', 'cpd00229_c3', 'cpd15677_c1', 'cpd01329_c5', 'cpd15495_c5', 'cpd11573_c1', 'cpd01914_c3', 'cpd15274_c6', 'cpd00689_c2', 'cpd00755_c2', 'cpd15685_c1', 'cpd15718_c1', 'cpd03480_c3', 'cpd16315_c3', 'cpd11544_c4', 'cpd17565_c1', 'cpd11483_c4', 'cpd00782_c5', 'cpd11225_c4', 'cpd11490_c2', 'cpd00616_c6', 'cpd02993_c1', 'cpd15747_c5', 'cpd15765_c5', 'cpd01720_c3', 'cpd15529_c2', 'cpd11523_c6', 'cpd11524_c6', 'cpd00481_c1', 'cpd26760_c3', 'cpd21085_c3', 'cpd02656_c2', 'cpd00760_c5', 'cpd15606_c2', 'cpd02740_c5', 'cpd15331_c5', 'cpd02979_c4', 'cpd34826_c6', 'cpd03121_c5', 'cpd23146_c6', 'cpd03122_c2', 'cpd03123_c2', 'cpd09812_c5', 'cpd09813_c5', 'cpd34482_c6', 'cpd00478_c1', 'cpd01651_c6', 'cpd03407_c6', 'cpd00296_c2', 'cpd15347_c5', 'cpd01298_c6', 'cpd08373_c1', 'cpd03697_c2', 'cpd11588_c2', 'cpd21184_c5', 'cpd09843_c5', 'cpd03116_c2', 'cpd03117_c2', 'cpd21301_c5', 'cpd00859_c6', 'cpd15542_c1', 'cpd03487_c4', 'cpd03488_c4', 'cpd11596_c5', 'cpd02361_c6', 'cpd00689_c4', 'cpd12543_c4', 'cpd11508_c1', 'cpd12689_c4', 'cpd26672_c5', 'cpd11560_c4', 'cpd11561_c4', 'cpd12689_c1', 'cpd16292_c5', 'cpd06588_c5', 'cpd03646_c6', 'cpd08286_c6', 'cpd11552_c4', 'cpd11553_c4', 'cpd03120_c2', 'cpd03121_c2', 'cpd22312_c6', 'cpd11562_c1', 'cpd11563_c1', 'cpd00180_c2', 'cpd21479_c2', 'cpd01716_c4', 'cpd28260_c2', 'cpd28253_c2', 'cpd00727_c4', 'cpd32550_c3', 'cpd03414_c5', 'cpd03416_c5', 'cpd11533_c4', 'cpd11534_c4', 'cpd02030_c4', 'cpd00090_c4', 'cpd35556_c3', 'cpd03211_c5', 'cpd03524_c5', 'cpd27020_c3', 'cpd21488_c2', 'cpd00477_c5', 'cpd00345_c4', 'cpd01046_c3', 'cpd00654_c5', 'cpd03736_c4', 'cpd03586_c4', 'cpd01012_c4', 'cpd21118_c2', 'cpd21167_c3', 'cpd03123_c4', 'cpd21090_c2', 'cpd01029_c3', 'cpd14718_c3', 'cpd27735_c3', 'cpd28060_c3', 'cpd04097_c5', 'cpd15807_c2', 'cpd27758_c3', 'cpd28083_c3', 'cpd03343_c3', 'cpd00485_c4', 'cpd00930_c5', 'cpd26761_c3', 'cpd01157_c4', 'cpd00531_c3', 'cpd15344_c4', 'cpd09255_c4', 'cpd03589_c2', 'cpd25679_c2', 'cpd19424_c5', 'cpd19423_c5', 'cpd12005_c2', 'cpd15358_c5', 'cpd17564_c4', 'cpd19422_c5', 'cpd01997_c4', 'cpd00557_c4', 'cpd01772_c4', 'cpd00141_c2', 'cpd11312_c5', 'cpd00099_c4', 'cpd15751_c1', 'cpd15769_c1', 'cpd00515_c2', 'cpd11416_c4', 'cpd02120_c1', 'cpd00424_c4', 'cpd00742_c4', 'cpd00956_c4', 'cpd02210_c4', 'cpd00480_c5', 'cpd03860_c5', 'cpd00863_c2', 'cpd11592_c3', 'cpd15725_c4', 'cpd11542_c3', 'cpd11543_c3', 'cpd15347_c1', 'cpd15274_c1', 'cpd00859_c2', 'cpd11523_c1', 'cpd11524_c1', 'cpd03126_c2', 'cpd03129_c2', 'cpd15387_c4', 'cpd00043_c3', 'cpd02060_c2', 'cpd11433_c3', 'cpd00493_c6', 'cpd02506_c3', 'cpd11585_c6', 'cpd03524_c3', 'cpd00477_c3', 'cpd00654_c3', 'cpd00191_c3', 'cpd15536_c2', 'cpd04097_c3', 'cpd00930_c3', 'cpd00530_c6', 'cpd03606_c1', 'cpd15546_c1', 'cpd09844_c6', 'cpd00938_c3', 'cpd06227_c1', 'cpd15369_c2', 'cpd15571_c2', 'cpd01078_c3', 'cpd03078_c3', 'cpd15494_c1', 'cpd11548_c3', 'cpd11549_c3', 'cpd02691_c6', 'cpd11825_c6', 'cpd15328_c6', 'cpd15527_c6', 'cpd02698_c1', 'cpd11483_c3', 'cpd11490_c3', 'cpd11535_c6', 'cpd11536_c6', 'cpd11564_c3', 'cpd11565_c3', 'cpd03897_c3', 'cpd00780_c6', 'cpd12237_c3', 'cpd14507_c3', 'cpd03608_c2', 'cpd21288_c6', 'cpd00506_c2', 'cpd03413_c5', 'cpd00740_c6', 'cpd03413_c2', 'cpd21480_c1', 'cpd01078_c5', 'cpd03078_c5', 'cpd02828_c6', 'cpd28253_c1', 'cpd22312_c1', 'cpd00079_c5', 'cpd15481_c6', 'cpd15480_c6', 'cpd17568_c1', 'cpd00945_c6', 'cpd11548_c5', 'cpd11549_c5', 'cpd00752_c5', 'cpd00778_c5', 'cpd00550_c6', 'cpd11483_c5', 'cpd00390_c6', 'cpd01123_c5', 'cpd22027_c1', 'cpd22022_c1', 'cpd15701_c5', 'cpd11564_c5', 'cpd11565_c5', 'cpd00897_c6', 'cpd36025_c1', 'cpd19505_c1', 'cpd03583_c5', 'cpd28259_c1', 'cpd21479_c1', 'cpd15430_c6', 'cpd01947_c1', 'cpd19008_c1', 'cpd00938_c5', 'cpd00996_c5', 'cpd28070_c1', 'cpd33817_c1', 'cpd27744_c1', 'cpd11206_c5', 'cpd36635_c1', 'cpd27090_c1', 'cpd27506_c1', 'cpd22028_c1', 'cpd22065_c1', 'cpd02113_c6', 'cpd03698_c4', 'cpd15584_c6', 'cpd15748_c3', 'cpd15766_c3', 'cpd15308_c4', 'cpd00141_c3', 'cpd01775_c2', 'cpd02197_c3', 'cpd00817_c4', 'cpd15363_c3', 'cpd03192_c6', 'cpd03171_c6', 'cpd10162_c2', 'cpd15400_c2', 'cpd15399_c2', 'cpd02511_c4', 'cpd15505_c4', 'cpd00802_c2', 'cpd00946_c3', 'cpd00482_c6', 'cpd11515_c2', 'cpd02782_c3', 'cpd00341_c6', 'cpd00162_c6', 'cpd00867_c2', 'cpd00426_c6', 'cpd15350_c4', 'cpd02843_c3', 'cpd02740_c2', 'cpd15315_c3', 'cpd15468_c6', 'cpd03587_c4', 'cpd00158_c6', 'cpd15319_c3', 'cpd17026_e0', 'cpd17027_e0', 'cpd00314_c6', 'cpd01949_c6', 'cpd01221_c6', 'cpd04920_c2', 'cpd14702_c6', 'cpd11512_c3', 'cpd11513_c3', 'cpd11313_c1', 'cpd11312_c1', 'cpd15700_c4', 'cpd14698_c6', 'cpd14699_c6', 'cpd11516_c3', 'cpd11533_c3', 'cpd14958_c1', 'cpd11541_c3', 'cpd14703_c6', 'cpd19047_c1', 'cpd11529_c3', 'cpd11530_c3', 'cpd00508_c4', 'cpd11550_c3', 'cpd11551_c3', 'cpd15532_c2', 'cpd11504_c3', 'cpd11505_c3', 'cpd11496_c3', 'cpd11497_c3', 'cpd00635_c1', 'cpd00166_c1', 'cpd11508_c3', 'cpd21032_c1', 'cpd01947_c6', 'cpd19008_c6', 'cpd11562_c3', 'cpd11563_c3', 'cpd11535_c4', 'cpd11209_c1', 'cpd01947_e0', 'cpd01224_c3', 'cpd00426_c3', 'cpd00763_c3', 'cpd11640_c1', 'cpd02535_c4', 'cpd01270_c6', 'cpd00434_c3', 'cpd00388_c6', 'cpd01046_c2', 'cpd22028_c6', 'cpd22065_c6', 'cpd00809_c6', 'cpd01311_c3', 'cpd27484_c2', 'cpd36635_c6', 'cpd22027_c6', 'cpd15686_c6', 'cpd15719_c6', 'cpd02547_c4', 'cpd03917_c4', 'cpd27144_c3', 'cpd27713_c3', 'cpd15688_c6', 'cpd02511_c5', 'cpd19442_c5', 'cpd11490_c4', 'cpd21087_c5', 'cpd00945_c2', 'cpd11531_c4', 'cpd11532_c4', 'cpd19006_c3', 'cpd15324_c4', 'cpd02039_c4', 'cpd27735_c2', 'cpd28060_c2', 'cpd03915_c6', 'cpd03916_c6', 'cpd27021_c5', 'cpd19030_c3', 'cpd15746_c6', 'cpd15764_c6', 'cpd15468_c4', 'cpd00097_c4', 'cpd00986_c4', 'cpd35556_c5', 'cpd32550_c5', 'cpd15685_c6', 'cpd03607_c6', 'cpd03606_c6', 'cpd21488_c5', 'cpd26760_c5', 'cpd26761_c5', 'cpd15687_c6', 'cpd15720_c6', 'cpd11544_c5', 'cpd27144_c2', 'cpd27713_c2', 'cpd21481_c3', 'cpd00481_c4', 'cpd02187_c4', 'cpd15753_c6', 'cpd15771_c6', 'cpd00383_c4', 'cpd15419_c6', 'cpd21472_c3', 'cpd19001_c5', 'cpd15420_c6', 'cpd15548_c6', 'cpd01078_c4', 'cpd03078_c4', 'cpd02993_c4', 'cpd03585_c4', 'cpd21118_c5', 'cpd08211_c3', 'cpd15703_c4', 'cpd00522_c4', 'cpd02656_c6', 'cpd19030_c2', 'cpd15721_c6', 'cpd21088_c3', 'cpd21090_c5', 'cpd01399_c5', 'cpd01262_c5', 'cpd00318_c6', 'cpd00817_c5', 'cpd22022_c6', 'cpd00745_c3', 'cpd15807_c5', 'cpd11548_c4', 'cpd11549_c4', 'cpd11508_c4', 'cpd03192_c4', 'cpd03171_c4', 'cpd15505_c5', 'cpd15418_c6', 'cpd00608_c6', 'cpd00727_c6', 'cpd11431_c5', 'cpd11432_c5', 'cpd00802_c6', 'cpd11575_c5', 'cpd01919_c6', 'cpd00924_c3', 'cpd00859_c5', 'cpd00287_c3', 'cpd11507_c2', 'cpd00346_c2', 'cpd11544_c3', 'cpd18082_c1', 'cpd18081_c1', 'cpd02333_c3', 'cpd00147_c3', 'cpd01981_c3', 'cpd02849_c5', 'cpd15170_c5', 'cpd00272_c6', 'cpd00446_c5', 'cpd00817_c3', 'cpd02511_c3', 'cpd00204_c5', 'cpd11570_c6', 'cpd03130_c6', 'cpd03205_c6', 'cpd11502_c6', 'cpd11503_c6', 'cpd00809_c5', 'cpd08286_c2', 'cpd00728_c3', 'cpd07946_c3', 'cpd15605_c3', 'cpd11568_c2', 'cpd11569_c2', 'cpd09421_c3', 'cpd11566_c5', 'cpd11567_c5', 'cpd01777_c2', 'cpd00756_c3', 'cpd00523_c3', 'cpd02862_c2', 'cpd00712_c3', 'cpd00427_c3', 'cpd00520_c3', 'cpd15696_c3', 'cpd02187_c2', 'cpd03572_c2', 'cpd02125_c2', 'cpd01725_c3', 'cpd03130_c2', 'cpd11431_c3', 'cpd09252_c3', 'cpd09254_c3', 'cpd00120_c2', 'cpd15698_c4', 'cpd24823_c3', 'cpd32995_c3', 'cpd32565_c3', 'cpd03915_c2', 'cpd03916_c2', 'cpd11584_c3', 'cpd03127_c2', 'cpd08304_c3', 'cpd02501_c3', 'cpd00770_c3', 'cpd00650_c2', 'cpd02230_c4', 'cpd03125_c2', 'cpd03119_c4', 'cpd03588_c3', 'cpd00641_c2', 'cpd11540_c2', 'cpd11585_c3', 'cpd03385_c4', 'cpd03846_c2', 'cpd21032_c3', 'cpd11511_c2', 'cpd01557_c3', 'cpd00481_c2', 'cpd00251_c4', 'cpd15552_c5', 'cpd15528_c5', 'cpd11591_c3', 'cpd17150_c3', 'cpd19587_c3', 'cpd02746_c2', 'cpd15697_c2', 'cpd03593_c4', 'cpd21087_c1', 'cpd27020_c5', 'cpd01029_c5', 'cpd14718_c5', 'cpd33647_c1', 'cpd35194_c1', 'cpd28260_c1', 'cpd03520_c1', 'cpd16355_c5', 'cpd03149_c5', 'cpd00074_c5', 'cpd20413_c5', 'cpd20412_c5', 'cpd00649_c5', 'cpd15889_c5', 'cpd27021_c1', 'cpd27758_c5', 'cpd28083_c5', 'cpd21488_c1', 'cpd00531_c5', 'cpd11574_c1', 'cpd21090_c1', 'cpd19503_c1', 'cpd15807_c1', 'cpd27144_c5', 'cpd27713_c5', 'cpd00780_c2', 'cpd00232_c2', 'cpd00112_c2', 'cpd15549_c2', 'cpd00531_c1', 'cpd08316_c2', 'cpd04099_c2', 'cpd15696_c5', 'cpd27020_c1', 'cpd01270_c1', 'cpd17040_c1', 'cpd32452_c1', 'cpd00770_c5', 'cpd01046_c1', 'cpd00523_c5', 'cpd00184_c5', 'cpd24376_c1', 'cpd15884_c1', 'cpd21167_c1', 'cpd03521_c2', 'cpd11591_c5', 'cpd02311_c5', 'cpd02507_c4', 'cpd02027_c2', 'cpd15603_c5', 'cpd01029_c1', 'cpd14718_c1', 'cpd11477_c5', 'cpd00483_c5', 'cpd02692_c5', 'cpd00097_c6', 'cpd00986_c6', 'cpd03205_c4', 'cpd03830_c3', 'cpd15357_c4', 'cpd15585_c6', 'cpd15324_c3', 'cpd00226_c4', 'cpd15754_c3', 'cpd15772_c3', 'cpd00530_c4', 'cpd00668_c4', 'cpd15702_c4', 'cpd15362_c3', 'cpd26760_c6', 'cpd21085_c6', 'cpd15508_c3', 'cpd11562_c4', 'cpd11563_c4', 'cpd18082_c6', 'cpd18081_c6', 'cpd15340_c3', 'cpd00977_c3', 'cpd03704_c3', 'cpd00484_c6', 'cpd00976_c3', 'cpd03121_c4', 'cpd02255_c4', 'cpd02043_c6', 'cpd15747_c3', 'cpd15765_c3', 'cpd11502_c4', 'cpd11503_c4', 'cpd21481_c2', 'cpd14718_c2', 'cpd21120_c6', 'cpd21121_c6', 'cpd21472_c2', 'cpd00192_c6', 'cpd00836_c2', 'cpd00938_c4', 'cpd00856_c4', 'cpd15678_c5', 'cpd00422_c6', 'cpd19006_c6', 'cpd03191_c6', 'cpd15579_c2', 'cpd11564_c4', 'cpd11565_c4', 'cpd11313_c6', 'cpd11312_c6', 'cpd03646_c5', 'cpd01914_c6', 'cpd02385_c6', 'cpd01496_c6', 'cpd28205_c3', 'cpd14548_c3', 'cpd01679_c6', 'cpd00768_c6', 'cpd00278_c6', 'cpd11621_c6', 'cpd11175_c6', 'cpd11620_c6', 'cpd18076_c6', 'cpd18075_c6', 'cpd00460_c4', 'cpd03161_c6', 'cpd01414_c3', 'cpd11606_c6', 'cpd11451_c6', 'cpd15684_c6', 'cpd01567_c3', 'cpd15357_c6', 'cpd01298_c2', 'cpd27180_c2', 'cpd12237_c4', 'cpd14507_c4', 'cpd15752_c6', 'cpd15770_c6', 'cpd01550_c3', 'cpd00585_c3', 'cpd15541_c6', 'cpd15349_c6', 'cpd02074_c3', 'cpd00922_c3', 'cpd15395_c2', 'cpd11959_c2', 'cpd00204_c2', 'cpd03560_c6', 'cpd00423_c6', 'cpd02414_c3', 'cpd15342_c6', 'cpd15408_c6', 'cpd15431_c6', 'cpd15544_c6', 'cpd00501_c6', 'cpd00200_c3', 'cpd02605_c3', 'cpd02692_c3', 'cpd09879_c3', 'cpd00176_c2', 'cpd03608_c6', 'cpd02135_c6', 'cpd00646_c6', 'cpd21488_c6', 'cpd15547_c3', 'cpd15350_c1', 'cpd21472_c1', 'cpd21481_c1', 'cpd02820_c2', 'cpd15699_c5', 'cpd00133_c5', 'cpd35556_c1', 'cpd32550_c1', 'cpd26760_c1', 'cpd26761_c1', 'cpd15699_c3', 'cpd03697_c3', 'cpd01647_c1', 'cpd00430_c1', 'cpd02591_c2', 'cpd00208_c1', 'cpd21085_c1', 'cpd00897_c1', 'cpd17282_c1', 'cpd28297_c1', 'cpd15308_c5', 'cpd15523_c5', 'cpd03587_c5', 'cpd15535_c2', 'cpd03698_c5', 'cpd31338_c1', 'cpd23834_c1', 'cpd03192_c3', 'cpd03171_c3', 'cpd00530_c5', 'cpd04920_c3', 'cpd22637_c1', 'cpd25981_c1', 'cpd15702_c5', 'cpd01647_c5', 'cpd00810_c1', 'cpd00724_c1', 'cpd15556_c3', 'cpd03698_c1', 'cpd19001_c1', 'cpd02654_c1', 'cpd19030_c1', 'cpd16034_c3', 'cpd03163_c2', 'cpd03392_c2', 'cpd11502_c1', 'cpd11503_c1', 'cpd11486_c3', 'cpd00028_c1', 'cpd00530_c1', 'cpd15400_c6', 'cpd00859_c3', 'cpd15308_c3', 'cpd04539_c2', 'cpd16292_c3', 'cpd06588_c3', 'cpd15485_c3', 'cpd03698_c3', 'cpd21088_c1', 'cpd15702_c3', 'cpd02730_c1', 'cpd00817_c1', 'cpd00359_c3', 'cpd15671_c1', 'cpd27180_c1', 'cpd08367_c3', 'cpd01977_c1', 'cpd00204_c1', 'cpd00493_c1', 'cpd28205_c1', 'cpd14548_c1', 'cpd00104_c1', 'cpd00491_c2', 'cpd02948_c6', 'cpd02089_c3', 'cpd00379_c3', 'cpd15357_c1', 'cpd00341_c3', 'cpd11502_c3', 'cpd11503_c3', 'cpd03205_c1', 'cpd19006_c5', 'cpd19030_c5', 'cpd11541_c4', 'cpd01012_c1', 'cpd01775_c6', 'cpd09844_c4', 'cpd11477_c3', 'cpd21088_c5', 'cpd11514_c6', 'cpd11515_c6', 'cpd27180_c5', 'cpd00519_c6', 'cpd26984_c5', 'cpd37010_c5', 'cpd00465_c4', 'cpd18082_c5', 'cpd18081_c5', 'cpd02685_c5', 'cpd03289_c5', 'cpd00105_c5', 'cpd11825_c4', 'cpd09878_c5', 'cpd16034_c5', 'cpd02113_c4', 'cpd16034_c4', 'cpd01960_c4', 'cpd00681_c4', 'cpd00604_c4', 'cpd00540_c4', 'cpd00882_c4', 'cpd00599_c4', 'cpd11518_c5', 'cpd11519_c5', 'cpd28205_c2', 'cpd14548_c2', 'cpd00763_c5', 'cpd00780_c5', 'cpd01101_c2', 'cpd01414_c1', 'cpd09879_c1', 'cpd09879_c2', 'cpd01101_c1', 'cpd09027_c1', 'cpd01567_c1', 'cpd01414_c2', 'cpd09027_c2', 'cpd01567_c2', 'cpd01550_c2', 'cpd00585_c2', 'cpd15239_c5', 'cpd02074_c2', 'cpd00922_c2', 'cpd02232_c5', 'cpd01550_c1', 'cpd00585_c1', 'cpd00509_c5', 'cpd00922_c1', 'cpd02414_c2', 'cpd08625_c2', 'cpd02414_c1', 'cpd08625_c1', 'cpd00465_c6', 'cpd02692_c1', 'cpd02791_c6', 'cpd03487_c2', 'cpd03488_c2', 'cpd00755_c1', 'cpd27020_c6', 'cpd27180_c6', 'cpd02574_c1', 'cpd02791_c1', 'cpd00133_c2', 'cpd00531_c6', 'cpd27144_c6', 'cpd27713_c6', 'cpd00581_c2', 'cpd28060_c6', 'cpd27735_c6', 'cpd02626_c1', 'cpd28205_c6', 'cpd14548_c6', 'cpd27021_c6', 'cpd21088_c6', 'cpd00307_c2', 'cpd15540_c1', 'cpd15793_c1', 'cpd01059_c4', 'cpd00321_c4', 'cpd15489_c3', 'cpd15479_c3', 'cpd03471_c4', 'cpd01092_c1', 'cpd00413_c3', 'cpd02338_c3', 'cpd01298_c1', 'cpd15537_c3', 'cpd00427_c2', 'cpd00520_c2', 'cpd00490_c6', 'cpd00579_c6', 'cpd02663_c3', 'cpd11523_c4', 'cpd12237_c6', 'cpd14507_c6', 'cpd00663_c4', 'cpd00418_e0', 'cpd01217_c5', 'cpd11431_c4', 'cpd03052_c3', 'cpd01831_c3', 'cpd01693_c4', 'cpd00856_c6', 'cpd00221_c1', 'cpd00291_c6', 'cpd02357_c6', 'cpd15766_c6', 'cpd02089_c4', 'cpd00379_c4', 'cpd02043_c2', 'cpd03205_c5', 'cpd15717_c6', 'cpd03494_c1', 'cpd00484_c2', 'cpd11502_c5', 'cpd11503_c5', 'cpd02590_c1', 'cpd15465_c1', 'cpd15464_c1', 'cpd02295_c1', 'cpd15754_c6', 'cpd15772_c6', 'cpd15366_c4', 'cpd15569_c4', 'cpd02693_c3', 'cpd00122_c2', 'cpd15401_c2', 'cpd02021_c1', 'cpd15747_c6', 'cpd15765_c6', 'cpd15683_c6', 'cpd15716_c6', 'cpd15371_c5', 'cpd00229_c1', 'cpd15724_c2', 'cpd00275_c3', 'cpd02065_c3', 'cpd21118_c3', 'cpd01749_c3', 'cpd00867_c1', 'cpd15336_c1', 'cpd15751_c3', 'cpd15769_c3', 'cpd03697_c5', 'cpd15501_c2', 'cpd15347_c3', 'cpd16034_c1', 'cpd00557_c1', 'cpd15604_c3', 'cpd15556_c1', 'cpd00363_c2', 'cpd11206_c2', 'cpd28259_c3', 'cpd03913_c3', 'cpd03914_c3', 'cpd00063_c1', 'cpd03283_c1', 'cpd00483_c3', 'cpd15503_c2', 'cpd15504_c2', 'cpd15723_c5', 'cpd11514_c1', 'cpd11515_c1', 'cpd02572_c3', 'cpd02507_c3', 'cpd15532_c1', 'cpd02828_c3', 'cpd03449_c1', 'cpd02524_c6', 'cpd03490_c2', 'cpd21120_c3', 'cpd21121_c3', 'cpd02662_c3', 'cpd11537_c1', 'cpd11538_c1', 'cpd15347_c4', 'cpd15274_c4', 'cpd11560_c2', 'cpd11561_c2', 'cpd02172_c5', 'cpd02419_c5', 'cpd11524_c4', 'cpd11552_c2', 'cpd11553_c2', 'cpd15307_c4', 'cpd02069_c4', 'cpd03423_c1', 'cpd03920_c1', 'cpd00165_c6', 'cpd03919_c1', 'cpd15531_c5', 'cpd28205_c5', 'cpd14548_c5', 'cpd03446_c1', 'cpd00525_c1', 'cpd02964_c1', 'cpd00263_c1', 'cpd00641_c6', 'cpd00890_c1', 'cpd15391_c2', 'cpd01414_c5', 'cpd03443_c1', 'cpd03163_c6', 'cpd03392_c6', 'cpd02904_c1', 'cpd00339_c3', 'cpd00641_c1', 'cpd15726_c4', 'cpd00073_c1', 'cpd15553_c3', 'cpd15313_c4', 'cpd02849_c4', 'cpd15170_c4', 'cpd02295_c3', 'cpd00755_c3', 'cpd11536_c4', 'cpd03915_c1', 'cpd03916_c1', 'cpd00283_c1', 'cpd11436_c5', 'cpd11437_c5', 'cpd01725_c5', 'cpd01997_c1', 'cpd15318_c6', 'cpd01795_c5', 'cpd02441_c5', 'cpd01015_c6', 'cpd01101_c6', 'cpd15425_c6', 'cpd00763_c1', 'cpd01599_c6', 'cpd01957_c6', 'cpd02968_c1', 'cpd00626_c1', 'cpd01554_c6', 'cpd01082_c6', 'cpd15665_c1', 'cpd15530_c5', 'cpd01772_c1', 'cpd11519_c3', 'cpd20171_c6', 'cpd00837_c3', 'cpd11436_c3', 'cpd01709_c6', 'cpd00099_c1', 'cpd00205_c1', 'cpd11416_c1', 'cpd00532_c6', 'cpd02113_c5', 'cpd12508_c6', 'cpd11712_c6', 'cpd11554_c1', 'cpd11555_c1', 'cpd06707_c5', 'cpd03163_c1', 'cpd03392_c1', 'cpd03666_c1', 'cpd01973_c5', 'cpd00762_c5', 'cpd00280_c6', 'cpd01092_c2', 'cpd00339_c2', 'cpd02030_c2', 'cpd02024_c4', 'cpd08210_c2', 'cpd11586_c5', 'cpd15690_c4', 'cpd15696_c4', 'cpd18082_c2', 'cpd18081_c2', 'cpd02295_c2', 'cpd00727_c2', 'cpd03413_c3', 'cpd00905_c5', 'cpd00587_c4', 'cpd02089_c5', 'cpd00379_c5', 'cpd00760_c1', 'cpd03608_c5', 'cpd00742_c3', 'cpd00334_c2', 'cpd00341_c2', 'cpd15308_c2', 'cpd15312_c2', 'cpd15746_c1', 'cpd15764_c1', 'cpd15702_c2', 'cpd02096_c3', 'cpd03471_c5', 'cpd00491_c1', 'cpd15704_c2', 'cpd11510_c6', 'cpd11511_c6', 'cpd15309_c2', 'cpd00150_c4', 'cpd01211_c4', 'cpd15706_c2', 'cpd03752_c4', 'cpd15311_c2', 'cpd02791_c5', 'cpd03708_c3', 'cpd12005_c6', 'cpd15701_c2', 'cpd01679_c3', 'cpd00768_c3', 'cpd15391_c4', 'cpd08350_c4', 'cpd11585_c5', 'cpd11430_c6', 'cpd02045_c3', 'cpd01932_c3', 'cpd11836_c2', 'cpd00447_c2', 'cpd01567_c5', 'cpd01414_c6', 'cpd00371_c2', 'cpd03559_c2', 'cpd00532_c5', 'cpd01550_c5', 'cpd00585_c5', 'cpd09806_c4', 'cpd04117_c4', 'cpd00485_c2', 'cpd02074_c5', 'cpd00922_c5', 'cpd28259_c2', 'cpd09027_c6', 'cpd01567_c6', 'cpd15706_c3', 'cpd02414_c5', 'cpd02232_c4', 'cpd26672_c2', 'cpd15895_c6', 'cpd00386_c5', 'cpd01029_c2', 'cpd01919_c2', 'cpd06227_c4', 'cpd01550_c6', 'cpd00585_c6', 'cpd19006_c2', 'cpd00922_c6', 'cpd03861_c6', 'cpd02414_c6', 'cpd09879_c5', 'cpd15311_c3', 'cpd08625_c6', 'cpd08367_c4', 'cpd15484_c3', 'cpd02045_c4', 'cpd01932_c4', 'cpd01092_c5', 'cpd09879_c6', 'cpd11531_c2', 'cpd00759_c6', 'cpd00339_c5', 'cpd09791_c4', 'cpd01871_c4', 'cpd00693_c3', 'cpd01015_c4', 'cpd03492_c3', 'cpd15322_c1', 'cpd15700_c2', 'cpd03407_c1', 'cpd11438_c1', 'cpd21119_c3', 'cpd00204_c3', 'cpd15720_c1', 'cpd04539_c1', 'cpd15530_c3', 'cpd15541_c1', 'cpd02113_c3', 'cpd01793_c5', 'cpd00781_c5', 'cpd15530_c1', 'cpd15701_c4', 'cpd00792_c5', 'cpd01793_c3', 'cpd00781_c3', 'cpd15371_c4', 'cpd03646_c4', 'cpd03326_c3', 'cpd01157_c2', 'cpd00699_c2', 'cpd15753_c1', 'cpd15771_c1', 'cpd00151_c1', 'cpd02024_c1', 'cpd11532_c2', 'cpd01133_c1', 'cpd03200_c1', 'cpd15718_c6', 'cpd15343_c1', 'cpd03519_c1', 'cpd02264_c1', 'cpd02265_c1', 'cpd15751_c6', 'cpd15769_c6', 'cpd03192_c5', 'cpd03171_c5', 'cpd01669_c1', 'cpd00362_c1', 'cpd28070_c6', 'cpd33817_c6', 'cpd27744_c6', 'cpd03480_c1', 'cpd11548_c2', 'cpd11549_c2', 'cpd00905_c4', 'cpd01919_c1', 'cpd15539_c1', 'cpd15545_c1', 'cpd00154_c1', 'cpd19020_c6', 'cpd02345_c1', 'cpd11564_c2', 'cpd11565_c2', 'cpd00681_c3', 'cpd03846_c1', 'cpd11571_c6', 'cpd11514_c3', 'cpd11515_c3', 'cpd00905_c3', 'cpd15529_c3', 'cpd11438_c6', 'cpd00794_c4', 'cpd00178_c4', 'cpd00588_c2', 'cpd02738_c2', 'cpd02555_c2', 'cpd00630_c2', 'cpd00163_c2', 'cpd11506_c1', 'cpd11507_c1', 'cpd02849_c2', 'cpd15170_c2', 'cpd00861_c2', 'cpd18076_c2', 'cpd18075_c2', 'cpd00492_c2', 'cpd02233_c2', 'cpd15520_c2', 'cpd15516_c2', 'cpd11416_c0', 'C_elements', 'Species3_commkin', 'Species5_commkin', 'Species2_commkin', 'Species6_commkin', 'Species4_commkin', 'Species1_commkin', 'min_value']"
   ]
  }
 ],
 "metadata": {
  "kernelspec": {
   "display_name": "COBRA cplex",
   "language": "python",
   "name": "modelseed_cplex"
  },
  "language_info": {
   "codemirror_mode": {
    "name": "ipython",
    "version": 3
   },
   "file_extension": ".py",
   "mimetype": "text/x-python",
   "name": "python",
   "nbconvert_exporter": "python",
   "pygments_lexer": "ipython3",
   "version": "3.10.12"
  }
 },
 "nbformat": 4,
 "nbformat_minor": 4
}
