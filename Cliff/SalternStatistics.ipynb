{
 "cells": [
  {
   "cell_type": "markdown",
   "id": "1e2cb14e-9e3b-4ddc-ab27-58948804fe6b",
   "metadata": {},
   "source": [
    "# load and count all of the genomes"
   ]
  },
  {
   "cell_type": "code",
   "execution_count": 2,
   "id": "c991c72c-737e-47b0-9509-8f789d938a57",
   "metadata": {
    "tags": []
   },
   "outputs": [
    {
     "name": "stdout",
     "output_type": "stream",
     "text": [
      "python version 3.11.1\n",
      "KBBaseModules 0.0.1\n",
      "modelseedpy 0.3.3\n",
      "cobrakbase 0.3.1\n",
      "Output files printed to:/scratch/shared/code/MicrobiomeNotebooks/Cliff/nboutput when using KBDevUtils.output_dir\n",
      "ModelSEED: /scratch/shared//sdkmount/run_local/workdir/tmp/\n"
     ]
    },
    {
     "data": {
      "text/plain": [
       "['__class__',\n",
       " '__delattr__',\n",
       " '__dict__',\n",
       " '__dir__',\n",
       " '__doc__',\n",
       " '__eq__',\n",
       " '__format__',\n",
       " '__ge__',\n",
       " '__getattribute__',\n",
       " '__getstate__',\n",
       " '__gt__',\n",
       " '__hash__',\n",
       " '__init__',\n",
       " '__init_subclass__',\n",
       " '__le__',\n",
       " '__lt__',\n",
       " '__module__',\n",
       " '__ne__',\n",
       " '__new__',\n",
       " '__reduce__',\n",
       " '__reduce_ex__',\n",
       " '__repr__',\n",
       " '__setattr__',\n",
       " '__sizeof__',\n",
       " '__str__',\n",
       " '__subclasshook__',\n",
       " '__weakref__',\n",
       " 'afu_client',\n",
       " 'anno_client',\n",
       " 'annoapi',\n",
       " 'build_dataframe_report',\n",
       " 'callback_file',\n",
       " 'callback_url',\n",
       " 'check_kbase_dir',\n",
       " 'clear_sdk_dir',\n",
       " 'clients',\n",
       " 'codebase',\n",
       " 'config',\n",
       " 'config_file',\n",
       " 'create_phenotypeset_from_compounds',\n",
       " 'create_ref',\n",
       " 'data_dir',\n",
       " 'devutil_client',\n",
       " 'dfu_client',\n",
       " 'exists',\n",
       " 'get_object',\n",
       " 'get_object_info',\n",
       " 'get_wsurl_from_version',\n",
       " 'gfu_client',\n",
       " 'initialize_call',\n",
       " 'initialized',\n",
       " 'input_objects',\n",
       " 'kb_version',\n",
       " 'kbdevutil',\n",
       " 'list',\n",
       " 'load',\n",
       " 'load_function_data',\n",
       " 'method',\n",
       " 'module_dir',\n",
       " 'msrecon',\n",
       " 'msseedrecon',\n",
       " 'name',\n",
       " 'obj_created',\n",
       " 'obs_ec',\n",
       " 'output_dir',\n",
       " 'output_root',\n",
       " 'params',\n",
       " 'print_json_debug_file',\n",
       " 'process_genome_list',\n",
       " 'process_ws_ids',\n",
       " 'provenance',\n",
       " 'rast_client',\n",
       " 'read_callback',\n",
       " 'read_config',\n",
       " 'read_token',\n",
       " 'report_client',\n",
       " 'reset_attributes',\n",
       " 'root_path',\n",
       " 'save',\n",
       " 'save_genome_or_metagenome',\n",
       " 'save_report_to_kbase',\n",
       " 'save_ws_object',\n",
       " 'sdk_dir_perms',\n",
       " 'sdkhome',\n",
       " 'set_study_root',\n",
       " 'set_token',\n",
       " 'set_ws',\n",
       " 'study_name',\n",
       " 'study_root',\n",
       " 'timestamp',\n",
       " 'token',\n",
       " 'token_file',\n",
       " 'transfer_outputs',\n",
       " 'translate_protein_to_gene',\n",
       " 'validate_args',\n",
       " 'version',\n",
       " 'working_dir',\n",
       " 'working_directory',\n",
       " 'ws_client',\n",
       " 'ws_get_objects',\n",
       " 'ws_id',\n",
       " 'ws_name',\n",
       " 'ws_version',\n",
       " 'wsinfo_to_ref',\n",
       " 'wsurl']"
      ]
     },
     "execution_count": 2,
     "metadata": {},
     "output_type": "execute_result"
    }
   ],
   "source": [
    "%run cliffcommutil.py\n",
    "dir(util)"
   ]
  },
  {
   "cell_type": "code",
   "execution_count": null,
   "id": "512264d6-5f4e-4d06-ac92-2ff7f7f46942",
   "metadata": {},
   "outputs": [],
   "source": []
  },
  {
   "cell_type": "markdown",
   "id": "bc7dbafd-31e4-42b2-89eb-f25415abf9b2",
   "metadata": {},
   "source": [
    "# Determine the threshold selected for the genomes/MAG"
   ]
  },
  {
   "cell_type": "code",
   "execution_count": null,
   "id": "7d906a71-dde9-4fc4-869c-c6df46c0f985",
   "metadata": {},
   "outputs": [],
   "source": []
  },
  {
   "cell_type": "markdown",
   "id": "2ab86a4e-5196-447d-919b-989af61abe42",
   "metadata": {},
   "source": [
    "# Count the proteins/MAG added"
   ]
  },
  {
   "cell_type": "code",
   "execution_count": null,
   "id": "1f72dc52-1b21-481f-976c-2a91bac651b8",
   "metadata": {},
   "outputs": [],
   "source": []
  },
  {
   "cell_type": "markdown",
   "id": "6339e732-acea-46c1-bb41-50603c31687c",
   "metadata": {},
   "source": [
    "# Count the reactions, genes, and gapfilling contributions of neat & enhanced MAG models"
   ]
  },
  {
   "cell_type": "markdown",
   "id": "c3416088-1303-45ca-a75d-8cf616e37960",
   "metadata": {},
   "source": [
    "## load the neat models"
   ]
  },
  {
   "cell_type": "code",
   "execution_count": null,
   "id": "46fe0196-9151-4783-b7dc-55c37f521257",
   "metadata": {},
   "outputs": [],
   "source": []
  },
  {
   "cell_type": "markdown",
   "id": "c53899f6-6eef-4183-b406-fd15d847fba9",
   "metadata": {},
   "source": [
    "## count the neat model contents"
   ]
  },
  {
   "cell_type": "code",
   "execution_count": null,
   "id": "2b30ae0e-6569-4d87-b884-0bd6675b2dc5",
   "metadata": {},
   "outputs": [],
   "source": []
  },
  {
   "cell_type": "markdown",
   "id": "db6ea454-399f-4f2c-a020-bdbf31f06043",
   "metadata": {},
   "source": [
    "## load the enhanced models"
   ]
  },
  {
   "cell_type": "code",
   "execution_count": null,
   "id": "1fe26aa1-68a4-4bdb-b9d4-02241e5271a5",
   "metadata": {},
   "outputs": [],
   "source": []
  },
  {
   "cell_type": "markdown",
   "id": "fe4603e7-254d-49f3-800d-52865b1bc8c4",
   "metadata": {},
   "source": [
    "## count the enhanced model contents"
   ]
  },
  {
   "cell_type": "code",
   "execution_count": null,
   "id": "1f3d1c21-a061-486f-b72f-21e185dd9a56",
   "metadata": {},
   "outputs": [],
   "source": []
  }
 ],
 "metadata": {
  "kernelspec": {
   "display_name": "Python3_ModelSEED",
   "language": "python",
   "name": "python3_modelseed"
  },
  "language_info": {
   "codemirror_mode": {
    "name": "ipython",
    "version": 3
   },
   "file_extension": ".py",
   "mimetype": "text/x-python",
   "name": "python",
   "nbconvert_exporter": "python",
   "pygments_lexer": "ipython3",
   "version": "3.11.1"
  }
 },
 "nbformat": 4,
 "nbformat_minor": 5
}
