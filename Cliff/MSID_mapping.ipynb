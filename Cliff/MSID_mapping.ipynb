{
 "cells": [
  {
   "cell_type": "markdown",
   "metadata": {},
   "source": [
    "# properly translate metabolomics compounds to MSIDs"
   ]
  },
  {
   "cell_type": "code",
   "execution_count": 14,
   "metadata": {},
   "outputs": [
    {
     "data": {
      "text/plain": [
       "{\"2'-Deoxyuridine\": 'cpd00412',\n",
       " '2-Oxoglutarate': 'cpd00024',\n",
       " '2-Oxoisocaproate': 'cpd00200',\n",
       " '3-Hydroxybutyrate': 'cpd29193',\n",
       " '3-Hydroxyisovalerate': 'cpd02569',\n",
       " '3-Methyl-2-oxovalerate': 'cpd03737',\n",
       " '4-Aminobutyrate': 'cpd00281',\n",
       " 'Acetate': 'cpd00029',\n",
       " 'Acetone': 'cpd00178',\n",
       " 'Alanine': 'cpd00035',\n",
       " 'Arginine': 'cpd00051',\n",
       " 'Aspartate': 'cpd00041',\n",
       " 'Benzoate': 'cpd00153',\n",
       " 'Betaine': 'cpd00540',\n",
       " 'Dimethylamine': 'cpd00425',\n",
       " 'Ethanol': 'cpd00363',\n",
       " 'Formate': 'cpd00047',\n",
       " 'Fructose': 'cpd01184',\n",
       " 'Fumarate': 'cpd00106',\n",
       " 'Glucose': 'cpd00027',\n",
       " 'Glutamate': 'cpd00023',\n",
       " 'Glycerol': 'cpd00100',\n",
       " 'Isobutyrate': 'cpd01711',\n",
       " 'Isoleucine': 'cpd00322',\n",
       " 'Isopropanol': 'cpd01269',\n",
       " 'Isovalerate': 'cpd05178',\n",
       " 'Lactate': 'cpd00159',\n",
       " 'Leucine': 'cpd00107',\n",
       " 'Maltose': 'cpd00179',\n",
       " 'Methanol': 'cpd00116',\n",
       " 'Methionine': 'cpd00060',\n",
       " 'Methylamine': 'cpd00187',\n",
       " 'Methylguanidine': 'cpd01544',\n",
       " 'N,N-Dimethylglycine': 'cpd00756',\n",
       " 'Phenylacetate': 'cpd19069',\n",
       " 'Phenylalanine': 'cpd00066',\n",
       " 'Proline': 'cpd00129',\n",
       " 'Propionate': 'cpd00141',\n",
       " 'Propylene glycol': 'cpd00453',\n",
       " 'Pyroglutamate': 'cpd01293',\n",
       " 'Succinate': 'cpd00036',\n",
       " 'Sucrose': 'cpd00076',\n",
       " 'Thymidine': 'cpd00184',\n",
       " 'Trehalose': 'cpd00794',\n",
       " 'Trimethylamine': 'cpd00441',\n",
       " 'Tryptophan': 'cpd00065',\n",
       " 'Tyrosine': 'cpd00069',\n",
       " 'Uracil': 'cpd00092',\n",
       " 'Uridine': 'cpd00249',\n",
       " 'Valine': 'cpd00156'}"
      ]
     },
     "metadata": {},
     "output_type": "display_data"
    }
   ],
   "source": [
    "from pandas import read_excel, set_option\n",
    "from json import load\n",
    "\n",
    "set_option('display.max_rows', 500)\n",
    "\n",
    "# load files\n",
    "metabolomics_data = read_excel(\"data/NMR_to_ModelSeed.xlsx\")\n",
    "with open(\"/Users/afreiburger/Documents/CommScores/commscores/data/compoundNames.json\") as jsonIn:\n",
    "    mapping = load(jsonIn)\n",
    "# mapping.update()\n",
    "\n",
    "# map the metabolites\n",
    "custom = {\n",
    "    \"3-Hydroxybutyrate\": \"cpd29193\",\n",
    "    \"3-Hydroxyisovalerate\": \"cpd02569\",\n",
    "    \"3-Methyl-2-oxovalerate\": \"cpd03737\",\n",
    "    \"Maltose\": \"cpd00179\",\n",
    "    \"Glucose\": \"cpd00027\"\n",
    "}\n",
    "mapped = []\n",
    "for i, ele in metabolomics_data[\"Compound\"].items():\n",
    "    if ele in custom:    mapped.append(custom[ele])\n",
    "    elif f\"L-{ele}\" in mapping:  mapped.append(mapping[f\"L-{ele}\"])\n",
    "    elif f\"D-{ele}\" in mapping:  mapped.append(mapping[f\"D-{ele}\"])\n",
    "    elif ele in mapping:   mapped.append(mapping[ele])\n",
    "    else: print(ele) ; mapped.append(ele)\n",
    "metabolomics_data[\"SEED\"] = mapped\n",
    "\n",
    "metabolomics_data.to_csv(\"data/metabolomics.csv\")\n",
    "\n",
    "display(dict(zip(metabolomics_data[\"Compound\"], metabolomics_data[\"SEED\"])))\n",
    "# display(metabolomics_data)"
   ]
  },
  {
   "cell_type": "code",
   "execution_count": null,
   "metadata": {},
   "outputs": [],
   "source": []
  }
 ],
 "metadata": {
  "kernelspec": {
   "display_name": "Python 3",
   "language": "python",
   "name": "python3"
  },
  "language_info": {
   "codemirror_mode": {
    "name": "ipython",
    "version": 3
   },
   "file_extension": ".py",
   "mimetype": "text/x-python",
   "name": "python",
   "nbconvert_exporter": "python",
   "pygments_lexer": "ipython3",
   "version": "3.9.6"
  }
 },
 "nbformat": 4,
 "nbformat_minor": 2
}
