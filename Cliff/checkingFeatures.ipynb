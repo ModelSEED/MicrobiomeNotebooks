{
 "cells": [
  {
   "cell_type": "code",
   "execution_count": 2,
   "metadata": {},
   "outputs": [],
   "source": [
    "from json import load, dump\n",
    "\n",
    "with open(\"Salt_Pond_MetaGSF2_C_D2_MG_DASTool_bins_concoct_out.8.RAST.JSON\", 'r') as jsonIn:\n",
    "    rastFeatures = load(jsonIn)\n",
    "\n",
    "with open(\"Salt_Pond_MetaGSF2_C_D2_MG_DASTool_bins_concoct_out.8.glm4ec.JSON\", 'r') as jsonIn:\n",
    "    glm4ecFeatures = load(jsonIn)\n",
    "\n",
    "with open(\"Salt_Pond_MetaGSF2_C_D2_MG_DASTool_bins_concoct_out.8.RAST.JSON\", 'w') as jsonOut:\n",
    "    dump(rastFeatures, jsonOut, indent=3)\n",
    "\n",
    "with open(\"Salt_Pond_MetaGSF2_C_D2_MG_DASTool_bins_concoct_out.8.glm4ec.JSON\", 'w') as jsonOut:\n",
    "    dump(glm4ecFeatures, jsonOut, indent=3)"
   ]
  },
  {
   "cell_type": "code",
   "execution_count": 26,
   "metadata": {},
   "outputs": [
    {
     "name": "stdout",
     "output_type": "stream",
     "text": [
      "15033\n"
     ]
    }
   ],
   "source": [
    "print(sum([len(rastFeatures[\"cdss\"]), len(rastFeatures[\"features\"]), len(rastFeatures[\"mrnas\"]), len(rastFeatures[\"non_coding_features\"])]))"
   ]
  },
  {
   "cell_type": "code",
   "execution_count": 31,
   "metadata": {},
   "outputs": [
    {
     "name": "stdout",
     "output_type": "stream",
     "text": [
      "cdss 7662\n"
     ]
    },
    {
     "data": {
      "text/plain": [
       "{'dna_sequence_length': 1038,\n",
       " 'functions': ['Shufflon-specific DNA recombinase'],\n",
       " 'id': 'Salt_Pond_MetaGSF2_C_D2_MG_DASTool_bins_concoct_out.8.contigs__.RAST.CDS.1_CDS',\n",
       " 'location': [['NODE_7_length_226505_cov_8.92645', 284, '+', 1041]],\n",
       " 'md5': '69d45b2c319c782b294a5e604a8f0f96',\n",
       " 'ontology_terms': {'SSO': {'SSO:000007468': [0, 1]}},\n",
       " 'parent_gene': 'Salt_Pond_MetaGSF2_C_D2_MG_DASTool_bins_concoct_out.8.contigs__.RAST.CDS.1',\n",
       " 'parent_mrna': 'Salt_Pond_MetaGSF2_C_D2_MG_DASTool_bins_concoct_out.8.contigs__.RAST.CDS.1_mRNA',\n",
       " 'protein_md5': '69d45b2c319c782b294a5e604a8f0f96',\n",
       " 'protein_translation': 'MVRKAVDGMASIHKTKSGKWRVELFVRGKRSSGTFSTKHEAKNWAADERTRLLSEVSNGIPKRPFRDLMERYAKEVTPTKRGMEREHKMINVILRDPIAEVPLPEIASSHFGEWRERRLQKVSGSTVNREMNILSNACNIARREWGWLKDNPMTNVRRPKSSDPRTRRPTDGETEALLYCLGYDPDQPPVTQMARVGAMYLFAIETAMRAGEICGLRWEHVFDRHVHIPRTKNGSARDVPLSPQAKAIVDQVKEVTWECETVFNVDNALRDALFRKARDQAMIEDLNFHDTRREALTRLSKVYDVLELSRISGHKDLRILRDVYYAPRISDLSIKLWSEKGSASHS',\n",
       " 'protein_translation_length': 346}"
      ]
     },
     "metadata": {},
     "output_type": "display_data"
    },
    {
     "name": "stdout",
     "output_type": "stream",
     "text": [
      "contig_ids 73\n",
      "contig_lengths 73\n",
      "feature_counts 5\n",
      "features 3561\n"
     ]
    },
    {
     "data": {
      "text/plain": [
       "{'cdss': ['Salt_Pond_MetaGSF2_C_D2_MG_DASTool_bins_concoct_out.8.contigs__.RAST.CDS.3311_CDS'],\n",
       " 'dna_sequence': 'GTGGTGCTGCTCTCCGGCGGGCTGGATTCGGCCACGACGCTGGCCGTGGCCCGGGGCGAGGGCTTCCGGTGCCACGCGCTGAGCTTCCGCTACGGACAGCGCCACGACGCGGAGCTCGCGGCGGCCGCCCGGGTGGCGAAGCAGCTGGGTGCCCGGGAACACCGCGTGATGGAGATCGACCTGGCCGCCTTCGGCGGCTCGGCACTGACCGATCCCGACATCGAGGTGCCCACGGCTCCCTCCGACGGCATCCCGGTGACCTACGTCCCGGCCCGCAACACCATTTTCCTCTCGTTCGCGCTGGGCTGGGCGGAGGTGCTCGGTGCACGGGACCTGTTCATCGGGGTCAACGCGGTCGACTACTCCGGCTACCCGGACTGCCGCCCGCAGTTCATCAAGGCCTTCGAGACCCTGGCCAACCTAGCGACGCGGGCGGGCGTGGAGGGCGGCCGGTTCACGATCCATGCACCTCTGATCGACCTGTCCAAGGCCGAGATCGTGCGCCGCGGCACCGAACTGGGCGTCGACTACGCGGGAACGGTGTCCTGTTACCAGGCCGACGAGGAAGGCCGCGCCTGCGGGAGTTGCGACGCCTGCCGGCTGCGTGCCCAGGGCTTTCGCGAGGCCGGCGTGCCGGATCCGACGCGCTACCGGGGCTGA',\n",
       " 'dna_sequence_length': 660,\n",
       " 'functions': ['7-cyano-7-deazaguanine synthase (EC 6.3.4.20)'],\n",
       " 'id': 'Salt_Pond_MetaGSF2_C_D2_MG_DASTool_bins_concoct_out.8.contigs__.RAST.CDS.3311',\n",
       " 'location': [['NODE_1002_length_17759_cov_11.9656', 16773, '+', 660]],\n",
       " 'md5': '76aa106ebf52fc288691f04d9f01ae53',\n",
       " 'mrnas': ['Salt_Pond_MetaGSF2_C_D2_MG_DASTool_bins_concoct_out.8.contigs__.RAST.CDS.3311_mRNA'],\n",
       " 'ontology_terms': {'SSO': {'SSO:000000462': [0, 1, 1]}},\n",
       " 'protein_md5': '76aa106ebf52fc288691f04d9f01ae53',\n",
       " 'protein_translation': 'MVLLSGGLDSATTLAVARGEGFRCHALSFRYGQRHDAELAAAARVAKQLGAREHRVMEIDLAAFGGSALTDPDIEVPTAPSDGIPVTYVPARNTIFLSFALGWAEVLGARDLFIGVNAVDYSGYPDCRPQFIKAFETLANLATRAGVEGGRFTIHAPLIDLSKAEIVRRGTELGVDYAGTVSCYQADEEGRACGSCDACRLRAQGFREAGVPDPTRYRG',\n",
       " 'protein_translation_length': 219,\n",
       " 'quality': {'hit_count': 103,\n",
       "  'priority': 59.4343125631514,\n",
       "  'weighted_hit_count': 227},\n",
       " 'type': 'gene'}"
      ]
     },
     "metadata": {},
     "output_type": "display_data"
    },
    {
     "name": "stdout",
     "output_type": "stream",
     "text": [
      "genome_tiers 1\n",
      "mrnas 3567\n",
      "non_coding_features 243\n",
      "ontologies_present 1\n",
      "ontology_events 2\n",
      "publications 0\n",
      "taxon_assignments 1\n",
      "warnings 4\n"
     ]
    }
   ],
   "source": [
    "# print(sum(list(map(len, [v for v in rastFeatures.values() if not isinstance(v, (int, float))]))))\n",
    "rastFeatureSet = rastFeatures[\"features\"]\n",
    "# for k,v in rastFeatures.items():\n",
    "#     if isinstance(v, (list, tuple, set, dict)):\n",
    "#         print(k, len(v))\n",
    "#         if k == \"features\":\n",
    "#             display(v[0])\n",
    "#         elif k == \"cdss\":\n",
    "#             display(v[0])"
   ]
  },
  {
   "cell_type": "code",
   "execution_count": 7,
   "metadata": {},
   "outputs": [
    {
     "name": "stdout",
     "output_type": "stream",
     "text": [
      "dict_keys(['assembly_ref', 'cdss', 'dna_size', 'domain', 'feature_counts', 'features', 'gc_content', 'genetic_code', 'genome_tiers', 'genome_type', 'id', 'md5', 'molecule_type', 'mrnas', 'non_coding_features', 'num_contigs', 'ontologies_present', 'ontology_events', 'scientific_name', 'source', 'source_id', 'taxon_assignments', 'taxonomy', 'warnings'])\n",
      "7662\n",
      "3561\n",
      "7662\n",
      "7662\n"
     ]
    }
   ],
   "source": [
    "print(glm4ecFeatures.keys())\n",
    "print(len(glm4ecFeatures[\"features\"]))\n",
    "print(len(rastFeatures[\"features\"]))\n",
    "print(len(glm4ecFeatures[\"cdss\"]))\n",
    "print(len(rastFeatures[\"cdss\"]))"
   ]
  },
  {
   "cell_type": "code",
   "execution_count": 46,
   "metadata": {},
   "outputs": [
    {
     "name": "stdout",
     "output_type": "stream",
     "text": [
      "<class 'dict'>\n"
     ]
    }
   ],
   "source": [
    "from deepdiff import DeepDiff, model\n",
    "\n",
    "diff = DeepDiff(glm4ecFeatures[\"features\"], rastFeatures[\"features\"]).to_dict()\n",
    "\n",
    "print(type(diff))\n",
    "\n",
    "def custom_serializer(obj):\n",
    "    if isinstance(obj, (set, model.PrettyOrderedSet)):\n",
    "        return list(obj)\n",
    "    if isinstance(obj, type):\n",
    "        return None\n",
    "    print(obj)\n",
    "    raise TypeError(f\"Object of type {type(obj)} is not JSON serializable\")\n",
    "\n",
    "with open(\"featureDiff.json\", 'w') as jsonOut:\n",
    "    dump(diff, jsonOut, indent=3, default=custom_serializer)"
   ]
  },
  {
   "cell_type": "code",
   "execution_count": 62,
   "metadata": {},
   "outputs": [],
   "source": [
    "removedFeatures = []\n",
    "for key, item in diff[\"iterable_item_added\"].items():\n",
    "    if isinstance(item, dict):\n",
    "        # display(item)\n",
    "        # break\n",
    "        removedFeatures.append(item)\n",
    "\n",
    "with open(\"RASTremovedFeatures.json\", 'w') as jsonOut:\n",
    "    dump(removedFeatures, jsonOut, indent=3)"
   ]
  },
  {
   "cell_type": "code",
   "execution_count": 3,
   "metadata": {},
   "outputs": [
    {
     "name": "stdout",
     "output_type": "stream",
     "text": [
      "<class 'dict'>\n"
     ]
    }
   ],
   "source": [
    "from deepdiff import DeepDiff, model\n",
    "\n",
    "CDSSdiff = DeepDiff(glm4ecFeatures[\"cdss\"], rastFeatures[\"cdss\"]).to_dict()\n",
    "\n",
    "print(type(CDSSdiff))\n",
    "\n",
    "def custom_serializer(obj):\n",
    "    if isinstance(obj, (set, model.PrettyOrderedSet)):\n",
    "        return list(obj)\n",
    "    if isinstance(obj, type):\n",
    "        return None\n",
    "    print(obj)\n",
    "    raise TypeError(f\"Object of type {type(obj)} is not JSON serializable\")\n",
    "\n",
    "with open(\"cdssDiff.json\", 'w') as jsonOut:\n",
    "    dump(CDSSdiff, jsonOut, indent=3, default=custom_serializer)\n",
    "\n",
    "\n",
    "# removedFeatures = []\n",
    "# for key, item in diff[\"iterable_item_added\"].items():\n",
    "#     if isinstance(item, dict):\n",
    "#         # display(item)\n",
    "#         # break\n",
    "#         removedFeatures.append(item)\n",
    "\n",
    "# with open(\"RASTremovedFeatures.json\", 'w') as jsonOut:\n",
    "#     dump(removedFeatures, jsonOut, indent=3)"
   ]
  },
  {
   "cell_type": "code",
   "execution_count": 66,
   "metadata": {},
   "outputs": [
    {
     "data": {
      "text/plain": [
       "{'Hypothetical protein': 4095,\n",
       " 'Spore cortex synthesis protein SpoVR': 1,\n",
       " 'Potassium voltage-gated channel subfamily KQT': 1,\n",
       " 'possible potassium channel, VIC family': 1,\n",
       " 'NADH ubiquinone oxidoreductase chain A (EC 1.6.5.3)': 1,\n",
       " 'NADH-ubiquinone oxidoreductase chain B (EC 1.6.5.3)': 1,\n",
       " 'NADH-ubiquinone oxidoreductase chain C (EC 1.6.5.3)': 1,\n",
       " 'NADH-ubiquinone oxidoreductase chain D (EC 1.6.5.3)': 1}"
      ]
     },
     "metadata": {},
     "output_type": "display_data"
    }
   ],
   "source": [
    "from collections import Counter\n",
    "\n",
    "removedFunctions = []\n",
    "for feature in removedFeatures:\n",
    "    # try:\n",
    "    removedFunctions.extend([func for func in feature[\"functions\"]])\n",
    "    # except Exception as e:\n",
    "    #     print(e)\n",
    "    #     print(feature)\n",
    "    #     break\n",
    "\n",
    "display(dict(sorted(Counter(removedFunctions).items(), key=lambda item: item[1], reverse=True)))"
   ]
  }
 ],
 "metadata": {
  "kernelspec": {
   "display_name": "Python 3",
   "language": "python",
   "name": "python3"
  },
  "language_info": {
   "codemirror_mode": {
    "name": "ipython",
    "version": 3
   },
   "file_extension": ".py",
   "mimetype": "text/x-python",
   "name": "python",
   "nbconvert_exporter": "python",
   "pygments_lexer": "ipython3",
   "version": "3.9.6"
  }
 },
 "nbformat": 4,
 "nbformat_minor": 2
}
