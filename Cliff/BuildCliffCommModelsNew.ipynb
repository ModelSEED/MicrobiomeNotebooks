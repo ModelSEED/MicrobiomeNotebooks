{
 "cells": [
  {
   "cell_type": "markdown",
   "metadata": {},
   "source": [
    "# Important links\n",
    "* https://github.com/ModelSEED/MicrobiomeNotebooks.git\n",
    "* Workspace with Cliff's MAGs: https://narrative.kbase.us/narrative/155805\n",
    "* Workspace with additional redundant MAGs: https://narrative.kbase.us/narrative/163264\n",
    "* FAA of representative sequences: /scratch/fliu/data/cliff/mmseqs_ani_prob_rep_genome.faa  \n",
    "* Cluster genome mapping: /scratch/fliu/data/cliff/mmseqs_ani_prob.json  "
   ]
  },
  {
   "cell_type": "markdown",
   "metadata": {},
   "source": [
    "# Loading hit data from json file"
   ]
  },
  {
   "cell_type": "code",
   "execution_count": null,
   "metadata": {},
   "outputs": [],
   "source": [
    "%run cliffcommutil.py\n",
    "with open(\"/scratch/fliu/data/cliff/mmseqs_ani_prob.json\", 'r') as f:\n",
    "    hit_data = json.load(f)"
   ]
  },
  {
   "cell_type": "markdown",
   "metadata": {},
   "source": [
    "# Parsing hits for close genome list and establishing thresholds"
   ]
  },
  {
   "cell_type": "code",
   "execution_count": 17,
   "metadata": {},
   "outputs": [],
   "source": [
    "%run cliffcommutil.py\n",
    "mag_ani_data = {}\n",
    "mag_thresholds = {}\n",
    "mag_hit_distribution = {}\n",
    "for protein in hit_data:\n",
    "    for mag in hit_data[protein]:\n",
    "        if mag not in mag_ani_data:\n",
    "            mag_ani_data[mag] = {}\n",
    "            mag_hit_distribution[mag] = [0] * 21\n",
    "        for hit in hit_data[protein][mag]:\n",
    "            genome = hit.split(\":\")[0]\n",
    "            if hit_data[protein][mag][hit] < 100:\n",
    "                if genome not in mag_ani_data[mag]:\n",
    "                    mag_hit_distribution[mag][int(hit_data[protein][mag][hit]-80)] += 1\n",
    "                mag_ani_data[mag][genome] = hit_data[protein][mag][hit]\n",
    "util.save(\"mag_ani_data\",mag_ani_data)\n",
    "util.save(\"mag_hit_distribution\",mag_hit_distribution)\n",
    "for mag in mag_hit_distribution:\n",
    "    if mag not in mag_thresholds:\n",
    "        mag_thresholds[mag] = {\"threshold\":0,\"threshold_count\":0}\n",
    "    threshold = 0\n",
    "    threshold_count = 0\n",
    "    for i in range(21):\n",
    "        index = 20-i  \n",
    "        if mag_hit_distribution[mag][index] > 0 and (threshold == 0 or threshold == 80+index+1):\n",
    "            threshold_count += mag_hit_distribution[mag][index]\n",
    "            threshold = 80+index\n",
    "    mag_thresholds[mag][\"threshold\"] = threshold\n",
    "    mag_thresholds[mag][\"threshold_count\"] = threshold_count\n",
    "util.save(\"mag_thresholds\",mag_thresholds)"
   ]
  },
  {
   "cell_type": "markdown",
   "metadata": {},
   "source": [
    "# Identifying supplemental proteins for MAGs based on thresholds and hits"
   ]
  },
  {
   "cell_type": "code",
   "execution_count": 20,
   "metadata": {},
   "outputs": [],
   "source": [
    "%run cliffcommutil.py\n",
    "mag_protein_supplements = {}\n",
    "mag_thresholds = util.load(\"mag_thresholds\")\n",
    "for protein in hit_data:\n",
    "    for mag in hit_data[protein]:\n",
    "        best_hit = None\n",
    "        for hit in hit_data[protein][mag]:\n",
    "            (genome,gene) = hit.split(\":\")\n",
    "            if genome == \"self\":\n",
    "                best_hit = None\n",
    "                continue\n",
    "            elif best_hit is None or hit_data[protein][mag][hit] > best_hit[2]:\n",
    "                best_hit = (genome,gene,hit_data[protein][mag][hit])\n",
    "        if best_hit is not None and best_hit[2] >= mag_thresholds[mag][\"threshold\"]:\n",
    "            if mag not in mag_protein_supplements:\n",
    "                mag_protein_supplements[mag] = {}\n",
    "            mag_protein_supplements[mag][protein] = best_hit    \n",
    "util.save(\"mag_protein_supplements\",mag_protein_supplements)"
   ]
  },
  {
   "cell_type": "markdown",
   "metadata": {},
   "source": [
    "# Getting workspace IDs for MAGs"
   ]
  },
  {
   "cell_type": "code",
   "execution_count": null,
   "metadata": {},
   "outputs": [],
   "source": [
    "%run cliffcommutil.py\n",
    "mag_wsids = {}\n",
    "mag_list = []\n",
    "mags = util.msrecon.kbase_api.list_objects(155805, object_type=\"KBaseGenomes.Genome\", include_metadata=False)\n",
    "mag_list = mags\n",
    "for item in mags:\n",
    "    mag_wsids[item[1]] = item[7]\n",
    "mags = util.msrecon.kbase_api.list_objects(163264, object_type=\"KBaseGenomes.Genome\", include_metadata=False)\n",
    "for item in mags:\n",
    "    mag_wsids[item[1]] = item[7]\n",
    "util.save(\"mag_wsids\",mag_wsids)\n",
    "util.save(\"mag_list\",mag_list)"
   ]
  },
  {
   "cell_type": "markdown",
   "metadata": {},
   "source": [
    "# Loading protein sequence data"
   ]
  },
  {
   "cell_type": "code",
   "execution_count": null,
   "metadata": {},
   "outputs": [],
   "source": [
    "%run cliffcommutil.py\n",
    "from Bio import SeqIO\n",
    "protein_hash = {}\n",
    "for record in SeqIO.parse('/scratch/fliu/data/cliff/mmseqs_ani_prob_rep_genome.faa', 'fasta'):\n",
    "    protein_hash[record.id] = record.seq"
   ]
  },
  {
   "cell_type": "markdown",
   "metadata": {},
   "source": [
    "# Building genomes and assemblies"
   ]
  },
  {
   "cell_type": "code",
   "execution_count": null,
   "metadata": {},
   "outputs": [],
   "source": [
    "%run cliffcommutil.py\n",
    "mag_list = util.load(\"mag_list\")\n",
    "mag_protein_supplements = util.load(\"mag_protein_supplements\")\n",
    "for item in mag_list:\n",
    "    genome_obj = util.get_object()\n",
    "    #print assembly file\n",
    "    #add additional proteins to genome and assembly\n",
    "    if item[1] in mag_protein_supplements:\n",
    "        count = 1\n",
    "        for protein in mag_protein_supplements[item[1]]:\n",
    "            ftrid = 'pangenome_'+str(count)\n",
    "            count += 1\n",
    "            newftr = {\n",
    "                \"aliases\": [],\n",
    "                \"cdss\": [\n",
    "                    ftrid+\".CDS\"\n",
    "                ],\n",
    "                \"functions\":[\"unannotated\"],\n",
    "                \"dna_sequence\": ftr[\"dna_sequence\"],\n",
    "                \"dna_sequence_length\": len(ftr[\"dna_sequence\"]),\n",
    "                \"id\": ftrid,\n",
    "                \"location\": [\n",
    "                    [\n",
    "                        ftrid+\".contig\",\n",
    "                        1,\n",
    "                        \"+\",\n",
    "                        len(ftr[\"dna_sequence\"])\n",
    "                    ]\n",
    "                ],\n",
    "                \"md5\": dnamd5,\n",
    "                \"ontology_terms\": {},\n",
    "                \"protein_md5\": md5,\n",
    "                \"protein_translation\": ftr[\"protein_translation\"],\n",
    "                \"protein_translation_length\": len(ftr[\"protein_translation\"]),\n",
    "                \"warnings\": []\n",
    "            }\n",
    "            \n",
    "            \n",
    "            \n",
    "            \n",
    "            genome_obj[\"data\"][\"features\"].append({\n",
    "                \"id\": protein+\".supplement\",\n",
    "                \"type\": \"CDS\",\n",
    "                \"location\": [[0,1]],\n",
    "                \"qualifiers\": {\n",
    "                    \"translation\": str(protein_hash[mag_protein_supplements[item[1]][protein][1]]),\n",
    "                    \"note\": \"Supplemental protein from \"+mag_protein_supplements[item[1]][protein][0]\n",
    "                }\n",
    "            })\n",
    "            #printing the supplemental protein in the fasta file\n",
    "    #Saving assembly and MAG\n",
    "    util.save(item[1],genome_obj)"
   ]
  },
  {
   "cell_type": "markdown",
   "metadata": {},
   "source": [
    "# Loading assemblies to KBase"
   ]
  },
  {
   "cell_type": "code",
   "execution_count": 28,
   "metadata": {},
   "outputs": [
    {
     "name": "stdout",
     "output_type": "stream",
     "text": [
      "32\n"
     ]
    }
   ],
   "source": []
  },
  {
   "cell_type": "markdown",
   "metadata": {},
   "source": [
    "# Loading genomes to KBase"
   ]
  },
  {
   "cell_type": "code",
   "execution_count": null,
   "metadata": {},
   "outputs": [],
   "source": []
  },
  {
   "cell_type": "markdown",
   "metadata": {},
   "source": [
    "# Building models"
   ]
  },
  {
   "cell_type": "code",
   "execution_count": null,
   "metadata": {},
   "outputs": [],
   "source": []
  }
 ],
 "metadata": {
  "kernelspec": {
   "display_name": "base",
   "language": "python",
   "name": "python3"
  },
  "language_info": {
   "codemirror_mode": {
    "name": "ipython",
    "version": 3
   },
   "file_extension": ".py",
   "mimetype": "text/x-python",
   "name": "python",
   "nbconvert_exporter": "python",
   "pygments_lexer": "ipython3",
   "version": "3.9.13"
  },
  "orig_nbformat": 4
 },
 "nbformat": 4,
 "nbformat_minor": 2
}
