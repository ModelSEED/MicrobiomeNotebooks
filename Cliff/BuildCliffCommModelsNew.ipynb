{
 "cells": [
  {
   "cell_type": "markdown",
   "metadata": {},
   "source": [
    "# Important links\n",
    "* https://github.com/ModelSEED/MicrobiomeNotebooks.git\n",
    "* Workspace with Cliff's MAGs: https://narrative.kbase.us/narrative/186678 (https://narrative.kbase.us/narrative/155805)\n",
    "* The pangenome enhanced MAGs, annotated with RAST, GLM4EC and DRAM are here: https://narrative.kbase.us/narrative/187040\n",
    "# * Workspace with additional redundant MAGs: https://narrative.kbase.us/narrative/163264\n",
    "* FAA of representative sequences: /scratch/fliu/data/cliff/mmseqs_ani_prob_rep_genome.faa  \n",
    "* Cluster genome mapping: /scratch/fliu/data/cliff/mmseqs_ani_prob_v2.json  |  /scratch1/fliu/hub_scratch/fliu/data/cliff/mmseqs_ani_prob_v2.json"
   ]
  },
  {
   "cell_type": "code",
   "execution_count": null,
   "metadata": {},
   "outputs": [],
   "source": [
    "mag_ws = 186678\n",
    "pangenome_mag_ws = 187040\n",
    "prob_mapping = \"/scratch/fliu/data/cliff/mmseqs_ani_prob_v2.json\"\n",
    "prob_rep_mapping = \"/scratch/fliu/data/cliff/mmseqs_ani_prob_rep_genome_v2.faa\""
   ]
  },
  {
   "cell_type": "markdown",
   "metadata": {},
   "source": [
    "# Loading hit data from json file"
   ]
  },
  {
   "cell_type": "code",
   "execution_count": null,
   "metadata": {},
   "outputs": [],
   "source": [
    "%run cliffcommutil.py\n",
    "with open(prob_mapping, 'r') as f:\n",
    "    hit_data = json.load(f)"
   ]
  },
  {
   "cell_type": "markdown",
   "metadata": {},
   "source": [
    "# Parsing hits for close genome list and establishing thresholds"
   ]
  },
  {
   "cell_type": "code",
   "execution_count": 17,
   "metadata": {},
   "outputs": [],
   "source": [
    "%run cliffcommutil.py\n",
    "mag_ani_data = {}\n",
    "mag_thresholds = {}\n",
    "mag_hit_distribution = {}\n",
    "for protein in hit_data:\n",
    "    for mag in hit_data[protein]:\n",
    "        if mag not in mag_ani_data:\n",
    "            mag_ani_data[mag] = {}\n",
    "            mag_hit_distribution[mag] = [0] * 21\n",
    "        for hit in hit_data[protein][mag]:\n",
    "            genome = hit.split(\":\")[0]\n",
    "            if hit_data[protein][mag][hit] < 100:\n",
    "                if genome not in mag_ani_data[mag]:\n",
    "                    mag_hit_distribution[mag][int(hit_data[protein][mag][hit]-80)] += 1\n",
    "                mag_ani_data[mag][genome] = hit_data[protein][mag][hit]\n",
    "util.save(\"mag_ani_data\",mag_ani_data)\n",
    "util.save(\"mag_hit_distribution\",mag_hit_distribution)\n",
    "for mag in mag_hit_distribution:\n",
    "    if mag not in mag_thresholds:\n",
    "        mag_thresholds[mag] = {\"threshold\":0,\"threshold_count\":0}\n",
    "    threshold = 0\n",
    "    threshold_count = 0\n",
    "    for i in range(21):\n",
    "        index = 20-i  \n",
    "        if mag_hit_distribution[mag][index] > 0 and (threshold == 0 or threshold == 80+index+1):\n",
    "            threshold_count += mag_hit_distribution[mag][index]\n",
    "            threshold = 80+index\n",
    "    mag_thresholds[mag][\"threshold\"] = threshold\n",
    "    mag_thresholds[mag][\"threshold_count\"] = threshold_count\n",
    "util.save(\"mag_thresholds\",mag_thresholds)"
   ]
  },
  {
   "cell_type": "markdown",
   "metadata": {},
   "source": [
    "# Identifying supplemental proteins for MAGs based on thresholds and hits"
   ]
  },
  {
   "cell_type": "code",
   "execution_count": 20,
   "metadata": {},
   "outputs": [],
   "source": [
    "%run cliffcommutil.py\n",
    "mag_protein_supplements = {}\n",
    "mag_thresholds = util.load(\"mag_thresholds\")\n",
    "for protein in hit_data:\n",
    "    for mag in hit_data[protein]:\n",
    "        best_hit = None\n",
    "        for hit in hit_data[protein][mag]:\n",
    "            (genome,gene) = hit.split(\":\")\n",
    "            if genome == \"self\":\n",
    "                best_hit = None\n",
    "                continue\n",
    "            elif best_hit is None or hit_data[protein][mag][hit] > best_hit[2]:\n",
    "                best_hit = (genome,gene,hit_data[protein][mag][hit])\n",
    "        if best_hit is not None and best_hit[2] >= mag_thresholds[mag][\"threshold\"]:\n",
    "            if mag not in mag_protein_supplements:\n",
    "                mag_protein_supplements[mag] = {}\n",
    "            mag_protein_supplements[mag][protein] = best_hit    \n",
    "util.save(\"mag_protein_supplements\",mag_protein_supplements)"
   ]
  },
  {
   "cell_type": "markdown",
   "metadata": {},
   "source": [
    "# Getting workspace IDs for MAGs"
   ]
  },
  {
   "cell_type": "code",
   "execution_count": null,
   "metadata": {},
   "outputs": [],
   "source": [
    "%run cliffcommutil.py\n",
    "mag_wsids = {}\n",
    "mags = util.msrecon.kbase_api.list_objects(mag_ws, object_type=\"KBaseGenomes.Genome\", include_metadata=False)\n",
    "for item in mags:\n",
    "    mag_wsids[item[1]] = item[7]\n",
    "util.save(\"mag_wsids\",mag_wsids)\n",
    "util.save(\"mag_list\",mags)"
   ]
  },
  {
   "cell_type": "markdown",
   "metadata": {},
   "source": [
    "# Loading protein sequence data"
   ]
  },
  {
   "cell_type": "code",
   "execution_count": null,
   "metadata": {},
   "outputs": [],
   "source": [
    "%run cliffcommutil.py\n",
    "from Bio import SeqIO\n",
    "protein_hash = {}\n",
    "for record in SeqIO.parse(prob_rep_mapping, 'fasta'):\n",
    "    protein_hash[record.id] = record.seq"
   ]
  },
  {
   "cell_type": "markdown",
   "metadata": {},
   "source": [
    "# Building genomes and assemblies"
   ]
  },
  {
   "cell_type": "code",
   "execution_count": null,
   "metadata": {},
   "outputs": [],
   "source": [
    "%run cliffcommutil.py\n",
    "mag_list = util.load(\"mag_list\")\n",
    "mag_protein_supplements = util.load(\"mag_protein_supplements\")\n",
    "for item in mag_list:\n",
    "    genome_obj = util.get_object()\n",
    "    firstgene = genome_obj[\"features\"][0]\n",
    "    #print assembly file\n",
    "    #add additional proteins to genome and assembly\n",
    "    if item[1] in mag_protein_supplements:\n",
    "        count = 1\n",
    "        for protein in mag_protein_supplements[item[1]]:\n",
    "            ftrid = 'pangenome_'+str(count)\n",
    "            count += 1\n",
    "            protseq = protein_hash[protein]\n",
    "            #TODO why scrub the dictionary through MD5?\n",
    "            dnaseq = util.translate_protein_to_gene(protseq)\n",
    "            result = hashlib.md5(protseq.encode())\n",
    "            md5 = result.hexdigest()\n",
    "            result = hashlib.md5(dnaseq.encode())\n",
    "            dnamd5 = result.hexdigest()\n",
    "            newftr = {\n",
    "                \"aliases\": [protein],\n",
    "                \"cdss\": [\n",
    "                    ftrid+\".CDS\"\n",
    "                ],\n",
    "                \"functions\":[\"Hypothetical protein\"],\n",
    "                \"dna_sequence\": dnaseq,\n",
    "                \"dna_sequence_length\": 3*len(protseq),\n",
    "                \"id\": ftrid,\n",
    "                \"location\": [\n",
    "                    [\n",
    "                        firstgene[\"location\"][0][0],\n",
    "                        1,\n",
    "                        \"+\",\n",
    "                        3*len(protseq)\n",
    "                    ]\n",
    "                ],\n",
    "                \"md5\": dnamd5,\n",
    "                \"ontology_terms\": {},\n",
    "                \"protein_md5\": md5,\n",
    "                \"protein_translation\": protseq,\n",
    "                \"protein_translation_length\": len(protseq),\n",
    "                \"warnings\": []\n",
    "            }\n",
    "            cdsftr = newftr.copy()\n",
    "            del cdsftr[\"cdss\"]\n",
    "            cdsftr[\"id\"] = ftrid+\".CDS\"\n",
    "            cdsftr[\"parent_gene\"] = ftrid\n",
    "            genome_obj[\"features\"].append(newftr)\n",
    "            genome_obj[\"cdss\"].append(cdsftr)\n",
    "    #Saving MAG\n",
    "    util.save(item[1],genome_obj)"
   ]
  },
  {
   "cell_type": "markdown",
   "metadata": {},
   "source": [
    "# Loading genomes to KBase"
   ]
  },
  {
   "cell_type": "code",
   "execution_count": null,
   "metadata": {},
   "outputs": [],
   "source": [
    "#Loading clade genome assemblies to KBase using SDK callbacks\n",
    "import shutil\n",
    "util.sdk_dir_perms()\n",
    "afu = util.afu_client()\n",
    "asvset_genomes = util.load(\"asvset_genomes\")\n",
    "asvset_names = util.load(\"asvset_names\")\n",
    "for asvset in asvset_genomes:\n",
    "    asvname = asvset_names[asvset]\n",
    "    shutil.copy2(\"Assemblies/\"+asvname+\".fasta\", '/scratch/shared/sdkmount/kb_sdk_home/run_local/workdir/tmp/'+asvname+\".fasta\")\n",
    "    params = {\n",
    "        'file': {\n",
    "            'path': '/kb/module/work/tmp/'+asvname+\".fasta\"\n",
    "        },\n",
    "        'workspace_id': 181152,\n",
    "        'assembly_name': asvname+\".assembly\"\n",
    "    }\n",
    "    result = afu.save_assembly_from_fasta2(params)"
   ]
  },
  {
   "cell_type": "markdown",
   "metadata": {},
   "source": [
    "# Building models"
   ]
  },
  {
   "cell_type": "code",
   "execution_count": null,
   "metadata": {},
   "outputs": [],
   "source": []
  }
 ],
 "metadata": {
  "kernelspec": {
   "display_name": "Python (venv)",
   "language": "python",
   "name": "venv"
  },
  "language_info": {
   "codemirror_mode": {
    "name": "ipython",
    "version": 3
   },
   "file_extension": ".py",
   "mimetype": "text/x-python",
   "name": "python",
   "nbconvert_exporter": "python",
   "pygments_lexer": "ipython3",
   "version": "3.12.3"
  },
  "orig_nbformat": 4
 },
 "nbformat": 4,
 "nbformat_minor": 2
}
