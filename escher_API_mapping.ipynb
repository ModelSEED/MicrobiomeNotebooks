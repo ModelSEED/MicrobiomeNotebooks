{
 "cells": [
  {
   "cell_type": "code",
   "execution_count": 27,
   "metadata": {},
   "outputs": [
    {
     "name": "stdout",
     "output_type": "stream",
     "text": [
      "{'0': {'name': 'diphosphate phosphohydrolase', 'bigg_id': 'rxn00001_1', 'reversibility': False, 'label_x': -642.8153489006918, 'label_y': 103.11225355934926, 'gene_reaction_rule': '', 'genes': [], 'metabolites': [{'bigg_id': 'cpd00012', 'coefficient': -1}, {'bigg_id': 'cpd00067', 'coefficient': 1}, {'bigg_id': 'cpd00001', 'coefficient': -1}, {'bigg_id': 'cpd00009', 'coefficient': 2}], 'segments': {'0': {'from_node_id': '1', 'to_node_id': '2', 'b1': None, 'b2': None}, '1': {'from_node_id': '3', 'to_node_id': '2', 'b1': None, 'b2': None}, '2': {'from_node_id': '1', 'to_node_id': '0', 'b1': {'x': -638.8122011531899, 'y': 126.74002323747482}, 'b2': {'x': -693.0594201712433, 'y': 127.28932170583562}}, '3': {'from_node_id': '3', 'to_node_id': '4', 'b1': {'x': -514.8185576833539, 'y': 125.48448388122324}, 'b2': {'x': -460.57133866530046, 'y': 124.93518541286244}}, '4': {'from_node_id': '1', 'to_node_id': '5', 'b1': {'x': -642.8119961038293, 'y': 126.78052450703285}, 'b2': {'x': -647.8794712635404, 'y': 144.8327597012044}}, '5': {'from_node_id': '3', 'to_node_id': '6', 'b1': {'x': -510.81876273271337, 'y': 125.44398261166657}, 'b2': {'x': -505.3867761469945, 'y': 143.38990197325234}}}}, '1': {'name': 'pyruvate:pyruvate acetaldehydetransferase (decarboxylating)', 'bigg_id': 'rxn00003_1', 'reversibility': False, 'label_x': 173.1140803891691, 'label_y': 103.14294238935321, 'gene_reaction_rule': '', 'genes': [], 'metabolites': [{'bigg_id': 'cpd00011', 'coefficient': -1}, {'bigg_id': 'cpd00067', 'coefficient': 1}, {'bigg_id': 'cpd00020', 'coefficient': 2}, {'bigg_id': 'cpd00668', 'coefficient': -1}], 'segments': {'6': {'from_node_id': '8', 'to_node_id': '9', 'b1': None, 'b2': None}, '7': {'from_node_id': '10', 'to_node_id': '9', 'b1': None, 'b2': None}, '8': {'from_node_id': '8', 'to_node_id': '7', 'b1': {'x': 180.11516853562, 'y': 120.51026918642765}, 'b2': {'x': 125.86612066376483, 'y': 120.83168013386779}}, '9': {'from_node_id': '10', 'to_node_id': '11', 'b1': {'x': 304.1129922427184, 'y': 119.77561559227883}, 'b2': {'x': 358.3620401145738, 'y': 119.45420464483874}}, '10': {'from_node_id': '10', 'to_node_id': '12', 'b1': {'x': 308.1129220397215, 'y': 119.75191708924183}, 'b2': {'x': 313.46947316195497, 'y': 137.72049689051994}}, '11': {'from_node_id': '8', 'to_node_id': '13', 'b1': {'x': 176.11523873861654, 'y': 120.53396768946516}, 'b2': {'x': 170.97197414371703, 'y': 138.56475606121512}}}}, '2': {'name': 'urea-1-carboxylate amidohydrolase', 'bigg_id': 'rxn00002_1', 'reversibility': False, 'label_x': -658.8974337297191, 'label_y': 496.6036715513169, 'gene_reaction_rule': '', 'genes': [], 'metabolites': [{'bigg_id': 'cpd00742', 'coefficient': -1}, {'bigg_id': 'cpd00011', 'coefficient': 2}, {'bigg_id': 'cpd00013', 'coefficient': 2}, {'bigg_id': 'cpd00067', 'coefficient': -3}, {'bigg_id': 'cpd00001', 'coefficient': -1}], 'segments': {'12': {'from_node_id': '15', 'to_node_id': '16', 'b1': None, 'b2': None}, '13': {'from_node_id': '17', 'to_node_id': '16', 'b1': None, 'b2': None}, '14': {'from_node_id': '15', 'to_node_id': '14', 'b1': {'x': -678.894041112658, 'y': 523.2522341309357}, 'b2': {'x': -733.1410725727296, 'y': 523.8197530909831}}, '15': {'from_node_id': '17', 'to_node_id': '18', 'b1': {'x': -554.9008263467804, 'y': 521.9550479365413}, 'b2': {'x': -500.6537948867092, 'y': 521.3875289764933}}, '16': {'from_node_id': '17', 'to_node_id': '19', 'b1': {'x': -550.9010452253003, 'y': 521.9132032205931}, 'b2': {'x': -545.4630312815907, 'y': 539.8572970775705}}, '17': {'from_node_id': '15', 'to_node_id': '20', 'b1': {'x': -682.8938222341378, 'y': 523.294078846884}, 'b2': {'x': -688.3318361778472, 'y': 505.34998498990603}}, '18': {'from_node_id': '15', 'to_node_id': '21', 'b1': {'x': -682.8938222341378, 'y': 523.294078846884}, 'b2': {'x': -687.9552337343134, 'y': 541.3480150832258}}}}}\n",
      "[-642.8153489006918, 173.1140803891691] [103.11225355934926, 496.6036715513169]\n",
      "name diphosphate phosphohydrolase\n",
      "bigg_id rxn00001_1\n",
      "reversibility False\n",
      "label_x -642.8153489006918\n",
      "label_y 103.11225355934926\n",
      "gene_reaction_rule \n",
      "genes []\n",
      "metabolites [{'bigg_id': 'cpd00012', 'coefficient': -1}, {'bigg_id': 'cpd00067', 'coefficient': 1}, {'bigg_id': 'cpd00001', 'coefficient': -1}, {'bigg_id': 'cpd00009', 'coefficient': 2}]\n",
      "segments {'0': {'from_node_id': '1', 'to_node_id': '2', 'b1': None, 'b2': None}, '1': {'from_node_id': '3', 'to_node_id': '2', 'b1': None, 'b2': None}, '2': {'from_node_id': '1', 'to_node_id': '0', 'b1': {'x': -638.8122011531899, 'y': 126.74002323747482}, 'b2': {'x': -693.0594201712433, 'y': 127.28932170583562}}, '3': {'from_node_id': '3', 'to_node_id': '4', 'b1': {'x': -514.8185576833539, 'y': 125.48448388122324}, 'b2': {'x': -460.57133866530046, 'y': 124.93518541286244}}, '4': {'from_node_id': '1', 'to_node_id': '5', 'b1': {'x': -642.8119961038293, 'y': 126.78052450703285}, 'b2': {'x': -647.8794712635404, 'y': 144.8327597012044}}, '5': {'from_node_id': '3', 'to_node_id': '6', 'b1': {'x': -510.81876273271337, 'y': 125.44398261166657}, 'b2': {'x': -505.3867761469945, 'y': 143.38990197325234}}}\n",
      "name pyruvate:pyruvate acetaldehydetransferase (decarboxylating)\n",
      "bigg_id rxn00003_1\n",
      "reversibility False\n",
      "label_x 173.1140803891691\n",
      "label_y 103.14294238935321\n",
      "gene_reaction_rule \n",
      "genes []\n",
      "metabolites [{'bigg_id': 'cpd00011', 'coefficient': -1}, {'bigg_id': 'cpd00067', 'coefficient': 1}, {'bigg_id': 'cpd00020', 'coefficient': 2}, {'bigg_id': 'cpd00668', 'coefficient': -1}]\n",
      "segments {'6': {'from_node_id': '8', 'to_node_id': '9', 'b1': None, 'b2': None}, '7': {'from_node_id': '10', 'to_node_id': '9', 'b1': None, 'b2': None}, '8': {'from_node_id': '8', 'to_node_id': '7', 'b1': {'x': 180.11516853562, 'y': 120.51026918642765}, 'b2': {'x': 125.86612066376483, 'y': 120.83168013386779}}, '9': {'from_node_id': '10', 'to_node_id': '11', 'b1': {'x': 304.1129922427184, 'y': 119.77561559227883}, 'b2': {'x': 358.3620401145738, 'y': 119.45420464483874}}, '10': {'from_node_id': '10', 'to_node_id': '12', 'b1': {'x': 308.1129220397215, 'y': 119.75191708924183}, 'b2': {'x': 313.46947316195497, 'y': 137.72049689051994}}, '11': {'from_node_id': '8', 'to_node_id': '13', 'b1': {'x': 176.11523873861654, 'y': 120.53396768946516}, 'b2': {'x': 170.97197414371703, 'y': 138.56475606121512}}}\n",
      "name urea-1-carboxylate amidohydrolase\n",
      "bigg_id rxn00002_1\n",
      "reversibility False\n",
      "label_x -658.8974337297191\n",
      "label_y 496.6036715513169\n",
      "gene_reaction_rule \n",
      "genes []\n",
      "metabolites [{'bigg_id': 'cpd00742', 'coefficient': -1}, {'bigg_id': 'cpd00011', 'coefficient': 2}, {'bigg_id': 'cpd00013', 'coefficient': 2}, {'bigg_id': 'cpd00067', 'coefficient': -3}, {'bigg_id': 'cpd00001', 'coefficient': -1}]\n",
      "segments {'12': {'from_node_id': '15', 'to_node_id': '16', 'b1': None, 'b2': None}, '13': {'from_node_id': '17', 'to_node_id': '16', 'b1': None, 'b2': None}, '14': {'from_node_id': '15', 'to_node_id': '14', 'b1': {'x': -678.894041112658, 'y': 523.2522341309357}, 'b2': {'x': -733.1410725727296, 'y': 523.8197530909831}}, '15': {'from_node_id': '17', 'to_node_id': '18', 'b1': {'x': -554.9008263467804, 'y': 521.9550479365413}, 'b2': {'x': -500.6537948867092, 'y': 521.3875289764933}}, '16': {'from_node_id': '17', 'to_node_id': '19', 'b1': {'x': -550.9010452253003, 'y': 521.9132032205931}, 'b2': {'x': -545.4630312815907, 'y': 539.8572970775705}}, '17': {'from_node_id': '15', 'to_node_id': '20', 'b1': {'x': -682.8938222341378, 'y': 523.294078846884}, 'b2': {'x': -688.3318361778472, 'y': 505.34998498990603}}, '18': {'from_node_id': '15', 'to_node_id': '21', 'b1': {'x': -682.8938222341378, 'y': 523.294078846884}, 'b2': {'x': -687.9552337343134, 'y': 541.3480150832258}}}\n"
     ]
    }
   ],
   "source": [
    "from math import isclose\n",
    "from json import load\n",
    "\n",
    "with open(\"WesternDietMicrobiomes/escherMap.json\", \"r\") as jsonIn:    escherMap = load(jsonIn)\n",
    "\n",
    "# display(escherMap)\n",
    "\n",
    "xs, ys = [], []\n",
    "for index, lst in enumerate(escherMap):\n",
    "    for k, content in lst.items():\n",
    "        if k != \"reactions\":  continue\n",
    "        print(content)\n",
    "        for rxn, content2 in content.items():\n",
    "            if \"label_x\" not in content2:  print(content2) ; continue\n",
    "            if not any([isclose(content2[\"label_x\"], x, abs_tol=50) for x in xs]):   xs.append(content2[\"label_x\"])\n",
    "            if not any([isclose(content2[\"label_y\"], y, abs_tol=50) for y in ys]):   ys.append(content2[\"label_y\"])\n",
    "\n",
    "print(xs, ys)\n",
    "\n",
    "for index, lst in enumerate(escherMap):\n",
    "    for k, content in lst.items():\n",
    "        if k != \"reactions\":  continue\n",
    "        for rxn, content2 in content.items():\n",
    "            for x in xs:\n",
    "                if isclose(content2[\"label_x\"], x, abs_tol=50):\n",
    "                    col_index = xs.index(x)\n",
    "                    continue\n",
    "            for y in ys:\n",
    "                if isclose(content2[\"label_y\"], y, abs_tol=50):\n",
    "                    row_index = ys.index(y)\n",
    "                    continue\n",
    "            for attribute, val in content2.items():\n",
    "                if attribute == \"metabolites\":\n",
    "                    metabolite_dics = []\n",
    "                    for metabolite in val:\n",
    "                        metabolite_dic = {}\n",
    "                        for cpd_index, (k2, val2) in enumerate(val.items()):\n",
    "                            if k2 == \"bigg_id\":  metabolite_dic[k2] = f\"{val2}_{col_index}_{row_index}_{cpd_index}\"\n",
    "                            elif k2 == \"coefficient\":  metabolite_dic[k2] = val2\n",
    "                        metabolite_dics.append(metabolite_dic)\n",
    "                    escherMap[index][k][rxn][attribute] = metabolite_dics\n",
    "                if attribute == \"bigg_id\":   escherMap[index][k][rxn][attribute] = f\"{val}_{col_index}_{row_index}\"\n",
    "                # if attribute == \"metabolites\":\n",
    "                    # escherMap[index][k][rxn][attribute] = val+\n",
    "                print(attribute, val)"
   ]
  },
  {
   "cell_type": "code",
   "execution_count": null,
   "metadata": {},
   "outputs": [],
   "source": []
  }
 ],
 "metadata": {
  "kernelspec": {
   "display_name": "Python 3",
   "language": "python",
   "name": "python3"
  },
  "language_info": {
   "codemirror_mode": {
    "name": "ipython",
    "version": 3
   },
   "file_extension": ".py",
   "mimetype": "text/x-python",
   "name": "python",
   "nbconvert_exporter": "python",
   "pygments_lexer": "ipython3",
   "version": "3.9.6"
  }
 },
 "nbformat": 4,
 "nbformat_minor": 2
}
