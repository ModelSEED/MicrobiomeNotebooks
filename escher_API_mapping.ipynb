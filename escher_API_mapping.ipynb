{
 "cells": [
  {
   "cell_type": "code",
   "execution_count": 1,
   "metadata": {},
   "outputs": [],
   "source": [
    "from json import load\n",
    "\n",
    "with open(\"escher test.json\", \"r\") as jsonIn:    escherMap = load(jsonIn)"
   ]
  },
  {
   "cell_type": "code",
   "execution_count": 4,
   "metadata": {},
   "outputs": [
    {
     "data": {
      "text/plain": [
       "[{'map_name': 'new_map',\n",
       "  'map_id': 'iEObUxLIQW5n',\n",
       "  'map_description': '',\n",
       "  'homepage': 'https://escher.github.io',\n",
       "  'schema': 'https://escher.github.io/escher/jsonschema/1-0-0#'},\n",
       " {'reactions': {'0': {'name': 'thiosulfate:ferricytochrome-c oxidoreductase',\n",
       "    'bigg_id': 'rxn00023',\n",
       "    'reversibility': False,\n",
       "    'label_x': -22.999969482421875,\n",
       "    'label_y': 132.00003051757812,\n",
       "    'gene_reaction_rule': '',\n",
       "    'genes': [],\n",
       "    'metabolites': [{'bigg_id': 'cpd00268', 'coefficient': -2},\n",
       "     {'bigg_id': 'cpd01414', 'coefficient': 1},\n",
       "     {'bigg_id': 'cpd00110', 'coefficient': 2},\n",
       "     {'bigg_id': 'cpd00067', 'coefficient': 2},\n",
       "     {'bigg_id': 'cpd00109', 'coefficient': -2}],\n",
       "    'segments': {'0': {'from_node_id': '1',\n",
       "      'to_node_id': '2',\n",
       "      'b1': None,\n",
       "      'b2': None},\n",
       "     '1': {'from_node_id': '3', 'to_node_id': '2', 'b1': None, 'b2': None},\n",
       "     '2': {'from_node_id': '1',\n",
       "      'to_node_id': '0',\n",
       "      'b1': {'x': -37.999969482421875, 'y': 60.000030517578125},\n",
       "      'b2': {'x': -37.99996948242187, 'y': 5.750030517578125}},\n",
       "     '3': {'from_node_id': '3',\n",
       "      'to_node_id': '4',\n",
       "      'b1': {'x': -37.999969482421875, 'y': 184.00003051757812},\n",
       "      'b2': {'x': -37.999969482421875, 'y': 238.25003051757812}},\n",
       "     '4': {'from_node_id': '3',\n",
       "      'to_node_id': '5',\n",
       "      'b1': {'x': -37.999969482421875, 'y': 188.00003051757812},\n",
       "      'b2': {'x': -19.999969482421875, 'y': 193.25003051757812}},\n",
       "     '5': {'from_node_id': '3',\n",
       "      'to_node_id': '6',\n",
       "      'b1': {'x': -37.999969482421875, 'y': 188.00003051757812},\n",
       "      'b2': {'x': -55.999969482421875, 'y': 193.25003051757812}},\n",
       "     '6': {'from_node_id': '1',\n",
       "      'to_node_id': '7',\n",
       "      'b1': {'x': -37.999969482421875, 'y': 56.000030517578125},\n",
       "      'b2': {'x': -55.999969482421875, 'y': 50.750030517578125}}}}},\n",
       "  'nodes': {'0': {'node_type': 'metabolite',\n",
       "    'x': -37.999969482421875,\n",
       "    'y': -52.999969482421875,\n",
       "    'bigg_id': 'cpd00268',\n",
       "    'name': 'H2S2O3',\n",
       "    'label_x': -12.999969482421875,\n",
       "    'label_y': -52.999969482421875,\n",
       "    'node_is_primary': True},\n",
       "   '1': {'node_type': 'multimarker',\n",
       "    'x': -37.999969482421875,\n",
       "    'y': 102.00003051757812},\n",
       "   '2': {'node_type': 'midmarker',\n",
       "    'x': -37.999969482421875,\n",
       "    'y': 122.00003051757812},\n",
       "   '3': {'node_type': 'multimarker',\n",
       "    'x': -37.999969482421875,\n",
       "    'y': 142.00003051757812},\n",
       "   '4': {'node_type': 'metabolite',\n",
       "    'x': -37.999969482421875,\n",
       "    'y': 297.0000305175781,\n",
       "    'bigg_id': 'cpd01414',\n",
       "    'name': 'Tetrathionate',\n",
       "    'label_x': -12.999969482421875,\n",
       "    'label_y': 297.0000305175781,\n",
       "    'node_is_primary': True},\n",
       "   '5': {'node_type': 'metabolite',\n",
       "    'x': 42.000030517578125,\n",
       "    'y': 227.00003051757812,\n",
       "    'bigg_id': 'cpd00110',\n",
       "    'name': 'Cytochrome c2+',\n",
       "    'label_x': 57.000030517578125,\n",
       "    'label_y': 227.00003051757812,\n",
       "    'node_is_primary': False},\n",
       "   '6': {'node_type': 'metabolite',\n",
       "    'x': -117.99996948242188,\n",
       "    'y': 227.00003051757812,\n",
       "    'bigg_id': 'cpd00067',\n",
       "    'name': 'H+',\n",
       "    'label_x': -189.99996948242188,\n",
       "    'label_y': 257.0000305175781,\n",
       "    'node_is_primary': False},\n",
       "   '7': {'node_type': 'metabolite',\n",
       "    'x': -117.99996948242188,\n",
       "    'y': 17.000030517578125,\n",
       "    'bigg_id': 'cpd00109',\n",
       "    'name': 'Cytochrome c3+',\n",
       "    'label_x': -189.99996948242188,\n",
       "    'label_y': 47.000030517578125,\n",
       "    'node_is_primary': False}},\n",
       "  'text_labels': {},\n",
       "  'canvas': {'x': -1499, 'y': -752, 'width': 4497, 'height': 2256}}]"
      ]
     },
     "metadata": {},
     "output_type": "display_data"
    }
   ],
   "source": [
    "display(escherMap)"
   ]
  },
  {
   "cell_type": "code",
   "execution_count": null,
   "metadata": {},
   "outputs": [],
   "source": []
  }
 ],
 "metadata": {
  "kernelspec": {
   "display_name": "Python 3",
   "language": "python",
   "name": "python3"
  },
  "language_info": {
   "codemirror_mode": {
    "name": "ipython",
    "version": 3
   },
   "file_extension": ".py",
   "mimetype": "text/x-python",
   "name": "python",
   "nbconvert_exporter": "python",
   "pygments_lexer": "ipython3",
   "version": "3.9.6"
  }
 },
 "nbformat": 4,
 "nbformat_minor": 2
}
