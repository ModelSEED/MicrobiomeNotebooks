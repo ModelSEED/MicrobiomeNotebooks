{
 "cells": [
  {
   "cell_type": "markdown",
   "metadata": {},
   "source": [
    "# renaming the reactions according to columns and rows"
   ]
  },
  {
   "cell_type": "code",
   "execution_count": 34,
   "metadata": {},
   "outputs": [
    {
     "name": "stdout",
     "output_type": "stream",
     "text": [
      "{'0': {'name': 'diphosphate phosphohydrolase', 'bigg_id': 'rxn00001', 'reversibility': False, 'label_x': -642.8153489006918, 'label_y': 103.11225355934926, 'gene_reaction_rule': '', 'genes': [], 'metabolites': [{'bigg_id': 'cpd00012', 'coefficient': -1}, {'bigg_id': 'cpd00067', 'coefficient': 1}, {'bigg_id': 'cpd00001', 'coefficient': -1}, {'bigg_id': 'cpd00009', 'coefficient': 2}], 'segments': {'0': {'from_node_id': '1', 'to_node_id': '2', 'b1': None, 'b2': None}, '1': {'from_node_id': '3', 'to_node_id': '2', 'b1': None, 'b2': None}, '2': {'from_node_id': '1', 'to_node_id': '0', 'b1': {'x': -638.8122011531899, 'y': 126.74002323747482}, 'b2': {'x': -693.0594201712433, 'y': 127.28932170583562}}, '3': {'from_node_id': '3', 'to_node_id': '4', 'b1': {'x': -514.8185576833539, 'y': 125.48448388122324}, 'b2': {'x': -460.57133866530046, 'y': 124.93518541286244}}, '4': {'from_node_id': '1', 'to_node_id': '5', 'b1': {'x': -642.8119961038293, 'y': 126.78052450703285}, 'b2': {'x': -647.8794712635404, 'y': 144.8327597012044}}, '5': {'from_node_id': '3', 'to_node_id': '6', 'b1': {'x': -510.81876273271337, 'y': 125.44398261166657}, 'b2': {'x': -505.3867761469945, 'y': 143.38990197325234}}}}, '1': {'name': 'pyruvate:pyruvate acetaldehydetransferase (decarboxylating)', 'bigg_id': 'rxn00003', 'reversibility': False, 'label_x': 173.1140803891691, 'label_y': 103.14294238935321, 'gene_reaction_rule': '', 'genes': [], 'metabolites': [{'bigg_id': 'cpd00011', 'coefficient': -1}, {'bigg_id': 'cpd00067', 'coefficient': 1}, {'bigg_id': 'cpd00020', 'coefficient': 2}, {'bigg_id': 'cpd00668', 'coefficient': -1}], 'segments': {'6': {'from_node_id': '8', 'to_node_id': '9', 'b1': None, 'b2': None}, '7': {'from_node_id': '10', 'to_node_id': '9', 'b1': None, 'b2': None}, '8': {'from_node_id': '8', 'to_node_id': '7', 'b1': {'x': 180.11516853562, 'y': 120.51026918642765}, 'b2': {'x': 125.86612066376483, 'y': 120.83168013386779}}, '9': {'from_node_id': '10', 'to_node_id': '11', 'b1': {'x': 304.1129922427184, 'y': 119.77561559227883}, 'b2': {'x': 358.3620401145738, 'y': 119.45420464483874}}, '10': {'from_node_id': '10', 'to_node_id': '12', 'b1': {'x': 308.1129220397215, 'y': 119.75191708924183}, 'b2': {'x': 313.46947316195497, 'y': 137.72049689051994}}, '11': {'from_node_id': '8', 'to_node_id': '13', 'b1': {'x': 176.11523873861654, 'y': 120.53396768946516}, 'b2': {'x': 170.97197414371703, 'y': 138.56475606121512}}}}, '2': {'name': 'urea-1-carboxylate amidohydrolase', 'bigg_id': 'rxn00002', 'reversibility': False, 'label_x': -658.8974337297191, 'label_y': 496.6036715513169, 'gene_reaction_rule': '', 'genes': [], 'metabolites': [{'bigg_id': 'cpd00742', 'coefficient': -1}, {'bigg_id': 'cpd00011', 'coefficient': 2}, {'bigg_id': 'cpd00013', 'coefficient': 2}, {'bigg_id': 'cpd00067', 'coefficient': -3}, {'bigg_id': 'cpd00001', 'coefficient': -1}], 'segments': {'12': {'from_node_id': '15', 'to_node_id': '16', 'b1': None, 'b2': None}, '13': {'from_node_id': '17', 'to_node_id': '16', 'b1': None, 'b2': None}, '14': {'from_node_id': '15', 'to_node_id': '14', 'b1': {'x': -678.894041112658, 'y': 523.2522341309357}, 'b2': {'x': -733.1410725727296, 'y': 523.8197530909831}}, '15': {'from_node_id': '17', 'to_node_id': '18', 'b1': {'x': -554.9008263467804, 'y': 521.9550479365413}, 'b2': {'x': -500.6537948867092, 'y': 521.3875289764933}}, '16': {'from_node_id': '17', 'to_node_id': '19', 'b1': {'x': -550.9010452253003, 'y': 521.9132032205931}, 'b2': {'x': -545.4630312815907, 'y': 539.8572970775705}}, '17': {'from_node_id': '15', 'to_node_id': '20', 'b1': {'x': -682.8938222341378, 'y': 523.294078846884}, 'b2': {'x': -688.3318361778472, 'y': 505.34998498990603}}, '18': {'from_node_id': '15', 'to_node_id': '21', 'b1': {'x': -682.8938222341378, 'y': 523.294078846884}, 'b2': {'x': -687.9552337343134, 'y': 541.3480150832258}}}}}\n",
      "[-642.8153489006918, 173.1140803891691] [103.11225355934926, 496.6036715513169]\n",
      "[{'bigg_id': 'cpd00012_0_0_0', 'coefficient': -1}, {'bigg_id': 'cpd00067_0_0_0', 'coefficient': 1}, {'bigg_id': 'cpd00001_0_0_0', 'coefficient': -1}, {'bigg_id': 'cpd00009_0_0_0', 'coefficient': 2}]\n",
      "[{'bigg_id': 'cpd00011_1_0_0', 'coefficient': -1}, {'bigg_id': 'cpd00067_1_0_0', 'coefficient': 1}, {'bigg_id': 'cpd00020_1_0_0', 'coefficient': 2}, {'bigg_id': 'cpd00668_1_0_0', 'coefficient': -1}]\n",
      "[{'bigg_id': 'cpd00742_0_1_0', 'coefficient': -1}, {'bigg_id': 'cpd00011_0_1_0', 'coefficient': 2}, {'bigg_id': 'cpd00013_0_1_0', 'coefficient': 2}, {'bigg_id': 'cpd00067_0_1_0', 'coefficient': -3}, {'bigg_id': 'cpd00001_0_1_0', 'coefficient': -1}]\n"
     ]
    }
   ],
   "source": [
    "from math import isclose\n",
    "from json import load, dump\n",
    "\n",
    "with open(\"WesternDietMicrobiomes/escherMap.json\", \"r\") as jsonIn:    escherMap = load(jsonIn)\n",
    "\n",
    "# display(escherMap)\n",
    "\n",
    "xs, ys = [], []\n",
    "for index, lst in enumerate(escherMap):\n",
    "    for k, content in lst.items():\n",
    "        if k != \"reactions\":  continue\n",
    "        print(content)\n",
    "        for rxn, content2 in content.items():\n",
    "            if \"label_x\" not in content2:  print(content2) ; continue\n",
    "            if not any([isclose(content2[\"label_x\"], x, abs_tol=50) for x in xs]):   xs.append(content2[\"label_x\"])\n",
    "            if not any([isclose(content2[\"label_y\"], y, abs_tol=50) for y in ys]):   ys.append(content2[\"label_y\"])\n",
    "\n",
    "print(xs, ys)\n",
    "\n",
    "for index, lst in enumerate(escherMap):\n",
    "    for k, content in lst.items():\n",
    "        if k != \"reactions\":  continue\n",
    "        for rxn, content2 in content.items():\n",
    "            for x in xs:\n",
    "                if isclose(content2[\"label_x\"], x, abs_tol=50):\n",
    "                    col_index = xs.index(x)\n",
    "                    continue\n",
    "            for y in ys:\n",
    "                if isclose(content2[\"label_y\"], y, abs_tol=50):\n",
    "                    row_index = ys.index(y)\n",
    "                    continue\n",
    "            for attribute, val in content2.items():\n",
    "                if attribute == \"metabolites\":\n",
    "                    metabolite_dics = []\n",
    "                    for metabolite in val:\n",
    "                        metabolite_dic = {}\n",
    "                        for cpd_index, (k2, val2) in enumerate(metabolite.items()):\n",
    "                            if k2 == \"bigg_id\":  metabolite_dic[k2] = f\"{val2}_{col_index}_{row_index}_{cpd_index}\"\n",
    "                            elif k2 == \"coefficient\":  metabolite_dic[k2] = val2\n",
    "                        metabolite_dics.append(metabolite_dic)\n",
    "                    escherMap[index][k][rxn][attribute] = metabolite_dics\n",
    "                    print(escherMap[index][k][rxn][attribute])\n",
    "                if attribute == \"bigg_id\":   escherMap[index][k][rxn][attribute] = f\"{val}_{col_index}_{row_index}\"\n",
    "                # if attribute == \"metabolites\":\n",
    "                    # escherMap[index][k][rxn][attribute] = val+\n",
    "                # print(attribute, val)\n",
    "\n",
    "\n",
    "with open(\"WesternDietMicrobiomes/escherMap_edited.json\", \"w\") as jsonOut:    escherMap = dump(escherMap, jsonOut, indent=3)"
   ]
  },
  {
   "cell_type": "markdown",
   "metadata": {},
   "source": [
    "# duplicating reactions across a specified number of rows and columns"
   ]
  },
  {
   "cell_type": "code",
   "execution_count": 45,
   "metadata": {},
   "outputs": [
    {
     "data": {
      "text/plain": [
       "3600.0"
      ]
     },
     "execution_count": 45,
     "metadata": {},
     "output_type": "execute_result"
    }
   ],
   "source": [
    "2961.18779884681--638.8122011531899"
   ]
  },
  {
   "cell_type": "code",
   "execution_count": 13,
   "metadata": {},
   "outputs": [
    {
     "name": "stdout",
     "output_type": "stream",
     "text": [
      "800 400\n",
      "rows\n",
      "800 400\n",
      "reactions 0 dict_keys(['name', 'bigg_id', 'reversibility', 'label_x', 'label_y', 'gene_reaction_rule', 'genes', 'metabolites', 'segments'])\n",
      "[]\n",
      "[]\n",
      "[{'x': -638.8122011531899, 'y': 126.74002323747482}, {'x': -814.3927331595246, 'y': -59.37735004709407}]\n",
      "[{'x': -638.8122011531899, 'y': 126.74002323747482}, {'x': -851.7261377005402, 'y': -34.044021800023756}]\n",
      "[{'x': -638.8122011531899, 'y': 126.74002323747482}, {'x': -885.0594201712433, 'y': -96.71068973825618}]\n",
      "[{'x': -638.8122011531899, 'y': 126.74002323747482}, {'x': -983.7261377005402, 'y': -28.710679724675856}]\n",
      "[{'x': -638.8122011531899, 'y': 126.74002323747482}, {'x': -1013.0594506888215, 'y': 75.28931431485967}]\n",
      "[{'x': -638.8122011531899, 'y': 126.74002323747482}, {'x': -1030.3927941946808, 'y': 117.95597724630193}]\n",
      "[{'x': -638.8122011531899, 'y': 126.74002323747482}, {'x': -977.0594201712433, 'y': 163.28932552053288}]\n",
      "[{'x': -638.8122011531899, 'y': 126.74002323747482}, {'x': -931.7261377005402, 'y': 229.9559934587653}]\n",
      "[{'x': -638.8122011531899, 'y': 126.74002323747482}, {'x': -910.3927941946808, 'y': 267.28930644704656}]\n",
      "[{'x': -638.8122011531899, 'y': 126.74002323747482}, {'x': -851.7261377005402, 'y': 245.95597438527898}]\n",
      "[{'x': -514.8185576833539, 'y': 125.48448388122324}, {'x': -437.90465928297624, 'y': -83.0648222165321}]\n",
      "[{'x': -514.8185576833539, 'y': 125.48448388122324}, {'x': -355.2380256770192, 'y': -56.39815523197399}]\n",
      "[{'x': -514.8185576833539, 'y': 125.48448388122324}, {'x': -292.57136155348405, 'y': 2.2684945864464225}]\n",
      "[{'x': -514.8185576833539, 'y': 125.48448388122324}, {'x': -207.23802186232194, 'y': 30.268513183095592}]\n",
      "[{'x': -514.8185576833539, 'y': 125.48448388122324}, {'x': -188.57136155348405, 'y': 104.93519304225697}]\n",
      "[{'x': -514.8185576833539, 'y': 125.48448388122324}, {'x': -155.23799325209245, 'y': 154.26851365993275}]\n",
      "[{'x': -514.8185576833539, 'y': 125.48448388122324}, {'x': -177.90463639479265, 'y': 199.6018495363976}]\n",
      "[{'x': -514.8185576833539, 'y': 125.48448388122324}, {'x': -217.90468980055437, 'y': 255.60188768337025}]\n",
      "[{'x': -514.8185576833539, 'y': 125.48448388122324}, {'x': -323.23806382399187, 'y': 250.26855943629994}]\n",
      "[{'x': -514.8185576833539, 'y': 125.48448388122324}, {'x': -403.2380180476247, 'y': 283.60184190700306}]\n",
      "reactions 0 dict_keys(['name', 'bigg_id', 'reversibility', 'label_x', 'label_y', 'gene_reaction_rule', 'genes', 'metabolites', 'segments'])\n",
      "[]\n",
      "[]\n",
      "[{'x': -638.8122011531899, 'y': 926.7400232374748}, {'x': -814.3927331595246, 'y': 740.6226499529059}]\n",
      "[{'x': -638.8122011531899, 'y': 926.7400232374748}, {'x': -851.7261377005402, 'y': 765.9559781999762}]\n",
      "[{'x': -638.8122011531899, 'y': 926.7400232374748}, {'x': -885.0594201712433, 'y': 703.2893102617438}]\n",
      "[{'x': -638.8122011531899, 'y': 926.7400232374748}, {'x': -983.7261377005402, 'y': 771.2893202753241}]\n",
      "[{'x': -638.8122011531899, 'y': 926.7400232374748}, {'x': -1013.0594506888215, 'y': 875.2893143148597}]\n",
      "[{'x': -638.8122011531899, 'y': 926.7400232374748}, {'x': -1030.3927941946808, 'y': 917.9559772463019}]\n",
      "[{'x': -638.8122011531899, 'y': 926.7400232374748}, {'x': -977.0594201712433, 'y': 963.2893255205329}]\n",
      "[{'x': -638.8122011531899, 'y': 926.7400232374748}, {'x': -931.7261377005402, 'y': 1029.9559934587653}]\n",
      "[{'x': -638.8122011531899, 'y': 926.7400232374748}, {'x': -910.3927941946808, 'y': 1067.2893064470466}]\n",
      "[{'x': -638.8122011531899, 'y': 926.7400232374748}, {'x': -851.7261377005402, 'y': 1045.955974385279}]\n",
      "[{'x': -514.8185576833539, 'y': 925.4844838812232}, {'x': -437.90465928297624, 'y': 716.9351777834679}]\n",
      "[{'x': -514.8185576833539, 'y': 925.4844838812232}, {'x': -355.2380256770192, 'y': 743.601844768026}]\n",
      "[{'x': -514.8185576833539, 'y': 925.4844838812232}, {'x': -292.57136155348405, 'y': 802.2684945864464}]\n",
      "[{'x': -514.8185576833539, 'y': 925.4844838812232}, {'x': -207.23802186232194, 'y': 830.2685131830956}]\n",
      "[{'x': -514.8185576833539, 'y': 925.4844838812232}, {'x': -188.57136155348405, 'y': 904.935193042257}]\n",
      "[{'x': -514.8185576833539, 'y': 925.4844838812232}, {'x': -155.23799325209245, 'y': 954.2685136599328}]\n",
      "[{'x': -514.8185576833539, 'y': 925.4844838812232}, {'x': -177.90463639479265, 'y': 999.6018495363976}]\n",
      "[{'x': -514.8185576833539, 'y': 925.4844838812232}, {'x': -217.90468980055437, 'y': 1055.6018876833703}]\n",
      "[{'x': -514.8185576833539, 'y': 925.4844838812232}, {'x': -323.23806382399187, 'y': 1050.2685594363}]\n",
      "[{'x': -514.8185576833539, 'y': 925.4844838812232}, {'x': -403.2380180476247, 'y': 1083.601841907003}]\n"
     ]
    }
   ],
   "source": [
    "from json import load, dump\n",
    "\n",
    "def duplicate_rxn(escherJSON_path, rows=None, columns=None, row_step_size=800, col_step_size=400):\n",
    "    assert rows is not None or columns is not None, \"What are you doing?\"\n",
    "\n",
    "    with open(escherJSON_path, \"r\") as jsonIn:  escherMap = load(jsonIn)\n",
    "\n",
    "    print(row_step_size, col_step_size)\n",
    "\n",
    "    width, height = [rows*row_step_size+200, columns*col_step_size+200]\n",
    "    new_JSON = {}\n",
    "    for index, lst in enumerate(escherMap):\n",
    "        for k, content in lst.items():\n",
    "            # define proper boundaries of the Map to fit the reactions\n",
    "            if k == \"canvas\":\n",
    "                content[\"width\"], content[\"height\"] = width, height\n",
    "                new_JSON.update(content)\n",
    "            # update the metabolite nodes\n",
    "            elif k == \"nodes\":\n",
    "                new_mets = {}\n",
    "                for metNum, content3 in content.items():\n",
    "                    for row_index in range(1, rows):\n",
    "                        nextRxn = str(row_index)\n",
    "                        ### rename the node for this reaction\n",
    "                        new_mets[f\"{nextRxn}{metNum}\"] = content3\n",
    "                        ### translating the node locations\n",
    "                        if new_mets[f\"{nextRxn}{metNum}\"][\"node_type\"] in [\"multimarker\", \"midmarker\"]:\n",
    "                            new_mets[f\"{nextRxn}{metNum}\"][\"y\"] += row_step_size*row_index\n",
    "                        elif new_mets[f\"{nextRxn}{metNum}\"][\"node_type\"] == \"metabolite\":\n",
    "                            new_mets[f\"{nextRxn}{metNum}\"][\"y\"] += row_step_size*row_index\n",
    "                            new_mets[f\"{nextRxn}{metNum}\"][\"label_y\"] += row_step_size*row_index\n",
    "                            ID_content = new_mets[f\"{nextRxn}{metNum}\"][\"bigg_id\"].split(\"_\")\n",
    "                            new_mets[f\"{nextRxn}{metNum}\"][\"bigg_id\"] = f\"{ID_content[0]}_{colNum}_{rowNum}_{index}\"\n",
    "                new_JSON.update(new_mets)\n",
    "            elif k == \"reactions\":\n",
    "                # row development\n",
    "                print(\"rows\")\n",
    "                print(row_step_size, col_step_size)\n",
    "                updated_reactions = {}\n",
    "                if rows is not None:\n",
    "                    row_reactions = {k:v for k,v in content.items()}\n",
    "                    for row_index in range(1, rows):\n",
    "                        for rxnNum, content2 in content.items():\n",
    "                            nextRxn = str(int(rxnNum)+1)\n",
    "                            ## define the content of this reaction\n",
    "                            new_content = {k:v for k,v in content2.items()}\n",
    "                            ## translate the label\n",
    "                            new_content[\"label_y\"] += row_step_size*row_index\n",
    "                            ## rename the reaction according to its new translation\n",
    "                            rxnName_content = new_content[\"bigg_id\"].split(\"_\")\n",
    "                            colNum, rowNum = rxnName_content[1], rxnName_content[2]\n",
    "                            new_content[\"bigg_id\"] = f\"{rxnName_content[0]}_{colNum}_{str(int(rowNum)+1)}\"\n",
    "                            ## rename the metabolites\n",
    "                            print(k, rxnNum, new_content.keys())\n",
    "                            for index, metabolite in enumerate(new_content[\"metabolites\"]):\n",
    "                                ### rename the metabolites\n",
    "                                ID_content = metabolite[\"bigg_id\"].split(\"_\")\n",
    "                                metabolite[\"bigg_id\"] = f\"{ID_content[0]}_{colNum}_{rowNum}_{index}\"\n",
    "                            ## update the edge segments\n",
    "                            for num, content3 in new_content[\"segments\"].items():\n",
    "                                dictionary_values = [value for value in content3.values() if isinstance(value, dict)]\n",
    "                                print(dictionary_values)\n",
    "                                for obj, value in content3.items():\n",
    "                                    # print(list(map(len, [new_content, content3])))\n",
    "                                    if isinstance(value, dict):\n",
    "                                        # print(rxnNum, num, obj, value)\n",
    "                                        new_content[\"segments\"][num][obj][\"y\"] += row_step_size*row_index\n",
    "                                    # if isinstance(value, dict):  print(new_content[\"segments\"][num][obj])\n",
    "                            row_reactions[str(int(rxnNum)+row_index)] = new_content\n",
    "                            # print(row_reactions[str(int(rxn)+row_index)][\"segments\"][\"312\"][\"b2\"])\n",
    "                    updated_reactions.update({k:v for k,v in row_reactions.items()})\n",
    "                # print(\"columns\")\n",
    "                # print(row_step_size, col_step_size)\n",
    "                # if columns is not None:\n",
    "                #     reactions = content if rows is not None else updated_reactions\n",
    "                #     col_reactions = {}\n",
    "                #     for col_index in range(columns):\n",
    "                #         for rxnNum, content2 in reactions.items():\n",
    "                #             new_content = {k:v for k,v in content2.items()}\n",
    "                #             new_content[\"label_x\"] += col_step_size*col_index\n",
    "                #             for num, content3 in new_content[\"segments\"].items():\n",
    "                #                 for obj, value in content3.items():\n",
    "                #                     if isinstance(value, dict):  print(rxnNum, num, obj, value) ; new_content[\"segments\"][num][obj][\"x\"] += col_step_size*col_index\n",
    "                #                     if isinstance(value, dict):  print(new_content[\"segments\"][num][obj])\n",
    "                #             col_reactions[str(int(rxnNum)+col_index)] = new_content\n",
    "                #         updated_reactions.update({k:v for k,v in row_reactions.items()})\n",
    "\n",
    "                # escherMap[index][k] = updated_reactions    \n",
    "\n",
    "    with open(escherJSON_path.replace(\".json\", \"_edited.json\"), \"w\") as jsonOut:  dump(escherMap, jsonOut, indent=3)\n",
    "\n",
    "duplicate_rxn(\"WesternDietMicrobiomes/oneRXN_localized.json\", rows=3, columns=3)"
   ]
  },
  {
   "cell_type": "code",
   "execution_count": 54,
   "metadata": {},
   "outputs": [
    {
     "name": "stdout",
     "output_type": "stream",
     "text": [
      "1200.0\n",
      "1200.0\n"
     ]
    }
   ],
   "source": [
    "print(1596.7619819523752-396.7619819523753)\n",
    "print(2796.761981952375-1596.7619819523752)"
   ]
  },
  {
   "cell_type": "code",
   "execution_count": 18,
   "metadata": {},
   "outputs": [],
   "source": [
    "from json import load, dump\n",
    "\n",
    "with open(\"WesternDietMicrobiomes/oneRXN_localized.json\", \"r\") as jsonIn:\n",
    "    escherMap = load(jsonIn)\n",
    "\n",
    "with open(\"WesternDietMicrobiomes/oneRXN_localized2.json\", \"w\") as jsonOut:\n",
    "    escherMap = dump(escherMap, jsonOut, indent=3)"
   ]
  },
  {
   "cell_type": "code",
   "execution_count": null,
   "metadata": {},
   "outputs": [],
   "source": []
  }
 ],
 "metadata": {
  "kernelspec": {
   "display_name": "Python 3",
   "language": "python",
   "name": "python3"
  },
  "language_info": {
   "codemirror_mode": {
    "name": "ipython",
    "version": 3
   },
   "file_extension": ".py",
   "mimetype": "text/x-python",
   "name": "python",
   "nbconvert_exporter": "python",
   "pygments_lexer": "ipython3",
   "version": "3.9.6"
  }
 },
 "nbformat": 4,
 "nbformat_minor": 2
}
