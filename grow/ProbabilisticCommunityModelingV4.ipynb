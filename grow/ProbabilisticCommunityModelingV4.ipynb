{
 "cells": [
  {
   "cell_type": "markdown",
   "metadata": {},
   "source": [
    "# Configure KBase Jupyter Dev Environment"
   ]
  },
  {
   "cell_type": "code",
   "execution_count": 1,
   "metadata": {
    "tags": []
   },
   "outputs": [
    {
     "name": "stdout",
     "output_type": "stream",
     "text": [
      "python version 3.10.12\n",
      "KBBaseModules 0.0.1\n",
      "modelseedpy 0.3.3\n",
      "cobrakbase 0.3.1\n",
      "Output files printed to:/scratch/chenry/MicrobiomeNotebooks/grow/nboutput when using KBDevUtils.output_dir\n",
      "ModelSEED: /scratch/shared//sdkmount/kb_sdk_home/run_local/workdir/tmp/\n"
     ]
    }
   ],
   "source": [
    "%run probcommutil.py\n",
    "logger = logging.getLogger(__name__)\n",
    "logger.setLevel(logging.INFO)"
   ]
  },
  {
   "cell_type": "markdown",
   "metadata": {
    "jp-MarkdownHeadingCollapsed": true,
    "tags": []
   },
   "source": [
    "# Loading Clade Mapping Data"
   ]
  },
  {
   "cell_type": "code",
   "execution_count": 2,
   "metadata": {
    "tags": []
   },
   "outputs": [],
   "source": [
    "from pandas import read_excel\n",
    "mag_taxa = read_excel(\"MAGs_toKBase_formodels.xlsx\")\n",
    "genera_to_track = [\"Planktophila\", \"Methylopumilus\", \"Polynucleobacter\", \"Pirellula_B\", \"UBA3064\", \"UBA954\"]\n",
    "clade_mag_mapping = {\"other\":[]}\n",
    "for index, row in mag_taxa.iterrows():\n",
    "    if not isinstance(row[\"classification\"], str):  continue\n",
    "    found = False\n",
    "    for genus in genera_to_track:\n",
    "        if genus not in clade_mag_mapping:\n",
    "            clade_mag_mapping[genus] = []\n",
    "        if genus in row[\"classification\"]:\n",
    "            clade_mag_mapping[genus].append(row[\"user_genome\"])\n",
    "            found = True\n",
    "            break\n",
    "    if not found:\n",
    "        clade_mag_mapping[\"other\"].append(row[\"user_genome\"])\n",
    "util.kbdevutil.save(\"clade_mag_mapping\", clade_mag_mapping)\n"
   ]
  },
  {
   "cell_type": "markdown",
   "metadata": {
    "jp-MarkdownHeadingCollapsed": true,
    "tags": []
   },
   "source": [
    "# Pulling genomes and getting functions hash from all genomes"
   ]
  },
  {
   "cell_type": "code",
   "execution_count": 14,
   "metadata": {
    "tags": []
   },
   "outputs": [
    {
     "name": "stdout",
     "output_type": "stream",
     "text": [
      "All 3825\n",
      "Primary 2093\n"
     ]
    }
   ],
   "source": [
    "clade_mag_mapping = util.kbdevutil.load(\"clade_mag_mapping\")\n",
    "mag_list = {}\n",
    "mag_refs = {}\n",
    "primary_mags = util.msrecon.kbase_api.list_objects(106947, object_type=\"KBaseGenomes.Genome\")\n",
    "for mag in primary_mags:\n",
    "    if mag[1][-5:] == \".RAST\":\n",
    "        name = mag[1][0:-5]\n",
    "        mag_refs[name] = mag\n",
    "        mag_list[name] = \"primary\"\n",
    "other_mags = util.msrecon.kbase_api.list_objects(145226, object_type=\"KBaseGenomes.Genome\")\n",
    "for mag in other_mags:\n",
    "    if mag[1][-5:] == \".RAST\":\n",
    "        name = mag[1][0:-5]\n",
    "        if name not in mag_refs:\n",
    "            mag_refs[name] = mag\n",
    "            mag_list[name] = \"secondary\"\n",
    "#Checking if mag is missing\n",
    "allcount = 0\n",
    "primcount = 0\n",
    "for clade in clade_mag_mapping:\n",
    "    for mag in clade_mag_mapping[clade]:\n",
    "        allcount += 1\n",
    "        newmag = mag.replace(\".\",\"_\")+\"_mag\"\n",
    "        if newmag in mag_refs:\n",
    "            primcount += 1\n",
    "            mag_refs[mag] = mag_refs[newmag]\n",
    "        elif mag not in mag_refs:\n",
    "            print(\"Missing mag: \", mag)\n",
    "util.kbdevutil.save(\"mag_refs\", mag_refs)\n",
    "util.kbdevutil.save(\"mag_list\", mag_list)\n",
    "print(\"All\",allcount)\n",
    "print(\"Primary\",primcount)"
   ]
  },
  {
   "cell_type": "markdown",
   "metadata": {
    "jp-MarkdownHeadingCollapsed": true,
    "tags": []
   },
   "source": [
    "# Creating clade genomes and computing function probabilities"
   ]
  },
  {
   "cell_type": "code",
   "execution_count": 15,
   "metadata": {
    "tags": []
   },
   "outputs": [],
   "source": [
    "#Downloading genomes for each mag to make clade genome construction faster\n",
    "clade_mag_mapping = util.kbdevutil.load(\"clade_mag_mapping\")\n",
    "mag_refs = util.kbdevutil.load(\"mag_refs\")\n",
    "for clade in clade_mag_mapping:\n",
    "    for mag in clade_mag_mapping[clade]:\n",
    "        if mag in mag_refs:\n",
    "            ref = mag_refs[mag]\n",
    "            genome = util.msrecon.kbase_api.get_object(ref[1],ref[6])\n",
    "            util.kbdevutil.save(mag,genome)"
   ]
  },
  {
   "cell_type": "code",
   "execution_count": 16,
   "metadata": {
    "tags": []
   },
   "outputs": [],
   "source": [
    "#Now building clade genome objects and saving to file (will be loaded to KBase)\n",
    "from cobrakbase.core.kbasegenome.genome import KBaseGenome\n",
    "clade_mag_mapping = util.kbdevutil.load(\"clade_mag_mapping\")\n",
    "mag_refs = util.kbdevutil.load(\"mag_refs\")\n",
    "functions = {}\n",
    "features = {}\n",
    "feature_aliases = {}\n",
    "feature_probabilities = {}\n",
    "for clade in clade_mag_mapping:\n",
    "    #Loading template genome\n",
    "    with open(\"TemplateGenome.json\", 'r') as f:\n",
    "        template_genome = json.load(f)\n",
    "    #Setting metadata\n",
    "    template_genome[\"dna_size\"] = 0\n",
    "    template_genome[\"gc_content\"] = 0.5\n",
    "    template_genome[\"id\"] = \"GROW_\"+clade\n",
    "    template_genome[\"contig_ids\"] = []\n",
    "    template_genome[\"contig_lengths\"] = []\n",
    "    template_genome[\"num_contigs\"] = 0\n",
    "    template_genome[\"ontologies_present\"] = {}\n",
    "    template_genome[\"ontology_events\"] = []\n",
    "    template_genome[\"source\"] = \"GROW\"\n",
    "    template_genome[\"warnings\"] = [\"Artificial genome created to support clade modeling\"]\n",
    "    template_genome[\"features\"] = []\n",
    "    template_genome[\"cdss\"] = []\n",
    "    template_genome[\"source_id\"] = \"GROW\"\n",
    "    template_genome[\"molecule_type\"] = \"CladeGenome\"\n",
    "    template_genome[\"domain\"] = \"Bacteria\"\n",
    "    md5_list = []\n",
    "    if clade not in functions:\n",
    "        functions[clade] = {}\n",
    "    for mag in clade_mag_mapping[clade]:\n",
    "        if mag in mag_refs:\n",
    "            ref = mag_refs[mag]\n",
    "            genome = util.kbdevutil.load(mag)\n",
    "            genome_functions = {}\n",
    "            for ftr in genome[\"features\"]:\n",
    "                if \"functions\" in ftr:\n",
    "                    for function in ftr[\"functions\"]:\n",
    "                        if function not in functions[clade]:\n",
    "                            ftrid = clade+\"_\"+str(len(template_genome[\"contig_ids\"])+1)\n",
    "                            template_genome[\"contig_ids\"].append(ftrid+\".contig\")\n",
    "                            template_genome[\"contig_lengths\"].append(len(ftr[\"dna_sequence\"]))\n",
    "                            template_genome[\"num_contigs\"] += 1\n",
    "                            template_genome[\"dna_size\"] += len(ftr[\"dna_sequence\"])\n",
    "                            result = hashlib.md5(ftr[\"protein_translation\"].encode())\n",
    "                            md5 = result.hexdigest()\n",
    "                            result = hashlib.md5(ftr[\"dna_sequence\"].encode())\n",
    "                            dnamd5 = result.hexdigest()\n",
    "                            md5_list.append(md5)\n",
    "                            functions[clade][function] = {\"ftrid\":ftrid, \"probability\":1}\n",
    "                            features[ftrid] = {\n",
    "                                \"aliases\": [],\n",
    "                                \"cdss\": [\n",
    "                                    ftrid+\".CDS\"\n",
    "                                ],\n",
    "                                \"functions\":[function],\n",
    "                                \"dna_sequence\": ftr[\"dna_sequence\"],\n",
    "                                \"dna_sequence_length\": len(ftr[\"dna_sequence\"]),\n",
    "                                \"id\": ftrid,\n",
    "                                \"location\": [\n",
    "                                    [\n",
    "                                        ftrid+\".contig\",\n",
    "                                        1,\n",
    "                                        \"+\",\n",
    "                                        len(ftr[\"dna_sequence\"])\n",
    "                                    ]\n",
    "                                ],\n",
    "                                \"md5\": dnamd5,\n",
    "                                \"ontology_terms\": {},\n",
    "                                \"protein_md5\": md5,\n",
    "                                \"protein_translation\": ftr[\"protein_translation\"],\n",
    "                                \"protein_translation_length\": len(ftr[\"protein_translation\"]),\n",
    "                                \"warnings\": []\n",
    "                            }\n",
    "                            cdsftr = features[ftrid].copy()\n",
    "                            cdsftr[\"id\"] = ftrid+\".CDS\"\n",
    "                            cdsftr[\"parent_gene\"] = ftrid\n",
    "                            if \"aliases\" in ftr and len(ftr[\"aliases\"]) >= 1:\n",
    "                                features[ftrid][\"aliases\"].append([\"gene\",ftr[\"aliases\"][0][1]])\n",
    "                                if ftrid not in feature_aliases:\n",
    "                                    feature_aliases[ftrid] = []\n",
    "                                feature_aliases[ftrid].append([ftr[\"aliases\"][0][1]])\n",
    "                            template_genome[\"features\"].append(features[ftrid])\n",
    "                            template_genome[\"cdss\"].append(cdsftr)\n",
    "                        elif function not in genome_functions:#Don't want to count same function twice in a genome\n",
    "                            ftrid = functions[clade][function][\"ftrid\"]\n",
    "                            functions[clade][function][\"probability\"] += 1\n",
    "                            if \"aliases\" in ftr and len(ftr[\"aliases\"]) >= 1:\n",
    "                                features[ftrid][\"aliases\"].append([\"gene\",ftr[\"aliases\"][0][1]])\n",
    "                                if ftrid not in feature_aliases:\n",
    "                                    feature_aliases[ftrid] = []\n",
    "                                feature_aliases[ftrid].append(ftr[\"aliases\"][0][1])\n",
    "                        genome_functions[function] = True\n",
    "    for func in functions[clade]:\n",
    "        functions[clade][func][\"probability\"] = functions[clade][func][\"probability\"]/len(clade_mag_mapping[clade])\n",
    "        feature_probabilities[functions[clade][func][\"ftrid\"]] = functions[clade][func][\"probability\"]\n",
    "    template_genome[\"feature_counts\"] = {\n",
    "        \"CDS\":len(template_genome[\"features\"]),\n",
    "        \"gene\":len(template_genome[\"features\"]),\n",
    "        \"non_coding_features\":0,\n",
    "        \"protein_encoding_gene\":len(template_genome[\"features\"])\n",
    "    }                    \n",
    "    md5_list.sort()\n",
    "    result = hashlib.md5(\";\".join(md5_list).encode())\n",
    "    template_genome[\"md5\"] = result.hexdigest()\n",
    "    #Writing FASTA\n",
    "    ofile = open(\"Assemblies/\"+clade+\".fasta\", \"w\")\n",
    "    for func in functions[clade]:\n",
    "        ofile.write(\">\" + functions[clade][func][\"ftrid\"] + \"\\n\" +features[functions[clade][func][\"ftrid\"]][\"dna_sequence\"] + \"\\n\")\n",
    "    ofile.close()\n",
    "    #Saving genome\n",
    "    util.kbdevutil.save(clade+\"_genome\", template_genome)\n",
    "util.kbdevutil.save(\"feature_aliases\", feature_aliases)\n",
    "util.kbdevutil.save(\"functions\", functions)\n",
    "util.kbdevutil.save(\"feature_probabilities\", feature_probabilities)"
   ]
  },
  {
   "cell_type": "markdown",
   "metadata": {
    "jp-MarkdownHeadingCollapsed": true,
    "tags": []
   },
   "source": [
    "# Loading assemblies to KBase"
   ]
  },
  {
   "cell_type": "code",
   "execution_count": 11,
   "metadata": {},
   "outputs": [],
   "source": [
    "#Loading clade genome assemblies to KBase using SDK callbacks\n",
    "afu = util.kbdevutil.afu_client()\n",
    "#UBA954.fasta\n",
    "clade_list = [\"other\",\"Planktophila\",\"Methylopumilus\",\"Polynucleobacter\",\"Pirellula_B\",\"UBA3064\"]\n",
    "for clade in clade_list:\n",
    "    params = {\n",
    "        'file': {\n",
    "            'path': '/kb/module/work/tmp/'+clade+\".fasta\"\n",
    "        },\n",
    "        'workspace_id': 174284,\n",
    "        'assembly_name': clade+\".assembly\"\n",
    "    }\n",
    "    result = afu.save_assembly_from_fasta2(params)"
   ]
  },
  {
   "cell_type": "markdown",
   "metadata": {
    "jp-MarkdownHeadingCollapsed": true,
    "tags": []
   },
   "source": [
    "# Saving genomes to KBase"
   ]
  },
  {
   "cell_type": "code",
   "execution_count": 19,
   "metadata": {},
   "outputs": [],
   "source": [
    "#Loading clade genomes to KBase using annotation API, which contains an SDK callback\n",
    "from datetime import datetime\n",
    "now = datetime.now()\n",
    "timestamp = datetime.timestamp(now)\n",
    "clade_list = [\"UBA954\",\"other\",\"Planktophila\",\"Methylopumilus\",\"Polynucleobacter\",\"Pirellula_B\",\"UBA3064\"]\n",
    "anno = util.kbdevutil.anno_client()\n",
    "anno.clients[\"GenomeFileUtil\"] = util.kbdevutil.gfu_client()\n",
    "for clade in clade_list:\n",
    "    genome = util.kbdevutil.load(clade+\"_genome\")\n",
    "    events = [{\n",
    "        \"id\": \"SSO\",\n",
    "        \"event_id\":\"RAST:SSO:\"+str(timestamp),\n",
    "        \"description\": \"RAST annotation of clade genome\",\n",
    "        \"ontology_id\": \"SSO\",\n",
    "        \"method\": \"RAST\",\n",
    "        \"method_version\": \"1.9.5\",\n",
    "        \"timestamp\": str(timestamp),\n",
    "        \"ontology_terms\": {},\n",
    "    }]\n",
    "    for ftr in genome[\"features\"]:\n",
    "        events[0][\"ontology_terms\"][ftr[\"id\"]] = [{\"term\":\"SSO:\"+ftr[\"functions\"][0]}]\n",
    "    output = anno.add_annotation_ontology_events({\n",
    "        \"output_workspace\":174284,\n",
    "        \"events\":events,\n",
    "        \"overwrite_matching\":True,\n",
    "        \"object\":genome,\n",
    "        \"type\":\"KBaseGenomes.Genome\",\n",
    "        \"output_name\":clade+\".genome\",\n",
    "        \"save\":1\n",
    "    })"
   ]
  },
  {
   "cell_type": "markdown",
   "metadata": {
    "jp-MarkdownHeadingCollapsed": true,
    "tags": []
   },
   "source": [
    "# Construct the clade models"
   ]
  },
  {
   "cell_type": "code",
   "execution_count": null,
   "metadata": {},
   "outputs": [],
   "source": [
    "#\"UBA954\",\n",
    "clade_list = [\"other\",\"Planktophila\",\"Methylopumilus\",\"Polynucleobacter\",\"Pirellula_B\",\"UBA3064\"]\n",
    "for clade in clade_list:\n",
    "    util.msrecon.build_metabolic_models({\n",
    "        \"workspace\":174284,\n",
    "        \"genome_refs\":[\"174284/\"+clade+\".genome\"],\n",
    "        \"run_gapfilling\":True,\n",
    "        \"atp_safe\":True,\n",
    "        \"forced_atp_list\":[],\n",
    "        \"gapfilling_media_list\":None,\n",
    "        \"suffix\":\".mdl\",\n",
    "        \"core_template\":\"auto\",\n",
    "        \"gs_template\":\"auto\",\n",
    "        \"gs_template_ref\":None,\n",
    "        \"core_template_ref\":None,\n",
    "        \"template_reactions_only\":True,\n",
    "        \"output_core_models\":False,\n",
    "        \"automated_atp_evaluation\":True,\n",
    "        \"atp_medias\":[],\n",
    "        \"load_default_medias\":True,\n",
    "        \"max_gapfilling\":5,\n",
    "        \"gapfilling_delta\":0,\n",
    "        \"return_model_objects\":False,\n",
    "        \"return_data\":False,\n",
    "        \"save_report_to_kbase\":False,\n",
    "        \"change_to_complete\":False,\n",
    "        \"gapfilling_mode\":\"Cumulative\",\n",
    "        \"base_media\":None,\n",
    "        \"compound_list\":None,\n",
    "        \"base_media_target_element\":\"C\"\n",
    "    })"
   ]
  },
  {
   "cell_type": "markdown",
   "metadata": {
    "jp-MarkdownHeadingCollapsed": true,
    "tags": []
   },
   "source": [
    "# Adding probabilities to clade models"
   ]
  },
  {
   "cell_type": "code",
   "execution_count": null,
   "metadata": {},
   "outputs": [],
   "source": [
    "feature_probabilities = util.kbdevutil.load(\"feature_probabilities\")\n",
    "clade_list = [\"UBA954\",\"other\",\"Planktophila\",\"Methylopumilus\",\"Polynucleobacter\",\"Pirellula_B\",\"UBA3064\"]\n",
    "for clade in clade_list:\n",
    "    mdlutl = util.msrecon.get_model(clade+\".genome.mdl\",174284)\n",
    "    for rxn in mdlutl.model.reactions:\n",
    "        highest_prob = None\n",
    "        for gene in rxn.genes:\n",
    "            if gene.id in feature_probabilities:\n",
    "                if highest_prob == None or feature_probabilities[gene.id] > highest_prob:\n",
    "                    highest_prob = feature_probabilities[gene.id]\n",
    "        if highest_prob != None:\n",
    "            rxn.probability = highest_prob\n",
    "            print(clade,rxn.id, highest_prob)\n",
    "        else:\n",
    "            print(clade,rxn.id, \"No probability\")\n",
    "    util.msrecon.save_model(mdlutl,174284,clade+\".genome.mdl\")"
   ]
  },
  {
   "cell_type": "markdown",
   "metadata": {
    "jp-MarkdownHeadingCollapsed": true,
    "tags": []
   },
   "source": [
    "# Printing genome alias translations"
   ]
  },
  {
   "cell_type": "code",
   "execution_count": 21,
   "metadata": {},
   "outputs": [],
   "source": [
    "clade_list = [\"UBA954\",\"other\",\"Planktophila\",\"Methylopumilus\",\"Polynucleobacter\",\"Pirellula_B\",\"UBA3064\"]\n",
    "grow_to_clade = {}\n",
    "for clade in clade_list:\n",
    "    genome = util.kbdevutil.load(clade+\"_genome\")\n",
    "    for ftr in genome[\"features\"]:\n",
    "        if \"aliases\" in ftr:\n",
    "            for alias in ftr[\"aliases\"]:\n",
    "                grow_to_clade[alias[1]] = [ftr[\"id\"],clade]\n",
    "util.kbdevutil.save(\"grow_to_clade\", grow_to_clade)"
   ]
  },
  {
   "cell_type": "markdown",
   "metadata": {
    "jp-MarkdownHeadingCollapsed": true,
    "tags": []
   },
   "source": [
    "# Translating abundances\n",
    "# DONE - but need to explore other coefficients of \"other\""
   ]
  },
  {
   "cell_type": "code",
   "execution_count": null,
   "metadata": {},
   "outputs": [],
   "source": [
    "clade_mag_mapping = util.kbdevutil.load(\"clade_mag_mapping\")\n",
    "mag_list = util.kbdevutil.load(\"mag_list\")\n",
    "mag_abundances = {}\n",
    "condition_list = []\n",
    "abundance = read_csv(\"MetaT/norm.counts.rpk_edger.bins_mean.csv\")\n",
    "for column_name, series in abundance.iteritems():\n",
    "    if column_name != \"rn\" and column_name != \"Unnamed: 0\":\n",
    "        condition_list.append(column_name)\n",
    "for index, row in abundance.iterrows():\n",
    "    if row[\"rn\"] in mag_list:\n",
    "        if row[\"rn\"] not in mag_abundances:\n",
    "            mag_abundances[row[\"rn\"]] = {}\n",
    "        for condition in condition_list:\n",
    "            if condition in row:\n",
    "                mag_abundances[row[\"rn\"]][condition] = row[condition]\n",
    "    else:\n",
    "        print(\"MAG in abundance mismatches other data: \", row[\"rn\"])\n",
    "#Adding up all abundances for mags in clades\n",
    "clade_abundances = {}\n",
    "for clade in clade_mag_mapping:\n",
    "    clade_abundances[clade] = {}\n",
    "    for mag in clade_mag_mapping[clade]:\n",
    "        if mag in mag_abundances:\n",
    "            for condition in mag_abundances[mag]:\n",
    "                if condition not in clade_abundances[clade]:\n",
    "                    clade_abundances[clade][condition] = 0\n",
    "                clade_abundances[clade][condition] += mag_abundances[mag][condition]\n",
    "        else:\n",
    "            print(\"MAG in clade \",clade,\" not found in abundance data:\", mag)\n",
    "    if clade == \"other\":\n",
    "        for condition in condition_list:\n",
    "            clade_abundances[clade][condition] = 0.001*clade_abundances[clade][condition]\n",
    "#Normalizing\n",
    "for condition in condition_list:\n",
    "    total = 0\n",
    "    for clade in clade_abundances:\n",
    "        total += clade_abundances[clade][condition]\n",
    "    for clade in clade_abundances:\n",
    "        clade_abundances[clade][condition] = clade_abundances[clade][condition]/total\n",
    "util.kbdevutil.save(\"condition_list\", condition_list)\n",
    "util.kbdevutil.save(\"mag_abundances\", mag_abundances)\n",
    "util.kbdevutil.save(\"clade_abundances\", clade_abundances)"
   ]
  },
  {
   "cell_type": "markdown",
   "metadata": {
    "jp-MarkdownHeadingCollapsed": true,
    "tags": []
   },
   "source": [
    "# Translating metagenome expression to clade expression"
   ]
  },
  {
   "cell_type": "code",
   "execution_count": 21,
   "metadata": {},
   "outputs": [],
   "source": [
    "condition_list = util.kbdevutil.load(\"condition_list\")\n",
    "grow_to_clade = util.kbdevutil.load(\"grow_to_clade\")\n",
    "util.extract_metaT_data(\"MetaT-20240116T195841Z-001.zip\")\n",
    "metaT = read_csv(\"MetaT/norm.counts.rpk_edger_geTMM.csv\")\n",
    "clade_list = [\"UBA954\",\"other\",\"Planktophila\",\"Methylopumilus\",\"Polynucleobacter\",\"Pirellula_B\",\"UBA3064\"]\n",
    "clade_records = {}\n",
    "feature_entries = {}\n",
    "for clade in clade_list:\n",
    "    clade_records[clade] = []\n",
    "    feature_entries[clade] = {}\n",
    "for index, row in metaT.iterrows():\n",
    "    geneid = row[\"Unnamed: 0\"]\n",
    "    if geneid in grow_to_clade:\n",
    "        clade = grow_to_clade[geneid][1]\n",
    "        ftrid = grow_to_clade[geneid][0]\n",
    "        if ftrid not in feature_entries[clade]:\n",
    "            feature_entries[clade][ftrid] = {\"id\":ftrid}\n",
    "            clade_records[clade].append(feature_entries[clade][ftrid])\n",
    "        for column_name in condition_list:\n",
    "            if column_name not in feature_entries[clade][ftrid]:\n",
    "                feature_entries[clade][ftrid][column_name] = 0\n",
    "            feature_entries[clade][ftrid][column_name] += row[column_name]\n",
    "for clade in clade_list:\n",
    "    df = DataFrame.from_records(clade_records[clade])\n",
    "    df.to_csv(\"MetaT/\"+clade+\"_expression.csv\")\n",
    "util.kbdevutil.save(\"feature_entries\", feature_entries)"
   ]
  },
  {
   "cell_type": "markdown",
   "metadata": {
    "jp-MarkdownHeadingCollapsed": true,
    "tags": []
   },
   "source": [
    "# Building and saving community model"
   ]
  },
  {
   "cell_type": "code",
   "execution_count": null,
   "metadata": {},
   "outputs": [],
   "source": [
    "import cobra\n",
    "clade_list = [\"Planktophila\",\"Methylopumilus\",\"Polynucleobacter\",\"Pirellula_B\",\"UBA3064\",\"UBA954\",\"other\"]\n",
    "member_models = []\n",
    "template_refs = []\n",
    "genome_refs = []\n",
    "for clade in clade_list:\n",
    "    model = util.msrecon.get_model(clade+\".genome.mdl\",174284)\n",
    "    template_refs.append(model.model.template_ref)\n",
    "    genome_refs.append(model.model.genome_ref)\n",
    "    member_models.append(model.model)\n",
    "comm_model = MSCommunity.build_from_species_models(\n",
    "    member_models,\n",
    "    mdlid=\"GROWCladeCommunityModel\", \n",
    "    name=\"GROWCladeCommunityModel\",\n",
    "    names=clade_list,\n",
    "    abundances=None,\n",
    "    #basemodel=base_model\n",
    ")\n",
    "#Saving probabilities\n",
    "community_rxn_probs = {}\n",
    "for rxn in comm_model.model.reactions:\n",
    "    if hasattr(rxn, \"probability\"):\n",
    "        community_rxn_probs[rxn.id] = rxn.probability\n",
    "util.kbdevutil.save(\"community_rxn_probs\", community_rxn_probs)\n",
    "cobra.io.save_json_model(comm_model.model, 'GROW_community_mdl.json')"
   ]
  },
  {
   "cell_type": "markdown",
   "metadata": {
    "jp-MarkdownHeadingCollapsed": true,
    "tags": []
   },
   "source": [
    "# Creating and saving model with abundances of each sample\\\n",
    "# DONOT RUN - ABUNDANCES NOT CACHED"
   ]
  },
  {
   "cell_type": "code",
   "execution_count": null,
   "metadata": {},
   "outputs": [],
   "source": [
    "clade_list = [\"Planktophila\",\"Methylopumilus\",\"Polynucleobacter\",\"Pirellula_B\",\"UBA3064\",\"UBA954\",\"other\"]\n",
    "clade_abundances = util.kbdevutil.load(\"clade_abundances\")\n",
    "model = util.msrecon.get_model(\"BaseCommunity.mdl\",174284)\n",
    "comm_model = MSCommunity(\n",
    "    model=model,\n",
    "    ids=clade_list,\n",
    "    abundances=None,\n",
    "    kinetic_coeff=800,\n",
    "    lp_filename=None,\n",
    "    printing=False\n",
    ")\n",
    "condition_to_community_model = {}\n",
    "for condition in condition_list:\n",
    "    abundance_hash = {}\n",
    "    for clade in clade_abundances:\n",
    "        if condition in clade_abundances[clade]:\n",
    "            abundance_hash[clade] = clade_abundances[clade][condition]\n",
    "    comm_model.set_abundance()\n",
    "    util.msrecon.save_model(comm_model,174284,condition[0:-32].\".commdl\")\n",
    "    condition_to_community_model[condition] = condition[0:-32]+\".commdl\"\n",
    "util.kbdevutil.save(\"condition_to_community_model\", condition_to_community_model)"
   ]
  },
  {
   "cell_type": "markdown",
   "metadata": {
    "jp-MarkdownHeadingCollapsed": true,
    "tags": []
   },
   "source": [
    "# Simulating community model in each condition"
   ]
  },
  {
   "cell_type": "code",
   "execution_count": 2,
   "metadata": {
    "collapsed": true,
    "jupyter": {
     "outputs_hidden": true
    },
    "tags": []
   },
   "outputs": [
    {
     "name": "stdout",
     "output_type": "stream",
     "text": [
      "Set parameter TSPort to value 27070\n"
     ]
    },
    {
     "name": "stderr",
     "output_type": "stream",
     "text": [
      "1714778403.0384483 INFO: Set parameter TSPort to value 27070\n"
     ]
    },
    {
     "name": "stdout",
     "output_type": "stream",
     "text": [
      "Set parameter TokenServer to value \"lic-vmw-01.cels.anl.gov\"\n"
     ]
    },
    {
     "name": "stderr",
     "output_type": "stream",
     "text": [
      "1714778403.0403764 INFO: Set parameter TokenServer to value \"lic-vmw-01.cels.anl.gov\"\n",
      "1714778443.0035803 INFO: Making atp hydrolysis reaction for species: Planktophila\n"
     ]
    },
    {
     "name": "stdout",
     "output_type": "stream",
     "text": [
      "bio1 {<Metabolite cpd11416_c0 at 0x7f5fdf090070>: 1, <Metabolite cpd11416_c1 at 0x7f5fdf28b790>: -0.14285714285714285, <Metabolite cpd11416_c2 at 0x7f5fdf2d89a0>: -0.14285714285714285, <Metabolite cpd11416_c3 at 0x7f5fdf3301f0>: -0.14285714285714285, <Metabolite cpd11416_c4 at 0x7f5fdf1757b0>: -0.14285714285714285, <Metabolite cpd11416_c5 at 0x7f5fdf1b7850>: -0.14285714285714285, <Metabolite cpd11416_c6 at 0x7f5fdf20e110>: -0.14285714285714285, <Metabolite cpd11416_c7 at 0x7f5fdf090040>: -0.14285714285714285}\n",
      "SK_cpd11416_c0 {<Metabolite cpd11416_c0 at 0x7f5fdf090070>: -1}\n"
     ]
    },
    {
     "name": "stderr",
     "output_type": "stream",
     "text": [
      "1714778443.4124734 INFO: Making atp hydrolysis reaction for species: Methylopumilus\n"
     ]
    },
    {
     "name": "stdout",
     "output_type": "stream",
     "text": [
      "1 Planktophila\n"
     ]
    },
    {
     "name": "stderr",
     "output_type": "stream",
     "text": [
      "1714778443.8168483 INFO: Making atp hydrolysis reaction for species: Polynucleobacter\n"
     ]
    },
    {
     "name": "stdout",
     "output_type": "stream",
     "text": [
      "2 Methylopumilus\n"
     ]
    },
    {
     "name": "stderr",
     "output_type": "stream",
     "text": [
      "1714778444.222093 INFO: Making atp hydrolysis reaction for species: Pirellula_B\n"
     ]
    },
    {
     "name": "stdout",
     "output_type": "stream",
     "text": [
      "3 Polynucleobacter\n"
     ]
    },
    {
     "name": "stderr",
     "output_type": "stream",
     "text": [
      "1714778445.2018404 INFO: Making atp hydrolysis reaction for species: UBA3064\n"
     ]
    },
    {
     "name": "stdout",
     "output_type": "stream",
     "text": [
      "4 Pirellula_B\n"
     ]
    },
    {
     "name": "stderr",
     "output_type": "stream",
     "text": [
      "1714778445.6105356 INFO: Making atp hydrolysis reaction for species: UBA954\n"
     ]
    },
    {
     "name": "stdout",
     "output_type": "stream",
     "text": [
      "5 UBA3064\n"
     ]
    },
    {
     "name": "stderr",
     "output_type": "stream",
     "text": [
      "1714778446.0155516 INFO: Making atp hydrolysis reaction for species: other\n"
     ]
    },
    {
     "name": "stdout",
     "output_type": "stream",
     "text": [
      "6 UBA954\n",
      "7 other\n",
      "Initial growth: 2.1228495230779107\n",
      "Carbon uptake: 300.0\n",
      "Initial growth: 2.765834743986493\n",
      "Carbon uptake: 300.0\n",
      "Initial growth: 2.9712917335973246\n",
      "Carbon uptake: 300.0\n",
      "Initial growth: 2.245696661586388\n",
      "Carbon uptake: 300.0\n",
      "Initial growth: 1.1459250794668405\n",
      "Carbon uptake: 300.0\n",
      "Initial growth: 1.8714481401069427\n",
      "Carbon uptake: 300.0\n",
      "Initial growth: 1.8574282086648417\n",
      "Carbon uptake: 300.0\n",
      "Initial growth: 1.2997224562904939\n",
      "Carbon uptake: 300.0\n",
      "Initial growth: 2.1473293086323393\n",
      "Carbon uptake: 300.0\n",
      "Initial growth: 1.2736325719594859\n",
      "Carbon uptake: 300.0\n",
      "Initial growth: 2.18275052335447\n",
      "Carbon uptake: 300.0\n",
      "Initial growth: 1.9963370146104007\n",
      "Carbon uptake: 300.0\n",
      "Initial growth: 1.3995720961457763\n",
      "Carbon uptake: 300.0\n",
      "Initial growth: 1.461446522323063\n",
      "Carbon uptake: 300.0\n",
      "Initial growth: 2.7379724043954923\n",
      "Carbon uptake: 300.0\n",
      "Initial growth: 1.2708151909653342\n",
      "Carbon uptake: 300.0\n",
      "Initial growth: 1.4501307745270569\n",
      "Carbon uptake: 300.0\n",
      "Initial growth: 1.671745833971991\n",
      "Carbon uptake: 300.0\n",
      "Initial growth: 1.3475796077841635\n",
      "Carbon uptake: 300.0\n",
      "Initial growth: 1.2758439228622336\n",
      "Carbon uptake: 300.0\n",
      "Initial growth: 1.5895208254609274\n",
      "Carbon uptake: 300.0\n",
      "Initial growth: 1.8239324017326972\n",
      "Carbon uptake: 300.0\n",
      "Initial growth: 1.3081827615765522\n",
      "Carbon uptake: 300.0\n",
      "Initial growth: 1.2801846013070906\n",
      "Carbon uptake: 300.0\n",
      "Initial growth: 1.309278030066459\n",
      "Carbon uptake: 300.0\n",
      "Initial growth: 1.245873837159407\n",
      "Carbon uptake: 300.0\n",
      "Initial growth: 2.7412010513812124\n",
      "Carbon uptake: 300.0\n",
      "Initial growth: 2.2006186692333443\n",
      "Carbon uptake: 300.0\n",
      "Initial growth: 1.8209119429968685\n",
      "Carbon uptake: 300.0\n",
      "Initial growth: 1.2594674576701772\n",
      "Carbon uptake: 300.0\n",
      "Initial growth: 1.313577575079418\n",
      "Carbon uptake: 300.0\n",
      "Initial growth: 1.2964809832432704\n",
      "Carbon uptake: 300.0\n",
      "Initial growth: 1.2183196912547647\n",
      "Carbon uptake: 300.0\n",
      "Initial growth: 1.9120656495541521\n",
      "Carbon uptake: 300.0\n",
      "Initial growth: 2.5819462543985576\n",
      "Carbon uptake: 300.0\n",
      "Initial growth: 1.509629375664655\n",
      "Carbon uptake: 300.0\n",
      "Initial growth: 1.5641353117151084\n",
      "Carbon uptake: 300.0\n",
      "Initial growth: 1.9179772531234902\n",
      "Carbon uptake: 300.0\n",
      "Initial growth: 2.247013164278351\n",
      "Carbon uptake: 300.0\n",
      "Initial growth: 1.4723878582745356\n",
      "Carbon uptake: 300.0\n",
      "Initial growth: 1.2637306073926975\n",
      "Carbon uptake: 300.0\n",
      "Initial growth: 2.874331635221058\n",
      "Carbon uptake: 300.0\n",
      "Initial growth: 1.2776937093384837\n",
      "Carbon uptake: 300.0\n",
      "Initial growth: 1.3093435568388452\n",
      "Carbon uptake: 300.0\n",
      "Initial growth: 2.7943387452539175\n",
      "Carbon uptake: 300.0\n",
      "Initial growth: 1.7147066596862923\n",
      "Carbon uptake: 300.0\n",
      "Initial growth: 1.1851558585684174\n",
      "Carbon uptake: 300.0\n",
      "Initial growth: 1.6322257995091263\n",
      "Carbon uptake: 300.0\n",
      "Initial growth: 1.187330820011944\n",
      "Carbon uptake: 300.0\n",
      "Initial growth: 2.6593452153690507\n",
      "Carbon uptake: 300.0\n",
      "Initial growth: 1.2110694588048685\n",
      "Carbon uptake: 300.0\n",
      "Initial growth: 1.2408024407614944\n",
      "Carbon uptake: 300.0\n",
      "Initial growth: 1.2853858839852024\n",
      "Carbon uptake: 300.0\n",
      "Initial growth: 1.2691374210547741\n",
      "Carbon uptake: 300.0\n",
      "Initial growth: 2.787309208460152\n",
      "Carbon uptake: 300.0\n",
      "Initial growth: 2.212350006311141\n",
      "Carbon uptake: 300.0\n",
      "Initial growth: 1.6207460281254893\n",
      "Carbon uptake: 300.0\n"
     ]
    },
    {
     "name": "stderr",
     "output_type": "stream",
     "text": [
      "1714780445.5199022 INFO: Making atp hydrolysis reaction for species: Planktophila\n"
     ]
    },
    {
     "name": "stdout",
     "output_type": "stream",
     "text": [
      "bio1 {<Metabolite cpd11416_c0 at 0x7f5fdf3e2ec0>: 1, <Metabolite cpd11416_c1 at 0x7f5fd322bb80>: -0.14285714285714285, <Metabolite cpd11416_c2 at 0x7f5fd2844f10>: -0.14285714285714285, <Metabolite cpd11416_c3 at 0x7f5fd2c40d30>: -0.14285714285714285, <Metabolite cpd11416_c4 at 0x7f5fd8b3d2d0>: -0.14285714285714285, <Metabolite cpd11416_c5 at 0x7f5fd36ad990>: -0.14285714285714285, <Metabolite cpd11416_c6 at 0x7f5fd3257eb0>: -0.14285714285714285, <Metabolite cpd11416_c7 at 0x7f5fdf3e3160>: -0.14285714285714285}\n",
      "SK_cpd11416_c0 {<Metabolite cpd11416_c0 at 0x7f5fdf3e2ec0>: -1}\n"
     ]
    },
    {
     "name": "stderr",
     "output_type": "stream",
     "text": [
      "1714780445.9338593 INFO: Making atp hydrolysis reaction for species: Methylopumilus\n"
     ]
    },
    {
     "name": "stdout",
     "output_type": "stream",
     "text": [
      "1 Planktophila\n"
     ]
    },
    {
     "name": "stderr",
     "output_type": "stream",
     "text": [
      "1714780446.3460531 INFO: Making atp hydrolysis reaction for species: Polynucleobacter\n"
     ]
    },
    {
     "name": "stdout",
     "output_type": "stream",
     "text": [
      "2 Methylopumilus\n"
     ]
    },
    {
     "name": "stderr",
     "output_type": "stream",
     "text": [
      "1714780446.7586558 INFO: Making atp hydrolysis reaction for species: Pirellula_B\n"
     ]
    },
    {
     "name": "stdout",
     "output_type": "stream",
     "text": [
      "3 Polynucleobacter\n"
     ]
    },
    {
     "name": "stderr",
     "output_type": "stream",
     "text": [
      "1714780447.172033 INFO: Making atp hydrolysis reaction for species: UBA3064\n"
     ]
    },
    {
     "name": "stdout",
     "output_type": "stream",
     "text": [
      "4 Pirellula_B\n"
     ]
    },
    {
     "name": "stderr",
     "output_type": "stream",
     "text": [
      "1714780447.585086 INFO: Making atp hydrolysis reaction for species: UBA954\n"
     ]
    },
    {
     "name": "stdout",
     "output_type": "stream",
     "text": [
      "5 UBA3064\n"
     ]
    },
    {
     "name": "stderr",
     "output_type": "stream",
     "text": [
      "1714780447.9975297 INFO: Making atp hydrolysis reaction for species: other\n"
     ]
    },
    {
     "name": "stdout",
     "output_type": "stream",
     "text": [
      "6 UBA954\n",
      "7 other\n",
      "Initial growth: 4.1553712452155045\n",
      "Carbon uptake: 300.0\n",
      "Initial growth: 5.045112073032109\n",
      "Carbon uptake: 300.0\n",
      "Initial growth: 6.0299706150221075\n",
      "Carbon uptake: 300.0\n",
      "Initial growth: 4.253895011780004\n",
      "Carbon uptake: 300.0\n",
      "Initial growth: 2.738098202111152\n",
      "Carbon uptake: 300.0\n",
      "Initial growth: 3.8942757840830526\n",
      "Carbon uptake: 300.0\n",
      "Initial growth: 3.6673673176174564\n",
      "Carbon uptake: 300.0\n",
      "Initial growth: 2.9224053765682863\n",
      "Carbon uptake: 300.0\n",
      "Initial growth: 4.055226439880104\n",
      "Carbon uptake: 300.0\n",
      "Initial growth: 2.777519511800498\n",
      "Carbon uptake: 300.0\n",
      "Initial growth: 4.138007603935092\n",
      "Carbon uptake: 300.0\n",
      "Initial growth: 3.8785906511909936\n",
      "Carbon uptake: 300.0\n",
      "Initial growth: 2.941243243079099\n",
      "Carbon uptake: 300.0\n",
      "Initial growth: 3.2613732816105236\n",
      "Carbon uptake: 300.0\n",
      "Initial growth: 4.959326215254712\n",
      "Carbon uptake: 300.0\n",
      "Initial growth: 2.958261158480725\n",
      "Carbon uptake: 300.0\n",
      "Initial growth: 3.1778482764560323\n",
      "Carbon uptake: 300.0\n",
      "Initial growth: 3.4091513250648973\n",
      "Carbon uptake: 300.0\n",
      "Initial growth: 2.9605413721011313\n",
      "Carbon uptake: 300.0\n",
      "Initial growth: 2.982746005334265\n",
      "Carbon uptake: 300.0\n",
      "Initial growth: 3.2642007612803483\n",
      "Carbon uptake: 300.0\n",
      "Initial growth: 3.634309408925146\n",
      "Carbon uptake: 300.0\n",
      "Initial growth: 2.9389967645648523\n",
      "Carbon uptake: 300.0\n",
      "Initial growth: 2.944490338842814\n",
      "Carbon uptake: 300.0\n",
      "Initial growth: 3.146136180300321\n",
      "Carbon uptake: 300.0\n",
      "Initial growth: 2.9623910703384153\n",
      "Carbon uptake: 300.0\n",
      "Initial growth: 4.934716661661114\n",
      "Carbon uptake: 300.0\n",
      "Initial growth: 4.151914955767662\n",
      "Carbon uptake: 300.0\n",
      "Initial growth: 3.7068618801507274\n",
      "Carbon uptake: 300.0\n",
      "Initial growth: 2.8155678424885693\n",
      "Carbon uptake: 300.0\n",
      "Initial growth: 2.916455852095526\n",
      "Carbon uptake: 300.0\n",
      "Initial growth: 2.940265408536469\n",
      "Carbon uptake: 300.0\n",
      "Initial growth: 2.9697248757739128\n",
      "Carbon uptake: 300.0\n",
      "Initial growth: 3.9285822440071283\n",
      "Carbon uptake: 300.0\n",
      "Initial growth: 4.593418502669998\n",
      "Carbon uptake: 300.0\n",
      "Initial growth: 3.2246157099361845\n",
      "Carbon uptake: 300.0\n",
      "Initial growth: 3.48326933089601\n",
      "Carbon uptake: 300.0\n",
      "Initial growth: 3.8347085337493874\n",
      "Carbon uptake: 300.0\n",
      "Initial growth: 4.322911216302181\n",
      "Carbon uptake: 300.0\n",
      "Initial growth: 3.1848163125558826\n",
      "Carbon uptake: 300.0\n",
      "Initial growth: 2.894987846980226\n",
      "Carbon uptake: 300.0\n",
      "Initial growth: 5.329526384898045\n",
      "Carbon uptake: 300.0\n",
      "Initial growth: 2.8953277037235323\n",
      "Carbon uptake: 300.0\n",
      "Initial growth: 2.947319602135742\n",
      "Carbon uptake: 300.0\n",
      "Initial growth: 5.040064952507933\n",
      "Carbon uptake: 300.0\n",
      "Initial growth: 3.5680621086361186\n",
      "Carbon uptake: 300.0\n",
      "Initial growth: 2.523647263338749\n",
      "Carbon uptake: 300.0\n",
      "Initial growth: 3.376662170646719\n",
      "Carbon uptake: 300.0\n",
      "Initial growth: 2.8852144594218165\n",
      "Carbon uptake: 300.0\n",
      "Initial growth: 4.831112319547045\n",
      "Carbon uptake: 300.0\n",
      "Initial growth: 2.5858515117378182\n",
      "Carbon uptake: 300.0\n",
      "Initial growth: 2.8053968039936175\n",
      "Carbon uptake: 300.0\n",
      "Initial growth: 2.9271366313592657\n",
      "Carbon uptake: 300.0\n",
      "Initial growth: 2.8425116791224045\n",
      "Carbon uptake: 300.0\n",
      "Initial growth: 5.066080073261144\n",
      "Carbon uptake: 300.0\n",
      "Initial growth: 4.275157316359341\n",
      "Carbon uptake: 300.0\n",
      "Initial growth: 3.4238384418774963\n",
      "Carbon uptake: 300.0\n"
     ]
    },
    {
     "name": "stderr",
     "output_type": "stream",
     "text": [
      "1714783047.4602015 INFO: Making atp hydrolysis reaction for species: Planktophila\n"
     ]
    },
    {
     "name": "stdout",
     "output_type": "stream",
     "text": [
      "bio1 {<Metabolite cpd11416_c0 at 0x7f5fd1514220>: 1, <Metabolite cpd11416_c1 at 0x7f5fd3674040>: -0.14285714285714285, <Metabolite cpd11416_c2 at 0x7f5fd2508ee0>: -0.14285714285714285, <Metabolite cpd11416_c3 at 0x7f5fd89ce740>: -0.14285714285714285, <Metabolite cpd11416_c4 at 0x7f5fd05768f0>: -0.14285714285714285, <Metabolite cpd11416_c5 at 0x7f5fd2a934f0>: -0.14285714285714285, <Metabolite cpd11416_c6 at 0x7f5fd198f9d0>: -0.14285714285714285, <Metabolite cpd11416_c7 at 0x7f5fd15141f0>: -0.14285714285714285}\n",
      "SK_cpd11416_c0 {<Metabolite cpd11416_c0 at 0x7f5fd1514220>: -1}\n"
     ]
    },
    {
     "name": "stderr",
     "output_type": "stream",
     "text": [
      "1714783047.8687074 INFO: Making atp hydrolysis reaction for species: Methylopumilus\n"
     ]
    },
    {
     "name": "stdout",
     "output_type": "stream",
     "text": [
      "1 Planktophila\n"
     ]
    },
    {
     "name": "stderr",
     "output_type": "stream",
     "text": [
      "1714783048.2741358 INFO: Making atp hydrolysis reaction for species: Polynucleobacter\n"
     ]
    },
    {
     "name": "stdout",
     "output_type": "stream",
     "text": [
      "2 Methylopumilus\n"
     ]
    },
    {
     "name": "stderr",
     "output_type": "stream",
     "text": [
      "1714783048.6948967 INFO: Making atp hydrolysis reaction for species: Pirellula_B\n"
     ]
    },
    {
     "name": "stdout",
     "output_type": "stream",
     "text": [
      "3 Polynucleobacter\n"
     ]
    },
    {
     "name": "stderr",
     "output_type": "stream",
     "text": [
      "1714783049.1030846 INFO: Making atp hydrolysis reaction for species: UBA3064\n"
     ]
    },
    {
     "name": "stdout",
     "output_type": "stream",
     "text": [
      "4 Pirellula_B\n"
     ]
    },
    {
     "name": "stderr",
     "output_type": "stream",
     "text": [
      "1714783049.508784 INFO: Making atp hydrolysis reaction for species: UBA954\n"
     ]
    },
    {
     "name": "stdout",
     "output_type": "stream",
     "text": [
      "5 UBA3064\n"
     ]
    },
    {
     "name": "stderr",
     "output_type": "stream",
     "text": [
      "1714783049.9137528 INFO: Making atp hydrolysis reaction for species: other\n"
     ]
    },
    {
     "name": "stdout",
     "output_type": "stream",
     "text": [
      "6 UBA954\n",
      "7 other\n",
      "Initial growth: 5.582790579843227\n",
      "Carbon uptake: 300.0\n",
      "Initial growth: 7.037999141672946\n",
      "Carbon uptake: 300.0\n",
      "Initial growth: 8.422633611154112\n",
      "Carbon uptake: 300.0\n",
      "Initial growth: 5.6743261604654105\n",
      "Carbon uptake: 300.0\n",
      "Initial growth: 3.6781736947208903\n",
      "Carbon uptake: 300.0\n",
      "Initial growth: 5.1703045872415\n",
      "Carbon uptake: 300.0\n",
      "Initial growth: 4.917672710807788\n",
      "Carbon uptake: 300.0\n",
      "Initial growth: 3.958479896504104\n",
      "Carbon uptake: 300.0\n",
      "Initial growth: 5.398378127569803\n",
      "Carbon uptake: 300.0\n",
      "Initial growth: 3.755835661250224\n",
      "Carbon uptake: 300.0\n",
      "Initial growth: 5.513839828466824\n",
      "Carbon uptake: 300.0\n",
      "Initial growth: 5.22628366559875\n",
      "Carbon uptake: 300.0\n",
      "Initial growth: 3.9883422428656057\n",
      "Carbon uptake: 300.0\n",
      "Initial growth: 4.411908225683722\n",
      "Carbon uptake: 300.0\n",
      "Initial growth: 6.899882330599255\n",
      "Carbon uptake: 300.0\n",
      "Initial growth: 4.000506227553942\n",
      "Carbon uptake: 300.0\n",
      "Initial growth: 4.287193659284351\n",
      "Carbon uptake: 300.0\n",
      "Initial growth: 4.5861598449977965\n",
      "Carbon uptake: 300.0\n",
      "Initial growth: 3.9835354193742023\n",
      "Carbon uptake: 300.0\n",
      "Initial growth: 4.0298466304883975\n",
      "Carbon uptake: 300.0\n",
      "Initial growth: 4.405077329638475\n",
      "Carbon uptake: 300.0\n",
      "Initial growth: 4.863225918350647\n",
      "Carbon uptake: 300.0\n",
      "Initial growth: 3.9855834435778443\n",
      "Carbon uptake: 300.0\n",
      "Initial growth: 3.9648385380151328\n",
      "Carbon uptake: 300.0\n",
      "Initial growth: 4.253538290416924\n",
      "Carbon uptake: 300.0\n",
      "Initial growth: 4.00642365783245\n",
      "Carbon uptake: 300.0\n",
      "Initial growth: 6.871179480151593\n",
      "Carbon uptake: 300.0\n",
      "Initial growth: 5.5311951491885765\n",
      "Carbon uptake: 300.0\n",
      "Initial growth: 4.943917887193219\n",
      "Carbon uptake: 300.0\n",
      "Initial growth: 3.819758715082575\n",
      "Carbon uptake: 300.0\n",
      "Initial growth: 3.929320593857904\n",
      "Carbon uptake: 300.0\n",
      "Initial growth: 3.9730358479214147\n",
      "Carbon uptake: 300.0\n",
      "Initial growth: 4.031899084779961\n",
      "Carbon uptake: 300.0\n",
      "Initial growth: 5.21094549968096\n",
      "Carbon uptake: 300.0\n",
      "Initial growth: 6.380073302409748\n",
      "Carbon uptake: 300.0\n",
      "Initial growth: 4.357307628556215\n",
      "Carbon uptake: 300.0\n",
      "Initial growth: 4.684283623916281\n",
      "Carbon uptake: 300.0\n",
      "Initial growth: 5.097135124760759\n",
      "Carbon uptake: 300.0\n",
      "Initial growth: 5.763344208580985\n",
      "Carbon uptake: 300.0\n",
      "Initial growth: 4.300088139835507\n",
      "Carbon uptake: 300.0\n",
      "Initial growth: 3.9098545641868476\n",
      "Carbon uptake: 300.0\n",
      "Initial growth: 7.6596926314782445\n",
      "Carbon uptake: 300.0\n",
      "Initial growth: 3.9189501362983057\n",
      "Carbon uptake: 300.0\n",
      "Initial growth: 3.991190204312971\n",
      "Carbon uptake: 300.0\n",
      "Initial growth: 7.141648855242088\n",
      "Carbon uptake: 300.0\n",
      "Initial growth: 4.791359263357614\n",
      "Carbon uptake: 300.0\n",
      "Initial growth: 3.4377913583092337\n",
      "Carbon uptake: 300.0\n",
      "Initial growth: 4.544982935092185\n",
      "Carbon uptake: 300.0\n",
      "Initial growth: 3.8929765772852205\n",
      "Carbon uptake: 300.0\n",
      "Initial growth: 6.651229020754319\n",
      "Carbon uptake: 300.0\n",
      "Initial growth: 3.5222030835850147\n",
      "Carbon uptake: 300.0\n",
      "Initial growth: 3.8032117496123314\n",
      "Carbon uptake: 300.0\n",
      "Initial growth: 3.9681167669688073\n",
      "Carbon uptake: 300.0\n",
      "Initial growth: 3.829557176981517\n",
      "Carbon uptake: 300.0\n",
      "Initial growth: 7.118238082020208\n",
      "Carbon uptake: 300.0\n",
      "Initial growth: 5.655769520654781\n",
      "Carbon uptake: 300.0\n",
      "Initial growth: 4.618810086773082\n",
      "Carbon uptake: 300.0\n"
     ]
    }
   ],
   "source": [
    "from optlang.symbolics import Zero, add\n",
    "import cobra\n",
    "loadedmodel = cobra.io.load_json_model('GROW_community_mdl.json')\n",
    "loadedmodel.solver = 'gurobi'\n",
    "dipeptide_exchanges = [\n",
    "    \"EX_cpd11591_e0\",\n",
    "    \"EX_cpd11589_e0\",\n",
    "    \"EX_cpd15605_e0\",\n",
    "    \"EX_cpd11588_e0\",\n",
    "    \"EX_cpd11583_e0\",\n",
    "    \"EX_cpd11580_e0\",\n",
    "    \"EX_cpd11593_e0\",\n",
    "    \"EX_cpd11585_e0\",\n",
    "    \"EX_cpd11586_e0\",\n",
    "    \"EX_cpd15604_e0\",\n",
    "    \"EX_cpd11581_e0\",\n",
    "    \"EX_cpd01017_e0\",\n",
    "    \"EX_cpd11590_e0\",\n",
    "    \"EX_cpd11592_e0\",\n",
    "    \"EX_cpd11584_e0\",\n",
    "    \"EX_cpd00731_e0\",\n",
    "    \"EX_cpd15603_e0\",\n",
    "    \"EX_cpd11587_e0\",\n",
    "    \"EX_cpd11582_e0\",\n",
    "    \"EX_cpd15606_e0\",\n",
    "    \"EX_cpd03424_e0\",\n",
    "    \"EX_cpd00423_e0\",\n",
    "    \"EX_cpd00080_e0\",\n",
    "    \"EX_cpd02233_e0\",\n",
    "    \"EX_cpd00355_e0\",\n",
    "    \"EX_cpd00235_e0\",\n",
    "    \"EX_cpd00079_e0\",\n",
    "    \"EX_cpd01912_e0\"\n",
    "]\n",
    "clade_list = [\"Planktophila\",\"Methylopumilus\",\"Polynucleobacter\",\"Pirellula_B\",\"UBA3064\",\"UBA954\",\"other\"]\n",
    "community_rxn_probs = util.load(\"community_rxn_probs\")\n",
    "clade_abundances = util.load(\"clade_abundances\")\n",
    "condition_list = util.load(\"condition_list\")\n",
    "feature_entries = util.load(\"feature_entries\")\n",
    "min_prob = 0.05\n",
    "min_expression = 0\n",
    "exp_coef = -100\n",
    "prob_exp = 1\n",
    "ex_weight = 1\n",
    "oxygen_uptake = 5\n",
    "kinetics_coefs = [400,700,1000]\n",
    "clade_expression_hash = {}\n",
    "for kinetics_coef in kinetics_coefs:\n",
    "    output = {\n",
    "        \"kinetics_coef\":kinetics_coef,\n",
    "        \"conditions\":{}\n",
    "    }\n",
    "    model_copy = cobra.io.json.from_json(cobra.io.json.to_json(loadedmodel))\n",
    "    current_comm_model = MSCommunity(\n",
    "        model=model_copy,\n",
    "        names=clade_list\n",
    "    )\n",
    "    mdlutl = current_comm_model.mdlutl\n",
    "    pkgmgr = MSPackageManager.get_pkg_mgr(mdlutl)\n",
    "    media = util.msrecon.get_media(\"KBaseMedia/Complete\")\n",
    "    for condition in condition_list:\n",
    "        clade_expression_hash[condition] = {}\n",
    "        output[\"conditions\"][condition] = {\"solution\":{}}\n",
    "        pkgmgr.getpkg(\"ObjConstPkg\").clear()\n",
    "        #Setting abundances from condition abundance data\n",
    "        abundance_hash = {}\n",
    "        for clade in clade_abundances:\n",
    "            if condition in clade_abundances[clade]:\n",
    "                abundance_hash[clade] = clade_abundances[clade][condition]\n",
    "        current_comm_model.set_abundance(abundance_hash)\n",
    "        #Setting media\n",
    "        pkgmgr.getpkg(\"KBaseMediaPkg\").build_package(media)\n",
    "        #Adding commkinetic constraints\n",
    "        pkgmgr.getpkg(\"CommKineticPkg\").build_package(kinetics_coef, current_comm_model)\n",
    "        #Adding elemental uptake constraints\n",
    "        pkgmgr.getpkg(\"ElementUptakePkg\").build_package({\"C\": 300})\n",
    "        for rxn in loadedmodel.reactions:\n",
    "            if \"EX_\" == rxn.id[0:3]:\n",
    "                currrxn = current_comm_model.model.reactions.get_by_id(rxn.id)\n",
    "                if rxn.id in dipeptide_exchanges:\n",
    "                    currrxn.lower_bound = 0\n",
    "                    currrxn.upper_bound = 0\n",
    "                elif rxn.id == \"EX_cpd00007_e0\":\n",
    "                    currrxn.lower_bound = -1*oxygen_uptake\n",
    "                else:\n",
    "                    if currrxn.lower_bound < 0:\n",
    "                        currrxn.lower_bound = -1000\n",
    "                    if currrxn.upper_bound > 0:\n",
    "                        currrxn.upper_bound = 1000\n",
    "        #Maximize biomass production\n",
    "        #mdlutl.model.objective = \"bio1\"\n",
    "        mdlutl.model.objective = mdlutl.model.problem.Objective(Zero, direction=\"max\")\n",
    "        mdlutl.model.objective.set_linear_coefficients({mdlutl.model.reactions.bio1.forward_variable: 1})\n",
    "        current_comm_model.print_lp(\"Run.lp\")\n",
    "        output[\"conditions\"][condition][\"max_growth\"] = mdlutl.model.slim_optimize()\n",
    "        output[\"conditions\"][condition][\"carbon_uptake\"] = pkgmgr.getpkg(\"ElementUptakePkg\").variables[\"elements\"][\"C\"].primal\n",
    "        print(\"Initial growth:\", output[\"conditions\"][condition][\"max_growth\"])\n",
    "        print(\"Carbon uptake:\",output[\"conditions\"][condition][\"carbon_uptake\"])\n",
    "        if str(output[\"conditions\"][condition][\"max_growth\"]) == \"nan\":\n",
    "            print(\"Skipping condition due to infeasibility\", condition)\n",
    "            continue\n",
    "        #Constraining to 90% of community biomass\n",
    "        pkgmgr.getpkg(\"ObjConstPkg\").clear()\n",
    "        pkgmgr.getpkg(\"ObjConstPkg\").build_package(output[\"conditions\"][condition][\"max_growth\"] * 0.9, None)\n",
    "        #Creating minimal probability objective\n",
    "        coef = {}\n",
    "        for rxn in loadedmodel.reactions:\n",
    "            if \"rxn\" == rxn.id[0:3]:\n",
    "                probability = community_rxn_probs[rxn.id]\n",
    "                currrxn = current_comm_model.model.reactions.get_by_id(rxn.id)\n",
    "                coef.update(\n",
    "                    {\n",
    "                        currrxn.forward_variable: max(\n",
    "                            min_prob, (1 - float(probability) ** prob_exp)\n",
    "                        )\n",
    "                    }\n",
    "                )\n",
    "                coef.update(\n",
    "                    {\n",
    "                        currrxn.reverse_variable: max(\n",
    "                            min_prob, (1 - float(probability) ** prob_exp)\n",
    "                        )\n",
    "                    }\n",
    "                )\n",
    "            elif \"EX_\" == rxn.id[0:3]:\n",
    "                currrxn = current_comm_model.model.reactions.get_by_id(rxn.id)\n",
    "                coef.update({currrxn.forward_variable: ex_weight})\n",
    "                coef.update({currrxn.reverse_variable: ex_weight})\n",
    "        #Adding expression data to minimum probability objective\n",
    "        for clade in feature_entries:\n",
    "            total = 0\n",
    "            for ftr in feature_entries[clade]:\n",
    "                total += feature_entries[clade][ftr][condition]\n",
    "            for ftr in feature_entries[clade]:\n",
    "                feature_entries[clade][ftr][condition] = feature_entries[clade][ftr][condition]/total\n",
    "        filter = {}\n",
    "        for rxn in mdlutl.model.reactions:\n",
    "            highest_exp = 0\n",
    "            for gene in rxn.genes:\n",
    "                array = gene.id.split(\"_\")\n",
    "                array.pop()\n",
    "                clade = \"_\".join(array)\n",
    "                if gene.id in feature_entries[clade] and condition in feature_entries[clade][gene.id]:\n",
    "                    if feature_entries[clade][gene.id][condition] > highest_exp:\n",
    "                        highest_exp = feature_entries[clade][gene.id][condition]\n",
    "                    if feature_entries[clade][gene.id][condition] > 0:\n",
    "                        if clade not in clade_expression_hash[condition]:\n",
    "                            clade_expression_hash[condition][clade] = 0\n",
    "                        clade_expression_hash[condition][clade] += 1\n",
    "            if highest_exp > min_expression and exp_coef != 0:\n",
    "                if rxn.upper_bound > 0:\n",
    "                    coef.update(\n",
    "                        {\n",
    "                            rxn.forward_variable: exp_coef * highest_exp\n",
    "                        }\n",
    "                    )\n",
    "                if rxn.lower_bound < 0:\n",
    "                    coef.update(\n",
    "                        {\n",
    "                            rxn.reverse_variable: exp_coef * highest_exp\n",
    "                        }\n",
    "                    )\n",
    "                if rxn.upper_bound > 0 and rxn.lower_bound < 0:\n",
    "                    filter[rxn.id] = 1\n",
    "        #Setting the objective\n",
    "        if condition == condition_list[0] and exp_coef != 0:\n",
    "            pkgmgr.getpkg(\"RevBinPkg\").build_package(filter=filter)\n",
    "        mdlutl.model.objective = mdlutl.model.problem.Objective(Zero, direction=\"min\")\n",
    "        mdlutl.model.objective.set_linear_coefficients(coef)\n",
    "        with open(\"lp/\"+condition+\".lp\", \"w\") as out:\n",
    "            out.write(str(mdlutl.model.solver))\n",
    "        #Solving the LP\n",
    "        solution = mdlutl.model.optimize()\n",
    "        output[\"conditions\"][condition][\"objective\"] = solution.objective_value\n",
    "        output[\"conditions\"][condition][\"solution\"][rxn.id] = solution.fluxes[rxn.id]\n",
    "        for rxn in mdlutl.model.reactions:\n",
    "            output[\"conditions\"][condition][\"solution\"][rxn.id] = solution.fluxes[rxn.id]\n",
    "    util.save(str(oxygen_uptake)+\"o2_\"+str(kinetics_coef)+\"_\"+str(abs(exp_coef))+\"exp_output\", output)\n",
    "    filename = util.output_dir+\"/\"+str(oxygen_uptake)+\"o2_\"+str(kinetics_coef)+\"_\"+str(abs(exp_coef))+\"exp.csv\"\n",
    "    with open(filename, 'w') as f:\n",
    "        records = [\n",
    "            {\"id\":\"max_growth\"},\n",
    "            {\"id\":\"carbon_uptake\"},\n",
    "            {\"id\":\"objective\"},\n",
    "        ]\n",
    "        rxn_record_hash = {}\n",
    "        for condition in output[\"conditions\"]:\n",
    "            records[0][condition] = output[\"conditions\"][condition][\"max_growth\"]\n",
    "            records[1][condition] = output[\"conditions\"][condition][\"carbon_uptake\"]\n",
    "            records[2][condition] = output[\"conditions\"][condition][\"objective\"]\n",
    "            solution = output[\"conditions\"][condition][\"solution\"]\n",
    "            for rxn in solution:\n",
    "                if rxn not in rxn_record_hash:\n",
    "                    rxn_record_hash[rxn] = {}\n",
    "                    rxn_record_hash[rxn][\"id\"] = rxn\n",
    "                    records.append(rxn_record_hash[rxn])\n",
    "                rxn_record_hash[rxn][condition] = solution[rxn]\n",
    "    df = DataFrame.from_records(records)\n",
    "    df.to_csv(filename)"
   ]
  },
  {
   "cell_type": "code",
   "execution_count": null,
   "metadata": {},
   "outputs": [],
   "source": []
  }
 ],
 "metadata": {
  "kernelspec": {
   "display_name": "COBRA cplex",
   "language": "python",
   "name": "modelseed_cplex"
  },
  "language_info": {
   "codemirror_mode": {
    "name": "ipython",
    "version": 3
   },
   "file_extension": ".py",
   "mimetype": "text/x-python",
   "name": "python",
   "nbconvert_exporter": "python",
   "pygments_lexer": "ipython3",
   "version": "3.10.12"
  }
 },
 "nbformat": 4,
 "nbformat_minor": 4
}
