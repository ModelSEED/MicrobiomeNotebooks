{
 "cells": [
  {
   "cell_type": "markdown",
   "metadata": {},
   "source": [
    "# Configure KBase Jupyter Dev Environment"
   ]
  },
  {
   "cell_type": "code",
   "execution_count": 1,
   "metadata": {
    "tags": []
   },
   "outputs": [
    {
     "name": "stdout",
     "output_type": "stream",
     "text": [
      "python version 3.10.12\n",
      "KBBaseModules 0.0.1\n",
      "modelseedpy 0.3.3\n",
      "cobrakbase 0.3.1\n",
      "Output files printed to:/scratch/chenry/MicrobiomeNotebooks/grow/nboutput when using KBDevUtils.output_dir\n",
      "ModelSEED: /scratch/shared//sdkmount/kb_sdk_home/run_local/workdir/tmp/\n"
     ]
    }
   ],
   "source": [
    "%run probcommutil.py\n",
    "logger = logging.getLogger(__name__)\n",
    "logger.setLevel(logging.INFO)"
   ]
  },
  {
   "cell_type": "markdown",
   "metadata": {
    "jp-MarkdownHeadingCollapsed": true,
    "tags": []
   },
   "source": [
    "# Loading Clade Mapping Data"
   ]
  },
  {
   "cell_type": "code",
   "execution_count": 2,
   "metadata": {
    "tags": []
   },
   "outputs": [],
   "source": [
    "from pandas import read_excel\n",
    "mag_taxa = read_excel(\"MAGs_toKBase_formodels.xlsx\")\n",
    "genera_to_track = [\"Planktophila\", \"Methylopumilus\", \"Polynucleobacter\", \"Pirellula_B\", \"UBA3064\", \"UBA954\"]\n",
    "clade_mag_mapping = {\"other\":[]}\n",
    "for index, row in mag_taxa.iterrows():\n",
    "    if not isinstance(row[\"classification\"], str):  continue\n",
    "    found = False\n",
    "    for genus in genera_to_track:\n",
    "        if genus not in clade_mag_mapping:\n",
    "            clade_mag_mapping[genus] = []\n",
    "        if genus in row[\"classification\"]:\n",
    "            clade_mag_mapping[genus].append(row[\"user_genome\"])\n",
    "            found = True\n",
    "            break\n",
    "    if not found:\n",
    "        clade_mag_mapping[\"other\"].append(row[\"user_genome\"])\n",
    "util.kbdevutil.save(\"clade_mag_mapping\", clade_mag_mapping)\n"
   ]
  },
  {
   "cell_type": "markdown",
   "metadata": {
    "jp-MarkdownHeadingCollapsed": true,
    "tags": []
   },
   "source": [
    "# Pulling genomes and getting functions hash from all genomes"
   ]
  },
  {
   "cell_type": "code",
   "execution_count": 14,
   "metadata": {
    "tags": []
   },
   "outputs": [
    {
     "name": "stdout",
     "output_type": "stream",
     "text": [
      "All 3825\n",
      "Primary 2093\n"
     ]
    }
   ],
   "source": [
    "clade_mag_mapping = util.kbdevutil.load(\"clade_mag_mapping\")\n",
    "mag_list = {}\n",
    "mag_refs = {}\n",
    "primary_mags = util.msrecon.kbase_api.list_objects(106947, object_type=\"KBaseGenomes.Genome\")\n",
    "for mag in primary_mags:\n",
    "    if mag[1][-5:] == \".RAST\":\n",
    "        name = mag[1][0:-5]\n",
    "        mag_refs[name] = mag\n",
    "        mag_list[name] = \"primary\"\n",
    "other_mags = util.msrecon.kbase_api.list_objects(145226, object_type=\"KBaseGenomes.Genome\")\n",
    "for mag in other_mags:\n",
    "    if mag[1][-5:] == \".RAST\":\n",
    "        name = mag[1][0:-5]\n",
    "        if name not in mag_refs:\n",
    "            mag_refs[name] = mag\n",
    "            mag_list[name] = \"secondary\"\n",
    "#Checking if mag is missing\n",
    "allcount = 0\n",
    "primcount = 0\n",
    "for clade in clade_mag_mapping:\n",
    "    for mag in clade_mag_mapping[clade]:\n",
    "        allcount += 1\n",
    "        newmag = mag.replace(\".\",\"_\")+\"_mag\"\n",
    "        if newmag in mag_refs:\n",
    "            primcount += 1\n",
    "            mag_refs[mag] = mag_refs[newmag]\n",
    "        elif mag not in mag_refs:\n",
    "            print(\"Missing mag: \", mag)\n",
    "util.kbdevutil.save(\"mag_refs\", mag_refs)\n",
    "util.kbdevutil.save(\"mag_list\", mag_list)\n",
    "print(\"All\",allcount)\n",
    "print(\"Primary\",primcount)"
   ]
  },
  {
   "cell_type": "markdown",
   "metadata": {
    "jp-MarkdownHeadingCollapsed": true,
    "tags": []
   },
   "source": [
    "# Creating clade genomes and computing function probabilities"
   ]
  },
  {
   "cell_type": "code",
   "execution_count": 15,
   "metadata": {
    "tags": []
   },
   "outputs": [],
   "source": [
    "#Downloading genomes for each mag to make clade genome construction faster\n",
    "clade_mag_mapping = util.kbdevutil.load(\"clade_mag_mapping\")\n",
    "mag_refs = util.kbdevutil.load(\"mag_refs\")\n",
    "for clade in clade_mag_mapping:\n",
    "    for mag in clade_mag_mapping[clade]:\n",
    "        if mag in mag_refs:\n",
    "            ref = mag_refs[mag]\n",
    "            genome = util.msrecon.kbase_api.get_object(ref[1],ref[6])\n",
    "            util.kbdevutil.save(mag,genome)"
   ]
  },
  {
   "cell_type": "code",
   "execution_count": 16,
   "metadata": {
    "tags": []
   },
   "outputs": [],
   "source": [
    "#Now building clade genome objects and saving to file (will be loaded to KBase)\n",
    "from cobrakbase.core.kbasegenome.genome import KBaseGenome\n",
    "clade_mag_mapping = util.kbdevutil.load(\"clade_mag_mapping\")\n",
    "mag_refs = util.kbdevutil.load(\"mag_refs\")\n",
    "functions = {}\n",
    "features = {}\n",
    "feature_aliases = {}\n",
    "feature_probabilities = {}\n",
    "for clade in clade_mag_mapping:\n",
    "    #Loading template genome\n",
    "    with open(\"TemplateGenome.json\", 'r') as f:\n",
    "        template_genome = json.load(f)\n",
    "    #Setting metadata\n",
    "    template_genome[\"dna_size\"] = 0\n",
    "    template_genome[\"gc_content\"] = 0.5\n",
    "    template_genome[\"id\"] = \"GROW_\"+clade\n",
    "    template_genome[\"contig_ids\"] = []\n",
    "    template_genome[\"contig_lengths\"] = []\n",
    "    template_genome[\"num_contigs\"] = 0\n",
    "    template_genome[\"ontologies_present\"] = {}\n",
    "    template_genome[\"ontology_events\"] = []\n",
    "    template_genome[\"source\"] = \"GROW\"\n",
    "    template_genome[\"warnings\"] = [\"Artificial genome created to support clade modeling\"]\n",
    "    template_genome[\"features\"] = []\n",
    "    template_genome[\"cdss\"] = []\n",
    "    template_genome[\"source_id\"] = \"GROW\"\n",
    "    template_genome[\"molecule_type\"] = \"CladeGenome\"\n",
    "    template_genome[\"domain\"] = \"Bacteria\"\n",
    "    md5_list = []\n",
    "    if clade not in functions:\n",
    "        functions[clade] = {}\n",
    "    for mag in clade_mag_mapping[clade]:\n",
    "        if mag in mag_refs:\n",
    "            ref = mag_refs[mag]\n",
    "            genome = util.kbdevutil.load(mag)\n",
    "            genome_functions = {}\n",
    "            for ftr in genome[\"features\"]:\n",
    "                if \"functions\" in ftr:\n",
    "                    for function in ftr[\"functions\"]:\n",
    "                        if function not in functions[clade]:\n",
    "                            ftrid = clade+\"_\"+str(len(template_genome[\"contig_ids\"])+1)\n",
    "                            template_genome[\"contig_ids\"].append(ftrid+\".contig\")\n",
    "                            template_genome[\"contig_lengths\"].append(len(ftr[\"dna_sequence\"]))\n",
    "                            template_genome[\"num_contigs\"] += 1\n",
    "                            template_genome[\"dna_size\"] += len(ftr[\"dna_sequence\"])\n",
    "                            result = hashlib.md5(ftr[\"protein_translation\"].encode())\n",
    "                            md5 = result.hexdigest()\n",
    "                            result = hashlib.md5(ftr[\"dna_sequence\"].encode())\n",
    "                            dnamd5 = result.hexdigest()\n",
    "                            md5_list.append(md5)\n",
    "                            functions[clade][function] = {\"ftrid\":ftrid, \"probability\":1}\n",
    "                            features[ftrid] = {\n",
    "                                \"aliases\": [],\n",
    "                                \"cdss\": [\n",
    "                                    ftrid+\".CDS\"\n",
    "                                ],\n",
    "                                \"functions\":[function],\n",
    "                                \"dna_sequence\": ftr[\"dna_sequence\"],\n",
    "                                \"dna_sequence_length\": len(ftr[\"dna_sequence\"]),\n",
    "                                \"id\": ftrid,\n",
    "                                \"location\": [\n",
    "                                    [\n",
    "                                        ftrid+\".contig\",\n",
    "                                        1,\n",
    "                                        \"+\",\n",
    "                                        len(ftr[\"dna_sequence\"])\n",
    "                                    ]\n",
    "                                ],\n",
    "                                \"md5\": dnamd5,\n",
    "                                \"ontology_terms\": {},\n",
    "                                \"protein_md5\": md5,\n",
    "                                \"protein_translation\": ftr[\"protein_translation\"],\n",
    "                                \"protein_translation_length\": len(ftr[\"protein_translation\"]),\n",
    "                                \"warnings\": []\n",
    "                            }\n",
    "                            cdsftr = features[ftrid].copy()\n",
    "                            cdsftr[\"id\"] = ftrid+\".CDS\"\n",
    "                            cdsftr[\"parent_gene\"] = ftrid\n",
    "                            if \"aliases\" in ftr and len(ftr[\"aliases\"]) >= 1:\n",
    "                                features[ftrid][\"aliases\"].append([\"gene\",ftr[\"aliases\"][0][1]])\n",
    "                                if ftrid not in feature_aliases:\n",
    "                                    feature_aliases[ftrid] = []\n",
    "                                feature_aliases[ftrid].append([ftr[\"aliases\"][0][1]])\n",
    "                            template_genome[\"features\"].append(features[ftrid])\n",
    "                            template_genome[\"cdss\"].append(cdsftr)\n",
    "                        elif function not in genome_functions:#Don't want to count same function twice in a genome\n",
    "                            ftrid = functions[clade][function][\"ftrid\"]\n",
    "                            functions[clade][function][\"probability\"] += 1\n",
    "                            if \"aliases\" in ftr and len(ftr[\"aliases\"]) >= 1:\n",
    "                                features[ftrid][\"aliases\"].append([\"gene\",ftr[\"aliases\"][0][1]])\n",
    "                                if ftrid not in feature_aliases:\n",
    "                                    feature_aliases[ftrid] = []\n",
    "                                feature_aliases[ftrid].append(ftr[\"aliases\"][0][1])\n",
    "                        genome_functions[function] = True\n",
    "    for func in functions[clade]:\n",
    "        functions[clade][func][\"probability\"] = functions[clade][func][\"probability\"]/len(clade_mag_mapping[clade])\n",
    "        feature_probabilities[functions[clade][func][\"ftrid\"]] = functions[clade][func][\"probability\"]\n",
    "    template_genome[\"feature_counts\"] = {\n",
    "        \"CDS\":len(template_genome[\"features\"]),\n",
    "        \"gene\":len(template_genome[\"features\"]),\n",
    "        \"non_coding_features\":0,\n",
    "        \"protein_encoding_gene\":len(template_genome[\"features\"])\n",
    "    }                    \n",
    "    md5_list.sort()\n",
    "    result = hashlib.md5(\";\".join(md5_list).encode())\n",
    "    template_genome[\"md5\"] = result.hexdigest()\n",
    "    #Writing FASTA\n",
    "    ofile = open(\"Assemblies/\"+clade+\".fasta\", \"w\")\n",
    "    for func in functions[clade]:\n",
    "        ofile.write(\">\" + functions[clade][func][\"ftrid\"] + \"\\n\" +features[functions[clade][func][\"ftrid\"]][\"dna_sequence\"] + \"\\n\")\n",
    "    ofile.close()\n",
    "    #Saving genome\n",
    "    util.kbdevutil.save(clade+\"_genome\", template_genome)\n",
    "util.kbdevutil.save(\"feature_aliases\", feature_aliases)\n",
    "util.kbdevutil.save(\"functions\", functions)\n",
    "util.kbdevutil.save(\"feature_probabilities\", feature_probabilities)"
   ]
  },
  {
   "cell_type": "markdown",
   "metadata": {
    "jp-MarkdownHeadingCollapsed": true,
    "tags": []
   },
   "source": [
    "# Loading assemblies to KBase"
   ]
  },
  {
   "cell_type": "code",
   "execution_count": 11,
   "metadata": {},
   "outputs": [],
   "source": [
    "#Loading clade genome assemblies to KBase using SDK callbacks\n",
    "afu = util.kbdevutil.afu_client()\n",
    "#UBA954.fasta\n",
    "clade_list = [\"other\",\"Planktophila\",\"Methylopumilus\",\"Polynucleobacter\",\"Pirellula_B\",\"UBA3064\"]\n",
    "for clade in clade_list:\n",
    "    params = {\n",
    "        'file': {\n",
    "            'path': '/kb/module/work/tmp/'+clade+\".fasta\"\n",
    "        },\n",
    "        'workspace_id': 174284,\n",
    "        'assembly_name': clade+\".assembly\"\n",
    "    }\n",
    "    result = afu.save_assembly_from_fasta2(params)"
   ]
  },
  {
   "cell_type": "markdown",
   "metadata": {
    "jp-MarkdownHeadingCollapsed": true,
    "tags": []
   },
   "source": [
    "# Saving genomes to KBase"
   ]
  },
  {
   "cell_type": "code",
   "execution_count": 19,
   "metadata": {},
   "outputs": [],
   "source": [
    "#Loading clade genomes to KBase using annotation API, which contains an SDK callback\n",
    "from datetime import datetime\n",
    "now = datetime.now()\n",
    "timestamp = datetime.timestamp(now)\n",
    "clade_list = [\"UBA954\",\"other\",\"Planktophila\",\"Methylopumilus\",\"Polynucleobacter\",\"Pirellula_B\",\"UBA3064\"]\n",
    "anno = util.kbdevutil.anno_client()\n",
    "anno.clients[\"GenomeFileUtil\"] = util.kbdevutil.gfu_client()\n",
    "for clade in clade_list:\n",
    "    genome = util.kbdevutil.load(clade+\"_genome\")\n",
    "    events = [{\n",
    "        \"id\": \"SSO\",\n",
    "        \"event_id\":\"RAST:SSO:\"+str(timestamp),\n",
    "        \"description\": \"RAST annotation of clade genome\",\n",
    "        \"ontology_id\": \"SSO\",\n",
    "        \"method\": \"RAST\",\n",
    "        \"method_version\": \"1.9.5\",\n",
    "        \"timestamp\": str(timestamp),\n",
    "        \"ontology_terms\": {},\n",
    "    }]\n",
    "    for ftr in genome[\"features\"]:\n",
    "        events[0][\"ontology_terms\"][ftr[\"id\"]] = [{\"term\":\"SSO:\"+ftr[\"functions\"][0]}]\n",
    "    output = anno.add_annotation_ontology_events({\n",
    "        \"output_workspace\":174284,\n",
    "        \"events\":events,\n",
    "        \"overwrite_matching\":True,\n",
    "        \"object\":genome,\n",
    "        \"type\":\"KBaseGenomes.Genome\",\n",
    "        \"output_name\":clade+\".genome\",\n",
    "        \"save\":1\n",
    "    })"
   ]
  },
  {
   "cell_type": "markdown",
   "metadata": {
    "jp-MarkdownHeadingCollapsed": true,
    "tags": []
   },
   "source": [
    "# Construct the clade models"
   ]
  },
  {
   "cell_type": "code",
   "execution_count": null,
   "metadata": {},
   "outputs": [],
   "source": [
    "#\"UBA954\",\n",
    "clade_list = [\"other\",\"Planktophila\",\"Methylopumilus\",\"Polynucleobacter\",\"Pirellula_B\",\"UBA3064\"]\n",
    "for clade in clade_list:\n",
    "    util.msrecon.build_metabolic_models({\n",
    "        \"workspace\":174284,\n",
    "        \"genome_refs\":[\"174284/\"+clade+\".genome\"],\n",
    "        \"run_gapfilling\":True,\n",
    "        \"atp_safe\":True,\n",
    "        \"forced_atp_list\":[],\n",
    "        \"gapfilling_media_list\":None,\n",
    "        \"suffix\":\".mdl\",\n",
    "        \"core_template\":\"auto\",\n",
    "        \"gs_template\":\"auto\",\n",
    "        \"gs_template_ref\":None,\n",
    "        \"core_template_ref\":None,\n",
    "        \"template_reactions_only\":True,\n",
    "        \"output_core_models\":False,\n",
    "        \"automated_atp_evaluation\":True,\n",
    "        \"atp_medias\":[],\n",
    "        \"load_default_medias\":True,\n",
    "        \"max_gapfilling\":5,\n",
    "        \"gapfilling_delta\":0,\n",
    "        \"return_model_objects\":False,\n",
    "        \"return_data\":False,\n",
    "        \"save_report_to_kbase\":False,\n",
    "        \"change_to_complete\":False,\n",
    "        \"gapfilling_mode\":\"Cumulative\",\n",
    "        \"base_media\":None,\n",
    "        \"compound_list\":None,\n",
    "        \"base_media_target_element\":\"C\"\n",
    "    })"
   ]
  },
  {
   "cell_type": "markdown",
   "metadata": {
    "jp-MarkdownHeadingCollapsed": true,
    "tags": []
   },
   "source": [
    "# Adding probabilities to clade models"
   ]
  },
  {
   "cell_type": "code",
   "execution_count": null,
   "metadata": {},
   "outputs": [],
   "source": [
    "feature_probabilities = util.kbdevutil.load(\"feature_probabilities\")\n",
    "clade_list = [\"UBA954\",\"other\",\"Planktophila\",\"Methylopumilus\",\"Polynucleobacter\",\"Pirellula_B\",\"UBA3064\"]\n",
    "for clade in clade_list:\n",
    "    mdlutl = util.msrecon.get_model(clade+\".genome.mdl\",174284)\n",
    "    for rxn in mdlutl.model.reactions:\n",
    "        highest_prob = None\n",
    "        for gene in rxn.genes:\n",
    "            if gene.id in feature_probabilities:\n",
    "                if highest_prob == None or feature_probabilities[gene.id] > highest_prob:\n",
    "                    highest_prob = feature_probabilities[gene.id]\n",
    "        if highest_prob != None:\n",
    "            rxn.probability = highest_prob\n",
    "            print(clade,rxn.id, highest_prob)\n",
    "        else:\n",
    "            print(clade,rxn.id, \"No probability\")\n",
    "    util.msrecon.save_model(mdlutl,174284,clade+\".genome.mdl\")"
   ]
  },
  {
   "cell_type": "markdown",
   "metadata": {
    "jp-MarkdownHeadingCollapsed": true,
    "tags": []
   },
   "source": [
    "# Printing genome alias translations"
   ]
  },
  {
   "cell_type": "code",
   "execution_count": 21,
   "metadata": {},
   "outputs": [],
   "source": [
    "clade_list = [\"UBA954\",\"other\",\"Planktophila\",\"Methylopumilus\",\"Polynucleobacter\",\"Pirellula_B\",\"UBA3064\"]\n",
    "grow_to_clade = {}\n",
    "for clade in clade_list:\n",
    "    genome = util.kbdevutil.load(clade+\"_genome\")\n",
    "    for ftr in genome[\"features\"]:\n",
    "        if \"aliases\" in ftr:\n",
    "            for alias in ftr[\"aliases\"]:\n",
    "                grow_to_clade[alias[1]] = [ftr[\"id\"],clade]\n",
    "util.kbdevutil.save(\"grow_to_clade\", grow_to_clade)"
   ]
  },
  {
   "cell_type": "markdown",
   "metadata": {
    "jp-MarkdownHeadingCollapsed": true,
    "tags": []
   },
   "source": [
    "# Translating abundances\n",
    "# DONE - but need to explore other coefficients of \"other\""
   ]
  },
  {
   "cell_type": "code",
   "execution_count": null,
   "metadata": {},
   "outputs": [],
   "source": [
    "clade_mag_mapping = util.kbdevutil.load(\"clade_mag_mapping\")\n",
    "mag_list = util.kbdevutil.load(\"mag_list\")\n",
    "mag_abundances = {}\n",
    "condition_list = []\n",
    "abundance = read_csv(\"MetaT/norm.counts.rpk_edger.bins_mean.csv\")\n",
    "for column_name, series in abundance.iteritems():\n",
    "    if column_name != \"rn\" and column_name != \"Unnamed: 0\":\n",
    "        condition_list.append(column_name)\n",
    "for index, row in abundance.iterrows():\n",
    "    if row[\"rn\"] in mag_list:\n",
    "        if row[\"rn\"] not in mag_abundances:\n",
    "            mag_abundances[row[\"rn\"]] = {}\n",
    "        for condition in condition_list:\n",
    "            if condition in row:\n",
    "                mag_abundances[row[\"rn\"]][condition] = row[condition]\n",
    "    else:\n",
    "        print(\"MAG in abundance mismatches other data: \", row[\"rn\"])\n",
    "#Adding up all abundances for mags in clades\n",
    "clade_abundances = {}\n",
    "for clade in clade_mag_mapping:\n",
    "    clade_abundances[clade] = {}\n",
    "    for mag in clade_mag_mapping[clade]:\n",
    "        if mag in mag_abundances:\n",
    "            for condition in mag_abundances[mag]:\n",
    "                if condition not in clade_abundances[clade]:\n",
    "                    clade_abundances[clade][condition] = 0\n",
    "                clade_abundances[clade][condition] += mag_abundances[mag][condition]\n",
    "        else:\n",
    "            print(\"MAG in clade \",clade,\" not found in abundance data:\", mag)\n",
    "    if clade == \"other\":\n",
    "        for condition in condition_list:\n",
    "            clade_abundances[clade][condition] = 0.001*clade_abundances[clade][condition]\n",
    "#Normalizing\n",
    "for condition in condition_list:\n",
    "    total = 0\n",
    "    for clade in clade_abundances:\n",
    "        total += clade_abundances[clade][condition]\n",
    "    for clade in clade_abundances:\n",
    "        clade_abundances[clade][condition] = clade_abundances[clade][condition]/total\n",
    "util.kbdevutil.save(\"condition_list\", condition_list)\n",
    "util.kbdevutil.save(\"mag_abundances\", mag_abundances)\n",
    "util.kbdevutil.save(\"clade_abundances\", clade_abundances)"
   ]
  },
  {
   "cell_type": "markdown",
   "metadata": {
    "jp-MarkdownHeadingCollapsed": true,
    "tags": []
   },
   "source": [
    "# Translating metagenome expression to clade expression"
   ]
  },
  {
   "cell_type": "code",
   "execution_count": 21,
   "metadata": {},
   "outputs": [],
   "source": [
    "condition_list = util.kbdevutil.load(\"condition_list\")\n",
    "grow_to_clade = util.kbdevutil.load(\"grow_to_clade\")\n",
    "util.extract_metaT_data(\"MetaT-20240116T195841Z-001.zip\")\n",
    "metaT = read_csv(\"MetaT/norm.counts.rpk_edger_geTMM.csv\")\n",
    "clade_list = [\"UBA954\",\"other\",\"Planktophila\",\"Methylopumilus\",\"Polynucleobacter\",\"Pirellula_B\",\"UBA3064\"]\n",
    "clade_records = {}\n",
    "feature_entries = {}\n",
    "for clade in clade_list:\n",
    "    clade_records[clade] = []\n",
    "    feature_entries[clade] = {}\n",
    "for index, row in metaT.iterrows():\n",
    "    geneid = row[\"Unnamed: 0\"]\n",
    "    if geneid in grow_to_clade:\n",
    "        clade = grow_to_clade[geneid][1]\n",
    "        ftrid = grow_to_clade[geneid][0]\n",
    "        if ftrid not in feature_entries[clade]:\n",
    "            feature_entries[clade][ftrid] = {\"id\":ftrid}\n",
    "            clade_records[clade].append(feature_entries[clade][ftrid])\n",
    "        for column_name in condition_list:\n",
    "            if column_name not in feature_entries[clade][ftrid]:\n",
    "                feature_entries[clade][ftrid][column_name] = 0\n",
    "            feature_entries[clade][ftrid][column_name] += row[column_name]\n",
    "for clade in clade_list:\n",
    "    df = DataFrame.from_records(clade_records[clade])\n",
    "    df.to_csv(\"MetaT/\"+clade+\"_expression.csv\")\n",
    "util.kbdevutil.save(\"feature_entries\", feature_entries)"
   ]
  },
  {
   "cell_type": "markdown",
   "metadata": {
    "jp-MarkdownHeadingCollapsed": true,
    "tags": []
   },
   "source": [
    "# Building and saving community model"
   ]
  },
  {
   "cell_type": "code",
   "execution_count": null,
   "metadata": {},
   "outputs": [],
   "source": [
    "import cobra\n",
    "clade_list = [\"Planktophila\",\"Methylopumilus\",\"Polynucleobacter\",\"Pirellula_B\",\"UBA3064\",\"UBA954\",\"other\"]\n",
    "member_models = []\n",
    "template_refs = []\n",
    "genome_refs = []\n",
    "for clade in clade_list:\n",
    "    model = util.msrecon.get_model(clade+\".genome.mdl\",174284)\n",
    "    template_refs.append(model.model.template_ref)\n",
    "    genome_refs.append(model.model.genome_ref)\n",
    "    member_models.append(model.model)\n",
    "comm_model = MSCommunity.build_from_species_models(\n",
    "    member_models,\n",
    "    mdlid=\"GROWCladeCommunityModel\", \n",
    "    name=\"GROWCladeCommunityModel\",\n",
    "    names=clade_list,\n",
    "    abundances=None,\n",
    "    #basemodel=base_model\n",
    ")\n",
    "#Saving probabilities\n",
    "community_rxn_probs = {}\n",
    "for rxn in comm_model.model.reactions:\n",
    "    if hasattr(rxn, \"probability\"):\n",
    "        community_rxn_probs[rxn.id] = rxn.probability\n",
    "util.kbdevutil.save(\"community_rxn_probs\", community_rxn_probs)\n",
    "cobra.io.save_json_model(comm_model.model, 'GROW_community_mdl.json')"
   ]
  },
  {
   "cell_type": "markdown",
   "metadata": {
    "jp-MarkdownHeadingCollapsed": true,
    "tags": []
   },
   "source": [
    "# Creating and saving model with abundances of each sample\\\n",
    "# DONOT RUN - ABUNDANCES NOT CACHED"
   ]
  },
  {
   "cell_type": "code",
   "execution_count": null,
   "metadata": {},
   "outputs": [],
   "source": [
    "clade_list = [\"Planktophila\",\"Methylopumilus\",\"Polynucleobacter\",\"Pirellula_B\",\"UBA3064\",\"UBA954\",\"other\"]\n",
    "clade_abundances = util.kbdevutil.load(\"clade_abundances\")\n",
    "model = util.msrecon.get_model(\"BaseCommunity.mdl\",174284)\n",
    "comm_model = MSCommunity(\n",
    "    model=model,\n",
    "    ids=clade_list,\n",
    "    abundances=None,\n",
    "    kinetic_coeff=800,\n",
    "    lp_filename=None,\n",
    "    printing=False\n",
    ")\n",
    "condition_to_community_model = {}\n",
    "for condition in condition_list:\n",
    "    abundance_hash = {}\n",
    "    for clade in clade_abundances:\n",
    "        if condition in clade_abundances[clade]:\n",
    "            abundance_hash[clade] = clade_abundances[clade][condition]\n",
    "    comm_model.set_abundance()\n",
    "    util.msrecon.save_model(comm_model,174284,condition[0:-32].\".commdl\")\n",
    "    condition_to_community_model[condition] = condition[0:-32]+\".commdl\"\n",
    "util.kbdevutil.save(\"condition_to_community_model\", condition_to_community_model)"
   ]
  },
  {
   "cell_type": "markdown",
   "metadata": {},
   "source": [
    "# Simulating community model in each condition"
   ]
  },
  {
   "cell_type": "code",
   "execution_count": 2,
   "metadata": {
    "tags": []
   },
   "outputs": [
    {
     "name": "stdout",
     "output_type": "stream",
     "text": [
      "Set parameter TSPort to value 27070\n"
     ]
    },
    {
     "name": "stderr",
     "output_type": "stream",
     "text": [
      "1714778326.1693442 INFO: Set parameter TSPort to value 27070\n"
     ]
    },
    {
     "name": "stdout",
     "output_type": "stream",
     "text": [
      "Set parameter TokenServer to value \"lic-vmw-01.cels.anl.gov\"\n"
     ]
    },
    {
     "name": "stderr",
     "output_type": "stream",
     "text": [
      "1714778326.1712823 INFO: Set parameter TokenServer to value \"lic-vmw-01.cels.anl.gov\"\n",
      "1714778365.801496 INFO: Making atp hydrolysis reaction for species: Planktophila\n"
     ]
    },
    {
     "name": "stdout",
     "output_type": "stream",
     "text": [
      "bio1 {<Metabolite cpd11416_c0 at 0x7f0f37d78820>: 1, <Metabolite cpd11416_c1 at 0x7f0f37f73f40>: -0.14285714285714285, <Metabolite cpd11416_c2 at 0x7f0f37fc9150>: -0.14285714285714285, <Metabolite cpd11416_c3 at 0x7f0f380189a0>: -0.14285714285714285, <Metabolite cpd11416_c4 at 0x7f0f38059f60>: -0.14285714285714285, <Metabolite cpd11416_c5 at 0x7f0f37eb4040>: -0.14285714285714285, <Metabolite cpd11416_c6 at 0x7f0f37ef68c0>: -0.14285714285714285, <Metabolite cpd11416_c7 at 0x7f0f37d787f0>: -0.14285714285714285}\n",
      "SK_cpd11416_c0 {<Metabolite cpd11416_c0 at 0x7f0f37d78820>: -1}\n"
     ]
    },
    {
     "name": "stderr",
     "output_type": "stream",
     "text": [
      "1714778366.2230182 INFO: Making atp hydrolysis reaction for species: Methylopumilus\n"
     ]
    },
    {
     "name": "stdout",
     "output_type": "stream",
     "text": [
      "1 Planktophila\n"
     ]
    },
    {
     "name": "stderr",
     "output_type": "stream",
     "text": [
      "1714778366.6386397 INFO: Making atp hydrolysis reaction for species: Polynucleobacter\n"
     ]
    },
    {
     "name": "stdout",
     "output_type": "stream",
     "text": [
      "2 Methylopumilus\n"
     ]
    },
    {
     "name": "stderr",
     "output_type": "stream",
     "text": [
      "1714778367.0561483 INFO: Making atp hydrolysis reaction for species: Pirellula_B\n"
     ]
    },
    {
     "name": "stdout",
     "output_type": "stream",
     "text": [
      "3 Polynucleobacter\n"
     ]
    },
    {
     "name": "stderr",
     "output_type": "stream",
     "text": [
      "1714778368.1148453 INFO: Making atp hydrolysis reaction for species: UBA3064\n"
     ]
    },
    {
     "name": "stdout",
     "output_type": "stream",
     "text": [
      "4 Pirellula_B\n"
     ]
    },
    {
     "name": "stderr",
     "output_type": "stream",
     "text": [
      "1714778368.5331283 INFO: Making atp hydrolysis reaction for species: UBA954\n"
     ]
    },
    {
     "name": "stdout",
     "output_type": "stream",
     "text": [
      "5 UBA3064\n"
     ]
    },
    {
     "name": "stderr",
     "output_type": "stream",
     "text": [
      "1714778368.9486165 INFO: Making atp hydrolysis reaction for species: other\n"
     ]
    },
    {
     "name": "stdout",
     "output_type": "stream",
     "text": [
      "6 UBA954\n",
      "7 other\n",
      "Initial growth: 3.5342838679718573\n",
      "Carbon uptake: 300.0\n",
      "Initial growth: 3.5593984074140224\n",
      "Carbon uptake: 300.0\n",
      "Initial growth: 3.683535602675825\n",
      "Carbon uptake: 300.0\n",
      "Initial growth: 3.5673115220646547\n",
      "Carbon uptake: 300.0\n",
      "Initial growth: 3.150987657525395\n",
      "Carbon uptake: 300.0\n",
      "Initial growth: 3.509839832269794\n",
      "Carbon uptake: 300.0\n",
      "Initial growth: 3.4439962258959627\n",
      "Carbon uptake: 300.0\n",
      "Initial growth: 3.278480206444181\n",
      "Carbon uptake: 300.0\n",
      "Initial growth: 3.479604531795097\n",
      "Carbon uptake: 300.0\n",
      "Initial growth: 3.1912792601250572\n",
      "Carbon uptake: 300.0\n",
      "Initial growth: 3.4928328805444373\n",
      "Carbon uptake: 300.0\n",
      "Initial growth: 3.502040875664716\n",
      "Carbon uptake: 300.0\n",
      "Initial growth: 3.2816564044430048\n",
      "Carbon uptake: 300.0\n",
      "Initial growth: 3.463412369330025\n",
      "Carbon uptake: 300.0\n",
      "Initial growth: 3.5610541275040357\n",
      "Carbon uptake: 300.0\n",
      "Initial growth: 3.223253607381359\n",
      "Carbon uptake: 300.0\n",
      "Initial growth: 3.393570506603113\n",
      "Carbon uptake: 300.0\n",
      "Initial growth: 3.425107873960122\n",
      "Carbon uptake: 300.0\n",
      "Initial growth: 3.3550192229419933\n",
      "Carbon uptake: 300.0\n",
      "Initial growth: 3.2393823288704855\n",
      "Carbon uptake: 300.0\n",
      "Initial growth: 3.4033644305239457\n",
      "Carbon uptake: 300.0\n",
      "Initial growth: 3.4449808841768395\n",
      "Carbon uptake: 300.0\n",
      "Initial growth: 3.2885621907874825\n",
      "Carbon uptake: 300.0\n",
      "Initial growth: 3.2619462547249816\n",
      "Carbon uptake: 300.0\n",
      "Initial growth: 3.2914081937483854\n",
      "Carbon uptake: 300.0\n",
      "Initial growth: 3.2312604184710128\n",
      "Carbon uptake: 300.0\n",
      "Initial growth: 3.6023266729468917\n",
      "Carbon uptake: 300.0\n",
      "Initial growth: 3.5319060163999203\n",
      "Carbon uptake: 300.0\n",
      "Initial growth: 3.457461697727434\n",
      "Carbon uptake: 300.0\n",
      "Initial growth: 3.206982233822743\n",
      "Carbon uptake: 300.0\n",
      "Initial growth: 3.2399502917649303\n",
      "Carbon uptake: 300.0\n",
      "Initial growth: 3.2775090112561065\n",
      "Carbon uptake: 300.0\n",
      "Initial growth: 3.179155565327629\n",
      "Carbon uptake: 300.0\n",
      "Initial growth: 3.4972680923519235\n",
      "Carbon uptake: 300.0\n",
      "Initial growth: 3.5963974650534714\n",
      "Carbon uptake: 300.0\n",
      "Initial growth: 3.3874543736488856\n",
      "Carbon uptake: 300.0\n",
      "Initial growth: 3.78468641397292\n",
      "Carbon uptake: 300.0\n",
      "Initial growth: 3.470695481884764\n",
      "Carbon uptake: 300.0\n",
      "Initial growth: 3.494882811144871\n",
      "Carbon uptake: 300.0\n",
      "Initial growth: 3.372121464914353\n",
      "Carbon uptake: 300.0\n",
      "Initial growth: 3.224471098194193\n",
      "Carbon uptake: 300.0\n",
      "Initial growth: 3.584943911076162\n",
      "Carbon uptake: 300.0\n",
      "Initial growth: 3.2459350285161963\n",
      "Carbon uptake: 300.0\n",
      "Initial growth: 3.2981982546516813\n",
      "Carbon uptake: 300.0\n",
      "Initial growth: 3.5753960698856377\n",
      "Carbon uptake: 300.0\n",
      "Initial growth: 3.481695547840909\n",
      "Carbon uptake: 300.0\n",
      "Initial growth: 3.0469006213372394\n",
      "Carbon uptake: 300.0\n",
      "Initial growth: 3.4446731462909463\n",
      "Carbon uptake: 300.0\n",
      "Initial growth: 3.2196566943529668\n",
      "Carbon uptake: 300.0\n",
      "Initial growth: 3.5912995373724392\n",
      "Carbon uptake: 300.0\n",
      "Initial growth: 3.117413978341379\n",
      "Carbon uptake: 300.0\n",
      "Initial growth: 3.1903424244612055\n",
      "Carbon uptake: 300.0\n",
      "Initial growth: 3.2502174670936217\n",
      "Carbon uptake: 300.0\n",
      "Initial growth: 3.1655024606283244\n",
      "Carbon uptake: 300.0\n",
      "Initial growth: 3.5851780837320133\n",
      "Carbon uptake: 300.0\n",
      "Initial growth: 3.517163035753065\n",
      "Carbon uptake: 300.0\n",
      "Initial growth: 3.452184489688303\n",
      "Carbon uptake: 300.0\n"
     ]
    },
    {
     "name": "stderr",
     "output_type": "stream",
     "text": [
      "1714780532.4691508 INFO: Making atp hydrolysis reaction for species: Planktophila\n"
     ]
    },
    {
     "name": "stdout",
     "output_type": "stream",
     "text": [
      "bio1 {<Metabolite cpd11416_c0 at 0x7f0f30b15d50>: 1, <Metabolite cpd11416_c1 at 0x7f0f2bdb29b0>: -0.14285714285714285, <Metabolite cpd11416_c2 at 0x7f0f2b0f7a30>: -0.14285714285714285, <Metabolite cpd11416_c3 at 0x7f0f3087e9e0>: -0.14285714285714285, <Metabolite cpd11416_c4 at 0x7f0f30c86290>: -0.14285714285714285, <Metabolite cpd11416_c5 at 0x7f0f32e94070>: -0.14285714285714285, <Metabolite cpd11416_c6 at 0x7f0f3200b1c0>: -0.14285714285714285, <Metabolite cpd11416_c7 at 0x7f0f30b15cc0>: -0.14285714285714285}\n",
      "SK_cpd11416_c0 {<Metabolite cpd11416_c0 at 0x7f0f30b15d50>: -1}\n"
     ]
    },
    {
     "name": "stderr",
     "output_type": "stream",
     "text": [
      "1714780532.8851466 INFO: Making atp hydrolysis reaction for species: Methylopumilus\n"
     ]
    },
    {
     "name": "stdout",
     "output_type": "stream",
     "text": [
      "1 Planktophila\n"
     ]
    },
    {
     "name": "stderr",
     "output_type": "stream",
     "text": [
      "1714780533.3054457 INFO: Making atp hydrolysis reaction for species: Polynucleobacter\n"
     ]
    },
    {
     "name": "stdout",
     "output_type": "stream",
     "text": [
      "2 Methylopumilus\n"
     ]
    },
    {
     "name": "stderr",
     "output_type": "stream",
     "text": [
      "1714780533.719418 INFO: Making atp hydrolysis reaction for species: Pirellula_B\n"
     ]
    },
    {
     "name": "stdout",
     "output_type": "stream",
     "text": [
      "3 Polynucleobacter\n"
     ]
    },
    {
     "name": "stderr",
     "output_type": "stream",
     "text": [
      "1714780534.133667 INFO: Making atp hydrolysis reaction for species: UBA3064\n"
     ]
    },
    {
     "name": "stdout",
     "output_type": "stream",
     "text": [
      "4 Pirellula_B\n"
     ]
    },
    {
     "name": "stderr",
     "output_type": "stream",
     "text": [
      "1714780534.5473502 INFO: Making atp hydrolysis reaction for species: UBA954\n"
     ]
    },
    {
     "name": "stdout",
     "output_type": "stream",
     "text": [
      "5 UBA3064\n"
     ]
    },
    {
     "name": "stderr",
     "output_type": "stream",
     "text": [
      "1714780534.9694104 INFO: Making atp hydrolysis reaction for species: other\n"
     ]
    },
    {
     "name": "stdout",
     "output_type": "stream",
     "text": [
      "6 UBA954\n",
      "7 other\n",
      "Initial growth: 5.225500243169891\n",
      "Carbon uptake: 300.0\n",
      "Initial growth: 5.976217938951869\n",
      "Carbon uptake: 300.0\n",
      "Initial growth: 6.910114518009901\n",
      "Carbon uptake: 300.0\n",
      "Initial growth: 5.219279013327637\n",
      "Carbon uptake: 300.0\n",
      "Initial growth: 3.6619444148411997\n",
      "Carbon uptake: 300.0\n",
      "Initial growth: 4.987402304034653\n",
      "Carbon uptake: 300.0\n",
      "Initial growth: 4.65784900844813\n",
      "Carbon uptake: 300.0\n",
      "Initial growth: 3.9206821348166576\n",
      "Carbon uptake: 300.0\n",
      "Initial growth: 5.002543572578524\n",
      "Carbon uptake: 300.0\n",
      "Initial growth: 3.741989308698848\n",
      "Carbon uptake: 300.0\n",
      "Initial growth: 5.103271706421676\n",
      "Carbon uptake: 300.0\n",
      "Initial growth: 4.958414157596418\n",
      "Carbon uptake: 300.0\n",
      "Initial growth: 3.9315850495357814\n",
      "Carbon uptake: 300.0\n",
      "Initial growth: 4.32012185204481\n",
      "Carbon uptake: 300.0\n",
      "Initial growth: 5.891508542654694\n",
      "Carbon uptake: 300.0\n",
      "Initial growth: 3.901384739964994\n",
      "Carbon uptake: 300.0\n",
      "Initial growth: 4.219097075269986\n",
      "Carbon uptake: 300.0\n",
      "Initial growth: 4.456614524515212\n",
      "Carbon uptake: 300.0\n",
      "Initial growth: 3.95276103796105\n",
      "Carbon uptake: 300.0\n",
      "Initial growth: 3.960789913574229\n",
      "Carbon uptake: 300.0\n",
      "Initial growth: 4.2717220999486445\n",
      "Carbon uptake: 300.0\n",
      "Initial growth: 4.648056771390738\n",
      "Carbon uptake: 300.0\n",
      "Initial growth: 3.9364793208117463\n",
      "Carbon uptake: 300.0\n",
      "Initial growth: 3.9073453706787635\n",
      "Carbon uptake: 300.0\n",
      "Initial growth: 4.1166261105989435\n",
      "Carbon uptake: 300.0\n",
      "Initial growth: 3.9109093759492\n",
      "Carbon uptake: 300.0\n",
      "Initial growth: 5.882351052480975\n",
      "Carbon uptake: 300.0\n",
      "Initial growth: 5.112167878728118\n",
      "Carbon uptake: 300.0\n",
      "Initial growth: 4.750216525339988\n",
      "Carbon uptake: 300.0\n",
      "Initial growth: 3.7848124828023053\n",
      "Carbon uptake: 300.0\n",
      "Initial growth: 3.888527221558705\n",
      "Carbon uptake: 300.0\n",
      "Initial growth: 3.9269790115679712\n",
      "Carbon uptake: 300.0\n",
      "Initial growth: 3.8995362316748112\n",
      "Carbon uptake: 300.0\n",
      "Initial growth: 5.012527252305784\n",
      "Carbon uptake: 300.0\n",
      "Initial growth: 5.564067863266145\n",
      "Carbon uptake: 300.0\n",
      "Initial growth: 4.265722626266152\n",
      "Carbon uptake: 300.0\n",
      "Initial growth: 4.662688116714733\n",
      "Carbon uptake: 300.0\n",
      "Initial growth: 4.886654559324607\n",
      "Carbon uptake: 300.0\n",
      "Initial growth: 5.336111121832505\n",
      "Carbon uptake: 300.0\n",
      "Initial growth: 4.239336820085943\n",
      "Carbon uptake: 300.0\n",
      "Initial growth: 3.854843546147581\n",
      "Carbon uptake: 300.0\n",
      "Initial growth: 6.283424859719786\n",
      "Carbon uptake: 300.0\n",
      "Initial growth: 3.8727336611666177\n",
      "Carbon uptake: 300.0\n",
      "Initial growth: 3.9548962976044946\n",
      "Carbon uptake: 300.0\n",
      "Initial growth: 5.991719206392468\n",
      "Carbon uptake: 300.0\n",
      "Initial growth: 4.672665430584779\n",
      "Carbon uptake: 300.0\n",
      "Initial growth: 3.432543846631481\n",
      "Carbon uptake: 300.0\n",
      "Initial growth: 4.429591158325094\n",
      "Carbon uptake: 300.0\n",
      "Initial growth: 3.877029459262625\n",
      "Carbon uptake: 300.0\n",
      "Initial growth: 5.899461057127845\n",
      "Carbon uptake: 300.0\n",
      "Initial growth: 3.516261212578028\n",
      "Carbon uptake: 300.0\n",
      "Initial growth: 3.7689295151090803\n",
      "Carbon uptake: 300.0\n",
      "Initial growth: 3.904303481235487\n",
      "Carbon uptake: 300.0\n",
      "Initial growth: 3.792568120352787\n",
      "Carbon uptake: 300.0\n",
      "Initial growth: 6.026041327048449\n",
      "Carbon uptake: 300.0\n",
      "Initial growth: 5.282518517830184\n",
      "Carbon uptake: 300.0\n",
      "Initial growth: 4.507512660600768\n",
      "Carbon uptake: 300.0\n"
     ]
    },
    {
     "name": "stderr",
     "output_type": "stream",
     "text": [
      "1714783895.8102078 INFO: Making atp hydrolysis reaction for species: Planktophila\n"
     ]
    },
    {
     "name": "stdout",
     "output_type": "stream",
     "text": [
      "bio1 {<Metabolite cpd11416_c0 at 0x7f0f1fac6530>: 1, <Metabolite cpd11416_c1 at 0x7f0f302a2260>: -0.14285714285714285, <Metabolite cpd11416_c2 at 0x7f0f1fa55e40>: -0.14285714285714285, <Metabolite cpd11416_c3 at 0x7f0f31ae3640>: -0.14285714285714285, <Metabolite cpd11416_c4 at 0x7f0f1fae89a0>: -0.14285714285714285, <Metabolite cpd11416_c5 at 0x7f0f2035ed10>: -0.14285714285714285, <Metabolite cpd11416_c6 at 0x7f0f2a756320>: -0.14285714285714285, <Metabolite cpd11416_c7 at 0x7f0f1fac6500>: -0.14285714285714285}\n",
      "SK_cpd11416_c0 {<Metabolite cpd11416_c0 at 0x7f0f1fac6530>: -1}\n"
     ]
    },
    {
     "name": "stderr",
     "output_type": "stream",
     "text": [
      "1714783896.221168 INFO: Making atp hydrolysis reaction for species: Methylopumilus\n"
     ]
    },
    {
     "name": "stdout",
     "output_type": "stream",
     "text": [
      "1 Planktophila\n"
     ]
    },
    {
     "name": "stderr",
     "output_type": "stream",
     "text": [
      "1714783896.6293986 INFO: Making atp hydrolysis reaction for species: Polynucleobacter\n"
     ]
    },
    {
     "name": "stdout",
     "output_type": "stream",
     "text": [
      "2 Methylopumilus\n"
     ]
    },
    {
     "name": "stderr",
     "output_type": "stream",
     "text": [
      "1714783897.0496464 INFO: Making atp hydrolysis reaction for species: Pirellula_B\n"
     ]
    },
    {
     "name": "stdout",
     "output_type": "stream",
     "text": [
      "3 Polynucleobacter\n"
     ]
    },
    {
     "name": "stderr",
     "output_type": "stream",
     "text": [
      "1714783897.4814906 INFO: Making atp hydrolysis reaction for species: UBA3064\n"
     ]
    },
    {
     "name": "stdout",
     "output_type": "stream",
     "text": [
      "4 Pirellula_B\n"
     ]
    },
    {
     "name": "stderr",
     "output_type": "stream",
     "text": [
      "1714783897.893432 INFO: Making atp hydrolysis reaction for species: UBA954\n"
     ]
    },
    {
     "name": "stdout",
     "output_type": "stream",
     "text": [
      "5 UBA3064\n"
     ]
    },
    {
     "name": "stderr",
     "output_type": "stream",
     "text": [
      "1714783898.3103201 INFO: Making atp hydrolysis reaction for species: other\n"
     ]
    },
    {
     "name": "stdout",
     "output_type": "stream",
     "text": [
      "6 UBA954\n",
      "7 other\n",
      "Initial growth: 6.512437291458668\n",
      "Carbon uptake: 300.0\n",
      "Initial growth: 8.160467481448396\n",
      "Carbon uptake: 300.0\n",
      "Initial growth: 8.445269408632264\n",
      "Carbon uptake: 300.0\n",
      "Initial growth: 6.6799348354385275\n",
      "Carbon uptake: 300.0\n",
      "Initial growth: 4.423991370515942\n",
      "Carbon uptake: 300.0\n",
      "Initial growth: 6.050109891434495\n",
      "Carbon uptake: 300.0\n",
      "Initial growth: 5.801320632222206\n",
      "Carbon uptake: 300.0\n",
      "Initial growth: 4.762949399460598\n",
      "Carbon uptake: 300.0\n",
      "Initial growth: 6.361438978568627\n",
      "Carbon uptake: 300.0\n",
      "Initial growth: 4.529316966631035\n",
      "Carbon uptake: 300.0\n",
      "Initial growth: 6.4842475162865405\n",
      "Carbon uptake: 300.0\n",
      "Initial growth: 6.14449659655651\n",
      "Carbon uptake: 300.0\n",
      "Initial growth: 4.782414981775182\n",
      "Carbon uptake: 300.0\n",
      "Initial growth: 5.261148939283044\n",
      "Carbon uptake: 300.0\n",
      "Initial growth: 8.011888932969175\n",
      "Carbon uptake: 300.0\n",
      "Initial growth: 4.7750549731742025\n",
      "Carbon uptake: 300.0\n",
      "Initial growth: 5.118110850445807\n",
      "Carbon uptake: 300.0\n",
      "Initial growth: 5.441755002706369\n",
      "Carbon uptake: 300.0\n",
      "Initial growth: 4.7905751594424935\n",
      "Carbon uptake: 300.0\n",
      "Initial growth: 4.81608731834364\n",
      "Carbon uptake: 300.0\n",
      "Initial growth: 5.25048050695449\n",
      "Carbon uptake: 300.0\n",
      "Initial growth: 5.738523539656195\n",
      "Carbon uptake: 300.0\n",
      "Initial growth: 4.790143254407577\n",
      "Carbon uptake: 300.0\n",
      "Initial growth: 4.768459555450043\n",
      "Carbon uptake: 300.0\n",
      "Initial growth: 5.05975983674901\n",
      "Carbon uptake: 300.0\n",
      "Initial growth: 4.786735433804653\n",
      "Carbon uptake: 300.0\n",
      "Initial growth: 7.981234221073477\n",
      "Carbon uptake: 300.0\n",
      "Initial growth: 6.51772468782854\n",
      "Carbon uptake: 300.0\n",
      "Initial growth: 5.829889248341768\n",
      "Carbon uptake: 300.0\n",
      "Initial growth: 4.6091167910357616\n",
      "Carbon uptake: 300.0\n",
      "Initial growth: 4.719545080400418\n",
      "Carbon uptake: 300.0\n",
      "Initial growth: 4.77423000999029\n",
      "Carbon uptake: 300.0\n",
      "Initial growth: 4.7953959921119695\n",
      "Carbon uptake: 300.0\n",
      "Initial growth: 6.094318029089738\n",
      "Carbon uptake: 300.0\n",
      "Initial growth: 7.458437493921411\n",
      "Carbon uptake: 300.0\n",
      "Initial growth: 5.183001333848794\n",
      "Carbon uptake: 300.0\n",
      "Initial growth: 5.633840454555435\n",
      "Carbon uptake: 300.0\n",
      "Initial growth: 6.005710188864041\n",
      "Carbon uptake: 300.0\n",
      "Initial growth: 6.7557597574499235\n",
      "Carbon uptake: 300.0\n",
      "Initial growth: 5.1034352109521315\n",
      "Carbon uptake: 300.0\n",
      "Initial growth: 4.703111781141829\n",
      "Carbon uptake: 300.0\n",
      "Initial growth: 8.445304172610959\n",
      "Carbon uptake: 300.0\n",
      "Initial growth: 4.709899036351023\n",
      "Carbon uptake: 300.0\n",
      "Initial growth: 4.803294731305424\n",
      "Carbon uptake: 300.0\n",
      "Initial growth: 8.261202779172818\n",
      "Carbon uptake: 300.0\n",
      "Initial growth: 5.6509307894855425\n",
      "Carbon uptake: 300.0\n",
      "Initial growth: 4.1688253902676555\n",
      "Carbon uptake: 300.0\n",
      "Initial growth: 5.409167367511449\n",
      "Carbon uptake: 300.0\n",
      "Initial growth: 4.691237944673797\n",
      "Carbon uptake: 300.0\n",
      "Initial growth: 7.694457013286804\n",
      "Carbon uptake: 300.0\n",
      "Initial growth: 4.279446346856597\n",
      "Carbon uptake: 300.0\n",
      "Initial growth: 4.586925714094958\n",
      "Carbon uptake: 300.0\n",
      "Initial growth: 4.758394190475663\n",
      "Carbon uptake: 300.0\n",
      "Initial growth: 4.60065894093512\n",
      "Carbon uptake: 300.0\n",
      "Initial growth: 8.239166194397647\n",
      "Carbon uptake: 300.0\n",
      "Initial growth: 6.617163243281159\n",
      "Carbon uptake: 300.0\n",
      "Initial growth: 5.454452428246906\n",
      "Carbon uptake: 300.0\n"
     ]
    }
   ],
   "source": [
    "from optlang.symbolics import Zero, add\n",
    "import cobra\n",
    "loadedmodel = cobra.io.load_json_model('GROW_community_mdl.json')\n",
    "loadedmodel.solver = 'gurobi'\n",
    "dipeptide_exchanges = [\n",
    "    \"EX_cpd11591_e0\",\n",
    "    \"EX_cpd11589_e0\",\n",
    "    \"EX_cpd15605_e0\",\n",
    "    \"EX_cpd11588_e0\",\n",
    "    \"EX_cpd11583_e0\",\n",
    "    \"EX_cpd11580_e0\",\n",
    "    \"EX_cpd11593_e0\",\n",
    "    \"EX_cpd11585_e0\",\n",
    "    \"EX_cpd11586_e0\",\n",
    "    \"EX_cpd15604_e0\",\n",
    "    \"EX_cpd11581_e0\",\n",
    "    \"EX_cpd01017_e0\",\n",
    "    \"EX_cpd11590_e0\",\n",
    "    \"EX_cpd11592_e0\",\n",
    "    \"EX_cpd11584_e0\",\n",
    "    \"EX_cpd00731_e0\",\n",
    "    \"EX_cpd15603_e0\",\n",
    "    \"EX_cpd11587_e0\",\n",
    "    \"EX_cpd11582_e0\",\n",
    "    \"EX_cpd15606_e0\",\n",
    "    \"EX_cpd03424_e0\",\n",
    "    \"EX_cpd00423_e0\",\n",
    "    \"EX_cpd00080_e0\",\n",
    "    \"EX_cpd02233_e0\",\n",
    "    \"EX_cpd00355_e0\",\n",
    "    \"EX_cpd00235_e0\",\n",
    "    \"EX_cpd00079_e0\",\n",
    "    \"EX_cpd01912_e0\"\n",
    "]\n",
    "clade_list = [\"Planktophila\",\"Methylopumilus\",\"Polynucleobacter\",\"Pirellula_B\",\"UBA3064\",\"UBA954\",\"other\"]\n",
    "community_rxn_probs = util.load(\"community_rxn_probs\")\n",
    "clade_abundances = util.load(\"clade_abundances\")\n",
    "condition_list = util.load(\"condition_list\")\n",
    "feature_entries = util.load(\"feature_entries\")\n",
    "min_prob = 0.05\n",
    "min_expression = 0\n",
    "exp_coef = -100\n",
    "prob_exp = 1\n",
    "ex_weight = 1\n",
    "oxygen_uptake = 20\n",
    "kinetics_coefs = [400,700,1000]\n",
    "clade_expression_hash = {}\n",
    "for kinetics_coef in kinetics_coefs:\n",
    "    output = {\n",
    "        \"kinetics_coef\":kinetics_coef,\n",
    "        \"conditions\":{}\n",
    "    }\n",
    "    model_copy = cobra.io.json.from_json(cobra.io.json.to_json(loadedmodel))\n",
    "    current_comm_model = MSCommunity(\n",
    "        model=model_copy,\n",
    "        names=clade_list\n",
    "    )\n",
    "    mdlutl = current_comm_model.mdlutl\n",
    "    pkgmgr = MSPackageManager.get_pkg_mgr(mdlutl)\n",
    "    media = util.msrecon.get_media(\"KBaseMedia/Complete\")\n",
    "    for condition in condition_list:\n",
    "        clade_expression_hash[condition] = {}\n",
    "        output[\"conditions\"][condition] = {\"solution\":{}}\n",
    "        pkgmgr.getpkg(\"ObjConstPkg\").clear()\n",
    "        #Setting abundances from condition abundance data\n",
    "        abundance_hash = {}\n",
    "        for clade in clade_abundances:\n",
    "            if condition in clade_abundances[clade]:\n",
    "                abundance_hash[clade] = clade_abundances[clade][condition]\n",
    "        current_comm_model.set_abundance(abundance_hash)\n",
    "        #Setting media\n",
    "        pkgmgr.getpkg(\"KBaseMediaPkg\").build_package(media)\n",
    "        #Adding commkinetic constraints\n",
    "        pkgmgr.getpkg(\"CommKineticPkg\").build_package(kinetics_coef, current_comm_model)\n",
    "        #Adding elemental uptake constraints\n",
    "        pkgmgr.getpkg(\"ElementUptakePkg\").build_package({\"C\": 300})\n",
    "        for rxn in loadedmodel.reactions:\n",
    "            if \"EX_\" == rxn.id[0:3]:\n",
    "                currrxn = current_comm_model.model.reactions.get_by_id(rxn.id)\n",
    "                if rxn.id in dipeptide_exchanges:\n",
    "                    currrxn.lower_bound = 0\n",
    "                    currrxn.upper_bound = 0\n",
    "                elif rxn.id == \"EX_cpd00007_e0\":\n",
    "                    currrxn.lower_bound = -1*oxygen_uptake\n",
    "                else:\n",
    "                    if currrxn.lower_bound < 0:\n",
    "                        currrxn.lower_bound = -1000\n",
    "                    if currrxn.upper_bound > 0:\n",
    "                        currrxn.upper_bound = 1000\n",
    "        #Maximize biomass production\n",
    "        #mdlutl.model.objective = \"bio1\"\n",
    "        mdlutl.model.objective = mdlutl.model.problem.Objective(Zero, direction=\"max\")\n",
    "        mdlutl.model.objective.set_linear_coefficients({mdlutl.model.reactions.bio1.forward_variable: 1})\n",
    "        current_comm_model.print_lp(\"Run.lp\")\n",
    "        output[\"conditions\"][condition][\"max_growth\"] = mdlutl.model.slim_optimize()\n",
    "        output[\"conditions\"][condition][\"carbon_uptake\"] = pkgmgr.getpkg(\"ElementUptakePkg\").variables[\"elements\"][\"C\"].primal\n",
    "        print(\"Initial growth:\", output[\"conditions\"][condition][\"max_growth\"])\n",
    "        print(\"Carbon uptake:\",output[\"conditions\"][condition][\"carbon_uptake\"])\n",
    "        if str(output[\"conditions\"][condition][\"max_growth\"]) == \"nan\":\n",
    "            print(\"Skipping condition due to infeasibility\", condition)\n",
    "            continue\n",
    "        #Constraining to 90% of community biomass\n",
    "        pkgmgr.getpkg(\"ObjConstPkg\").clear()\n",
    "        pkgmgr.getpkg(\"ObjConstPkg\").build_package(output[\"conditions\"][condition][\"max_growth\"] * 0.9, None)\n",
    "        #Creating minimal probability objective\n",
    "        coef = {}\n",
    "        for rxn in loadedmodel.reactions:\n",
    "            if \"rxn\" == rxn.id[0:3]:\n",
    "                probability = community_rxn_probs[rxn.id]\n",
    "                currrxn = current_comm_model.model.reactions.get_by_id(rxn.id)\n",
    "                coef.update(\n",
    "                    {\n",
    "                        currrxn.forward_variable: max(\n",
    "                            min_prob, (1 - float(probability) ** prob_exp)\n",
    "                        )\n",
    "                    }\n",
    "                )\n",
    "                coef.update(\n",
    "                    {\n",
    "                        currrxn.reverse_variable: max(\n",
    "                            min_prob, (1 - float(probability) ** prob_exp)\n",
    "                        )\n",
    "                    }\n",
    "                )\n",
    "            elif \"EX_\" == rxn.id[0:3]:\n",
    "                currrxn = current_comm_model.model.reactions.get_by_id(rxn.id)\n",
    "                coef.update({currrxn.forward_variable: ex_weight})\n",
    "                coef.update({currrxn.reverse_variable: ex_weight})\n",
    "        #Adding expression data to minimum probability objective\n",
    "        for clade in feature_entries:\n",
    "            total = 0\n",
    "            for ftr in feature_entries[clade]:\n",
    "                total += feature_entries[clade][ftr][condition]\n",
    "            for ftr in feature_entries[clade]:\n",
    "                feature_entries[clade][ftr][condition] = feature_entries[clade][ftr][condition]/total\n",
    "        filter = {}\n",
    "        for rxn in mdlutl.model.reactions:\n",
    "            highest_exp = 0\n",
    "            for gene in rxn.genes:\n",
    "                array = gene.id.split(\"_\")\n",
    "                array.pop()\n",
    "                clade = \"_\".join(array)\n",
    "                if gene.id in feature_entries[clade] and condition in feature_entries[clade][gene.id]:\n",
    "                    if feature_entries[clade][gene.id][condition] > highest_exp:\n",
    "                        highest_exp = feature_entries[clade][gene.id][condition]\n",
    "                    if feature_entries[clade][gene.id][condition] > 0:\n",
    "                        if clade not in clade_expression_hash[condition]:\n",
    "                            clade_expression_hash[condition][clade] = 0\n",
    "                        clade_expression_hash[condition][clade] += 1\n",
    "            if highest_exp > min_expression and exp_coef != 0:\n",
    "                if rxn.upper_bound > 0:\n",
    "                    coef.update(\n",
    "                        {\n",
    "                            rxn.forward_variable: exp_coef * highest_exp\n",
    "                        }\n",
    "                    )\n",
    "                if rxn.lower_bound < 0:\n",
    "                    coef.update(\n",
    "                        {\n",
    "                            rxn.reverse_variable: exp_coef * highest_exp\n",
    "                        }\n",
    "                    )\n",
    "                if rxn.upper_bound > 0 and rxn.lower_bound < 0:\n",
    "                    filter[rxn.id] = 1\n",
    "        #Setting the objective\n",
    "        if condition == condition_list[0] and exp_coef != 0:\n",
    "            pkgmgr.getpkg(\"RevBinPkg\").build_package(filter=filter)\n",
    "        mdlutl.model.objective = mdlutl.model.problem.Objective(Zero, direction=\"min\")\n",
    "        mdlutl.model.objective.set_linear_coefficients(coef)\n",
    "        with open(\"lp/\"+condition+\".lp\", \"w\") as out:\n",
    "            out.write(str(mdlutl.model.solver))\n",
    "        #Solving the LP\n",
    "        solution = mdlutl.model.optimize()\n",
    "        output[\"conditions\"][condition][\"objective\"] = solution.objective_value\n",
    "        output[\"conditions\"][condition][\"solution\"][rxn.id] = solution.fluxes[rxn.id]\n",
    "        for rxn in mdlutl.model.reactions:\n",
    "            output[\"conditions\"][condition][\"solution\"][rxn.id] = solution.fluxes[rxn.id]\n",
    "    util.save(str(oxygen_uptake)+\"o2_\"+str(kinetics_coef)+\"_\"+str(abs(exp_coef))+\"exp_output\", output)\n",
    "    filename = util.output_dir+\"/\"+str(oxygen_uptake)+\"o2_\"+str(kinetics_coef)+\"_\"+str(abs(exp_coef))+\"exp.csv\"\n",
    "    with open(filename, 'w') as f:\n",
    "        records = [\n",
    "            {\"id\":\"max_growth\"},\n",
    "            {\"id\":\"carbon_uptake\"},\n",
    "            {\"id\":\"objective\"},\n",
    "        ]\n",
    "        rxn_record_hash = {}\n",
    "        for condition in output[\"conditions\"]:\n",
    "            records[0][condition] = output[\"conditions\"][condition][\"max_growth\"]\n",
    "            records[1][condition] = output[\"conditions\"][condition][\"carbon_uptake\"]\n",
    "            records[2][condition] = output[\"conditions\"][condition][\"objective\"]\n",
    "            solution = output[\"conditions\"][condition][\"solution\"]\n",
    "            for rxn in solution:\n",
    "                if rxn not in rxn_record_hash:\n",
    "                    rxn_record_hash[rxn] = {}\n",
    "                    rxn_record_hash[rxn][\"id\"] = rxn\n",
    "                    records.append(rxn_record_hash[rxn])\n",
    "                rxn_record_hash[rxn][condition] = solution[rxn]\n",
    "    df = DataFrame.from_records(records)\n",
    "    df.to_csv(filename)"
   ]
  },
  {
   "cell_type": "code",
   "execution_count": null,
   "metadata": {},
   "outputs": [],
   "source": []
  }
 ],
 "metadata": {
  "kernelspec": {
   "display_name": "COBRA cplex",
   "language": "python",
   "name": "modelseed_cplex"
  },
  "language_info": {
   "codemirror_mode": {
    "name": "ipython",
    "version": 3
   },
   "file_extension": ".py",
   "mimetype": "text/x-python",
   "name": "python",
   "nbconvert_exporter": "python",
   "pygments_lexer": "ipython3",
   "version": "3.10.12"
  }
 },
 "nbformat": 4,
 "nbformat_minor": 4
}
