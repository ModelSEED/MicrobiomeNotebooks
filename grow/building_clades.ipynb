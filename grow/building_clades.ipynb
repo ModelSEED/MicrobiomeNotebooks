{
 "cells": [
  {
   "attachments": {},
   "cell_type": "markdown",
   "metadata": {},
   "source": [
    "# Parse the spreadsheet information"
   ]
  },
  {
   "cell_type": "code",
   "execution_count": 15,
   "metadata": {},
   "outputs": [],
   "source": [
    "from pandas import read_excel\n",
    "\n",
    "clade_mapping = read_excel(\"MAGs_toKBase_formodels.xlsx\")\n",
    "genera_to_track = [\"Planktophila\", \"Methylopumilus\", \"Polynucleobacter\", \"Pirellula_B\", \"UBA3064\", \"UBA954\"]\n"
   ]
  },
  {
   "cell_type": "code",
   "execution_count": 16,
   "metadata": {},
   "outputs": [],
   "source": [
    "Planktophila, Methylopumilus, Polynucleobacter, Pirellula_B, UBA3064, UBA954 = [], [], [], [], [], [] \n",
    "other = []\n",
    "\n",
    "for index, row in clade_mapping.iterrows():\n",
    "    if not isinstance(row[\"classification\"], str):  continue\n",
    "    if \"Planktophila\" in row[\"classification\"]:  Planktophila.append(row[\"user_genome\"])\n",
    "    elif \"Methylopumilus\" in row[\"classification\"]:  Methylopumilus.append(row[\"user_genome\"])\n",
    "    elif \"Polynucleobacter\" in row[\"classification\"]:  Polynucleobacter.append(row[\"user_genome\"])\n",
    "    elif \"Pirellula_B\" in row[\"classification\"]:  Pirellula_B.append(row[\"user_genome\"])\n",
    "    elif \"UBA3064\" in row[\"classification\"]:  UBA3064.append(row[\"user_genome\"])\n",
    "    elif \"UBA954\" in row[\"classification\"]:  UBA954.append(row[\"user_genome\"])\n",
    "    else:  other.append(row[\"user_genome\"])"
   ]
  },
  {
   "cell_type": "code",
   "execution_count": 2,
   "metadata": {},
   "outputs": [
    {
     "data": {
      "text/html": [
       "<div>\n",
       "<style scoped>\n",
       "    .dataframe tbody tr th:only-of-type {\n",
       "        vertical-align: middle;\n",
       "    }\n",
       "\n",
       "    .dataframe tbody tr th {\n",
       "        vertical-align: top;\n",
       "    }\n",
       "\n",
       "    .dataframe thead th {\n",
       "        text-align: right;\n",
       "    }\n",
       "</style>\n",
       "<table border=\"1\" class=\"dataframe\">\n",
       "  <thead>\n",
       "    <tr style=\"text-align: right;\">\n",
       "      <th></th>\n",
       "      <th>user_genome</th>\n",
       "      <th>classification</th>\n",
       "      <th>dRep winner</th>\n",
       "      <th>Model</th>\n",
       "    </tr>\n",
       "  </thead>\n",
       "  <tbody>\n",
       "    <tr>\n",
       "      <th>0</th>\n",
       "      <td>NASQAN2010_127_F_bin.3</td>\n",
       "      <td>d__Bacteria;p__Proteobacteria;c__Gammaproteoba...</td>\n",
       "      <td>Y</td>\n",
       "      <td>Y</td>\n",
       "    </tr>\n",
       "    <tr>\n",
       "      <th>1</th>\n",
       "      <td>NASQAN2010_155_B_bin.36</td>\n",
       "      <td>d__Bacteria;p__Proteobacteria;c__Gammaproteoba...</td>\n",
       "      <td>Y</td>\n",
       "      <td>Y</td>\n",
       "    </tr>\n",
       "    <tr>\n",
       "      <th>2</th>\n",
       "      <td>NASQAN2011_265_F_bin.15</td>\n",
       "      <td>d__Bacteria;p__Proteobacteria;c__Gammaproteoba...</td>\n",
       "      <td>Y</td>\n",
       "      <td>Y</td>\n",
       "    </tr>\n",
       "    <tr>\n",
       "      <th>3</th>\n",
       "      <td>NASQAN2011_330_F_bin.10</td>\n",
       "      <td>d__Bacteria;p__Proteobacteria;c__Gammaproteoba...</td>\n",
       "      <td>Y</td>\n",
       "      <td>Y</td>\n",
       "    </tr>\n",
       "    <tr>\n",
       "      <th>4</th>\n",
       "      <td>NASQAN2012_130_B_bin.14</td>\n",
       "      <td>d__Bacteria;p__Proteobacteria;c__Gammaproteoba...</td>\n",
       "      <td>Y</td>\n",
       "      <td>Y</td>\n",
       "    </tr>\n",
       "    <tr>\n",
       "      <th>...</th>\n",
       "      <td>...</td>\n",
       "      <td>...</td>\n",
       "      <td>...</td>\n",
       "      <td>...</td>\n",
       "    </tr>\n",
       "    <tr>\n",
       "      <th>3822</th>\n",
       "      <td>NASQAN2012_115_A_bin.3</td>\n",
       "      <td>d__Bacteria;p__Acidobacteriota;c__Holophagae;o...</td>\n",
       "      <td>N</td>\n",
       "      <td>N</td>\n",
       "    </tr>\n",
       "    <tr>\n",
       "      <th>3823</th>\n",
       "      <td>tombigeeriver_2019_sw_WHONDRS-S19S_0020_B_bin.104</td>\n",
       "      <td>d__Bacteria;p__Acidobacteriota;c__Holophagae;o...</td>\n",
       "      <td>N</td>\n",
       "      <td>N</td>\n",
       "    </tr>\n",
       "    <tr>\n",
       "      <th>3824</th>\n",
       "      <td>NASQAN2011_262_A_bin.12</td>\n",
       "      <td>d__Bacteria;p__Acidobacteriota;c__Blastocatell...</td>\n",
       "      <td>N</td>\n",
       "      <td>N</td>\n",
       "    </tr>\n",
       "    <tr>\n",
       "      <th>3825</th>\n",
       "      <td>NaN</td>\n",
       "      <td>NaN</td>\n",
       "      <td>NaN</td>\n",
       "      <td>N</td>\n",
       "    </tr>\n",
       "    <tr>\n",
       "      <th>3826</th>\n",
       "      <td>NaN</td>\n",
       "      <td>NaN</td>\n",
       "      <td>NaN</td>\n",
       "      <td>N</td>\n",
       "    </tr>\n",
       "  </tbody>\n",
       "</table>\n",
       "<p>3827 rows × 4 columns</p>\n",
       "</div>"
      ],
      "text/plain": [
       "                                            user_genome  \\\n",
       "0                                NASQAN2010_127_F_bin.3   \n",
       "1                               NASQAN2010_155_B_bin.36   \n",
       "2                               NASQAN2011_265_F_bin.15   \n",
       "3                               NASQAN2011_330_F_bin.10   \n",
       "4                               NASQAN2012_130_B_bin.14   \n",
       "...                                                 ...   \n",
       "3822                             NASQAN2012_115_A_bin.3   \n",
       "3823  tombigeeriver_2019_sw_WHONDRS-S19S_0020_B_bin.104   \n",
       "3824                            NASQAN2011_262_A_bin.12   \n",
       "3825                                                NaN   \n",
       "3826                                                NaN   \n",
       "\n",
       "                                         classification dRep winner Model  \n",
       "0     d__Bacteria;p__Proteobacteria;c__Gammaproteoba...           Y     Y  \n",
       "1     d__Bacteria;p__Proteobacteria;c__Gammaproteoba...           Y     Y  \n",
       "2     d__Bacteria;p__Proteobacteria;c__Gammaproteoba...           Y     Y  \n",
       "3     d__Bacteria;p__Proteobacteria;c__Gammaproteoba...           Y     Y  \n",
       "4     d__Bacteria;p__Proteobacteria;c__Gammaproteoba...           Y     Y  \n",
       "...                                                 ...         ...   ...  \n",
       "3822  d__Bacteria;p__Acidobacteriota;c__Holophagae;o...           N     N  \n",
       "3823  d__Bacteria;p__Acidobacteriota;c__Holophagae;o...           N     N  \n",
       "3824  d__Bacteria;p__Acidobacteriota;c__Blastocatell...           N     N  \n",
       "3825                                                NaN         NaN     N  \n",
       "3826                                                NaN         NaN     N  \n",
       "\n",
       "[3827 rows x 4 columns]"
      ]
     },
     "execution_count": 2,
     "metadata": {},
     "output_type": "execute_result"
    }
   ],
   "source": [
    "clade_mapping"
   ]
  },
  {
   "cell_type": "code",
   "execution_count": 4,
   "metadata": {},
   "outputs": [
    {
     "data": {
      "text/plain": [
       "['d__Bacteria',\n",
       " 'p__Proteobacteria',\n",
       " 'c__Gammaproteobacteria',\n",
       " 'o__Burkholderiales',\n",
       " 'f__Methylophilaceae',\n",
       " 'g__Methylopumilus',\n",
       " 's__Methylopumilus universalis']"
      ]
     },
     "execution_count": 4,
     "metadata": {},
     "output_type": "execute_result"
    }
   ],
   "source": [
    "taxa = [taxon.split(\";\") for taxon in clade_mapping[\"classification\"] if isinstance(taxon, str)]\n",
    "for domain, phylum, Class, order, family, genus, species in taxa:\n",
    "    if "
   ]
  },
  {
   "cell_type": "code",
   "execution_count": 3,
   "metadata": {},
   "outputs": [
    {
     "name": "stdout",
     "output_type": "stream",
     "text": [
      "3406\n",
      "[122, 81, 127, 6, 47, 36]\n"
     ]
    }
   ],
   "source": [
    "print(len(other))\n",
    "print(list(map(len, [Planktophila, Methylopumilus, Polynucleobacter, Pirellula_B, UBA3064, UBA954])))"
   ]
  },
  {
   "cell_type": "code",
   "execution_count": null,
   "metadata": {},
   "outputs": [],
   "source": [
    "print(\"Planktophila =\", Planktophila, \"\\n\")\n",
    "print(\"Methylopumilus =\", Methylopumilus, \"\\n\")\n",
    "print(\"Polynucleobacter =\", Polynucleobacter, \"\\n\")\n",
    "print(\"Pirellula_B =\", Pirellula_B, \"\\n\")\n",
    "print(\"UBA3064 =\", UBA3064, \"\\n\")\n",
    "print(\"UBA954 =\", UBA954, \"\\n\")"
   ]
  },
  {
   "attachments": {},
   "cell_type": "markdown",
   "metadata": {},
   "source": [
    "# loading models"
   ]
  },
  {
   "cell_type": "code",
   "execution_count": 28,
   "metadata": {},
   "outputs": [],
   "source": [
    "import os\n",
    "os.environ[\"HOME\"] = \"/Users/afreiburger/Documents/cobrakbase/\" # os.path.join('C:', 'Users', 'Andrew Freiburger','Documents','Argonne','cobrakbase')\n",
    "import cobrakbase\n",
    "with open(\"D:/Users/Andrew Freiburger/Documents/Argonne/kbase_token.txt\") as token_file:\n",
    "# with open(\"/Users/afreiburger/Documents/kbase_token.txt\") as token_file:\n",
    "    kbase_api = cobrakbase.KBaseAPI(token_file.readline())"
   ]
  },
  {
   "cell_type": "code",
   "execution_count": 29,
   "metadata": {},
   "outputs": [
    {
     "name": "stdout",
     "output_type": "stream",
     "text": [
      "3538\n"
     ]
    }
   ],
   "source": [
    "models = kbase_api.list_objects(165689, object_type=\"KBaseFBA.FBAModel\", include_metadata=False)\n",
    "print(len(models))"
   ]
  },
  {
   "cell_type": "code",
   "execution_count": 30,
   "metadata": {},
   "outputs": [],
   "source": [
    "all_organisms = [ele for ls in [Planktophila, Methylopumilus, Polynucleobacter, Pirellula_B, UBA3064, UBA954] for ele in ls]"
   ]
  },
  {
   "cell_type": "code",
   "execution_count": 32,
   "metadata": {},
   "outputs": [],
   "source": [
    "from json import dump\n",
    "\n",
    "name_to_id = {obj[1].replace(\".RAST.mdl\", \"\"): f\"165689/{obj[0]}/{obj[4]}\" for obj in models}\n",
    "with open(\"model_names_to_IDs.json\", 'w') as jsonOut:\n",
    "    dump(name_to_id, jsonOut, indent=3)"
   ]
  },
  {
   "cell_type": "code",
   "execution_count": 8,
   "metadata": {},
   "outputs": [],
   "source": [
    "Planktophila = {k:v for k,v in name_to_id.items() if k in Planktophila}\n",
    "Methylopumilus = {k:v for k,v in name_to_id.items() if k in Methylopumilus}\n",
    "Polynucleobacter = {k:v for k,v in name_to_id.items() if k in Polynucleobacter}\n",
    "Pirellula_B = {k:v for k,v in name_to_id.items() if k in Pirellula_B}\n",
    "UBA3064 = {k:v for k,v in name_to_id.items() if k in UBA3064}\n",
    "UBA954 = {k:v for k,v in name_to_id.items() if k in UBA954}"
   ]
  },
  {
   "cell_type": "code",
   "execution_count": 11,
   "metadata": {},
   "outputs": [
    {
     "name": "stdout",
     "output_type": "stream",
     "text": [
      "missing models 4 {'umpqua_2019_sw_WHONDRS-S19S_0079_B_bin.26', 'altamaha_2019_sw_WHONDRS-S19S_0010_B_bin.152', 'columbia_2019_sw_WHONDRS-S19S_0036_B_bin.61', 'NASQAN2016_024_A_bin.8'}\n"
     ]
    }
   ],
   "source": [
    "constructed_models = []\n",
    "for model in models:\n",
    "    genome_name = model[1].replace(\".RAST.mdl\", \"\")\n",
    "    if genome_name in all_organisms:\n",
    "        constructed_models.append(genome_name)\n",
    "\n",
    "missing_models = set(all_organisms)-set(constructed_models)\n",
    "print(\"missing models\", len(missing_models), missing_models)"
   ]
  },
  {
   "cell_type": "code",
   "execution_count": 10,
   "metadata": {},
   "outputs": [
    {
     "name": "stdout",
     "output_type": "stream",
     "text": [
      "[True, True, True, True, True, True]\n"
     ]
    }
   ],
   "source": [
    "print([all([organism in constructed_models for organism in ls]) for ls in [Planktophila, Methylopumilus, Polynucleobacter, Pirellula_B, UBA3064, UBA954]])"
   ]
  },
  {
   "cell_type": "code",
   "execution_count": 17,
   "metadata": {},
   "outputs": [],
   "source": [
    "clades_models = {\"Planktophila\": Planktophila, \"Methylopumilus\": Methylopumilus, \"Polynucleobacter\": Polynucleobacter, \n",
    "                 \"Pirellula_B\": Pirellula_B, \"UBA3064\": UBA3064, \"UBA954\": UBA954}"
   ]
  },
  {
   "cell_type": "code",
   "execution_count": 27,
   "metadata": {},
   "outputs": [
    {
     "name": "stdout",
     "output_type": "stream",
     "text": [
      "{'Planktophila': ['NASQAN2014_188_F_bin.12', 'NASQAN2016_164_F_bin.24', 'NASQAN2011_330_B_bin.17', 'NASQAN2014_193_B_bin.9', 'NASQAN2014_193_B_bin.83', 'NASQAN2015_208_B_bin.25', 'yakimariver_2019_sw_WHONDRS-S19S_0060_A_bin.25', 'NASQAN2014_190_A_bin.31', 'NASQAN2015_172_B_bin.57', 'NASQAN2015_174_B_bin.17', 'NASQAN2015_227_F_bin.3', 'pamunkeyriver_2019_sw_WHONDRS-S19S_0054_F_bin.9', 'NASQAN2011_057_B_bin.7', 'NASQAN2011_250_B_bin.9', 'NASQAN2011_250_F_bin.9', 'NASQAN2011_256_B_bin.24', 'NASQAN2011_265_F_bin.3', 'NASQAN2011_286_B_bin.20', 'NASQAN2011_286_F_bin.2', 'NASQAN2014_144_F_bin.23', 'NASQAN2014_188_A_bin.31', 'NASQAN2014_193_B_bin.55', 'NASQAN2015_047_F_bin.5', 'NASQAN2015_047_F_bin.9', 'NASQAN2015_052_B_bin.57', 'NASQAN2015_052_F_bin.15', 'NASQAN2015_052_F_bin.18', 'NASQAN2015_111_B_bin.69', 'NASQAN2015_150_F_bin.7', 'NASQAN2015_172_F_bin.7', 'NASQAN2015_174_F_bin.13', 'NASQAN2015_208_B_bin.21', 'NASQAN2015_208_F_bin.14', 'NASQAN2016_024_B_bin.5', 'NASQAN2016_164_A_bin.16', 'altamaha_2019_sw_WHONDRS-S19S_0010_F_bin.54', 'blackearthcreek_2019_sw_WHONDRS-S19S_0061_B_bin.27', 'blueriver_2019_sw_WHONDRS-S19S_0024_B_bin.27', 'blueriver_2019_sw_WHONDRS-S19S_0024_F_bin.28', 'crookedriver_2019_sw_WHONDRS-S19S_0041_A_bin.31', 'crookedriver_2019_sw_WHONDRS-S19S_0041_F_bin.32', 'deadrun_2019_sw_WHONDRS-S19S_0006_B_bin.22', 'deadrun_2019_sw_WHONDRS-S19S_0006_B_bin.33', 'dobsoncreek_2019_sw_WHONDRS-S19S_0087_F_bin.10', 'eastriver_2019_sw_WHONDRS-S19S_0100_B_bin.5', 'eastriver_2019_sw_WHONDRS-S19S_0100_B_bin.74', 'eastriver_2019_sw_WHONDRS-S19S_0100_F_bin.21', 'gunnisonriver_2019_sw_WHONDRS-S19S_0062_B_bin.46', 'hugercreek_2019_sw_WHONDRS-S19S_0044_B_bin.40', 'icacos_2019_sw_WHONDRS-S19S_0094_F_bin.22', 'kuparukriver_2019_sw_WHONDRS-S19S_0047_B_bin.27', 'kuparukriver_2019_sw_WHONDRS-S19S_0047_F_bin.5', 'littlewindriver_2019_sw_WHONDRS-S19S_0009_A_bin.10', 'logan2_2019_sw_WHONDRS-S19S_0098_F_bin.7', 'lowercolorado_2019_sw_WHONDRS-S19S_0063_A_bin.48', 'lowercolorado_2019_sw_WHONDRS-S19S_0063_B_bin.38', 'lowercolorado_2019_sw_WHONDRS-S19S_0063_B_bin.91', 'lowercolorado_2019_sw_WHONDRS-S19S_0063_B_bin.95', 'lowercolorado_2019_sw_WHONDRS-S19S_0063_F_bin.26', 'mcdi_2019_sw_WHONDRS-S19S_0017_B_bin.25', 'middleoconee_2019_sw_WHONDRS-S19S_0011_F_bin.4', 'nebranchanacostia_2019_sw_WHONDRS-S19S_0081_B_bin.78', 'oksrukuyikcreek_2019_sw_WHONDRS-S19S_0050_B_bin.27', 'oksrukuyikcreek_2019_sw_WHONDRS-S19S_0050_B_bin.36', 'oksrukuyikcreek_2019_sw_WHONDRS-S19S_0050_F_bin.7', 'pamunkeyriver_2019_sw_WHONDRS-S19S_0054_F_bin.12', 'pamunkeyriver_2019_sw_WHONDRS-S19S_0054_F_bin.8', 'pringlecreek_2019_sw_WHONDRS-S19S_0025_B_bin.79', 'pringlecreek_2019_sw_WHONDRS-S19S_0025_F_bin.12', 'pringlecreek_2019_sw_WHONDRS-S19S_0025_F_bin.32', 'sangamon_2019_sw_WHONDRS-S19S_0083_B_bin.67', 'sharkriverslough_2019_sw_WHONDRS-S19S_0042_F_bin.23', 'southforkpolouse_2019_sw_WHONDRS-S19S_0055_A_bin.27', 'southforkpolouse_2019_sw_WHONDRS-S19S_0055_B_bin.2', 'stroublescreek_2019_sw_WHONDRS-S19S_0089_F_bin.21', 'umpqua_2019_sw_WHONDRS-S19S_0079_A_bin.54', 'umpqua_2019_sw_WHONDRS-S19S_0079_A_bin.72', 'umpqua_2019_sw_WHONDRS-S19S_0079_A_bin.83', 'umpqua_2019_sw_WHONDRS-S19S_0079_B_bin.12', 'umpqua_2019_sw_WHONDRS-S19S_0079_B_bin.145', 'umpqua_2019_sw_WHONDRS-S19S_0079_B_bin.42', 'NASQAN2011_330_F_bin.6', 'altamaha_2019_sw_WHONDRS-S19S_0010_B_bin.61', 'NASQAN2014_193_F_bin.22', 'pamunkeyriver_2019_sw_WHONDRS-S19S_0054_B_bin.101', 'tombigeeriver_2019_sw_WHONDRS-S19S_0020_B_bin.131', 'NASQAN2010_155_A_bin.28', 'NASQAN2010_155_B_bin.22', 'NASQAN2010_155_F_bin.17', 'NASQAN2011_057_A_bin.2', 'NASQAN2011_057_F_bin.4', 'NASQAN2011_060_B_bin.40', 'NASQAN2011_060_F_bin.19', 'NASQAN2011_401_B_bin.3', 'NASQAN2011_401_F_bin.4', 'NASQAN2014_188_B_bin.31', 'NASQAN2014_190_B_bin.18', 'NASQAN2015_111_F_bin.1', 'blackearthcreek_2019_sw_WHONDRS-S19S_0061_A_bin.20', 'blueriver_2019_sw_WHONDRS-S19S_0024_F_bin.52', 'crookedriver_2019_sw_WHONDRS-S19S_0041_B_bin.74', 'crookedriver_2019_sw_WHONDRS-S19S_0041_F_bin.18', 'deadrun_2019_sw_WHONDRS-S19S_0006_A_bin.4', 'deadrun_2019_sw_WHONDRS-S19S_0006_F_bin.23', 'greatmiami_2019_sw_WHONDRS-S19S_0099_F_bin.6', 'hugercreek_2019_sw_WHONDRS-S19S_0044_A_bin.59', 'hugercreek_2019_sw_WHONDRS-S19S_0044_F_bin.15', 'icacos_2019_sw_WHONDRS-S19S_0094_B_bin.30', 'kuparukriver_2019_sw_WHONDRS-S19S_0047_A_bin.10', 'kuparukriver_2019_sw_WHONDRS-S19S_0047_B_bin.25', 'logan2_2019_sw_WHONDRS-S19S_0098_B_bin.34', 'lowercolorado_2019_sw_WHONDRS-S19S_0063_A_bin.57', 'lowercolorado_2019_sw_WHONDRS-S19S_0063_A_bin.80', 'lowercolorado_2019_sw_WHONDRS-S19S_0063_B_bin.20', 'lowercolorado_2019_sw_WHONDRS-S19S_0063_F_bin.22', 'pamunkeyriver_2019_sw_WHONDRS-S19S_0054_A_bin.86', 'pamunkeyriver_2019_sw_WHONDRS-S19S_0054_B_bin.91', 'pringlecreek_2019_sw_WHONDRS-S19S_0025_A_bin.70', 'pringlecreek_2019_sw_WHONDRS-S19S_0025_B_bin.58', 'pringlecreek_2019_sw_WHONDRS-S19S_0025_B_bin.83', 'sharkriverslough_2019_sw_WHONDRS-S19S_0042_B_bin.17', 'yakimariver_2019_sw_WHONDRS-S19S_0060_F_bin.10'], 'Methylopumilus': ['NASQAN2010_127_F_bin.3', 'NASQAN2010_155_B_bin.36', 'NASQAN2011_265_F_bin.15', 'NASQAN2011_330_F_bin.10', 'NASQAN2012_130_B_bin.14', 'NASQAN2014_185_B_bin.80', 'NASQAN2015_031_B_bin.8', 'NASQAN2015_042_B_bin.1', 'NASQAN2015_042_F_bin.19', 'NASQAN2015_109_B_bin.36', 'NASQAN2015_109_F_bin.21', 'NASQAN2016_024_F_bin.11', 'NASQAN2016_159_B_bin.2', 'NASQAN2016_159_F_bin.1', 'littlewindriver_2019_sw_WHONDRS-S19S_0009_B_bin.9', 'riogrande_2019_sw_WHONDRS-S19S_0066_B_bin.111', 'hugercreek_2019_sw_WHONDRS-S19S_0044_F_bin.12', 'NASQAN2014_193_B_bin.48', 'NASQAN2014_193_F_bin.16', 'NASQAN2015_101_B_bin.23', 'NASQAN2015_101_F_bin.15', 'altamaha_2019_sw_WHONDRS-S19S_0010_B_bin.16', 'lowercolorado_2019_sw_WHONDRS-S19S_0063_F_bin.28', 'NASQAN2011_099_F_bin.1', 'eastforkpoplarcreek_2019_sw_WHONDRS-S19S_0039_A_bin.17', 'NASQAN2015_015_F_bin.5', 'NASQAN2015_031_F_bin.17', 'columbiariver1_2019_sw_WHONDRS-S19S_0075_F_bin.35', 'crookedriver_2019_sw_WHONDRS-S19S_0041_A_bin.51', 'riogrande_2019_sw_WHONDRS-S19S_0066_F_bin.46', 'NASQAN2015_101_F_bin.11', 'blueriver_2019_sw_WHONDRS-S19S_0024_F_bin.18', 'mcdi_2019_sw_WHONDRS-S19S_0017_F_bin.9', 'pringlecreek_2019_sw_WHONDRS-S19S_0025_B_bin.19', 'sangamon_2019_sw_WHONDRS-S19S_0083_B_bin.88', 'NASQAN2010_127_B_bin.6', 'NASQAN2010_233_B_bin.4', 'NASQAN2010_233_F_bin.4', 'NASQAN2011_265_B_bin.42', 'NASQAN2011_330_B_bin.4', 'NASQAN2014_185_F_bin.27', 'NASQAN2016_024_B_bin.2', 'riogrande_2019_sw_WHONDRS-S19S_0066_F_bin.17', 'umpqua_2019_sw_WHONDRS-S19S_0079_B_bin.44', 'umpqua_2019_sw_WHONDRS-S19S_0079_F_bin.7', 'pamunkeyriver_2019_sw_WHONDRS-S19S_0054_F_bin.36', 'NASQAN2010_190_A_bin.8', 'NASQAN2010_190_B_bin.41', 'NASQAN2010_190_F_bin.16', 'NASQAN2014_035_A_bin.3', 'NASQAN2014_035_B_bin.3', 'NASQAN2014_035_F_bin.17', 'NASQAN2014_190_A_bin.50', 'blackwarrior_2019_sw_WHONDRS-S19S_0021_A_bin.29', 'blackwarrior_2019_sw_WHONDRS-S19S_0021_B_bin.42', 'blackwarrior_2019_sw_WHONDRS-S19S_0021_F_bin.16', 'lowercolorado_2019_sw_WHONDRS-S19S_0063_A_bin.49', 'lowercolorado_2019_sw_WHONDRS-S19S_0063_B_bin.112', 'NASQAN2011_099_B_bin.1', 'blueriver_2019_sw_WHONDRS-S19S_0024_B_bin.25', 'eastforkpoplarcreek_2019_sw_WHONDRS-S19S_0039_B_bin.41', 'NASQAN2015_031_B_bin.12', 'columbia_2019_sw_WHONDRS-S19S_0036_B_bin.61', 'columbia_2019_sw_WHONDRS-S19S_0036_F_bin.27', 'columbia_2019_sw_WHONDRS-S19S_0074_B_bin.17', 'columbia_2019_sw_WHONDRS-S19S_0074_F_bin.25', 'columbiariver1_2019_sw_WHONDRS-S19S_0075_B_bin.97', 'columbiariver2_2019_sw_WHONDRS-S19S_0076_B_bin.6', 'columbiariver2_2019_sw_WHONDRS-S19S_0076_F_bin.35', 'gunnisonriver_2019_sw_WHONDRS-S19S_0062_B_bin.16', 'gunnisonriver_2019_sw_WHONDRS-S19S_0062_F_bin.17', 'NASQAN2011_451_B_bin.8', 'NASQAN2014_188_F_bin.45', 'hugercreek_2019_sw_WHONDRS-S19S_0044_F_bin.49', 'southforkpolouse_2019_sw_WHONDRS-S19S_0055_A_bin.38', 'southforkpolouse_2019_sw_WHONDRS-S19S_0055_B_bin.29', 'stroublescreek_2019_sw_WHONDRS-S19S_0089_B_bin.73', 'blackearthcreek_2019_sw_WHONDRS-S19S_0061_B_bin.31', 'eastriver_2019_sw_WHONDRS-S19S_0100_B_bin.60', 'southforkpolouse_2019_sw_WHONDRS-S19S_0055_B_bin.8', 'southforkpolouse_2019_sw_WHONDRS-S19S_0055_F_bin.4'], 'Polynucleobacter': ['NASQAN2011_250_A_bin.1', 'lecontecreek_2019_sw_WHONDRS-S19S_0018_F_bin.2', 'NASQAN2011_451_F_bin.6', 'NASQAN2015_208_F_bin.13', 'NASQAN2011_177_F_bin.16', 'NASQAN2011_262_B_bin.19', 'NASQAN2011_262_F_bin.4', 'NASQAN2011_275_F_bin.21', 'NASQAN2011_332_F_bin.27', 'NASQAN2014_035_F_bin.25', 'NASQAN2014_190_F_bin.40', 'NASQAN2015_101_B_bin.18', 'NASQAN2015_101_F_bin.14', 'altamaha_2019_sw_WHONDRS-S19S_0010_B_bin.59', 'lowercolorado_2019_sw_WHONDRS-S19S_0063_F_bin.13', 'mcdi_2019_sw_WHONDRS-S19S_0017_F_bin.6', 'pamunkeyriver_2019_sw_WHONDRS-S19S_0054_F_bin.33', 'tombigeeriver_2019_sw_WHONDRS-S19S_0020_F_bin.56', 'NASQAN2015_013_B_bin.15', 'NASQAN2015_013_F_bin.2', 'oksrukuyikcreek_2019_sw_WHONDRS-S19S_0050_A_bin.12', 'eastforkpoplarcreek_2019_sw_WHONDRS-S19S_0039_B_bin.69', 'NASQAN2011_236_B_bin.15', 'NASQAN2014_085_F_bin.9', 'NASQAN2014_144_B_bin.58', 'NASQAN2014_144_F_bin.39', 'NASQAN2015_042_B_bin.12', 'NASQAN2015_042_F_bin.4', 'NASQAN2015_052_F_bin.27', 'NASQAN2016_024_B_bin.15', 'NASQAN2016_024_F_bin.13', 'icacos_2019_sw_WHONDRS-S19S_0094_B_bin.77', 'icacos_2019_sw_WHONDRS-S19S_0094_F_bin.68', 'sangamon_2019_sw_WHONDRS-S19S_0083_F_bin.31', 'umpqua_2019_sw_WHONDRS-S19S_0079_F_bin.1', 'NASQAN2010_155_B_bin.27', 'NASQAN2014_141_F_bin.15', 'NASQAN2014_185_F_bin.6', 'NASQAN2015_031_F_bin.16', 'NASQAN2014_144_B_bin.49', 'NASQAN2015_042_F_bin.15', 'NASQAN2015_052_B_bin.2', 'NASQAN2015_052_F_bin.5', 'NASQAN2015_172_B_bin.37', 'NASQAN2016_024_B_bin.3', 'NASQAN2014_193_A_bin.38', 'NASQAN2015_013_F_bin.5', 'NASQAN2015_111_A_bin.28', 'arikareeriver_2019_sw_WHONDRS-S19S_0023_B_bin.53', 'blackearthcreek_2019_sw_WHONDRS-S19S_0061_A_bin.15', 'blueriver_2019_sw_WHONDRS-S19S_0024_F_bin.36', 'deadrun_2019_sw_WHONDRS-S19S_0006_F_bin.9', 'eastriver_2019_sw_WHONDRS-S19S_0100_B_bin.15', 'farmington_2019_sw_WHONDRS-S19S_0053_F_bin.20', 'lewisrun_2019_sw_WHONDRS-S19S_0014_F_bin.15', 'lewisrun_2019_sw_WHONDRS-S19S_0014_F_bin.27', 'littlewolfcreek_2019_sw_WHONDRS-S19S_0078_B_bin.77', 'mcdi_2019_sw_WHONDRS-S19S_0017_B_bin.37', 'nebranchanacostia_2019_sw_WHONDRS-S19S_0081_B_bin.65', 'pringlecreek_2019_sw_WHONDRS-S19S_0025_B_bin.90', 'pringlecreek_2019_sw_WHONDRS-S19S_0025_F_bin.30', 'redbuttecreek_2019_sw_WHONDRS-S19S_0086_B_bin.11', 'redbuttecreek_2019_sw_WHONDRS-S19S_0086_B_bin.46', 'riogrande_2019_sw_WHONDRS-S19S_0066_B_bin.78', 'riogrande_2019_sw_WHONDRS-S19S_0066_F_bin.14', 'sangamon_2019_sw_WHONDRS-S19S_0083_B_bin.72', 'sharkriverslough_2019_sw_WHONDRS-S19S_0042_B_bin.37', 'southforkpolouse_2019_sw_WHONDRS-S19S_0055_B_bin.38', 'stroublescreek_2019_sw_WHONDRS-S19S_0089_F_bin.8', 'NASQAN2011_250_B_bin.7', 'NASQAN2011_250_F_bin.7', 'lecontecreek_2019_sw_WHONDRS-S19S_0018_B_bin.6', 'NASQAN2015_013_A_bin.2', 'oksrukuyikcreek_2019_sw_WHONDRS-S19S_0050_B_bin.4', 'eastforkpoplarcreek_2019_sw_WHONDRS-S19S_0039_F_bin.14', 'nebranchanacostia_2019_sw_WHONDRS-S19S_0081_B_bin.44', 'NASQAN2011_286_F_bin.30', 'NASQAN2014_085_B_bin.2', 'NASQAN2015_052_B_bin.3', 'sangamon_2019_sw_WHONDRS-S19S_0083_B_bin.29', 'umpqua_2019_sw_WHONDRS-S19S_0079_B_bin.98', 'NASQAN2011_060_A_bin.21', 'NASQAN2011_060_B_bin.9', 'NASQAN2011_060_F_bin.28', 'NASQAN2014_141_B_bin.11', 'NASQAN2015_031_A_bin.9', 'NASQAN2015_031_B_bin.29', 'NASQAN2016_164_A_bin.23', 'NASQAN2016_164_B_bin.38', 'columbia_2019_sw_WHONDRS-S19S_0036_A_bin.26', 'columbia_2019_sw_WHONDRS-S19S_0036_B_bin.17', 'columbia_2019_sw_WHONDRS-S19S_0074_B_bin.9', 'columbiariver1_2019_sw_WHONDRS-S19S_0075_B_bin.34', 'columbiariver2_2019_sw_WHONDRS-S19S_0076_B_bin.49', 'NASQAN2014_144_A_bin.33', 'NASQAN2015_042_B_bin.5', 'NASQAN2015_052_A_bin.32', 'NASQAN2015_172_A_bin.12', 'NASQAN2015_172_F_bin.22', 'NASQAN2016_024_A_bin.8', 'NASQAN2016_024_F_bin.8', 'NASQAN2014_193_B_bin.18', 'NASQAN2015_111_B_bin.11', 'arikareeriver_2019_sw_WHONDRS-S19S_0023_B_bin.36', 'arikareeriver_2019_sw_WHONDRS-S19S_0023_F_bin.16', 'blackearthcreek_2019_sw_WHONDRS-S19S_0061_B_bin.22', 'blackearthcreek_2019_sw_WHONDRS-S19S_0061_B_bin.38', 'blueriver_2019_sw_WHONDRS-S19S_0024_B_bin.127', 'deadrun_2019_sw_WHONDRS-S19S_0006_B_bin.34', 'eastriver_2019_sw_WHONDRS-S19S_0100_F_bin.4', 'farmington_2019_sw_WHONDRS-S19S_0053_B_bin.44', 'farmington_2019_sw_WHONDRS-S19S_0053_B_bin.69', 'lewisrun_2019_sw_WHONDRS-S19S_0014_B_bin.24', 'littlewolfcreek_2019_sw_WHONDRS-S19S_0078_A_bin.18', 'mcdi_2019_sw_WHONDRS-S19S_0017_B_bin.40', 'mcdi_2019_sw_WHONDRS-S19S_0017_F_bin.20', 'nebranchanacostia_2019_sw_WHONDRS-S19S_0081_B_bin.75', 'pringlecreek_2019_sw_WHONDRS-S19S_0025_A_bin.58', 'pringlecreek_2019_sw_WHONDRS-S19S_0025_A_bin.62', 'pringlecreek_2019_sw_WHONDRS-S19S_0025_B_bin.13', 'pringlecreek_2019_sw_WHONDRS-S19S_0025_B_bin.25', 'pringlecreek_2019_sw_WHONDRS-S19S_0025_F_bin.7', 'riogrande_2019_sw_WHONDRS-S19S_0066_F_bin.2', 'sangamon_2019_sw_WHONDRS-S19S_0083_B_bin.43', 'sangamon_2019_sw_WHONDRS-S19S_0083_F_bin.19', 'whiteclaycreek1_2019_sw_WHONDRS-S19S_0037_B_bin.25', 'whiteclaycreek1_2019_sw_WHONDRS-S19S_0037_F_bin.6'], 'Pirellula_B': ['altamaha_2019_sw_WHONDRS-S19S_0010_B_bin.152', 'altamaha_2019_sw_WHONDRS-S19S_0010_B_bin.62', 'stroublescreek_2019_sw_WHONDRS-S19S_0089_B_bin.110', 'umpqua_2019_sw_WHONDRS-S19S_0079_B_bin.26', 'eastriver_2019_sw_WHONDRS-S19S_0100_B_bin.23', 'umpqua_2019_sw_WHONDRS-S19S_0079_A_bin.105'], 'UBA3064': ['NASQAN2014_185_F_bin.15', 'sharkriverslough_2019_sw_WHONDRS-S19S_0042_F_bin.46', 'NASQAN2011_060_B_bin.20', 'NASQAN2011_060_F_bin.4', 'NASQAN2014_089_F_bin.3', 'NASQAN2014_190_F_bin.32', 'greatmiami_2019_sw_WHONDRS-S19S_0099_B_bin.72', 'blackwarrior_2019_sw_WHONDRS-S19S_0021_B_bin.78', 'NASQAN2010_190_B_bin.38', 'NASQAN2014_185_A_bin.14', 'NASQAN2014_185_B_bin.69', 'NASQAN2015_111_B_bin.66', 'NASQAN2015_111_F_bin.36', 'NASQAN2016_178_B_bin.28', 'NASQAN2016_178_F_bin.12', 'sharkriverslough_2019_sw_WHONDRS-S19S_0042_B_bin.34', 'NASQAN2010_190_A_bin.1', 'NASQAN2010_190_B_bin.29', 'NASQAN2010_190_F_bin.11', 'NASQAN2011_099_B_bin.28', 'NASQAN2011_177_A_bin.21', 'NASQAN2011_177_B_bin.37', 'NASQAN2011_177_F_bin.9', 'NASQAN2011_275_A_bin.16', 'NASQAN2011_275_B_bin.34', 'NASQAN2011_275_F_bin.16', 'NASQAN2011_286_A_bin.18', 'NASQAN2011_286_B_bin.24', 'NASQAN2011_286_F_bin.17', 'NASQAN2011_332_B_bin.7', 'NASQAN2011_332_F_bin.5', 'NASQAN2014_089_A_bin.4', 'NASQAN2016_083_A_bin.25', 'NASQAN2016_083_B_bin.6', 'NASQAN2016_083_F_bin.45', 'altamaha_2019_sw_WHONDRS-S19S_0010_A_bin.68', 'altamaha_2019_sw_WHONDRS-S19S_0010_B_bin.43', 'altamaha_2019_sw_WHONDRS-S19S_0010_F_bin.2', 'blackwarrior_2019_sw_WHONDRS-S19S_0021_A_bin.24', 'blueriver_2019_sw_WHONDRS-S19S_0024_B_bin.20', 'dobsoncreek_2019_sw_WHONDRS-S19S_0087_A_bin.58', 'dobsoncreek_2019_sw_WHONDRS-S19S_0087_B_bin.96', 'greatmiami_2019_sw_WHONDRS-S19S_0099_A_bin.54', 'pamunkeyriver_2019_sw_WHONDRS-S19S_0054_A_bin.62', 'pamunkeyriver_2019_sw_WHONDRS-S19S_0054_B_bin.103', 'sangamon_2019_sw_WHONDRS-S19S_0083_B_bin.36', 'sangamon_2019_sw_WHONDRS-S19S_0083_F_bin.3'], 'UBA954': ['NASQAN2011_286_B_bin.18', 'NASQAN2014_144_F_bin.15', 'NASQAN2014_185_F_bin.29', 'NASQAN2014_190_F_bin.41', 'NASQAN2015_109_B_bin.22', 'NASQAN2015_109_F_bin.12', 'NASQAN2015_111_F_bin.34', 'NASQAN2014_190_B_bin.3', 'blackwarrior_2019_sw_WHONDRS-S19S_0021_B_bin.12', 'icacos_2019_sw_WHONDRS-S19S_0094_B_bin.145', 'NASQAN2011_060_B_bin.25', 'NASQAN2011_262_B_bin.22', 'NASQAN2011_275_B_bin.57', 'NASQAN2011_286_F_bin.11', 'NASQAN2014_190_B_bin.87', 'NASQAN2014_193_B_bin.64', 'NASQAN2014_193_F_bin.17', 'NASQAN2015_111_B_bin.72', 'NASQAN2016_083_B_bin.17', 'blueriver_2019_sw_WHONDRS-S19S_0024_B_bin.32', 'dobsoncreek_2019_sw_WHONDRS-S19S_0087_B_bin.48', 'greatmiami_2019_sw_WHONDRS-S19S_0099_B_bin.79', 'icacos_2019_sw_WHONDRS-S19S_0094_B_bin.46', 'icacos_2019_sw_WHONDRS-S19S_0094_F_bin.32', 'lowercolorado_2019_sw_WHONDRS-S19S_0063_B_bin.28', 'lowercolorado_2019_sw_WHONDRS-S19S_0063_F_bin.42', 'sangamon_2019_sw_WHONDRS-S19S_0083_B_bin.83', 'sangamon_2019_sw_WHONDRS-S19S_0083_F_bin.27', 'NASQAN2011_451_B_bin.11', 'NASQAN2011_458_F_bin.9', 'dobsoncreek_2019_sw_WHONDRS-S19S_0087_A_bin.37', 'dobsoncreek_2019_sw_WHONDRS-S19S_0087_B_bin.59', 'dobsoncreek_2019_sw_WHONDRS-S19S_0087_F_bin.19', 'greatmiami_2019_sw_WHONDRS-S19S_0099_A_bin.34', 'greatmiami_2019_sw_WHONDRS-S19S_0099_B_bin.98', 'greatmiami_2019_sw_WHONDRS-S19S_0099_F_bin.32']}\n"
     ]
    }
   ],
   "source": [
    "print(clades_models)"
   ]
  },
  {
   "attachments": {},
   "cell_type": "markdown",
   "metadata": {},
   "source": [
    "# Construct the clade models"
   ]
  },
  {
   "cell_type": "code",
   "execution_count": 12,
   "metadata": {},
   "outputs": [
    {
     "name": "stdout",
     "output_type": "stream",
     "text": [
      "165689/6616/2\tindex 3\t\t\t\t\t\t\t\t\t\t\t\t\n",
      " Pirellula_B\n",
      "missing reactions:  {'numMembers'}\n"
     ]
    }
   ],
   "source": [
    "%run ../../ModelSEEDpy/modelseedpy/core/msprobability.py\n",
    "\n",
    "clade_model = MSProbability.megaModel({\"Pirellula_B\": list(Pirellula_B.values())}, kbase_api) #, \"Pirellula_B.json\")"
   ]
  },
  {
   "cell_type": "code",
   "execution_count": 150,
   "metadata": {},
   "outputs": [
    {
     "ename": "TypeError",
     "evalue": "string indices must be integers",
     "output_type": "error",
     "traceback": [
      "\u001b[0;31m---------------------------------------------------------------------------\u001b[0m",
      "\u001b[0;31mTypeError\u001b[0m                                 Traceback (most recent call last)",
      "Cell \u001b[0;32mIn [150], line 8\u001b[0m\n\u001b[1;32m      5\u001b[0m \u001b[39mwith\u001b[39;00m \u001b[39mopen\u001b[39m(\u001b[39m\"\u001b[39m\u001b[39mtest_json.json\u001b[39m\u001b[39m\"\u001b[39m, \u001b[39m\"\u001b[39m\u001b[39mw\u001b[39m\u001b[39m\"\u001b[39m) \u001b[39mas\u001b[39;00m jsonOut:\n\u001b[1;32m      6\u001b[0m     dump(model_json, jsonOut, indent \u001b[39m=\u001b[39m \u001b[39m3\u001b[39m)\n\u001b[0;32m----> 8\u001b[0m test_json_model \u001b[39m=\u001b[39m load_json_model(\u001b[39m\"\u001b[39m\u001b[39mtest_json.json\u001b[39m\u001b[39m\"\u001b[39m)\n",
      "File \u001b[0;32m/Library/Python/3.9/site-packages/cobra/io/json.py:149\u001b[0m, in \u001b[0;36mload_json_model\u001b[0;34m(filename)\u001b[0m\n\u001b[1;32m    147\u001b[0m \u001b[39mif\u001b[39;00m \u001b[39misinstance\u001b[39m(filename, (\u001b[39mstr\u001b[39m, Path)):\n\u001b[1;32m    148\u001b[0m     \u001b[39mwith\u001b[39;00m \u001b[39mopen\u001b[39m(filename, \u001b[39m\"\u001b[39m\u001b[39mr\u001b[39m\u001b[39m\"\u001b[39m) \u001b[39mas\u001b[39;00m file_handle:\n\u001b[0;32m--> 149\u001b[0m         \u001b[39mreturn\u001b[39;00m model_from_dict(json\u001b[39m.\u001b[39;49mload(file_handle))\n\u001b[1;32m    150\u001b[0m \u001b[39melse\u001b[39;00m:\n\u001b[1;32m    151\u001b[0m     \u001b[39mreturn\u001b[39;00m model_from_dict(json\u001b[39m.\u001b[39mload(filename))\n",
      "File \u001b[0;32m/Library/Python/3.9/site-packages/cobra/io/dict.py:401\u001b[0m, in \u001b[0;36mmodel_from_dict\u001b[0;34m(obj)\u001b[0m\n\u001b[1;32m    398\u001b[0m     \u001b[39mraise\u001b[39;00m \u001b[39mValueError\u001b[39;00m(\u001b[39m\"\u001b[39m\u001b[39mObject has no .reactions attribute. Cannot load.\u001b[39m\u001b[39m\"\u001b[39m)\n\u001b[1;32m    399\u001b[0m model \u001b[39m=\u001b[39m Model()\n\u001b[1;32m    400\u001b[0m model\u001b[39m.\u001b[39madd_metabolites(\n\u001b[0;32m--> 401\u001b[0m     [_metabolite_from_dict(metabolite) \u001b[39mfor\u001b[39;00m metabolite \u001b[39min\u001b[39;00m obj[\u001b[39m\"\u001b[39;49m\u001b[39mmetabolites\u001b[39;49m\u001b[39m\"\u001b[39;49m]]\n\u001b[1;32m    402\u001b[0m )\n\u001b[1;32m    403\u001b[0m model\u001b[39m.\u001b[39mgenes\u001b[39m.\u001b[39mextend([gene_from_dict(gene) \u001b[39mfor\u001b[39;00m gene \u001b[39min\u001b[39;00m obj[\u001b[39m\"\u001b[39m\u001b[39mgenes\u001b[39m\u001b[39m\"\u001b[39m]])\n\u001b[1;32m    404\u001b[0m model\u001b[39m.\u001b[39madd_reactions(\n\u001b[1;32m    405\u001b[0m     [_reaction_from_dict(reaction, model) \u001b[39mfor\u001b[39;00m reaction \u001b[39min\u001b[39;00m obj[\u001b[39m\"\u001b[39m\u001b[39mreactions\u001b[39m\u001b[39m\"\u001b[39m]]\n\u001b[1;32m    406\u001b[0m )\n",
      "\u001b[0;31mTypeError\u001b[0m: string indices must be integers"
     ]
    }
   ],
   "source": [
    "from cobra.io import to_json\n",
    "from json import dump\n",
    "\n",
    "model_json = to_json(clade_model[0])\n",
    "with open(\"test_json.json\", \"w\") as jsonOut:   dump(model_json, jsonOut, indent = 3)\n",
    "\n",
    "test_json_model = load_json_model(\"test_json.json\")"
   ]
  },
  {
   "cell_type": "code",
   "execution_count": 13,
   "metadata": {},
   "outputs": [],
   "source": [
    "from cobra.io import read_sbml_model\n",
    "sample_model = read_sbml_model(\"reaction_counts/Pirellula_B.xml\")"
   ]
  },
  {
   "cell_type": "code",
   "execution_count": 132,
   "metadata": {},
   "outputs": [],
   "source": [
    "from optlang import Objective\n",
    "sample_model.objective = Objective(sample_model.reactions.bio1.flux_expression, direction=\"max\")"
   ]
  },
  {
   "cell_type": "code",
   "execution_count": 2,
   "metadata": {},
   "outputs": [
    {
     "data": {
      "text/plain": [
       "57.59369610481184"
      ]
     },
     "execution_count": 2,
     "metadata": {},
     "output_type": "execute_result"
    }
   ],
   "source": [
    "sample_model.slim_optimize()"
   ]
  },
  {
   "cell_type": "code",
   "execution_count": 16,
   "metadata": {},
   "outputs": [
    {
     "name": "stdout",
     "output_type": "stream",
     "text": [
      "['__add__', '__class__', '__copy__', '__deepcopy__', '__delattr__', '__dict__', '__dir__', '__doc__', '__eq__', '__format__', '__ge__', '__getattribute__', '__getstate__', '__gt__', '__hash__', '__iadd__', '__imul__', '__init__', '__init_subclass__', '__isub__', '__le__', '__lt__', '__module__', '__mul__', '__ne__', '__new__', '__radd__', '__reduce__', '__reduce_ex__', '__repr__', '__setattr__', '__setstate__', '__sizeof__', '__str__', '__sub__', '__subclasshook__', '__weakref__', '_annotation', '_associate_gene', '_check_bounds', '_dissociate_gene', '_genes', '_gpr', '_id', '_lower_bound', '_metabolites', '_model', '_repr_html_', '_set_id_with_model', '_update_awareness', '_upper_bound', 'add_metabolites', 'annotation', 'boundary', 'bounds', 'build_reaction_from_string', 'build_reaction_string', 'check_mass_balance', 'compartments', 'copy', 'delete', 'flux', 'flux_expression', 'forward_variable', 'functional', 'gene_name_reaction_rule', 'gene_reaction_rule', 'genes', 'get_coefficient', 'get_coefficients', 'get_compartments', 'gpr', 'id', 'knock_out', 'lower_bound', 'metabolites', 'model', 'name', 'notes', 'objective_coefficient', 'products', 'reactants', 'reaction', 'reduced_cost', 'remove_from_model', 'reverse_id', 'reverse_variable', 'reversibility', 'subsystem', 'subtract_metabolites', 'summary', 'update_genes_from_gpr', 'update_variable_bounds', 'upper_bound', 'x', 'y']\n"
     ]
    }
   ],
   "source": [
    "print(dir(sample_model.reactions[0]))"
   ]
  },
  {
   "cell_type": "code",
   "execution_count": 145,
   "metadata": {},
   "outputs": [
    {
     "name": "stdout",
     "output_type": "stream",
     "text": [
      "['__add__', '__class__', '__copy__', '__deepcopy__', '__delattr__', '__dict__', '__dir__', '__doc__', '__eq__', '__format__', '__ge__', '__getattribute__', '__getstate__', '__gt__', '__hash__', '__iadd__', '__imul__', '__init__', '__init_subclass__', '__isub__', '__le__', '__lt__', '__module__', '__mul__', '__ne__', '__new__', '__radd__', '__reduce__', '__reduce_ex__', '__repr__', '__setattr__', '__setstate__', '__sizeof__', '__str__', '__sub__', '__subclasshook__', '__weakref__', '_annotation', '_associate_gene', '_check_bounds', '_dissociate_gene', '_genes', '_gpr', '_id', '_lower_bound', '_metabolites', '_model', '_repr_html_', '_set_id_with_model', '_update_awareness', '_upper_bound', 'add_metabolites', 'annotation', 'boundary', 'bounds', 'build_reaction_from_string', 'build_reaction_string', 'check_mass_balance', 'compartments', 'copy', 'delete', 'flux', 'flux_expression', 'forward_variable', 'functional', 'gene_name_reaction_rule', 'gene_reaction_rule', 'genes', 'get_coefficient', 'get_coefficients', 'get_compartments', 'gpr', 'id', 'knock_out', 'lower_bound', 'metabolites', 'model', 'name', 'notes', 'objective_coefficient', 'probability', 'products', 'reactants', 'reaction', 'reduced_cost', 'remove_from_model', 'reverse_id', 'reverse_variable', 'reversibility', 'subsystem', 'subtract_metabolites', 'summary', 'update_genes_from_gpr', 'update_variable_bounds', 'upper_bound', 'x', 'y']\n"
     ]
    }
   ],
   "source": [
    "for rxn in sample_model.reactions:\n",
    "    rxn.probability = 0.5\n",
    "    # print(rxn.probability)\n",
    "\n",
    "print(dir(sample_model.reactions[0]))\n",
    "\n",
    "from cobra.io import save_json_model\n",
    "save_json_model(sample_model, \"probability_attribute_test.json\")"
   ]
  },
  {
   "cell_type": "code",
   "execution_count": 146,
   "metadata": {},
   "outputs": [
    {
     "name": "stdout",
     "output_type": "stream",
     "text": [
      "['__add__', '__class__', '__copy__', '__deepcopy__', '__delattr__', '__dict__', '__dir__', '__doc__', '__eq__', '__format__', '__ge__', '__getattribute__', '__getstate__', '__gt__', '__hash__', '__iadd__', '__imul__', '__init__', '__init_subclass__', '__isub__', '__le__', '__lt__', '__module__', '__mul__', '__ne__', '__new__', '__radd__', '__reduce__', '__reduce_ex__', '__repr__', '__setattr__', '__setstate__', '__sizeof__', '__str__', '__sub__', '__subclasshook__', '__weakref__', '_annotation', '_associate_gene', '_check_bounds', '_dissociate_gene', '_genes', '_gpr', '_id', '_lower_bound', '_metabolites', '_model', '_repr_html_', '_set_id_with_model', '_update_awareness', '_upper_bound', 'add_metabolites', 'annotation', 'boundary', 'bounds', 'build_reaction_from_string', 'build_reaction_string', 'check_mass_balance', 'compartments', 'copy', 'delete', 'flux', 'flux_expression', 'forward_variable', 'functional', 'gene_name_reaction_rule', 'gene_reaction_rule', 'genes', 'get_coefficient', 'get_coefficients', 'get_compartments', 'gpr', 'id', 'knock_out', 'lower_bound', 'metabolites', 'model', 'name', 'notes', 'objective_coefficient', 'products', 'reactants', 'reaction', 'reduced_cost', 'remove_from_model', 'reverse_id', 'reverse_variable', 'reversibility', 'subsystem', 'subtract_metabolites', 'summary', 'update_genes_from_gpr', 'update_variable_bounds', 'upper_bound', 'x', 'y']\n"
     ]
    }
   ],
   "source": [
    "from cobra.io import load_json_model\n",
    "probability_attribute_test = load_json_model(\"probability_attribute_test.json\")\n",
    "print(dir(probability_attribute_test.reactions[0]))"
   ]
  },
  {
   "cell_type": "code",
   "execution_count": null,
   "metadata": {},
   "outputs": [],
   "source": [
    "# from cobra.io import read_sbml_model\n",
    "from cobrakbase.core.kbasefba.fbamodel_from_cobra import CobraModelConverter\n",
    "cobra_prob_test = CobraModelConverter(sample_model).build()\n",
    "print(cobra_prob_test.slim_optimize())"
   ]
  },
  {
   "cell_type": "code",
   "execution_count": 18,
   "metadata": {},
   "outputs": [
    {
     "name": "stdout",
     "output_type": "stream",
     "text": [
      "<Solution 0.000 at 0x13a74be20>\n"
     ]
    }
   ],
   "source": [
    "print(cobra_prob_test.optimize())"
   ]
  },
  {
   "cell_type": "code",
   "execution_count": 27,
   "metadata": {},
   "outputs": [
    {
     "data": {
      "text/plain": [
       "0.25"
      ]
     },
     "execution_count": 27,
     "metadata": {},
     "output_type": "execute_result"
    }
   ],
   "source": [
    "cobra_prob_test.reactions.rxn00006_c0.probability"
   ]
  },
  {
   "cell_type": "code",
   "execution_count": 4,
   "metadata": {},
   "outputs": [
    {
     "name": "stdout",
     "output_type": "stream",
     "text": [
      "['__add__', '__class__', '__copy__', '__deepcopy__', '__delattr__', '__dict__', '__dir__', '__doc__', '__eq__', '__format__', '__ge__', '__getattribute__', '__getstate__', '__gt__', '__hash__', '__iadd__', '__imul__', '__init__', '__init_subclass__', '__isub__', '__le__', '__lt__', '__module__', '__mul__', '__ne__', '__new__', '__radd__', '__reduce__', '__reduce_ex__', '__repr__', '__setattr__', '__setstate__', '__sizeof__', '__str__', '__sub__', '__subclasshook__', '__weakref__', '_annotation', '_associate_gene', '_check_bounds', '_dissociate_gene', '_genes', '_get_dna', '_get_rna', '_gpr', '_id', '_lower_bound', '_metabolites', '_model', '_repr_html_', '_set_dna', '_set_id_with_model', '_set_rna', '_to_json', '_update_awareness', '_upper_bound', 'add_metabolites', 'annotation', 'boundary', 'bounds', 'build_reaction_from_string', 'build_reaction_string', 'cell_wall', 'check_mass_balance', 'cofactor', 'compartments', 'copy', 'delete', 'dna', 'energy', 'flux', 'flux_expression', 'forward_variable', 'from_cobra_reaction', 'from_json', 'functional', 'gene_name_reaction_rule', 'gene_reaction_rule', 'genes', 'get_coefficient', 'get_coefficients', 'get_compartments', 'gpr', 'id', 'knock_out', 'lipid', 'lower_bound', 'metabolite_gap_fill_data', 'metabolites', 'model', 'name', 'notes', 'objective_coefficient', 'other', 'products', 'protein', 'reactants', 'reaction', 'reduced_cost', 'remove_from_model', 'removed_compounds', 'reverse_id', 'reverse_variable', 'reversibility', 'rna', 'subsystem', 'subtract_metabolites', 'summary', 'update_genes_from_gpr', 'update_variable_bounds', 'upper_bound', 'x', 'y']\n",
      "{}\n"
     ]
    }
   ],
   "source": [
    "print(dir(cobra_prob_test.reactions[0]))\n",
    "print(cobra_prob_test.reactions[0].notes)"
   ]
  },
  {
   "cell_type": "code",
   "execution_count": 147,
   "metadata": {},
   "outputs": [
    {
     "name": "stdout",
     "output_type": "stream",
     "text": [
      "<class 'cobra.core.model.Model'>\n"
     ]
    }
   ],
   "source": [
    "print(type(probability_attribute_test))"
   ]
  },
  {
   "cell_type": "code",
   "execution_count": 142,
   "metadata": {},
   "outputs": [
    {
     "ename": "AttributeError",
     "evalue": "'Reaction' object has no attribute 'probability'",
     "output_type": "error",
     "traceback": [
      "\u001b[0;31m---------------------------------------------------------------------------\u001b[0m",
      "\u001b[0;31mAttributeError\u001b[0m                            Traceback (most recent call last)",
      "Cell \u001b[0;32mIn [142], line 3\u001b[0m\n\u001b[1;32m      1\u001b[0m get_ipython()\u001b[39m.\u001b[39mrun_line_magic(\u001b[39m'\u001b[39m\u001b[39mrun\u001b[39m\u001b[39m'\u001b[39m, \u001b[39m'\u001b[39m\u001b[39m../../ModelSEEDpy/modelseedpy/core/msprobability.py\u001b[39m\u001b[39m'\u001b[39m)\n\u001b[0;32m----> 3\u001b[0m MSProbability\u001b[39m.\u001b[39mapply_threshold(sample_model, \u001b[39m0.5\u001b[39m)\n",
      "File \u001b[0;32m/Users/afreiburger/Documents/ModelSEEDpy/modelseedpy/core/msprobability.py:78\u001b[0m, in \u001b[0;36mMSProbability.apply_threshold\u001b[0;34m(model, threshold)\u001b[0m\n\u001b[1;32m     75\u001b[0m \u001b[39m@staticmethod\u001b[39m\n\u001b[1;32m     76\u001b[0m \u001b[39mdef\u001b[39;00m \u001b[39mapply_threshold\u001b[39m(model, threshold\u001b[39m=\u001b[39m\u001b[39m0.5\u001b[39m):\n\u001b[1;32m     77\u001b[0m     \u001b[39mfor\u001b[39;00m rxn \u001b[39min\u001b[39;00m model\u001b[39m.\u001b[39mreactions:\n\u001b[0;32m---> 78\u001b[0m         \u001b[39mif\u001b[39;00m rxn\u001b[39m.\u001b[39;49mprobability \u001b[39m<\u001b[39m threshold:\n\u001b[1;32m     79\u001b[0m             rxn\u001b[39m.\u001b[39mlower_bound \u001b[39m=\u001b[39m rxn\u001b[39m.\u001b[39mupper_bound \u001b[39m=\u001b[39m \u001b[39m0\u001b[39m\n\u001b[1;32m     80\u001b[0m     \u001b[39mreturn\u001b[39;00m model\n",
      "\u001b[0;31mAttributeError\u001b[0m: 'Reaction' object has no attribute 'probability'"
     ]
    }
   ],
   "source": [
    "%run ../../ModelSEEDpy/modelseedpy/core/msprobability.py\n",
    "\n",
    "\n",
    "MSProbability.apply_threshold(sample_model, 0.5)"
   ]
  },
  {
   "cell_type": "markdown",
   "metadata": {},
   "source": [
    "# Counting reactions within each clade"
   ]
  },
  {
   "cell_type": "code",
   "execution_count": 33,
   "metadata": {},
   "outputs": [
    {
     "name": "stdout",
     "output_type": "stream",
     "text": [
      "('Planktophila', <cobrakbase.kbaseapi.KBaseAPI object at 0x000002040D7C1D00>, ['165689/774/1', '165689/5717/2', '165689/1479/1', '165689/3293/1', '165689/4832/2', '165689/5739/2', '165689/3152/1', '165689/4598/2', '165689/6846/4', '165689/7443/4', '165689/719/1', '165689/282/1', '165689/5732/2', '165689/977/1', '165689/1485/1', '165689/7152/4', '165689/1709/1', '165689/1083/1', '165689/100/1', '165689/1762/1', '165689/1212/1', '165689/1302/1', '165689/2660/1', '165689/4776/2', '165689/3183/1', '165689/2547/1', '165689/6842/4', '165689/559/1', '165689/1665/1', '165689/7131/4', '165689/5061/2', '165689/1771/1', '165689/4269/1', '165689/3339/1', '165689/3312/1', '165689/4372/2', '165689/6416/2', '165689/7115/4', '165689/4728/2', '165689/4506/2', '165689/5461/2', '165689/4524/2', '165689/1071/1', '165689/7029/4', '165689/5075/2', '165689/1848/1', '165689/7620/4', '165689/2042/1', '165689/2107/1', '165689/698/1', '165689/1767/1', '165689/502/1', '165689/6257/2', '165689/7272/4', '165689/7434/4', '165689/5428/2', '165689/6162/2', '165689/6830/4', '165689/957/1', '165689/5069/2', '165689/3752/1', '165689/1147/1', '165689/577/1', '165689/799/1', '165689/4328/1', '165689/6310/2', '165689/3776/1', '165689/4938/2', '165689/1043/1', '165689/7080/4', '165689/7467/4', '165689/7589/4', '165689/2813/1', '165689/6290/2', '165689/5576/2', '165689/5850/2', '165689/7420/4', '165689/6237/2', '165689/6360/2', '165689/5212/2', '165689/4003/1', '165689/1055/1', '165689/3682/1', '165689/5079/2', '165689/322/1', '165689/5573/2', '165689/1304/1', '165689/6482/2', '165689/1785/1', '165689/1961/1', '165689/5306/2', '165689/1027/1', '165689/2748/1', '165689/5318/2', '165689/1801/1', '165689/31/1', '165689/2416/1', '165689/5242/2', '165689/6172/2', '165689/5495/2', '165689/7240/4', '165689/6973/4', '165689/4128/1', '165689/566/1', '165689/5542/2', '165689/5819/2', '165689/7354/4', '165689/3018/1', '165689/2946/1', '165689/5623/2', '165689/5960/2', '165689/246/1', '165689/430/1', '165689/3246/1', '165689/3337/1', '165689/3036/1', '165689/1287/1', '165689/6818/4', '165689/4124/1', '165689/1834/1', '165689/3607/1', '165689/2999/1'])\n"
     ]
    },
    {
     "data": {
      "text/plain": [
       "[None, None, None, None, None, None]"
      ]
     },
     "execution_count": 33,
     "metadata": {},
     "output_type": "execute_result"
    }
   ],
   "source": [
    "def rxnFreq(args):\n",
    "    from cobra.io import read_sbml_model\n",
    "    from json import dump\n",
    "    clade_name, kbase_api, modelIDs = args\n",
    "    reaction_counts = {}\n",
    "    for modelID in modelIDs:\n",
    "        # try:\n",
    "        #     if not path.exists(f\"reaction_counts_per_asv/{asv}.json\") or path.getmtime(f\"reaction_counts_per_asv/{asv}.json\") < 1704337200:\n",
    "        model = kbase_api.get_from_ws(modelID)\n",
    "        for rxn in model.reactions:\n",
    "            if rxn.id in reaction_counts:   reaction_counts[rxn.id] += 1\n",
    "            else:   reaction_counts[rxn.id] = 1\n",
    "                # print(model.id)\n",
    "        #     else:   return\n",
    "        # except Exception as e:  pass\n",
    "            # print(\"broken\", e, gcf, modelID)\n",
    "            # broken_model_gcfs.append(gcf)\n",
    "    if reaction_counts == {}:  return\n",
    "    reaction_counts = {rxnID:(count/len(modelIDs)) for rxnID,count in reaction_counts.items()}\n",
    "    reaction_counts[\"numMembers\"] = len(modelIDs)\n",
    "    with open(f\"reaction_counts/{clade_name}.json\", \"w\") as jsonOut:   dump(reaction_counts, jsonOut, indent=3)\n",
    "\n",
    "\n",
    "# from numpy import load\n",
    "# broken_models = set(load(\"broken_models.npy\"))\n",
    "# print(broken_models)\n",
    "\n",
    "from multiprocess import Pool\n",
    "pool = Pool(24)\n",
    "args = [(clade_name, kbase_api, [name_to_id[name] for name in model_names]) for clade_name, model_names in clades_models.items()]\n",
    "print(args[0])\n",
    "pool.map(rxnFreq, args)"
   ]
  },
  {
   "cell_type": "markdown",
   "metadata": {},
   "source": [
    "# building the clade models"
   ]
  },
  {
   "cell_type": "code",
   "execution_count": 24,
   "metadata": {},
   "outputs": [],
   "source": [
    "import os\n",
    "os.environ[\"HOME\"] = \"/Users/afreiburger/Documents/cobrakbase/\" # os.path.join('C:', 'Users', 'Andrew Freiburger','Documents','Argonne','cobrakbase')\n",
    "import cobrakbase\n",
    "with open(\"D:/Users/Andrew Freiburger/Documents/Argonne/kbase_token.txt\") as token_file:\n",
    "# with open(\"/Users/afreiburger/Documents/kbase_token.txt\") as token_file:\n",
    "    kbase_api = cobrakbase.KBaseAPI(token_file.readline())"
   ]
  },
  {
   "cell_type": "code",
   "execution_count": 20,
   "metadata": {},
   "outputs": [],
   "source": [
    "from json import dump\n",
    "\n",
    "with open(\"clade_models.json\", 'w') as jsonOut:\n",
    "    dump(clades_models, jsonOut, indent=3)"
   ]
  },
  {
   "cell_type": "code",
   "execution_count": null,
   "metadata": {},
   "outputs": [],
   "source": [
    "%run ../../ModelSEED/ModelSEEDpy/modelseedpy/core/msprobability.py\n",
    "\n",
    "mapped_clades_models = {clade_name: [name_to_id[model] for model in models] for clade_name, models in clades_models.items()}\n",
    "megaModels = MSProbability.megaModel(mapped_clades_models, kbase_api, \"reaction_counts\", \"numMembers\") #, \"Pirellula_B.json\")"
   ]
  },
  {
   "cell_type": "code",
   "execution_count": null,
   "metadata": {},
   "outputs": [],
   "source": []
  }
 ],
 "metadata": {
  "kernelspec": {
   "display_name": "Python 3",
   "language": "python",
   "name": "python3"
  },
  "language_info": {
   "codemirror_mode": {
    "name": "ipython",
    "version": 3
   },
   "file_extension": ".py",
   "mimetype": "text/x-python",
   "name": "python",
   "nbconvert_exporter": "python",
   "pygments_lexer": "ipython3",
   "version": "3.9.12"
  },
  "orig_nbformat": 4,
  "vscode": {
   "interpreter": {
    "hash": "31f2aee4e71d21fbe5cf8b01ff0e069b9275f58929596ceb00d14d90e3e16cd6"
   }
  }
 },
 "nbformat": 4,
 "nbformat_minor": 2
}
