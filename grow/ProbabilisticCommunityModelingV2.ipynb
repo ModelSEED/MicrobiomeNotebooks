{
 "cells": [
  {
   "cell_type": "markdown",
   "metadata": {},
   "source": [
    "# Configure KBase Jupyter Dev Environment"
   ]
  },
  {
   "cell_type": "code",
   "execution_count": 1,
   "metadata": {
    "tags": []
   },
   "outputs": [
    {
     "name": "stdout",
     "output_type": "stream",
     "text": [
      "python version 3.10.12\n",
      "KBBaseModules 0.0.1\n",
      "modelseedpy 0.3.3\n",
      "cobrakbase 0.3.1\n",
      "Output files printed to:/scratch/chenry/MicrobiomeNotebooks/grow/nboutput when using KBDevUtils.output_dir\n",
      "ModelSEED: /scratch/shared//sdkmount/kb_sdk_home/run_local/workdir/tmp/\n"
     ]
    }
   ],
   "source": [
    "%run probcommutil.py\n",
    "logger = logging.getLogger(__name__)\n",
    "logger.setLevel(logging.INFO)"
   ]
  },
  {
   "cell_type": "markdown",
   "metadata": {
    "tags": []
   },
   "source": [
    "# Loading Clade Mapping Data"
   ]
  },
  {
   "cell_type": "code",
   "execution_count": 2,
   "metadata": {
    "tags": []
   },
   "outputs": [],
   "source": [
    "from pandas import read_excel\n",
    "mag_taxa = read_excel(\"MAGs_toKBase_formodels.xlsx\")\n",
    "genera_to_track = [\"Planktophila\", \"Methylopumilus\", \"Polynucleobacter\", \"Pirellula_B\", \"UBA3064\", \"UBA954\"]\n",
    "clade_mag_mapping = {\"other\":[]}\n",
    "for index, row in mag_taxa.iterrows():\n",
    "    if not isinstance(row[\"classification\"], str):  continue\n",
    "    found = False\n",
    "    for genus in genera_to_track:\n",
    "        if genus not in clade_mag_mapping:\n",
    "            clade_mag_mapping[genus] = []\n",
    "        if genus in row[\"classification\"]:\n",
    "            clade_mag_mapping[genus].append(row[\"user_genome\"])\n",
    "            found = True\n",
    "            break\n",
    "    if not found:\n",
    "        clade_mag_mapping[\"other\"].append(row[\"user_genome\"])\n",
    "util.kbdevutil.save(\"clade_mag_mapping\", clade_mag_mapping)\n"
   ]
  },
  {
   "cell_type": "markdown",
   "metadata": {
    "jp-MarkdownHeadingCollapsed": true,
    "tags": []
   },
   "source": [
    "# Pulling genomes and getting functions hash from all genomes"
   ]
  },
  {
   "cell_type": "code",
   "execution_count": 14,
   "metadata": {
    "tags": []
   },
   "outputs": [
    {
     "name": "stdout",
     "output_type": "stream",
     "text": [
      "All 3825\n",
      "Primary 2093\n"
     ]
    }
   ],
   "source": [
    "clade_mag_mapping = util.kbdevutil.load(\"clade_mag_mapping\")\n",
    "mag_list = {}\n",
    "mag_refs = {}\n",
    "primary_mags = util.msrecon.kbase_api.list_objects(106947, object_type=\"KBaseGenomes.Genome\")\n",
    "for mag in primary_mags:\n",
    "    if mag[1][-5:] == \".RAST\":\n",
    "        name = mag[1][0:-5]\n",
    "        mag_refs[name] = mag\n",
    "        mag_list[name] = \"primary\"\n",
    "other_mags = util.msrecon.kbase_api.list_objects(145226, object_type=\"KBaseGenomes.Genome\")\n",
    "for mag in other_mags:\n",
    "    if mag[1][-5:] == \".RAST\":\n",
    "        name = mag[1][0:-5]\n",
    "        if name not in mag_refs:\n",
    "            mag_refs[name] = mag\n",
    "            mag_list[name] = \"secondary\"\n",
    "#Checking if mag is missing\n",
    "allcount = 0\n",
    "primcount = 0\n",
    "for clade in clade_mag_mapping:\n",
    "    for mag in clade_mag_mapping[clade]:\n",
    "        allcount += 1\n",
    "        newmag = mag.replace(\".\",\"_\")+\"_mag\"\n",
    "        if newmag in mag_refs:\n",
    "            primcount += 1\n",
    "            mag_refs[mag] = mag_refs[newmag]\n",
    "        elif mag not in mag_refs:\n",
    "            print(\"Missing mag: \", mag)\n",
    "util.kbdevutil.save(\"mag_refs\", mag_refs)\n",
    "util.kbdevutil.save(\"mag_list\", mag_list)\n",
    "print(\"All\",allcount)\n",
    "print(\"Primary\",primcount)"
   ]
  },
  {
   "cell_type": "markdown",
   "metadata": {
    "jp-MarkdownHeadingCollapsed": true,
    "tags": []
   },
   "source": [
    "# Creating clade genomes and computing function probabilities"
   ]
  },
  {
   "cell_type": "code",
   "execution_count": 15,
   "metadata": {
    "tags": []
   },
   "outputs": [],
   "source": [
    "#Downloading genomes for each mag to make clade genome construction faster\n",
    "clade_mag_mapping = util.kbdevutil.load(\"clade_mag_mapping\")\n",
    "mag_refs = util.kbdevutil.load(\"mag_refs\")\n",
    "for clade in clade_mag_mapping:\n",
    "    for mag in clade_mag_mapping[clade]:\n",
    "        if mag in mag_refs:\n",
    "            ref = mag_refs[mag]\n",
    "            genome = util.msrecon.kbase_api.get_object(ref[1],ref[6])\n",
    "            util.kbdevutil.save(mag,genome)"
   ]
  },
  {
   "cell_type": "code",
   "execution_count": 16,
   "metadata": {
    "tags": []
   },
   "outputs": [],
   "source": [
    "#Now building clade genome objects and saving to file (will be loaded to KBase)\n",
    "from cobrakbase.core.kbasegenome.genome import KBaseGenome\n",
    "clade_mag_mapping = util.kbdevutil.load(\"clade_mag_mapping\")\n",
    "mag_refs = util.kbdevutil.load(\"mag_refs\")\n",
    "functions = {}\n",
    "features = {}\n",
    "feature_aliases = {}\n",
    "feature_probabilities = {}\n",
    "for clade in clade_mag_mapping:\n",
    "    #Loading template genome\n",
    "    with open(\"TemplateGenome.json\", 'r') as f:\n",
    "        template_genome = json.load(f)\n",
    "    #Setting metadata\n",
    "    template_genome[\"dna_size\"] = 0\n",
    "    template_genome[\"gc_content\"] = 0.5\n",
    "    template_genome[\"id\"] = \"GROW_\"+clade\n",
    "    template_genome[\"contig_ids\"] = []\n",
    "    template_genome[\"contig_lengths\"] = []\n",
    "    template_genome[\"num_contigs\"] = 0\n",
    "    template_genome[\"ontologies_present\"] = {}\n",
    "    template_genome[\"ontology_events\"] = []\n",
    "    template_genome[\"source\"] = \"GROW\"\n",
    "    template_genome[\"warnings\"] = [\"Artificial genome created to support clade modeling\"]\n",
    "    template_genome[\"features\"] = []\n",
    "    template_genome[\"cdss\"] = []\n",
    "    template_genome[\"source_id\"] = \"GROW\"\n",
    "    template_genome[\"molecule_type\"] = \"CladeGenome\"\n",
    "    template_genome[\"domain\"] = \"Bacteria\"\n",
    "    md5_list = []\n",
    "    if clade not in functions:\n",
    "        functions[clade] = {}\n",
    "    for mag in clade_mag_mapping[clade]:\n",
    "        if mag in mag_refs:\n",
    "            ref = mag_refs[mag]\n",
    "            genome = util.kbdevutil.load(mag)\n",
    "            genome_functions = {}\n",
    "            for ftr in genome[\"features\"]:\n",
    "                if \"functions\" in ftr:\n",
    "                    for function in ftr[\"functions\"]:\n",
    "                        if function not in functions[clade]:\n",
    "                            ftrid = clade+\"_\"+str(len(template_genome[\"contig_ids\"])+1)\n",
    "                            template_genome[\"contig_ids\"].append(ftrid+\".contig\")\n",
    "                            template_genome[\"contig_lengths\"].append(len(ftr[\"dna_sequence\"]))\n",
    "                            template_genome[\"num_contigs\"] += 1\n",
    "                            template_genome[\"dna_size\"] += len(ftr[\"dna_sequence\"])\n",
    "                            result = hashlib.md5(ftr[\"protein_translation\"].encode())\n",
    "                            md5 = result.hexdigest()\n",
    "                            result = hashlib.md5(ftr[\"dna_sequence\"].encode())\n",
    "                            dnamd5 = result.hexdigest()\n",
    "                            md5_list.append(md5)\n",
    "                            functions[clade][function] = {\"ftrid\":ftrid, \"probability\":1}\n",
    "                            features[ftrid] = {\n",
    "                                \"aliases\": [],\n",
    "                                \"cdss\": [\n",
    "                                    ftrid+\".CDS\"\n",
    "                                ],\n",
    "                                \"functions\":[function],\n",
    "                                \"dna_sequence\": ftr[\"dna_sequence\"],\n",
    "                                \"dna_sequence_length\": len(ftr[\"dna_sequence\"]),\n",
    "                                \"id\": ftrid,\n",
    "                                \"location\": [\n",
    "                                    [\n",
    "                                        ftrid+\".contig\",\n",
    "                                        1,\n",
    "                                        \"+\",\n",
    "                                        len(ftr[\"dna_sequence\"])\n",
    "                                    ]\n",
    "                                ],\n",
    "                                \"md5\": dnamd5,\n",
    "                                \"ontology_terms\": {},\n",
    "                                \"protein_md5\": md5,\n",
    "                                \"protein_translation\": ftr[\"protein_translation\"],\n",
    "                                \"protein_translation_length\": len(ftr[\"protein_translation\"]),\n",
    "                                \"warnings\": []\n",
    "                            }\n",
    "                            cdsftr = features[ftrid].copy()\n",
    "                            cdsftr[\"id\"] = ftrid+\".CDS\"\n",
    "                            cdsftr[\"parent_gene\"] = ftrid\n",
    "                            if \"aliases\" in ftr and len(ftr[\"aliases\"]) >= 1:\n",
    "                                features[ftrid][\"aliases\"].append([\"gene\",ftr[\"aliases\"][0][1]])\n",
    "                                if ftrid not in feature_aliases:\n",
    "                                    feature_aliases[ftrid] = []\n",
    "                                feature_aliases[ftrid].append([ftr[\"aliases\"][0][1]])\n",
    "                            template_genome[\"features\"].append(features[ftrid])\n",
    "                            template_genome[\"cdss\"].append(cdsftr)\n",
    "                        elif function not in genome_functions:#Don't want to count same function twice in a genome\n",
    "                            ftrid = functions[clade][function][\"ftrid\"]\n",
    "                            functions[clade][function][\"probability\"] += 1\n",
    "                            if \"aliases\" in ftr and len(ftr[\"aliases\"]) >= 1:\n",
    "                                features[ftrid][\"aliases\"].append([\"gene\",ftr[\"aliases\"][0][1]])\n",
    "                                if ftrid not in feature_aliases:\n",
    "                                    feature_aliases[ftrid] = []\n",
    "                                feature_aliases[ftrid].append(ftr[\"aliases\"][0][1])\n",
    "                        genome_functions[function] = True\n",
    "    for func in functions[clade]:\n",
    "        functions[clade][func][\"probability\"] = functions[clade][func][\"probability\"]/len(clade_mag_mapping[clade])\n",
    "        feature_probabilities[functions[clade][func][\"ftrid\"]] = functions[clade][func][\"probability\"]\n",
    "    template_genome[\"feature_counts\"] = {\n",
    "        \"CDS\":len(template_genome[\"features\"]),\n",
    "        \"gene\":len(template_genome[\"features\"]),\n",
    "        \"non_coding_features\":0,\n",
    "        \"protein_encoding_gene\":len(template_genome[\"features\"])\n",
    "    }                    \n",
    "    md5_list.sort()\n",
    "    result = hashlib.md5(\";\".join(md5_list).encode())\n",
    "    template_genome[\"md5\"] = result.hexdigest()\n",
    "    #Writing FASTA\n",
    "    ofile = open(\"Assemblies/\"+clade+\".fasta\", \"w\")\n",
    "    for func in functions[clade]:\n",
    "        ofile.write(\">\" + functions[clade][func][\"ftrid\"] + \"\\n\" +features[functions[clade][func][\"ftrid\"]][\"dna_sequence\"] + \"\\n\")\n",
    "    ofile.close()\n",
    "    #Saving genome\n",
    "    util.kbdevutil.save(clade+\"_genome\", template_genome)\n",
    "util.kbdevutil.save(\"feature_aliases\", feature_aliases)\n",
    "util.kbdevutil.save(\"functions\", functions)\n",
    "util.kbdevutil.save(\"feature_probabilities\", feature_probabilities)"
   ]
  },
  {
   "cell_type": "markdown",
   "metadata": {
    "jp-MarkdownHeadingCollapsed": true,
    "tags": []
   },
   "source": [
    "# Loading assemblies to KBase"
   ]
  },
  {
   "cell_type": "code",
   "execution_count": 11,
   "metadata": {},
   "outputs": [],
   "source": [
    "#Loading clade genome assemblies to KBase using SDK callbacks\n",
    "afu = util.kbdevutil.afu_client()\n",
    "#UBA954.fasta\n",
    "clade_list = [\"other\",\"Planktophila\",\"Methylopumilus\",\"Polynucleobacter\",\"Pirellula_B\",\"UBA3064\"]\n",
    "for clade in clade_list:\n",
    "    params = {\n",
    "        'file': {\n",
    "            'path': '/kb/module/work/tmp/'+clade+\".fasta\"\n",
    "        },\n",
    "        'workspace_id': 174284,\n",
    "        'assembly_name': clade+\".assembly\"\n",
    "    }\n",
    "    result = afu.save_assembly_from_fasta2(params)"
   ]
  },
  {
   "cell_type": "markdown",
   "metadata": {
    "jp-MarkdownHeadingCollapsed": true,
    "tags": []
   },
   "source": [
    "# Saving genomes to KBase"
   ]
  },
  {
   "cell_type": "code",
   "execution_count": 19,
   "metadata": {},
   "outputs": [],
   "source": [
    "#Loading clade genomes to KBase using annotation API, which contains an SDK callback\n",
    "from datetime import datetime\n",
    "now = datetime.now()\n",
    "timestamp = datetime.timestamp(now)\n",
    "clade_list = [\"UBA954\",\"other\",\"Planktophila\",\"Methylopumilus\",\"Polynucleobacter\",\"Pirellula_B\",\"UBA3064\"]\n",
    "anno = util.kbdevutil.anno_client()\n",
    "anno.clients[\"GenomeFileUtil\"] = util.kbdevutil.gfu_client()\n",
    "for clade in clade_list:\n",
    "    genome = util.kbdevutil.load(clade+\"_genome\")\n",
    "    events = [{\n",
    "        \"id\": \"SSO\",\n",
    "        \"event_id\":\"RAST:SSO:\"+str(timestamp),\n",
    "        \"description\": \"RAST annotation of clade genome\",\n",
    "        \"ontology_id\": \"SSO\",\n",
    "        \"method\": \"RAST\",\n",
    "        \"method_version\": \"1.9.5\",\n",
    "        \"timestamp\": str(timestamp),\n",
    "        \"ontology_terms\": {},\n",
    "    }]\n",
    "    for ftr in genome[\"features\"]:\n",
    "        events[0][\"ontology_terms\"][ftr[\"id\"]] = [{\"term\":\"SSO:\"+ftr[\"functions\"][0]}]\n",
    "    output = anno.add_annotation_ontology_events({\n",
    "        \"output_workspace\":174284,\n",
    "        \"events\":events,\n",
    "        \"overwrite_matching\":True,\n",
    "        \"object\":genome,\n",
    "        \"type\":\"KBaseGenomes.Genome\",\n",
    "        \"output_name\":clade+\".genome\",\n",
    "        \"save\":1\n",
    "    })"
   ]
  },
  {
   "cell_type": "markdown",
   "metadata": {
    "jp-MarkdownHeadingCollapsed": true,
    "tags": []
   },
   "source": [
    "# Construct the clade models"
   ]
  },
  {
   "cell_type": "code",
   "execution_count": null,
   "metadata": {},
   "outputs": [],
   "source": [
    "#\"UBA954\",\n",
    "clade_list = [\"other\",\"Planktophila\",\"Methylopumilus\",\"Polynucleobacter\",\"Pirellula_B\",\"UBA3064\"]\n",
    "for clade in clade_list:\n",
    "    util.msrecon.build_metabolic_models({\n",
    "        \"workspace\":174284,\n",
    "        \"genome_refs\":[\"174284/\"+clade+\".genome\"],\n",
    "        \"run_gapfilling\":True,\n",
    "        \"atp_safe\":True,\n",
    "        \"forced_atp_list\":[],\n",
    "        \"gapfilling_media_list\":None,\n",
    "        \"suffix\":\".mdl\",\n",
    "        \"core_template\":\"auto\",\n",
    "        \"gs_template\":\"auto\",\n",
    "        \"gs_template_ref\":None,\n",
    "        \"core_template_ref\":None,\n",
    "        \"template_reactions_only\":True,\n",
    "        \"output_core_models\":False,\n",
    "        \"automated_atp_evaluation\":True,\n",
    "        \"atp_medias\":[],\n",
    "        \"load_default_medias\":True,\n",
    "        \"max_gapfilling\":5,\n",
    "        \"gapfilling_delta\":0,\n",
    "        \"return_model_objects\":False,\n",
    "        \"return_data\":False,\n",
    "        \"save_report_to_kbase\":False,\n",
    "        \"change_to_complete\":False,\n",
    "        \"gapfilling_mode\":\"Cumulative\",\n",
    "        \"base_media\":None,\n",
    "        \"compound_list\":None,\n",
    "        \"base_media_target_element\":\"C\"\n",
    "    })"
   ]
  },
  {
   "cell_type": "markdown",
   "metadata": {
    "jp-MarkdownHeadingCollapsed": true,
    "tags": []
   },
   "source": [
    "# Adding probabilities to clade models"
   ]
  },
  {
   "cell_type": "code",
   "execution_count": null,
   "metadata": {},
   "outputs": [],
   "source": [
    "feature_probabilities = util.kbdevutil.load(\"feature_probabilities\")\n",
    "clade_list = [\"UBA954\",\"other\",\"Planktophila\",\"Methylopumilus\",\"Polynucleobacter\",\"Pirellula_B\",\"UBA3064\"]\n",
    "for clade in clade_list:\n",
    "    mdlutl = util.msrecon.get_model(clade+\".genome.mdl\",174284)\n",
    "    for rxn in mdlutl.model.reactions:\n",
    "        highest_prob = None\n",
    "        for gene in rxn.genes:\n",
    "            if gene.id in feature_probabilities:\n",
    "                if highest_prob == None or feature_probabilities[gene.id] > highest_prob:\n",
    "                    highest_prob = feature_probabilities[gene.id]\n",
    "        if highest_prob != None:\n",
    "            rxn.probability = highest_prob\n",
    "            print(clade,rxn.id, highest_prob)\n",
    "        else:\n",
    "            print(clade,rxn.id, \"No probability\")\n",
    "    util.msrecon.save_model(mdlutl,174284,clade+\".genome.mdl\")"
   ]
  },
  {
   "cell_type": "markdown",
   "metadata": {
    "jp-MarkdownHeadingCollapsed": true,
    "tags": []
   },
   "source": [
    "# Printing genome alias translations"
   ]
  },
  {
   "cell_type": "code",
   "execution_count": 21,
   "metadata": {},
   "outputs": [],
   "source": [
    "clade_list = [\"UBA954\",\"other\",\"Planktophila\",\"Methylopumilus\",\"Polynucleobacter\",\"Pirellula_B\",\"UBA3064\"]\n",
    "grow_to_clade = {}\n",
    "for clade in clade_list:\n",
    "    genome = util.kbdevutil.load(clade+\"_genome\")\n",
    "    for ftr in genome[\"features\"]:\n",
    "        if \"aliases\" in ftr:\n",
    "            for alias in ftr[\"aliases\"]:\n",
    "                grow_to_clade[alias[1]] = [ftr[\"id\"],clade]\n",
    "util.kbdevutil.save(\"grow_to_clade\", grow_to_clade)"
   ]
  },
  {
   "cell_type": "markdown",
   "metadata": {
    "jp-MarkdownHeadingCollapsed": true,
    "tags": []
   },
   "source": [
    "# Translating abundances\n",
    "# DONE - but need to explore other coefficients of \"other\""
   ]
  },
  {
   "cell_type": "code",
   "execution_count": null,
   "metadata": {},
   "outputs": [],
   "source": [
    "clade_mag_mapping = util.kbdevutil.load(\"clade_mag_mapping\")\n",
    "mag_list = util.kbdevutil.load(\"mag_list\")\n",
    "mag_abundances = {}\n",
    "condition_list = []\n",
    "abundance = read_csv(\"MetaT/norm.counts.rpk_edger.bins_mean.csv\")\n",
    "for column_name, series in abundance.iteritems():\n",
    "    if column_name != \"rn\" and column_name != \"Unnamed: 0\":\n",
    "        condition_list.append(column_name)\n",
    "for index, row in abundance.iterrows():\n",
    "    if row[\"rn\"] in mag_list:\n",
    "        if row[\"rn\"] not in mag_abundances:\n",
    "            mag_abundances[row[\"rn\"]] = {}\n",
    "        for condition in condition_list:\n",
    "            if condition in row:\n",
    "                mag_abundances[row[\"rn\"]][condition] = row[condition]\n",
    "    else:\n",
    "        print(\"MAG in abundance mismatches other data: \", row[\"rn\"])\n",
    "#Adding up all abundances for mags in clades\n",
    "clade_abundances = {}\n",
    "for clade in clade_mag_mapping:\n",
    "    clade_abundances[clade] = {}\n",
    "    for mag in clade_mag_mapping[clade]:\n",
    "        if mag in mag_abundances:\n",
    "            for condition in mag_abundances[mag]:\n",
    "                if condition not in clade_abundances[clade]:\n",
    "                    clade_abundances[clade][condition] = 0\n",
    "                clade_abundances[clade][condition] += mag_abundances[mag][condition]\n",
    "        else:\n",
    "            print(\"MAG in clade \",clade,\" not found in abundance data:\", mag)\n",
    "    if clade == \"other\":\n",
    "        for condition in condition_list:\n",
    "            clade_abundances[clade][condition] = 0.001*clade_abundances[clade][condition]\n",
    "#Normalizing\n",
    "for condition in condition_list:\n",
    "    total = 0\n",
    "    for clade in clade_abundances:\n",
    "        total += clade_abundances[clade][condition]\n",
    "    for clade in clade_abundances:\n",
    "        clade_abundances[clade][condition] = clade_abundances[clade][condition]/total\n",
    "util.kbdevutil.save(\"condition_list\", condition_list)\n",
    "util.kbdevutil.save(\"mag_abundances\", mag_abundances)\n",
    "util.kbdevutil.save(\"clade_abundances\", clade_abundances)"
   ]
  },
  {
   "cell_type": "markdown",
   "metadata": {
    "jp-MarkdownHeadingCollapsed": true,
    "tags": []
   },
   "source": [
    "# Translating metagenome expression to clade expression"
   ]
  },
  {
   "cell_type": "code",
   "execution_count": 21,
   "metadata": {},
   "outputs": [],
   "source": [
    "condition_list = util.kbdevutil.load(\"condition_list\")\n",
    "grow_to_clade = util.kbdevutil.load(\"grow_to_clade\")\n",
    "util.extract_metaT_data(\"MetaT-20240116T195841Z-001.zip\")\n",
    "metaT = read_csv(\"MetaT/norm.counts.rpk_edger_geTMM.csv\")\n",
    "clade_list = [\"UBA954\",\"other\",\"Planktophila\",\"Methylopumilus\",\"Polynucleobacter\",\"Pirellula_B\",\"UBA3064\"]\n",
    "clade_records = {}\n",
    "feature_entries = {}\n",
    "for clade in clade_list:\n",
    "    clade_records[clade] = []\n",
    "    feature_entries[clade] = {}\n",
    "for index, row in metaT.iterrows():\n",
    "    geneid = row[\"Unnamed: 0\"]\n",
    "    if geneid in grow_to_clade:\n",
    "        clade = grow_to_clade[geneid][1]\n",
    "        ftrid = grow_to_clade[geneid][0]\n",
    "        if ftrid not in feature_entries[clade]:\n",
    "            feature_entries[clade][ftrid] = {\"id\":ftrid}\n",
    "            clade_records[clade].append(feature_entries[clade][ftrid])\n",
    "        for column_name in condition_list:\n",
    "            if column_name not in feature_entries[clade][ftrid]:\n",
    "                feature_entries[clade][ftrid][column_name] = 0\n",
    "            feature_entries[clade][ftrid][column_name] += row[column_name]\n",
    "for clade in clade_list:\n",
    "    df = DataFrame.from_records(clade_records[clade])\n",
    "    df.to_csv(\"MetaT/\"+clade+\"_expression.csv\")\n",
    "util.kbdevutil.save(\"feature_entries\", feature_entries)"
   ]
  },
  {
   "cell_type": "markdown",
   "metadata": {
    "jp-MarkdownHeadingCollapsed": true,
    "tags": []
   },
   "source": [
    "# Building and saving community model"
   ]
  },
  {
   "cell_type": "code",
   "execution_count": null,
   "metadata": {},
   "outputs": [],
   "source": [
    "import cobra\n",
    "clade_list = [\"Planktophila\",\"Methylopumilus\",\"Polynucleobacter\",\"Pirellula_B\",\"UBA3064\",\"UBA954\",\"other\"]\n",
    "member_models = []\n",
    "template_refs = []\n",
    "genome_refs = []\n",
    "for clade in clade_list:\n",
    "    model = util.msrecon.get_model(clade+\".genome.mdl\",174284)\n",
    "    template_refs.append(model.model.template_ref)\n",
    "    genome_refs.append(model.model.genome_ref)\n",
    "    member_models.append(model.model)\n",
    "comm_model = MSCommunity.build_from_species_models(\n",
    "    member_models,\n",
    "    mdlid=\"GROWCladeCommunityModel\", \n",
    "    name=\"GROWCladeCommunityModel\",\n",
    "    names=clade_list,\n",
    "    abundances=None,\n",
    "    #basemodel=base_model\n",
    ")\n",
    "#Saving probabilities\n",
    "community_rxn_probs = {}\n",
    "for rxn in comm_model.model.reactions:\n",
    "    if hasattr(rxn, \"probability\"):\n",
    "        community_rxn_probs[rxn.id] = rxn.probability\n",
    "util.kbdevutil.save(\"community_rxn_probs\", community_rxn_probs)\n",
    "cobra.io.save_json_model(comm_model.model, 'GROW_community_mdl.json')"
   ]
  },
  {
   "cell_type": "markdown",
   "metadata": {
    "jp-MarkdownHeadingCollapsed": true,
    "tags": []
   },
   "source": [
    "# Creating and saving model with abundances of each sample\\\n",
    "# DONOT RUN - ABUNDANCES NOT CACHED"
   ]
  },
  {
   "cell_type": "code",
   "execution_count": null,
   "metadata": {},
   "outputs": [],
   "source": [
    "clade_list = [\"Planktophila\",\"Methylopumilus\",\"Polynucleobacter\",\"Pirellula_B\",\"UBA3064\",\"UBA954\",\"other\"]\n",
    "clade_abundances = util.kbdevutil.load(\"clade_abundances\")\n",
    "model = util.msrecon.get_model(\"BaseCommunity.mdl\",174284)\n",
    "comm_model = MSCommunity(\n",
    "    model=model,\n",
    "    ids=clade_list,\n",
    "    abundances=None,\n",
    "    kinetic_coeff=800,\n",
    "    lp_filename=None,\n",
    "    printing=False\n",
    ")\n",
    "condition_to_community_model = {}\n",
    "for condition in condition_list:\n",
    "    abundance_hash = {}\n",
    "    for clade in clade_abundances:\n",
    "        if condition in clade_abundances[clade]:\n",
    "            abundance_hash[clade] = clade_abundances[clade][condition]\n",
    "    comm_model.set_abundance()\n",
    "    util.msrecon.save_model(comm_model,174284,condition[0:-32].\".commdl\")\n",
    "    condition_to_community_model[condition] = condition[0:-32]+\".commdl\"\n",
    "util.kbdevutil.save(\"condition_to_community_model\", condition_to_community_model)"
   ]
  },
  {
   "cell_type": "markdown",
   "metadata": {},
   "source": [
    "# Simulating community model in each condition"
   ]
  },
  {
   "cell_type": "code",
   "execution_count": 2,
   "metadata": {
    "tags": []
   },
   "outputs": [
    {
     "name": "stdout",
     "output_type": "stream",
     "text": [
      "Set parameter TSPort to value 27070\n"
     ]
    },
    {
     "name": "stderr",
     "output_type": "stream",
     "text": [
      "1714778302.6406472 INFO: Set parameter TSPort to value 27070\n"
     ]
    },
    {
     "name": "stdout",
     "output_type": "stream",
     "text": [
      "Set parameter TokenServer to value \"lic-vmw-01.cels.anl.gov\"\n"
     ]
    },
    {
     "name": "stderr",
     "output_type": "stream",
     "text": [
      "1714778302.642588 INFO: Set parameter TokenServer to value \"lic-vmw-01.cels.anl.gov\"\n",
      "1714778341.6228905 INFO: Making atp hydrolysis reaction for species: Planktophila\n"
     ]
    },
    {
     "name": "stdout",
     "output_type": "stream",
     "text": [
      "bio1 {<Metabolite cpd11416_c0 at 0x7f8d4ba27370>: 1, <Metabolite cpd11416_c1 at 0x7f8d4bc36ad0>: -0.14285714285714285, <Metabolite cpd11416_c2 at 0x7f8d4bc77ca0>: -0.14285714285714285, <Metabolite cpd11416_c3 at 0x7f8d4bccb4f0>: -0.14285714285714285, <Metabolite cpd11416_c4 at 0x7f8d4bb20af0>: -0.14285714285714285, <Metabolite cpd11416_c5 at 0x7f8d4bb62b90>: -0.14285714285714285, <Metabolite cpd11416_c6 at 0x7f8d4bbb9450>: -0.14285714285714285, <Metabolite cpd11416_c7 at 0x7f8d4ba27340>: -0.14285714285714285}\n",
      "SK_cpd11416_c0 {<Metabolite cpd11416_c0 at 0x7f8d4ba27370>: -1}\n"
     ]
    },
    {
     "name": "stderr",
     "output_type": "stream",
     "text": [
      "1714778342.0525928 INFO: Making atp hydrolysis reaction for species: Methylopumilus\n"
     ]
    },
    {
     "name": "stdout",
     "output_type": "stream",
     "text": [
      "1 Planktophila\n"
     ]
    },
    {
     "name": "stderr",
     "output_type": "stream",
     "text": [
      "1714778342.481237 INFO: Making atp hydrolysis reaction for species: Polynucleobacter\n"
     ]
    },
    {
     "name": "stdout",
     "output_type": "stream",
     "text": [
      "2 Methylopumilus\n"
     ]
    },
    {
     "name": "stderr",
     "output_type": "stream",
     "text": [
      "1714778342.909063 INFO: Making atp hydrolysis reaction for species: Pirellula_B\n"
     ]
    },
    {
     "name": "stdout",
     "output_type": "stream",
     "text": [
      "3 Polynucleobacter\n"
     ]
    },
    {
     "name": "stderr",
     "output_type": "stream",
     "text": [
      "1714778343.9620688 INFO: Making atp hydrolysis reaction for species: UBA3064\n"
     ]
    },
    {
     "name": "stdout",
     "output_type": "stream",
     "text": [
      "4 Pirellula_B\n"
     ]
    },
    {
     "name": "stderr",
     "output_type": "stream",
     "text": [
      "1714778344.4273028 INFO: Making atp hydrolysis reaction for species: UBA954\n"
     ]
    },
    {
     "name": "stdout",
     "output_type": "stream",
     "text": [
      "5 UBA3064\n"
     ]
    },
    {
     "name": "stderr",
     "output_type": "stream",
     "text": [
      "1714778344.879187 INFO: Making atp hydrolysis reaction for species: other\n"
     ]
    },
    {
     "name": "stdout",
     "output_type": "stream",
     "text": [
      "6 UBA954\n",
      "7 other\n",
      "Initial growth: 2.9433957916696314\n",
      "Carbon uptake: 300.0\n",
      "Initial growth: 3.104880348265807\n",
      "Carbon uptake: 300.0\n",
      "Initial growth: 3.2113125143057606\n",
      "Carbon uptake: 300.0\n",
      "Initial growth: 3.007821644252334\n",
      "Carbon uptake: 300.0\n",
      "Initial growth: 2.1146566446197\n",
      "Carbon uptake: 300.0\n",
      "Initial growth: 2.812187340296234\n",
      "Carbon uptake: 300.0\n",
      "Initial growth: 2.7594112624730576\n",
      "Carbon uptake: 300.0\n",
      "Initial growth: 2.2960327254596637\n",
      "Carbon uptake: 300.0\n",
      "Initial growth: 2.9171077216236\n",
      "Carbon uptake: 300.0\n",
      "Initial growth: 2.2204354591623794\n",
      "Carbon uptake: 300.0\n",
      "Initial growth: 2.9382767835467076\n",
      "Carbon uptake: 300.0\n",
      "Initial growth: 2.8484847078553224\n",
      "Carbon uptake: 300.0\n",
      "Initial growth: 2.3328187627360784\n",
      "Carbon uptake: 300.0\n",
      "Initial growth: 2.5004369268712145\n",
      "Carbon uptake: 300.0\n",
      "Initial growth: 3.1063285435560184\n",
      "Carbon uptake: 300.0\n",
      "Initial growth: 2.2505579805881526\n",
      "Carbon uptake: 300.0\n",
      "Initial growth: 2.441305788674203\n",
      "Carbon uptake: 300.0\n",
      "Initial growth: 2.6166013237422856\n",
      "Carbon uptake: 300.0\n",
      "Initial growth: 2.356019325007063\n",
      "Carbon uptake: 300.0\n",
      "Initial growth: 2.265428955386434\n",
      "Carbon uptake: 300.0\n",
      "Initial growth: 2.5386913316338946\n",
      "Carbon uptake: 300.0\n",
      "Initial growth: 2.7420177655840434\n",
      "Carbon uptake: 300.0\n",
      "Initial growth: 2.3056491847830687\n",
      "Carbon uptake: 300.0\n",
      "Initial growth: 2.271591806616166\n",
      "Carbon uptake: 300.0\n",
      "Initial growth: 2.331419088756299\n",
      "Carbon uptake: 300.0\n",
      "Initial growth: 2.24728527967557\n",
      "Carbon uptake: 300.0\n",
      "Initial growth: 3.1424292427807594\n",
      "Carbon uptake: 300.0\n",
      "Initial growth: 2.968665612908778\n",
      "Carbon uptake: 300.0\n",
      "Initial growth: 2.7551397474591406\n",
      "Carbon uptake: 300.0\n",
      "Initial growth: 2.228719679090872\n",
      "Carbon uptake: 300.0\n",
      "Initial growth: 2.274537185534036\n",
      "Carbon uptake: 300.0\n",
      "Initial growth: 2.29343204868889\n",
      "Carbon uptake: 300.0\n",
      "Initial growth: 2.215076276578042\n",
      "Carbon uptake: 300.0\n",
      "Initial growth: 2.826527097882435\n",
      "Carbon uptake: 300.0\n",
      "Initial growth: 3.129362221638695\n",
      "Carbon uptake: 300.0\n",
      "Initial growth: 2.4707447875181727\n",
      "Carbon uptake: 300.0\n",
      "Initial growth: 2.7523798659671823\n",
      "Carbon uptake: 300.0\n",
      "Initial growth: 2.804592597653478\n",
      "Carbon uptake: 300.0\n",
      "Initial growth: 2.9845774080973273\n",
      "Carbon uptake: 300.0\n",
      "Initial growth: 2.447188085089881\n",
      "Carbon uptake: 300.0\n",
      "Initial growth: 2.2384473403362475\n",
      "Carbon uptake: 300.0\n",
      "Initial growth: 3.1272244322428535\n",
      "Carbon uptake: 300.0\n",
      "Initial growth: 2.2632769909818715\n",
      "Carbon uptake: 300.0\n",
      "Initial growth: 2.3149120103864886\n",
      "Carbon uptake: 300.0\n",
      "Initial growth: 3.118873046498321\n",
      "Carbon uptake: 300.0\n",
      "Initial growth: 2.6766699760266675\n",
      "Carbon uptake: 300.0\n",
      "Initial growth: 2.085225637940072\n",
      "Carbon uptake: 300.0\n",
      "Initial growth: 2.599698605344368\n",
      "Carbon uptake: 300.0\n",
      "Initial growth: 2.1982229845545045\n",
      "Carbon uptake: 300.0\n",
      "Initial growth: 3.129435718967368\n",
      "Carbon uptake: 300.0\n",
      "Initial growth: 2.1663155888698293\n",
      "Carbon uptake: 300.0\n",
      "Initial growth: 2.2099719392178465\n",
      "Carbon uptake: 300.0\n",
      "Initial growth: 2.268010883554649\n",
      "Carbon uptake: 300.0\n",
      "Initial growth: 2.220710120824904\n",
      "Carbon uptake: 300.0\n",
      "Initial growth: 3.1274292618642927\n",
      "Carbon uptake: 300.0\n",
      "Initial growth: 2.966584599028208\n",
      "Carbon uptake: 300.0\n",
      "Initial growth: 2.589656594999075\n",
      "Carbon uptake: 300.0\n"
     ]
    },
    {
     "name": "stderr",
     "output_type": "stream",
     "text": [
      "1714780396.9503865 INFO: Making atp hydrolysis reaction for species: Planktophila\n"
     ]
    },
    {
     "name": "stdout",
     "output_type": "stream",
     "text": [
      "bio1 {<Metabolite cpd11416_c0 at 0x7f8d3de576a0>: 1, <Metabolite cpd11416_c1 at 0x7f8d3dbfd4e0>: -0.14285714285714285, <Metabolite cpd11416_c2 at 0x7f8d3ddaf610>: -0.14285714285714285, <Metabolite cpd11416_c3 at 0x7f8d3e778df0>: -0.14285714285714285, <Metabolite cpd11416_c4 at 0x7f8d45896c20>: -0.14285714285714285, <Metabolite cpd11416_c5 at 0x7f8d3fed12d0>: -0.14285714285714285, <Metabolite cpd11416_c6 at 0x7f8d3dd9e980>: -0.14285714285714285, <Metabolite cpd11416_c7 at 0x7f8d3de57610>: -0.14285714285714285}\n",
      "SK_cpd11416_c0 {<Metabolite cpd11416_c0 at 0x7f8d3de576a0>: -1}\n"
     ]
    },
    {
     "name": "stderr",
     "output_type": "stream",
     "text": [
      "1714780397.375996 INFO: Making atp hydrolysis reaction for species: Methylopumilus\n"
     ]
    },
    {
     "name": "stdout",
     "output_type": "stream",
     "text": [
      "1 Planktophila\n"
     ]
    },
    {
     "name": "stderr",
     "output_type": "stream",
     "text": [
      "1714780397.798749 INFO: Making atp hydrolysis reaction for species: Polynucleobacter\n"
     ]
    },
    {
     "name": "stdout",
     "output_type": "stream",
     "text": [
      "2 Methylopumilus\n"
     ]
    },
    {
     "name": "stderr",
     "output_type": "stream",
     "text": [
      "1714780398.2228882 INFO: Making atp hydrolysis reaction for species: Pirellula_B\n"
     ]
    },
    {
     "name": "stdout",
     "output_type": "stream",
     "text": [
      "3 Polynucleobacter\n"
     ]
    },
    {
     "name": "stderr",
     "output_type": "stream",
     "text": [
      "1714780398.647405 INFO: Making atp hydrolysis reaction for species: UBA3064\n"
     ]
    },
    {
     "name": "stdout",
     "output_type": "stream",
     "text": [
      "4 Pirellula_B\n"
     ]
    },
    {
     "name": "stderr",
     "output_type": "stream",
     "text": [
      "1714780399.0796528 INFO: Making atp hydrolysis reaction for species: UBA954\n"
     ]
    },
    {
     "name": "stdout",
     "output_type": "stream",
     "text": [
      "5 UBA3064\n"
     ]
    },
    {
     "name": "stderr",
     "output_type": "stream",
     "text": [
      "1714780399.5055318 INFO: Making atp hydrolysis reaction for species: other\n"
     ]
    },
    {
     "name": "stdout",
     "output_type": "stream",
     "text": [
      "6 UBA954\n",
      "7 other\n",
      "Initial growth: 4.560944717005841\n",
      "Carbon uptake: 300.0\n",
      "Initial growth: 5.389969189869922\n",
      "Carbon uptake: 300.0\n",
      "Initial growth: 6.388159960634201\n",
      "Carbon uptake: 300.0\n",
      "Initial growth: 4.643051296667692\n",
      "Carbon uptake: 300.0\n",
      "Initial growth: 3.050078254532549\n",
      "Carbon uptake: 300.0\n",
      "Initial growth: 4.323314234937697\n",
      "Carbon uptake: 300.0\n",
      "Initial growth: 4.046249211411322\n",
      "Carbon uptake: 300.0\n",
      "Initial growth: 3.268098540128796\n",
      "Carbon uptake: 300.0\n",
      "Initial growth: 4.4279444541475845\n",
      "Carbon uptake: 300.0\n",
      "Initial growth: 3.1083354745447487\n",
      "Carbon uptake: 300.0\n",
      "Initial growth: 4.5439884298667845\n",
      "Carbon uptake: 300.0\n",
      "Initial growth: 4.258554867226384\n",
      "Carbon uptake: 300.0\n",
      "Initial growth: 3.2899707150655613\n",
      "Carbon uptake: 300.0\n",
      "Initial growth: 3.6335303221332302\n",
      "Carbon uptake: 300.0\n",
      "Initial growth: 5.314882971961455\n",
      "Carbon uptake: 300.0\n",
      "Initial growth: 3.2882974780521375\n",
      "Carbon uptake: 300.0\n",
      "Initial growth: 3.5340298388777867\n",
      "Carbon uptake: 300.0\n",
      "Initial growth: 3.8004352961276457\n",
      "Carbon uptake: 300.0\n",
      "Initial growth: 3.2937524201916952\n",
      "Carbon uptake: 300.0\n",
      "Initial growth: 3.327205694956012\n",
      "Carbon uptake: 300.0\n",
      "Initial growth: 3.632266707974093\n",
      "Carbon uptake: 300.0\n",
      "Initial growth: 4.017039920925062\n",
      "Carbon uptake: 300.0\n",
      "Initial growth: 3.287417957863912\n",
      "Carbon uptake: 300.0\n",
      "Initial growth: 3.278356900404513\n",
      "Carbon uptake: 300.0\n",
      "Initial growth: 3.475988579697631\n",
      "Carbon uptake: 300.0\n",
      "Initial growth: 3.296077437977163\n",
      "Carbon uptake: 300.0\n",
      "Initial growth: 5.301194917253619\n",
      "Carbon uptake: 300.0\n",
      "Initial growth: 4.5316493732465615\n",
      "Carbon uptake: 300.0\n",
      "Initial growth: 4.105208621659777\n",
      "Carbon uptake: 300.0\n",
      "Initial growth: 3.152227194434502\n",
      "Carbon uptake: 300.0\n",
      "Initial growth: 3.2443768213518718\n",
      "Carbon uptake: 300.0\n",
      "Initial growth: 3.284395154857375\n",
      "Carbon uptake: 300.0\n",
      "Initial growth: 3.287685754002657\n",
      "Carbon uptake: 300.0\n",
      "Initial growth: 4.3547556429468495\n",
      "Carbon uptake: 300.0\n",
      "Initial growth: 5.005882043006552\n",
      "Carbon uptake: 300.0\n",
      "Initial growth: 3.594882246833636\n",
      "Carbon uptake: 300.0\n",
      "Initial growth: 3.884489109659502\n",
      "Carbon uptake: 300.0\n",
      "Initial growth: 4.229297238375205\n",
      "Carbon uptake: 300.0\n",
      "Initial growth: 4.744029206957713\n",
      "Carbon uptake: 300.0\n",
      "Initial growth: 3.5541010164958617\n",
      "Carbon uptake: 300.0\n",
      "Initial growth: 3.230823049089757\n",
      "Carbon uptake: 300.0\n",
      "Initial growth: 5.675007563151203\n",
      "Carbon uptake: 300.0\n",
      "Initial growth: 3.2362216184299024\n",
      "Carbon uptake: 300.0\n",
      "Initial growth: 3.2951062488226683\n",
      "Carbon uptake: 300.0\n",
      "Initial growth: 5.396030122600023\n",
      "Carbon uptake: 300.0\n",
      "Initial growth: 3.9643466902443394\n",
      "Carbon uptake: 300.0\n",
      "Initial growth: 2.8286813902858814\n",
      "Carbon uptake: 300.0\n",
      "Initial growth: 3.7644130408153664\n",
      "Carbon uptake: 300.0\n",
      "Initial growth: 3.222030227042174\n",
      "Carbon uptake: 300.0\n",
      "Initial growth: 5.229733902488447\n",
      "Carbon uptake: 300.0\n",
      "Initial growth: 2.8984042880067546\n",
      "Carbon uptake: 300.0\n",
      "Initial growth: 3.1383242148350896\n",
      "Carbon uptake: 300.0\n",
      "Initial growth: 3.2712130923776455\n",
      "Carbon uptake: 300.0\n",
      "Initial growth: 3.1620805172676274\n",
      "Carbon uptake: 300.0\n",
      "Initial growth: 5.4348017410942955\n",
      "Carbon uptake: 300.0\n",
      "Initial growth: 4.705275813588324\n",
      "Carbon uptake: 300.0\n",
      "Initial growth: 3.8041737737659593\n",
      "Carbon uptake: 300.0\n"
     ]
    },
    {
     "name": "stderr",
     "output_type": "stream",
     "text": [
      "1714783307.9391172 INFO: Making atp hydrolysis reaction for species: Planktophila\n"
     ]
    },
    {
     "name": "stdout",
     "output_type": "stream",
     "text": [
      "bio1 {<Metabolite cpd11416_c0 at 0x7f8d3e8e4040>: 1, <Metabolite cpd11416_c1 at 0x7f8d45206ef0>: -0.14285714285714285, <Metabolite cpd11416_c2 at 0x7f8d44e558a0>: -0.14285714285714285, <Metabolite cpd11416_c3 at 0x7f8d3f3f4820>: -0.14285714285714285, <Metabolite cpd11416_c4 at 0x7f8d44fa6f20>: -0.14285714285714285, <Metabolite cpd11416_c5 at 0x7f8d3f90a620>: -0.14285714285714285, <Metabolite cpd11416_c6 at 0x7f8d2b5545b0>: -0.14285714285714285, <Metabolite cpd11416_c7 at 0x7f8d3e8e6770>: -0.14285714285714285}\n",
      "SK_cpd11416_c0 {<Metabolite cpd11416_c0 at 0x7f8d3e8e4040>: -1}\n"
     ]
    },
    {
     "name": "stderr",
     "output_type": "stream",
     "text": [
      "1714783308.3624508 INFO: Making atp hydrolysis reaction for species: Methylopumilus\n"
     ]
    },
    {
     "name": "stdout",
     "output_type": "stream",
     "text": [
      "1 Planktophila\n"
     ]
    },
    {
     "name": "stderr",
     "output_type": "stream",
     "text": [
      "1714783308.7819815 INFO: Making atp hydrolysis reaction for species: Polynucleobacter\n"
     ]
    },
    {
     "name": "stdout",
     "output_type": "stream",
     "text": [
      "2 Methylopumilus\n"
     ]
    },
    {
     "name": "stderr",
     "output_type": "stream",
     "text": [
      "1714783309.204856 INFO: Making atp hydrolysis reaction for species: Pirellula_B\n"
     ]
    },
    {
     "name": "stdout",
     "output_type": "stream",
     "text": [
      "3 Polynucleobacter\n"
     ]
    },
    {
     "name": "stderr",
     "output_type": "stream",
     "text": [
      "1714783309.6259859 INFO: Making atp hydrolysis reaction for species: UBA3064\n"
     ]
    },
    {
     "name": "stdout",
     "output_type": "stream",
     "text": [
      "4 Pirellula_B\n"
     ]
    },
    {
     "name": "stderr",
     "output_type": "stream",
     "text": [
      "1714783310.053991 INFO: Making atp hydrolysis reaction for species: UBA954\n"
     ]
    },
    {
     "name": "stdout",
     "output_type": "stream",
     "text": [
      "5 UBA3064\n"
     ]
    },
    {
     "name": "stderr",
     "output_type": "stream",
     "text": [
      "1714783310.4969 INFO: Making atp hydrolysis reaction for species: other\n"
     ]
    },
    {
     "name": "stdout",
     "output_type": "stream",
     "text": [
      "6 UBA954\n",
      "7 other\n",
      "Initial growth: 5.899905005769685\n",
      "Carbon uptake: 300.0\n",
      "Initial growth: 7.420326882767026\n",
      "Carbon uptake: 300.0\n",
      "Initial growth: 8.44526940863228\n",
      "Carbon uptake: 300.0\n",
      "Initial growth: 6.012737342370258\n",
      "Carbon uptake: 300.0\n",
      "Initial growth: 3.927583124742292\n",
      "Carbon uptake: 300.0\n",
      "Initial growth: 5.4682822777469875\n",
      "Carbon uptake: 300.0\n",
      "Initial growth: 5.2141805793808995\n",
      "Carbon uptake: 300.0\n",
      "Initial growth: 4.229851030773385\n",
      "Carbon uptake: 300.0\n",
      "Initial growth: 5.72221951871206\n",
      "Carbon uptake: 300.0\n",
      "Initial growth: 4.015065947102115\n",
      "Carbon uptake: 300.0\n",
      "Initial growth: 5.842542937263233\n",
      "Carbon uptake: 300.0\n",
      "Initial growth: 5.5375594033356315\n",
      "Carbon uptake: 300.0\n",
      "Initial growth: 4.262257555815634\n",
      "Carbon uptake: 300.0\n",
      "Initial growth: 4.700898855877059\n",
      "Carbon uptake: 300.0\n",
      "Initial growth: 7.278012029275242\n",
      "Carbon uptake: 300.0\n",
      "Initial growth: 4.266380889032017\n",
      "Carbon uptake: 300.0\n",
      "Initial growth: 4.5744235745351185\n",
      "Carbon uptake: 300.0\n",
      "Initial growth: 4.879483212416167\n",
      "Carbon uptake: 300.0\n",
      "Initial growth: 4.253696256265373\n",
      "Carbon uptake: 300.0\n",
      "Initial growth: 4.304013559444121\n",
      "Carbon uptake: 300.0\n",
      "Initial growth: 4.69106904521416\n",
      "Carbon uptake: 300.0\n",
      "Initial growth: 5.15728387713922\n",
      "Carbon uptake: 300.0\n",
      "Initial growth: 4.259866777437897\n",
      "Carbon uptake: 300.0\n",
      "Initial growth: 4.234143136819569\n",
      "Carbon uptake: 300.0\n",
      "Initial growth: 4.523713430746461\n",
      "Carbon uptake: 300.0\n",
      "Initial growth: 4.274065371438756\n",
      "Carbon uptake: 300.0\n",
      "Initial growth: 7.250183979957102\n",
      "Carbon uptake: 300.0\n",
      "Initial growth: 5.8630618232344505\n",
      "Carbon uptake: 300.0\n",
      "Initial growth: 5.240883029288253\n",
      "Carbon uptake: 300.0\n",
      "Initial growth: 4.0890528512904964\n",
      "Carbon uptake: 300.0\n",
      "Initial growth: 4.194645025160033\n",
      "Carbon uptake: 300.0\n",
      "Initial growth: 4.244427968708812\n",
      "Carbon uptake: 300.0\n",
      "Initial growth: 4.29351362604386\n",
      "Carbon uptake: 300.0\n",
      "Initial growth: 5.510453263420185\n",
      "Carbon uptake: 300.0\n",
      "Initial growth: 6.752620497439841\n",
      "Carbon uptake: 300.0\n",
      "Initial growth: 4.638998020455416\n",
      "Carbon uptake: 300.0\n",
      "Initial growth: 5.002307132222625\n",
      "Carbon uptake: 300.0\n",
      "Initial growth: 5.405931344595464\n",
      "Carbon uptake: 300.0\n",
      "Initial growth: 6.100399588482204\n",
      "Carbon uptake: 300.0\n",
      "Initial growth: 4.576157114585087\n",
      "Carbon uptake: 300.0\n",
      "Initial growth: 4.177485381774848\n",
      "Carbon uptake: 300.0\n",
      "Initial growth: 8.040176160817317\n",
      "Carbon uptake: 300.0\n",
      "Initial growth: 4.1866290769367716\n",
      "Carbon uptake: 300.0\n",
      "Initial growth: 4.265023108623168\n",
      "Carbon uptake: 300.0\n",
      "Initial growth: 7.527557857214705\n",
      "Carbon uptake: 300.0\n",
      "Initial growth: 5.087922462118982\n",
      "Carbon uptake: 300.0\n",
      "Initial growth: 3.6847716185323605\n",
      "Carbon uptake: 300.0\n",
      "Initial growth: 4.838370295682789\n",
      "Carbon uptake: 300.0\n",
      "Initial growth: 4.160112380357801\n",
      "Carbon uptake: 300.0\n",
      "Initial growth: 7.005008765206339\n",
      "Carbon uptake: 300.0\n",
      "Initial growth: 3.776449524435116\n",
      "Carbon uptake: 300.0\n",
      "Initial growth: 4.068860967407149\n",
      "Carbon uptake: 300.0\n",
      "Initial growth: 4.238972830957437\n",
      "Carbon uptake: 300.0\n",
      "Initial growth: 4.088549667829893\n",
      "Carbon uptake: 300.0\n",
      "Initial growth: 7.501464719548353\n",
      "Carbon uptake: 300.0\n",
      "Initial growth: 5.9877037356690845\n",
      "Carbon uptake: 300.0\n",
      "Initial growth: 4.90630285795909\n",
      "Carbon uptake: 300.0\n"
     ]
    }
   ],
   "source": [
    "from optlang.symbolics import Zero, add\n",
    "import cobra\n",
    "loadedmodel = cobra.io.load_json_model('GROW_community_mdl.json')\n",
    "loadedmodel.solver = 'gurobi'\n",
    "dipeptide_exchanges = [\n",
    "    \"EX_cpd11591_e0\",\n",
    "    \"EX_cpd11589_e0\",\n",
    "    \"EX_cpd15605_e0\",\n",
    "    \"EX_cpd11588_e0\",\n",
    "    \"EX_cpd11583_e0\",\n",
    "    \"EX_cpd11580_e0\",\n",
    "    \"EX_cpd11593_e0\",\n",
    "    \"EX_cpd11585_e0\",\n",
    "    \"EX_cpd11586_e0\",\n",
    "    \"EX_cpd15604_e0\",\n",
    "    \"EX_cpd11581_e0\",\n",
    "    \"EX_cpd01017_e0\",\n",
    "    \"EX_cpd11590_e0\",\n",
    "    \"EX_cpd11592_e0\",\n",
    "    \"EX_cpd11584_e0\",\n",
    "    \"EX_cpd00731_e0\",\n",
    "    \"EX_cpd15603_e0\",\n",
    "    \"EX_cpd11587_e0\",\n",
    "    \"EX_cpd11582_e0\",\n",
    "    \"EX_cpd15606_e0\",\n",
    "    \"EX_cpd03424_e0\",\n",
    "    \"EX_cpd00423_e0\",\n",
    "    \"EX_cpd00080_e0\",\n",
    "    \"EX_cpd02233_e0\",\n",
    "    \"EX_cpd00355_e0\",\n",
    "    \"EX_cpd00235_e0\",\n",
    "    \"EX_cpd00079_e0\",\n",
    "    \"EX_cpd01912_e0\"\n",
    "]\n",
    "clade_list = [\"Planktophila\",\"Methylopumilus\",\"Polynucleobacter\",\"Pirellula_B\",\"UBA3064\",\"UBA954\",\"other\"]\n",
    "community_rxn_probs = util.load(\"community_rxn_probs\")\n",
    "clade_abundances = util.load(\"clade_abundances\")\n",
    "condition_list = util.load(\"condition_list\")\n",
    "feature_entries = util.load(\"feature_entries\")\n",
    "min_prob = 0.05\n",
    "min_expression = 0\n",
    "exp_coef = -100\n",
    "prob_exp = 1\n",
    "ex_weight = 1\n",
    "oxygen_uptake = 10\n",
    "kinetics_coefs = [400,700,1000]\n",
    "clade_expression_hash = {}\n",
    "for kinetics_coef in kinetics_coefs:\n",
    "    output = {\n",
    "        \"kinetics_coef\":kinetics_coef,\n",
    "        \"conditions\":{}\n",
    "    }\n",
    "    model_copy = cobra.io.json.from_json(cobra.io.json.to_json(loadedmodel))\n",
    "    current_comm_model = MSCommunity(\n",
    "        model=model_copy,\n",
    "        names=clade_list\n",
    "    )\n",
    "    mdlutl = current_comm_model.mdlutl\n",
    "    pkgmgr = MSPackageManager.get_pkg_mgr(mdlutl)\n",
    "    media = util.msrecon.get_media(\"KBaseMedia/Complete\")\n",
    "    for condition in condition_list:\n",
    "        clade_expression_hash[condition] = {}\n",
    "        output[\"conditions\"][condition] = {\"solution\":{}}\n",
    "        pkgmgr.getpkg(\"ObjConstPkg\").clear()\n",
    "        #Setting abundances from condition abundance data\n",
    "        abundance_hash = {}\n",
    "        for clade in clade_abundances:\n",
    "            if condition in clade_abundances[clade]:\n",
    "                abundance_hash[clade] = clade_abundances[clade][condition]\n",
    "        current_comm_model.set_abundance(abundance_hash)\n",
    "        #Setting media\n",
    "        pkgmgr.getpkg(\"KBaseMediaPkg\").build_package(media)\n",
    "        #Adding commkinetic constraints\n",
    "        pkgmgr.getpkg(\"CommKineticPkg\").build_package(kinetics_coef, current_comm_model)\n",
    "        #Adding elemental uptake constraints\n",
    "        pkgmgr.getpkg(\"ElementUptakePkg\").build_package({\"C\": 300})\n",
    "        for rxn in loadedmodel.reactions:\n",
    "            if \"EX_\" == rxn.id[0:3]:\n",
    "                currrxn = current_comm_model.model.reactions.get_by_id(rxn.id)\n",
    "                if rxn.id in dipeptide_exchanges:\n",
    "                    currrxn.lower_bound = 0\n",
    "                    currrxn.upper_bound = 0\n",
    "                elif rxn.id == \"EX_cpd00007_e0\":\n",
    "                    currrxn.lower_bound = -1*oxygen_uptake\n",
    "                else:\n",
    "                    if currrxn.lower_bound < 0:\n",
    "                        currrxn.lower_bound = -1000\n",
    "                    if currrxn.upper_bound > 0:\n",
    "                        currrxn.upper_bound = 1000\n",
    "        #Maximize biomass production\n",
    "        #mdlutl.model.objective = \"bio1\"\n",
    "        mdlutl.model.objective = mdlutl.model.problem.Objective(Zero, direction=\"max\")\n",
    "        mdlutl.model.objective.set_linear_coefficients({mdlutl.model.reactions.bio1.forward_variable: 1})\n",
    "        current_comm_model.print_lp(\"Run.lp\")\n",
    "        output[\"conditions\"][condition][\"max_growth\"] = mdlutl.model.slim_optimize()\n",
    "        output[\"conditions\"][condition][\"carbon_uptake\"] = pkgmgr.getpkg(\"ElementUptakePkg\").variables[\"elements\"][\"C\"].primal\n",
    "        print(\"Initial growth:\", output[\"conditions\"][condition][\"max_growth\"])\n",
    "        print(\"Carbon uptake:\",output[\"conditions\"][condition][\"carbon_uptake\"])\n",
    "        if str(output[\"conditions\"][condition][\"max_growth\"]) == \"nan\":\n",
    "            print(\"Skipping condition due to infeasibility\", condition)\n",
    "            continue\n",
    "        #Constraining to 90% of community biomass\n",
    "        pkgmgr.getpkg(\"ObjConstPkg\").clear()\n",
    "        pkgmgr.getpkg(\"ObjConstPkg\").build_package(output[\"conditions\"][condition][\"max_growth\"] * 0.9, None)\n",
    "        #Creating minimal probability objective\n",
    "        coef = {}\n",
    "        for rxn in loadedmodel.reactions:\n",
    "            if \"rxn\" == rxn.id[0:3]:\n",
    "                probability = community_rxn_probs[rxn.id]\n",
    "                currrxn = current_comm_model.model.reactions.get_by_id(rxn.id)\n",
    "                coef.update(\n",
    "                    {\n",
    "                        currrxn.forward_variable: max(\n",
    "                            min_prob, (1 - float(probability) ** prob_exp)\n",
    "                        )\n",
    "                    }\n",
    "                )\n",
    "                coef.update(\n",
    "                    {\n",
    "                        currrxn.reverse_variable: max(\n",
    "                            min_prob, (1 - float(probability) ** prob_exp)\n",
    "                        )\n",
    "                    }\n",
    "                )\n",
    "            elif \"EX_\" == rxn.id[0:3]:\n",
    "                currrxn = current_comm_model.model.reactions.get_by_id(rxn.id)\n",
    "                coef.update({currrxn.forward_variable: ex_weight})\n",
    "                coef.update({currrxn.reverse_variable: ex_weight})\n",
    "        #Adding expression data to minimum probability objective\n",
    "        for clade in feature_entries:\n",
    "            total = 0\n",
    "            for ftr in feature_entries[clade]:\n",
    "                total += feature_entries[clade][ftr][condition]\n",
    "            for ftr in feature_entries[clade]:\n",
    "                feature_entries[clade][ftr][condition] = feature_entries[clade][ftr][condition]/total\n",
    "        filter = {}\n",
    "        for rxn in mdlutl.model.reactions:\n",
    "            highest_exp = 0\n",
    "            for gene in rxn.genes:\n",
    "                array = gene.id.split(\"_\")\n",
    "                array.pop()\n",
    "                clade = \"_\".join(array)\n",
    "                if gene.id in feature_entries[clade] and condition in feature_entries[clade][gene.id]:\n",
    "                    if feature_entries[clade][gene.id][condition] > highest_exp:\n",
    "                        highest_exp = feature_entries[clade][gene.id][condition]\n",
    "                    if feature_entries[clade][gene.id][condition] > 0:\n",
    "                        if clade not in clade_expression_hash[condition]:\n",
    "                            clade_expression_hash[condition][clade] = 0\n",
    "                        clade_expression_hash[condition][clade] += 1\n",
    "            if highest_exp > min_expression and exp_coef != 0:\n",
    "                if rxn.upper_bound > 0:\n",
    "                    coef.update(\n",
    "                        {\n",
    "                            rxn.forward_variable: exp_coef * highest_exp\n",
    "                        }\n",
    "                    )\n",
    "                if rxn.lower_bound < 0:\n",
    "                    coef.update(\n",
    "                        {\n",
    "                            rxn.reverse_variable: exp_coef * highest_exp\n",
    "                        }\n",
    "                    )\n",
    "                if rxn.upper_bound > 0 and rxn.lower_bound < 0:\n",
    "                    filter[rxn.id] = 1\n",
    "        #Setting the objective\n",
    "        if condition == condition_list[0] and exp_coef != 0:\n",
    "            pkgmgr.getpkg(\"RevBinPkg\").build_package(filter=filter)\n",
    "        mdlutl.model.objective = mdlutl.model.problem.Objective(Zero, direction=\"min\")\n",
    "        mdlutl.model.objective.set_linear_coefficients(coef)\n",
    "        with open(\"lp/\"+condition+\".lp\", \"w\") as out:\n",
    "            out.write(str(mdlutl.model.solver))\n",
    "        #Solving the LP\n",
    "        solution = mdlutl.model.optimize()\n",
    "        output[\"conditions\"][condition][\"objective\"] = solution.objective_value\n",
    "        output[\"conditions\"][condition][\"solution\"][rxn.id] = solution.fluxes[rxn.id]\n",
    "        for rxn in mdlutl.model.reactions:\n",
    "            output[\"conditions\"][condition][\"solution\"][rxn.id] = solution.fluxes[rxn.id]\n",
    "    util.save(str(oxygen_uptake)+\"o2_\"+str(kinetics_coef)+\"_\"+str(abs(exp_coef))+\"exp_output\", output)\n",
    "    filename = util.output_dir+\"/\"+str(oxygen_uptake)+\"o2_\"+str(kinetics_coef)+\"_\"+str(abs(exp_coef))+\"exp.csv\"\n",
    "    with open(filename, 'w') as f:\n",
    "        records = [\n",
    "            {\"id\":\"max_growth\"},\n",
    "            {\"id\":\"carbon_uptake\"},\n",
    "            {\"id\":\"objective\"},\n",
    "        ]\n",
    "        rxn_record_hash = {}\n",
    "        for condition in output[\"conditions\"]:\n",
    "            records[0][condition] = output[\"conditions\"][condition][\"max_growth\"]\n",
    "            records[1][condition] = output[\"conditions\"][condition][\"carbon_uptake\"]\n",
    "            records[2][condition] = output[\"conditions\"][condition][\"objective\"]\n",
    "            solution = output[\"conditions\"][condition][\"solution\"]\n",
    "            for rxn in solution:\n",
    "                if rxn not in rxn_record_hash:\n",
    "                    rxn_record_hash[rxn] = {}\n",
    "                    rxn_record_hash[rxn][\"id\"] = rxn\n",
    "                    records.append(rxn_record_hash[rxn])\n",
    "                rxn_record_hash[rxn][condition] = solution[rxn]\n",
    "    df = DataFrame.from_records(records)\n",
    "    df.to_csv(filename)"
   ]
  },
  {
   "cell_type": "code",
   "execution_count": null,
   "metadata": {},
   "outputs": [],
   "source": []
  }
 ],
 "metadata": {
  "kernelspec": {
   "display_name": "COBRA cplex",
   "language": "python",
   "name": "modelseed_cplex"
  },
  "language_info": {
   "codemirror_mode": {
    "name": "ipython",
    "version": 3
   },
   "file_extension": ".py",
   "mimetype": "text/x-python",
   "name": "python",
   "nbconvert_exporter": "python",
   "pygments_lexer": "ipython3",
   "version": "3.10.12"
  }
 },
 "nbformat": 4,
 "nbformat_minor": 4
}
