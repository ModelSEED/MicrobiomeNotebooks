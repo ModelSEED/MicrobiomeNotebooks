{
 "cells": [
  {
   "attachments": {},
   "cell_type": "markdown",
   "metadata": {},
   "source": [
    "# parse clade models from the spreadsheet"
   ]
  },
  {
   "cell_type": "code",
   "execution_count": null,
   "metadata": {},
   "outputs": [],
   "source": [
    "from pandas import read_excel\n",
    "\n",
    "clade_mapping = read_excel(\"MAGs_toKBase_formodels.xlsx\")\n",
    "genera_to_track = [\"Planktophila\", \"Methylopumilus\", \"Polynucleobacter\", \"Pirellula_B\", \"UBA3064\", \"UBA954\"]\n",
    "\n",
    "Planktophila, Methylopumilus, Polynucleobacter, Pirellula_B, UBA3064, UBA954, other = [], [], [], [], [], [], []\n",
    "for index, row in clade_mapping.iterrows():\n",
    "    if not isinstance(row[\"classification\"], str):  continue\n",
    "    if \"Planktophila\" in row[\"classification\"]:  Planktophila.append(row[\"user_genome\"])\n",
    "    elif \"Methylopumilus\" in row[\"classification\"]:  Methylopumilus.append(row[\"user_genome\"])\n",
    "    elif \"Polynucleobacter\" in row[\"classification\"]:  Polynucleobacter.append(row[\"user_genome\"])\n",
    "    elif \"Pirellula_B\" in row[\"classification\"]:  Pirellula_B.append(row[\"user_genome\"])\n",
    "    elif \"UBA3064\" in row[\"classification\"]:  UBA3064.append(row[\"user_genome\"])\n",
    "    elif \"UBA954\" in row[\"classification\"]:  UBA954.append(row[\"user_genome\"])\n",
    "    else:  other.append(row[\"user_genome\"])"
   ]
  },
  {
   "attachments": {},
   "cell_type": "markdown",
   "metadata": {},
   "source": [
    "# loading models from KBase"
   ]
  },
  {
   "cell_type": "code",
   "execution_count": null,
   "metadata": {},
   "outputs": [],
   "source": [
    "import os\n",
    "os.environ[\"HOME\"] = \"/Users/afreiburger/Documents/cobrakbase/\" # os.path.join('C:', 'Users', 'Andrew Freiburger','Documents','Argonne','cobrakbase')\n",
    "import cobrakbase\n",
    "# with open(\"D:/Users/Andrew Freiburger/Documents/Argonne/kbase_token.txt\") as token_file:\n",
    "with open(\"/Users/afreiburger/Documents/kbase_token.txt\") as token_file:\n",
    "    kbase_api = cobrakbase.KBaseAPI(token_file.readline())\n",
    "\n",
    "models = kbase_api.list_objects(165689, object_type=\"KBaseFBA.FBAModel\", include_metadata=False)\n",
    "print(len(models))\n",
    "all_organisms = [ele for ls in [Planktophila, Methylopumilus, Polynucleobacter, Pirellula_B, UBA3064, UBA954] for ele in ls]\n",
    "clades_models = {\"Planktophila\": Planktophila, \"Methylopumilus\": Methylopumilus, \"Polynucleobacter\": Polynucleobacter, \n",
    "                 \"Pirellula_B\": Pirellula_B, \"UBA3064\": UBA3064, \"UBA954\": UBA954}"
   ]
  },
  {
   "attachments": {},
   "cell_type": "markdown",
   "metadata": {},
   "source": [
    "# Build the clade models"
   ]
  },
  {
   "cell_type": "code",
   "execution_count": null,
   "metadata": {},
   "outputs": [],
   "source": [
    "%run ../../ModelSEEDpy/modelseedpy/core/msprobability.py\n",
    "\n",
    "clade_model = MSProbability.megaModel({\"Pirellula_B\": list(Pirellula_B.values())}, kbase_api) #, \"Pirellula_B.json\")"
   ]
  },
  {
   "cell_type": "code",
   "execution_count": null,
   "metadata": {},
   "outputs": [],
   "source": [
    "# from cobra.io import read_sbml_model\n",
    "# sample_model = read_sbml_model(\"reaction_counts/Pirellula_B.xml\")\n",
    "# from cobrakbase.core.kbasefba.fbamodel_from_cobra import CobraModelConverter\n",
    "# cobra_prob_test = CobraModelConverter(sample_model).build()"
   ]
  },
  {
   "cell_type": "code",
   "execution_count": null,
   "metadata": {},
   "outputs": [],
   "source": [
    "%run ../../ModelSEEDpy/modelseedpy/core/msprobability.py\n",
    "\n",
    "MSProbability.apply_threshold(clade_model, 0.5)"
   ]
  },
  {
   "cell_type": "code",
   "execution_count": 8,
   "metadata": {},
   "outputs": [
    {
     "name": "stdout",
     "output_type": "stream",
     "text": [
      "1694631254.0\n",
      "Sep\n",
      "Mon Dec 25 16:16:09 2023\n"
     ]
    }
   ],
   "source": [
    "from os import path\n",
    "from time import ctime\n",
    "\n",
    "print(path.getmtime(\"../AGORA2/Actinomyces_cardiffensis_F0333.xml\"))\n",
    "date = ctime(path.getmtime(\"../AGORA2/Actinomyces_cardiffensis_F0333.xml\"))\n",
    "print(date[4:7])\n",
    "print(ctime(1703542569))"
   ]
  },
  {
   "cell_type": "code",
   "execution_count": null,
   "metadata": {},
   "outputs": [],
   "source": []
  }
 ],
 "metadata": {
  "kernelspec": {
   "display_name": "Python 3",
   "language": "python",
   "name": "python3"
  },
  "language_info": {
   "codemirror_mode": {
    "name": "ipython",
    "version": 3
   },
   "file_extension": ".py",
   "mimetype": "text/x-python",
   "name": "python",
   "nbconvert_exporter": "python",
   "pygments_lexer": "ipython3",
   "version": "3.9.6"
  },
  "orig_nbformat": 4,
  "vscode": {
   "interpreter": {
    "hash": "31f2aee4e71d21fbe5cf8b01ff0e069b9275f58929596ceb00d14d90e3e16cd6"
   }
  }
 },
 "nbformat": 4,
 "nbformat_minor": 2
}
