{
 "cells": [
  {
   "cell_type": "code",
   "execution_count": 7,
   "id": "f4bbcc88",
   "metadata": {},
   "outputs": [
    {
     "name": "stdout",
     "output_type": "stream",
     "text": [
      "40195\n",
      "40195\n"
     ]
    }
   ],
   "source": [
    "from json import load, dump\n",
    "\n",
    "# load and process the Midas taxonomy\n",
    "DADA_taxonomy = load(open(\"../../sludge/DADA2_taxonomy.fa MiDAS 5.3.json\", \"r\"))\n",
    "print(len(DADA_taxonomy))\n",
    "midas_taxonomy = {}\n",
    "for k, v in DADA_taxonomy.items():\n",
    "    midas_taxonomy[v] = {}\n",
    "    taxa = k.split(\";\")\n",
    "    midas_taxonomy[v][\"kingdom\"] = taxa[0]\n",
    "    midas_taxonomy[v][\"phylum\"] = taxa[1]\n",
    "    midas_taxonomy[v][\"class\"] = taxa[2]\n",
    "    midas_taxonomy[v][\"order\"] = taxa[3]\n",
    "    midas_taxonomy[v][\"family\"] = taxa[4]\n",
    "    midas_taxonomy[v][\"genus\"] = taxa[5]\n",
    "    midas_taxonomy[v][\"species\"] = taxa[6]\n",
    "\n",
    "print(len(midas_taxonomy))\n",
    "# export the processed Midas taxonomy\n",
    "dump(midas_taxonomy, open(\"processed_midas_taxonomy.json\", \"w\"), indent=3)"
   ]
  },
  {
   "cell_type": "markdown",
   "id": "d784f9bb",
   "metadata": {},
   "source": [
    "# matching the experimental 16S sequences to the Midas organisms"
   ]
  },
  {
   "cell_type": "code",
   "execution_count": null,
   "id": "4ac25d78",
   "metadata": {},
   "outputs": [],
   "source": [
    "for "
   ]
  },
  {
   "cell_type": "markdown",
   "id": "c13b37dc",
   "metadata": {},
   "source": [
    "# finding RefSeq IDs for these closest organisms"
   ]
  },
  {
   "cell_type": "code",
   "execution_count": null,
   "id": "ae1aab4d",
   "metadata": {},
   "outputs": [],
   "source": [
    "# get the UIDs for all sequences\n",
    "search_url = \"https://eutils.ncbi.nlm.nih.gov/entrez/eutils/esearch.fcgi\"\n",
    "params = {\n",
    "    \"db\": \"assembly\",\n",
    "    \"retmax\": \"100000\",\n",
    "    \"retmode\": \"json\"\n",
    "}\n",
    "\n",
    "def get_uids(taxa):\n",
    "    genus = taxa[\"genus\"].replace(\"_\", \" \").replace(\"Ca\", \"Candidatus\")\n",
    "    species = taxa[\"species\"].replace(\"_\", \" \").replace(\"Ca\", \"Candidatus\")\n",
    "    if \"midas\" in species: params.update({\"term\": f\"{genus}[Organism]\"})\n",
    "    else: params.update({\"term\": f\"{genus}+{species}[Organism]\"})\n",
    "    return requests.get(search_url, params=params).json()[\"esearchresult\"][\"idlist\"]\n",
    "\n",
    "# get the assemblies for all UIDs\n",
    "def get_accessions(batch):\n",
    "    summary_params = {\n",
    "        \"db\": \"assembly\",\n",
    "        \"id\": \",\".join(batch),\n",
    "        \"retmode\": \"json\"\n",
    "    }\n",
    "    summaries = requests.get(summary_url, params=summary_params).json()[\"result\"]\n",
    "    accessions = []\n",
    "    for uid in batch:\n",
    "        record = summaries[uid]\n",
    "        accessions.append({\n",
    "            \"accession\": record[\"assemblyaccession\"],\n",
    "            \"organism\": record[\"organism\"],\n",
    "            \"taxid\": record[\"taxid\"]\n",
    "        })\n",
    "    return accessions\n",
    "\n",
    "from numpy import array_split, ceil\n",
    "from itertools import chain\n",
    "\n",
    "uids = list(chain.from_iterable([get_uids(taxa) for seq, taxa in midas_taxonomy.items()]))\n",
    "num_batches = ceil(len(uids)/500)\n",
    "all_accessions = list(chain.from_iterable([get_accessions(batch) for batch in array_split(uids, num_batches)]))"
   ]
  },
  {
   "cell_type": "code",
   "execution_count": null,
   "id": "bab35ba3",
   "metadata": {},
   "outputs": [],
   "source": []
  },
  {
   "cell_type": "markdown",
   "id": "cd1ef587",
   "metadata": {},
   "source": []
  },
  {
   "cell_type": "code",
   "execution_count": null,
   "id": "931f9747",
   "metadata": {},
   "outputs": [],
   "source": []
  }
 ],
 "metadata": {
  "kernelspec": {
   "display_name": "microbiome_stable",
   "language": "python",
   "name": "microbiome_stable"
  },
  "language_info": {
   "codemirror_mode": {
    "name": "ipython",
    "version": 3
   },
   "file_extension": ".py",
   "mimetype": "text/x-python",
   "name": "python",
   "nbconvert_exporter": "python",
   "pygments_lexer": "ipython3",
   "version": "3.11.13"
  }
 },
 "nbformat": 4,
 "nbformat_minor": 5
}
